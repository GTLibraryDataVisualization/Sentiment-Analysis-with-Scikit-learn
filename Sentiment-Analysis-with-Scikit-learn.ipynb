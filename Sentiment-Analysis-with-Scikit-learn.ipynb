{
 "cells": [
  {
   "cell_type": "markdown",
   "id": "53535203-cb2f-4275-98e5-1f2889bf8b69",
   "metadata": {
    "jp-MarkdownHeadingCollapsed": true,
    "tags": []
   },
   "source": []
  },
  {
   "cell_type": "code",
   "execution_count": null,
   "id": "0518cdec-dc5d-436a-9406-2d683e257966",
   "metadata": {},
   "outputs": [],
   "source": []
  },
  {
   "cell_type": "markdown",
   "id": "aa7b5f8a-8769-4e46-944c-1c7f7879e482",
   "metadata": {},
   "source": [
    "## Outline\n",
    "\n",
    "1. Introduction\n",
    "\n",
    "2. Preprocessing Yelp Data\n",
    "\n",
    "3. Building a Sentiment Classifier\n",
    "\n",
    "4. Analyzing Sentiment of Yelp Reviews\n",
    "\n",
    "5. Sentiment Analysis Use Cases\n",
    "\n",
    "6. Key Takeaways"
   ]
  },
  {
   "cell_type": "markdown",
   "id": "9609ebdb-614f-414c-9ab6-33ee56e68e00",
   "metadata": {},
   "source": [
    "# Introduction"
   ]
  },
  {
   "cell_type": "markdown",
   "id": "ea7c04b8-5ae0-4e6f-a84a-354985d4d975",
   "metadata": {},
   "source": [
    "## Sentiment Analysis\n",
    "\n",
    "Sentiment analysis is a technique used in natural language processing (NLP) to identify and extract subjective information from text, such as opinions, attitudes, emotions, and feelings. Yelp is a platform where users can post reviews about businesses, products, and services. Therefore, analyzing Yelp data can provide valuable insights into customers' sentiments towards a particular business or product.\n"
   ]
  },
  {
   "cell_type": "markdown",
   "id": "951db55c-ed5e-4d82-b4be-135f6a01671d",
   "metadata": {},
   "source": [
    "## Objectives\n",
    "\n",
    "1. Collect and pre-process data from Yelp reviews of restaurants.\n",
    "2. Perform sentiment analysis on the reviews to determine the overall sentiment towards the restaurants.\n",
    "3. Train a machine learning model using scikit-learn to predict the review scores of restaurants.\n",
    "4. Identify the strengths and weaknesses of the machine learning model and suggest areas for improvement."
   ]
  },
  {
   "cell_type": "markdown",
   "id": "f1b151c6-253e-4544-9fcc-cd9e5f637de7",
   "metadata": {},
   "source": [
    "## Sample of dataset\n",
    "\n",
    "The data for this project will be collected from the Yelp API. The data will be pre-processed to remove any irrelevant information and to ensure that only the relevant information is used in the analysis.\n",
    "\n",
    "All data set can be accessed and downloaded from Yelp Open Data Set [https://www.yelp.com/dataset/download]."
   ]
  },
  {
   "cell_type": "code",
   "execution_count": 124,
   "id": "84260af5-b0fa-4e26-b9b2-3cd43ae7a27e",
   "metadata": {},
   "outputs": [],
   "source": [
    "# IMPORTING ALL THE NECESSARY LIBRARIES AND PACKAGES\n",
    "# Using the Natural Language Processing (NLP) library, nltk\n",
    "import pandas as pd\n",
    "import numpy as np\n",
    "import matplotlib.pyplot as plt\n",
    "import seaborn as sns\n",
    "import nltk\n",
    "from nltk.corpus import stopwords\n",
    "import string\n",
    "import math\n",
    "from sklearn.feature_extraction.text import CountVectorizer\n",
    "from sklearn.model_selection import train_test_split, cross_val_score\n",
    "from sklearn.metrics import classification_report\n",
    "from sklearn.metrics import confusion_matrix, accuracy_score, roc_auc_score, roc_curve\n",
    "from sklearn.model_selection import GridSearchCV\n",
    "%matplotlib inline"
   ]
  },
  {
   "cell_type": "code",
   "execution_count": 125,
   "id": "5051a45d-1867-44be-bb1e-7e46750b43ad",
   "metadata": {},
   "outputs": [],
   "source": [
    "# LOADING THE DATASET AND SEEING THE DETAILS\n",
    "data = pd.read_csv('https://raw.githubusercontent.com/cynthialmy/DataVizLab/main/yelp_dataset/yelp.csv')"
   ]
  },
  {
   "cell_type": "code",
   "execution_count": 126,
   "id": "38be147e-2425-439a-bd7b-fb5ff71f0c0d",
   "metadata": {},
   "outputs": [
    {
     "name": "stdout",
     "output_type": "stream",
     "text": [
      "Shape of the dataset:\n",
      "(10000, 10)\n"
     ]
    }
   ],
   "source": [
    "# SHAPE OF THE DATASET\n",
    "print(\"Shape of the dataset:\")\n",
    "print(data.shape)\n"
   ]
  },
  {
   "cell_type": "code",
   "execution_count": 127,
   "id": "be3e740c-e0c9-4a98-b706-b3b704f15e7a",
   "metadata": {},
   "outputs": [
    {
     "name": "stdout",
     "output_type": "stream",
     "text": [
      "Column names:\n",
      "Index(['business_id', 'date', 'review_id', 'stars', 'text', 'type', 'user_id',\n",
      "       'cool', 'useful', 'funny'],\n",
      "      dtype='object')\n"
     ]
    }
   ],
   "source": [
    "# COLUMN NAMES\n",
    "print(\"Column names:\")\n",
    "print(data.columns)\n"
   ]
  },
  {
   "cell_type": "code",
   "execution_count": 128,
   "id": "8a258bd8-aea9-4969-827d-f8271ba56d9f",
   "metadata": {},
   "outputs": [
    {
     "name": "stdout",
     "output_type": "stream",
     "text": [
      "Datatype of each column:\n",
      "business_id    object\n",
      "date           object\n",
      "review_id      object\n",
      "stars           int64\n",
      "text           object\n",
      "type           object\n",
      "user_id        object\n",
      "cool            int64\n",
      "useful          int64\n",
      "funny           int64\n",
      "dtype: object\n"
     ]
    }
   ],
   "source": [
    "# DATATYPE OF EACH COLUMN\n",
    "print(\"Datatype of each column:\")\n",
    "print(data.dtypes)\n"
   ]
  },
  {
   "cell_type": "code",
   "execution_count": 129,
   "id": "f21d0064-2f57-4e7f-857c-82c636b27918",
   "metadata": {},
   "outputs": [
    {
     "name": "stdout",
     "output_type": "stream",
     "text": [
      "Few dataset entries:\n",
      "              business_id        date               review_id  stars  \\\n",
      "0  9yKzy9PApeiPPOUJEtnvkg  2011-01-26  fWKvX83p0-ka4JS3dc6E5A      5   \n",
      "1  ZRJwVLyzEJq1VAihDhYiow  2011-07-27  IjZ33sJrzXqU-0X6U8NwyA      5   \n",
      "2  6oRAC4uyJCsJl1X0WZpVSA  2012-06-14  IESLBzqUCLdSzSqm0eCSxQ      4   \n",
      "3  _1QQZuf4zZOyFCvXc0o6Vg  2010-05-27  G-WvGaISbqqaMHlNnByodA      5   \n",
      "4  6ozycU1RpktNG2-1BroVtw  2012-01-05  1uJFq2r5QfJG_6ExMRCaGw      5   \n",
      "\n",
      "                                                text    type  \\\n",
      "0  My wife took me here on my birthday for breakf...  review   \n",
      "1  I have no idea why some people give bad review...  review   \n",
      "2  love the gyro plate. Rice is so good and I als...  review   \n",
      "3  Rosie, Dakota, and I LOVE Chaparral Dog Park!!...  review   \n",
      "4  General Manager Scott Petello is a good egg!!!...  review   \n",
      "\n",
      "                  user_id  cool  useful  funny  \n",
      "0  rLtl8ZkDX5vH5nAx9C3q5Q     2       5      0  \n",
      "1  0a2KyEL0d3Yb1V6aivbIuQ     0       0      0  \n",
      "2  0hT2KtfLiobPvh6cDC8JQg     0       1      0  \n",
      "3  uZetl9T0NcROGOyFfughhg     1       2      0  \n",
      "4  vYmM4KTsC8ZfQBg-j5MWkw     0       0      0  \n"
     ]
    }
   ],
   "source": [
    "# Take a look at the first few entries\n",
    "print(\"Few dataset entries:\")\n",
    "print(data.head())\n"
   ]
  },
  {
   "cell_type": "code",
   "execution_count": 130,
   "id": "9229f220-f897-4314-9bff-54667402739d",
   "metadata": {},
   "outputs": [
    {
     "data": {
      "text/html": [
       "<div>\n",
       "<style scoped>\n",
       "    .dataframe tbody tr th:only-of-type {\n",
       "        vertical-align: middle;\n",
       "    }\n",
       "\n",
       "    .dataframe tbody tr th {\n",
       "        vertical-align: top;\n",
       "    }\n",
       "\n",
       "    .dataframe thead th {\n",
       "        text-align: right;\n",
       "    }\n",
       "</style>\n",
       "<table border=\"1\" class=\"dataframe\">\n",
       "  <thead>\n",
       "    <tr style=\"text-align: right;\">\n",
       "      <th></th>\n",
       "      <th>business_id</th>\n",
       "      <th>date</th>\n",
       "      <th>review_id</th>\n",
       "      <th>stars</th>\n",
       "      <th>text</th>\n",
       "      <th>type</th>\n",
       "      <th>user_id</th>\n",
       "      <th>cool</th>\n",
       "      <th>useful</th>\n",
       "      <th>funny</th>\n",
       "    </tr>\n",
       "  </thead>\n",
       "  <tbody>\n",
       "    <tr>\n",
       "      <th>count</th>\n",
       "      <td>10000</td>\n",
       "      <td>10000</td>\n",
       "      <td>10000</td>\n",
       "      <td>10000.000000</td>\n",
       "      <td>10000</td>\n",
       "      <td>10000</td>\n",
       "      <td>10000</td>\n",
       "      <td>10000.000000</td>\n",
       "      <td>10000.000000</td>\n",
       "      <td>10000.000000</td>\n",
       "    </tr>\n",
       "    <tr>\n",
       "      <th>unique</th>\n",
       "      <td>4174</td>\n",
       "      <td>1995</td>\n",
       "      <td>10000</td>\n",
       "      <td>NaN</td>\n",
       "      <td>9998</td>\n",
       "      <td>1</td>\n",
       "      <td>6403</td>\n",
       "      <td>NaN</td>\n",
       "      <td>NaN</td>\n",
       "      <td>NaN</td>\n",
       "    </tr>\n",
       "    <tr>\n",
       "      <th>top</th>\n",
       "      <td>JokKtdXU7zXHcr20Lrk29A</td>\n",
       "      <td>2011-03-28</td>\n",
       "      <td>fWKvX83p0-ka4JS3dc6E5A</td>\n",
       "      <td>NaN</td>\n",
       "      <td>Great service</td>\n",
       "      <td>review</td>\n",
       "      <td>fczQCSmaWF78toLEmb0Zsw</td>\n",
       "      <td>NaN</td>\n",
       "      <td>NaN</td>\n",
       "      <td>NaN</td>\n",
       "    </tr>\n",
       "    <tr>\n",
       "      <th>freq</th>\n",
       "      <td>37</td>\n",
       "      <td>21</td>\n",
       "      <td>1</td>\n",
       "      <td>NaN</td>\n",
       "      <td>2</td>\n",
       "      <td>10000</td>\n",
       "      <td>38</td>\n",
       "      <td>NaN</td>\n",
       "      <td>NaN</td>\n",
       "      <td>NaN</td>\n",
       "    </tr>\n",
       "    <tr>\n",
       "      <th>mean</th>\n",
       "      <td>NaN</td>\n",
       "      <td>NaN</td>\n",
       "      <td>NaN</td>\n",
       "      <td>3.777500</td>\n",
       "      <td>NaN</td>\n",
       "      <td>NaN</td>\n",
       "      <td>NaN</td>\n",
       "      <td>0.876800</td>\n",
       "      <td>1.409300</td>\n",
       "      <td>0.701300</td>\n",
       "    </tr>\n",
       "    <tr>\n",
       "      <th>std</th>\n",
       "      <td>NaN</td>\n",
       "      <td>NaN</td>\n",
       "      <td>NaN</td>\n",
       "      <td>1.214636</td>\n",
       "      <td>NaN</td>\n",
       "      <td>NaN</td>\n",
       "      <td>NaN</td>\n",
       "      <td>2.067861</td>\n",
       "      <td>2.336647</td>\n",
       "      <td>1.907942</td>\n",
       "    </tr>\n",
       "    <tr>\n",
       "      <th>min</th>\n",
       "      <td>NaN</td>\n",
       "      <td>NaN</td>\n",
       "      <td>NaN</td>\n",
       "      <td>1.000000</td>\n",
       "      <td>NaN</td>\n",
       "      <td>NaN</td>\n",
       "      <td>NaN</td>\n",
       "      <td>0.000000</td>\n",
       "      <td>0.000000</td>\n",
       "      <td>0.000000</td>\n",
       "    </tr>\n",
       "    <tr>\n",
       "      <th>25%</th>\n",
       "      <td>NaN</td>\n",
       "      <td>NaN</td>\n",
       "      <td>NaN</td>\n",
       "      <td>3.000000</td>\n",
       "      <td>NaN</td>\n",
       "      <td>NaN</td>\n",
       "      <td>NaN</td>\n",
       "      <td>0.000000</td>\n",
       "      <td>0.000000</td>\n",
       "      <td>0.000000</td>\n",
       "    </tr>\n",
       "    <tr>\n",
       "      <th>50%</th>\n",
       "      <td>NaN</td>\n",
       "      <td>NaN</td>\n",
       "      <td>NaN</td>\n",
       "      <td>4.000000</td>\n",
       "      <td>NaN</td>\n",
       "      <td>NaN</td>\n",
       "      <td>NaN</td>\n",
       "      <td>0.000000</td>\n",
       "      <td>1.000000</td>\n",
       "      <td>0.000000</td>\n",
       "    </tr>\n",
       "    <tr>\n",
       "      <th>75%</th>\n",
       "      <td>NaN</td>\n",
       "      <td>NaN</td>\n",
       "      <td>NaN</td>\n",
       "      <td>5.000000</td>\n",
       "      <td>NaN</td>\n",
       "      <td>NaN</td>\n",
       "      <td>NaN</td>\n",
       "      <td>1.000000</td>\n",
       "      <td>2.000000</td>\n",
       "      <td>1.000000</td>\n",
       "    </tr>\n",
       "    <tr>\n",
       "      <th>max</th>\n",
       "      <td>NaN</td>\n",
       "      <td>NaN</td>\n",
       "      <td>NaN</td>\n",
       "      <td>5.000000</td>\n",
       "      <td>NaN</td>\n",
       "      <td>NaN</td>\n",
       "      <td>NaN</td>\n",
       "      <td>77.000000</td>\n",
       "      <td>76.000000</td>\n",
       "      <td>57.000000</td>\n",
       "    </tr>\n",
       "  </tbody>\n",
       "</table>\n",
       "</div>"
      ],
      "text/plain": [
       "                   business_id        date               review_id  \\\n",
       "count                    10000       10000                   10000   \n",
       "unique                    4174        1995                   10000   \n",
       "top     JokKtdXU7zXHcr20Lrk29A  2011-03-28  fWKvX83p0-ka4JS3dc6E5A   \n",
       "freq                        37          21                       1   \n",
       "mean                       NaN         NaN                     NaN   \n",
       "std                        NaN         NaN                     NaN   \n",
       "min                        NaN         NaN                     NaN   \n",
       "25%                        NaN         NaN                     NaN   \n",
       "50%                        NaN         NaN                     NaN   \n",
       "75%                        NaN         NaN                     NaN   \n",
       "max                        NaN         NaN                     NaN   \n",
       "\n",
       "               stars           text    type                 user_id  \\\n",
       "count   10000.000000          10000   10000                   10000   \n",
       "unique           NaN           9998       1                    6403   \n",
       "top              NaN  Great service  review  fczQCSmaWF78toLEmb0Zsw   \n",
       "freq             NaN              2   10000                      38   \n",
       "mean        3.777500            NaN     NaN                     NaN   \n",
       "std         1.214636            NaN     NaN                     NaN   \n",
       "min         1.000000            NaN     NaN                     NaN   \n",
       "25%         3.000000            NaN     NaN                     NaN   \n",
       "50%         4.000000            NaN     NaN                     NaN   \n",
       "75%         5.000000            NaN     NaN                     NaN   \n",
       "max         5.000000            NaN     NaN                     NaN   \n",
       "\n",
       "                cool        useful         funny  \n",
       "count   10000.000000  10000.000000  10000.000000  \n",
       "unique           NaN           NaN           NaN  \n",
       "top              NaN           NaN           NaN  \n",
       "freq             NaN           NaN           NaN  \n",
       "mean        0.876800      1.409300      0.701300  \n",
       "std         2.067861      2.336647      1.907942  \n",
       "min         0.000000      0.000000      0.000000  \n",
       "25%         0.000000      0.000000      0.000000  \n",
       "50%         0.000000      1.000000      0.000000  \n",
       "75%         1.000000      2.000000      1.000000  \n",
       "max        77.000000     76.000000     57.000000  "
      ]
     },
     "execution_count": 130,
     "metadata": {},
     "output_type": "execute_result"
    }
   ],
   "source": [
    "# Summary of the dataset\n",
    "data.describe(include='all')"
   ]
  },
  {
   "cell_type": "markdown",
   "id": "287b2e66-ec3d-44fb-8a13-0057ce74f92f",
   "metadata": {},
   "source": [
    "# Preprocessing Yelp Data\n",
    "\n",
    "Yelp data comes in unstructured format, so the first step is to preprocess the data. This includes cleaning the text, removing stop words, and tokenizing the words."
   ]
  },
  {
   "cell_type": "raw",
   "id": "54e23e8b-f9fa-47f7-a384-36a3b0d1c832",
   "metadata": {},
   "source": [
    "Creating of a new column:\n",
    "The new column will be - \"length\". This column will hold the data of the word length of the review."
   ]
  },
  {
   "cell_type": "code",
   "execution_count": 131,
   "id": "83c93ac6-ee52-48ba-a2a3-dfc7d3bbdd0a",
   "metadata": {},
   "outputs": [
    {
     "data": {
      "text/html": [
       "<div>\n",
       "<style scoped>\n",
       "    .dataframe tbody tr th:only-of-type {\n",
       "        vertical-align: middle;\n",
       "    }\n",
       "\n",
       "    .dataframe tbody tr th {\n",
       "        vertical-align: top;\n",
       "    }\n",
       "\n",
       "    .dataframe thead th {\n",
       "        text-align: right;\n",
       "    }\n",
       "</style>\n",
       "<table border=\"1\" class=\"dataframe\">\n",
       "  <thead>\n",
       "    <tr style=\"text-align: right;\">\n",
       "      <th></th>\n",
       "      <th>business_id</th>\n",
       "      <th>date</th>\n",
       "      <th>review_id</th>\n",
       "      <th>stars</th>\n",
       "      <th>text</th>\n",
       "      <th>type</th>\n",
       "      <th>user_id</th>\n",
       "      <th>cool</th>\n",
       "      <th>useful</th>\n",
       "      <th>funny</th>\n",
       "      <th>length</th>\n",
       "    </tr>\n",
       "  </thead>\n",
       "  <tbody>\n",
       "    <tr>\n",
       "      <th>0</th>\n",
       "      <td>9yKzy9PApeiPPOUJEtnvkg</td>\n",
       "      <td>2011-01-26</td>\n",
       "      <td>fWKvX83p0-ka4JS3dc6E5A</td>\n",
       "      <td>5</td>\n",
       "      <td>My wife took me here on my birthday for breakf...</td>\n",
       "      <td>review</td>\n",
       "      <td>rLtl8ZkDX5vH5nAx9C3q5Q</td>\n",
       "      <td>2</td>\n",
       "      <td>5</td>\n",
       "      <td>0</td>\n",
       "      <td>889</td>\n",
       "    </tr>\n",
       "    <tr>\n",
       "      <th>1</th>\n",
       "      <td>ZRJwVLyzEJq1VAihDhYiow</td>\n",
       "      <td>2011-07-27</td>\n",
       "      <td>IjZ33sJrzXqU-0X6U8NwyA</td>\n",
       "      <td>5</td>\n",
       "      <td>I have no idea why some people give bad review...</td>\n",
       "      <td>review</td>\n",
       "      <td>0a2KyEL0d3Yb1V6aivbIuQ</td>\n",
       "      <td>0</td>\n",
       "      <td>0</td>\n",
       "      <td>0</td>\n",
       "      <td>1345</td>\n",
       "    </tr>\n",
       "    <tr>\n",
       "      <th>2</th>\n",
       "      <td>6oRAC4uyJCsJl1X0WZpVSA</td>\n",
       "      <td>2012-06-14</td>\n",
       "      <td>IESLBzqUCLdSzSqm0eCSxQ</td>\n",
       "      <td>4</td>\n",
       "      <td>love the gyro plate. Rice is so good and I als...</td>\n",
       "      <td>review</td>\n",
       "      <td>0hT2KtfLiobPvh6cDC8JQg</td>\n",
       "      <td>0</td>\n",
       "      <td>1</td>\n",
       "      <td>0</td>\n",
       "      <td>76</td>\n",
       "    </tr>\n",
       "    <tr>\n",
       "      <th>3</th>\n",
       "      <td>_1QQZuf4zZOyFCvXc0o6Vg</td>\n",
       "      <td>2010-05-27</td>\n",
       "      <td>G-WvGaISbqqaMHlNnByodA</td>\n",
       "      <td>5</td>\n",
       "      <td>Rosie, Dakota, and I LOVE Chaparral Dog Park!!...</td>\n",
       "      <td>review</td>\n",
       "      <td>uZetl9T0NcROGOyFfughhg</td>\n",
       "      <td>1</td>\n",
       "      <td>2</td>\n",
       "      <td>0</td>\n",
       "      <td>419</td>\n",
       "    </tr>\n",
       "    <tr>\n",
       "      <th>4</th>\n",
       "      <td>6ozycU1RpktNG2-1BroVtw</td>\n",
       "      <td>2012-01-05</td>\n",
       "      <td>1uJFq2r5QfJG_6ExMRCaGw</td>\n",
       "      <td>5</td>\n",
       "      <td>General Manager Scott Petello is a good egg!!!...</td>\n",
       "      <td>review</td>\n",
       "      <td>vYmM4KTsC8ZfQBg-j5MWkw</td>\n",
       "      <td>0</td>\n",
       "      <td>0</td>\n",
       "      <td>0</td>\n",
       "      <td>469</td>\n",
       "    </tr>\n",
       "  </tbody>\n",
       "</table>\n",
       "</div>"
      ],
      "text/plain": [
       "              business_id        date               review_id  stars  \\\n",
       "0  9yKzy9PApeiPPOUJEtnvkg  2011-01-26  fWKvX83p0-ka4JS3dc6E5A      5   \n",
       "1  ZRJwVLyzEJq1VAihDhYiow  2011-07-27  IjZ33sJrzXqU-0X6U8NwyA      5   \n",
       "2  6oRAC4uyJCsJl1X0WZpVSA  2012-06-14  IESLBzqUCLdSzSqm0eCSxQ      4   \n",
       "3  _1QQZuf4zZOyFCvXc0o6Vg  2010-05-27  G-WvGaISbqqaMHlNnByodA      5   \n",
       "4  6ozycU1RpktNG2-1BroVtw  2012-01-05  1uJFq2r5QfJG_6ExMRCaGw      5   \n",
       "\n",
       "                                                text    type  \\\n",
       "0  My wife took me here on my birthday for breakf...  review   \n",
       "1  I have no idea why some people give bad review...  review   \n",
       "2  love the gyro plate. Rice is so good and I als...  review   \n",
       "3  Rosie, Dakota, and I LOVE Chaparral Dog Park!!...  review   \n",
       "4  General Manager Scott Petello is a good egg!!!...  review   \n",
       "\n",
       "                  user_id  cool  useful  funny  length  \n",
       "0  rLtl8ZkDX5vH5nAx9C3q5Q     2       5      0     889  \n",
       "1  0a2KyEL0d3Yb1V6aivbIuQ     0       0      0    1345  \n",
       "2  0hT2KtfLiobPvh6cDC8JQg     0       1      0      76  \n",
       "3  uZetl9T0NcROGOyFfughhg     1       2      0     419  \n",
       "4  vYmM4KTsC8ZfQBg-j5MWkw     0       0      0     469  "
      ]
     },
     "execution_count": 131,
     "metadata": {},
     "output_type": "execute_result"
    }
   ],
   "source": [
    "#CREATING A NEW COLUMN IN THE DATASET FOR THE NUMBER OF WORDS IN THE REVIEW\n",
    "data['length'] = data['text'].apply(len)\n",
    "data.head()"
   ]
  },
  {
   "cell_type": "raw",
   "id": "6cfeac27-1009-496d-9c3f-a5df1f01b8df",
   "metadata": {},
   "source": [
    "Visualization:\n",
    "Let us now visualize the if there is any correlation between stars and the length of the review."
   ]
  },
  {
   "cell_type": "code",
   "execution_count": 132,
   "id": "eeffe6fd-86b8-4115-8291-422f22c593a5",
   "metadata": {},
   "outputs": [
    {
     "data": {
      "text/plain": [
       "<AxesSubplot:xlabel='length', ylabel='Count'>"
      ]
     },
     "execution_count": 132,
     "metadata": {},
     "output_type": "execute_result"
    },
    {
     "data": {
      "image/png": "[encoded data removed]",
      "text/plain": [
       "<Figure size 432x288 with 1 Axes>"
      ]
     },
     "metadata": {
      "needs_background": "light"
     },
     "output_type": "display_data"
    }
   ],
   "source": [
    "# The distribution of review word count\n",
    "sns.histplot(data=data, x=\"length\")"
   ]
  },
  {
   "cell_type": "code",
   "execution_count": 133,
   "id": "74079c28-e39b-47a6-b440-6995b3e3ec98",
   "metadata": {},
   "outputs": [
    {
     "data": {
      "text/plain": [
       "<seaborn.axisgrid.FacetGrid at 0x7f98cb52a940>"
      ]
     },
     "execution_count": 133,
     "metadata": {},
     "output_type": "execute_result"
    },
    {
     "data": {
      "image/png": "[encoded data removed]",
      "text/plain": [
       "<Figure size 1080x216 with 5 Axes>"
      ]
     },
     "metadata": {
      "needs_background": "light"
     },
     "output_type": "display_data"
    }
   ],
   "source": [
    "# COMPARING TEXT LENGTH TO STARS\n",
    "graph = sns.FacetGrid(data=data,col='stars')\n",
    "graph.map(plt.hist,'length',bins=50)"
   ]
  },
  {
   "cell_type": "code",
   "execution_count": 134,
   "id": "b7f2a098-aa2c-4960-a9ef-adbb72167cbc",
   "metadata": {},
   "outputs": [
    {
     "data": {
      "text/plain": [
       "<AxesSubplot:xlabel='stars', ylabel='cool'>"
      ]
     },
     "execution_count": 134,
     "metadata": {},
     "output_type": "execute_result"
    },
    {
     "data": {
      "image/png": "[encoded data removed]",
      "text/plain": [
       "<Figure size 432x288 with 1 Axes>"
      ]
     },
     "metadata": {
      "needs_background": "light"
     },
     "output_type": "display_data"
    }
   ],
   "source": [
    "sns.barplot(data=data, x=\"stars\", y=\"cool\")"
   ]
  },
  {
   "cell_type": "code",
   "execution_count": 135,
   "id": "bb7e3cfa-7e7c-4426-9a96-648a326a88d4",
   "metadata": {},
   "outputs": [
    {
     "data": {
      "text/plain": [
       "<AxesSubplot:xlabel='stars', ylabel='useful'>"
      ]
     },
     "execution_count": 135,
     "metadata": {},
     "output_type": "execute_result"
    },
    {
     "data": {
      "image/png": "[encoded data removed]",
      "text/plain": [
       "<Figure size 432x288 with 1 Axes>"
      ]
     },
     "metadata": {
      "needs_background": "light"
     },
     "output_type": "display_data"
    }
   ],
   "source": [
    "sns.barplot(data=data, x=\"stars\", y=\"useful\")"
   ]
  },
  {
   "cell_type": "code",
   "execution_count": 136,
   "id": "1d33b24e-05ad-4001-87e9-c9b6fefee121",
   "metadata": {},
   "outputs": [
    {
     "data": {
      "text/plain": [
       "<AxesSubplot:xlabel='stars', ylabel='funny'>"
      ]
     },
     "execution_count": 136,
     "metadata": {},
     "output_type": "execute_result"
    },
    {
     "data": {
      "image/png": "[encoded data removed]",
      "text/plain": [
       "<Figure size 432x288 with 1 Axes>"
      ]
     },
     "metadata": {
      "needs_background": "light"
     },
     "output_type": "display_data"
    }
   ],
   "source": [
    "sns.barplot(data=data, x=\"stars\", y=\"funny\")"
   ]
  },
  {
   "cell_type": "raw",
   "id": "f04cf28c-f063-48ee-97b2-0985e36bd912",
   "metadata": {},
   "source": [
    "Mean Value of the Vote columns:\n",
    "There are 3 voting columns for the reviews - funny, cool and useful. Let us now find the mean values with respect to the stars given to the review."
   ]
  },
  {
   "cell_type": "code",
   "execution_count": 137,
   "id": "8d093d17-0414-404d-9d5e-b6d8685fffcb",
   "metadata": {},
   "outputs": [
    {
     "data": {
      "text/html": [
       "<div>\n",
       "<style scoped>\n",
       "    .dataframe tbody tr th:only-of-type {\n",
       "        vertical-align: middle;\n",
       "    }\n",
       "\n",
       "    .dataframe tbody tr th {\n",
       "        vertical-align: top;\n",
       "    }\n",
       "\n",
       "    .dataframe thead th {\n",
       "        text-align: right;\n",
       "    }\n",
       "</style>\n",
       "<table border=\"1\" class=\"dataframe\">\n",
       "  <thead>\n",
       "    <tr style=\"text-align: right;\">\n",
       "      <th></th>\n",
       "      <th>cool</th>\n",
       "      <th>useful</th>\n",
       "      <th>funny</th>\n",
       "      <th>length</th>\n",
       "    </tr>\n",
       "    <tr>\n",
       "      <th>stars</th>\n",
       "      <th></th>\n",
       "      <th></th>\n",
       "      <th></th>\n",
       "      <th></th>\n",
       "    </tr>\n",
       "  </thead>\n",
       "  <tbody>\n",
       "    <tr>\n",
       "      <th>1</th>\n",
       "      <td>0.576769</td>\n",
       "      <td>1.604806</td>\n",
       "      <td>1.056075</td>\n",
       "      <td>826.515354</td>\n",
       "    </tr>\n",
       "    <tr>\n",
       "      <th>2</th>\n",
       "      <td>0.719525</td>\n",
       "      <td>1.563107</td>\n",
       "      <td>0.875944</td>\n",
       "      <td>842.256742</td>\n",
       "    </tr>\n",
       "    <tr>\n",
       "      <th>3</th>\n",
       "      <td>0.788501</td>\n",
       "      <td>1.306639</td>\n",
       "      <td>0.694730</td>\n",
       "      <td>758.498289</td>\n",
       "    </tr>\n",
       "    <tr>\n",
       "      <th>4</th>\n",
       "      <td>0.954623</td>\n",
       "      <td>1.395916</td>\n",
       "      <td>0.670448</td>\n",
       "      <td>712.923142</td>\n",
       "    </tr>\n",
       "    <tr>\n",
       "      <th>5</th>\n",
       "      <td>0.944261</td>\n",
       "      <td>1.381780</td>\n",
       "      <td>0.608631</td>\n",
       "      <td>624.999101</td>\n",
       "    </tr>\n",
       "  </tbody>\n",
       "</table>\n",
       "</div>"
      ],
      "text/plain": [
       "           cool    useful     funny      length\n",
       "stars                                          \n",
       "1      0.576769  1.604806  1.056075  826.515354\n",
       "2      0.719525  1.563107  0.875944  842.256742\n",
       "3      0.788501  1.306639  0.694730  758.498289\n",
       "4      0.954623  1.395916  0.670448  712.923142\n",
       "5      0.944261  1.381780  0.608631  624.999101"
      ]
     },
     "execution_count": 137,
     "metadata": {},
     "output_type": "execute_result"
    }
   ],
   "source": [
    "# GETTING THE MEAN VALUES OF THE VOTE COLUMNS WRT THE STARS ON THE REVIEW\n",
    "stval = data.groupby('stars').mean()\n",
    "stval"
   ]
  },
  {
   "cell_type": "raw",
   "id": "92959096-b1fd-4da8-af36-f6454f6cefee",
   "metadata": {},
   "source": [
    "Correlation between the voting columns:\n",
    "Let us now see what the correlation is between the three voting columns."
   ]
  },
  {
   "cell_type": "code",
   "execution_count": 138,
   "id": "23889d62-16b0-4f1d-bf34-a88937fc3354",
   "metadata": {},
   "outputs": [
    {
     "data": {
      "text/html": [
       "<div>\n",
       "<style scoped>\n",
       "    .dataframe tbody tr th:only-of-type {\n",
       "        vertical-align: middle;\n",
       "    }\n",
       "\n",
       "    .dataframe tbody tr th {\n",
       "        vertical-align: top;\n",
       "    }\n",
       "\n",
       "    .dataframe thead th {\n",
       "        text-align: right;\n",
       "    }\n",
       "</style>\n",
       "<table border=\"1\" class=\"dataframe\">\n",
       "  <thead>\n",
       "    <tr style=\"text-align: right;\">\n",
       "      <th></th>\n",
       "      <th>cool</th>\n",
       "      <th>useful</th>\n",
       "      <th>funny</th>\n",
       "      <th>length</th>\n",
       "    </tr>\n",
       "  </thead>\n",
       "  <tbody>\n",
       "    <tr>\n",
       "      <th>cool</th>\n",
       "      <td>1.000000</td>\n",
       "      <td>-0.743329</td>\n",
       "      <td>-0.944939</td>\n",
       "      <td>-0.857664</td>\n",
       "    </tr>\n",
       "    <tr>\n",
       "      <th>useful</th>\n",
       "      <td>-0.743329</td>\n",
       "      <td>1.000000</td>\n",
       "      <td>0.894506</td>\n",
       "      <td>0.699881</td>\n",
       "    </tr>\n",
       "    <tr>\n",
       "      <th>funny</th>\n",
       "      <td>-0.944939</td>\n",
       "      <td>0.894506</td>\n",
       "      <td>1.000000</td>\n",
       "      <td>0.843461</td>\n",
       "    </tr>\n",
       "    <tr>\n",
       "      <th>length</th>\n",
       "      <td>-0.857664</td>\n",
       "      <td>0.699881</td>\n",
       "      <td>0.843461</td>\n",
       "      <td>1.000000</td>\n",
       "    </tr>\n",
       "  </tbody>\n",
       "</table>\n",
       "</div>"
      ],
      "text/plain": [
       "            cool    useful     funny    length\n",
       "cool    1.000000 -0.743329 -0.944939 -0.857664\n",
       "useful -0.743329  1.000000  0.894506  0.699881\n",
       "funny  -0.944939  0.894506  1.000000  0.843461\n",
       "length -0.857664  0.699881  0.843461  1.000000"
      ]
     },
     "execution_count": 138,
     "metadata": {},
     "output_type": "execute_result"
    }
   ],
   "source": [
    "# FINDING THE CORRELATION BETWEEN THE VOTE COLUMNS\n",
    "stval.corr()"
   ]
  },
  {
   "cell_type": "markdown",
   "id": "5033b632-d6cb-4fac-a047-c777fa40b287",
   "metadata": {},
   "source": [
    "We can see that there is negative correlation between:\n",
    "\n",
    "* Cool and Useful\n",
    "* Cool and Funny\n",
    "* Cool and Length  \n",
    "\n",
    "We can say that the reviews marked cool tend to be short, not very useful to others and short."
   ]
  },
  {
   "cell_type": "markdown",
   "id": "62b58cb1-b4ed-4b6d-b511-78977a27fbb6",
   "metadata": {},
   "source": [
    "Also, there is a positive correlation between:\n",
    "\n",
    "* Funny and Useful    \n",
    "* Funny and Length\n",
    "* Useful and Length    \n",
    "\n",
    "Thus, we can say that longer reviews tend to be funny and useful."
   ]
  },
  {
   "cell_type": "raw",
   "id": "1ace543c-5c24-487a-872a-b20ecace9ceb",
   "metadata": {},
   "source": [
    "Classifying the dataset and splitting it into the reviews and stars:"
   ]
  },
  {
   "cell_type": "code",
   "execution_count": 139,
   "id": "8faa2152-8ce2-4c11-ad41-aa918ea71a89",
   "metadata": {},
   "outputs": [
    {
     "name": "stdout",
     "output_type": "stream",
     "text": [
      "(5547, 11)\n",
      "0    My wife took me here on my birthday for breakf...\n",
      "1    I have no idea why some people give bad review...\n",
      "3    Rosie, Dakota, and I LOVE Chaparral Dog Park!!...\n",
      "4    General Manager Scott Petello is a good egg!!!...\n",
      "6    Drop what you're doing and drive here. After I...\n",
      "Name: text, dtype: object\n",
      "0    5\n",
      "1    5\n",
      "3    5\n",
      "4    5\n",
      "6    5\n",
      "Name: stars, dtype: int64\n"
     ]
    }
   ],
   "source": [
    "# CLASSIFICATION\n",
    "data_classes = data[(data['stars']==1) | (data['stars']==3) | (data['stars']==5)]\n",
    "data_classes.head()\n",
    "print(data_classes.shape)\n",
    "\n",
    "# Seperate the dataset into X and Y for prediction\n",
    "x = data_classes['text']\n",
    "y = data_classes['stars']\n",
    "print(x.head())\n",
    "print(y.head())"
   ]
  },
  {
   "cell_type": "raw",
   "id": "afdb2145-9a80-415d-b3d9-b5a997d4452c",
   "metadata": {},
   "source": [
    "Data Cleaning:\n",
    "We will now, define a function which will clean the dataset by removing stopwords and punctuations."
   ]
  },
  {
   "cell_type": "code",
   "execution_count": 140,
   "id": "07c30d82-27e6-47f3-b6cf-9147a0f43ef2",
   "metadata": {},
   "outputs": [],
   "source": [
    "# CLEANING THE REVIEWS - REMOVAL OF STOPWORDS AND PUNCTUATION\n",
    "def text_process(text):\n",
    "    nopunc = [char for char in text if char not in string.punctuation]\n",
    "    nopunc = ''.join(nopunc)\n",
    "    return [word for word in nopunc.split() if word.lower() not in stopwords.words('english')]"
   ]
  },
  {
   "cell_type": "raw",
   "id": "b4f97341-5b25-4eda-8cee-d92e2b547789",
   "metadata": {},
   "source": [
    "Vectorization\n",
    "We will now vectorize a single review and see the results:"
   ]
  },
  {
   "cell_type": "code",
   "execution_count": 141,
   "id": "77db8d7e-330b-46da-8d32-821a8cc74164",
   "metadata": {},
   "outputs": [
    {
     "name": "stderr",
     "output_type": "stream",
     "text": [
      "[nltk_data] Downloading package stopwords to\n",
      "[nltk_data]     /Users/cynthiali/nltk_data...\n",
      "[nltk_data]   Package stopwords is already up-to-date!\n"
     ]
    },
    {
     "data": {
      "text/plain": [
       "True"
      ]
     },
     "execution_count": 141,
     "metadata": {},
     "output_type": "execute_result"
    }
   ],
   "source": [
    "import nltk\n",
    "nltk.download('stopwords')"
   ]
  },
  {
   "cell_type": "raw",
   "id": "b57c9403-1540-49e7-81e7-b315190318c0",
   "metadata": {},
   "source": [
    "Machines cannot understand characters and words. So when dealing with text data we need to represent it in numbers to be understood by the machine. \n",
    "Countvectorizer is a method to convert text to numerical data. "
   ]
  },
  {
   "cell_type": "code",
   "execution_count": 142,
   "id": "f3f47066-39ed-420f-99fb-815f056d03b5",
   "metadata": {},
   "outputs": [
    {
     "name": "stdout",
     "output_type": "stream",
     "text": [
      "length of the vocab is 31336\n"
     ]
    }
   ],
   "source": [
    "# CONVERTING THE WORDS INTO A VECTOR\n",
    "vocab = CountVectorizer(analyzer=text_process).fit(x)\n",
    "print(\"length of the vocab is\",len(vocab.vocabulary_))"
   ]
  },
  {
   "cell_type": "code",
   "execution_count": 143,
   "id": "e039a1ab-1769-4298-9cb7-0b6408f1b616",
   "metadata": {},
   "outputs": [
    {
     "name": "stdout",
     "output_type": "stream",
     "text": [
      "My wife took me here on my birthday for breakfast and it was excellent.  The weather was perfect which made sitting outside overlooking their grounds an absolute pleasure.  Our waitress was excellent and our food arrived quickly on the semi-busy Saturday morning.  It looked like the place fills up pretty quickly so the earlier you get here the better.\n",
      "\n",
      "Do yourself a favor and get their Bloody Mary.  It was phenomenal and simply the best I've ever had.  I'm pretty sure they only use ingredients from their garden and blend them fresh when you order it.  It was amazing.\n",
      "\n",
      "While EVERYTHING on the menu looks excellent, I had the white truffle scrambled eggs vegetable skillet and it was tasty and delicious.  It came with 2 pieces of their griddled bread with was amazing and it absolutely made the meal complete.  It was the best \"toast\" I've ever had.\n",
      "\n",
      "Anyway, I can't wait to go back!\n"
     ]
    }
   ],
   "source": [
    "# print out the first text of the review\n",
    "print(x[0])"
   ]
  },
  {
   "cell_type": "code",
   "execution_count": 144,
   "id": "7ab6aa8c-9f4e-4811-a3fb-24d414f86672",
   "metadata": {},
   "outputs": [
    {
     "name": "stdout",
     "output_type": "stream",
     "text": [
      "  (0, 292)\t1\n",
      "  (0, 1213)\t1\n",
      "  (0, 1811)\t1\n",
      "  (0, 3537)\t1\n",
      "  (0, 5139)\t1\n",
      "  (0, 5256)\t2\n",
      "  (0, 6275)\t1\n",
      "  (0, 8521)\t1\n",
      "  (0, 10646)\t1\n",
      "  (0, 10647)\t1\n",
      "  (0, 11128)\t2\n",
      "  (0, 11479)\t1\n",
      "  (0, 11779)\t1\n",
      "  (0, 12206)\t2\n",
      "  (0, 12221)\t1\n",
      "  (0, 12297)\t1\n",
      "  (0, 12386)\t1\n",
      "  (0, 12675)\t1\n",
      "  (0, 12689)\t1\n",
      "  (0, 13135)\t1\n",
      "  (0, 13186)\t1\n",
      "  (0, 14247)\t1\n",
      "  (0, 15385)\t1\n",
      "  (0, 16292)\t1\n",
      "  (0, 16412)\t1\n",
      "  :\t:\n",
      "  (0, 23318)\t1\n",
      "  (0, 23801)\t1\n",
      "  (0, 23902)\t1\n",
      "  (0, 23976)\t1\n",
      "  (0, 24080)\t1\n",
      "  (0, 24177)\t1\n",
      "  (0, 24544)\t2\n",
      "  (0, 24972)\t2\n",
      "  (0, 26383)\t1\n",
      "  (0, 26543)\t1\n",
      "  (0, 26978)\t1\n",
      "  (0, 27029)\t1\n",
      "  (0, 27068)\t1\n",
      "  (0, 28403)\t1\n",
      "  (0, 28735)\t1\n",
      "  (0, 29230)\t1\n",
      "  (0, 29313)\t1\n",
      "  (0, 29620)\t1\n",
      "  (0, 30135)\t1\n",
      "  (0, 30240)\t1\n",
      "  (0, 30471)\t1\n",
      "  (0, 30488)\t1\n",
      "  (0, 30672)\t1\n",
      "  (0, 30854)\t1\n",
      "  (0, 30900)\t1\n"
     ]
    }
   ],
   "source": [
    "vocab0 = vocab.transform([x[0]])\n",
    "print(vocab0)"
   ]
  },
  {
   "cell_type": "code",
   "execution_count": 145,
   "id": "ba62cd63-bbc3-4720-b5c7-ce2de874cade",
   "metadata": {},
   "outputs": [
    {
     "name": "stdout",
     "output_type": "stream",
     "text": [
      "['Adult', 'Adults', 'Advisor', 'Advocate', 'Aegean', 'Aerobics', 'Aesthetically', 'Affordable', 'Africa', 'Afterall', 'Afterdark', 'Afterward', 'Afterwards', 'Agaves', 'Aged', 'Agent', 'Aggressive', 'Agree', 'Agua', 'Aguila', 'Agwa', 'Ah', 'Ahab', 'Ahh', 'Ahha', 'Ahhh', 'Ahhhhh', 'Ahhhhhh', 'Ahi', 'Ahmazing', 'Ahwahtukee', 'Ahwatukee', 'Ai', 'Aid', 'Aiellos', 'Aiko', 'Air', 'Airlines', 'Airpark', 'Airport', 'Airwarys', 'Airways', 'Airwaysnever', 'Aisha', 'Aji', 'Ajo', 'Akor', 'Al', 'Alabama', 'Aladdins', 'Alain', 'Alameda', 'Alan', 'Alas', 'AlasIve', 'Alaska', 'Alaskan', 'Alaus', 'Albacore', 'Albeit', 'Alber', 'Albertos', 'Albertsons', 'Alcatraz', 'Alcohol', 'Ale', 'Alemmmm', 'Alessias', 'Alex', 'Alexa', 'Alexs', 'Alfalfa', 'Alfonso', 'Alfred', 'Alfredo', 'Ali', 'Alice', 'Alicia', 'Alison', 'AllAmerican', 'AllStar', 'Allah', 'Allegiant', 'Allen', 'Allende', 'Allergic', 'Allesias', 'Allison', 'Allow', 'Allstars', 'Almond', 'Almost', 'Aloe', 'Aloft', 'Aloha', 'Along', 'Alongside', 'Alp', 'Alphagraphics', 'Alpine', 'Already', 'Alright', 'Als', 'Also', 'Alterations', 'Although', 'Althoughone', 'Altic', 'Alvadora', 'Always', 'Amados', 'Amalfi', 'Amanda', 'Amaro', 'Amazed', 'Amazin', 'Amazing', 'Amazingly', 'Amazon', 'Amazoncom', 'Ambassador', 'Amber', 'Ambiance', 'Ambience', 'Ambrosia', 'Ambulance', 'Amenities', 'AmeriZona', 'America', 'American', 'AmericanChinese', 'AmericanFrench', 'Americana', 'Americanized', 'AmericanizedItalian', 'Americano', 'Americanos', 'Americans', 'Americas', 'Ameritrash', 'Amin', 'Amino', 'Amish', 'Amoeba', 'Amomi', 'Amore', 'Amphitheatre', 'Ample', 'Amsterdam', 'Amtrack', 'Amuse', 'Amy', 'Amys', 'Anaheim', 'Anandita', 'Anazazi', 'Ancestral', 'Anchored', 'Andiamo', 'Andre', 'Andrea', 'Andrew', 'Andrews', 'Andwait', 'AndyAndrew', 'Andys', 'Angel', 'Angela', 'Angelas', 'Angeles', 'Angelesjust', 'Angello', 'Angels', 'Angie', 'Angry', 'Angus', 'Anibal', 'Animal', 'Animals', 'Anime', 'Anise', 'Ann', 'Anne', 'Annes', 'Annette', 'Annie', 'Annies', 'Annihilator', 'Anniversary', 'Anniversaryyes', 'Annoying', 'Anns', 'Annual', 'Another', 'Ansel', 'Answer', 'Anthem', 'Anthems', 'Anthony', 'Anti', 'Antichrist', 'Antipasta', 'Antipasto', 'Antique', 'Antiques', 'Antonio', 'Antono', 'Ants', 'Anyhoo', 'Anyhow', 'Anyone', 'Anything', 'Anytime', 'Anyway', 'AnywayI', 'Anyways', 'AnywaysI', 'Anywaysthe', 'Anywaystheir', 'Anywaytry', 'Anywhere', 'Anywho', 'Ao', 'Apache', 'Apart', 'Apartment', 'Apology', 'Apothic', 'App', 'Appalachians', 'Apparel', 'Apparently', 'Appearances', 'Appears', 'Appetit', 'Appetite', 'Appetizer', 'Appetizers', 'Apple', 'Applebees', 'Apples', 'Applewood', 'Appreciated', 'Appreciation', 'Approaching', 'Approximately', 'Apps', 'Apricot', 'April', 'Apts', 'Aqua', 'Arabic', 'Arai', 'Arbol', 'Arborio', 'Arbuckles', 'Arbys', 'Arcadia', 'ArcadiaBiltmoreCamelback', 'Arcane', 'Archery', 'Architect', 'Architecture', 'Arco', 'Area', 'Arena', 'Arent', 'Argentine', 'Argentinian', 'Argyle', 'Ariel', 'Arigato', 'Arik', 'Arizona', 'Arizonans', 'Arizonas', 'Arizonasized', 'Arizonian', 'Arizonians', 'Arkansas', 'Arlecchino', 'Arlecchinos', 'Arlin', 'Armadillo', 'Armando', 'Armed', 'Armour', 'Arms', 'Army', 'Arnold', 'Around', 'Arpaio', 'Arriba', 'Arribas', 'ArribasGo', 'Arrive', 'Arrived', 'Arrivederci', 'Arriving', 'Arrogant', 'Arrowhead', 'Art', 'Artful', 'Arthur', 'Artichoke', 'Artichokes', 'Arties', 'Artist', 'Artois', 'Arts', 'Arugula', 'Asada', 'Asado', 'Asahi', 'Asaian', 'Ashamedly', 'Ashley', 'Ashleys', 'Asholes', 'Ashtanga', 'AsiAsi', 'Asia', 'Asiago', 'Asian', 'AsianMexican', 'Asians', 'Aside', 'Ask', 'Asked', 'Asparagus', 'Ass', 'Assistant', 'Association', 'Ate', 'Athenian', 'Athletics', 'Atlanta', 'Atlantic', 'Atleast', 'Atmosphere', 'Atmospherewise', 'Atomic', 'Atoyac', 'Atoyas', 'Attack', 'Attempting', 'Attendants', 'Attended', 'Attention', 'Attentive', 'Attic', 'Attitude', 'Attorney', 'Au', 'Auditioning', 'Aug', 'August', 'Aunt', 'Auntie', 'Aunty', 'Aurohaus', 'Aussie', 'Aussies', 'Austin', 'Australia', 'Australian', 'Authentic', 'Authenticabsolutely', 'Authentically', 'Auther', 'Author', 'Authority', 'Auto', 'AutoZone', 'Automotive', 'Autumnlike', 'Avacado', 'Avacodo', 'Avadado', 'Avalon', 'Avatar', 'Ave', 'Avengers', 'Aventinus', 'Avenue', 'Average', 'Averaging', 'Avewho', 'Avina', 'Avocado', 'Avoid', 'Avondale', 'Awakening', 'Away', 'Awaze', 'Awesome', 'Awesomely', 'Awesometown', 'Awful', 'Axe', 'Az', 'AzRESCUE', 'Azkaban', 'Azucena', 'B', 'BA', 'BACK', 'BACON', 'BAD', 'BADS', 'BAG', 'BALLS', 'BAM', 'BANK', 'BAP', 'BAR', 'BARE', 'BASED', 'BASIC', 'BAY', 'BB', 'BBB', 'BBBwhat', 'BBQ', 'BBQJoes', 'BBQing', 'BBQranch', 'BBs', 'BCBG', 'BDSM', 'BEAN', 'BEANS', 'BEARS', 'BEAUTIFUL', 'BEEF', 'BEER', 'BEERS', 'BEETS', 'BENCHES', 'BEST', 'BETTER', 'BEWARE', 'BEYOND', 'BF', 'BFFs', 'BFG', 'BFeFs', 'BG', 'BGF', 'BIANCOVERDE', 'BIG', 'BIGASS', 'BILL', 'BILLIARDS', 'BJ', 'BJs', 'BK', 'BKMcDs', 'BLACK', 'BLAND', 'BLECH', 'BLEECH', 'BLISS', 'BLOODYMARYS', 'BLOWN', 'BLT', 'BMW', 'BMWs', 'BMX', 'BN', 'BO', 'BOB', 'BOCA', 'BOGO', 'BOLT', 'BOMB', 'BOP', 'BOTTLES', 'BOTTOM', 'BOWLS', 'BOX', 'BOY', 'BPA', 'BR', 'BRAVO', 'BREAKFAST', 'BRU', 'BS', 'BTW', 'BTWCASH', 'BUCKET', 'BUG', 'BUILD', 'BURGER', 'BURGERS', 'BURRITO', 'BURRO', 'BUS', 'BUSINESS', 'BUY']\n"
     ]
    },
    {
     "name": "stderr",
     "output_type": "stream",
     "text": [
      "/Users/cynthiali/opt/anaconda3/lib/python3.9/site-packages/sklearn/utils/deprecation.py:87: FutureWarning: Function get_feature_names is deprecated; get_feature_names is deprecated in 1.0 and will be removed in 1.2. Please use get_feature_names_out instead.\n",
      "  warnings.warn(msg, category=FutureWarning)\n"
     ]
    }
   ],
   "source": [
    "#     Now the words in the review number 78 have been converted into a vector.\n",
    "#     The data that we can see is the transformed words.\n",
    "#     If we now get the feature's name - we can get the word back!\n",
    "\n",
    "print(vocab.get_feature_names()[1000:1500])"
   ]
  },
  {
   "cell_type": "raw",
   "id": "c089b027-cfd5-4ce7-9066-ef88a4d26229",
   "metadata": {},
   "source": [
    "Vectorization of the whole review set and and checking the sparse matrix:"
   ]
  },
  {
   "cell_type": "code",
   "execution_count": 146,
   "id": "7a8b61db-9271-4cee-bba8-bf6999087fab",
   "metadata": {},
   "outputs": [
    {
     "name": "stdout",
     "output_type": "stream",
     "text": [
      "Shape of the sparse matrix:  (5547, 31336)\n",
      "Non-Zero occurences:  312457\n",
      "Density of the matrix =  0.17975812697942373\n"
     ]
    }
   ],
   "source": [
    "x = vocab.transform(x)\n",
    "#Shape of the matrix:\n",
    "print(\"Shape of the sparse matrix: \", x.shape)\n",
    "#Non-zero occurences:\n",
    "print(\"Non-Zero occurences: \",x.nnz)\n",
    "\n",
    "# DENSITY OF THE MATRIX\n",
    "density = (x.nnz/(x.shape[0]*x.shape[1]))*100\n",
    "print(\"Density of the matrix = \",density)"
   ]
  },
  {
   "cell_type": "raw",
   "id": "615d8653-3924-4c04-b2a1-240f2f4fadf0",
   "metadata": {},
   "source": [
    "Splitting the dataset X into training and testing set:"
   ]
  },
  {
   "cell_type": "code",
   "execution_count": 147,
   "id": "6a642625-3578-4f57-a580-e5663f0e79ae",
   "metadata": {},
   "outputs": [],
   "source": [
    "# SPLITTING THE DATASET INTO TRAINING SET AND TESTING SET\n",
    "x_train,x_test,y_train,y_test = train_test_split(x,y,test_size=0.2,random_state=101)"
   ]
  },
  {
   "cell_type": "markdown",
   "id": "7b37d1f8-c755-4d3d-90a9-9c09b7c94e65",
   "metadata": {},
   "source": [
    "# Building a Sentiment Classifier\n",
    "\n",
    "In this step, you will train a machine learning model to classify Yelp reviews into positive, negative, or neutral sentiments. You can use a variety of models, such as Naive Bayes, Support Vector Machines (SVMs), or Recurrent Neural Networks (RNNs)."
   ]
  },
  {
   "cell_type": "raw",
   "id": "2aed9616-b169-483a-ab1a-6d02bf3e89ee",
   "metadata": {},
   "source": [
    "Modelling:\n",
    "We will now use multiple Machine Algorithms to see which gives the best performance."
   ]
  },
  {
   "cell_type": "raw",
   "id": "378dc4b3-bec8-4580-92b4-ba435d07072e",
   "metadata": {},
   "source": [
    "1 - Multinomial Naive Bayes - We are using Multinomial Naive Bayes over Gaussian because with sparse data, Gaussian Naive Bayes assumptions aren't met and a simple gaussian fit over the data will not give us a good fit or prediction!"
   ]
  },
  {
   "cell_type": "code",
   "execution_count": 148,
   "id": "aebe996c-2f82-4a17-9094-44166603b69e",
   "metadata": {},
   "outputs": [
    {
     "name": "stdout",
     "output_type": "stream",
     "text": [
      "Confusion Matrix for Multinomial Naive Bayes:\n",
      "[[ 75  49  38]\n",
      " [  7 180 105]\n",
      " [ 12  45 599]]\n",
      "Score: 76.94\n",
      "Classification Report:\n",
      "              precision    recall  f1-score   support\n",
      "\n",
      "           1       0.80      0.46      0.59       162\n",
      "           3       0.66      0.62      0.64       292\n",
      "           5       0.81      0.91      0.86       656\n",
      "\n",
      "    accuracy                           0.77      1110\n",
      "   macro avg       0.75      0.66      0.69      1110\n",
      "weighted avg       0.77      0.77      0.76      1110\n",
      "\n"
     ]
    }
   ],
   "source": [
    "# Multinomial Naive Bayes\n",
    "from sklearn.naive_bayes import MultinomialNB\n",
    "mnb = MultinomialNB()\n",
    "mnb.fit(x_train,y_train)\n",
    "predmnb = mnb.predict(x_test)\n",
    "score_mnb = round(accuracy_score(y_test,predmnb)*100,2)\n",
    "print(\"Confusion Matrix for Multinomial Naive Bayes:\")\n",
    "print(confusion_matrix(y_test,predmnb))\n",
    "print(\"Score:\",score_mnb)\n",
    "print(\"Classification Report:\")\n",
    "print(classification_report(y_test,predmnb))"
   ]
  },
  {
   "cell_type": "raw",
   "id": "1c106e52-9109-4182-ba5d-68bc0c7aa3a0",
   "metadata": {},
   "source": [
    "2 - Random Forest Classifier"
   ]
  },
  {
   "cell_type": "code",
   "execution_count": 149,
   "id": "e2e5f487-175d-4eb3-a78b-381db6dfe2ca",
   "metadata": {},
   "outputs": [
    {
     "name": "stdout",
     "output_type": "stream",
     "text": [
      "Confusion Matrix for Random Forest Classifier:\n",
      "[[ 31  26 105]\n",
      " [  3 103 186]\n",
      " [  1  19 636]]\n",
      "Score: 69.37\n",
      "Classification Report:\n",
      "              precision    recall  f1-score   support\n",
      "\n",
      "           1       0.89      0.19      0.31       162\n",
      "           3       0.70      0.35      0.47       292\n",
      "           5       0.69      0.97      0.80       656\n",
      "\n",
      "    accuracy                           0.69      1110\n",
      "   macro avg       0.76      0.50      0.53      1110\n",
      "weighted avg       0.72      0.69      0.64      1110\n",
      "\n"
     ]
    }
   ],
   "source": [
    "# Random Forest\n",
    "from sklearn.ensemble import RandomForestClassifier\n",
    "rmfr = RandomForestClassifier()\n",
    "rmfr.fit(x_train,y_train)\n",
    "predrmfr = rmfr.predict(x_test)\n",
    "score_rmfr = round(accuracy_score(y_test,predrmfr)*100,2)\n",
    "print(\"Confusion Matrix for Random Forest Classifier:\")\n",
    "print(confusion_matrix(y_test,predrmfr))\n",
    "print(\"Score:\",score_rmfr)\n",
    "print(\"Classification Report:\")\n",
    "print(classification_report(y_test,predrmfr))"
   ]
  },
  {
   "cell_type": "raw",
   "id": "6352a042-ec64-4df3-8ad4-98a316213c8b",
   "metadata": {},
   "source": [
    "3 - Decision Tree"
   ]
  },
  {
   "cell_type": "code",
   "execution_count": 150,
   "id": "4b50a9cb-e805-4aad-8c37-84f3530a36a7",
   "metadata": {},
   "outputs": [
    {
     "name": "stdout",
     "output_type": "stream",
     "text": [
      "Confusion Matrix for Decision Tree:\n",
      "[[ 60  46  56]\n",
      " [ 28 148 116]\n",
      " [ 37  95 524]]\n",
      "Score: 65.95\n",
      "Classification Report:\n",
      "              precision    recall  f1-score   support\n",
      "\n",
      "           1       0.48      0.37      0.42       162\n",
      "           3       0.51      0.51      0.51       292\n",
      "           5       0.75      0.80      0.78       656\n",
      "\n",
      "    accuracy                           0.66      1110\n",
      "   macro avg       0.58      0.56      0.57      1110\n",
      "weighted avg       0.65      0.66      0.65      1110\n",
      "\n"
     ]
    }
   ],
   "source": [
    "# Decision Tree\n",
    "from sklearn.tree import DecisionTreeClassifier\n",
    "dt = DecisionTreeClassifier()\n",
    "dt.fit(x_train,y_train)\n",
    "preddt = dt.predict(x_test)\n",
    "score_dt = round(accuracy_score(y_test,preddt)*100,2)\n",
    "print(\"Confusion Matrix for Decision Tree:\")\n",
    "print(confusion_matrix(y_test,preddt))\n",
    "print(\"Score:\",score_dt)\n",
    "print(\"Classification Report:\")\n",
    "print(classification_report(y_test,preddt))"
   ]
  },
  {
   "cell_type": "raw",
   "id": "df951943-3fbf-4986-89ad-3efd30197869",
   "metadata": {},
   "source": [
    "4 - Support Vector Machines"
   ]
  },
  {
   "cell_type": "code",
   "execution_count": 151,
   "id": "c18b0713-22de-4119-b7fd-48223dc76b8e",
   "metadata": {},
   "outputs": [
    {
     "name": "stdout",
     "output_type": "stream",
     "text": [
      "Confusion Matrix for Support Vector Machines:\n",
      "[[ 31  23 108]\n",
      " [  5 122 165]\n",
      " [  1  19 636]]\n",
      "Score: 71.08\n",
      "Classification Report:\n",
      "              precision    recall  f1-score   support\n",
      "\n",
      "           1       0.84      0.19      0.31       162\n",
      "           3       0.74      0.42      0.54       292\n",
      "           5       0.70      0.97      0.81       656\n",
      "\n",
      "    accuracy                           0.71      1110\n",
      "   macro avg       0.76      0.53      0.55      1110\n",
      "weighted avg       0.73      0.71      0.67      1110\n",
      "\n"
     ]
    }
   ],
   "source": [
    "# Support Vector Machine\n",
    "from sklearn.svm import SVC\n",
    "svm = SVC(random_state=101)\n",
    "svm.fit(x_train,y_train)\n",
    "predsvm = svm.predict(x_test)\n",
    "score_svm = round(accuracy_score(y_test,predsvm)*100,2)\n",
    "print(\"Confusion Matrix for Support Vector Machines:\")\n",
    "print(confusion_matrix(y_test,predsvm))\n",
    "print(\"Score:\",score_svm)\n",
    "print(\"Classification Report:\")\n",
    "print(classification_report(y_test,predsvm))"
   ]
  },
  {
   "cell_type": "raw",
   "id": "96ae06f6-1785-420c-8aff-b0f7bc755437",
   "metadata": {},
   "source": [
    "5 - Gradient Boosting Classifier"
   ]
  },
  {
   "cell_type": "code",
   "execution_count": 152,
   "id": "2adbc4ed-c088-4a6e-bf6b-b74b4855e49e",
   "metadata": {},
   "outputs": [
    {
     "name": "stdout",
     "output_type": "stream",
     "text": [
      "Confusion Matrix for Gradient Boosting Classifier:\n",
      "[[ 61  33  68]\n",
      " [ 10 138 144]\n",
      " [  4  33 619]]\n",
      "Score: 73.69\n",
      "Classification Report:\n",
      "              precision    recall  f1-score   support\n",
      "\n",
      "           1       0.81      0.38      0.51       162\n",
      "           3       0.68      0.47      0.56       292\n",
      "           5       0.74      0.94      0.83       656\n",
      "\n",
      "    accuracy                           0.74      1110\n",
      "   macro avg       0.74      0.60      0.63      1110\n",
      "weighted avg       0.74      0.74      0.71      1110\n",
      "\n"
     ]
    }
   ],
   "source": [
    "# Gradient Boosting Classifier\n",
    "from sklearn.ensemble import GradientBoostingClassifier\n",
    "\"\"\"# parameter evaluation\n",
    "gbe = GradientBoostingClassifier(random_state=0)\n",
    "parameters = {\n",
    "     'learning_rate': [0.05, 0.1, 0.5],\n",
    "    'max_features': [0.5, 1],\n",
    "    'max_depth': [3, 4, 5]}\n",
    "gridsearch=GridSearchCV(gbe,parameters,cv=100,scoring='roc_auc')\n",
    "gridsearch.fit(x,y)\n",
    "print(gridsearch.best_params_)\n",
    "print(gridsearch.best_score_)\"\"\"\n",
    "#Boosting\n",
    "gbi = GradientBoostingClassifier(learning_rate=0.1,max_depth=5,max_features=0.5,random_state=999999)\n",
    "gbi.fit(x_train,y_train)\n",
    "predgbi = gbi.predict(x_test)\n",
    "score_gbi = round(accuracy_score(y_test,predgbi)*100,2)\n",
    "print(\"Confusion Matrix for Gradient Boosting Classifier:\")\n",
    "print(confusion_matrix(y_test,predgbi))\n",
    "print(\"Score:\",score_gbi)\n",
    "print(\"Classification Report:\")\n",
    "print(classification_report(y_test,predgbi))"
   ]
  },
  {
   "cell_type": "markdown",
   "id": "f817254e-7b71-4921-8e79-da48753dacbb",
   "metadata": {},
   "source": [
    "In the above GBC code, I have commented the parameter evaluation code because it takes a lot of time for execution. In version 9 of this notebook , I ran only the parameter evaluation code, I got the parameters of:\n",
    "\n",
    "* Learning Rate = 0.1\n",
    "* Max Depth = 5\n",
    "* Max Features = 0.5 \n",
    "\n",
    "Hence, I used those features directly from Version 10 onwards for faster execution. If you want to see the running, you can either run version 9 or uncomment that part."
   ]
  },
  {
   "cell_type": "raw",
   "id": "9a684665-f4f3-48a3-9e84-dd960ccc7f55",
   "metadata": {},
   "source": [
    "6 - K - Nearest Neighbor Classifier"
   ]
  },
  {
   "cell_type": "code",
   "execution_count": 153,
   "id": "1dc4a5b7-a69b-40b4-98c9-497921c71d24",
   "metadata": {},
   "outputs": [
    {
     "name": "stdout",
     "output_type": "stream",
     "text": [
      "Confusion Matrix for K Neighbors Classifier:\n",
      "[[ 12  10 140]\n",
      " [  3  33 256]\n",
      " [  8  12 636]]\n",
      "Score:  61.35\n",
      "Classification Report:\n",
      "              precision    recall  f1-score   support\n",
      "\n",
      "           1       0.52      0.07      0.13       162\n",
      "           3       0.60      0.11      0.19       292\n",
      "           5       0.62      0.97      0.75       656\n",
      "\n",
      "    accuracy                           0.61      1110\n",
      "   macro avg       0.58      0.39      0.36      1110\n",
      "weighted avg       0.60      0.61      0.51      1110\n",
      "\n"
     ]
    }
   ],
   "source": [
    "# K Nearest Neighbour Algorithm\n",
    "from sklearn.neighbors import KNeighborsClassifier\n",
    "knn = KNeighborsClassifier(n_neighbors=10)\n",
    "knn.fit(x_train,y_train)\n",
    "predknn = knn.predict(x_test)\n",
    "score_knn = round(accuracy_score(y_test,predknn)*100,2)\n",
    "print(\"Confusion Matrix for K Neighbors Classifier:\")\n",
    "print(confusion_matrix(y_test,predknn))\n",
    "print(\"Score: \",score_knn)\n",
    "print(\"Classification Report:\")\n",
    "print(classification_report(y_test,predknn))"
   ]
  },
  {
   "cell_type": "raw",
   "id": "68ccd56f-5a16-495b-af59-f5f7b93ff802",
   "metadata": {},
   "source": [
    "7 - XGBoost Classifier"
   ]
  },
  {
   "cell_type": "code",
   "execution_count": 154,
   "id": "7102a41c-d8fd-4166-b7eb-ef4090f5e26a",
   "metadata": {},
   "outputs": [
    {
     "name": "stdout",
     "output_type": "stream",
     "text": [
      "Confusion Matrix for XGBoost Classifier:\n",
      "[[  0   0   0   0   0]\n",
      " [ 75  38  49   0   0]\n",
      " [  0   0   0   0   0]\n",
      " [ 12 162 118   0   0]\n",
      " [  9  36 611   0   0]]\n",
      "Score:  3.42\n",
      "Classification Report:\n",
      "              precision    recall  f1-score   support\n",
      "\n",
      "           0       0.00      0.00      0.00         0\n",
      "           1       0.16      0.23      0.19       162\n",
      "           2       0.00      0.00      0.00         0\n",
      "           3       0.00      0.00      0.00       292\n",
      "           5       0.00      0.00      0.00       656\n",
      "\n",
      "    accuracy                           0.03      1110\n",
      "   macro avg       0.03      0.05      0.04      1110\n",
      "weighted avg       0.02      0.03      0.03      1110\n",
      "\n"
     ]
    },
    {
     "name": "stderr",
     "output_type": "stream",
     "text": [
      "/Users/cynthiali/opt/anaconda3/lib/python3.9/site-packages/sklearn/metrics/_classification.py:1318: UndefinedMetricWarning: Precision and F-score are ill-defined and being set to 0.0 in labels with no predicted samples. Use `zero_division` parameter to control this behavior.\n",
      "  _warn_prf(average, modifier, msg_start, len(result))\n",
      "/Users/cynthiali/opt/anaconda3/lib/python3.9/site-packages/sklearn/metrics/_classification.py:1318: UndefinedMetricWarning: Recall and F-score are ill-defined and being set to 0.0 in labels with no true samples. Use `zero_division` parameter to control this behavior.\n",
      "  _warn_prf(average, modifier, msg_start, len(result))\n",
      "/Users/cynthiali/opt/anaconda3/lib/python3.9/site-packages/sklearn/metrics/_classification.py:1318: UndefinedMetricWarning: Precision and F-score are ill-defined and being set to 0.0 in labels with no predicted samples. Use `zero_division` parameter to control this behavior.\n",
      "  _warn_prf(average, modifier, msg_start, len(result))\n",
      "/Users/cynthiali/opt/anaconda3/lib/python3.9/site-packages/sklearn/metrics/_classification.py:1318: UndefinedMetricWarning: Recall and F-score are ill-defined and being set to 0.0 in labels with no true samples. Use `zero_division` parameter to control this behavior.\n",
      "  _warn_prf(average, modifier, msg_start, len(result))\n",
      "/Users/cynthiali/opt/anaconda3/lib/python3.9/site-packages/sklearn/metrics/_classification.py:1318: UndefinedMetricWarning: Precision and F-score are ill-defined and being set to 0.0 in labels with no predicted samples. Use `zero_division` parameter to control this behavior.\n",
      "  _warn_prf(average, modifier, msg_start, len(result))\n",
      "/Users/cynthiali/opt/anaconda3/lib/python3.9/site-packages/sklearn/metrics/_classification.py:1318: UndefinedMetricWarning: Recall and F-score are ill-defined and being set to 0.0 in labels with no true samples. Use `zero_division` parameter to control this behavior.\n",
      "  _warn_prf(average, modifier, msg_start, len(result))\n"
     ]
    }
   ],
   "source": [
    "# XGBoost Classifier\n",
    "import xgboost\n",
    "from xgboost import XGBClassifier\n",
    "\n",
    "# the class column has to start from 0 (as required since version 1.3.2). \n",
    "# An easy way to solve that is using LabelEncoder from sklearn.preprocssing library.\n",
    "\n",
    "from sklearn.preprocessing import LabelEncoder\n",
    "le = LabelEncoder()\n",
    "y_train = le.fit_transform(y_train)\n",
    "\n",
    "xgb = XGBClassifier()\n",
    "xgb.fit(x_train,y_train)\n",
    "predxgb = xgb.predict(x_test)\n",
    "score_xgb = round(accuracy_score(y_test,predxgb)*100,2)\n",
    "print(\"Confusion Matrix for XGBoost Classifier:\")\n",
    "print(confusion_matrix(y_test,predxgb))\n",
    "print(\"Score: \",score_xgb)\n",
    "print(\"Classification Report:\")\n",
    "print(classification_report(y_test,predxgb))"
   ]
  },
  {
   "cell_type": "code",
   "execution_count": 155,
   "id": "27a7bc4a-b0b4-435f-8d29-fb3b0a82afc2",
   "metadata": {},
   "outputs": [
    {
     "name": "stdout",
     "output_type": "stream",
     "text": [
      "Confusion Matrix for Multilayer Perceptron Classifier:\n",
      "[[  0   0   0   0   0]\n",
      " [ 94  35  33   0   0]\n",
      " [  0   0   0   0   0]\n",
      " [ 18 189  85   0   0]\n",
      " [ 11  57 588   0   0]]\n",
      "Score: 3.15\n",
      "Classification Report:\n",
      "              precision    recall  f1-score   support\n",
      "\n",
      "           0       0.00      0.00      0.00         0\n",
      "           1       0.12      0.22      0.16       162\n",
      "           2       0.00      0.00      0.00         0\n",
      "           3       0.00      0.00      0.00       292\n",
      "           5       0.00      0.00      0.00       656\n",
      "\n",
      "    accuracy                           0.03      1110\n",
      "   macro avg       0.02      0.04      0.03      1110\n",
      "weighted avg       0.02      0.03      0.02      1110\n",
      "\n"
     ]
    },
    {
     "name": "stderr",
     "output_type": "stream",
     "text": [
      "/Users/cynthiali/opt/anaconda3/lib/python3.9/site-packages/sklearn/neural_network/_multilayer_perceptron.py:699: UserWarning: Training interrupted by user.\n",
      "  warnings.warn(\"Training interrupted by user.\")\n",
      "/Users/cynthiali/opt/anaconda3/lib/python3.9/site-packages/sklearn/metrics/_classification.py:1318: UndefinedMetricWarning: Precision and F-score are ill-defined and being set to 0.0 in labels with no predicted samples. Use `zero_division` parameter to control this behavior.\n",
      "  _warn_prf(average, modifier, msg_start, len(result))\n",
      "/Users/cynthiali/opt/anaconda3/lib/python3.9/site-packages/sklearn/metrics/_classification.py:1318: UndefinedMetricWarning: Recall and F-score are ill-defined and being set to 0.0 in labels with no true samples. Use `zero_division` parameter to control this behavior.\n",
      "  _warn_prf(average, modifier, msg_start, len(result))\n",
      "/Users/cynthiali/opt/anaconda3/lib/python3.9/site-packages/sklearn/metrics/_classification.py:1318: UndefinedMetricWarning: Precision and F-score are ill-defined and being set to 0.0 in labels with no predicted samples. Use `zero_division` parameter to control this behavior.\n",
      "  _warn_prf(average, modifier, msg_start, len(result))\n",
      "/Users/cynthiali/opt/anaconda3/lib/python3.9/site-packages/sklearn/metrics/_classification.py:1318: UndefinedMetricWarning: Recall and F-score are ill-defined and being set to 0.0 in labels with no true samples. Use `zero_division` parameter to control this behavior.\n",
      "  _warn_prf(average, modifier, msg_start, len(result))\n",
      "/Users/cynthiali/opt/anaconda3/lib/python3.9/site-packages/sklearn/metrics/_classification.py:1318: UndefinedMetricWarning: Precision and F-score are ill-defined and being set to 0.0 in labels with no predicted samples. Use `zero_division` parameter to control this behavior.\n",
      "  _warn_prf(average, modifier, msg_start, len(result))\n",
      "/Users/cynthiali/opt/anaconda3/lib/python3.9/site-packages/sklearn/metrics/_classification.py:1318: UndefinedMetricWarning: Recall and F-score are ill-defined and being set to 0.0 in labels with no true samples. Use `zero_division` parameter to control this behavior.\n",
      "  _warn_prf(average, modifier, msg_start, len(result))\n"
     ]
    }
   ],
   "source": [
    "# MULTILAYER PERCEPTRON CLASSIFIER\n",
    "from sklearn.neural_network import MLPClassifier\n",
    "mlp = MLPClassifier()\n",
    "mlp.fit(x_train,y_train)\n",
    "predmlp = mlp.predict(x_test)\n",
    "score_mlp = round(accuracy_score(y_test,predmlp)*100,2)\n",
    "print(\"Confusion Matrix for Multilayer Perceptron Classifier:\")\n",
    "print(confusion_matrix(y_test,predmlp))\n",
    "print(\"Score:\",score_mlp)\n",
    "print(\"Classification Report:\")\n",
    "print(classification_report(y_test,predmlp))"
   ]
  },
  {
   "cell_type": "raw",
   "id": "873ef1ec-70d4-41de-9ace-a7b1d8a50512",
   "metadata": {},
   "source": [
    "From the above algorithm modelling, we can list the accuracy for each model:"
   ]
  },
  {
   "cell_type": "code",
   "execution_count": 156,
   "id": "d08ebafb-ec60-4f1e-87ff-1db556de632e",
   "metadata": {},
   "outputs": [
    {
     "name": "stdout",
     "output_type": "stream",
     "text": [
      "Multinomial Naive Bayes =  76.94 %\n",
      "Gradient Boosting Classifier =  73.69 %\n",
      "Support Vector Machine =  71.08 %\n",
      "Random Forest Classifier =  69.37 %\n",
      "Decision Tree =  65.95 %\n",
      "K Neighbor Classifier =  61.35 %\n",
      "XGBoost Classifier =  3.42 %\n",
      "Multilayer Perceptron =  3.15 %\n"
     ]
    }
   ],
   "source": [
    "print('Multinomial Naive Bayes = ',score_mnb,'%') \n",
    "print('Gradient Boosting Classifier = ',score_gbi,'%') \n",
    "print('Support Vector Machine = ',score_svm,'%') \n",
    "print('Random Forest Classifier = ',score_rmfr,'%') \n",
    "print('Decision Tree = ',score_dt,'%') \n",
    "print('K Neighbor Classifier = ',score_knn,'%') \n",
    "print('XGBoost Classifier = ',score_xgb,'%') \n",
    "print('Multilayer Perceptron = ', score_mlp,'%') "
   ]
  },
  {
   "cell_type": "raw",
   "id": "f923ff20-ff61-47c2-9815-3c539a9f3cb4",
   "metadata": {},
   "source": [
    "Since Multinomial Naive Bayes has the best score, let us use it to predict a random positive review, a random average review and a random negative review!"
   ]
  },
  {
   "cell_type": "code",
   "execution_count": 183,
   "id": "ef743206-ec71-402e-b37d-67ddf14001c7",
   "metadata": {},
   "outputs": [
    {
     "name": "stdout",
     "output_type": "stream",
     "text": [
      "My wife took me here on my birthday for breakfast and it was excellent.  The weather was perfect which made sitting outside overlooking their grounds an absolute pleasure.  Our waitress was excellent and our food arrived quickly on the semi-busy Saturday morning.  It looked like the place fills up pretty quickly so the earlier you get here the better.\n",
      "\n",
      "Do yourself a favor and get their Bloody Mary.  It was phenomenal and simply the best I've ever had.  I'm pretty sure they only use ingredients from their garden and blend them fresh when you order it.  It was amazing.\n",
      "\n",
      "While EVERYTHING on the menu looks excellent, I had the white truffle scrambled eggs vegetable skillet and it was tasty and delicious.  It came with 2 pieces of their griddled bread with was amazing and it absolutely made the meal complete.  It was the best \"toast\" I've ever had.\n",
      "\n",
      "Anyway, I can't wait to go back!\n",
      "Actual Rating:\n",
      "5\n",
      "Predicted Rating:\n"
     ]
    },
    {
     "data": {
      "text/plain": [
       "5"
      ]
     },
     "execution_count": 183,
     "metadata": {},
     "output_type": "execute_result"
    }
   ],
   "source": [
    "# POSITIVE REVIEW\n",
    "pr = data['text'][0]\n",
    "print(pr)\n",
    "print(\"Actual Rating:\")\n",
    "print(data['stars'][0])\n",
    "pr_t = vocab.transform([pr])\n",
    "print(\"Predicted Rating:\")\n",
    "mnb.predict(pr_t)[0]"
   ]
  },
  {
   "cell_type": "code",
   "execution_count": 188,
   "id": "9af66624-e6e4-4a58-a90c-b6f937452151",
   "metadata": {},
   "outputs": [
    {
     "name": "stdout",
     "output_type": "stream",
     "text": [
      "We went here on a Saturday afternoon and this place was incredibly empty.  They had brunch specials going on, including $2 bloody mary's and mimosas, but we were more in the mood for lunch.  Except for the bloody mary, I had to try one.  It came out in a high-ball-sized glass.  Boo!  But it was really tasty. Yay!  The hubby remembered a sign outside the restaurant a few weeks back that said they had Arrogant Bastard, and he got a 22 oz bottle for $4.75.  Hey, that's not fair!!\n",
      "\n",
      "Next up: the wings.  We were a bit hesitant to order them when the waitress informed us that they are \"seasoned\" but not sauced, so they can't be ordered hot.  We did ask for them crispy though, and the waitress even asked the cooks to throw them back in for a few minutes when they came out not visibly crispy.  These non-traditional wings were actually pretty damn good.  The seasoning was a little spicy and salty with just a hint of sweet.  If I were in the mood for the tang and kick of Frank's Hot Sauce, these wouldn't cut it, but otherwise they were good enough to go back again for.\n",
      "\n",
      "My entree was the Tilapia salad, and I was a bit disappointed.  The fish was a bit dry and uninspired. And the greens underneath were overdressed and wilted.  I ate the greens around the fish and picked out the almonds and Mandarin oranges, but I had to leave the mush hiding underneath the fish.\n",
      "\n",
      "It wasn't bad enough to say I wouldn't go back, but I won't be anxiously awaiting my next trip.\n",
      "Actual Rating:\n",
      "3\n",
      "Predicted Rating:\n"
     ]
    },
    {
     "data": {
      "text/plain": [
       "3"
      ]
     },
     "execution_count": 188,
     "metadata": {},
     "output_type": "execute_result"
    }
   ],
   "source": [
    "# AVERAGE REVIEW\n",
    "ar = data['text'][16]\n",
    "print(ar)\n",
    "print(\"Actual Rating:\")\n",
    "print(data['stars'][16])\n",
    "ar_t = vocab.transform([ar])\n",
    "print(\"Predicted Rating:\")\n",
    "mnb.predict(ar_t)[0]"
   ]
  },
  {
   "cell_type": "code",
   "execution_count": 185,
   "id": "df003763-6db4-420c-9bc9-bcfb5fb2343f",
   "metadata": {},
   "outputs": [
    {
     "name": "stdout",
     "output_type": "stream",
     "text": [
      "U can go there n check the car out. If u wanna buy 1 there? That's wrong move! If u even want a car service from there? U made a biggest mistake of ur life!! I had 1 time asked my girlfriend to take my car there for an oil service, guess what? They ripped my girlfriend off by lying how bad my car is now. If without fixing the problem. Might bring some serious accident. Then she did what they said. 4 brand new tires, timing belt, 4 new brake pads. U know why's the worst? All of those above I had just changed 2 months before!!! What a trashy dealer is that? People, better off go somewhere!\n",
      "Actual Rating:\n",
      "1\n",
      "Predicted Rating:\n"
     ]
    },
    {
     "data": {
      "text/plain": [
       "1"
      ]
     },
     "execution_count": 185,
     "metadata": {},
     "output_type": "execute_result"
    }
   ],
   "source": [
    "# NEGATIVE REVIEW\n",
    "nr = data['text'][23]\n",
    "print(nr)\n",
    "print(\"Actual Rating:\")\n",
    "print(data['stars'][23])\n",
    "nr_t = vocab.transform([nr])\n",
    "print(\"Predicted Rating:\")\n",
    "mnb.predict(nr_t)[0]"
   ]
  },
  {
   "cell_type": "markdown",
   "id": "d133de57-46f9-427f-b68d-d3f9784a2a13",
   "metadata": {},
   "source": [
    "## Bias in dataset\n",
    "In the data count below, we can see that predictions are biased towards positive reviews. It is possible that the dataset has more positive reviews as compared to negative reviews.\n",
    "This can likely be fixed by normalizing the dataset to have equal number of reviews - thereby removing the bias."
   ]
  },
  {
   "cell_type": "code",
   "execution_count": 160,
   "id": "079e5dc5-b898-4fad-815d-4850d2feb4dd",
   "metadata": {},
   "outputs": [
    {
     "name": "stdout",
     "output_type": "stream",
     "text": [
      "4    3526\n",
      "5    3337\n",
      "3    1461\n",
      "2     927\n",
      "1     749\n",
      "Name: stars, dtype: int64\n"
     ]
    }
   ],
   "source": [
    "count = data['stars'].value_counts()\n",
    "print(count)"
   ]
  },
  {
   "cell_type": "code",
   "execution_count": 161,
   "id": "879fb105-c6a2-4093-9825-ab4f36c50647",
   "metadata": {},
   "outputs": [
    {
     "data": {
      "text/plain": [
       "(array([[ 94., 274., 742.],\n",
       "        [162., 292., 656.]]),\n",
       " array([1.        , 2.33333333, 3.66666667, 5.        ]),\n",
       " <a list of 2 BarContainer objects>)"
      ]
     },
     "execution_count": 161,
     "metadata": {},
     "output_type": "execute_result"
    },
    {
     "data": {
      "image/png": "[encoded data removed]",
      "text/plain": [
       "<Figure size 432x288 with 1 Axes>"
      ]
     },
     "metadata": {
      "needs_background": "light"
     },
     "output_type": "display_data"
    }
   ],
   "source": [
    "# Multinomial Naive Bayes\n",
    "plt.hist([predmnb, y_test], color=['r','b'], alpha=0.5, bins=3)"
   ]
  },
  {
   "cell_type": "markdown",
   "id": "dd576093-0b07-46b1-9552-ae31183dcdaf",
   "metadata": {},
   "source": [
    "# Analyzing Sentiment of Yelp Reviews\n",
    "\n",
    "Once the sentiment classifier is built, you can use it to analyze the sentiment of Yelp reviews. You can visualize the sentiment distribution, identify the most positive/negative reviews, and track the sentiment over time.\n",
    "\n",
    "Here are some methods you can use to visualize the sentiment distribution, identify the most positive/negative reviews, and track the sentiment over time:\n",
    "\n",
    "1. Sentiment Distribution: You can visualize the sentiment distribution using a histogram or a pie chart. To create a histogram, you can count the number of reviews in each sentiment category (positive, negative, or neutral) and plot the counts on the x-axis and the sentiment categories on the y-axis. To create a pie chart, you can calculate the percentage of reviews in each sentiment category and plot the percentages as slices of a pie chart.\n",
    "\n",
    "2. Most Positive/Negative Reviews: To identify the most positive/negative reviews, you can sort the reviews by sentiment score and extract the top/bottom reviews. You can also use word clouds to visualize the most frequent words in the positive/negative reviews. Word clouds are visual representations of the most common words in a set of text data, with the size of each word representing its frequency in the text.\n",
    "\n",
    "3. Sentiment Over Time: To track the sentiment over time, you can plot the sentiment scores of the reviews against the review date. You can use line charts or area charts to visualize the sentiment trend over time. You can also use smoothing techniques, such as moving averages or exponential smoothing, to reduce noise in the data and highlight the underlying trend.\n",
    "\n",
    "To implement these visualizations in Python, you can use popular data visualization libraries such as Matplotlib, Seaborn, and Plotly. You can also use specialized libraries for sentiment analysis, such as TextBlob, NLTK, or spaCy, to extract sentiment scores and perform preprocessing tasks."
   ]
  },
  {
   "cell_type": "raw",
   "id": "2c94e2b3-774e-4d8e-98c9-7f69b644f830",
   "metadata": {},
   "source": [
    "Now let's try our predictor on a specific restaurant\n",
    "This Dataset contains two rows Customer Reviews and Liked.\n",
    "Customer reviews tells us about the reviews given by the customers for a food in restaurant and liked column tells about whether they liked the food or not."
   ]
  },
  {
   "cell_type": "code",
   "execution_count": 192,
   "id": "951e7d00-c8a7-49f3-ad31-727861cd4e07",
   "metadata": {},
   "outputs": [],
   "source": [
    "# Review for a chosen restaurant\n",
    "# LOADING THE DATASET AND SEEING THE DETAILS\n",
    "data_new = pd.read_csv('https://raw.githubusercontent.com/cynthialmy/DataVizLab/main/yelp_dataset/Restaurant_Reviews.tsv',delimiter='\\t',quoting=3)"
   ]
  },
  {
   "cell_type": "code",
   "execution_count": 212,
   "id": "fd50c297-556e-477f-9679-223088c13481",
   "metadata": {},
   "outputs": [
    {
     "data": {
      "text/html": [
       "<div>\n",
       "<style scoped>\n",
       "    .dataframe tbody tr th:only-of-type {\n",
       "        vertical-align: middle;\n",
       "    }\n",
       "\n",
       "    .dataframe tbody tr th {\n",
       "        vertical-align: top;\n",
       "    }\n",
       "\n",
       "    .dataframe thead th {\n",
       "        text-align: right;\n",
       "    }\n",
       "</style>\n",
       "<table border=\"1\" class=\"dataframe\">\n",
       "  <thead>\n",
       "    <tr style=\"text-align: right;\">\n",
       "      <th></th>\n",
       "      <th>Review</th>\n",
       "      <th>Liked</th>\n",
       "    </tr>\n",
       "  </thead>\n",
       "  <tbody>\n",
       "    <tr>\n",
       "      <th>0</th>\n",
       "      <td>Wow... Loved this place.</td>\n",
       "      <td>1</td>\n",
       "    </tr>\n",
       "    <tr>\n",
       "      <th>1</th>\n",
       "      <td>Crust is not good.</td>\n",
       "      <td>0</td>\n",
       "    </tr>\n",
       "    <tr>\n",
       "      <th>2</th>\n",
       "      <td>Not tasty and the texture was just nasty.</td>\n",
       "      <td>0</td>\n",
       "    </tr>\n",
       "    <tr>\n",
       "      <th>3</th>\n",
       "      <td>Stopped by during the late May bank holiday of...</td>\n",
       "      <td>1</td>\n",
       "    </tr>\n",
       "    <tr>\n",
       "      <th>4</th>\n",
       "      <td>The selection on the menu was great and so wer...</td>\n",
       "      <td>1</td>\n",
       "    </tr>\n",
       "    <tr>\n",
       "      <th>...</th>\n",
       "      <td>...</td>\n",
       "      <td>...</td>\n",
       "    </tr>\n",
       "    <tr>\n",
       "      <th>995</th>\n",
       "      <td>I think food should have flavor and texture an...</td>\n",
       "      <td>0</td>\n",
       "    </tr>\n",
       "    <tr>\n",
       "      <th>996</th>\n",
       "      <td>Appetite instantly gone.</td>\n",
       "      <td>0</td>\n",
       "    </tr>\n",
       "    <tr>\n",
       "      <th>997</th>\n",
       "      <td>Overall I was not impressed and would not go b...</td>\n",
       "      <td>0</td>\n",
       "    </tr>\n",
       "    <tr>\n",
       "      <th>998</th>\n",
       "      <td>The whole experience was underwhelming, and I ...</td>\n",
       "      <td>0</td>\n",
       "    </tr>\n",
       "    <tr>\n",
       "      <th>999</th>\n",
       "      <td>Then, as if I hadn't wasted enough of my life ...</td>\n",
       "      <td>0</td>\n",
       "    </tr>\n",
       "  </tbody>\n",
       "</table>\n",
       "<p>1000 rows × 2 columns</p>\n",
       "</div>"
      ],
      "text/plain": [
       "                                                Review  Liked\n",
       "0                             Wow... Loved this place.      1\n",
       "1                                   Crust is not good.      0\n",
       "2            Not tasty and the texture was just nasty.      0\n",
       "3    Stopped by during the late May bank holiday of...      1\n",
       "4    The selection on the menu was great and so wer...      1\n",
       "..                                                 ...    ...\n",
       "995  I think food should have flavor and texture an...      0\n",
       "996                           Appetite instantly gone.      0\n",
       "997  Overall I was not impressed and would not go b...      0\n",
       "998  The whole experience was underwhelming, and I ...      0\n",
       "999  Then, as if I hadn't wasted enough of my life ...      0\n",
       "\n",
       "[1000 rows x 2 columns]"
      ]
     },
     "execution_count": 212,
     "metadata": {},
     "output_type": "execute_result"
    }
   ],
   "source": [
    "df = pd.DataFrame(data_new)\n",
    "df"
   ]
  },
  {
   "cell_type": "code",
   "execution_count": 213,
   "id": "6911ca11-6745-4a82-94f3-f7e508647d6c",
   "metadata": {},
   "outputs": [],
   "source": [
    "df['Rating'] = df.apply(lambda x: mnb.predict(vocab.transform([x['Review']]))[0] , axis=1)"
   ]
  },
  {
   "cell_type": "code",
   "execution_count": 214,
   "id": "cae44608-1790-461c-8633-19be0bf15d6a",
   "metadata": {},
   "outputs": [
    {
     "data": {
      "text/html": [
       "<div>\n",
       "<style scoped>\n",
       "    .dataframe tbody tr th:only-of-type {\n",
       "        vertical-align: middle;\n",
       "    }\n",
       "\n",
       "    .dataframe tbody tr th {\n",
       "        vertical-align: top;\n",
       "    }\n",
       "\n",
       "    .dataframe thead th {\n",
       "        text-align: right;\n",
       "    }\n",
       "</style>\n",
       "<table border=\"1\" class=\"dataframe\">\n",
       "  <thead>\n",
       "    <tr style=\"text-align: right;\">\n",
       "      <th></th>\n",
       "      <th>Review</th>\n",
       "      <th>Liked</th>\n",
       "      <th>Rating</th>\n",
       "    </tr>\n",
       "  </thead>\n",
       "  <tbody>\n",
       "    <tr>\n",
       "      <th>0</th>\n",
       "      <td>Wow... Loved this place.</td>\n",
       "      <td>1</td>\n",
       "      <td>5</td>\n",
       "    </tr>\n",
       "    <tr>\n",
       "      <th>1</th>\n",
       "      <td>Crust is not good.</td>\n",
       "      <td>0</td>\n",
       "      <td>5</td>\n",
       "    </tr>\n",
       "    <tr>\n",
       "      <th>2</th>\n",
       "      <td>Not tasty and the texture was just nasty.</td>\n",
       "      <td>0</td>\n",
       "      <td>3</td>\n",
       "    </tr>\n",
       "    <tr>\n",
       "      <th>3</th>\n",
       "      <td>Stopped by during the late May bank holiday of...</td>\n",
       "      <td>1</td>\n",
       "      <td>5</td>\n",
       "    </tr>\n",
       "    <tr>\n",
       "      <th>4</th>\n",
       "      <td>The selection on the menu was great and so wer...</td>\n",
       "      <td>1</td>\n",
       "      <td>5</td>\n",
       "    </tr>\n",
       "    <tr>\n",
       "      <th>...</th>\n",
       "      <td>...</td>\n",
       "      <td>...</td>\n",
       "      <td>...</td>\n",
       "    </tr>\n",
       "    <tr>\n",
       "      <th>995</th>\n",
       "      <td>I think food should have flavor and texture an...</td>\n",
       "      <td>0</td>\n",
       "      <td>3</td>\n",
       "    </tr>\n",
       "    <tr>\n",
       "      <th>996</th>\n",
       "      <td>Appetite instantly gone.</td>\n",
       "      <td>0</td>\n",
       "      <td>5</td>\n",
       "    </tr>\n",
       "    <tr>\n",
       "      <th>997</th>\n",
       "      <td>Overall I was not impressed and would not go b...</td>\n",
       "      <td>0</td>\n",
       "      <td>3</td>\n",
       "    </tr>\n",
       "    <tr>\n",
       "      <th>998</th>\n",
       "      <td>The whole experience was underwhelming, and I ...</td>\n",
       "      <td>0</td>\n",
       "      <td>5</td>\n",
       "    </tr>\n",
       "    <tr>\n",
       "      <th>999</th>\n",
       "      <td>Then, as if I hadn't wasted enough of my life ...</td>\n",
       "      <td>0</td>\n",
       "      <td>3</td>\n",
       "    </tr>\n",
       "  </tbody>\n",
       "</table>\n",
       "<p>1000 rows × 3 columns</p>\n",
       "</div>"
      ],
      "text/plain": [
       "                                                Review  Liked  Rating\n",
       "0                             Wow... Loved this place.      1       5\n",
       "1                                   Crust is not good.      0       5\n",
       "2            Not tasty and the texture was just nasty.      0       3\n",
       "3    Stopped by during the late May bank holiday of...      1       5\n",
       "4    The selection on the menu was great and so wer...      1       5\n",
       "..                                                 ...    ...     ...\n",
       "995  I think food should have flavor and texture an...      0       3\n",
       "996                           Appetite instantly gone.      0       5\n",
       "997  Overall I was not impressed and would not go b...      0       3\n",
       "998  The whole experience was underwhelming, and I ...      0       5\n",
       "999  Then, as if I hadn't wasted enough of my life ...      0       3\n",
       "\n",
       "[1000 rows x 3 columns]"
      ]
     },
     "execution_count": 214,
     "metadata": {},
     "output_type": "execute_result"
    }
   ],
   "source": [
    "df"
   ]
  },
  {
   "cell_type": "code",
   "execution_count": null,
   "id": "0306aa6e-ccba-4ce6-9ded-06b95d3310d9",
   "metadata": {},
   "outputs": [
    {
     "name": "stdout",
     "output_type": "stream",
     "text": [
      "Then, as if I hadn't wasted enough of my life there, they poured salt in the wound by drawing out the time it took to bring the check.\n"
     ]
    }
   ],
   "source": []
  },
  {
   "cell_type": "code",
   "execution_count": 208,
   "id": "fc815ae3-4a0d-4907-a3c3-4ab0c7ce54b1",
   "metadata": {},
   "outputs": [],
   "source": [
    "\n"
   ]
  },
  {
   "cell_type": "code",
   "execution_count": 115,
   "id": "db9c0b2a-64d4-492f-9bdb-03f535cfe23a",
   "metadata": {},
   "outputs": [
    {
     "data": {
      "text/plain": [
       "<AxesSubplot:ylabel='Count'>"
      ]
     },
     "execution_count": 115,
     "metadata": {},
     "output_type": "execute_result"
    },
    {
     "data": {
      "image/png": "[encoded data removed]",
      "text/plain": [
       "<Figure size 432x288 with 1 Axes>"
      ]
     },
     "metadata": {
      "needs_background": "light"
     },
     "output_type": "display_data"
    }
   ],
   "source": [
    "sns.histplot(data=predmnb_new, bins = 3)"
   ]
  },
  {
   "cell_type": "markdown",
   "id": "5cd381f9-b952-4bca-b70b-53f05ca367bd",
   "metadata": {},
   "source": [
    "# Sentiment Analysis Use Cases\n",
    "\n",
    "Some of the practical applications of sentiment analysis on Yelp data. For example, businesses can use sentiment analysis to improve their products and services, monitor customer satisfaction, and identify areas for improvement.\n",
    "\n",
    "Here are some practical applications of sentiment analysis on Yelp data:\n",
    "\n",
    "1. Improve Products and Services: Businesses can use sentiment analysis to identify the strengths and weaknesses of their products and services. By analyzing customer feedback on Yelp, businesses can identify the most common complaints or issues and use that information to make improvements. For example, if a restaurant receives negative reviews about the quality of its food, it can use sentiment analysis to identify specific dishes that are receiving negative feedback and work to improve their taste or presentation.\n",
    "\n",
    "2. Monitor Customer Satisfaction: Sentiment analysis can help businesses monitor customer satisfaction in real-time. By analyzing the sentiment of reviews as they are posted, businesses can identify potential problems and address them before they become more significant issues. For example, if a business notices a sudden increase in negative reviews, it can investigate the cause and take corrective action.\n",
    "\n",
    "3. Identify Areas for Improvement: Sentiment analysis can help businesses identify areas for improvement beyond just their products and services. For example, if a business receives consistent negative reviews about its customer service, it can use sentiment analysis to identify specific areas where customers are having issues and work to improve the customer service experience. Additionally, businesses can use sentiment analysis to identify trends in customer feedback and make strategic decisions about where to focus their efforts.\n",
    "\n",
    "4. Competitor Analysis: Sentiment analysis can also be used to compare the sentiment of reviews for different businesses within the same industry. This can help businesses understand how they compare to their competitors and identify areas where they may be falling behind. For example, if a business notices that its competitors are consistently receiving higher sentiment scores for their customer service, it can use that information to make changes to its own customer service policies and procedures.\n",
    "\n",
    "Overall, sentiment analysis on Yelp data can provide businesses with valuable insights into customer feedback and sentiment. By analyzing customer feedback, businesses can improve their products and services, monitor customer satisfaction, identify areas for improvement, and stay competitive in their industry."
   ]
  },
  {
   "cell_type": "code",
   "execution_count": null,
   "id": "9a448a21-69ed-458d-8e97-143841508098",
   "metadata": {},
   "outputs": [],
   "source": []
  },
  {
   "cell_type": "markdown",
   "id": "3124289a-5d47-478a-87c7-ba3560e9510d",
   "metadata": {},
   "source": [
    "# Key Takeaways:\n",
    "\n",
    "1. Sentiment analysis is a powerful tool for analyzing customer feedback and sentiment.\n",
    "\n",
    "2. Natural Language Processing (NLP) is the field of computer science that focuses on developing algorithms and models to analyze and understand human language.\n",
    "\n",
    "3. Python offers a variety of libraries for sentiment analysis and NLP, including TextBlob, NLTK, and spaCy.\n",
    "\n",
    "4. To perform sentiment analysis on Yelp data, you can use a combination of text preprocessing techniques and machine learning algorithms.\n",
    "\n",
    "5. Sentiment analysis on Yelp data can be used to improve products and services, monitor customer satisfaction, identify areas for improvement, and stay competitive in the industry.\n",
    "\n",
    "As a final note, there are many resources available online, including tutorials, courses, and research papers. By continuing to learn about these topics, participants can develop their skills and apply them to real-world problems."
   ]
  },
  {
   "cell_type": "raw",
   "id": "e2e33d46-8443-4470-b388-6b3543465afa",
   "metadata": {},
   "source": []
  },
  {
   "cell_type": "code",
   "execution_count": null,
   "id": "0395256d-d2bc-45d0-be92-c16fd8fa3d07",
   "metadata": {},
   "outputs": [],
   "source": []
  }
 ],
 "metadata": {
  "kernelspec": {
   "display_name": "Python 3 (ipykernel)",
   "language": "python",
   "name": "python3"
  },
  "language_info": {
   "codemirror_mode": {
    "name": "ipython",
    "version": 3
   },
   "file_extension": ".py",
   "mimetype": "text/x-python",
   "name": "python",
   "nbconvert_exporter": "python",
   "pygments_lexer": "ipython3",
   "version": "3.9.12"
  }
 },
 "nbformat": 4,
 "nbformat_minor": 5
}
