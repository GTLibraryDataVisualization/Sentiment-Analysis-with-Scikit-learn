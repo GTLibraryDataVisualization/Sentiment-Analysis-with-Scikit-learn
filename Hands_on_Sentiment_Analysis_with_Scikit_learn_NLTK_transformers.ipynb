{
  "cells": [
    {
      "cell_type": "markdown",
      "metadata": {
        "id": "view-in-github",
        "colab_type": "text"
      },
      "source": [
        "<a href=\"https://colab.research.google.com/github/cynthialmy/Sentiment-Analysis-with-Scikit-learn/blob/main/Hands_on_Sentiment_Analysis_with_Scikit_learn_NLTK_transformers.ipynb\" target=\"_parent\"><img src=\"https://colab.research.google.com/assets/colab-badge.svg\" alt=\"Open In Colab\"/></a>"
      ]
    },
    {
      "cell_type": "markdown",
      "id": "9609ebdb-614f-414c-9ab6-33ee56e68e00",
      "metadata": {
        "id": "9609ebdb-614f-414c-9ab6-33ee56e68e00"
      },
      "source": [
        "# Introduction"
      ]
    },
    {
      "cell_type": "markdown",
      "id": "ea7c04b8-5ae0-4e6f-a84a-354985d4d975",
      "metadata": {
        "id": "ea7c04b8-5ae0-4e6f-a84a-354985d4d975"
      },
      "source": [
        "## Sentiment Analysis\n",
        "\n",
        "Sentiment analysis is a technique used in natural language processing (NLP) to identify and extract subjective information from text, such as opinions, attitudes, emotions, and feelings. Yelp is a platform where users can post reviews about businesses, products, and services. Therefore, analyzing Yelp data can provide valuable insights into customers' sentiments towards a particular business or product.\n"
      ]
    },
    {
      "cell_type": "markdown",
      "id": "951db55c-ed5e-4d82-b4be-135f6a01671d",
      "metadata": {
        "id": "951db55c-ed5e-4d82-b4be-135f6a01671d"
      },
      "source": [
        "## Objectives\n",
        "\n",
        "1. Introduction to sentiment analysis\n",
        "2. Collect and pre-process data from Yelp reviews of restaurants\n",
        "3. Feature extraction\n",
        "4. Train a machine learning model using scikit-learn to predict the review stars of restaurants\n",
        "5. Identify the strengths and weaknesses of the machine learning model and suggest areas for improvement\n",
        "6. Bonus: out-of-box techniques:\n",
        "  - VADER (Valence Aware Dictionary and sEntiment Reasoner) - Bag of words approach\n",
        "  - Roberta Pretrained Model from HuggingFace🤗\n",
        "  - HuggingFace Pipeline"
      ]
    },
    {
      "cell_type": "code",
      "execution_count": 11,
      "id": "84260af5-b0fa-4e26-b9b2-3cd43ae7a27e",
      "metadata": {
        "id": "84260af5-b0fa-4e26-b9b2-3cd43ae7a27e"
      },
      "outputs": [],
      "source": [
        "# IMPORTING ALL THE NECESSARY LIBRARIES AND PACKAGES\n",
        "# Using the Natural Language Processing (NLP) library, nltk\n",
        "import pandas as pd\n",
        "import numpy as np\n",
        "import matplotlib.pyplot as plt\n",
        "import seaborn as sns\n",
        "import nltk\n",
        "from nltk.corpus import stopwords\n",
        "import string\n",
        "import math\n",
        "from sklearn.feature_extraction.text import CountVectorizer\n",
        "from sklearn.model_selection import train_test_split, cross_val_score\n",
        "from sklearn.metrics import classification_report\n",
        "from sklearn.metrics import confusion_matrix, accuracy_score, roc_auc_score, roc_curve\n",
        "from sklearn.model_selection import GridSearchCV\n",
        "%matplotlib inline"
      ]
    },
    {
      "cell_type": "markdown",
      "id": "f1b151c6-253e-4544-9fcc-cd9e5f637de7",
      "metadata": {
        "id": "f1b151c6-253e-4544-9fcc-cd9e5f637de7"
      },
      "source": [
        "## Sample of dataset\n",
        "\n",
        "The data for this project will be collected from the Yelp API. The data will be pre-processed to remove any irrelevant information and to ensure that only the relevant information is used in the analysis.\n",
        "\n",
        "All data set can be accessed and downloaded from Yelp Open Data Set [https://www.yelp.com/dataset/download]."
      ]
    },
    {
      "cell_type": "code",
      "execution_count": 12,
      "id": "5051a45d-1867-44be-bb1e-7e46750b43ad",
      "metadata": {
        "id": "5051a45d-1867-44be-bb1e-7e46750b43ad"
      },
      "outputs": [],
      "source": [
        "# LOADING THE DATASET AND SEEING THE DETAILS\n",
        "data = pd.read_csv('https://raw.githubusercontent.com/cynthialmy/DataVizLab/main/yelp_dataset/yelp.csv')"
      ]
    },
    {
      "cell_type": "code",
      "execution_count": 13,
      "id": "38be147e-2425-439a-bd7b-fb5ff71f0c0d",
      "metadata": {
        "id": "38be147e-2425-439a-bd7b-fb5ff71f0c0d"
      },
      "outputs": [],
      "source": [
        "# SHAPE OF THE DATASET"
      ]
    },
    {
      "cell_type": "code",
      "execution_count": 14,
      "id": "be3e740c-e0c9-4a98-b706-b3b704f15e7a",
      "metadata": {
        "id": "be3e740c-e0c9-4a98-b706-b3b704f15e7a"
      },
      "outputs": [],
      "source": [
        "# COLUMN NAMES"
      ]
    },
    {
      "cell_type": "code",
      "execution_count": 15,
      "id": "8a258bd8-aea9-4969-827d-f8271ba56d9f",
      "metadata": {
        "id": "8a258bd8-aea9-4969-827d-f8271ba56d9f"
      },
      "outputs": [],
      "source": [
        "# DATATYPE OF EACH COLUMN"
      ]
    },
    {
      "cell_type": "code",
      "execution_count": 16,
      "id": "f21d0064-2f57-4e7f-857c-82c636b27918",
      "metadata": {
        "id": "f21d0064-2f57-4e7f-857c-82c636b27918"
      },
      "outputs": [],
      "source": [
        "# Take a look at the first few entries"
      ]
    },
    {
      "cell_type": "code",
      "execution_count": 17,
      "id": "9229f220-f897-4314-9bff-54667402739d",
      "metadata": {
        "id": "9229f220-f897-4314-9bff-54667402739d"
      },
      "outputs": [],
      "source": [
        "# Summary of the dataset"
      ]
    },
    {
      "cell_type": "markdown",
      "id": "287b2e66-ec3d-44fb-8a13-0057ce74f92f",
      "metadata": {
        "id": "287b2e66-ec3d-44fb-8a13-0057ce74f92f"
      },
      "source": [
        "# Preprocessing Yelp Data\n",
        "\n",
        "Yelp data comes in unstructured format, so the first step is to preprocess the data. This includes cleaning the text, removing stop words, and tokenizing the words."
      ]
    },
    {
      "cell_type": "raw",
      "id": "54e23e8b-f9fa-47f7-a384-36a3b0d1c832",
      "metadata": {
        "id": "54e23e8b-f9fa-47f7-a384-36a3b0d1c832"
      },
      "source": [
        "Creating of a new column:\n",
        "The new column will be - \"length\". This column will hold the data of the word length of the review."
      ]
    },
    {
      "cell_type": "code",
      "execution_count": 18,
      "id": "83c93ac6-ee52-48ba-a2a3-dfc7d3bbdd0a",
      "metadata": {
        "id": "83c93ac6-ee52-48ba-a2a3-dfc7d3bbdd0a"
      },
      "outputs": [],
      "source": [
        "# CREATING A NEW COLUMN IN THE DATASET FOR THE NUMBER OF WORDS IN THE REVIEW\n"
      ]
    },
    {
      "cell_type": "raw",
      "id": "6cfeac27-1009-496d-9c3f-a5df1f01b8df",
      "metadata": {
        "id": "6cfeac27-1009-496d-9c3f-a5df1f01b8df"
      },
      "source": [
        "## Visualisation\n",
        "Let us now visualize the if there is any correlation between stars and the length of the review."
      ]
    },
    {
      "cell_type": "code",
      "source": [
        "ax = data['stars'].value_counts().sort_index().plot(kind='bar',\n",
        "          title='Count of Reviews by Stars',\n",
        "          figsize=(10, 5))\n",
        "ax.set_xlabel('Review Stars')\n",
        "plt.show()"
      ],
      "metadata": {
        "colab": {
          "base_uri": "https://localhost:8080/",
          "height": 346
        },
        "id": "mSVdekSl28Ag",
        "outputId": "17cc664b-1efc-4a8d-cce9-7a5c649c9904"
      },
      "id": "mSVdekSl28Ag",
      "execution_count": 19,
      "outputs": [
        {
          "output_type": "display_data",
          "data": {
            "text/plain": [
              "<Figure size 720x360 with 1 Axes>"
            ],
            "image/png": "[encoded data removed]"
          },
          "metadata": {
            "needs_background": "light"
          }
        }
      ]
    },
    {
      "cell_type": "code",
      "execution_count": 20,
      "id": "74079c28-e39b-47a6-b440-6995b3e3ec98",
      "metadata": {
        "id": "74079c28-e39b-47a6-b440-6995b3e3ec98"
      },
      "outputs": [],
      "source": [
        "# COMPARING TEXT LENGTH TO STARS\n",
        "graph = sns.FacetGrid(data=data,col='stars')\n",
        "graph.map(plt.hist,'length',bins=50)"
      ]
    },
    {
      "cell_type": "raw",
      "id": "f04cf28c-f063-48ee-97b2-0985e36bd912",
      "metadata": {
        "id": "f04cf28c-f063-48ee-97b2-0985e36bd912"
      },
      "source": [
        "## Mean Value of the Vote columns\n",
        "There are 3 voting columns for the reviews - funny, cool and useful. Let us now find the mean values with respect to the stars given to the review."
      ]
    },
    {
      "cell_type": "code",
      "execution_count": 21,
      "id": "8d093d17-0414-404d-9d5e-b6d8685fffcb",
      "metadata": {
        "id": "8d093d17-0414-404d-9d5e-b6d8685fffcb"
      },
      "outputs": [],
      "source": [
        "# GETTING THE MEAN VALUES OF THE VOTE COLUMNS WRT THE STARS ON THE REVIEW\n"
      ]
    },
    {
      "cell_type": "raw",
      "id": "92959096-b1fd-4da8-af36-f6454f6cefee",
      "metadata": {
        "id": "92959096-b1fd-4da8-af36-f6454f6cefee"
      },
      "source": [
        "## Correlation between the voting columns\n",
        "Let us now see what the correlation is between the three voting columns."
      ]
    },
    {
      "cell_type": "code",
      "execution_count": 22,
      "id": "23889d62-16b0-4f1d-bf34-a88937fc3354",
      "metadata": {
        "id": "23889d62-16b0-4f1d-bf34-a88937fc3354"
      },
      "outputs": [],
      "source": [
        "# FINDING THE CORRELATION BETWEEN THE VOTE COLUMNS\n"
      ]
    },
    {
      "cell_type": "markdown",
      "id": "5033b632-d6cb-4fac-a047-c777fa40b287",
      "metadata": {
        "id": "5033b632-d6cb-4fac-a047-c777fa40b287"
      },
      "source": [
        "We can see that there is negative correlation between:\n",
        "\n",
        "* Cool and Useful\n",
        "* Cool and Funny\n",
        "* Cool and Length  \n",
        "\n",
        "We can say that the reviews marked cool tend to be short, not very useful to others and short."
      ]
    },
    {
      "cell_type": "markdown",
      "id": "62b58cb1-b4ed-4b6d-b511-78977a27fbb6",
      "metadata": {
        "id": "62b58cb1-b4ed-4b6d-b511-78977a27fbb6"
      },
      "source": [
        "Also, there is a positive correlation between:\n",
        "\n",
        "* Funny and Useful    \n",
        "* Funny and Length\n",
        "* Useful and Length    \n",
        "\n",
        "Thus, we can say that longer reviews tend to be funny and useful."
      ]
    },
    {
      "cell_type": "raw",
      "id": "1ace543c-5c24-487a-872a-b20ecace9ceb",
      "metadata": {
        "id": "1ace543c-5c24-487a-872a-b20ecace9ceb"
      },
      "source": [
        "Classifying the dataset and splitting it into the reviews and stars:"
      ]
    },
    {
      "cell_type": "code",
      "execution_count": 23,
      "id": "8faa2152-8ce2-4c11-ad41-aa918ea71a89",
      "metadata": {
        "id": "8faa2152-8ce2-4c11-ad41-aa918ea71a89"
      },
      "outputs": [],
      "source": [
        "# Classification in terms of negative (1 star), neutral (3 star), positive (5 star)\n",
        "\n",
        "\n",
        "# Seperate the dataset into X and Y for prediction\n",
        "\n"
      ]
    },
    {
      "cell_type": "markdown",
      "source": [
        "# Basic NLTK"
      ],
      "metadata": {
        "id": "m-ZfQLxm4coM"
      },
      "id": "m-ZfQLxm4coM"
    },
    {
      "cell_type": "raw",
      "id": "b4f97341-5b25-4eda-8cee-d92e2b547789",
      "metadata": {
        "id": "b4f97341-5b25-4eda-8cee-d92e2b547789"
      },
      "source": [
        "## Vectorization\n",
        "Machines cannot understand characters and words. So when dealing with text data we need to represent it in numbers to be understood by the machine. \n",
        "Countvectorizer is a method to convert text to numerical data. \n",
        "We will now vectorize a single review and see the results:"
      ]
    },
    {
      "cell_type": "code",
      "source": [
        "# print out an example of the review\n",
        "example = data['text'][50]\n",
        "print(example)"
      ],
      "metadata": {
        "colab": {
          "base_uri": "https://localhost:8080/"
        },
        "id": "SjHhX3DAOjDQ",
        "outputId": "ade42087-b6e5-415d-b531-3710b12d4004"
      },
      "id": "SjHhX3DAOjDQ",
      "execution_count": 24,
      "outputs": [
        {
          "output_type": "stream",
          "name": "stdout",
          "text": [
            "Cliff notes\n",
            "- Cheap: $1-2/plate\n",
            "- Fast: It's ready-to-go and on a conveyor\n",
            "- Acceptable quality: I'm here weekly and haven't gotten sick lol\n",
            "\n",
            "This place is definitely good for what it is, \"it\" being a budget-friendly sushi place that's great for a quick bite.  In a response to the lower-rating reviews stating how the food is just okay at best or authentic or blah blah blah, well think of it like wal-mart vs. *inserthighendretailerhere*.  This place has a business model based on selling in large volumes (hence the low prices like wal-mart) so they're gonna have to \"reduce costs\" somehow (so-so quality food, not-so-attentive staff, and slightly smaller than average portions), but it's still a solid bang-for-your-buck kinda place.\n",
            "\n",
            "On top of this, I can be in and out quickly since everything is already prepared, perfect for those quick 30 min lunch breaks.  All that's required is for you to grab it off the conveyor (depending on whether or not all the items you want are on the conveyor at the time). \n",
            "\n",
            "I've never had issues with seating, but do not make a point to go during peak hours and usually go with a small party (2-4 people).\n",
            "\n",
            "For those claiming to be \"left to fend for themselves\" due to an inattentive staff, most of your sushi-related inquiries can be answered by this thing called \"the menu\" that sits on the counters.  See, this miraculous piece of technology contains things referred to as \"descriptions\" on them that help to inform you about the sushi going round-and-round before you.  Furthermore, there's even a pricing guide based on the color code of the plates to assist you further! WOW! Lol wtf do people expect for $1-2 plates of sushi?  Someone to hold your hand? LOLOLOLOLOLOLOL DIAF\n",
            "\n",
            "And the cherry on top? $4 large japanese beers and $5 sake bombs! HELL YEAH!\n"
          ]
        }
      ]
    },
    {
      "cell_type": "code",
      "source": [
        "# Tokenization is the process of breaking up a text into smaller units called tokens, \n",
        "# which could be words, punctuation marks, or any other meaningful unit.\n"
      ],
      "metadata": {
        "id": "ZmH61f6OOj11"
      },
      "id": "ZmH61f6OOj11",
      "execution_count": 25,
      "outputs": []
    },
    {
      "cell_type": "code",
      "source": [
        "# POS tagging\n",
        "# The function returns a new list of tuples\n"
      ],
      "metadata": {
        "id": "3lqEMF-HOkJy"
      },
      "id": "3lqEMF-HOkJy",
      "execution_count": 26,
      "outputs": []
    },
    {
      "cell_type": "code",
      "source": [
        "# Perform the named entity recognition. \n",
        "# The function returns a new tree-like object where named entities are represented as subtrees.\n"
      ],
      "metadata": {
        "id": "xBpi5xlZOkSI"
      },
      "id": "xBpi5xlZOkSI",
      "execution_count": 27,
      "outputs": []
    },
    {
      "cell_type": "raw",
      "id": "afdb2145-9a80-415d-b3d9-b5a997d4452c",
      "metadata": {
        "id": "afdb2145-9a80-415d-b3d9-b5a997d4452c"
      },
      "source": [
        "## Data Cleaning\n",
        "We will now, define a function which will clean the dataset by removing stopwords and punctuations."
      ]
    },
    {
      "cell_type": "code",
      "execution_count": 28,
      "id": "77db8d7e-330b-46da-8d32-821a8cc74164",
      "metadata": {
        "colab": {
          "base_uri": "https://localhost:8080/"
        },
        "id": "77db8d7e-330b-46da-8d32-821a8cc74164",
        "outputId": "3072aa2e-56e9-497e-d681-e1ee6f2aad68"
      },
      "outputs": [
        {
          "output_type": "stream",
          "name": "stderr",
          "text": [
            "[nltk_data] Downloading package stopwords to /root/nltk_data...\n",
            "[nltk_data]   Unzipping corpora/stopwords.zip.\n"
          ]
        },
        {
          "output_type": "execute_result",
          "data": {
            "text/plain": [
              "True"
            ]
          },
          "metadata": {},
          "execution_count": 28
        }
      ],
      "source": [
        "import nltk\n",
        "nltk.download('stopwords')"
      ]
    },
    {
      "cell_type": "code",
      "execution_count": 29,
      "id": "07c30d82-27e6-47f3-b6cf-9147a0f43ef2",
      "metadata": {
        "id": "07c30d82-27e6-47f3-b6cf-9147a0f43ef2"
      },
      "outputs": [],
      "source": [
        "# CLEANING THE REVIEWS - REMOVAL OF STOPWORDS AND PUNCTUATION"
      ]
    },
    {
      "cell_type": "code",
      "execution_count": 30,
      "id": "f3f47066-39ed-420f-99fb-815f056d03b5",
      "metadata": {
        "id": "f3f47066-39ed-420f-99fb-815f056d03b5"
      },
      "outputs": [],
      "source": [
        "# CONVERTING THE WORDS INTO A VECTOR"
      ]
    },
    {
      "cell_type": "code",
      "execution_count": 31,
      "id": "ba62cd63-bbc3-4720-b5c7-ce2de874cade",
      "metadata": {
        "id": "ba62cd63-bbc3-4720-b5c7-ce2de874cade"
      },
      "outputs": [],
      "source": [
        "#     The data that we can see is the transformed words.\n",
        "#     If we now get the feature's name - we can get the word back"
      ]
    },
    {
      "cell_type": "raw",
      "id": "c089b027-cfd5-4ce7-9066-ef88a4d26229",
      "metadata": {
        "id": "c089b027-cfd5-4ce7-9066-ef88a4d26229"
      },
      "source": [
        "Vectorization of the whole review set and and checking the sparse matrix:"
      ]
    },
    {
      "cell_type": "code",
      "execution_count": 32,
      "id": "7a8b61db-9271-4cee-bba8-bf6999087fab",
      "metadata": {
        "colab": {
          "base_uri": "https://localhost:8080/",
          "height": 240
        },
        "id": "7a8b61db-9271-4cee-bba8-bf6999087fab",
        "outputId": "227a2482-8e94-477c-eb19-a3757893432f"
      },
      "outputs": [
        {
          "output_type": "error",
          "ename": "NameError",
          "evalue": "ignored",
          "traceback": [
            "\u001b[0;31m---------------------------------------------------------------------------\u001b[0m",
            "\u001b[0;31mNameError\u001b[0m                                 Traceback (most recent call last)",
            "\u001b[0;32m<ipython-input-32-2327dadf2025>\u001b[0m in \u001b[0;36m<module>\u001b[0;34m\u001b[0m\n\u001b[0;32m----> 1\u001b[0;31m \u001b[0mx\u001b[0m \u001b[0;34m=\u001b[0m \u001b[0mvocab\u001b[0m\u001b[0;34m.\u001b[0m\u001b[0mtransform\u001b[0m\u001b[0;34m(\u001b[0m\u001b[0mx\u001b[0m\u001b[0;34m)\u001b[0m\u001b[0;34m\u001b[0m\u001b[0;34m\u001b[0m\u001b[0m\n\u001b[0m\u001b[1;32m      2\u001b[0m \u001b[0;31m#Shape of the matrix:\u001b[0m\u001b[0;34m\u001b[0m\u001b[0;34m\u001b[0m\u001b[0m\n\u001b[1;32m      3\u001b[0m \u001b[0mprint\u001b[0m\u001b[0;34m(\u001b[0m\u001b[0;34m\"Shape of the sparse matrix: \"\u001b[0m\u001b[0;34m,\u001b[0m \u001b[0mx\u001b[0m\u001b[0;34m.\u001b[0m\u001b[0mshape\u001b[0m\u001b[0;34m)\u001b[0m\u001b[0;34m\u001b[0m\u001b[0;34m\u001b[0m\u001b[0m\n\u001b[1;32m      4\u001b[0m \u001b[0;31m#Non-zero occurences:\u001b[0m\u001b[0;34m\u001b[0m\u001b[0;34m\u001b[0m\u001b[0m\n\u001b[1;32m      5\u001b[0m \u001b[0mprint\u001b[0m\u001b[0;34m(\u001b[0m\u001b[0;34m\"Non-Zero occurences: \"\u001b[0m\u001b[0;34m,\u001b[0m\u001b[0mx\u001b[0m\u001b[0;34m.\u001b[0m\u001b[0mnnz\u001b[0m\u001b[0;34m)\u001b[0m\u001b[0;34m\u001b[0m\u001b[0;34m\u001b[0m\u001b[0m\n",
            "\u001b[0;31mNameError\u001b[0m: name 'vocab' is not defined"
          ]
        }
      ],
      "source": [
        "x = vocab.transform(x)\n",
        "#Shape of the matrix:\n",
        "print(\"Shape of the sparse matrix: \", x.shape)\n",
        "#Non-zero occurences:\n",
        "print(\"Non-Zero occurences: \",x.nnz)\n",
        "\n",
        "# DENSITY OF THE MATRIX\n",
        "density = (x.nnz/(x.shape[0]*x.shape[1]))*100\n",
        "print(\"Density of the matrix = \",density)"
      ]
    },
    {
      "cell_type": "raw",
      "id": "615d8653-3924-4c04-b2a1-240f2f4fadf0",
      "metadata": {
        "id": "615d8653-3924-4c04-b2a1-240f2f4fadf0"
      },
      "source": [
        "Splitting the dataset X into training and testing set:"
      ]
    },
    {
      "cell_type": "code",
      "execution_count": null,
      "id": "6a642625-3578-4f57-a580-e5663f0e79ae",
      "metadata": {
        "id": "6a642625-3578-4f57-a580-e5663f0e79ae"
      },
      "outputs": [],
      "source": [
        "# SPLITTING THE DATASET INTO TRAINING SET AND TESTING SET"
      ]
    },
    {
      "cell_type": "markdown",
      "id": "7b37d1f8-c755-4d3d-90a9-9c09b7c94e65",
      "metadata": {
        "id": "7b37d1f8-c755-4d3d-90a9-9c09b7c94e65"
      },
      "source": [
        "# Building a Sentiment Classifier\n",
        "\n",
        "In this step, you will train a machine learning model to classify Yelp reviews into positive, negative, or neutral sentiments. You can use a variety of models, such as Naive Bayes, Support Vector Machines (SVMs), or Recurrent Neural Networks (RNNs)."
      ]
    },
    {
      "cell_type": "raw",
      "id": "2aed9616-b169-483a-ab1a-6d02bf3e89ee",
      "metadata": {
        "id": "2aed9616-b169-483a-ab1a-6d02bf3e89ee"
      },
      "source": [
        "## Modeling\n",
        "We will now use multiple Machine Algorithms to see which gives the best performance."
      ]
    },
    {
      "cell_type": "raw",
      "id": "378dc4b3-bec8-4580-92b4-ba435d07072e",
      "metadata": {
        "id": "378dc4b3-bec8-4580-92b4-ba435d07072e"
      },
      "source": [
        "1 - Multinomial Naive Bayes - We are using Multinomial Naive Bayes over Gaussian because with sparse data, Gaussian Naive Bayes assumptions aren't met and a simple gaussian fit over the data will not give us a good fit or prediction!"
      ]
    },
    {
      "cell_type": "code",
      "execution_count": null,
      "id": "aebe996c-2f82-4a17-9094-44166603b69e",
      "metadata": {
        "id": "aebe996c-2f82-4a17-9094-44166603b69e"
      },
      "outputs": [],
      "source": [
        "# Multinomial Naive Bayes\n",
        "from sklearn.naive_bayes import MultinomialNB\n",
        "mnb = MultinomialNB()\n",
        "mnb.fit(x_train,y_train)\n",
        "predmnb = mnb.predict(x_test)\n",
        "score_mnb = round(accuracy_score(y_test,predmnb)*100,2)\n",
        "print(\"Confusion Matrix for Multinomial Naive Bayes:\")\n",
        "print(confusion_matrix(y_test,predmnb))\n",
        "print(\"Score:\",score_mnb)\n",
        "print(\"Classification Report:\")\n",
        "print(classification_report(y_test,predmnb))"
      ]
    },
    {
      "cell_type": "raw",
      "id": "1c106e52-9109-4182-ba5d-68bc0c7aa3a0",
      "metadata": {
        "id": "1c106e52-9109-4182-ba5d-68bc0c7aa3a0"
      },
      "source": [
        "2 - Random Forest Classifier"
      ]
    },
    {
      "cell_type": "code",
      "execution_count": null,
      "id": "e2e5f487-175d-4eb3-a78b-381db6dfe2ca",
      "metadata": {
        "id": "e2e5f487-175d-4eb3-a78b-381db6dfe2ca"
      },
      "outputs": [],
      "source": [
        "# Random Forest"
      ]
    },
    {
      "cell_type": "raw",
      "id": "6352a042-ec64-4df3-8ad4-98a316213c8b",
      "metadata": {
        "id": "6352a042-ec64-4df3-8ad4-98a316213c8b"
      },
      "source": [
        "3 - Decision Tree"
      ]
    },
    {
      "cell_type": "code",
      "execution_count": null,
      "id": "4b50a9cb-e805-4aad-8c37-84f3530a36a7",
      "metadata": {
        "id": "4b50a9cb-e805-4aad-8c37-84f3530a36a7"
      },
      "outputs": [],
      "source": [
        "# Decision Tree"
      ]
    },
    {
      "cell_type": "raw",
      "id": "df951943-3fbf-4986-89ad-3efd30197869",
      "metadata": {
        "id": "df951943-3fbf-4986-89ad-3efd30197869"
      },
      "source": [
        "4 - Support Vector Machines"
      ]
    },
    {
      "cell_type": "code",
      "execution_count": null,
      "id": "c18b0713-22de-4119-b7fd-48223dc76b8e",
      "metadata": {
        "id": "c18b0713-22de-4119-b7fd-48223dc76b8e"
      },
      "outputs": [],
      "source": [
        "# Support Vector Machine"
      ]
    },
    {
      "cell_type": "raw",
      "id": "9a684665-f4f3-48a3-9e84-dd960ccc7f55",
      "metadata": {
        "id": "9a684665-f4f3-48a3-9e84-dd960ccc7f55"
      },
      "source": [
        "5 - K - Nearest Neighbor Classifier"
      ]
    },
    {
      "cell_type": "code",
      "execution_count": null,
      "id": "1dc4a5b7-a69b-40b4-98c9-497921c71d24",
      "metadata": {
        "id": "1dc4a5b7-a69b-40b4-98c9-497921c71d24"
      },
      "outputs": [],
      "source": [
        "# K Nearest Neighbour Algorithm"
      ]
    },
    {
      "cell_type": "raw",
      "id": "873ef1ec-70d4-41de-9ace-a7b1d8a50512",
      "metadata": {
        "id": "873ef1ec-70d4-41de-9ace-a7b1d8a50512"
      },
      "source": [
        "From the above algorithm modelling, we can list the accuracy for each model:"
      ]
    },
    {
      "cell_type": "code",
      "execution_count": null,
      "id": "d08ebafb-ec60-4f1e-87ff-1db556de632e",
      "metadata": {
        "id": "d08ebafb-ec60-4f1e-87ff-1db556de632e"
      },
      "outputs": [],
      "source": [
        "print('Multinomial Naive Bayes = ',score_mnb,'%') \n",
        "print('Support Vector Machine = ',score_svm,'%') \n",
        "print('Random Forest Classifier = ',score_rmfr,'%') \n",
        "print('Decision Tree = ',score_dt,'%') \n",
        "print('K Neighbor Classifier = ',score_knn,'%') "
      ]
    },
    {
      "cell_type": "raw",
      "id": "f923ff20-ff61-47c2-9815-3c539a9f3cb4",
      "metadata": {
        "id": "f923ff20-ff61-47c2-9815-3c539a9f3cb4"
      },
      "source": [
        "Since Multinomial Naive Bayes has the best score, let us use it to predict a random positive review, a random average review and a random negative review!"
      ]
    },
    {
      "cell_type": "code",
      "execution_count": null,
      "id": "ef743206-ec71-402e-b37d-67ddf14001c7",
      "metadata": {
        "id": "ef743206-ec71-402e-b37d-67ddf14001c7"
      },
      "outputs": [],
      "source": [
        "# POSITIVE REVIEW\n",
        "pr = data['text'][0]\n",
        "print(pr)\n",
        "print(\"Actual Rating:\")\n",
        "print(data['stars'][0])\n",
        "pr_t = vocab.transform([pr])\n",
        "print(\"Predicted Rating:\")\n",
        "mnb.predict(pr_t)[0]"
      ]
    },
    {
      "cell_type": "code",
      "execution_count": null,
      "id": "9af66624-e6e4-4a58-a90c-b6f937452151",
      "metadata": {
        "id": "9af66624-e6e4-4a58-a90c-b6f937452151"
      },
      "outputs": [],
      "source": [
        "# AVERAGE REVIEW\n",
        "ar = data['text'][16]\n"
      ]
    },
    {
      "cell_type": "code",
      "execution_count": null,
      "id": "df003763-6db4-420c-9bc9-bcfb5fb2343f",
      "metadata": {
        "id": "df003763-6db4-420c-9bc9-bcfb5fb2343f"
      },
      "outputs": [],
      "source": [
        "# NEGATIVE REVIEW\n",
        "nr = data['text'][23]\n"
      ]
    },
    {
      "cell_type": "markdown",
      "id": "d133de57-46f9-427f-b68d-d3f9784a2a13",
      "metadata": {
        "id": "d133de57-46f9-427f-b68d-d3f9784a2a13"
      },
      "source": [
        "## Bias in dataset\n",
        "In the data count below, we can see that predictions are biased towards positive reviews. It is possible that the dataset has more positive reviews as compared to negative reviews.\n",
        "This can likely be fixed by normalizing the dataset to have equal number of reviews - thereby removing the bias."
      ]
    },
    {
      "cell_type": "code",
      "execution_count": null,
      "id": "079e5dc5-b898-4fad-815d-4850d2feb4dd",
      "metadata": {
        "id": "079e5dc5-b898-4fad-815d-4850d2feb4dd"
      },
      "outputs": [],
      "source": [
        "count = data['stars'].value_counts()\n",
        "print(count)"
      ]
    },
    {
      "cell_type": "markdown",
      "source": [
        "# Bonus - using out-of-box techniques:\n",
        "1. VADER (Valence Aware Dictionary and sEntiment Reasoner) - Bag of words approach\n",
        "2. Roberta Pretrained Model from 🤗\n",
        "3. Huggingface Pipeline"
      ],
      "metadata": {
        "id": "P37f4TZK-QdB"
      },
      "id": "P37f4TZK-QdB"
    },
    {
      "cell_type": "code",
      "source": [
        "nltk.download('all')"
      ],
      "metadata": {
        "id": "P5euQhZ7-cN8"
      },
      "id": "P5euQhZ7-cN8",
      "execution_count": null,
      "outputs": []
    },
    {
      "cell_type": "markdown",
      "source": [
        "# Step 1. VADER Seniment Scoring\n",
        "\n",
        "We will use NLTK's `SentimentIntensityAnalyzer` to get the neg/neu/pos scores of the text.\n",
        "\n",
        "- This uses a \"bag of words\" approach:\n",
        "    1. Stop words are removed\n",
        "    2. each word is scored and combined to a total score."
      ],
      "metadata": {
        "id": "hi3zr6W8_TVs"
      },
      "id": "hi3zr6W8_TVs"
    },
    {
      "cell_type": "code",
      "source": [
        "from nltk.sentiment import SentimentIntensityAnalyzer\n",
        "from tqdm.notebook import tqdm\n",
        "\n",
        "sia = SentimentIntensityAnalyzer()"
      ],
      "metadata": {
        "id": "VSGoecwZ_W1Z"
      },
      "id": "VSGoecwZ_W1Z",
      "execution_count": null,
      "outputs": []
    },
    {
      "cell_type": "code",
      "source": [
        "# something positive\n",
        "sia.polarity_scores('I am so happy!')"
      ],
      "metadata": {
        "id": "HXGrlzoQ_Yr1"
      },
      "id": "HXGrlzoQ_Yr1",
      "execution_count": null,
      "outputs": []
    },
    {
      "cell_type": "code",
      "source": [
        "# something negative"
      ],
      "metadata": {
        "id": "VTlqHebk_cNU"
      },
      "id": "VTlqHebk_cNU",
      "execution_count": null,
      "outputs": []
    },
    {
      "cell_type": "code",
      "source": [
        "# example"
      ],
      "metadata": {
        "id": "UeKdd4WK_enl"
      },
      "id": "UeKdd4WK_enl",
      "execution_count": null,
      "outputs": []
    },
    {
      "cell_type": "code",
      "source": [
        "# Run the polarity score on the entire dataset\n",
        "res = {}\n"
      ],
      "metadata": {
        "id": "z4LKwBF8_gqg"
      },
      "id": "z4LKwBF8_gqg",
      "execution_count": null,
      "outputs": []
    },
    {
      "cell_type": "code",
      "source": [
        "vaders = pd.DataFrame(res).T\n",
        "vaders = vaders.reset_index().rename(columns={'index': 'business_id'})\n",
        "vaders = vaders.merge(data, how='left')"
      ],
      "metadata": {
        "id": "HNii8wUK_uRV"
      },
      "id": "HNii8wUK_uRV",
      "execution_count": null,
      "outputs": []
    },
    {
      "cell_type": "code",
      "source": [
        "# Now we have sentiment score and metadata\n",
        "vaders.head()"
      ],
      "metadata": {
        "id": "1FpUPWte_39E"
      },
      "id": "1FpUPWte_39E",
      "execution_count": null,
      "outputs": []
    },
    {
      "cell_type": "markdown",
      "source": [
        "## Plot VADER results"
      ],
      "metadata": {
        "id": "x2gDQU6l_-jh"
      },
      "id": "x2gDQU6l_-jh"
    },
    {
      "cell_type": "code",
      "source": [
        "ax = sns.barplot(data=vaders, x='stars', y='compound')\n",
        "ax.set_title('Compund Score by Yelp Star Review')\n",
        "plt.show()"
      ],
      "metadata": {
        "id": "53Yx12aZAAPk"
      },
      "id": "53Yx12aZAAPk",
      "execution_count": null,
      "outputs": []
    },
    {
      "cell_type": "code",
      "source": [
        "fig, axs = plt.subplots(1, 3, figsize=(12, 3))\n",
        "sns.barplot(data=vaders, x='stars', y='pos', ax=axs[0])\n",
        "sns.barplot(data=vaders, x='stars', y='neu', ax=axs[1])\n",
        "sns.barplot(data=vaders, x='stars', y='neg', ax=axs[2])\n",
        "axs[0].set_title('Positive')\n",
        "axs[1].set_title('Neutral')\n",
        "axs[2].set_title('Negative')\n",
        "plt.tight_layout()\n",
        "plt.show()"
      ],
      "metadata": {
        "id": "6EXe7KBxAc1R"
      },
      "id": "6EXe7KBxAc1R",
      "execution_count": null,
      "outputs": []
    },
    {
      "cell_type": "markdown",
      "source": [
        "# Step 3. Roberta Pretrained Model\n",
        "\n",
        "- Use a model trained of a large corpus of data.\n",
        "- Transformer model accounts for the words but also the context related to other words."
      ],
      "metadata": {
        "id": "AWBF71SOAl8y"
      },
      "id": "AWBF71SOAl8y"
    },
    {
      "cell_type": "code",
      "source": [
        "!pip install transformers"
      ],
      "metadata": {
        "id": "-6oOa8C4AnyE"
      },
      "id": "-6oOa8C4AnyE",
      "execution_count": null,
      "outputs": []
    },
    {
      "cell_type": "code",
      "source": [
        "from transformers import AutoTokenizer\n",
        "from transformers import AutoModelForSequenceClassification\n",
        "from scipy.special import softmax"
      ],
      "metadata": {
        "id": "HUjSNqDfAqcd"
      },
      "id": "HUjSNqDfAqcd",
      "execution_count": null,
      "outputs": []
    },
    {
      "cell_type": "code",
      "source": [
        "MODEL = f\"cardiffnlp/twitter-roberta-base-sentiment-latest\"\n",
        "tokenizer = AutoTokenizer.from_pretrained(MODEL)\n",
        "model = AutoModelForSequenceClassification.from_pretrained(MODEL)"
      ],
      "metadata": {
        "id": "8ZC8ENLsAuIU"
      },
      "id": "8ZC8ENLsAuIU",
      "execution_count": null,
      "outputs": []
    },
    {
      "cell_type": "code",
      "source": [
        "# VADER results on example\n"
      ],
      "metadata": {
        "id": "ndgGLZNOAwu-"
      },
      "id": "ndgGLZNOAwu-",
      "execution_count": null,
      "outputs": []
    },
    {
      "cell_type": "code",
      "source": [
        "data = data.head(500)"
      ],
      "metadata": {
        "id": "O-ax5hYACRQT"
      },
      "id": "O-ax5hYACRQT",
      "execution_count": null,
      "outputs": []
    },
    {
      "cell_type": "code",
      "source": [
        "# Run for Roberta Model\n",
        "# using a pre-trained RoBERTa model to classify the sentiment of a text\n"
      ],
      "metadata": {
        "id": "qD32PnQTAzzw"
      },
      "id": "qD32PnQTAzzw",
      "execution_count": null,
      "outputs": []
    },
    {
      "cell_type": "code",
      "source": [
        "# This is a Python function called polarity_scores_roberta that takes\n",
        "# a string of text as input and returns a dictionary of sentiment scores for that text\n"
      ],
      "metadata": {
        "id": "dP0Dy74HBsU2"
      },
      "id": "dP0Dy74HBsU2",
      "execution_count": null,
      "outputs": []
    },
    {
      "cell_type": "code",
      "source": [
        "# iterates over a pandas DataFrame called data, \n",
        "# which presumably contains columns for text and business IDs.\n"
      ],
      "metadata": {
        "id": "s5R32ShJBuyj"
      },
      "id": "s5R32ShJBuyj",
      "execution_count": null,
      "outputs": []
    },
    {
      "cell_type": "code",
      "source": [
        "results_df = pd.DataFrame(res).T\n",
        "results_df = results_df.reset_index().rename(columns={'index': 'business_id'})\n",
        "results_df = results_df.merge(data, how='left')"
      ],
      "metadata": {
        "id": "5lVImPH3CoQw"
      },
      "id": "5lVImPH3CoQw",
      "execution_count": null,
      "outputs": []
    },
    {
      "cell_type": "markdown",
      "source": [
        "# Step 3. Compare Scores between models"
      ],
      "metadata": {
        "id": "bqa5k9wBC8pt"
      },
      "id": "bqa5k9wBC8pt"
    },
    {
      "cell_type": "code",
      "source": [
        "# take a look at the column of the df\n",
        "results_df.columns"
      ],
      "metadata": {
        "id": "S7yan8NPC13s"
      },
      "id": "S7yan8NPC13s",
      "execution_count": null,
      "outputs": []
    },
    {
      "cell_type": "code",
      "source": [
        "# The pair plot is a matrix of scatter plots and histograms, where each variable \n",
        "# in the DataFrame is plotted against every other variable. \n",
        "# The purpose of the plot is to visualize the relationship \n",
        "# between different sentiment scores generated by Vader and RoBERTa models.\n"
      ],
      "metadata": {
        "id": "TIECcreiDBti"
      },
      "id": "TIECcreiDBti",
      "execution_count": null,
      "outputs": []
    },
    {
      "cell_type": "markdown",
      "source": [
        "# Step 4: Review Examples\n",
        "\n",
        "## Positive sentiment 1-Star Reviews\n",
        "\n",
        "Lets look at some examples where the model scoring and review score differ the most."
      ],
      "metadata": {
        "id": "C8eJQNb5DKai"
      },
      "id": "C8eJQNb5DKai"
    },
    {
      "cell_type": "code",
      "source": [
        "# retrieves the text of the row with the highest positive sentiment score \n",
        "# using the RoBERTa model among the rows that have a star rating of 1."
      ],
      "metadata": {
        "id": "MQT07w9nDOil"
      },
      "id": "MQT07w9nDOil",
      "execution_count": null,
      "outputs": []
    },
    {
      "cell_type": "code",
      "source": [
        "# retrieves the text of the row with the highest positive sentiment score \n",
        "# using the Vader model among the rows that have a star rating of 1."
      ],
      "metadata": {
        "id": "0cXKoPz1DQGY"
      },
      "id": "0cXKoPz1DQGY",
      "execution_count": null,
      "outputs": []
    },
    {
      "cell_type": "markdown",
      "source": [
        "## Negative sentiment 5-Star Reviews"
      ],
      "metadata": {
        "id": "bhOtoLLkDRrl"
      },
      "id": "bhOtoLLkDRrl"
    },
    {
      "cell_type": "code",
      "source": [
        "# retrieves the text of the row with the highest negative sentiment score \n",
        "# using the RoBERTa model among the rows that have a star rating of 5."
      ],
      "metadata": {
        "id": "csdx96GFDYuG"
      },
      "id": "csdx96GFDYuG",
      "execution_count": null,
      "outputs": []
    },
    {
      "cell_type": "code",
      "source": [
        "# retrieves the text of the row with the highest negative sentiment score \n",
        "# using the Vader model among the rows that have a star rating of 5."
      ],
      "metadata": {
        "id": "VXw0Lka1DaSC"
      },
      "id": "VXw0Lka1DaSC",
      "execution_count": null,
      "outputs": []
    },
    {
      "cell_type": "markdown",
      "source": [
        "# Extra: The Transformers Pipeline\n",
        "Quick & easy way to run sentiment predictions"
      ],
      "metadata": {
        "id": "jJIaH98-DcIe"
      },
      "id": "jJIaH98-DcIe"
    },
    {
      "cell_type": "code",
      "source": [
        "from transformers import pipeline\n",
        "# creates a sentiment analysis pipeline using the Hugging Face Transformers library. \n",
        "# The pipeline() function is used to create a pre-trained sentiment analysis model \n",
        "# that can be used to classify the sentiment of input text.\n"
      ],
      "metadata": {
        "id": "LeUyJutiDfbv"
      },
      "id": "LeUyJutiDfbv",
      "execution_count": null,
      "outputs": []
    },
    {
      "cell_type": "code",
      "source": [
        "# something positive\n",
        "sent_pipeline('I love sentiment analysis!')"
      ],
      "metadata": {
        "id": "OnVgftYXDg_T"
      },
      "id": "OnVgftYXDg_T",
      "execution_count": null,
      "outputs": []
    },
    {
      "cell_type": "code",
      "source": [
        "# something negative"
      ],
      "metadata": {
        "id": "nUDbHqRFDjzO"
      },
      "id": "nUDbHqRFDjzO",
      "execution_count": null,
      "outputs": []
    },
    {
      "cell_type": "markdown",
      "source": [
        "# The End"
      ],
      "metadata": {
        "id": "jXY7unKKDlyt"
      },
      "id": "jXY7unKKDlyt"
    }
  ],
  "metadata": {
    "kernelspec": {
      "display_name": "Python 3 (ipykernel)",
      "language": "python",
      "name": "python3"
    },
    "language_info": {
      "codemirror_mode": {
        "name": "ipython",
        "version": 3
      },
      "file_extension": ".py",
      "mimetype": "text/x-python",
      "name": "python",
      "nbconvert_exporter": "python",
      "pygments_lexer": "ipython3",
      "version": "3.9.12"
    },
    "colab": {
      "provenance": [],
      "toc_visible": true,
      "include_colab_link": true
    }
  },
  "nbformat": 4,
  "nbformat_minor": 5
}