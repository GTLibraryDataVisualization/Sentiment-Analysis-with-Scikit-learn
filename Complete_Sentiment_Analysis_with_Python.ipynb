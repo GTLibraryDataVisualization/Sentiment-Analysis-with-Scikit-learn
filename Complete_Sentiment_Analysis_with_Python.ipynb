{
  "cells": [
    {
      "cell_type": "markdown",
      "metadata": {
        "id": "view-in-github",
        "colab_type": "text"
      },
      "source": [
        "<a href=\"https://colab.research.google.com/github/cynthialmy/Sentiment-Analysis-with-Scikit-learn/blob/main/Complete_Sentiment_Analysis_with_Python.ipynb\" target=\"_parent\"><img src=\"https://colab.research.google.com/assets/colab-badge.svg\" alt=\"Open In Colab\"/></a>"
      ]
    },
    {
      "cell_type": "markdown",
      "id": "9609ebdb-614f-414c-9ab6-33ee56e68e00",
      "metadata": {
        "id": "9609ebdb-614f-414c-9ab6-33ee56e68e00"
      },
      "source": [
        "# Introduction"
      ]
    },
    {
      "cell_type": "markdown",
      "id": "ea7c04b8-5ae0-4e6f-a84a-354985d4d975",
      "metadata": {
        "id": "ea7c04b8-5ae0-4e6f-a84a-354985d4d975"
      },
      "source": [
        "## Sentiment Analysis\n",
        "\n",
        "Sentiment analysis is a technique used in natural language processing (NLP) to identify and extract subjective information from text, such as opinions, attitudes, emotions, and feelings. \n",
        "## Yelp Review Data\n",
        "Yelp is a platform where users can post reviews about businesses, products, and services. Therefore, analyzing Yelp data can provide valuable insights into customers' sentiments towards a particular business or product.\n",
        "\n"
      ]
    },
    {
      "cell_type": "markdown",
      "id": "951db55c-ed5e-4d82-b4be-135f6a01671d",
      "metadata": {
        "id": "951db55c-ed5e-4d82-b4be-135f6a01671d"
      },
      "source": [
        "## Overview\n",
        "\n",
        "1. Introduction to sentiment analysis\n",
        "2. Data exploration and preprocessing of Yelp restaurant reviews\n",
        "3. Utilizing NLTK for feature extraction\n",
        "4. Training a machine learning model with scikit-learn to predict restaurant review stars\n",
        "5. Bonus: out-of-box techniques:\n",
        "  - VADER (Valence Aware Dictionary and sEntiment Reasoner) - Bag of words approach\n",
        "  - Roberta Pretrained Model from HuggingFace🤗\n",
        "  - HuggingFace Pipeline"
      ]
    },
    {
      "cell_type": "markdown",
      "source": [
        "\n",
        "Video about Sentiment Analysis: https://www.youtube.com/watch?v=i4D5DZ5ZG-0"
      ],
      "metadata": {
        "id": "4AFcrURiTfXV"
      },
      "id": "4AFcrURiTfXV"
    },
    {
      "cell_type": "code",
      "execution_count": null,
      "id": "84260af5-b0fa-4e26-b9b2-3cd43ae7a27e",
      "metadata": {
        "id": "84260af5-b0fa-4e26-b9b2-3cd43ae7a27e",
        "colab": {
          "base_uri": "https://localhost:8080/",
          "height": 911,
          "referenced_widgets": [
            "ba41e8371ac74f7f8e2b7621610d9aad",
            "bec21927fe8b44ada6972531192635ea",
            "8bfb3292838f49b2af47d2ad8f39639f",
            "7227646651784b19b2282430cb435d74",
            "4b9f7007d3744a999676552cdd5564e8",
            "c9bf51a1b83047139f0f739ac974a247",
            "6d5f65484e04434baaaaf994e06e45b8",
            "7df4e7d6d6e04dcc85f7fa6f6b750bdd",
            "31fab3f602c34cda9cee8f774b1e5aea",
            "3f32a59e4e5c4a3eacc6a4bbd85a99b6",
            "98f0a9039df04d94b91538bdc3a6bc84",
            "dd733504fac749c3b46c1c6d2c13d76c",
            "2bcf69798c1c4c5499321a27763a8233",
            "bb4c80a12ca048548a726f261dcc7c65",
            "694647dd5bfd43ce85eb8e9c190d9d36",
            "f74bb267f6da4da59671a87e0a3cfbe2",
            "5423d3f4c42b4233bdea8ecf2a06dfe8",
            "404506654c464d25a82ceb36784dd987",
            "c5f9c884c83d4bbc9816b6ed4dfe3525",
            "d849408a5ae1436e854821c68e091e7c",
            "9309fbc5b4ef421dabaaae21dc838df9",
            "1cce74e80eb144bb80a3ea2543a7f52a",
            "b66b6905f3fd43238fcf3c7d4d0506c4",
            "4f18a95956444303931caf85f97d1334",
            "8e81ce8369914a0ba430ee6434d30195",
            "ca6c003c07704700ba5d4d05aeee39f2",
            "37ce17c2033b4ceab40e453b779b6339",
            "02ebbec9c8694619a45c9dfe93f4a2d7",
            "0d05eb4ad43e4574a1cf45549df7988d",
            "935259f711d5415b8bfd18339504da05",
            "c9eae403f9b342238957946d78cb43bc",
            "501370a5214b40089df7ca15c6705805",
            "6d8f7d3c60174adaba7d852af4eab4d9",
            "7c33471e90b449948da56ffdf5897f97",
            "a15eb663cadd4773977236f615725559",
            "f40f6a703f5a4525b065c1c82dbe57a5",
            "74e61de8479540509df808e42402d6b7",
            "7ff5c3e09a614bf59651fae5c4eb25a1",
            "20819c28a5c744f582ff8559d7a298e8",
            "28ca9c481333484f89200abc0f48c74a",
            "3b71441cfb9142f1a2ba5292ddaefc6c",
            "4ba776d6677c4128808ce695fd5d1706",
            "24fb99f0a7d2473ca8d40159f299b6fd",
            "bdca01c8d13a4d4098ebaad5b4830e0f",
            "ef4bde96ac1d4d49a0461243d0166061",
            "3d5b983b15124eb4b4590769a1195911",
            "4a02c4b2a17e4fa59527b81e6df56e58",
            "c9688c9fce474b27a8f6ffa4ce4c7fbb",
            "21e521c9e1404b0f8f5a53cadb45ab43",
            "5c032d9efdac4ce8a4b919e6acabf8d8",
            "ecf305e1138f44fc9bbcfa58187e2d06",
            "6fb8945b3199424faddafea7d6328a44",
            "07efab788cda49c2b2565f07fc253dde",
            "0ee8f81b41f14f439e6dfe19a24f1d86",
            "655a5bcc456649269cda0ac13aaec976"
          ]
        },
        "outputId": "742c291c-cccd-4b65-f752-037709bd444b"
      },
      "outputs": [
        {
          "output_type": "stream",
          "name": "stderr",
          "text": [
            "[nltk_data] Downloading package stopwords to /root/nltk_data...\n",
            "[nltk_data]   Unzipping corpora/stopwords.zip.\n",
            "[nltk_data] Downloading package punkt to /root/nltk_data...\n",
            "[nltk_data]   Unzipping tokenizers/punkt.zip.\n",
            "[nltk_data] Downloading package averaged_perceptron_tagger to\n",
            "[nltk_data]     /root/nltk_data...\n",
            "[nltk_data]   Unzipping taggers/averaged_perceptron_tagger.zip.\n",
            "[nltk_data] Downloading package maxent_ne_chunker to\n",
            "[nltk_data]     /root/nltk_data...\n",
            "[nltk_data]   Unzipping chunkers/maxent_ne_chunker.zip.\n",
            "[nltk_data] Downloading package words to /root/nltk_data...\n",
            "[nltk_data]   Unzipping corpora/words.zip.\n",
            "[nltk_data] Downloading package vader_lexicon to /root/nltk_data...\n"
          ]
        },
        {
          "output_type": "stream",
          "name": "stdout",
          "text": [
            "Looking in indexes: https://pypi.org/simple, https://us-python.pkg.dev/colab-wheels/public/simple/\n",
            "Collecting transformers\n",
            "  Downloading transformers-4.27.3-py3-none-any.whl (6.8 MB)\n",
            "\u001b[2K     \u001b[90m━━━━━━━━━━━━━━━━━━━━━━━━━━━━━━━━━━━━━━━━\u001b[0m \u001b[32m6.8/6.8 MB\u001b[0m \u001b[31m21.2 MB/s\u001b[0m eta \u001b[36m0:00:00\u001b[0m\n",
            "\u001b[?25hRequirement already satisfied: filelock in /usr/local/lib/python3.9/dist-packages (from transformers) (3.10.2)\n",
            "Requirement already satisfied: regex!=2019.12.17 in /usr/local/lib/python3.9/dist-packages (from transformers) (2022.10.31)\n",
            "Requirement already satisfied: pyyaml>=5.1 in /usr/local/lib/python3.9/dist-packages (from transformers) (6.0)\n",
            "Requirement already satisfied: numpy>=1.17 in /usr/local/lib/python3.9/dist-packages (from transformers) (1.22.4)\n",
            "Collecting tokenizers!=0.11.3,<0.14,>=0.11.1\n",
            "  Downloading tokenizers-0.13.2-cp39-cp39-manylinux_2_17_x86_64.manylinux2014_x86_64.whl (7.6 MB)\n",
            "\u001b[2K     \u001b[90m━━━━━━━━━━━━━━━━━━━━━━━━━━━━━━━━━━━━━━━━\u001b[0m \u001b[32m7.6/7.6 MB\u001b[0m \u001b[31m15.0 MB/s\u001b[0m eta \u001b[36m0:00:00\u001b[0m\n",
            "\u001b[?25hRequirement already satisfied: tqdm>=4.27 in /usr/local/lib/python3.9/dist-packages (from transformers) (4.65.0)\n",
            "Requirement already satisfied: requests in /usr/local/lib/python3.9/dist-packages (from transformers) (2.27.1)\n",
            "Collecting huggingface-hub<1.0,>=0.11.0\n",
            "  Downloading huggingface_hub-0.13.3-py3-none-any.whl (199 kB)\n",
            "\u001b[2K     \u001b[90m━━━━━━━━━━━━━━━━━━━━━━━━━━━━━━━━━━━━━━━\u001b[0m \u001b[32m199.8/199.8 KB\u001b[0m \u001b[31m5.3 MB/s\u001b[0m eta \u001b[36m0:00:00\u001b[0m\n",
            "\u001b[?25hRequirement already satisfied: packaging>=20.0 in /usr/local/lib/python3.9/dist-packages (from transformers) (23.0)\n",
            "Requirement already satisfied: typing-extensions>=3.7.4.3 in /usr/local/lib/python3.9/dist-packages (from huggingface-hub<1.0,>=0.11.0->transformers) (4.5.0)\n",
            "Requirement already satisfied: urllib3<1.27,>=1.21.1 in /usr/local/lib/python3.9/dist-packages (from requests->transformers) (1.26.15)\n",
            "Requirement already satisfied: idna<4,>=2.5 in /usr/local/lib/python3.9/dist-packages (from requests->transformers) (3.4)\n",
            "Requirement already satisfied: charset-normalizer~=2.0.0 in /usr/local/lib/python3.9/dist-packages (from requests->transformers) (2.0.12)\n",
            "Requirement already satisfied: certifi>=2017.4.17 in /usr/local/lib/python3.9/dist-packages (from requests->transformers) (2022.12.7)\n",
            "Installing collected packages: tokenizers, huggingface-hub, transformers\n",
            "Successfully installed huggingface-hub-0.13.3 tokenizers-0.13.2 transformers-4.27.3\n"
          ]
        },
        {
          "output_type": "display_data",
          "data": {
            "text/plain": [
              "Downloading (…)lve/main/config.json:   0%|          | 0.00/929 [00:00<?, ?B/s]"
            ],
            "application/vnd.jupyter.widget-view+json": {
              "version_major": 2,
              "version_minor": 0,
              "model_id": "ba41e8371ac74f7f8e2b7621610d9aad"
            }
          },
          "metadata": {}
        },
        {
          "output_type": "display_data",
          "data": {
            "text/plain": [
              "Downloading (…)olve/main/vocab.json:   0%|          | 0.00/899k [00:00<?, ?B/s]"
            ],
            "application/vnd.jupyter.widget-view+json": {
              "version_major": 2,
              "version_minor": 0,
              "model_id": "dd733504fac749c3b46c1c6d2c13d76c"
            }
          },
          "metadata": {}
        },
        {
          "output_type": "display_data",
          "data": {
            "text/plain": [
              "Downloading (…)olve/main/merges.txt:   0%|          | 0.00/456k [00:00<?, ?B/s]"
            ],
            "application/vnd.jupyter.widget-view+json": {
              "version_major": 2,
              "version_minor": 0,
              "model_id": "b66b6905f3fd43238fcf3c7d4d0506c4"
            }
          },
          "metadata": {}
        },
        {
          "output_type": "display_data",
          "data": {
            "text/plain": [
              "Downloading (…)cial_tokens_map.json:   0%|          | 0.00/239 [00:00<?, ?B/s]"
            ],
            "application/vnd.jupyter.widget-view+json": {
              "version_major": 2,
              "version_minor": 0,
              "model_id": "7c33471e90b449948da56ffdf5897f97"
            }
          },
          "metadata": {}
        },
        {
          "output_type": "display_data",
          "data": {
            "text/plain": [
              "Downloading pytorch_model.bin:   0%|          | 0.00/501M [00:00<?, ?B/s]"
            ],
            "application/vnd.jupyter.widget-view+json": {
              "version_major": 2,
              "version_minor": 0,
              "model_id": "ef4bde96ac1d4d49a0461243d0166061"
            }
          },
          "metadata": {}
        },
        {
          "output_type": "stream",
          "name": "stderr",
          "text": [
            "Some weights of the model checkpoint at cardiffnlp/twitter-roberta-base-sentiment-latest were not used when initializing RobertaForSequenceClassification: ['roberta.pooler.dense.weight', 'roberta.pooler.dense.bias']\n",
            "- This IS expected if you are initializing RobertaForSequenceClassification from the checkpoint of a model trained on another task or with another architecture (e.g. initializing a BertForSequenceClassification model from a BertForPreTraining model).\n",
            "- This IS NOT expected if you are initializing RobertaForSequenceClassification from the checkpoint of a model that you expect to be exactly identical (initializing a BertForSequenceClassification model from a BertForSequenceClassification model).\n"
          ]
        }
      ],
      "source": [
        "# IMPORTING ALL THE NECESSARY LIBRARIES AND PACKAGES\n",
        "# Using the Natural Language Processing (NLP) library, nltk\n",
        "import pandas as pd\n",
        "import numpy as np\n",
        "import matplotlib.pyplot as plt\n",
        "import seaborn as sns\n",
        "import nltk\n",
        "from nltk.corpus import stopwords\n",
        "nltk.download('stopwords')\n",
        "import string\n",
        "import math\n",
        "from sklearn.feature_extraction.text import CountVectorizer\n",
        "from sklearn.model_selection import train_test_split, cross_val_score\n",
        "from sklearn.metrics import classification_report\n",
        "from sklearn.metrics import confusion_matrix, accuracy_score, roc_auc_score, roc_curve\n",
        "from sklearn.model_selection import GridSearchCV\n",
        "%matplotlib inline\n",
        "\n",
        "nltk.download('punkt')\n",
        "nltk.download('averaged_perceptron_tagger')\n",
        "nltk.download('maxent_ne_chunker')\n",
        "nltk.download('words')\n",
        "nltk.download('vader_lexicon')\n",
        "\n",
        "!pip install transformers\n",
        "from transformers import AutoTokenizer\n",
        "from transformers import AutoModelForSequenceClassification\n",
        "from scipy.special import softmax\n",
        "MODEL = f\"cardiffnlp/twitter-roberta-base-sentiment-latest\"\n",
        "tokenizer = AutoTokenizer.from_pretrained(MODEL)\n",
        "model = AutoModelForSequenceClassification.from_pretrained(MODEL)"
      ]
    },
    {
      "cell_type": "markdown",
      "id": "f1b151c6-253e-4544-9fcc-cd9e5f637de7",
      "metadata": {
        "id": "f1b151c6-253e-4544-9fcc-cd9e5f637de7"
      },
      "source": [
        "## Sample of dataset\n",
        "\n",
        "All data set can be accessed and downloaded from Yelp Open Data Set [https://www.yelp.com/dataset/download]."
      ]
    },
    {
      "cell_type": "code",
      "execution_count": null,
      "id": "5051a45d-1867-44be-bb1e-7e46750b43ad",
      "metadata": {
        "id": "5051a45d-1867-44be-bb1e-7e46750b43ad"
      },
      "outputs": [],
      "source": [
        "# LOADING THE DATASET AND SEEING THE DETAILS\n",
        "data = pd.read_csv('https://raw.githubusercontent.com/cynthialmy/DataVizLab/main/yelp_dataset/yelp.csv')"
      ]
    },
    {
      "cell_type": "code",
      "execution_count": null,
      "id": "38be147e-2425-439a-bd7b-fb5ff71f0c0d",
      "metadata": {
        "id": "38be147e-2425-439a-bd7b-fb5ff71f0c0d",
        "colab": {
          "base_uri": "https://localhost:8080/"
        },
        "outputId": "16e3cec6-b85d-4cab-8de3-c348e62f9659"
      },
      "outputs": [
        {
          "output_type": "stream",
          "name": "stdout",
          "text": [
            "Shape of the dataset:\n"
          ]
        },
        {
          "output_type": "execute_result",
          "data": {
            "text/plain": [
              "(10000, 10)"
            ]
          },
          "metadata": {},
          "execution_count": 4
        }
      ],
      "source": [
        "# SHAPE OF THE DATASET\n",
        "print(\"Shape of the dataset:\")\n",
        "# Your code here\n",
        "data.shape"
      ]
    },
    {
      "cell_type": "code",
      "execution_count": null,
      "id": "be3e740c-e0c9-4a98-b706-b3b704f15e7a",
      "metadata": {
        "id": "be3e740c-e0c9-4a98-b706-b3b704f15e7a",
        "colab": {
          "base_uri": "https://localhost:8080/"
        },
        "outputId": "4d53912a-5a5e-4ac4-9b73-4cfc65c4486b"
      },
      "outputs": [
        {
          "output_type": "stream",
          "name": "stdout",
          "text": [
            "Column names:\n"
          ]
        },
        {
          "output_type": "execute_result",
          "data": {
            "text/plain": [
              "Index(['business_id', 'date', 'review_id', 'stars', 'text', 'type', 'user_id',\n",
              "       'cool', 'useful', 'funny'],\n",
              "      dtype='object')"
            ]
          },
          "metadata": {},
          "execution_count": 6
        }
      ],
      "source": [
        "# COLUMN NAMES\n",
        "print(\"Column names:\")\n",
        "# Your code here\n",
        "data.columns"
      ]
    },
    {
      "cell_type": "code",
      "execution_count": null,
      "id": "8a258bd8-aea9-4969-827d-f8271ba56d9f",
      "metadata": {
        "id": "8a258bd8-aea9-4969-827d-f8271ba56d9f",
        "colab": {
          "base_uri": "https://localhost:8080/"
        },
        "outputId": "eefdde67-fa36-4a37-c856-fa85744a9617"
      },
      "outputs": [
        {
          "output_type": "stream",
          "name": "stdout",
          "text": [
            "Datatype of each column:\n"
          ]
        },
        {
          "output_type": "execute_result",
          "data": {
            "text/plain": [
              "business_id    object\n",
              "date           object\n",
              "review_id      object\n",
              "stars           int64\n",
              "text           object\n",
              "type           object\n",
              "user_id        object\n",
              "cool            int64\n",
              "useful          int64\n",
              "funny           int64\n",
              "dtype: object"
            ]
          },
          "metadata": {},
          "execution_count": 7
        }
      ],
      "source": [
        "# DATATYPE OF EACH COLUMN\n",
        "print(\"Datatype of each column:\")\n",
        "# Your code here\n",
        "data.dtypes"
      ]
    },
    {
      "cell_type": "code",
      "execution_count": null,
      "id": "f21d0064-2f57-4e7f-857c-82c636b27918",
      "metadata": {
        "id": "f21d0064-2f57-4e7f-857c-82c636b27918",
        "colab": {
          "base_uri": "https://localhost:8080/",
          "height": 757
        },
        "outputId": "4b063642-a52d-4636-8a6e-78cb4d599c9f"
      },
      "outputs": [
        {
          "output_type": "stream",
          "name": "stdout",
          "text": [
            "Few dataset entries:\n"
          ]
        },
        {
          "output_type": "execute_result",
          "data": {
            "text/plain": [
              "              business_id        date               review_id  stars  \\\n",
              "0  9yKzy9PApeiPPOUJEtnvkg  2011-01-26  fWKvX83p0-ka4JS3dc6E5A      5   \n",
              "1  ZRJwVLyzEJq1VAihDhYiow  2011-07-27  IjZ33sJrzXqU-0X6U8NwyA      5   \n",
              "2  6oRAC4uyJCsJl1X0WZpVSA  2012-06-14  IESLBzqUCLdSzSqm0eCSxQ      4   \n",
              "3  _1QQZuf4zZOyFCvXc0o6Vg  2010-05-27  G-WvGaISbqqaMHlNnByodA      5   \n",
              "4  6ozycU1RpktNG2-1BroVtw  2012-01-05  1uJFq2r5QfJG_6ExMRCaGw      5   \n",
              "\n",
              "                                                text    type  \\\n",
              "0  My wife took me here on my birthday for breakf...  review   \n",
              "1  I have no idea why some people give bad review...  review   \n",
              "2  love the gyro plate. Rice is so good and I als...  review   \n",
              "3  Rosie, Dakota, and I LOVE Chaparral Dog Park!!...  review   \n",
              "4  General Manager Scott Petello is a good egg!!!...  review   \n",
              "\n",
              "                  user_id  cool  useful  funny  \n",
              "0  rLtl8ZkDX5vH5nAx9C3q5Q     2       5      0  \n",
              "1  0a2KyEL0d3Yb1V6aivbIuQ     0       0      0  \n",
              "2  0hT2KtfLiobPvh6cDC8JQg     0       1      0  \n",
              "3  uZetl9T0NcROGOyFfughhg     1       2      0  \n",
              "4  vYmM4KTsC8ZfQBg-j5MWkw     0       0      0  "
            ],
            "text/html": [
              "\n",
              "  <div id=\"df-efeb13ce-82c9-430d-ac63-96e305a20fe6\">\n",
              "    <div class=\"colab-df-container\">\n",
              "      <div>\n",
              "<style scoped>\n",
              "    .dataframe tbody tr th:only-of-type {\n",
              "        vertical-align: middle;\n",
              "    }\n",
              "\n",
              "    .dataframe tbody tr th {\n",
              "        vertical-align: top;\n",
              "    }\n",
              "\n",
              "    .dataframe thead th {\n",
              "        text-align: right;\n",
              "    }\n",
              "</style>\n",
              "<table border=\"1\" class=\"dataframe\">\n",
              "  <thead>\n",
              "    <tr style=\"text-align: right;\">\n",
              "      <th></th>\n",
              "      <th>business_id</th>\n",
              "      <th>date</th>\n",
              "      <th>review_id</th>\n",
              "      <th>stars</th>\n",
              "      <th>text</th>\n",
              "      <th>type</th>\n",
              "      <th>user_id</th>\n",
              "      <th>cool</th>\n",
              "      <th>useful</th>\n",
              "      <th>funny</th>\n",
              "    </tr>\n",
              "  </thead>\n",
              "  <tbody>\n",
              "    <tr>\n",
              "      <th>0</th>\n",
              "      <td>9yKzy9PApeiPPOUJEtnvkg</td>\n",
              "      <td>2011-01-26</td>\n",
              "      <td>fWKvX83p0-ka4JS3dc6E5A</td>\n",
              "      <td>5</td>\n",
              "      <td>My wife took me here on my birthday for breakf...</td>\n",
              "      <td>review</td>\n",
              "      <td>rLtl8ZkDX5vH5nAx9C3q5Q</td>\n",
              "      <td>2</td>\n",
              "      <td>5</td>\n",
              "      <td>0</td>\n",
              "    </tr>\n",
              "    <tr>\n",
              "      <th>1</th>\n",
              "      <td>ZRJwVLyzEJq1VAihDhYiow</td>\n",
              "      <td>2011-07-27</td>\n",
              "      <td>IjZ33sJrzXqU-0X6U8NwyA</td>\n",
              "      <td>5</td>\n",
              "      <td>I have no idea why some people give bad review...</td>\n",
              "      <td>review</td>\n",
              "      <td>0a2KyEL0d3Yb1V6aivbIuQ</td>\n",
              "      <td>0</td>\n",
              "      <td>0</td>\n",
              "      <td>0</td>\n",
              "    </tr>\n",
              "    <tr>\n",
              "      <th>2</th>\n",
              "      <td>6oRAC4uyJCsJl1X0WZpVSA</td>\n",
              "      <td>2012-06-14</td>\n",
              "      <td>IESLBzqUCLdSzSqm0eCSxQ</td>\n",
              "      <td>4</td>\n",
              "      <td>love the gyro plate. Rice is so good and I als...</td>\n",
              "      <td>review</td>\n",
              "      <td>0hT2KtfLiobPvh6cDC8JQg</td>\n",
              "      <td>0</td>\n",
              "      <td>1</td>\n",
              "      <td>0</td>\n",
              "    </tr>\n",
              "    <tr>\n",
              "      <th>3</th>\n",
              "      <td>_1QQZuf4zZOyFCvXc0o6Vg</td>\n",
              "      <td>2010-05-27</td>\n",
              "      <td>G-WvGaISbqqaMHlNnByodA</td>\n",
              "      <td>5</td>\n",
              "      <td>Rosie, Dakota, and I LOVE Chaparral Dog Park!!...</td>\n",
              "      <td>review</td>\n",
              "      <td>uZetl9T0NcROGOyFfughhg</td>\n",
              "      <td>1</td>\n",
              "      <td>2</td>\n",
              "      <td>0</td>\n",
              "    </tr>\n",
              "    <tr>\n",
              "      <th>4</th>\n",
              "      <td>6ozycU1RpktNG2-1BroVtw</td>\n",
              "      <td>2012-01-05</td>\n",
              "      <td>1uJFq2r5QfJG_6ExMRCaGw</td>\n",
              "      <td>5</td>\n",
              "      <td>General Manager Scott Petello is a good egg!!!...</td>\n",
              "      <td>review</td>\n",
              "      <td>vYmM4KTsC8ZfQBg-j5MWkw</td>\n",
              "      <td>0</td>\n",
              "      <td>0</td>\n",
              "      <td>0</td>\n",
              "    </tr>\n",
              "  </tbody>\n",
              "</table>\n",
              "</div>\n",
              "      <button class=\"colab-df-convert\" onclick=\"convertToInteractive('df-efeb13ce-82c9-430d-ac63-96e305a20fe6')\"\n",
              "              title=\"Convert this dataframe to an interactive table.\"\n",
              "              style=\"display:none;\">\n",
              "        \n",
              "  <svg xmlns=\"http://www.w3.org/2000/svg\" height=\"24px\"viewBox=\"0 0 24 24\"\n",
              "       width=\"24px\">\n",
              "    <path d=\"M0 0h24v24H0V0z\" fill=\"none\"/>\n",
              "    <path d=\"M18.56 5.44l.94 2.06.94-2.06 2.06-.94-2.06-.94-.94-2.06-.94 2.06-2.06.94zm-11 1L8.5 8.5l.94-2.06 2.06-.94-2.06-.94L8.5 2.5l-.94 2.06-2.06.94zm10 10l.94 2.06.94-2.06 2.06-.94-2.06-.94-.94-2.06-.94 2.06-2.06.94z\"/><path d=\"M17.41 7.96l-1.37-1.37c-.4-.4-.92-.59-1.43-.59-.52 0-1.04.2-1.43.59L10.3 9.45l-7.72 7.72c-.78.78-.78 2.05 0 2.83L4 21.41c.39.39.9.59 1.41.59.51 0 1.02-.2 1.41-.59l7.78-7.78 2.81-2.81c.8-.78.8-2.07 0-2.86zM5.41 20L4 18.59l7.72-7.72 1.47 1.35L5.41 20z\"/>\n",
              "  </svg>\n",
              "      </button>\n",
              "      \n",
              "  <style>\n",
              "    .colab-df-container {\n",
              "      display:flex;\n",
              "      flex-wrap:wrap;\n",
              "      gap: 12px;\n",
              "    }\n",
              "\n",
              "    .colab-df-convert {\n",
              "      background-color: #E8F0FE;\n",
              "      border: none;\n",
              "      border-radius: 50%;\n",
              "      cursor: pointer;\n",
              "      display: none;\n",
              "      fill: #1967D2;\n",
              "      height: 32px;\n",
              "      padding: 0 0 0 0;\n",
              "      width: 32px;\n",
              "    }\n",
              "\n",
              "    .colab-df-convert:hover {\n",
              "      background-color: #E2EBFA;\n",
              "      box-shadow: 0px 1px 2px rgba(60, 64, 67, 0.3), 0px 1px 3px 1px rgba(60, 64, 67, 0.15);\n",
              "      fill: #174EA6;\n",
              "    }\n",
              "\n",
              "    [theme=dark] .colab-df-convert {\n",
              "      background-color: #3B4455;\n",
              "      fill: #D2E3FC;\n",
              "    }\n",
              "\n",
              "    [theme=dark] .colab-df-convert:hover {\n",
              "      background-color: #434B5C;\n",
              "      box-shadow: 0px 1px 3px 1px rgba(0, 0, 0, 0.15);\n",
              "      filter: drop-shadow(0px 1px 2px rgba(0, 0, 0, 0.3));\n",
              "      fill: #FFFFFF;\n",
              "    }\n",
              "  </style>\n",
              "\n",
              "      <script>\n",
              "        const buttonEl =\n",
              "          document.querySelector('#df-efeb13ce-82c9-430d-ac63-96e305a20fe6 button.colab-df-convert');\n",
              "        buttonEl.style.display =\n",
              "          google.colab.kernel.accessAllowed ? 'block' : 'none';\n",
              "\n",
              "        async function convertToInteractive(key) {\n",
              "          const element = document.querySelector('#df-efeb13ce-82c9-430d-ac63-96e305a20fe6');\n",
              "          const dataTable =\n",
              "            await google.colab.kernel.invokeFunction('convertToInteractive',\n",
              "                                                     [key], {});\n",
              "          if (!dataTable) return;\n",
              "\n",
              "          const docLinkHtml = 'Like what you see? Visit the ' +\n",
              "            '<a target=\"_blank\" href=https://colab.research.google.com/notebooks/data_table.ipynb>data table notebook</a>'\n",
              "            + ' to learn more about interactive tables.';\n",
              "          element.innerHTML = '';\n",
              "          dataTable['output_type'] = 'display_data';\n",
              "          await google.colab.output.renderOutput(dataTable, element);\n",
              "          const docLink = document.createElement('div');\n",
              "          docLink.innerHTML = docLinkHtml;\n",
              "          element.appendChild(docLink);\n",
              "        }\n",
              "      </script>\n",
              "    </div>\n",
              "  </div>\n",
              "  "
            ]
          },
          "metadata": {},
          "execution_count": 9
        }
      ],
      "source": [
        "# Take a look at the first few entries\n",
        "print(\"Few dataset entries:\")\n",
        "# Your code here\n",
        "data.head()"
      ]
    },
    {
      "cell_type": "code",
      "execution_count": null,
      "id": "9229f220-f897-4314-9bff-54667402739d",
      "metadata": {
        "id": "9229f220-f897-4314-9bff-54667402739d",
        "colab": {
          "base_uri": "https://localhost:8080/",
          "height": 494
        },
        "outputId": "574bf9ae-08fc-46ef-e626-b8eeb0828495"
      },
      "outputs": [
        {
          "output_type": "stream",
          "name": "stdout",
          "text": [
            "Summary of the dataset:\n"
          ]
        },
        {
          "output_type": "execute_result",
          "data": {
            "text/plain": [
              "                   business_id        date               review_id  \\\n",
              "count                    10000       10000                   10000   \n",
              "unique                    4174        1995                   10000   \n",
              "top     JokKtdXU7zXHcr20Lrk29A  2011-03-28  fWKvX83p0-ka4JS3dc6E5A   \n",
              "freq                        37          21                       1   \n",
              "mean                       NaN         NaN                     NaN   \n",
              "std                        NaN         NaN                     NaN   \n",
              "min                        NaN         NaN                     NaN   \n",
              "25%                        NaN         NaN                     NaN   \n",
              "50%                        NaN         NaN                     NaN   \n",
              "75%                        NaN         NaN                     NaN   \n",
              "max                        NaN         NaN                     NaN   \n",
              "\n",
              "               stars           text    type                 user_id  \\\n",
              "count   10000.000000          10000   10000                   10000   \n",
              "unique           NaN           9998       1                    6403   \n",
              "top              NaN  Great service  review  fczQCSmaWF78toLEmb0Zsw   \n",
              "freq             NaN              2   10000                      38   \n",
              "mean        3.777500            NaN     NaN                     NaN   \n",
              "std         1.214636            NaN     NaN                     NaN   \n",
              "min         1.000000            NaN     NaN                     NaN   \n",
              "25%         3.000000            NaN     NaN                     NaN   \n",
              "50%         4.000000            NaN     NaN                     NaN   \n",
              "75%         5.000000            NaN     NaN                     NaN   \n",
              "max         5.000000            NaN     NaN                     NaN   \n",
              "\n",
              "                cool        useful         funny  \n",
              "count   10000.000000  10000.000000  10000.000000  \n",
              "unique           NaN           NaN           NaN  \n",
              "top              NaN           NaN           NaN  \n",
              "freq             NaN           NaN           NaN  \n",
              "mean        0.876800      1.409300      0.701300  \n",
              "std         2.067861      2.336647      1.907942  \n",
              "min         0.000000      0.000000      0.000000  \n",
              "25%         0.000000      0.000000      0.000000  \n",
              "50%         0.000000      1.000000      0.000000  \n",
              "75%         1.000000      2.000000      1.000000  \n",
              "max        77.000000     76.000000     57.000000  "
            ],
            "text/html": [
              "\n",
              "  <div id=\"df-eb4ef2cf-a9a1-47b4-9407-597e336e230b\">\n",
              "    <div class=\"colab-df-container\">\n",
              "      <div>\n",
              "<style scoped>\n",
              "    .dataframe tbody tr th:only-of-type {\n",
              "        vertical-align: middle;\n",
              "    }\n",
              "\n",
              "    .dataframe tbody tr th {\n",
              "        vertical-align: top;\n",
              "    }\n",
              "\n",
              "    .dataframe thead th {\n",
              "        text-align: right;\n",
              "    }\n",
              "</style>\n",
              "<table border=\"1\" class=\"dataframe\">\n",
              "  <thead>\n",
              "    <tr style=\"text-align: right;\">\n",
              "      <th></th>\n",
              "      <th>business_id</th>\n",
              "      <th>date</th>\n",
              "      <th>review_id</th>\n",
              "      <th>stars</th>\n",
              "      <th>text</th>\n",
              "      <th>type</th>\n",
              "      <th>user_id</th>\n",
              "      <th>cool</th>\n",
              "      <th>useful</th>\n",
              "      <th>funny</th>\n",
              "    </tr>\n",
              "  </thead>\n",
              "  <tbody>\n",
              "    <tr>\n",
              "      <th>count</th>\n",
              "      <td>10000</td>\n",
              "      <td>10000</td>\n",
              "      <td>10000</td>\n",
              "      <td>10000.000000</td>\n",
              "      <td>10000</td>\n",
              "      <td>10000</td>\n",
              "      <td>10000</td>\n",
              "      <td>10000.000000</td>\n",
              "      <td>10000.000000</td>\n",
              "      <td>10000.000000</td>\n",
              "    </tr>\n",
              "    <tr>\n",
              "      <th>unique</th>\n",
              "      <td>4174</td>\n",
              "      <td>1995</td>\n",
              "      <td>10000</td>\n",
              "      <td>NaN</td>\n",
              "      <td>9998</td>\n",
              "      <td>1</td>\n",
              "      <td>6403</td>\n",
              "      <td>NaN</td>\n",
              "      <td>NaN</td>\n",
              "      <td>NaN</td>\n",
              "    </tr>\n",
              "    <tr>\n",
              "      <th>top</th>\n",
              "      <td>JokKtdXU7zXHcr20Lrk29A</td>\n",
              "      <td>2011-03-28</td>\n",
              "      <td>fWKvX83p0-ka4JS3dc6E5A</td>\n",
              "      <td>NaN</td>\n",
              "      <td>Great service</td>\n",
              "      <td>review</td>\n",
              "      <td>fczQCSmaWF78toLEmb0Zsw</td>\n",
              "      <td>NaN</td>\n",
              "      <td>NaN</td>\n",
              "      <td>NaN</td>\n",
              "    </tr>\n",
              "    <tr>\n",
              "      <th>freq</th>\n",
              "      <td>37</td>\n",
              "      <td>21</td>\n",
              "      <td>1</td>\n",
              "      <td>NaN</td>\n",
              "      <td>2</td>\n",
              "      <td>10000</td>\n",
              "      <td>38</td>\n",
              "      <td>NaN</td>\n",
              "      <td>NaN</td>\n",
              "      <td>NaN</td>\n",
              "    </tr>\n",
              "    <tr>\n",
              "      <th>mean</th>\n",
              "      <td>NaN</td>\n",
              "      <td>NaN</td>\n",
              "      <td>NaN</td>\n",
              "      <td>3.777500</td>\n",
              "      <td>NaN</td>\n",
              "      <td>NaN</td>\n",
              "      <td>NaN</td>\n",
              "      <td>0.876800</td>\n",
              "      <td>1.409300</td>\n",
              "      <td>0.701300</td>\n",
              "    </tr>\n",
              "    <tr>\n",
              "      <th>std</th>\n",
              "      <td>NaN</td>\n",
              "      <td>NaN</td>\n",
              "      <td>NaN</td>\n",
              "      <td>1.214636</td>\n",
              "      <td>NaN</td>\n",
              "      <td>NaN</td>\n",
              "      <td>NaN</td>\n",
              "      <td>2.067861</td>\n",
              "      <td>2.336647</td>\n",
              "      <td>1.907942</td>\n",
              "    </tr>\n",
              "    <tr>\n",
              "      <th>min</th>\n",
              "      <td>NaN</td>\n",
              "      <td>NaN</td>\n",
              "      <td>NaN</td>\n",
              "      <td>1.000000</td>\n",
              "      <td>NaN</td>\n",
              "      <td>NaN</td>\n",
              "      <td>NaN</td>\n",
              "      <td>0.000000</td>\n",
              "      <td>0.000000</td>\n",
              "      <td>0.000000</td>\n",
              "    </tr>\n",
              "    <tr>\n",
              "      <th>25%</th>\n",
              "      <td>NaN</td>\n",
              "      <td>NaN</td>\n",
              "      <td>NaN</td>\n",
              "      <td>3.000000</td>\n",
              "      <td>NaN</td>\n",
              "      <td>NaN</td>\n",
              "      <td>NaN</td>\n",
              "      <td>0.000000</td>\n",
              "      <td>0.000000</td>\n",
              "      <td>0.000000</td>\n",
              "    </tr>\n",
              "    <tr>\n",
              "      <th>50%</th>\n",
              "      <td>NaN</td>\n",
              "      <td>NaN</td>\n",
              "      <td>NaN</td>\n",
              "      <td>4.000000</td>\n",
              "      <td>NaN</td>\n",
              "      <td>NaN</td>\n",
              "      <td>NaN</td>\n",
              "      <td>0.000000</td>\n",
              "      <td>1.000000</td>\n",
              "      <td>0.000000</td>\n",
              "    </tr>\n",
              "    <tr>\n",
              "      <th>75%</th>\n",
              "      <td>NaN</td>\n",
              "      <td>NaN</td>\n",
              "      <td>NaN</td>\n",
              "      <td>5.000000</td>\n",
              "      <td>NaN</td>\n",
              "      <td>NaN</td>\n",
              "      <td>NaN</td>\n",
              "      <td>1.000000</td>\n",
              "      <td>2.000000</td>\n",
              "      <td>1.000000</td>\n",
              "    </tr>\n",
              "    <tr>\n",
              "      <th>max</th>\n",
              "      <td>NaN</td>\n",
              "      <td>NaN</td>\n",
              "      <td>NaN</td>\n",
              "      <td>5.000000</td>\n",
              "      <td>NaN</td>\n",
              "      <td>NaN</td>\n",
              "      <td>NaN</td>\n",
              "      <td>77.000000</td>\n",
              "      <td>76.000000</td>\n",
              "      <td>57.000000</td>\n",
              "    </tr>\n",
              "  </tbody>\n",
              "</table>\n",
              "</div>\n",
              "      <button class=\"colab-df-convert\" onclick=\"convertToInteractive('df-eb4ef2cf-a9a1-47b4-9407-597e336e230b')\"\n",
              "              title=\"Convert this dataframe to an interactive table.\"\n",
              "              style=\"display:none;\">\n",
              "        \n",
              "  <svg xmlns=\"http://www.w3.org/2000/svg\" height=\"24px\"viewBox=\"0 0 24 24\"\n",
              "       width=\"24px\">\n",
              "    <path d=\"M0 0h24v24H0V0z\" fill=\"none\"/>\n",
              "    <path d=\"M18.56 5.44l.94 2.06.94-2.06 2.06-.94-2.06-.94-.94-2.06-.94 2.06-2.06.94zm-11 1L8.5 8.5l.94-2.06 2.06-.94-2.06-.94L8.5 2.5l-.94 2.06-2.06.94zm10 10l.94 2.06.94-2.06 2.06-.94-2.06-.94-.94-2.06-.94 2.06-2.06.94z\"/><path d=\"M17.41 7.96l-1.37-1.37c-.4-.4-.92-.59-1.43-.59-.52 0-1.04.2-1.43.59L10.3 9.45l-7.72 7.72c-.78.78-.78 2.05 0 2.83L4 21.41c.39.39.9.59 1.41.59.51 0 1.02-.2 1.41-.59l7.78-7.78 2.81-2.81c.8-.78.8-2.07 0-2.86zM5.41 20L4 18.59l7.72-7.72 1.47 1.35L5.41 20z\"/>\n",
              "  </svg>\n",
              "      </button>\n",
              "      \n",
              "  <style>\n",
              "    .colab-df-container {\n",
              "      display:flex;\n",
              "      flex-wrap:wrap;\n",
              "      gap: 12px;\n",
              "    }\n",
              "\n",
              "    .colab-df-convert {\n",
              "      background-color: #E8F0FE;\n",
              "      border: none;\n",
              "      border-radius: 50%;\n",
              "      cursor: pointer;\n",
              "      display: none;\n",
              "      fill: #1967D2;\n",
              "      height: 32px;\n",
              "      padding: 0 0 0 0;\n",
              "      width: 32px;\n",
              "    }\n",
              "\n",
              "    .colab-df-convert:hover {\n",
              "      background-color: #E2EBFA;\n",
              "      box-shadow: 0px 1px 2px rgba(60, 64, 67, 0.3), 0px 1px 3px 1px rgba(60, 64, 67, 0.15);\n",
              "      fill: #174EA6;\n",
              "    }\n",
              "\n",
              "    [theme=dark] .colab-df-convert {\n",
              "      background-color: #3B4455;\n",
              "      fill: #D2E3FC;\n",
              "    }\n",
              "\n",
              "    [theme=dark] .colab-df-convert:hover {\n",
              "      background-color: #434B5C;\n",
              "      box-shadow: 0px 1px 3px 1px rgba(0, 0, 0, 0.15);\n",
              "      filter: drop-shadow(0px 1px 2px rgba(0, 0, 0, 0.3));\n",
              "      fill: #FFFFFF;\n",
              "    }\n",
              "  </style>\n",
              "\n",
              "      <script>\n",
              "        const buttonEl =\n",
              "          document.querySelector('#df-eb4ef2cf-a9a1-47b4-9407-597e336e230b button.colab-df-convert');\n",
              "        buttonEl.style.display =\n",
              "          google.colab.kernel.accessAllowed ? 'block' : 'none';\n",
              "\n",
              "        async function convertToInteractive(key) {\n",
              "          const element = document.querySelector('#df-eb4ef2cf-a9a1-47b4-9407-597e336e230b');\n",
              "          const dataTable =\n",
              "            await google.colab.kernel.invokeFunction('convertToInteractive',\n",
              "                                                     [key], {});\n",
              "          if (!dataTable) return;\n",
              "\n",
              "          const docLinkHtml = 'Like what you see? Visit the ' +\n",
              "            '<a target=\"_blank\" href=https://colab.research.google.com/notebooks/data_table.ipynb>data table notebook</a>'\n",
              "            + ' to learn more about interactive tables.';\n",
              "          element.innerHTML = '';\n",
              "          dataTable['output_type'] = 'display_data';\n",
              "          await google.colab.output.renderOutput(dataTable, element);\n",
              "          const docLink = document.createElement('div');\n",
              "          docLink.innerHTML = docLinkHtml;\n",
              "          element.appendChild(docLink);\n",
              "        }\n",
              "      </script>\n",
              "    </div>\n",
              "  </div>\n",
              "  "
            ]
          },
          "metadata": {},
          "execution_count": 10
        }
      ],
      "source": [
        "# Summary of the dataset\n",
        "print(\"Summary of the dataset:\")\n",
        "# Your code here\n",
        "data.describe(include='all')"
      ]
    },
    {
      "cell_type": "markdown",
      "source": [
        "# Explore the Data - Visualisation"
      ],
      "metadata": {
        "id": "luGPM2EgT3qV"
      },
      "id": "luGPM2EgT3qV"
    },
    {
      "cell_type": "markdown",
      "source": [
        "Let's take a look at the distribution of the reviews in terms of stars"
      ],
      "metadata": {
        "id": "Q0fI_Mb3UBpw"
      },
      "id": "Q0fI_Mb3UBpw"
    },
    {
      "cell_type": "code",
      "source": [
        "ax = data['stars'].value_counts().sort_index().plot(kind='bar',\n",
        "          title='Count of Reviews by Stars',\n",
        "          figsize=(10, 5))\n",
        "ax.set_xlabel('Review Stars')\n",
        "plt.show()"
      ],
      "metadata": {
        "colab": {
          "base_uri": "https://localhost:8080/",
          "height": 346
        },
        "id": "mSVdekSl28Ag",
        "outputId": "6b86231d-c8b9-4ee3-822d-7ea53358d16c"
      },
      "id": "mSVdekSl28Ag",
      "execution_count": null,
      "outputs": [
        {
          "output_type": "display_data",
          "data": {
            "text/plain": [
              "<Figure size 720x360 with 1 Axes>"
            ],
            "image/png": "[encoded data removed]"
          },
          "metadata": {
            "needs_background": "light"
          }
        }
      ]
    },
    {
      "cell_type": "markdown",
      "source": [
        "\n",
        "Let us now visualize the if there is any correlation between stars and the length of the review."
      ],
      "metadata": {
        "id": "shlLwbVw7Jce"
      },
      "id": "shlLwbVw7Jce"
    },
    {
      "cell_type": "code",
      "execution_count": null,
      "id": "83c93ac6-ee52-48ba-a2a3-dfc7d3bbdd0a",
      "metadata": {
        "id": "83c93ac6-ee52-48ba-a2a3-dfc7d3bbdd0a",
        "colab": {
          "base_uri": "https://localhost:8080/",
          "height": 739
        },
        "outputId": "3d1b5d2e-3fe1-482c-870b-4fd9c1c9ddc8"
      },
      "outputs": [
        {
          "output_type": "execute_result",
          "data": {
            "text/plain": [
              "              business_id        date               review_id  stars  \\\n",
              "0  9yKzy9PApeiPPOUJEtnvkg  2011-01-26  fWKvX83p0-ka4JS3dc6E5A      5   \n",
              "1  ZRJwVLyzEJq1VAihDhYiow  2011-07-27  IjZ33sJrzXqU-0X6U8NwyA      5   \n",
              "2  6oRAC4uyJCsJl1X0WZpVSA  2012-06-14  IESLBzqUCLdSzSqm0eCSxQ      4   \n",
              "3  _1QQZuf4zZOyFCvXc0o6Vg  2010-05-27  G-WvGaISbqqaMHlNnByodA      5   \n",
              "4  6ozycU1RpktNG2-1BroVtw  2012-01-05  1uJFq2r5QfJG_6ExMRCaGw      5   \n",
              "\n",
              "                                                text    type  \\\n",
              "0  My wife took me here on my birthday for breakf...  review   \n",
              "1  I have no idea why some people give bad review...  review   \n",
              "2  love the gyro plate. Rice is so good and I als...  review   \n",
              "3  Rosie, Dakota, and I LOVE Chaparral Dog Park!!...  review   \n",
              "4  General Manager Scott Petello is a good egg!!!...  review   \n",
              "\n",
              "                  user_id  cool  useful  funny  length  \n",
              "0  rLtl8ZkDX5vH5nAx9C3q5Q     2       5      0     889  \n",
              "1  0a2KyEL0d3Yb1V6aivbIuQ     0       0      0    1345  \n",
              "2  0hT2KtfLiobPvh6cDC8JQg     0       1      0      76  \n",
              "3  uZetl9T0NcROGOyFfughhg     1       2      0     419  \n",
              "4  vYmM4KTsC8ZfQBg-j5MWkw     0       0      0     469  "
            ],
            "text/html": [
              "\n",
              "  <div id=\"df-e47c9030-b6ca-406c-a88b-d49cdca47d94\">\n",
              "    <div class=\"colab-df-container\">\n",
              "      <div>\n",
              "<style scoped>\n",
              "    .dataframe tbody tr th:only-of-type {\n",
              "        vertical-align: middle;\n",
              "    }\n",
              "\n",
              "    .dataframe tbody tr th {\n",
              "        vertical-align: top;\n",
              "    }\n",
              "\n",
              "    .dataframe thead th {\n",
              "        text-align: right;\n",
              "    }\n",
              "</style>\n",
              "<table border=\"1\" class=\"dataframe\">\n",
              "  <thead>\n",
              "    <tr style=\"text-align: right;\">\n",
              "      <th></th>\n",
              "      <th>business_id</th>\n",
              "      <th>date</th>\n",
              "      <th>review_id</th>\n",
              "      <th>stars</th>\n",
              "      <th>text</th>\n",
              "      <th>type</th>\n",
              "      <th>user_id</th>\n",
              "      <th>cool</th>\n",
              "      <th>useful</th>\n",
              "      <th>funny</th>\n",
              "      <th>length</th>\n",
              "    </tr>\n",
              "  </thead>\n",
              "  <tbody>\n",
              "    <tr>\n",
              "      <th>0</th>\n",
              "      <td>9yKzy9PApeiPPOUJEtnvkg</td>\n",
              "      <td>2011-01-26</td>\n",
              "      <td>fWKvX83p0-ka4JS3dc6E5A</td>\n",
              "      <td>5</td>\n",
              "      <td>My wife took me here on my birthday for breakf...</td>\n",
              "      <td>review</td>\n",
              "      <td>rLtl8ZkDX5vH5nAx9C3q5Q</td>\n",
              "      <td>2</td>\n",
              "      <td>5</td>\n",
              "      <td>0</td>\n",
              "      <td>889</td>\n",
              "    </tr>\n",
              "    <tr>\n",
              "      <th>1</th>\n",
              "      <td>ZRJwVLyzEJq1VAihDhYiow</td>\n",
              "      <td>2011-07-27</td>\n",
              "      <td>IjZ33sJrzXqU-0X6U8NwyA</td>\n",
              "      <td>5</td>\n",
              "      <td>I have no idea why some people give bad review...</td>\n",
              "      <td>review</td>\n",
              "      <td>0a2KyEL0d3Yb1V6aivbIuQ</td>\n",
              "      <td>0</td>\n",
              "      <td>0</td>\n",
              "      <td>0</td>\n",
              "      <td>1345</td>\n",
              "    </tr>\n",
              "    <tr>\n",
              "      <th>2</th>\n",
              "      <td>6oRAC4uyJCsJl1X0WZpVSA</td>\n",
              "      <td>2012-06-14</td>\n",
              "      <td>IESLBzqUCLdSzSqm0eCSxQ</td>\n",
              "      <td>4</td>\n",
              "      <td>love the gyro plate. Rice is so good and I als...</td>\n",
              "      <td>review</td>\n",
              "      <td>0hT2KtfLiobPvh6cDC8JQg</td>\n",
              "      <td>0</td>\n",
              "      <td>1</td>\n",
              "      <td>0</td>\n",
              "      <td>76</td>\n",
              "    </tr>\n",
              "    <tr>\n",
              "      <th>3</th>\n",
              "      <td>_1QQZuf4zZOyFCvXc0o6Vg</td>\n",
              "      <td>2010-05-27</td>\n",
              "      <td>G-WvGaISbqqaMHlNnByodA</td>\n",
              "      <td>5</td>\n",
              "      <td>Rosie, Dakota, and I LOVE Chaparral Dog Park!!...</td>\n",
              "      <td>review</td>\n",
              "      <td>uZetl9T0NcROGOyFfughhg</td>\n",
              "      <td>1</td>\n",
              "      <td>2</td>\n",
              "      <td>0</td>\n",
              "      <td>419</td>\n",
              "    </tr>\n",
              "    <tr>\n",
              "      <th>4</th>\n",
              "      <td>6ozycU1RpktNG2-1BroVtw</td>\n",
              "      <td>2012-01-05</td>\n",
              "      <td>1uJFq2r5QfJG_6ExMRCaGw</td>\n",
              "      <td>5</td>\n",
              "      <td>General Manager Scott Petello is a good egg!!!...</td>\n",
              "      <td>review</td>\n",
              "      <td>vYmM4KTsC8ZfQBg-j5MWkw</td>\n",
              "      <td>0</td>\n",
              "      <td>0</td>\n",
              "      <td>0</td>\n",
              "      <td>469</td>\n",
              "    </tr>\n",
              "  </tbody>\n",
              "</table>\n",
              "</div>\n",
              "      <button class=\"colab-df-convert\" onclick=\"convertToInteractive('df-e47c9030-b6ca-406c-a88b-d49cdca47d94')\"\n",
              "              title=\"Convert this dataframe to an interactive table.\"\n",
              "              style=\"display:none;\">\n",
              "        \n",
              "  <svg xmlns=\"http://www.w3.org/2000/svg\" height=\"24px\"viewBox=\"0 0 24 24\"\n",
              "       width=\"24px\">\n",
              "    <path d=\"M0 0h24v24H0V0z\" fill=\"none\"/>\n",
              "    <path d=\"M18.56 5.44l.94 2.06.94-2.06 2.06-.94-2.06-.94-.94-2.06-.94 2.06-2.06.94zm-11 1L8.5 8.5l.94-2.06 2.06-.94-2.06-.94L8.5 2.5l-.94 2.06-2.06.94zm10 10l.94 2.06.94-2.06 2.06-.94-2.06-.94-.94-2.06-.94 2.06-2.06.94z\"/><path d=\"M17.41 7.96l-1.37-1.37c-.4-.4-.92-.59-1.43-.59-.52 0-1.04.2-1.43.59L10.3 9.45l-7.72 7.72c-.78.78-.78 2.05 0 2.83L4 21.41c.39.39.9.59 1.41.59.51 0 1.02-.2 1.41-.59l7.78-7.78 2.81-2.81c.8-.78.8-2.07 0-2.86zM5.41 20L4 18.59l7.72-7.72 1.47 1.35L5.41 20z\"/>\n",
              "  </svg>\n",
              "      </button>\n",
              "      \n",
              "  <style>\n",
              "    .colab-df-container {\n",
              "      display:flex;\n",
              "      flex-wrap:wrap;\n",
              "      gap: 12px;\n",
              "    }\n",
              "\n",
              "    .colab-df-convert {\n",
              "      background-color: #E8F0FE;\n",
              "      border: none;\n",
              "      border-radius: 50%;\n",
              "      cursor: pointer;\n",
              "      display: none;\n",
              "      fill: #1967D2;\n",
              "      height: 32px;\n",
              "      padding: 0 0 0 0;\n",
              "      width: 32px;\n",
              "    }\n",
              "\n",
              "    .colab-df-convert:hover {\n",
              "      background-color: #E2EBFA;\n",
              "      box-shadow: 0px 1px 2px rgba(60, 64, 67, 0.3), 0px 1px 3px 1px rgba(60, 64, 67, 0.15);\n",
              "      fill: #174EA6;\n",
              "    }\n",
              "\n",
              "    [theme=dark] .colab-df-convert {\n",
              "      background-color: #3B4455;\n",
              "      fill: #D2E3FC;\n",
              "    }\n",
              "\n",
              "    [theme=dark] .colab-df-convert:hover {\n",
              "      background-color: #434B5C;\n",
              "      box-shadow: 0px 1px 3px 1px rgba(0, 0, 0, 0.15);\n",
              "      filter: drop-shadow(0px 1px 2px rgba(0, 0, 0, 0.3));\n",
              "      fill: #FFFFFF;\n",
              "    }\n",
              "  </style>\n",
              "\n",
              "      <script>\n",
              "        const buttonEl =\n",
              "          document.querySelector('#df-e47c9030-b6ca-406c-a88b-d49cdca47d94 button.colab-df-convert');\n",
              "        buttonEl.style.display =\n",
              "          google.colab.kernel.accessAllowed ? 'block' : 'none';\n",
              "\n",
              "        async function convertToInteractive(key) {\n",
              "          const element = document.querySelector('#df-e47c9030-b6ca-406c-a88b-d49cdca47d94');\n",
              "          const dataTable =\n",
              "            await google.colab.kernel.invokeFunction('convertToInteractive',\n",
              "                                                     [key], {});\n",
              "          if (!dataTable) return;\n",
              "\n",
              "          const docLinkHtml = 'Like what you see? Visit the ' +\n",
              "            '<a target=\"_blank\" href=https://colab.research.google.com/notebooks/data_table.ipynb>data table notebook</a>'\n",
              "            + ' to learn more about interactive tables.';\n",
              "          element.innerHTML = '';\n",
              "          dataTable['output_type'] = 'display_data';\n",
              "          await google.colab.output.renderOutput(dataTable, element);\n",
              "          const docLink = document.createElement('div');\n",
              "          docLink.innerHTML = docLinkHtml;\n",
              "          element.appendChild(docLink);\n",
              "        }\n",
              "      </script>\n",
              "    </div>\n",
              "  </div>\n",
              "  "
            ]
          },
          "metadata": {},
          "execution_count": 12
        }
      ],
      "source": [
        "# CREATING A NEW COLUMN IN THE DATASET FOR THE NUMBER OF WORDS IN THE REVIEW\n",
        "data['length'] = data['text'].apply(len)\n",
        "data.head()"
      ]
    },
    {
      "cell_type": "code",
      "execution_count": null,
      "id": "74079c28-e39b-47a6-b440-6995b3e3ec98",
      "metadata": {
        "id": "74079c28-e39b-47a6-b440-6995b3e3ec98",
        "colab": {
          "base_uri": "https://localhost:8080/",
          "height": 204
        },
        "outputId": "55bd358d-5e1f-48e8-bde6-1d88f748fe28"
      },
      "outputs": [
        {
          "output_type": "execute_result",
          "data": {
            "text/plain": [
              "<seaborn.axisgrid.FacetGrid at 0x7f272e60b5e0>"
            ]
          },
          "metadata": {},
          "execution_count": 13
        },
        {
          "output_type": "display_data",
          "data": {
            "text/plain": [
              "<Figure size 1080x216 with 5 Axes>"
            ],
            "image/png": "[encoded data removed]"
          },
          "metadata": {
            "needs_background": "light"
          }
        }
      ],
      "source": [
        "# COMPARING TEXT LENGTH TO STARS\n",
        "graph = sns.FacetGrid(data=data,col='stars')\n",
        "graph.map(plt.hist,'length',bins=50)"
      ]
    },
    {
      "cell_type": "markdown",
      "source": [
        "## Mean Value of the Vote columns\n",
        "\n",
        "> There are 3 voting columns for the reviews - funny, cool and useful. Let us now find the mean values with respect to the stars given to the review."
      ],
      "metadata": {
        "id": "UulP6MQ87SxL"
      },
      "id": "UulP6MQ87SxL"
    },
    {
      "cell_type": "code",
      "execution_count": null,
      "id": "8d093d17-0414-404d-9d5e-b6d8685fffcb",
      "metadata": {
        "id": "8d093d17-0414-404d-9d5e-b6d8685fffcb",
        "colab": {
          "base_uri": "https://localhost:8080/",
          "height": 238
        },
        "outputId": "cceab0b3-6df1-4219-b0d8-83ad63f6b194"
      },
      "outputs": [
        {
          "output_type": "execute_result",
          "data": {
            "text/plain": [
              "           cool    useful     funny      length\n",
              "stars                                          \n",
              "1      0.576769  1.604806  1.056075  826.515354\n",
              "2      0.719525  1.563107  0.875944  842.256742\n",
              "3      0.788501  1.306639  0.694730  758.498289\n",
              "4      0.954623  1.395916  0.670448  712.923142\n",
              "5      0.944261  1.381780  0.608631  624.999101"
            ],
            "text/html": [
              "\n",
              "  <div id=\"df-e5826936-e068-4ad0-b4ff-0f38f3398677\">\n",
              "    <div class=\"colab-df-container\">\n",
              "      <div>\n",
              "<style scoped>\n",
              "    .dataframe tbody tr th:only-of-type {\n",
              "        vertical-align: middle;\n",
              "    }\n",
              "\n",
              "    .dataframe tbody tr th {\n",
              "        vertical-align: top;\n",
              "    }\n",
              "\n",
              "    .dataframe thead th {\n",
              "        text-align: right;\n",
              "    }\n",
              "</style>\n",
              "<table border=\"1\" class=\"dataframe\">\n",
              "  <thead>\n",
              "    <tr style=\"text-align: right;\">\n",
              "      <th></th>\n",
              "      <th>cool</th>\n",
              "      <th>useful</th>\n",
              "      <th>funny</th>\n",
              "      <th>length</th>\n",
              "    </tr>\n",
              "    <tr>\n",
              "      <th>stars</th>\n",
              "      <th></th>\n",
              "      <th></th>\n",
              "      <th></th>\n",
              "      <th></th>\n",
              "    </tr>\n",
              "  </thead>\n",
              "  <tbody>\n",
              "    <tr>\n",
              "      <th>1</th>\n",
              "      <td>0.576769</td>\n",
              "      <td>1.604806</td>\n",
              "      <td>1.056075</td>\n",
              "      <td>826.515354</td>\n",
              "    </tr>\n",
              "    <tr>\n",
              "      <th>2</th>\n",
              "      <td>0.719525</td>\n",
              "      <td>1.563107</td>\n",
              "      <td>0.875944</td>\n",
              "      <td>842.256742</td>\n",
              "    </tr>\n",
              "    <tr>\n",
              "      <th>3</th>\n",
              "      <td>0.788501</td>\n",
              "      <td>1.306639</td>\n",
              "      <td>0.694730</td>\n",
              "      <td>758.498289</td>\n",
              "    </tr>\n",
              "    <tr>\n",
              "      <th>4</th>\n",
              "      <td>0.954623</td>\n",
              "      <td>1.395916</td>\n",
              "      <td>0.670448</td>\n",
              "      <td>712.923142</td>\n",
              "    </tr>\n",
              "    <tr>\n",
              "      <th>5</th>\n",
              "      <td>0.944261</td>\n",
              "      <td>1.381780</td>\n",
              "      <td>0.608631</td>\n",
              "      <td>624.999101</td>\n",
              "    </tr>\n",
              "  </tbody>\n",
              "</table>\n",
              "</div>\n",
              "      <button class=\"colab-df-convert\" onclick=\"convertToInteractive('df-e5826936-e068-4ad0-b4ff-0f38f3398677')\"\n",
              "              title=\"Convert this dataframe to an interactive table.\"\n",
              "              style=\"display:none;\">\n",
              "        \n",
              "  <svg xmlns=\"http://www.w3.org/2000/svg\" height=\"24px\"viewBox=\"0 0 24 24\"\n",
              "       width=\"24px\">\n",
              "    <path d=\"M0 0h24v24H0V0z\" fill=\"none\"/>\n",
              "    <path d=\"M18.56 5.44l.94 2.06.94-2.06 2.06-.94-2.06-.94-.94-2.06-.94 2.06-2.06.94zm-11 1L8.5 8.5l.94-2.06 2.06-.94-2.06-.94L8.5 2.5l-.94 2.06-2.06.94zm10 10l.94 2.06.94-2.06 2.06-.94-2.06-.94-.94-2.06-.94 2.06-2.06.94z\"/><path d=\"M17.41 7.96l-1.37-1.37c-.4-.4-.92-.59-1.43-.59-.52 0-1.04.2-1.43.59L10.3 9.45l-7.72 7.72c-.78.78-.78 2.05 0 2.83L4 21.41c.39.39.9.59 1.41.59.51 0 1.02-.2 1.41-.59l7.78-7.78 2.81-2.81c.8-.78.8-2.07 0-2.86zM5.41 20L4 18.59l7.72-7.72 1.47 1.35L5.41 20z\"/>\n",
              "  </svg>\n",
              "      </button>\n",
              "      \n",
              "  <style>\n",
              "    .colab-df-container {\n",
              "      display:flex;\n",
              "      flex-wrap:wrap;\n",
              "      gap: 12px;\n",
              "    }\n",
              "\n",
              "    .colab-df-convert {\n",
              "      background-color: #E8F0FE;\n",
              "      border: none;\n",
              "      border-radius: 50%;\n",
              "      cursor: pointer;\n",
              "      display: none;\n",
              "      fill: #1967D2;\n",
              "      height: 32px;\n",
              "      padding: 0 0 0 0;\n",
              "      width: 32px;\n",
              "    }\n",
              "\n",
              "    .colab-df-convert:hover {\n",
              "      background-color: #E2EBFA;\n",
              "      box-shadow: 0px 1px 2px rgba(60, 64, 67, 0.3), 0px 1px 3px 1px rgba(60, 64, 67, 0.15);\n",
              "      fill: #174EA6;\n",
              "    }\n",
              "\n",
              "    [theme=dark] .colab-df-convert {\n",
              "      background-color: #3B4455;\n",
              "      fill: #D2E3FC;\n",
              "    }\n",
              "\n",
              "    [theme=dark] .colab-df-convert:hover {\n",
              "      background-color: #434B5C;\n",
              "      box-shadow: 0px 1px 3px 1px rgba(0, 0, 0, 0.15);\n",
              "      filter: drop-shadow(0px 1px 2px rgba(0, 0, 0, 0.3));\n",
              "      fill: #FFFFFF;\n",
              "    }\n",
              "  </style>\n",
              "\n",
              "      <script>\n",
              "        const buttonEl =\n",
              "          document.querySelector('#df-e5826936-e068-4ad0-b4ff-0f38f3398677 button.colab-df-convert');\n",
              "        buttonEl.style.display =\n",
              "          google.colab.kernel.accessAllowed ? 'block' : 'none';\n",
              "\n",
              "        async function convertToInteractive(key) {\n",
              "          const element = document.querySelector('#df-e5826936-e068-4ad0-b4ff-0f38f3398677');\n",
              "          const dataTable =\n",
              "            await google.colab.kernel.invokeFunction('convertToInteractive',\n",
              "                                                     [key], {});\n",
              "          if (!dataTable) return;\n",
              "\n",
              "          const docLinkHtml = 'Like what you see? Visit the ' +\n",
              "            '<a target=\"_blank\" href=https://colab.research.google.com/notebooks/data_table.ipynb>data table notebook</a>'\n",
              "            + ' to learn more about interactive tables.';\n",
              "          element.innerHTML = '';\n",
              "          dataTable['output_type'] = 'display_data';\n",
              "          await google.colab.output.renderOutput(dataTable, element);\n",
              "          const docLink = document.createElement('div');\n",
              "          docLink.innerHTML = docLinkHtml;\n",
              "          element.appendChild(docLink);\n",
              "        }\n",
              "      </script>\n",
              "    </div>\n",
              "  </div>\n",
              "  "
            ]
          },
          "metadata": {},
          "execution_count": 15
        }
      ],
      "source": [
        "# GETTING THE MEAN VALUES OF THE VOTE COLUMNS WRT THE STARS ON THE REVIEW\n",
        "# Your code here\n",
        "stval = data.groupby('stars').mean()\n",
        "stval"
      ]
    },
    {
      "cell_type": "markdown",
      "source": [
        "## Correlation between the voting columns\n",
        "Let us now see what the correlation is between the three voting columns."
      ],
      "metadata": {
        "id": "M8waYvw-7mdr"
      },
      "id": "M8waYvw-7mdr"
    },
    {
      "cell_type": "code",
      "execution_count": null,
      "id": "23889d62-16b0-4f1d-bf34-a88937fc3354",
      "metadata": {
        "id": "23889d62-16b0-4f1d-bf34-a88937fc3354",
        "colab": {
          "base_uri": "https://localhost:8080/",
          "height": 175
        },
        "outputId": "8fb81899-2375-4eca-dd5f-2ed7682b6030"
      },
      "outputs": [
        {
          "output_type": "execute_result",
          "data": {
            "text/plain": [
              "            cool    useful     funny    length\n",
              "cool    1.000000 -0.743329 -0.944939 -0.857664\n",
              "useful -0.743329  1.000000  0.894506  0.699881\n",
              "funny  -0.944939  0.894506  1.000000  0.843461\n",
              "length -0.857664  0.699881  0.843461  1.000000"
            ],
            "text/html": [
              "\n",
              "  <div id=\"df-fb0212b8-c034-468f-aaa1-976cf394049d\">\n",
              "    <div class=\"colab-df-container\">\n",
              "      <div>\n",
              "<style scoped>\n",
              "    .dataframe tbody tr th:only-of-type {\n",
              "        vertical-align: middle;\n",
              "    }\n",
              "\n",
              "    .dataframe tbody tr th {\n",
              "        vertical-align: top;\n",
              "    }\n",
              "\n",
              "    .dataframe thead th {\n",
              "        text-align: right;\n",
              "    }\n",
              "</style>\n",
              "<table border=\"1\" class=\"dataframe\">\n",
              "  <thead>\n",
              "    <tr style=\"text-align: right;\">\n",
              "      <th></th>\n",
              "      <th>cool</th>\n",
              "      <th>useful</th>\n",
              "      <th>funny</th>\n",
              "      <th>length</th>\n",
              "    </tr>\n",
              "  </thead>\n",
              "  <tbody>\n",
              "    <tr>\n",
              "      <th>cool</th>\n",
              "      <td>1.000000</td>\n",
              "      <td>-0.743329</td>\n",
              "      <td>-0.944939</td>\n",
              "      <td>-0.857664</td>\n",
              "    </tr>\n",
              "    <tr>\n",
              "      <th>useful</th>\n",
              "      <td>-0.743329</td>\n",
              "      <td>1.000000</td>\n",
              "      <td>0.894506</td>\n",
              "      <td>0.699881</td>\n",
              "    </tr>\n",
              "    <tr>\n",
              "      <th>funny</th>\n",
              "      <td>-0.944939</td>\n",
              "      <td>0.894506</td>\n",
              "      <td>1.000000</td>\n",
              "      <td>0.843461</td>\n",
              "    </tr>\n",
              "    <tr>\n",
              "      <th>length</th>\n",
              "      <td>-0.857664</td>\n",
              "      <td>0.699881</td>\n",
              "      <td>0.843461</td>\n",
              "      <td>1.000000</td>\n",
              "    </tr>\n",
              "  </tbody>\n",
              "</table>\n",
              "</div>\n",
              "      <button class=\"colab-df-convert\" onclick=\"convertToInteractive('df-fb0212b8-c034-468f-aaa1-976cf394049d')\"\n",
              "              title=\"Convert this dataframe to an interactive table.\"\n",
              "              style=\"display:none;\">\n",
              "        \n",
              "  <svg xmlns=\"http://www.w3.org/2000/svg\" height=\"24px\"viewBox=\"0 0 24 24\"\n",
              "       width=\"24px\">\n",
              "    <path d=\"M0 0h24v24H0V0z\" fill=\"none\"/>\n",
              "    <path d=\"M18.56 5.44l.94 2.06.94-2.06 2.06-.94-2.06-.94-.94-2.06-.94 2.06-2.06.94zm-11 1L8.5 8.5l.94-2.06 2.06-.94-2.06-.94L8.5 2.5l-.94 2.06-2.06.94zm10 10l.94 2.06.94-2.06 2.06-.94-2.06-.94-.94-2.06-.94 2.06-2.06.94z\"/><path d=\"M17.41 7.96l-1.37-1.37c-.4-.4-.92-.59-1.43-.59-.52 0-1.04.2-1.43.59L10.3 9.45l-7.72 7.72c-.78.78-.78 2.05 0 2.83L4 21.41c.39.39.9.59 1.41.59.51 0 1.02-.2 1.41-.59l7.78-7.78 2.81-2.81c.8-.78.8-2.07 0-2.86zM5.41 20L4 18.59l7.72-7.72 1.47 1.35L5.41 20z\"/>\n",
              "  </svg>\n",
              "      </button>\n",
              "      \n",
              "  <style>\n",
              "    .colab-df-container {\n",
              "      display:flex;\n",
              "      flex-wrap:wrap;\n",
              "      gap: 12px;\n",
              "    }\n",
              "\n",
              "    .colab-df-convert {\n",
              "      background-color: #E8F0FE;\n",
              "      border: none;\n",
              "      border-radius: 50%;\n",
              "      cursor: pointer;\n",
              "      display: none;\n",
              "      fill: #1967D2;\n",
              "      height: 32px;\n",
              "      padding: 0 0 0 0;\n",
              "      width: 32px;\n",
              "    }\n",
              "\n",
              "    .colab-df-convert:hover {\n",
              "      background-color: #E2EBFA;\n",
              "      box-shadow: 0px 1px 2px rgba(60, 64, 67, 0.3), 0px 1px 3px 1px rgba(60, 64, 67, 0.15);\n",
              "      fill: #174EA6;\n",
              "    }\n",
              "\n",
              "    [theme=dark] .colab-df-convert {\n",
              "      background-color: #3B4455;\n",
              "      fill: #D2E3FC;\n",
              "    }\n",
              "\n",
              "    [theme=dark] .colab-df-convert:hover {\n",
              "      background-color: #434B5C;\n",
              "      box-shadow: 0px 1px 3px 1px rgba(0, 0, 0, 0.15);\n",
              "      filter: drop-shadow(0px 1px 2px rgba(0, 0, 0, 0.3));\n",
              "      fill: #FFFFFF;\n",
              "    }\n",
              "  </style>\n",
              "\n",
              "      <script>\n",
              "        const buttonEl =\n",
              "          document.querySelector('#df-fb0212b8-c034-468f-aaa1-976cf394049d button.colab-df-convert');\n",
              "        buttonEl.style.display =\n",
              "          google.colab.kernel.accessAllowed ? 'block' : 'none';\n",
              "\n",
              "        async function convertToInteractive(key) {\n",
              "          const element = document.querySelector('#df-fb0212b8-c034-468f-aaa1-976cf394049d');\n",
              "          const dataTable =\n",
              "            await google.colab.kernel.invokeFunction('convertToInteractive',\n",
              "                                                     [key], {});\n",
              "          if (!dataTable) return;\n",
              "\n",
              "          const docLinkHtml = 'Like what you see? Visit the ' +\n",
              "            '<a target=\"_blank\" href=https://colab.research.google.com/notebooks/data_table.ipynb>data table notebook</a>'\n",
              "            + ' to learn more about interactive tables.';\n",
              "          element.innerHTML = '';\n",
              "          dataTable['output_type'] = 'display_data';\n",
              "          await google.colab.output.renderOutput(dataTable, element);\n",
              "          const docLink = document.createElement('div');\n",
              "          docLink.innerHTML = docLinkHtml;\n",
              "          element.appendChild(docLink);\n",
              "        }\n",
              "      </script>\n",
              "    </div>\n",
              "  </div>\n",
              "  "
            ]
          },
          "metadata": {},
          "execution_count": 16
        }
      ],
      "source": [
        "# FINDING THE CORRELATION BETWEEN THE VOTE COLUMNS\n",
        "# Your code here\n",
        "stval.corr()"
      ]
    },
    {
      "cell_type": "markdown",
      "id": "5033b632-d6cb-4fac-a047-c777fa40b287",
      "metadata": {
        "id": "5033b632-d6cb-4fac-a047-c777fa40b287"
      },
      "source": [
        "We can see that there is negative correlation between:\n",
        "\n",
        "* Cool and Useful\n",
        "* Cool and Funny\n",
        "* Cool and Length  \n",
        "\n",
        "We can say that the reviews marked cool tend to be short, not very useful to others and short."
      ]
    },
    {
      "cell_type": "markdown",
      "id": "62b58cb1-b4ed-4b6d-b511-78977a27fbb6",
      "metadata": {
        "id": "62b58cb1-b4ed-4b6d-b511-78977a27fbb6"
      },
      "source": [
        "Also, there is a positive correlation between:\n",
        "\n",
        "* Funny and Useful    \n",
        "* Funny and Length\n",
        "* Useful and Length    \n",
        "\n",
        "Thus, we can say that longer reviews tend to be funny and useful."
      ]
    },
    {
      "cell_type": "markdown",
      "source": [
        "Classifying the dataset and splitting it into the reviews and stars:"
      ],
      "metadata": {
        "id": "TtVqrCP97t1K"
      },
      "id": "TtVqrCP97t1K"
    },
    {
      "cell_type": "code",
      "execution_count": null,
      "id": "8faa2152-8ce2-4c11-ad41-aa918ea71a89",
      "metadata": {
        "id": "8faa2152-8ce2-4c11-ad41-aa918ea71a89",
        "colab": {
          "base_uri": "https://localhost:8080/"
        },
        "outputId": "45660c00-32cc-434d-de23-1ff27ac3a9e5"
      },
      "outputs": [
        {
          "output_type": "stream",
          "name": "stdout",
          "text": [
            "(5547, 11)\n"
          ]
        }
      ],
      "source": [
        "# Classification in terms of negative (1 star), neutral (3 star), positive (5 star)\n",
        "# Your code here\n",
        "data_classes = data[(data['stars']==1)|(data['stars']==3)|(data['stars']==5)]\n",
        "data_classes.head()\n",
        "print(data_classes.shape)\n"
      ]
    },
    {
      "cell_type": "code",
      "source": [
        "# Seperate the dataset into X and Y for prediction\n",
        "# Your code here\n",
        "x = data_classes['text']\n",
        "y = data_classes['stars']\n",
        "print(x.head())\n",
        "print(y.head())"
      ],
      "metadata": {
        "colab": {
          "base_uri": "https://localhost:8080/"
        },
        "id": "sq_KGmd5KSnj",
        "outputId": "a4675b02-ec24-4700-df10-38113615b930"
      },
      "id": "sq_KGmd5KSnj",
      "execution_count": null,
      "outputs": [
        {
          "output_type": "stream",
          "name": "stdout",
          "text": [
            "0    My wife took me here on my birthday for breakf...\n",
            "1    I have no idea why some people give bad review...\n",
            "3    Rosie, Dakota, and I LOVE Chaparral Dog Park!!...\n",
            "4    General Manager Scott Petello is a good egg!!!...\n",
            "6    Drop what you're doing and drive here. After I...\n",
            "Name: text, dtype: object\n",
            "0    5\n",
            "1    5\n",
            "3    5\n",
            "4    5\n",
            "6    5\n",
            "Name: stars, dtype: int64\n"
          ]
        }
      ]
    },
    {
      "cell_type": "markdown",
      "id": "287b2e66-ec3d-44fb-8a13-0057ce74f92f",
      "metadata": {
        "id": "287b2e66-ec3d-44fb-8a13-0057ce74f92f"
      },
      "source": [
        "# Preprocessing Yelp Data\n",
        "\n",
        "Yelp data comes in unstructured format, so the first step is to preprocess the data. This includes cleaning the text, removing stop words, and tokenizing the words."
      ]
    },
    {
      "cell_type": "markdown",
      "source": [
        "# Basic NLTK\n",
        "\n",
        "To learn more: https://github.com/GTLibraryDataVisualization/Introduction-to-Text-Analytics-with-Python "
      ],
      "metadata": {
        "id": "m-ZfQLxm4coM"
      },
      "id": "m-ZfQLxm4coM"
    },
    {
      "cell_type": "markdown",
      "source": [
        "## Vectorization\n",
        "Machines cannot understand characters and words. So when dealing with text data we need to represent it in numbers to be understood by the machine. \n",
        "Countvectorizer is a method to convert text to numerical data. \n",
        "We will now vectorize a single review and see the results:"
      ],
      "metadata": {
        "id": "FRUEtR3o8hbm"
      },
      "id": "FRUEtR3o8hbm"
    },
    {
      "cell_type": "code",
      "source": [
        "# print out an example of the review\n",
        "example = data['text'][50]\n",
        "print(example)"
      ],
      "metadata": {
        "colab": {
          "base_uri": "https://localhost:8080/"
        },
        "id": "SjHhX3DAOjDQ",
        "outputId": "9c61cd72-809a-438b-db2f-5c802dc49f1a"
      },
      "id": "SjHhX3DAOjDQ",
      "execution_count": null,
      "outputs": [
        {
          "output_type": "stream",
          "name": "stdout",
          "text": [
            "Cliff notes\n",
            "- Cheap: $1-2/plate\n",
            "- Fast: It's ready-to-go and on a conveyor\n",
            "- Acceptable quality: I'm here weekly and haven't gotten sick lol\n",
            "\n",
            "This place is definitely good for what it is, \"it\" being a budget-friendly sushi place that's great for a quick bite.  In a response to the lower-rating reviews stating how the food is just okay at best or authentic or blah blah blah, well think of it like wal-mart vs. *inserthighendretailerhere*.  This place has a business model based on selling in large volumes (hence the low prices like wal-mart) so they're gonna have to \"reduce costs\" somehow (so-so quality food, not-so-attentive staff, and slightly smaller than average portions), but it's still a solid bang-for-your-buck kinda place.\n",
            "\n",
            "On top of this, I can be in and out quickly since everything is already prepared, perfect for those quick 30 min lunch breaks.  All that's required is for you to grab it off the conveyor (depending on whether or not all the items you want are on the conveyor at the time). \n",
            "\n",
            "I've never had issues with seating, but do not make a point to go during peak hours and usually go with a small party (2-4 people).\n",
            "\n",
            "For those claiming to be \"left to fend for themselves\" due to an inattentive staff, most of your sushi-related inquiries can be answered by this thing called \"the menu\" that sits on the counters.  See, this miraculous piece of technology contains things referred to as \"descriptions\" on them that help to inform you about the sushi going round-and-round before you.  Furthermore, there's even a pricing guide based on the color code of the plates to assist you further! WOW! Lol wtf do people expect for $1-2 plates of sushi?  Someone to hold your hand? LOLOLOLOLOLOLOL DIAF\n",
            "\n",
            "And the cherry on top? $4 large japanese beers and $5 sake bombs! HELL YEAH!\n"
          ]
        }
      ]
    },
    {
      "cell_type": "code",
      "source": [
        "# nltk.download('punkt')\n",
        "# nltk.download('averaged_perceptron_tagger')\n",
        "# nltk.download('maxent_ne_chunker')\n",
        "# nltk.download('words')"
      ],
      "metadata": {
        "id": "HV-e5wvv8udo"
      },
      "id": "HV-e5wvv8udo",
      "execution_count": null,
      "outputs": []
    },
    {
      "cell_type": "code",
      "source": [
        "# Tokenization is the process of breaking up a text into smaller units called tokens, \n",
        "# which could be words, punctuation marks, or any other meaningful unit.\n",
        "# Your code here\n",
        "tokens = nltk.word_tokenize(example)\n",
        "tokens[:10]"
      ],
      "metadata": {
        "id": "ZmH61f6OOj11",
        "colab": {
          "base_uri": "https://localhost:8080/"
        },
        "outputId": "da433192-d91b-468e-a238-a66770f6efa1"
      },
      "id": "ZmH61f6OOj11",
      "execution_count": null,
      "outputs": [
        {
          "output_type": "execute_result",
          "data": {
            "text/plain": [
              "['Cliff', 'notes', '-', 'Cheap', ':', '$', '1-2/plate', '-', 'Fast', ':']"
            ]
          },
          "metadata": {},
          "execution_count": 37
        }
      ]
    },
    {
      "cell_type": "code",
      "source": [
        "# Part Of Speech tagging\n",
        "# The function returns a new list of tuples\n",
        "# Your code here\n",
        "tagged = nltk.pos_tag(tokens)\n",
        "tagged[:10]"
      ],
      "metadata": {
        "id": "3lqEMF-HOkJy",
        "colab": {
          "base_uri": "https://localhost:8080/"
        },
        "outputId": "f148b5a1-4186-441e-9a75-4b934fc23f5d"
      },
      "id": "3lqEMF-HOkJy",
      "execution_count": null,
      "outputs": [
        {
          "output_type": "execute_result",
          "data": {
            "text/plain": [
              "[('Cliff', 'NNP'),\n",
              " ('notes', 'NNS'),\n",
              " ('-', ':'),\n",
              " ('Cheap', 'NN'),\n",
              " (':', ':'),\n",
              " ('$', '$'),\n",
              " ('1-2/plate', 'JJ'),\n",
              " ('-', ':'),\n",
              " ('Fast', 'NN'),\n",
              " (':', ':')]"
            ]
          },
          "metadata": {},
          "execution_count": 38
        }
      ]
    },
    {
      "cell_type": "code",
      "source": [
        "# Perform the named entity recognition. \n",
        "# The function returns a new tree-like object where named entities are represented as subtrees.\n",
        "# Your code here\n",
        "entities = nltk.chunk.ne_chunk(tagged)\n",
        "entities.pprint()"
      ],
      "metadata": {
        "id": "xBpi5xlZOkSI",
        "colab": {
          "base_uri": "https://localhost:8080/"
        },
        "outputId": "ffc6118a-ce18-44e3-cf2d-38c549f71c3a"
      },
      "id": "xBpi5xlZOkSI",
      "execution_count": null,
      "outputs": [
        {
          "output_type": "stream",
          "name": "stdout",
          "text": [
            "(S\n",
            "  (GPE Cliff/NNP)\n",
            "  notes/NNS\n",
            "  -/:\n",
            "  (GPE Cheap/NN)\n",
            "  :/:\n",
            "  $/$\n",
            "  1-2/plate/JJ\n",
            "  -/:\n",
            "  (GPE Fast/NN)\n",
            "  :/:\n",
            "  It/PRP\n",
            "  's/VBZ\n",
            "  ready-to-go/JJ\n",
            "  and/CC\n",
            "  on/IN\n",
            "  a/DT\n",
            "  conveyor/NN\n",
            "  -/:\n",
            "  (ORGANIZATION Acceptable/JJ)\n",
            "  quality/NN\n",
            "  :/:\n",
            "  I/PRP\n",
            "  'm/VBP\n",
            "  here/RB\n",
            "  weekly/RB\n",
            "  and/CC\n",
            "  have/VBP\n",
            "  n't/RB\n",
            "  gotten/VBN\n",
            "  sick/JJ\n",
            "  lol/NN\n",
            "  This/DT\n",
            "  place/NN\n",
            "  is/VBZ\n",
            "  definitely/RB\n",
            "  good/JJ\n",
            "  for/IN\n",
            "  what/WP\n",
            "  it/PRP\n",
            "  is/VBZ\n",
            "  ,/,\n",
            "  ``/``\n",
            "  it/PRP\n",
            "  ''/''\n",
            "  being/VBG\n",
            "  a/DT\n",
            "  budget-friendly/JJ\n",
            "  sushi/NN\n",
            "  place/NN\n",
            "  that/WDT\n",
            "  's/VBZ\n",
            "  great/JJ\n",
            "  for/IN\n",
            "  a/DT\n",
            "  quick/JJ\n",
            "  bite/NN\n",
            "  ./.\n",
            "  In/IN\n",
            "  a/DT\n",
            "  response/NN\n",
            "  to/TO\n",
            "  the/DT\n",
            "  lower-rating/JJ\n",
            "  reviews/NNS\n",
            "  stating/VBG\n",
            "  how/WRB\n",
            "  the/DT\n",
            "  food/NN\n",
            "  is/VBZ\n",
            "  just/RB\n",
            "  okay/VBN\n",
            "  at/IN\n",
            "  best/JJS\n",
            "  or/CC\n",
            "  authentic/JJ\n",
            "  or/CC\n",
            "  blah/JJ\n",
            "  blah/NN\n",
            "  blah/NN\n",
            "  ,/,\n",
            "  well/RB\n",
            "  think/IN\n",
            "  of/IN\n",
            "  it/PRP\n",
            "  like/IN\n",
            "  wal-mart/JJ\n",
            "  vs./FW\n",
            "  */NN\n",
            "  inserthighendretailerhere/RB\n",
            "  */NNP\n",
            "  ./.\n",
            "  This/DT\n",
            "  place/NN\n",
            "  has/VBZ\n",
            "  a/DT\n",
            "  business/NN\n",
            "  model/NN\n",
            "  based/VBN\n",
            "  on/IN\n",
            "  selling/VBG\n",
            "  in/IN\n",
            "  large/JJ\n",
            "  volumes/NNS\n",
            "  (/(\n",
            "  hence/VB\n",
            "  the/DT\n",
            "  low/JJ\n",
            "  prices/NNS\n",
            "  like/IN\n",
            "  wal-mart/NN\n",
            "  )/)\n",
            "  so/IN\n",
            "  they/PRP\n",
            "  're/VBP\n",
            "  gon/VBG\n",
            "  na/NNS\n",
            "  have/VBP\n",
            "  to/TO\n",
            "  ``/``\n",
            "  reduce/VB\n",
            "  costs/NNS\n",
            "  ''/''\n",
            "  somehow/RB\n",
            "  (/(\n",
            "  so-so/JJ\n",
            "  quality/NN\n",
            "  food/NN\n",
            "  ,/,\n",
            "  not-so-attentive/JJ\n",
            "  staff/NN\n",
            "  ,/,\n",
            "  and/CC\n",
            "  slightly/RB\n",
            "  smaller/JJR\n",
            "  than/IN\n",
            "  average/JJ\n",
            "  portions/NNS\n",
            "  )/)\n",
            "  ,/,\n",
            "  but/CC\n",
            "  it/PRP\n",
            "  's/VBZ\n",
            "  still/RB\n",
            "  a/DT\n",
            "  solid/JJ\n",
            "  bang-for-your-buck/NN\n",
            "  kinda/NN\n",
            "  place/NN\n",
            "  ./.\n",
            "  On/IN\n",
            "  top/NN\n",
            "  of/IN\n",
            "  this/DT\n",
            "  ,/,\n",
            "  I/PRP\n",
            "  can/MD\n",
            "  be/VB\n",
            "  in/IN\n",
            "  and/CC\n",
            "  out/IN\n",
            "  quickly/RB\n",
            "  since/IN\n",
            "  everything/NN\n",
            "  is/VBZ\n",
            "  already/RB\n",
            "  prepared/JJ\n",
            "  ,/,\n",
            "  perfect/JJ\n",
            "  for/IN\n",
            "  those/DT\n",
            "  quick/JJ\n",
            "  30/CD\n",
            "  min/NN\n",
            "  lunch/NN\n",
            "  breaks/NNS\n",
            "  ./.\n",
            "  All/PDT\n",
            "  that/DT\n",
            "  's/VBZ\n",
            "  required/VBN\n",
            "  is/VBZ\n",
            "  for/IN\n",
            "  you/PRP\n",
            "  to/TO\n",
            "  grab/VB\n",
            "  it/PRP\n",
            "  off/RP\n",
            "  the/DT\n",
            "  conveyor/NN\n",
            "  (/(\n",
            "  depending/VBG\n",
            "  on/IN\n",
            "  whether/IN\n",
            "  or/CC\n",
            "  not/RB\n",
            "  all/PDT\n",
            "  the/DT\n",
            "  items/NNS\n",
            "  you/PRP\n",
            "  want/VBP\n",
            "  are/VBP\n",
            "  on/IN\n",
            "  the/DT\n",
            "  conveyor/NN\n",
            "  at/IN\n",
            "  the/DT\n",
            "  time/NN\n",
            "  )/)\n",
            "  ./.\n",
            "  I/PRP\n",
            "  've/VBP\n",
            "  never/RB\n",
            "  had/VBD\n",
            "  issues/NNS\n",
            "  with/IN\n",
            "  seating/NN\n",
            "  ,/,\n",
            "  but/CC\n",
            "  do/VBP\n",
            "  not/RB\n",
            "  make/VB\n",
            "  a/DT\n",
            "  point/NN\n",
            "  to/TO\n",
            "  go/VB\n",
            "  during/IN\n",
            "  peak/NN\n",
            "  hours/NNS\n",
            "  and/CC\n",
            "  usually/RB\n",
            "  go/VBP\n",
            "  with/IN\n",
            "  a/DT\n",
            "  small/JJ\n",
            "  party/NN\n",
            "  (/(\n",
            "  2-4/JJ\n",
            "  people/NNS\n",
            "  )/)\n",
            "  ./.\n",
            "  For/IN\n",
            "  those/DT\n",
            "  claiming/VBG\n",
            "  to/TO\n",
            "  be/VB\n",
            "  ``/``\n",
            "  left/VBN\n",
            "  to/TO\n",
            "  fend/VB\n",
            "  for/IN\n",
            "  themselves/PRP\n",
            "  ''/''\n",
            "  due/JJ\n",
            "  to/TO\n",
            "  an/DT\n",
            "  inattentive/JJ\n",
            "  staff/NN\n",
            "  ,/,\n",
            "  most/JJS\n",
            "  of/IN\n",
            "  your/PRP$\n",
            "  sushi-related/JJ\n",
            "  inquiries/NNS\n",
            "  can/MD\n",
            "  be/VB\n",
            "  answered/VBN\n",
            "  by/IN\n",
            "  this/DT\n",
            "  thing/NN\n",
            "  called/VBN\n",
            "  ``/``\n",
            "  the/DT\n",
            "  menu/NN\n",
            "  ''/''\n",
            "  that/WDT\n",
            "  sits/VBZ\n",
            "  on/IN\n",
            "  the/DT\n",
            "  counters/NNS\n",
            "  ./.\n",
            "  See/VB\n",
            "  ,/,\n",
            "  this/DT\n",
            "  miraculous/JJ\n",
            "  piece/NN\n",
            "  of/IN\n",
            "  technology/NN\n",
            "  contains/NNS\n",
            "  things/NNS\n",
            "  referred/VBD\n",
            "  to/TO\n",
            "  as/IN\n",
            "  ``/``\n",
            "  descriptions/NNS\n",
            "  ''/''\n",
            "  on/IN\n",
            "  them/PRP\n",
            "  that/WDT\n",
            "  help/VBP\n",
            "  to/TO\n",
            "  inform/VB\n",
            "  you/PRP\n",
            "  about/IN\n",
            "  the/DT\n",
            "  sushi/NN\n",
            "  going/VBG\n",
            "  round-and-round/NN\n",
            "  before/IN\n",
            "  you/PRP\n",
            "  ./.\n",
            "  Furthermore/RB\n",
            "  ,/,\n",
            "  there/EX\n",
            "  's/VBZ\n",
            "  even/RB\n",
            "  a/DT\n",
            "  pricing/NN\n",
            "  guide/NN\n",
            "  based/VBN\n",
            "  on/IN\n",
            "  the/DT\n",
            "  color/NN\n",
            "  code/NN\n",
            "  of/IN\n",
            "  the/DT\n",
            "  plates/NNS\n",
            "  to/TO\n",
            "  assist/VB\n",
            "  you/PRP\n",
            "  further/RB\n",
            "  !/.\n",
            "  WOW/UH\n",
            "  !/.\n",
            "  Lol/NNP\n",
            "  wtf/JJ\n",
            "  do/VBP\n",
            "  people/NNS\n",
            "  expect/VB\n",
            "  for/IN\n",
            "  $/$\n",
            "  1-2/JJ\n",
            "  plates/NNS\n",
            "  of/IN\n",
            "  sushi/NN\n",
            "  ?/.\n",
            "  Someone/NN\n",
            "  to/TO\n",
            "  hold/VB\n",
            "  your/PRP$\n",
            "  hand/NN\n",
            "  ?/.\n",
            "  (ORGANIZATION LOLOLOLOLOLOLOL/NNP)\n",
            "  DIAF/NNP\n",
            "  And/CC\n",
            "  the/DT\n",
            "  cherry/NN\n",
            "  on/IN\n",
            "  top/NN\n",
            "  ?/.\n",
            "  $/$\n",
            "  4/CD\n",
            "  large/JJ\n",
            "  japanese/JJ\n",
            "  beers/NNS\n",
            "  and/CC\n",
            "  $/$\n",
            "  5/CD\n",
            "  sake/NN\n",
            "  bombs/NN\n",
            "  !/.\n",
            "  (ORGANIZATION HELL/NNP)\n",
            "  YEAH/UH\n",
            "  !/.)\n"
          ]
        }
      ]
    },
    {
      "cell_type": "markdown",
      "source": [
        "## Data Cleaning\n",
        "We will now, define a function which will clean the dataset by removing stopwords and punctuations."
      ],
      "metadata": {
        "id": "e6S9Ekqq9MxW"
      },
      "id": "e6S9Ekqq9MxW"
    },
    {
      "cell_type": "code",
      "execution_count": null,
      "id": "77db8d7e-330b-46da-8d32-821a8cc74164",
      "metadata": {
        "id": "77db8d7e-330b-46da-8d32-821a8cc74164"
      },
      "outputs": [],
      "source": [
        "# import nltk\n",
        "# nltk.download('stopwords')"
      ]
    },
    {
      "cell_type": "code",
      "execution_count": null,
      "id": "07c30d82-27e6-47f3-b6cf-9147a0f43ef2",
      "metadata": {
        "id": "07c30d82-27e6-47f3-b6cf-9147a0f43ef2"
      },
      "outputs": [],
      "source": [
        "# CLEANING THE REVIEWS - REMOVAL OF STOPWORDS AND PUNCTUATION\n",
        "def text_process(text):\n",
        "  nopunc = [char for char in text if char not in string.punctuation]\n",
        "  nopunc = ''.join(nopunc)\n",
        "  return [word for word in nopunc.split() if word.lower() not in stopwords.words('english')]"
      ]
    },
    {
      "cell_type": "code",
      "execution_count": null,
      "id": "f3f47066-39ed-420f-99fb-815f056d03b5",
      "metadata": {
        "id": "f3f47066-39ed-420f-99fb-815f056d03b5",
        "colab": {
          "base_uri": "https://localhost:8080/"
        },
        "outputId": "76c32320-e763-4326-b7d5-0fe30a024130"
      },
      "outputs": [
        {
          "output_type": "stream",
          "name": "stdout",
          "text": [
            "length of the vocab is 31336\n"
          ]
        }
      ],
      "source": [
        "# CONVERTING THE WORDS INTO A VECTOR\n",
        "# Your code here\n",
        "vocab = CountVectorizer(analyzer=text_process).fit(x)\n",
        "print('length of the vocab is', len(vocab.vocabulary_))"
      ]
    },
    {
      "cell_type": "code",
      "execution_count": null,
      "id": "ba62cd63-bbc3-4720-b5c7-ce2de874cade",
      "metadata": {
        "id": "ba62cd63-bbc3-4720-b5c7-ce2de874cade",
        "colab": {
          "base_uri": "https://localhost:8080/"
        },
        "outputId": "9728f488-79a9-4136-d46a-3b3ccdbf3ffd"
      },
      "outputs": [
        {
          "output_type": "stream",
          "name": "stdout",
          "text": [
            "['Adult' 'Adults' 'Advisor' 'Advocate' 'Aegean' 'Aerobics' 'Aesthetically'\n",
            " 'Affordable' 'Africa' 'Afterall' 'Afterdark' 'Afterward' 'Afterwards'\n",
            " 'Agaves' 'Aged' 'Agent' 'Aggressive' 'Agree' 'Agua' 'Aguila' 'Agwa' 'Ah'\n",
            " 'Ahab' 'Ahh' 'Ahha' 'Ahhh' 'Ahhhhh' 'Ahhhhhh' 'Ahi' 'Ahmazing'\n",
            " 'Ahwahtukee' 'Ahwatukee' 'Ai' 'Aid' 'Aiellos' 'Aiko' 'Air' 'Airlines'\n",
            " 'Airpark' 'Airport' 'Airwarys' 'Airways' 'Airwaysnever' 'Aisha' 'Aji'\n",
            " 'Ajo' 'Akor' 'Al' 'Alabama' 'Aladdins' 'Alain' 'Alameda' 'Alan' 'Alas'\n",
            " 'AlasIve' 'Alaska' 'Alaskan' 'Alaus' 'Albacore' 'Albeit' 'Alber'\n",
            " 'Albertos' 'Albertsons' 'Alcatraz' 'Alcohol' 'Ale' 'Alemmmm' 'Alessias'\n",
            " 'Alex' 'Alexa' 'Alexs' 'Alfalfa' 'Alfonso' 'Alfred' 'Alfredo' 'Ali'\n",
            " 'Alice' 'Alicia' 'Alison' 'AllAmerican' 'AllStar' 'Allah' 'Allegiant'\n",
            " 'Allen' 'Allende' 'Allergic' 'Allesias' 'Allison' 'Allow' 'Allstars'\n",
            " 'Almond' 'Almost' 'Aloe' 'Aloft' 'Aloha' 'Along' 'Alongside' 'Alp'\n",
            " 'Alphagraphics' 'Alpine']\n"
          ]
        }
      ],
      "source": [
        "#     The data that we can see is the transformed words.\n",
        "#     If we now get the feature's name - we can get the word back\n",
        "print(vocab.get_feature_names_out()[1000:1100])"
      ]
    },
    {
      "cell_type": "markdown",
      "source": [
        "Vectorization of the whole review set and and checking the sparse matrix:"
      ],
      "metadata": {
        "id": "EsG_RI5EFv-6"
      },
      "id": "EsG_RI5EFv-6"
    },
    {
      "cell_type": "code",
      "execution_count": null,
      "id": "7a8b61db-9271-4cee-bba8-bf6999087fab",
      "metadata": {
        "id": "7a8b61db-9271-4cee-bba8-bf6999087fab",
        "colab": {
          "base_uri": "https://localhost:8080/"
        },
        "outputId": "12995567-0b50-4b50-ddcb-4d1ac560d766"
      },
      "outputs": [
        {
          "output_type": "stream",
          "name": "stdout",
          "text": [
            "Shape of the sparse matrix:  (5547, 31336)\n",
            "Non-Zero occurences:  312457\n",
            "Density of the matrix =  0.17975812697942373\n"
          ]
        }
      ],
      "source": [
        "# Your code here\n",
        "x = vocab.transform(x)\n",
        "#Shape of the matrix:\n",
        "print(\"Shape of the sparse matrix: \", x.shape)\n",
        "#Non-zero occurences:\n",
        "print(\"Non-Zero occurences: \",x.nnz)\n",
        "\n",
        "# DENSITY OF THE MATRIX\n",
        "density = (x.nnz/(x.shape[0]*x.shape[1]))*100\n",
        "print(\"Density of the matrix = \",density)"
      ]
    },
    {
      "cell_type": "markdown",
      "source": [
        "Splitting the dataset X into training and testing set:"
      ],
      "metadata": {
        "id": "eyv2Ff7mF5L9"
      },
      "id": "eyv2Ff7mF5L9"
    },
    {
      "cell_type": "code",
      "execution_count": null,
      "id": "6a642625-3578-4f57-a580-e5663f0e79ae",
      "metadata": {
        "id": "6a642625-3578-4f57-a580-e5663f0e79ae"
      },
      "outputs": [],
      "source": [
        "# SPLITTING THE DATASET INTO TRAINING SET AND TESTING SET\n",
        "# Your code here\n",
        "x_train,x_test,y_train,y_test = train_test_split(x,y,test_size=0.2,random_state=101)"
      ]
    },
    {
      "cell_type": "markdown",
      "id": "7b37d1f8-c755-4d3d-90a9-9c09b7c94e65",
      "metadata": {
        "id": "7b37d1f8-c755-4d3d-90a9-9c09b7c94e65"
      },
      "source": [
        "# Building a Sentiment Classifier\n",
        "\n",
        "In this step, you will train a machine learning model to classify Yelp reviews into positive, negative, or neutral sentiments. You can use a variety of models, such as Naive Bayes, Support Vector Machines (SVMs), or Recurrent Neural Networks (RNNs)."
      ]
    },
    {
      "cell_type": "markdown",
      "source": [
        "## Modeling\n",
        "We will now use multiple Machine Algorithms to see which gives the best performance."
      ],
      "metadata": {
        "id": "CVk6MGZcGKnn"
      },
      "id": "CVk6MGZcGKnn"
    },
    {
      "cell_type": "markdown",
      "source": [
        "1 - Multinomial Naive Bayes - We are using Multinomial Naive Bayes over Gaussian because with sparse data, Gaussian Naive Bayes assumptions aren't met and a simple gaussian fit over the data will not give us a good fit or prediction!"
      ],
      "metadata": {
        "id": "eT1zFdyUGKcM"
      },
      "id": "eT1zFdyUGKcM"
    },
    {
      "cell_type": "code",
      "execution_count": null,
      "id": "aebe996c-2f82-4a17-9094-44166603b69e",
      "metadata": {
        "id": "aebe996c-2f82-4a17-9094-44166603b69e",
        "colab": {
          "base_uri": "https://localhost:8080/"
        },
        "outputId": "5b8283da-a65f-48f0-cb70-f887bc77d557"
      },
      "outputs": [
        {
          "output_type": "stream",
          "name": "stdout",
          "text": [
            "Confusion Matrix for Multinomial Naive Bayes:\n",
            "[[ 75  49  38]\n",
            " [  7 180 105]\n",
            " [ 12  45 599]]\n",
            "Score: 76.94\n",
            "Classification Report:\n",
            "              precision    recall  f1-score   support\n",
            "\n",
            "           1       0.80      0.46      0.59       162\n",
            "           3       0.66      0.62      0.64       292\n",
            "           5       0.81      0.91      0.86       656\n",
            "\n",
            "    accuracy                           0.77      1110\n",
            "   macro avg       0.75      0.66      0.69      1110\n",
            "weighted avg       0.77      0.77      0.76      1110\n",
            "\n"
          ]
        }
      ],
      "source": [
        "# Multinomial Naive Bayes\n",
        "from sklearn.naive_bayes import MultinomialNB\n",
        "mnb = MultinomialNB()\n",
        "mnb.fit(x_train,y_train)\n",
        "predmnb = mnb.predict(x_test)\n",
        "score_mnb = round(accuracy_score(y_test,predmnb)*100,2)\n",
        "print(\"Confusion Matrix for Multinomial Naive Bayes:\")\n",
        "print(confusion_matrix(y_test,predmnb))\n",
        "print(\"Score:\",score_mnb)\n",
        "print(\"Classification Report:\")\n",
        "print(classification_report(y_test,predmnb))"
      ]
    },
    {
      "cell_type": "markdown",
      "source": [
        "2 - Random Forest Classifier"
      ],
      "metadata": {
        "id": "GWcT4M7DGSvG"
      },
      "id": "GWcT4M7DGSvG"
    },
    {
      "cell_type": "code",
      "execution_count": null,
      "id": "e2e5f487-175d-4eb3-a78b-381db6dfe2ca",
      "metadata": {
        "id": "e2e5f487-175d-4eb3-a78b-381db6dfe2ca",
        "colab": {
          "base_uri": "https://localhost:8080/"
        },
        "outputId": "ff4357ec-951d-4fd8-d581-db37926e3be9"
      },
      "outputs": [
        {
          "output_type": "stream",
          "name": "stdout",
          "text": [
            "Confusion Matrix for Random Forest Classifier:\n",
            "[[ 32  25 105]\n",
            " [  1 101 190]\n",
            " [  1  21 634]]\n",
            "Score: 69.1\n",
            "Classification Report:\n",
            "              precision    recall  f1-score   support\n",
            "\n",
            "           1       0.94      0.20      0.33       162\n",
            "           3       0.69      0.35      0.46       292\n",
            "           5       0.68      0.97      0.80       656\n",
            "\n",
            "    accuracy                           0.69      1110\n",
            "   macro avg       0.77      0.50      0.53      1110\n",
            "weighted avg       0.72      0.69      0.64      1110\n",
            "\n"
          ]
        }
      ],
      "source": [
        "# Random Forest\n",
        "from sklearn.ensemble import RandomForestClassifier\n",
        "# Your code here\n",
        "rmfr = RandomForestClassifier()\n",
        "rmfr.fit(x_train,y_train)\n",
        "predrmfr = rmfr.predict(x_test)\n",
        "score_rmfr = round(accuracy_score(y_test,predrmfr)*100,2)\n",
        "\n",
        "print(\"Confusion Matrix for Random Forest Classifier:\")\n",
        "print(confusion_matrix(y_test,predrmfr))\n",
        "print(\"Score:\",score_rmfr)\n",
        "print(\"Classification Report:\")\n",
        "print(classification_report(y_test,predrmfr))"
      ]
    },
    {
      "cell_type": "markdown",
      "source": [
        "3 - Decision Tree"
      ],
      "metadata": {
        "id": "su8ZiWZoGWSS"
      },
      "id": "su8ZiWZoGWSS"
    },
    {
      "cell_type": "code",
      "execution_count": null,
      "id": "4b50a9cb-e805-4aad-8c37-84f3530a36a7",
      "metadata": {
        "id": "4b50a9cb-e805-4aad-8c37-84f3530a36a7",
        "colab": {
          "base_uri": "https://localhost:8080/"
        },
        "outputId": "0fd599f7-0be5-46a5-f307-c56182662b64"
      },
      "outputs": [
        {
          "output_type": "stream",
          "name": "stdout",
          "text": [
            "Confusion Matrix for Decision Tree:\n",
            "[[ 57  47  58]\n",
            " [ 38 136 118]\n",
            " [ 31 105 520]]\n",
            "Score: 64.23\n",
            "Classification Report:\n",
            "              precision    recall  f1-score   support\n",
            "\n",
            "           1       0.45      0.35      0.40       162\n",
            "           3       0.47      0.47      0.47       292\n",
            "           5       0.75      0.79      0.77       656\n",
            "\n",
            "    accuracy                           0.64      1110\n",
            "   macro avg       0.56      0.54      0.54      1110\n",
            "weighted avg       0.63      0.64      0.64      1110\n",
            "\n"
          ]
        }
      ],
      "source": [
        "# Decision Tree\n",
        "from sklearn.tree import DecisionTreeClassifier\n",
        "# Your code here\n",
        "from sklearn.tree import DecisionTreeClassifier\n",
        "dt = DecisionTreeClassifier()\n",
        "dt.fit(x_train,y_train)\n",
        "preddt = dt.predict(x_test)\n",
        "score_dt = round(accuracy_score(y_test,preddt)*100,2)\n",
        "\n",
        "print(\"Confusion Matrix for Decision Tree:\")\n",
        "print(confusion_matrix(y_test,preddt))\n",
        "print(\"Score:\",score_dt)\n",
        "print(\"Classification Report:\")\n",
        "print(classification_report(y_test,preddt))"
      ]
    },
    {
      "cell_type": "markdown",
      "source": [
        "4 - Support Vector Machines"
      ],
      "metadata": {
        "id": "JPYUVI8wGZR0"
      },
      "id": "JPYUVI8wGZR0"
    },
    {
      "cell_type": "code",
      "execution_count": null,
      "id": "c18b0713-22de-4119-b7fd-48223dc76b8e",
      "metadata": {
        "id": "c18b0713-22de-4119-b7fd-48223dc76b8e",
        "colab": {
          "base_uri": "https://localhost:8080/"
        },
        "outputId": "5a566696-a951-4adf-d5c7-36305ec8a8be"
      },
      "outputs": [
        {
          "output_type": "stream",
          "name": "stdout",
          "text": [
            "Confusion Matrix for Support Vector Machines:\n",
            "[[ 31  23 108]\n",
            " [  5 122 165]\n",
            " [  1  19 636]]\n",
            "Score: 71.08\n",
            "Classification Report:\n",
            "              precision    recall  f1-score   support\n",
            "\n",
            "           1       0.84      0.19      0.31       162\n",
            "           3       0.74      0.42      0.54       292\n",
            "           5       0.70      0.97      0.81       656\n",
            "\n",
            "    accuracy                           0.71      1110\n",
            "   macro avg       0.76      0.53      0.55      1110\n",
            "weighted avg       0.73      0.71      0.67      1110\n",
            "\n"
          ]
        }
      ],
      "source": [
        "# Support Vector Machine\n",
        "from sklearn.svm import SVC\n",
        "# Your code here\n",
        "svm = SVC(random_state=101)\n",
        "svm.fit(x_train,y_train)\n",
        "predsvm = svm.predict(x_test)\n",
        "score_svm = round(accuracy_score(y_test,predsvm)*100,2)\n",
        "\n",
        "print(\"Confusion Matrix for Support Vector Machines:\")\n",
        "print(confusion_matrix(y_test,predsvm))\n",
        "print(\"Score:\",score_svm)\n",
        "print(\"Classification Report:\")\n",
        "print(classification_report(y_test,predsvm))"
      ]
    },
    {
      "cell_type": "markdown",
      "source": [
        "5 - K - Nearest Neighbor Classifier"
      ],
      "metadata": {
        "id": "j2bV_m9yGcqP"
      },
      "id": "j2bV_m9yGcqP"
    },
    {
      "cell_type": "code",
      "execution_count": null,
      "id": "1dc4a5b7-a69b-40b4-98c9-497921c71d24",
      "metadata": {
        "id": "1dc4a5b7-a69b-40b4-98c9-497921c71d24",
        "colab": {
          "base_uri": "https://localhost:8080/"
        },
        "outputId": "f0c8927b-9464-44e2-9f5f-8e0ff632dbc3"
      },
      "outputs": [
        {
          "output_type": "stream",
          "name": "stdout",
          "text": [
            "Confusion Matrix for K Neighbors Classifier:\n",
            "[[ 12  10 140]\n",
            " [  3  33 256]\n",
            " [  8  12 636]]\n",
            "Score:  61.35\n",
            "Classification Report:\n",
            "              precision    recall  f1-score   support\n",
            "\n",
            "           1       0.52      0.07      0.13       162\n",
            "           3       0.60      0.11      0.19       292\n",
            "           5       0.62      0.97      0.75       656\n",
            "\n",
            "    accuracy                           0.61      1110\n",
            "   macro avg       0.58      0.39      0.36      1110\n",
            "weighted avg       0.60      0.61      0.51      1110\n",
            "\n"
          ]
        }
      ],
      "source": [
        "# K Nearest Neighbour Algorithm\n",
        "from sklearn.neighbors import KNeighborsClassifier\n",
        "# Your code here\n",
        "knn = KNeighborsClassifier(n_neighbors=10)\n",
        "knn.fit(x_train,y_train)\n",
        "predknn = knn.predict(x_test)\n",
        "score_knn = round(accuracy_score(y_test,predknn)*100,2)\n",
        "print(\"Confusion Matrix for K Neighbors Classifier:\")\n",
        "print(confusion_matrix(y_test,predknn))\n",
        "print(\"Score: \",score_knn)\n",
        "print(\"Classification Report:\")\n",
        "print(classification_report(y_test,predknn))"
      ]
    },
    {
      "cell_type": "markdown",
      "source": [
        "From the above algorithm modelling, we can list the accuracy for each model:"
      ],
      "metadata": {
        "id": "JvcMsrcNGfV2"
      },
      "id": "JvcMsrcNGfV2"
    },
    {
      "cell_type": "code",
      "execution_count": null,
      "id": "d08ebafb-ec60-4f1e-87ff-1db556de632e",
      "metadata": {
        "id": "d08ebafb-ec60-4f1e-87ff-1db556de632e",
        "colab": {
          "base_uri": "https://localhost:8080/"
        },
        "outputId": "95afc343-07ab-4321-e8cd-9368e2386626"
      },
      "outputs": [
        {
          "output_type": "stream",
          "name": "stdout",
          "text": [
            "Multinomial Naive Bayes =  76.94 %\n",
            "Support Vector Machine =  71.08 %\n",
            "Random Forest Classifier =  69.1 %\n",
            "Decision Tree =  64.23 %\n",
            "K Neighbor Classifier =  61.35 %\n"
          ]
        }
      ],
      "source": [
        "print('Multinomial Naive Bayes = ',score_mnb,'%') \n",
        "print('Support Vector Machine = ',score_svm,'%') \n",
        "print('Random Forest Classifier = ',score_rmfr,'%') \n",
        "print('Decision Tree = ',score_dt,'%') \n",
        "print('K Neighbor Classifier = ',score_knn,'%') "
      ]
    },
    {
      "cell_type": "markdown",
      "source": [
        "Since Multinomial Naive Bayes has the best score, let us use it to predict a random positive review, a random average review and a random negative review!"
      ],
      "metadata": {
        "id": "CDxTIciMGiCm"
      },
      "id": "CDxTIciMGiCm"
    },
    {
      "cell_type": "code",
      "execution_count": null,
      "id": "ef743206-ec71-402e-b37d-67ddf14001c7",
      "metadata": {
        "id": "ef743206-ec71-402e-b37d-67ddf14001c7",
        "colab": {
          "base_uri": "https://localhost:8080/"
        },
        "outputId": "805dfb59-18b6-47f1-9a22-aabb81a19821"
      },
      "outputs": [
        {
          "output_type": "stream",
          "name": "stdout",
          "text": [
            "My wife took me here on my birthday for breakfast and it was excellent.  The weather was perfect which made sitting outside overlooking their grounds an absolute pleasure.  Our waitress was excellent and our food arrived quickly on the semi-busy Saturday morning.  It looked like the place fills up pretty quickly so the earlier you get here the better.\n",
            "\n",
            "Do yourself a favor and get their Bloody Mary.  It was phenomenal and simply the best I've ever had.  I'm pretty sure they only use ingredients from their garden and blend them fresh when you order it.  It was amazing.\n",
            "\n",
            "While EVERYTHING on the menu looks excellent, I had the white truffle scrambled eggs vegetable skillet and it was tasty and delicious.  It came with 2 pieces of their griddled bread with was amazing and it absolutely made the meal complete.  It was the best \"toast\" I've ever had.\n",
            "\n",
            "Anyway, I can't wait to go back!\n",
            "Actual Rating:\n",
            "5\n",
            "Predicted Rating:\n"
          ]
        },
        {
          "output_type": "execute_result",
          "data": {
            "text/plain": [
              "5"
            ]
          },
          "metadata": {},
          "execution_count": 58
        }
      ],
      "source": [
        "# POSITIVE REVIEW\n",
        "pr = data['text'][0]\n",
        "print(pr)\n",
        "print(\"Actual Rating:\")\n",
        "print(data['stars'][0])\n",
        "pr_t = vocab.transform([pr])\n",
        "print(\"Predicted Rating:\")\n",
        "mnb.predict(pr_t)[0]"
      ]
    },
    {
      "cell_type": "code",
      "execution_count": null,
      "id": "9af66624-e6e4-4a58-a90c-b6f937452151",
      "metadata": {
        "id": "9af66624-e6e4-4a58-a90c-b6f937452151",
        "colab": {
          "base_uri": "https://localhost:8080/"
        },
        "outputId": "06f01f7e-fc70-4ebf-967f-133bd1a94d06"
      },
      "outputs": [
        {
          "output_type": "stream",
          "name": "stdout",
          "text": [
            "We went here on a Saturday afternoon and this place was incredibly empty.  They had brunch specials going on, including $2 bloody mary's and mimosas, but we were more in the mood for lunch.  Except for the bloody mary, I had to try one.  It came out in a high-ball-sized glass.  Boo!  But it was really tasty. Yay!  The hubby remembered a sign outside the restaurant a few weeks back that said they had Arrogant Bastard, and he got a 22 oz bottle for $4.75.  Hey, that's not fair!!\n",
            "\n",
            "Next up: the wings.  We were a bit hesitant to order them when the waitress informed us that they are \"seasoned\" but not sauced, so they can't be ordered hot.  We did ask for them crispy though, and the waitress even asked the cooks to throw them back in for a few minutes when they came out not visibly crispy.  These non-traditional wings were actually pretty damn good.  The seasoning was a little spicy and salty with just a hint of sweet.  If I were in the mood for the tang and kick of Frank's Hot Sauce, these wouldn't cut it, but otherwise they were good enough to go back again for.\n",
            "\n",
            "My entree was the Tilapia salad, and I was a bit disappointed.  The fish was a bit dry and uninspired. And the greens underneath were overdressed and wilted.  I ate the greens around the fish and picked out the almonds and Mandarin oranges, but I had to leave the mush hiding underneath the fish.\n",
            "\n",
            "It wasn't bad enough to say I wouldn't go back, but I won't be anxiously awaiting my next trip.\n",
            "Actual Rating:\n",
            "3\n",
            "Predicted Rating:\n"
          ]
        },
        {
          "output_type": "execute_result",
          "data": {
            "text/plain": [
              "3"
            ]
          },
          "metadata": {},
          "execution_count": 60
        }
      ],
      "source": [
        "# AVERAGE REVIEW\n",
        "ar = data['text'][16]\n",
        "print(ar)\n",
        "print(\"Actual Rating:\")\n",
        "print(data['stars'][16])\n",
        "# Your code here\n",
        "ar_t = vocab.transform([ar])\n",
        "print(\"Predicted Rating:\")\n",
        "# Your code here\n",
        "mnb.predict(ar_t)[0]"
      ]
    },
    {
      "cell_type": "code",
      "execution_count": null,
      "id": "df003763-6db4-420c-9bc9-bcfb5fb2343f",
      "metadata": {
        "id": "df003763-6db4-420c-9bc9-bcfb5fb2343f",
        "colab": {
          "base_uri": "https://localhost:8080/"
        },
        "outputId": "7d083491-8ed7-4441-d799-25ee43947e6f"
      },
      "outputs": [
        {
          "output_type": "stream",
          "name": "stdout",
          "text": [
            "U can go there n check the car out. If u wanna buy 1 there? That's wrong move! If u even want a car service from there? U made a biggest mistake of ur life!! I had 1 time asked my girlfriend to take my car there for an oil service, guess what? They ripped my girlfriend off by lying how bad my car is now. If without fixing the problem. Might bring some serious accident. Then she did what they said. 4 brand new tires, timing belt, 4 new brake pads. U know why's the worst? All of those above I had just changed 2 months before!!! What a trashy dealer is that? People, better off go somewhere!\n",
            "Actual Rating:\n",
            "1\n",
            "Predicted Rating:\n"
          ]
        },
        {
          "output_type": "execute_result",
          "data": {
            "text/plain": [
              "1"
            ]
          },
          "metadata": {},
          "execution_count": 33
        }
      ],
      "source": [
        "# NEGATIVE REVIEW\n",
        "nr = data['text'][23]\n",
        "print(nr)\n",
        "print(\"Actual Rating:\")\n",
        "print(data['stars'][23])\n",
        "# Your code here\n",
        "nr_t = vocab.transform([nr])\n",
        "print(\"Predicted Rating:\")\n",
        "# Your code here\n",
        "mnb.predict(nr_t)[0]"
      ]
    },
    {
      "cell_type": "markdown",
      "id": "d133de57-46f9-427f-b68d-d3f9784a2a13",
      "metadata": {
        "id": "d133de57-46f9-427f-b68d-d3f9784a2a13"
      },
      "source": [
        "## Bias in dataset\n",
        "In the data count below, we can see that predictions are biased towards positive reviews. It is possible that the dataset has more positive reviews as compared to negative reviews.\n",
        "This can likely be fixed by normalizing the dataset to have equal number of reviews - thereby removing the bias."
      ]
    },
    {
      "cell_type": "code",
      "execution_count": null,
      "id": "079e5dc5-b898-4fad-815d-4850d2feb4dd",
      "metadata": {
        "id": "079e5dc5-b898-4fad-815d-4850d2feb4dd",
        "colab": {
          "base_uri": "https://localhost:8080/"
        },
        "outputId": "c0294447-a559-48ba-be19-a32ed0b5e88e"
      },
      "outputs": [
        {
          "output_type": "stream",
          "name": "stdout",
          "text": [
            "4    3526\n",
            "5    3337\n",
            "3    1461\n",
            "2     927\n",
            "1     749\n",
            "Name: stars, dtype: int64\n"
          ]
        }
      ],
      "source": [
        "count = data['stars'].value_counts()\n",
        "print(count)"
      ]
    },
    {
      "cell_type": "markdown",
      "source": [
        "# Bonus - using out-of-box techniques:\n",
        "1. VADER (Valence Aware Dictionary and sEntiment Reasoner) - Bag of words approach\n",
        "2. Roberta Pretrained Model from 🤗\n",
        "3. Huggingface Pipeline"
      ],
      "metadata": {
        "id": "P37f4TZK-QdB"
      },
      "id": "P37f4TZK-QdB"
    },
    {
      "cell_type": "code",
      "source": [
        "# nltk.download('all')\n",
        "# nltk.download('vader_lexicon')"
      ],
      "metadata": {
        "id": "P5euQhZ7-cN8"
      },
      "id": "P5euQhZ7-cN8",
      "execution_count": null,
      "outputs": []
    },
    {
      "cell_type": "markdown",
      "source": [
        "# Step 1. VADER Seniment Scoring\n",
        "\n",
        "We will use NLTK's `SentimentIntensityAnalyzer` to get the neg/neu/pos scores of the text.\n",
        "\n",
        "- This uses a \"bag of words\" approach:\n",
        "    1. Stop words are removed\n",
        "    2. each word is scored and combined to a total score."
      ],
      "metadata": {
        "id": "hi3zr6W8_TVs"
      },
      "id": "hi3zr6W8_TVs"
    },
    {
      "cell_type": "code",
      "source": [
        "from nltk.sentiment import SentimentIntensityAnalyzer\n",
        "from tqdm.notebook import tqdm\n",
        "\n",
        "# Your code here\n",
        "sia = SentimentIntensityAnalyzer()"
      ],
      "metadata": {
        "id": "VSGoecwZ_W1Z"
      },
      "id": "VSGoecwZ_W1Z",
      "execution_count": null,
      "outputs": []
    },
    {
      "cell_type": "code",
      "source": [
        "# something positive\n",
        "sia.polarity_scores('I am so happy!')"
      ],
      "metadata": {
        "id": "HXGrlzoQ_Yr1",
        "colab": {
          "base_uri": "https://localhost:8080/"
        },
        "outputId": "efc649d2-5b6a-4da9-c13a-e654a8896cbf"
      },
      "id": "HXGrlzoQ_Yr1",
      "execution_count": null,
      "outputs": [
        {
          "output_type": "execute_result",
          "data": {
            "text/plain": [
              "{'neg': 0.0, 'neu': 0.318, 'pos': 0.682, 'compound': 0.6468}"
            ]
          },
          "metadata": {},
          "execution_count": 37
        }
      ]
    },
    {
      "cell_type": "code",
      "source": [
        "# something negative\n",
        "# Your code here\n",
        "sia.polarity_scores('This is the worst thing ever.')"
      ],
      "metadata": {
        "id": "VTlqHebk_cNU",
        "colab": {
          "base_uri": "https://localhost:8080/"
        },
        "outputId": "2d21734d-2b0c-4f00-9a3e-7526a67f41f1"
      },
      "id": "VTlqHebk_cNU",
      "execution_count": null,
      "outputs": [
        {
          "output_type": "execute_result",
          "data": {
            "text/plain": [
              "{'neg': 0.451, 'neu': 0.549, 'pos': 0.0, 'compound': -0.6249}"
            ]
          },
          "metadata": {},
          "execution_count": 38
        }
      ]
    },
    {
      "cell_type": "code",
      "source": [
        "# example\n",
        "# Your code here\n",
        "sia.polarity_scores(example)"
      ],
      "metadata": {
        "id": "UeKdd4WK_enl",
        "colab": {
          "base_uri": "https://localhost:8080/"
        },
        "outputId": "95bd94aa-1ef1-4329-8b52-f12dc1f443ae"
      },
      "id": "UeKdd4WK_enl",
      "execution_count": null,
      "outputs": [
        {
          "output_type": "execute_result",
          "data": {
            "text/plain": [
              "{'neg': 0.056, 'neu': 0.77, 'pos': 0.173, 'compound': 0.9889}"
            ]
          },
          "metadata": {},
          "execution_count": 39
        }
      ]
    },
    {
      "cell_type": "code",
      "source": [
        "data = data.head(300)"
      ],
      "metadata": {
        "id": "ldVqhjZxHT3q"
      },
      "id": "ldVqhjZxHT3q",
      "execution_count": null,
      "outputs": []
    },
    {
      "cell_type": "code",
      "source": [
        "# Run the polarity score on the entire dataset\n",
        "res = {}\n",
        "# Your code here\n",
        "for i, row in tqdm(data.iterrows(), total=len(data)):\n",
        "    text = row['text']\n",
        "    myid = row['business_id']\n",
        "    res[myid] = sia.polarity_scores(text)"
      ],
      "metadata": {
        "id": "z4LKwBF8_gqg",
        "colab": {
          "base_uri": "https://localhost:8080/",
          "height": 49,
          "referenced_widgets": [
            "21c8344b4a9f4a928f9a61cf10e02f3c",
            "61e7e00b24694102a177d24ffe07cdeb",
            "a4e1d6092a7a442a988b2397b7ffcd22",
            "b20a762223cd46aba8a8aae4ee24d1f6",
            "d1706b0b9f8d45ff99224bfab7b8abe2",
            "1d8623967947418bbd75ae638854ef12",
            "1520978bea234cba81d63e156a04da4b",
            "dcfc296d931d461b888f42c5fcc7b08a",
            "13232e01c5ec4c6686c4e3a785860b82",
            "1ae15cf3e0d54ea0ad8f279a8b4d463d",
            "e95d121509b34c4bbca837b457d913f7"
          ]
        },
        "outputId": "1cdb5183-bc3d-425e-a39d-55e408680b7e"
      },
      "id": "z4LKwBF8_gqg",
      "execution_count": null,
      "outputs": [
        {
          "output_type": "display_data",
          "data": {
            "text/plain": [
              "  0%|          | 0/300 [00:00<?, ?it/s]"
            ],
            "application/vnd.jupyter.widget-view+json": {
              "version_major": 2,
              "version_minor": 0,
              "model_id": "21c8344b4a9f4a928f9a61cf10e02f3c"
            }
          },
          "metadata": {}
        }
      ]
    },
    {
      "cell_type": "code",
      "source": [
        "vaders = pd.DataFrame(res).T\n",
        "vaders = vaders.reset_index().rename(columns={'index': 'business_id'})\n",
        "vaders = vaders.merge(data, how='left')"
      ],
      "metadata": {
        "id": "HNii8wUK_uRV"
      },
      "id": "HNii8wUK_uRV",
      "execution_count": null,
      "outputs": []
    },
    {
      "cell_type": "code",
      "source": [
        "# Now we have sentiment score and metadata\n",
        "vaders.head()"
      ],
      "metadata": {
        "id": "1FpUPWte_39E",
        "colab": {
          "base_uri": "https://localhost:8080/",
          "height": 739
        },
        "outputId": "4b3b1cac-0229-48d1-d711-089ac8ff233a"
      },
      "id": "1FpUPWte_39E",
      "execution_count": null,
      "outputs": [
        {
          "output_type": "execute_result",
          "data": {
            "text/plain": [
              "              business_id    neg    neu    pos  compound        date  \\\n",
              "0  9yKzy9PApeiPPOUJEtnvkg  0.015  0.687  0.298    0.9950  2011-01-26   \n",
              "1  ZRJwVLyzEJq1VAihDhYiow  0.049  0.741  0.210    0.9943  2011-07-27   \n",
              "2  6oRAC4uyJCsJl1X0WZpVSA  0.000  0.523  0.477    0.8988  2012-06-14   \n",
              "3  _1QQZuf4zZOyFCvXc0o6Vg  0.000  0.793  0.207    0.9531  2010-05-27   \n",
              "4  6ozycU1RpktNG2-1BroVtw  0.029  0.636  0.334    0.9883  2012-01-05   \n",
              "\n",
              "                review_id  stars  \\\n",
              "0  fWKvX83p0-ka4JS3dc6E5A      5   \n",
              "1  IjZ33sJrzXqU-0X6U8NwyA      5   \n",
              "2  IESLBzqUCLdSzSqm0eCSxQ      4   \n",
              "3  G-WvGaISbqqaMHlNnByodA      5   \n",
              "4  1uJFq2r5QfJG_6ExMRCaGw      5   \n",
              "\n",
              "                                                text    type  \\\n",
              "0  My wife took me here on my birthday for breakf...  review   \n",
              "1  I have no idea why some people give bad review...  review   \n",
              "2  love the gyro plate. Rice is so good and I als...  review   \n",
              "3  Rosie, Dakota, and I LOVE Chaparral Dog Park!!...  review   \n",
              "4  General Manager Scott Petello is a good egg!!!...  review   \n",
              "\n",
              "                  user_id  cool  useful  funny  length  \n",
              "0  rLtl8ZkDX5vH5nAx9C3q5Q     2       5      0     889  \n",
              "1  0a2KyEL0d3Yb1V6aivbIuQ     0       0      0    1345  \n",
              "2  0hT2KtfLiobPvh6cDC8JQg     0       1      0      76  \n",
              "3  uZetl9T0NcROGOyFfughhg     1       2      0     419  \n",
              "4  vYmM4KTsC8ZfQBg-j5MWkw     0       0      0     469  "
            ],
            "text/html": [
              "\n",
              "  <div id=\"df-e89ca44f-18a4-4df9-9d25-1cefa6e9f127\">\n",
              "    <div class=\"colab-df-container\">\n",
              "      <div>\n",
              "<style scoped>\n",
              "    .dataframe tbody tr th:only-of-type {\n",
              "        vertical-align: middle;\n",
              "    }\n",
              "\n",
              "    .dataframe tbody tr th {\n",
              "        vertical-align: top;\n",
              "    }\n",
              "\n",
              "    .dataframe thead th {\n",
              "        text-align: right;\n",
              "    }\n",
              "</style>\n",
              "<table border=\"1\" class=\"dataframe\">\n",
              "  <thead>\n",
              "    <tr style=\"text-align: right;\">\n",
              "      <th></th>\n",
              "      <th>business_id</th>\n",
              "      <th>neg</th>\n",
              "      <th>neu</th>\n",
              "      <th>pos</th>\n",
              "      <th>compound</th>\n",
              "      <th>date</th>\n",
              "      <th>review_id</th>\n",
              "      <th>stars</th>\n",
              "      <th>text</th>\n",
              "      <th>type</th>\n",
              "      <th>user_id</th>\n",
              "      <th>cool</th>\n",
              "      <th>useful</th>\n",
              "      <th>funny</th>\n",
              "      <th>length</th>\n",
              "    </tr>\n",
              "  </thead>\n",
              "  <tbody>\n",
              "    <tr>\n",
              "      <th>0</th>\n",
              "      <td>9yKzy9PApeiPPOUJEtnvkg</td>\n",
              "      <td>0.015</td>\n",
              "      <td>0.687</td>\n",
              "      <td>0.298</td>\n",
              "      <td>0.9950</td>\n",
              "      <td>2011-01-26</td>\n",
              "      <td>fWKvX83p0-ka4JS3dc6E5A</td>\n",
              "      <td>5</td>\n",
              "      <td>My wife took me here on my birthday for breakf...</td>\n",
              "      <td>review</td>\n",
              "      <td>rLtl8ZkDX5vH5nAx9C3q5Q</td>\n",
              "      <td>2</td>\n",
              "      <td>5</td>\n",
              "      <td>0</td>\n",
              "      <td>889</td>\n",
              "    </tr>\n",
              "    <tr>\n",
              "      <th>1</th>\n",
              "      <td>ZRJwVLyzEJq1VAihDhYiow</td>\n",
              "      <td>0.049</td>\n",
              "      <td>0.741</td>\n",
              "      <td>0.210</td>\n",
              "      <td>0.9943</td>\n",
              "      <td>2011-07-27</td>\n",
              "      <td>IjZ33sJrzXqU-0X6U8NwyA</td>\n",
              "      <td>5</td>\n",
              "      <td>I have no idea why some people give bad review...</td>\n",
              "      <td>review</td>\n",
              "      <td>0a2KyEL0d3Yb1V6aivbIuQ</td>\n",
              "      <td>0</td>\n",
              "      <td>0</td>\n",
              "      <td>0</td>\n",
              "      <td>1345</td>\n",
              "    </tr>\n",
              "    <tr>\n",
              "      <th>2</th>\n",
              "      <td>6oRAC4uyJCsJl1X0WZpVSA</td>\n",
              "      <td>0.000</td>\n",
              "      <td>0.523</td>\n",
              "      <td>0.477</td>\n",
              "      <td>0.8988</td>\n",
              "      <td>2012-06-14</td>\n",
              "      <td>IESLBzqUCLdSzSqm0eCSxQ</td>\n",
              "      <td>4</td>\n",
              "      <td>love the gyro plate. Rice is so good and I als...</td>\n",
              "      <td>review</td>\n",
              "      <td>0hT2KtfLiobPvh6cDC8JQg</td>\n",
              "      <td>0</td>\n",
              "      <td>1</td>\n",
              "      <td>0</td>\n",
              "      <td>76</td>\n",
              "    </tr>\n",
              "    <tr>\n",
              "      <th>3</th>\n",
              "      <td>_1QQZuf4zZOyFCvXc0o6Vg</td>\n",
              "      <td>0.000</td>\n",
              "      <td>0.793</td>\n",
              "      <td>0.207</td>\n",
              "      <td>0.9531</td>\n",
              "      <td>2010-05-27</td>\n",
              "      <td>G-WvGaISbqqaMHlNnByodA</td>\n",
              "      <td>5</td>\n",
              "      <td>Rosie, Dakota, and I LOVE Chaparral Dog Park!!...</td>\n",
              "      <td>review</td>\n",
              "      <td>uZetl9T0NcROGOyFfughhg</td>\n",
              "      <td>1</td>\n",
              "      <td>2</td>\n",
              "      <td>0</td>\n",
              "      <td>419</td>\n",
              "    </tr>\n",
              "    <tr>\n",
              "      <th>4</th>\n",
              "      <td>6ozycU1RpktNG2-1BroVtw</td>\n",
              "      <td>0.029</td>\n",
              "      <td>0.636</td>\n",
              "      <td>0.334</td>\n",
              "      <td>0.9883</td>\n",
              "      <td>2012-01-05</td>\n",
              "      <td>1uJFq2r5QfJG_6ExMRCaGw</td>\n",
              "      <td>5</td>\n",
              "      <td>General Manager Scott Petello is a good egg!!!...</td>\n",
              "      <td>review</td>\n",
              "      <td>vYmM4KTsC8ZfQBg-j5MWkw</td>\n",
              "      <td>0</td>\n",
              "      <td>0</td>\n",
              "      <td>0</td>\n",
              "      <td>469</td>\n",
              "    </tr>\n",
              "  </tbody>\n",
              "</table>\n",
              "</div>\n",
              "      <button class=\"colab-df-convert\" onclick=\"convertToInteractive('df-e89ca44f-18a4-4df9-9d25-1cefa6e9f127')\"\n",
              "              title=\"Convert this dataframe to an interactive table.\"\n",
              "              style=\"display:none;\">\n",
              "        \n",
              "  <svg xmlns=\"http://www.w3.org/2000/svg\" height=\"24px\"viewBox=\"0 0 24 24\"\n",
              "       width=\"24px\">\n",
              "    <path d=\"M0 0h24v24H0V0z\" fill=\"none\"/>\n",
              "    <path d=\"M18.56 5.44l.94 2.06.94-2.06 2.06-.94-2.06-.94-.94-2.06-.94 2.06-2.06.94zm-11 1L8.5 8.5l.94-2.06 2.06-.94-2.06-.94L8.5 2.5l-.94 2.06-2.06.94zm10 10l.94 2.06.94-2.06 2.06-.94-2.06-.94-.94-2.06-.94 2.06-2.06.94z\"/><path d=\"M17.41 7.96l-1.37-1.37c-.4-.4-.92-.59-1.43-.59-.52 0-1.04.2-1.43.59L10.3 9.45l-7.72 7.72c-.78.78-.78 2.05 0 2.83L4 21.41c.39.39.9.59 1.41.59.51 0 1.02-.2 1.41-.59l7.78-7.78 2.81-2.81c.8-.78.8-2.07 0-2.86zM5.41 20L4 18.59l7.72-7.72 1.47 1.35L5.41 20z\"/>\n",
              "  </svg>\n",
              "      </button>\n",
              "      \n",
              "  <style>\n",
              "    .colab-df-container {\n",
              "      display:flex;\n",
              "      flex-wrap:wrap;\n",
              "      gap: 12px;\n",
              "    }\n",
              "\n",
              "    .colab-df-convert {\n",
              "      background-color: #E8F0FE;\n",
              "      border: none;\n",
              "      border-radius: 50%;\n",
              "      cursor: pointer;\n",
              "      display: none;\n",
              "      fill: #1967D2;\n",
              "      height: 32px;\n",
              "      padding: 0 0 0 0;\n",
              "      width: 32px;\n",
              "    }\n",
              "\n",
              "    .colab-df-convert:hover {\n",
              "      background-color: #E2EBFA;\n",
              "      box-shadow: 0px 1px 2px rgba(60, 64, 67, 0.3), 0px 1px 3px 1px rgba(60, 64, 67, 0.15);\n",
              "      fill: #174EA6;\n",
              "    }\n",
              "\n",
              "    [theme=dark] .colab-df-convert {\n",
              "      background-color: #3B4455;\n",
              "      fill: #D2E3FC;\n",
              "    }\n",
              "\n",
              "    [theme=dark] .colab-df-convert:hover {\n",
              "      background-color: #434B5C;\n",
              "      box-shadow: 0px 1px 3px 1px rgba(0, 0, 0, 0.15);\n",
              "      filter: drop-shadow(0px 1px 2px rgba(0, 0, 0, 0.3));\n",
              "      fill: #FFFFFF;\n",
              "    }\n",
              "  </style>\n",
              "\n",
              "      <script>\n",
              "        const buttonEl =\n",
              "          document.querySelector('#df-e89ca44f-18a4-4df9-9d25-1cefa6e9f127 button.colab-df-convert');\n",
              "        buttonEl.style.display =\n",
              "          google.colab.kernel.accessAllowed ? 'block' : 'none';\n",
              "\n",
              "        async function convertToInteractive(key) {\n",
              "          const element = document.querySelector('#df-e89ca44f-18a4-4df9-9d25-1cefa6e9f127');\n",
              "          const dataTable =\n",
              "            await google.colab.kernel.invokeFunction('convertToInteractive',\n",
              "                                                     [key], {});\n",
              "          if (!dataTable) return;\n",
              "\n",
              "          const docLinkHtml = 'Like what you see? Visit the ' +\n",
              "            '<a target=\"_blank\" href=https://colab.research.google.com/notebooks/data_table.ipynb>data table notebook</a>'\n",
              "            + ' to learn more about interactive tables.';\n",
              "          element.innerHTML = '';\n",
              "          dataTable['output_type'] = 'display_data';\n",
              "          await google.colab.output.renderOutput(dataTable, element);\n",
              "          const docLink = document.createElement('div');\n",
              "          docLink.innerHTML = docLinkHtml;\n",
              "          element.appendChild(docLink);\n",
              "        }\n",
              "      </script>\n",
              "    </div>\n",
              "  </div>\n",
              "  "
            ]
          },
          "metadata": {},
          "execution_count": 43
        }
      ]
    },
    {
      "cell_type": "markdown",
      "source": [
        "## Plot VADER results"
      ],
      "metadata": {
        "id": "x2gDQU6l_-jh"
      },
      "id": "x2gDQU6l_-jh"
    },
    {
      "cell_type": "code",
      "source": [
        "ax = sns.barplot(data=vaders, x='stars', y='compound')\n",
        "ax.set_title('Compund Score by Yelp Star Review')\n",
        "plt.show()"
      ],
      "metadata": {
        "id": "53Yx12aZAAPk",
        "colab": {
          "base_uri": "https://localhost:8080/",
          "height": 295
        },
        "outputId": "4ce01128-2d2b-40bd-a23a-c35381eb6bee"
      },
      "id": "53Yx12aZAAPk",
      "execution_count": null,
      "outputs": [
        {
          "output_type": "display_data",
          "data": {
            "text/plain": [
              "<Figure size 432x288 with 1 Axes>"
            ],
            "image/png": "[encoded data removed]"
          },
          "metadata": {
            "needs_background": "light"
          }
        }
      ]
    },
    {
      "cell_type": "code",
      "source": [
        "fig, axs = plt.subplots(1, 3, figsize=(12, 3))\n",
        "sns.barplot(data=vaders, x='stars', y='pos', ax=axs[0])\n",
        "sns.barplot(data=vaders, x='stars', y='neu', ax=axs[1])\n",
        "sns.barplot(data=vaders, x='stars', y='neg', ax=axs[2])\n",
        "axs[0].set_title('Positive')\n",
        "axs[1].set_title('Neutral')\n",
        "axs[2].set_title('Negative')\n",
        "plt.tight_layout()\n",
        "plt.show()"
      ],
      "metadata": {
        "id": "6EXe7KBxAc1R",
        "colab": {
          "base_uri": "https://localhost:8080/",
          "height": 225
        },
        "outputId": "782fea3f-7dde-4d5b-ab42-fb57c200cc9a"
      },
      "id": "6EXe7KBxAc1R",
      "execution_count": null,
      "outputs": [
        {
          "output_type": "display_data",
          "data": {
            "text/plain": [
              "<Figure size 864x216 with 3 Axes>"
            ],
            "image/png": "[encoded data removed]"
          },
          "metadata": {
            "needs_background": "light"
          }
        }
      ]
    },
    {
      "cell_type": "markdown",
      "source": [
        "# Step 3. Roberta Pretrained Model\n",
        "\n",
        "- Use a model trained of a large corpus of data.\n",
        "- Transformer model accounts for the words but also the context related to other words."
      ],
      "metadata": {
        "id": "AWBF71SOAl8y"
      },
      "id": "AWBF71SOAl8y"
    },
    {
      "cell_type": "code",
      "source": [
        "# !pip install transformers\n",
        "# from transformers import AutoTokenizer\n",
        "# from transformers import AutoModelForSequenceClassification\n",
        "# from scipy.special import softmax\n",
        "# MODEL = f\"cardiffnlp/twitter-roberta-base-sentiment-latest\"\n",
        "# tokenizer = AutoTokenizer.from_pretrained(MODEL)\n",
        "# model = AutoModelForSequenceClassification.from_pretrained(MODEL)"
      ],
      "metadata": {
        "id": "HUjSNqDfAqcd"
      },
      "id": "HUjSNqDfAqcd",
      "execution_count": null,
      "outputs": []
    },
    {
      "cell_type": "code",
      "source": [
        "# VADER results on example\n",
        "print(example)\n",
        "# Your code here\n",
        "sia.polarity_scores(example)"
      ],
      "metadata": {
        "id": "ndgGLZNOAwu-",
        "colab": {
          "base_uri": "https://localhost:8080/"
        },
        "outputId": "f504a116-27c4-445d-8cee-17a9247d0b0d"
      },
      "id": "ndgGLZNOAwu-",
      "execution_count": null,
      "outputs": [
        {
          "output_type": "stream",
          "name": "stdout",
          "text": [
            "Cliff notes\n",
            "- Cheap: $1-2/plate\n",
            "- Fast: It's ready-to-go and on a conveyor\n",
            "- Acceptable quality: I'm here weekly and haven't gotten sick lol\n",
            "\n",
            "This place is definitely good for what it is, \"it\" being a budget-friendly sushi place that's great for a quick bite.  In a response to the lower-rating reviews stating how the food is just okay at best or authentic or blah blah blah, well think of it like wal-mart vs. *inserthighendretailerhere*.  This place has a business model based on selling in large volumes (hence the low prices like wal-mart) so they're gonna have to \"reduce costs\" somehow (so-so quality food, not-so-attentive staff, and slightly smaller than average portions), but it's still a solid bang-for-your-buck kinda place.\n",
            "\n",
            "On top of this, I can be in and out quickly since everything is already prepared, perfect for those quick 30 min lunch breaks.  All that's required is for you to grab it off the conveyor (depending on whether or not all the items you want are on the conveyor at the time). \n",
            "\n",
            "I've never had issues with seating, but do not make a point to go during peak hours and usually go with a small party (2-4 people).\n",
            "\n",
            "For those claiming to be \"left to fend for themselves\" due to an inattentive staff, most of your sushi-related inquiries can be answered by this thing called \"the menu\" that sits on the counters.  See, this miraculous piece of technology contains things referred to as \"descriptions\" on them that help to inform you about the sushi going round-and-round before you.  Furthermore, there's even a pricing guide based on the color code of the plates to assist you further! WOW! Lol wtf do people expect for $1-2 plates of sushi?  Someone to hold your hand? LOLOLOLOLOLOLOL DIAF\n",
            "\n",
            "And the cherry on top? $4 large japanese beers and $5 sake bombs! HELL YEAH!\n"
          ]
        },
        {
          "output_type": "execute_result",
          "data": {
            "text/plain": [
              "{'neg': 0.056, 'neu': 0.77, 'pos': 0.173, 'compound': 0.9889}"
            ]
          },
          "metadata": {},
          "execution_count": 47
        }
      ]
    },
    {
      "cell_type": "code",
      "source": [
        "# Run for Roberta Model\n",
        "# using a pre-trained RoBERTa model to classify the sentiment of a text\n",
        "encoded_text = tokenizer(example, return_tensors='pt')\n",
        "output = model(**encoded_text)\n",
        "scores = output[0][0].detach().numpy()\n",
        "scores = softmax(scores)\n",
        "scores_dict = {\n",
        "    'roberta_neg' : scores[0],\n",
        "    'roberta_neu' : scores[1],\n",
        "    'roberta_pos' : scores[2]\n",
        "}\n",
        "print(scores_dict)"
      ],
      "metadata": {
        "id": "qD32PnQTAzzw",
        "colab": {
          "base_uri": "https://localhost:8080/"
        },
        "outputId": "656ab91d-956d-4610-d266-01b1befc008b"
      },
      "id": "qD32PnQTAzzw",
      "execution_count": null,
      "outputs": [
        {
          "output_type": "stream",
          "name": "stdout",
          "text": [
            "{'roberta_neg': 0.024074974, 'roberta_neu': 0.30235413, 'roberta_pos': 0.67357093}\n"
          ]
        }
      ]
    },
    {
      "cell_type": "code",
      "source": [
        "# This is a Python function called polarity_scores_roberta that takes\n",
        "# a string of text as input and returns a dictionary of sentiment scores for that text\n",
        "# Your code here\n",
        "def polarity_scores_roberta(example):\n",
        "    encoded_text = tokenizer(example, return_tensors='pt')\n",
        "    output = model(**encoded_text)\n",
        "    scores = output[0][0].detach().numpy()\n",
        "    scores = softmax(scores)\n",
        "    scores_dict = {\n",
        "        'roberta_neg' : scores[0],\n",
        "        'roberta_neu' : scores[1],\n",
        "        'roberta_pos' : scores[2]\n",
        "    }\n",
        "    return scores_dict"
      ],
      "metadata": {
        "id": "dP0Dy74HBsU2"
      },
      "id": "dP0Dy74HBsU2",
      "execution_count": null,
      "outputs": []
    },
    {
      "cell_type": "code",
      "source": [
        "# iterates over a pandas DataFrame called data, \n",
        "# which presumably contains columns for text and business IDs.\n",
        "res = {}\n",
        "# Your code here\n",
        "for i, row in tqdm(data.iterrows(), total=len(data)):\n",
        "    try:\n",
        "        text = row['text']\n",
        "        myid = row['business_id']\n",
        "        vader_result = sia.polarity_scores(text)\n",
        "        vader_result_rename = {}\n",
        "        for key, value in vader_result.items():\n",
        "            vader_result_rename[f\"vader_{key}\"] = value\n",
        "        roberta_result = polarity_scores_roberta(text)\n",
        "        both = {**vader_result_rename, **roberta_result}\n",
        "        res[myid] = both\n",
        "    except RuntimeError:\n",
        "        print(f'Broke for id {myid}')"
      ],
      "metadata": {
        "id": "s5R32ShJBuyj",
        "colab": {
          "base_uri": "https://localhost:8080/",
          "height": 156,
          "referenced_widgets": [
            "25847554c0444057b500e86a2b84980d",
            "292f00f72e1a41c394399d1b3d10b97e",
            "6686a9dddb0e4d49ade86f7bfa1c5ecf",
            "9df1c5b587ad4760bdb2cf2451dc5623",
            "42e7d0a00113463db90e6573b7a591df",
            "e1e3b981395c4588853276e70b0c08c4",
            "d69440e110394e30a695898a37596887",
            "959bc3a7deca4f219038fe86bbbbf13f",
            "c6ad236acf6d4b688d0299a4cbc9ce1e",
            "f603a1062e714c1182834f3b34ee944f",
            "c85fc6efda3d4fcd85c3c210d327f620"
          ]
        },
        "outputId": "2c140bf1-0b12-46d0-e0eb-7235d76300cd"
      },
      "id": "s5R32ShJBuyj",
      "execution_count": null,
      "outputs": [
        {
          "output_type": "display_data",
          "data": {
            "text/plain": [
              "  0%|          | 0/300 [00:00<?, ?it/s]"
            ],
            "application/vnd.jupyter.widget-view+json": {
              "version_major": 2,
              "version_minor": 0,
              "model_id": "25847554c0444057b500e86a2b84980d"
            }
          },
          "metadata": {}
        },
        {
          "output_type": "stream",
          "name": "stdout",
          "text": [
            "Broke for id 7SO_rX1F6rQEl-5s3wZxgQ\n",
            "Broke for id FCcFT610nQBVcRdY-devQA\n",
            "Broke for id d7_jkx0VPx3uHsUl18iHMQ\n",
            "Broke for id LzpR_jE6VIutJ08s2cdRrw\n",
            "Broke for id 1621ir5mjVgbHwxCbMAEjg\n",
            "Broke for id l3yL2rQ6PoFBQ06RLczn9w\n"
          ]
        }
      ]
    },
    {
      "cell_type": "code",
      "source": [
        "results_df = pd.DataFrame(res).T\n",
        "results_df = results_df.reset_index().rename(columns={'index': 'business_id'})\n",
        "results_df = results_df.merge(data, how='left')"
      ],
      "metadata": {
        "id": "5lVImPH3CoQw"
      },
      "id": "5lVImPH3CoQw",
      "execution_count": null,
      "outputs": []
    },
    {
      "cell_type": "markdown",
      "source": [
        "# Step 3. Compare Scores between models"
      ],
      "metadata": {
        "id": "bqa5k9wBC8pt"
      },
      "id": "bqa5k9wBC8pt"
    },
    {
      "cell_type": "code",
      "source": [
        "# take a look at the column of the df\n",
        "results_df.columns"
      ],
      "metadata": {
        "id": "S7yan8NPC13s",
        "colab": {
          "base_uri": "https://localhost:8080/"
        },
        "outputId": "973e907c-ade2-452b-8361-02cea0c358a4"
      },
      "id": "S7yan8NPC13s",
      "execution_count": null,
      "outputs": [
        {
          "output_type": "execute_result",
          "data": {
            "text/plain": [
              "Index(['business_id', 'vader_neg', 'vader_neu', 'vader_pos', 'vader_compound',\n",
              "       'roberta_neg', 'roberta_neu', 'roberta_pos', 'date', 'review_id',\n",
              "       'stars', 'text', 'type', 'user_id', 'cool', 'useful', 'funny',\n",
              "       'length'],\n",
              "      dtype='object')"
            ]
          },
          "metadata": {},
          "execution_count": 52
        }
      ]
    },
    {
      "cell_type": "code",
      "source": [
        "# The pair plot is a matrix of scatter plots and histograms, where each variable \n",
        "# in the DataFrame is plotted against every other variable. \n",
        "# The purpose of the plot is to visualize the relationship \n",
        "# between different sentiment scores generated by Vader and RoBERTa models.\n",
        "sns.pairplot(data=results_df,\n",
        "             vars=['vader_neg', 'vader_neu', 'vader_pos',\n",
        "                  'roberta_neg', 'roberta_neu', 'roberta_pos'],\n",
        "            hue='stars',\n",
        "            palette='tab10')\n",
        "plt.show()"
      ],
      "metadata": {
        "id": "TIECcreiDBti",
        "colab": {
          "base_uri": "https://localhost:8080/",
          "height": 879
        },
        "outputId": "426d9e01-c7fa-46a3-f9c7-1f9d82a38aca"
      },
      "id": "TIECcreiDBti",
      "execution_count": null,
      "outputs": [
        {
          "output_type": "display_data",
          "data": {
            "text/plain": [
              "<Figure size 1122.38x1080 with 42 Axes>"
            ],
            "image/png": "[encoded data removed]"
          },
          "metadata": {
            "needs_background": "light"
          }
        }
      ]
    },
    {
      "cell_type": "markdown",
      "source": [
        "# Step 4: Review Examples\n",
        "\n",
        "## Positive sentiment 1-Star Reviews\n",
        "\n",
        "Lets look at some examples where the model scoring and review score differ the most."
      ],
      "metadata": {
        "id": "C8eJQNb5DKai"
      },
      "id": "C8eJQNb5DKai"
    },
    {
      "cell_type": "code",
      "source": [
        "# retrieves the text of the row with the highest positive sentiment score \n",
        "# using the RoBERTa model among the rows that have a star rating of 1.\n",
        "results_df.query('stars == 1') \\\n",
        "    .sort_values('roberta_pos', ascending=False)['text'].values[0]"
      ],
      "metadata": {
        "id": "MQT07w9nDOil",
        "colab": {
          "base_uri": "https://localhost:8080/",
          "height": 196
        },
        "outputId": "93a9da3b-d94d-47ff-b4a6-409455b9c806"
      },
      "id": "MQT07w9nDOil",
      "execution_count": null,
      "outputs": [
        {
          "output_type": "execute_result",
          "data": {
            "text/plain": [
              "'really, I can\\'t believe this place has received such high reviews from people.\\n\\nmy lady and i walked in, and were greeted rather rudely by a pretentious bitch at the front with a monotone \"name please?\", instead of a warm, friendly, french welcome to this rather charming looking place. we didn\\'t have a reservation, which from the looks of how dead empty the place was, didn\\'t seem like a problem. until the hostess whisked through her reservation list and explained she\\'d try to \"fit us in\". it was 6pm, the place had one other couple dining, and we were informed that the next party was arriving at 7:30. we weren\\'t really looking to hang out. it would have be awfully lovely if yelpers would have informed of the need to MAKE RESERVATIONS before going in here, because if you don\\'t, you\\'re automatically a piece of shit according to the staff. sorry, i don\\'t plan very much ahead. next time i will, and it won\\'t be here.\\n\\nanyways, after debating for a minute or two with herself, the hostess decided we could \"squeeze in\" and sat us right on top of the other couple inside the restaurant. she informed us that we could cork our own wine, for their low low price of 9 fucking dollars. in words only office space could adequately describe,\"coup des tartes, what is it exactly that you do?\". \\n\\nthe food was good, nothing spectacular for $25+ a plate. we got a salad with apples and nuts and bleu cheese, which was served warm. now this is the first warm salad i\\'ve had all of my life, and by no means am i some sort of wordly food expert, but i believe salad should be cold and crisp. not soggy and warm. yuck. the cordon bleu was tasty and filling, however, the wobbly table was an extreme annoyance when cutting through the chicken, but it was solved (with no thanks to the staff) by placing a jack-in-the-box gift card under the leg. i will admit, the mashed potatoes are some of the creamiest and best i\\'ve ever had. my lady got the pork tenderloin, which had a strange peppery-sweet pairing which i didn\\'t particularly care for. we were broke for desert, so unfortunately we didn\\'t get to try any tarts. you would think for a place that promotes itself as being so poise would get some fancier menus, other than a $.15 piece of cardstock copied in bulk at kinkos.\\n\\nthis place was rather disappointing. i honestly thought it would be way more comfy and welcoming inside but it really wasn\\'t. it presents itself as being so high class and french and oh-la-la wee wee, but when it comes down to it, it\\'s still located in a tiny shack of a house at 16th street and highland. maybe if it were located in the biltmore i\\'d give it a bit more cred.'"
            ],
            "application/vnd.google.colaboratory.intrinsic+json": {
              "type": "string"
            }
          },
          "metadata": {},
          "execution_count": 54
        }
      ]
    },
    {
      "cell_type": "code",
      "source": [
        "# retrieves the text of the row with the highest positive sentiment score \n",
        "# using the Vader model among the rows that have a star rating of 1.\n",
        "# Your code here\n",
        "results_df.query('stars == 1') \\\n",
        "    .sort_values('vader_pos', ascending=False)['text'].values[0]"
      ],
      "metadata": {
        "id": "0cXKoPz1DQGY",
        "colab": {
          "base_uri": "https://localhost:8080/",
          "height": 196
        },
        "outputId": "20ae74b6-7140-4209-adda-e9877c1092de"
      },
      "id": "0cXKoPz1DQGY",
      "execution_count": null,
      "outputs": [
        {
          "output_type": "execute_result",
          "data": {
            "text/plain": [
              "'really, I can\\'t believe this place has received such high reviews from people.\\n\\nmy lady and i walked in, and were greeted rather rudely by a pretentious bitch at the front with a monotone \"name please?\", instead of a warm, friendly, french welcome to this rather charming looking place. we didn\\'t have a reservation, which from the looks of how dead empty the place was, didn\\'t seem like a problem. until the hostess whisked through her reservation list and explained she\\'d try to \"fit us in\". it was 6pm, the place had one other couple dining, and we were informed that the next party was arriving at 7:30. we weren\\'t really looking to hang out. it would have be awfully lovely if yelpers would have informed of the need to MAKE RESERVATIONS before going in here, because if you don\\'t, you\\'re automatically a piece of shit according to the staff. sorry, i don\\'t plan very much ahead. next time i will, and it won\\'t be here.\\n\\nanyways, after debating for a minute or two with herself, the hostess decided we could \"squeeze in\" and sat us right on top of the other couple inside the restaurant. she informed us that we could cork our own wine, for their low low price of 9 fucking dollars. in words only office space could adequately describe,\"coup des tartes, what is it exactly that you do?\". \\n\\nthe food was good, nothing spectacular for $25+ a plate. we got a salad with apples and nuts and bleu cheese, which was served warm. now this is the first warm salad i\\'ve had all of my life, and by no means am i some sort of wordly food expert, but i believe salad should be cold and crisp. not soggy and warm. yuck. the cordon bleu was tasty and filling, however, the wobbly table was an extreme annoyance when cutting through the chicken, but it was solved (with no thanks to the staff) by placing a jack-in-the-box gift card under the leg. i will admit, the mashed potatoes are some of the creamiest and best i\\'ve ever had. my lady got the pork tenderloin, which had a strange peppery-sweet pairing which i didn\\'t particularly care for. we were broke for desert, so unfortunately we didn\\'t get to try any tarts. you would think for a place that promotes itself as being so poise would get some fancier menus, other than a $.15 piece of cardstock copied in bulk at kinkos.\\n\\nthis place was rather disappointing. i honestly thought it would be way more comfy and welcoming inside but it really wasn\\'t. it presents itself as being so high class and french and oh-la-la wee wee, but when it comes down to it, it\\'s still located in a tiny shack of a house at 16th street and highland. maybe if it were located in the biltmore i\\'d give it a bit more cred.'"
            ],
            "application/vnd.google.colaboratory.intrinsic+json": {
              "type": "string"
            }
          },
          "metadata": {},
          "execution_count": 55
        }
      ]
    },
    {
      "cell_type": "markdown",
      "source": [
        "## Negative sentiment 5-Star Reviews"
      ],
      "metadata": {
        "id": "bhOtoLLkDRrl"
      },
      "id": "bhOtoLLkDRrl"
    },
    {
      "cell_type": "code",
      "source": [
        "# retrieves the text of the row with the highest negative sentiment score \n",
        "# using the RoBERTa model among the rows that have a star rating of 5.\n",
        "results_df.query('stars == 5') \\\n",
        "    .sort_values('roberta_neg', ascending=False)['text'].values[0]"
      ],
      "metadata": {
        "id": "csdx96GFDYuG",
        "colab": {
          "base_uri": "https://localhost:8080/",
          "height": 143
        },
        "outputId": "a3903151-e4e5-49d4-f766-4f2a385803e6"
      },
      "id": "csdx96GFDYuG",
      "execution_count": null,
      "outputs": [
        {
          "output_type": "execute_result",
          "data": {
            "text/plain": [
              "\"Being Indian, and having grown up in London, I have been pretty spoilt for Indian food. Imagine my dismay when I moved to Phoenix! I've tried many different places here in town desperately trying to recapture the memory of a good London curry house but each time I've left either disappointed or clutching my guts fearing what may come.\\n\\nCouple of friends introduced me to this place a few months ago and I'm stoked. It's not as good as the stuff back home. And I'm sure you can get better in San Francisco or New York. But if you are looking for something closer to home you can't go wrong.\\n\\nPlus its got the real live Indians eating in there too. Can't be bad!!\""
            ],
            "application/vnd.google.colaboratory.intrinsic+json": {
              "type": "string"
            }
          },
          "metadata": {},
          "execution_count": 56
        }
      ]
    },
    {
      "cell_type": "code",
      "source": [
        "# retrieves the text of the row with the highest negative sentiment score \n",
        "# using the Vader model among the rows that have a star rating of 5.\n",
        "# Your code here\n",
        "results_df.query('stars == 5') \\\n",
        "    .sort_values('vader_neg', ascending=False)['text'].values[0]"
      ],
      "metadata": {
        "id": "VXw0Lka1DaSC",
        "colab": {
          "base_uri": "https://localhost:8080/",
          "height": 35
        },
        "outputId": "1465bd80-c90a-4b7b-c1d6-631585d88ca9"
      },
      "id": "VXw0Lka1DaSC",
      "execution_count": null,
      "outputs": [
        {
          "output_type": "execute_result",
          "data": {
            "text/plain": [
              "\"Who dosen't like Cosco, I love this place. The pizza is cheap and good.\""
            ],
            "application/vnd.google.colaboratory.intrinsic+json": {
              "type": "string"
            }
          },
          "metadata": {},
          "execution_count": 57
        }
      ]
    },
    {
      "cell_type": "markdown",
      "source": [
        "# Extra: The Transformers Pipeline\n",
        "Quick & easy way to run sentiment predictions"
      ],
      "metadata": {
        "id": "jJIaH98-DcIe"
      },
      "id": "jJIaH98-DcIe"
    },
    {
      "cell_type": "code",
      "source": [
        "from transformers import pipeline\n",
        "# creates a sentiment analysis pipeline using the Hugging Face Transformers library. \n",
        "# The pipeline() function is used to create a pre-trained sentiment analysis model \n",
        "# that can be used to classify the sentiment of input text.\n",
        "sent_pipeline = pipeline(\"sentiment-analysis\")"
      ],
      "metadata": {
        "id": "LeUyJutiDfbv",
        "colab": {
          "base_uri": "https://localhost:8080/",
          "height": 201,
          "referenced_widgets": [
            "887c20a24bcc46a0bbe024de681e5c2d",
            "b6e1f25fbe974a8bb9ee2ec93f1e59d5",
            "e5de23bc37e34210ba4c77f4018eec29",
            "14dd8356ca6e4d48bbd372c631a1ab76",
            "321a385110854ce983e6747189167a1f",
            "762630e1d46944d4a37f0c05ca4bf1ef",
            "9420f720f6d64927906cb1d476a3de2e",
            "b3a1f9006ef94d61a3cb63d241b7868a",
            "c3526ca86e024983a6f144f2b9eb423a",
            "f693fb56b87e4464985adb9597cc0c49",
            "eaa076b73bbc4e929ba6f8148634a602",
            "c13c08d8d4724788a0a8e635d64421f3",
            "f93ab0ee5fad47c388d25d91c7e06e77",
            "d608b4964b394b668e1753206d2f9234",
            "148b3932b13348eca35b8d924cd44fb9",
            "c7ba7c81237f4c6d866b584d1fa09fa6",
            "46755514da5e48e4b19789d357bc7866",
            "a875713501be45d1952b4ea81409ed30",
            "a1497ac38906420a8d2d4b0329cfe9cd",
            "60279cffd7394ca3be25695d7cafd709",
            "81d83ea08b544f368382df0d1302e0b3",
            "e2b129ead5b04eff9250ef479724990a",
            "270d73cb6ed9413bbc1a85dd03d76b23",
            "09abb6f478bb4e2298041faa19d0c97b",
            "0d2bac982fb34bbb8bab1914d7cabef1",
            "54a94e9537504360aa971a3eb876d73e",
            "aa69cff493c14930b9215d4a83aed385",
            "e01a1f01afd445ddb361ddd2709dd37e",
            "e442d898ec68419193e6e8105b22dfdb",
            "ba7b88587a374d8f982f09c7467005d9",
            "43de38aaeb0047dab097ff7f31d6e674",
            "1c854be087c9446e86e29f8bc3aacdee",
            "bc4ddc539dfd44298f5ff24c6ee1af93",
            "1d44f1976c6e481690a5f7484b27fcc4",
            "8bb01bbba4d4484791a91586dd6e4a78",
            "0dd879d9a5ed4a108660de9c628b029c",
            "47c20dab40ec43e1aa7b93a11e4b1fbf",
            "1304803682e842049a97471d90c610df",
            "37bfa59bf9404d74ae5b5a9c5afa9af8",
            "75c30ea1555a44fea9396cbe1d2d4272",
            "6e4f56a2e8584793a741c6e223df86b3",
            "5f5bba4e47b7436986ab0c12632fc75b",
            "014c8b507b5249ec91c0d94a3df913e3",
            "f44e58cad83c44628a1aec33b7b2fd4a"
          ]
        },
        "outputId": "3fda479e-b404-40df-92d6-29afafcda7e7"
      },
      "id": "LeUyJutiDfbv",
      "execution_count": null,
      "outputs": [
        {
          "output_type": "stream",
          "name": "stderr",
          "text": [
            "No model was supplied, defaulted to distilbert-base-uncased-finetuned-sst-2-english and revision af0f99b (https://huggingface.co/distilbert-base-uncased-finetuned-sst-2-english).\n",
            "Using a pipeline without specifying a model name and revision in production is not recommended.\n"
          ]
        },
        {
          "output_type": "display_data",
          "data": {
            "text/plain": [
              "Downloading (…)lve/main/config.json:   0%|          | 0.00/629 [00:00<?, ?B/s]"
            ],
            "application/vnd.jupyter.widget-view+json": {
              "version_major": 2,
              "version_minor": 0,
              "model_id": "887c20a24bcc46a0bbe024de681e5c2d"
            }
          },
          "metadata": {}
        },
        {
          "output_type": "display_data",
          "data": {
            "text/plain": [
              "Downloading pytorch_model.bin:   0%|          | 0.00/268M [00:00<?, ?B/s]"
            ],
            "application/vnd.jupyter.widget-view+json": {
              "version_major": 2,
              "version_minor": 0,
              "model_id": "c13c08d8d4724788a0a8e635d64421f3"
            }
          },
          "metadata": {}
        },
        {
          "output_type": "display_data",
          "data": {
            "text/plain": [
              "Downloading (…)okenizer_config.json:   0%|          | 0.00/48.0 [00:00<?, ?B/s]"
            ],
            "application/vnd.jupyter.widget-view+json": {
              "version_major": 2,
              "version_minor": 0,
              "model_id": "270d73cb6ed9413bbc1a85dd03d76b23"
            }
          },
          "metadata": {}
        },
        {
          "output_type": "display_data",
          "data": {
            "text/plain": [
              "Downloading (…)solve/main/vocab.txt:   0%|          | 0.00/232k [00:00<?, ?B/s]"
            ],
            "application/vnd.jupyter.widget-view+json": {
              "version_major": 2,
              "version_minor": 0,
              "model_id": "1d44f1976c6e481690a5f7484b27fcc4"
            }
          },
          "metadata": {}
        }
      ]
    },
    {
      "cell_type": "code",
      "source": [
        "# something positive\n",
        "# Your code here\n",
        "sent_pipeline('I love sentiment analysis!')"
      ],
      "metadata": {
        "id": "OnVgftYXDg_T",
        "colab": {
          "base_uri": "https://localhost:8080/"
        },
        "outputId": "50514aaf-a0dc-489a-f9cd-938026f1ca95"
      },
      "id": "OnVgftYXDg_T",
      "execution_count": null,
      "outputs": [
        {
          "output_type": "execute_result",
          "data": {
            "text/plain": [
              "[{'label': 'POSITIVE', 'score': 0.9997853636741638}]"
            ]
          },
          "metadata": {},
          "execution_count": 64
        }
      ]
    },
    {
      "cell_type": "code",
      "source": [
        "# something negative\n",
        "# Your code here\n",
        "sent_pipeline('I do not enjoy sentiment analysis!')"
      ],
      "metadata": {
        "id": "nUDbHqRFDjzO",
        "colab": {
          "base_uri": "https://localhost:8080/"
        },
        "outputId": "6b73ca73-ec18-4fa0-ba42-4058b7051157"
      },
      "id": "nUDbHqRFDjzO",
      "execution_count": null,
      "outputs": [
        {
          "output_type": "execute_result",
          "data": {
            "text/plain": [
              "[{'label': 'NEGATIVE', 'score': 0.9992401599884033}]"
            ]
          },
          "metadata": {},
          "execution_count": 65
        }
      ]
    },
    {
      "cell_type": "markdown",
      "source": [
        "# The End"
      ],
      "metadata": {
        "id": "jXY7unKKDlyt"
      },
      "id": "jXY7unKKDlyt"
    }
  ],
  "metadata": {
    "kernelspec": {
      "display_name": "Python 3 (ipykernel)",
      "language": "python",
      "name": "python3"
    },
    "language_info": {
      "codemirror_mode": {
        "name": "ipython",
        "version": 3
      },
      "file_extension": ".py",
      "mimetype": "text/x-python",
      "name": "python",
      "nbconvert_exporter": "python",
      "pygments_lexer": "ipython3",
      "version": "3.9.12"
    },
    "colab": {
      "provenance": [],
      "toc_visible": true,
      "include_colab_link": true
    },
    "widgets": {
      "application/vnd.jupyter.widget-state+json": {
        "21c8344b4a9f4a928f9a61cf10e02f3c": {
          "model_module": "@jupyter-widgets/controls",
          "model_name": "HBoxModel",
          "model_module_version": "1.5.0",
          "state": {
            "_dom_classes": [],
            "_model_module": "@jupyter-widgets/controls",
            "_model_module_version": "1.5.0",
            "_model_name": "HBoxModel",
            "_view_count": null,
            "_view_module": "@jupyter-widgets/controls",
            "_view_module_version": "1.5.0",
            "_view_name": "HBoxView",
            "box_style": "",
            "children": [
              "IPY_MODEL_61e7e00b24694102a177d24ffe07cdeb",
              "IPY_MODEL_a4e1d6092a7a442a988b2397b7ffcd22",
              "IPY_MODEL_b20a762223cd46aba8a8aae4ee24d1f6"
            ],
            "layout": "IPY_MODEL_d1706b0b9f8d45ff99224bfab7b8abe2"
          }
        },
        "61e7e00b24694102a177d24ffe07cdeb": {
          "model_module": "@jupyter-widgets/controls",
          "model_name": "HTMLModel",
          "model_module_version": "1.5.0",
          "state": {
            "_dom_classes": [],
            "_model_module": "@jupyter-widgets/controls",
            "_model_module_version": "1.5.0",
            "_model_name": "HTMLModel",
            "_view_count": null,
            "_view_module": "@jupyter-widgets/controls",
            "_view_module_version": "1.5.0",
            "_view_name": "HTMLView",
            "description": "",
            "description_tooltip": null,
            "layout": "IPY_MODEL_1d8623967947418bbd75ae638854ef12",
            "placeholder": "​",
            "style": "IPY_MODEL_1520978bea234cba81d63e156a04da4b",
            "value": "100%"
          }
        },
        "a4e1d6092a7a442a988b2397b7ffcd22": {
          "model_module": "@jupyter-widgets/controls",
          "model_name": "FloatProgressModel",
          "model_module_version": "1.5.0",
          "state": {
            "_dom_classes": [],
            "_model_module": "@jupyter-widgets/controls",
            "_model_module_version": "1.5.0",
            "_model_name": "FloatProgressModel",
            "_view_count": null,
            "_view_module": "@jupyter-widgets/controls",
            "_view_module_version": "1.5.0",
            "_view_name": "ProgressView",
            "bar_style": "success",
            "description": "",
            "description_tooltip": null,
            "layout": "IPY_MODEL_dcfc296d931d461b888f42c5fcc7b08a",
            "max": 300,
            "min": 0,
            "orientation": "horizontal",
            "style": "IPY_MODEL_13232e01c5ec4c6686c4e3a785860b82",
            "value": 300
          }
        },
        "b20a762223cd46aba8a8aae4ee24d1f6": {
          "model_module": "@jupyter-widgets/controls",
          "model_name": "HTMLModel",
          "model_module_version": "1.5.0",
          "state": {
            "_dom_classes": [],
            "_model_module": "@jupyter-widgets/controls",
            "_model_module_version": "1.5.0",
            "_model_name": "HTMLModel",
            "_view_count": null,
            "_view_module": "@jupyter-widgets/controls",
            "_view_module_version": "1.5.0",
            "_view_name": "HTMLView",
            "description": "",
            "description_tooltip": null,
            "layout": "IPY_MODEL_1ae15cf3e0d54ea0ad8f279a8b4d463d",
            "placeholder": "​",
            "style": "IPY_MODEL_e95d121509b34c4bbca837b457d913f7",
            "value": " 300/300 [00:00&lt;00:00, 823.26it/s]"
          }
        },
        "d1706b0b9f8d45ff99224bfab7b8abe2": {
          "model_module": "@jupyter-widgets/base",
          "model_name": "LayoutModel",
          "model_module_version": "1.2.0",
          "state": {
            "_model_module": "@jupyter-widgets/base",
            "_model_module_version": "1.2.0",
            "_model_name": "LayoutModel",
            "_view_count": null,
            "_view_module": "@jupyter-widgets/base",
            "_view_module_version": "1.2.0",
            "_view_name": "LayoutView",
            "align_content": null,
            "align_items": null,
            "align_self": null,
            "border": null,
            "bottom": null,
            "display": null,
            "flex": null,
            "flex_flow": null,
            "grid_area": null,
            "grid_auto_columns": null,
            "grid_auto_flow": null,
            "grid_auto_rows": null,
            "grid_column": null,
            "grid_gap": null,
            "grid_row": null,
            "grid_template_areas": null,
            "grid_template_columns": null,
            "grid_template_rows": null,
            "height": null,
            "justify_content": null,
            "justify_items": null,
            "left": null,
            "margin": null,
            "max_height": null,
            "max_width": null,
            "min_height": null,
            "min_width": null,
            "object_fit": null,
            "object_position": null,
            "order": null,
            "overflow": null,
            "overflow_x": null,
            "overflow_y": null,
            "padding": null,
            "right": null,
            "top": null,
            "visibility": null,
            "width": null
          }
        },
        "1d8623967947418bbd75ae638854ef12": {
          "model_module": "@jupyter-widgets/base",
          "model_name": "LayoutModel",
          "model_module_version": "1.2.0",
          "state": {
            "_model_module": "@jupyter-widgets/base",
            "_model_module_version": "1.2.0",
            "_model_name": "LayoutModel",
            "_view_count": null,
            "_view_module": "@jupyter-widgets/base",
            "_view_module_version": "1.2.0",
            "_view_name": "LayoutView",
            "align_content": null,
            "align_items": null,
            "align_self": null,
            "border": null,
            "bottom": null,
            "display": null,
            "flex": null,
            "flex_flow": null,
            "grid_area": null,
            "grid_auto_columns": null,
            "grid_auto_flow": null,
            "grid_auto_rows": null,
            "grid_column": null,
            "grid_gap": null,
            "grid_row": null,
            "grid_template_areas": null,
            "grid_template_columns": null,
            "grid_template_rows": null,
            "height": null,
            "justify_content": null,
            "justify_items": null,
            "left": null,
            "margin": null,
            "max_height": null,
            "max_width": null,
            "min_height": null,
            "min_width": null,
            "object_fit": null,
            "object_position": null,
            "order": null,
            "overflow": null,
            "overflow_x": null,
            "overflow_y": null,
            "padding": null,
            "right": null,
            "top": null,
            "visibility": null,
            "width": null
          }
        },
        "1520978bea234cba81d63e156a04da4b": {
          "model_module": "@jupyter-widgets/controls",
          "model_name": "DescriptionStyleModel",
          "model_module_version": "1.5.0",
          "state": {
            "_model_module": "@jupyter-widgets/controls",
            "_model_module_version": "1.5.0",
            "_model_name": "DescriptionStyleModel",
            "_view_count": null,
            "_view_module": "@jupyter-widgets/base",
            "_view_module_version": "1.2.0",
            "_view_name": "StyleView",
            "description_width": ""
          }
        },
        "dcfc296d931d461b888f42c5fcc7b08a": {
          "model_module": "@jupyter-widgets/base",
          "model_name": "LayoutModel",
          "model_module_version": "1.2.0",
          "state": {
            "_model_module": "@jupyter-widgets/base",
            "_model_module_version": "1.2.0",
            "_model_name": "LayoutModel",
            "_view_count": null,
            "_view_module": "@jupyter-widgets/base",
            "_view_module_version": "1.2.0",
            "_view_name": "LayoutView",
            "align_content": null,
            "align_items": null,
            "align_self": null,
            "border": null,
            "bottom": null,
            "display": null,
            "flex": null,
            "flex_flow": null,
            "grid_area": null,
            "grid_auto_columns": null,
            "grid_auto_flow": null,
            "grid_auto_rows": null,
            "grid_column": null,
            "grid_gap": null,
            "grid_row": null,
            "grid_template_areas": null,
            "grid_template_columns": null,
            "grid_template_rows": null,
            "height": null,
            "justify_content": null,
            "justify_items": null,
            "left": null,
            "margin": null,
            "max_height": null,
            "max_width": null,
            "min_height": null,
            "min_width": null,
            "object_fit": null,
            "object_position": null,
            "order": null,
            "overflow": null,
            "overflow_x": null,
            "overflow_y": null,
            "padding": null,
            "right": null,
            "top": null,
            "visibility": null,
            "width": null
          }
        },
        "13232e01c5ec4c6686c4e3a785860b82": {
          "model_module": "@jupyter-widgets/controls",
          "model_name": "ProgressStyleModel",
          "model_module_version": "1.5.0",
          "state": {
            "_model_module": "@jupyter-widgets/controls",
            "_model_module_version": "1.5.0",
            "_model_name": "ProgressStyleModel",
            "_view_count": null,
            "_view_module": "@jupyter-widgets/base",
            "_view_module_version": "1.2.0",
            "_view_name": "StyleView",
            "bar_color": null,
            "description_width": ""
          }
        },
        "1ae15cf3e0d54ea0ad8f279a8b4d463d": {
          "model_module": "@jupyter-widgets/base",
          "model_name": "LayoutModel",
          "model_module_version": "1.2.0",
          "state": {
            "_model_module": "@jupyter-widgets/base",
            "_model_module_version": "1.2.0",
            "_model_name": "LayoutModel",
            "_view_count": null,
            "_view_module": "@jupyter-widgets/base",
            "_view_module_version": "1.2.0",
            "_view_name": "LayoutView",
            "align_content": null,
            "align_items": null,
            "align_self": null,
            "border": null,
            "bottom": null,
            "display": null,
            "flex": null,
            "flex_flow": null,
            "grid_area": null,
            "grid_auto_columns": null,
            "grid_auto_flow": null,
            "grid_auto_rows": null,
            "grid_column": null,
            "grid_gap": null,
            "grid_row": null,
            "grid_template_areas": null,
            "grid_template_columns": null,
            "grid_template_rows": null,
            "height": null,
            "justify_content": null,
            "justify_items": null,
            "left": null,
            "margin": null,
            "max_height": null,
            "max_width": null,
            "min_height": null,
            "min_width": null,
            "object_fit": null,
            "object_position": null,
            "order": null,
            "overflow": null,
            "overflow_x": null,
            "overflow_y": null,
            "padding": null,
            "right": null,
            "top": null,
            "visibility": null,
            "width": null
          }
        },
        "e95d121509b34c4bbca837b457d913f7": {
          "model_module": "@jupyter-widgets/controls",
          "model_name": "DescriptionStyleModel",
          "model_module_version": "1.5.0",
          "state": {
            "_model_module": "@jupyter-widgets/controls",
            "_model_module_version": "1.5.0",
            "_model_name": "DescriptionStyleModel",
            "_view_count": null,
            "_view_module": "@jupyter-widgets/base",
            "_view_module_version": "1.2.0",
            "_view_name": "StyleView",
            "description_width": ""
          }
        },
        "25847554c0444057b500e86a2b84980d": {
          "model_module": "@jupyter-widgets/controls",
          "model_name": "HBoxModel",
          "model_module_version": "1.5.0",
          "state": {
            "_dom_classes": [],
            "_model_module": "@jupyter-widgets/controls",
            "_model_module_version": "1.5.0",
            "_model_name": "HBoxModel",
            "_view_count": null,
            "_view_module": "@jupyter-widgets/controls",
            "_view_module_version": "1.5.0",
            "_view_name": "HBoxView",
            "box_style": "",
            "children": [
              "IPY_MODEL_292f00f72e1a41c394399d1b3d10b97e",
              "IPY_MODEL_6686a9dddb0e4d49ade86f7bfa1c5ecf",
              "IPY_MODEL_9df1c5b587ad4760bdb2cf2451dc5623"
            ],
            "layout": "IPY_MODEL_42e7d0a00113463db90e6573b7a591df"
          }
        },
        "292f00f72e1a41c394399d1b3d10b97e": {
          "model_module": "@jupyter-widgets/controls",
          "model_name": "HTMLModel",
          "model_module_version": "1.5.0",
          "state": {
            "_dom_classes": [],
            "_model_module": "@jupyter-widgets/controls",
            "_model_module_version": "1.5.0",
            "_model_name": "HTMLModel",
            "_view_count": null,
            "_view_module": "@jupyter-widgets/controls",
            "_view_module_version": "1.5.0",
            "_view_name": "HTMLView",
            "description": "",
            "description_tooltip": null,
            "layout": "IPY_MODEL_e1e3b981395c4588853276e70b0c08c4",
            "placeholder": "​",
            "style": "IPY_MODEL_d69440e110394e30a695898a37596887",
            "value": "100%"
          }
        },
        "6686a9dddb0e4d49ade86f7bfa1c5ecf": {
          "model_module": "@jupyter-widgets/controls",
          "model_name": "FloatProgressModel",
          "model_module_version": "1.5.0",
          "state": {
            "_dom_classes": [],
            "_model_module": "@jupyter-widgets/controls",
            "_model_module_version": "1.5.0",
            "_model_name": "FloatProgressModel",
            "_view_count": null,
            "_view_module": "@jupyter-widgets/controls",
            "_view_module_version": "1.5.0",
            "_view_name": "ProgressView",
            "bar_style": "success",
            "description": "",
            "description_tooltip": null,
            "layout": "IPY_MODEL_959bc3a7deca4f219038fe86bbbbf13f",
            "max": 300,
            "min": 0,
            "orientation": "horizontal",
            "style": "IPY_MODEL_c6ad236acf6d4b688d0299a4cbc9ce1e",
            "value": 300
          }
        },
        "9df1c5b587ad4760bdb2cf2451dc5623": {
          "model_module": "@jupyter-widgets/controls",
          "model_name": "HTMLModel",
          "model_module_version": "1.5.0",
          "state": {
            "_dom_classes": [],
            "_model_module": "@jupyter-widgets/controls",
            "_model_module_version": "1.5.0",
            "_model_name": "HTMLModel",
            "_view_count": null,
            "_view_module": "@jupyter-widgets/controls",
            "_view_module_version": "1.5.0",
            "_view_name": "HTMLView",
            "description": "",
            "description_tooltip": null,
            "layout": "IPY_MODEL_f603a1062e714c1182834f3b34ee944f",
            "placeholder": "​",
            "style": "IPY_MODEL_c85fc6efda3d4fcd85c3c210d327f620",
            "value": " 300/300 [06:18&lt;00:00,  1.29s/it]"
          }
        },
        "42e7d0a00113463db90e6573b7a591df": {
          "model_module": "@jupyter-widgets/base",
          "model_name": "LayoutModel",
          "model_module_version": "1.2.0",
          "state": {
            "_model_module": "@jupyter-widgets/base",
            "_model_module_version": "1.2.0",
            "_model_name": "LayoutModel",
            "_view_count": null,
            "_view_module": "@jupyter-widgets/base",
            "_view_module_version": "1.2.0",
            "_view_name": "LayoutView",
            "align_content": null,
            "align_items": null,
            "align_self": null,
            "border": null,
            "bottom": null,
            "display": null,
            "flex": null,
            "flex_flow": null,
            "grid_area": null,
            "grid_auto_columns": null,
            "grid_auto_flow": null,
            "grid_auto_rows": null,
            "grid_column": null,
            "grid_gap": null,
            "grid_row": null,
            "grid_template_areas": null,
            "grid_template_columns": null,
            "grid_template_rows": null,
            "height": null,
            "justify_content": null,
            "justify_items": null,
            "left": null,
            "margin": null,
            "max_height": null,
            "max_width": null,
            "min_height": null,
            "min_width": null,
            "object_fit": null,
            "object_position": null,
            "order": null,
            "overflow": null,
            "overflow_x": null,
            "overflow_y": null,
            "padding": null,
            "right": null,
            "top": null,
            "visibility": null,
            "width": null
          }
        },
        "e1e3b981395c4588853276e70b0c08c4": {
          "model_module": "@jupyter-widgets/base",
          "model_name": "LayoutModel",
          "model_module_version": "1.2.0",
          "state": {
            "_model_module": "@jupyter-widgets/base",
            "_model_module_version": "1.2.0",
            "_model_name": "LayoutModel",
            "_view_count": null,
            "_view_module": "@jupyter-widgets/base",
            "_view_module_version": "1.2.0",
            "_view_name": "LayoutView",
            "align_content": null,
            "align_items": null,
            "align_self": null,
            "border": null,
            "bottom": null,
            "display": null,
            "flex": null,
            "flex_flow": null,
            "grid_area": null,
            "grid_auto_columns": null,
            "grid_auto_flow": null,
            "grid_auto_rows": null,
            "grid_column": null,
            "grid_gap": null,
            "grid_row": null,
            "grid_template_areas": null,
            "grid_template_columns": null,
            "grid_template_rows": null,
            "height": null,
            "justify_content": null,
            "justify_items": null,
            "left": null,
            "margin": null,
            "max_height": null,
            "max_width": null,
            "min_height": null,
            "min_width": null,
            "object_fit": null,
            "object_position": null,
            "order": null,
            "overflow": null,
            "overflow_x": null,
            "overflow_y": null,
            "padding": null,
            "right": null,
            "top": null,
            "visibility": null,
            "width": null
          }
        },
        "d69440e110394e30a695898a37596887": {
          "model_module": "@jupyter-widgets/controls",
          "model_name": "DescriptionStyleModel",
          "model_module_version": "1.5.0",
          "state": {
            "_model_module": "@jupyter-widgets/controls",
            "_model_module_version": "1.5.0",
            "_model_name": "DescriptionStyleModel",
            "_view_count": null,
            "_view_module": "@jupyter-widgets/base",
            "_view_module_version": "1.2.0",
            "_view_name": "StyleView",
            "description_width": ""
          }
        },
        "959bc3a7deca4f219038fe86bbbbf13f": {
          "model_module": "@jupyter-widgets/base",
          "model_name": "LayoutModel",
          "model_module_version": "1.2.0",
          "state": {
            "_model_module": "@jupyter-widgets/base",
            "_model_module_version": "1.2.0",
            "_model_name": "LayoutModel",
            "_view_count": null,
            "_view_module": "@jupyter-widgets/base",
            "_view_module_version": "1.2.0",
            "_view_name": "LayoutView",
            "align_content": null,
            "align_items": null,
            "align_self": null,
            "border": null,
            "bottom": null,
            "display": null,
            "flex": null,
            "flex_flow": null,
            "grid_area": null,
            "grid_auto_columns": null,
            "grid_auto_flow": null,
            "grid_auto_rows": null,
            "grid_column": null,
            "grid_gap": null,
            "grid_row": null,
            "grid_template_areas": null,
            "grid_template_columns": null,
            "grid_template_rows": null,
            "height": null,
            "justify_content": null,
            "justify_items": null,
            "left": null,
            "margin": null,
            "max_height": null,
            "max_width": null,
            "min_height": null,
            "min_width": null,
            "object_fit": null,
            "object_position": null,
            "order": null,
            "overflow": null,
            "overflow_x": null,
            "overflow_y": null,
            "padding": null,
            "right": null,
            "top": null,
            "visibility": null,
            "width": null
          }
        },
        "c6ad236acf6d4b688d0299a4cbc9ce1e": {
          "model_module": "@jupyter-widgets/controls",
          "model_name": "ProgressStyleModel",
          "model_module_version": "1.5.0",
          "state": {
            "_model_module": "@jupyter-widgets/controls",
            "_model_module_version": "1.5.0",
            "_model_name": "ProgressStyleModel",
            "_view_count": null,
            "_view_module": "@jupyter-widgets/base",
            "_view_module_version": "1.2.0",
            "_view_name": "StyleView",
            "bar_color": null,
            "description_width": ""
          }
        },
        "f603a1062e714c1182834f3b34ee944f": {
          "model_module": "@jupyter-widgets/base",
          "model_name": "LayoutModel",
          "model_module_version": "1.2.0",
          "state": {
            "_model_module": "@jupyter-widgets/base",
            "_model_module_version": "1.2.0",
            "_model_name": "LayoutModel",
            "_view_count": null,
            "_view_module": "@jupyter-widgets/base",
            "_view_module_version": "1.2.0",
            "_view_name": "LayoutView",
            "align_content": null,
            "align_items": null,
            "align_self": null,
            "border": null,
            "bottom": null,
            "display": null,
            "flex": null,
            "flex_flow": null,
            "grid_area": null,
            "grid_auto_columns": null,
            "grid_auto_flow": null,
            "grid_auto_rows": null,
            "grid_column": null,
            "grid_gap": null,
            "grid_row": null,
            "grid_template_areas": null,
            "grid_template_columns": null,
            "grid_template_rows": null,
            "height": null,
            "justify_content": null,
            "justify_items": null,
            "left": null,
            "margin": null,
            "max_height": null,
            "max_width": null,
            "min_height": null,
            "min_width": null,
            "object_fit": null,
            "object_position": null,
            "order": null,
            "overflow": null,
            "overflow_x": null,
            "overflow_y": null,
            "padding": null,
            "right": null,
            "top": null,
            "visibility": null,
            "width": null
          }
        },
        "c85fc6efda3d4fcd85c3c210d327f620": {
          "model_module": "@jupyter-widgets/controls",
          "model_name": "DescriptionStyleModel",
          "model_module_version": "1.5.0",
          "state": {
            "_model_module": "@jupyter-widgets/controls",
            "_model_module_version": "1.5.0",
            "_model_name": "DescriptionStyleModel",
            "_view_count": null,
            "_view_module": "@jupyter-widgets/base",
            "_view_module_version": "1.2.0",
            "_view_name": "StyleView",
            "description_width": ""
          }
        },
        "ba41e8371ac74f7f8e2b7621610d9aad": {
          "model_module": "@jupyter-widgets/controls",
          "model_name": "HBoxModel",
          "model_module_version": "1.5.0",
          "state": {
            "_dom_classes": [],
            "_model_module": "@jupyter-widgets/controls",
            "_model_module_version": "1.5.0",
            "_model_name": "HBoxModel",
            "_view_count": null,
            "_view_module": "@jupyter-widgets/controls",
            "_view_module_version": "1.5.0",
            "_view_name": "HBoxView",
            "box_style": "",
            "children": [
              "IPY_MODEL_bec21927fe8b44ada6972531192635ea",
              "IPY_MODEL_8bfb3292838f49b2af47d2ad8f39639f",
              "IPY_MODEL_7227646651784b19b2282430cb435d74"
            ],
            "layout": "IPY_MODEL_4b9f7007d3744a999676552cdd5564e8"
          }
        },
        "bec21927fe8b44ada6972531192635ea": {
          "model_module": "@jupyter-widgets/controls",
          "model_name": "HTMLModel",
          "model_module_version": "1.5.0",
          "state": {
            "_dom_classes": [],
            "_model_module": "@jupyter-widgets/controls",
            "_model_module_version": "1.5.0",
            "_model_name": "HTMLModel",
            "_view_count": null,
            "_view_module": "@jupyter-widgets/controls",
            "_view_module_version": "1.5.0",
            "_view_name": "HTMLView",
            "description": "",
            "description_tooltip": null,
            "layout": "IPY_MODEL_c9bf51a1b83047139f0f739ac974a247",
            "placeholder": "​",
            "style": "IPY_MODEL_6d5f65484e04434baaaaf994e06e45b8",
            "value": "Downloading (…)lve/main/config.json: 100%"
          }
        },
        "8bfb3292838f49b2af47d2ad8f39639f": {
          "model_module": "@jupyter-widgets/controls",
          "model_name": "FloatProgressModel",
          "model_module_version": "1.5.0",
          "state": {
            "_dom_classes": [],
            "_model_module": "@jupyter-widgets/controls",
            "_model_module_version": "1.5.0",
            "_model_name": "FloatProgressModel",
            "_view_count": null,
            "_view_module": "@jupyter-widgets/controls",
            "_view_module_version": "1.5.0",
            "_view_name": "ProgressView",
            "bar_style": "success",
            "description": "",
            "description_tooltip": null,
            "layout": "IPY_MODEL_7df4e7d6d6e04dcc85f7fa6f6b750bdd",
            "max": 929,
            "min": 0,
            "orientation": "horizontal",
            "style": "IPY_MODEL_31fab3f602c34cda9cee8f774b1e5aea",
            "value": 929
          }
        },
        "7227646651784b19b2282430cb435d74": {
          "model_module": "@jupyter-widgets/controls",
          "model_name": "HTMLModel",
          "model_module_version": "1.5.0",
          "state": {
            "_dom_classes": [],
            "_model_module": "@jupyter-widgets/controls",
            "_model_module_version": "1.5.0",
            "_model_name": "HTMLModel",
            "_view_count": null,
            "_view_module": "@jupyter-widgets/controls",
            "_view_module_version": "1.5.0",
            "_view_name": "HTMLView",
            "description": "",
            "description_tooltip": null,
            "layout": "IPY_MODEL_3f32a59e4e5c4a3eacc6a4bbd85a99b6",
            "placeholder": "​",
            "style": "IPY_MODEL_98f0a9039df04d94b91538bdc3a6bc84",
            "value": " 929/929 [00:00&lt;00:00, 8.27kB/s]"
          }
        },
        "4b9f7007d3744a999676552cdd5564e8": {
          "model_module": "@jupyter-widgets/base",
          "model_name": "LayoutModel",
          "model_module_version": "1.2.0",
          "state": {
            "_model_module": "@jupyter-widgets/base",
            "_model_module_version": "1.2.0",
            "_model_name": "LayoutModel",
            "_view_count": null,
            "_view_module": "@jupyter-widgets/base",
            "_view_module_version": "1.2.0",
            "_view_name": "LayoutView",
            "align_content": null,
            "align_items": null,
            "align_self": null,
            "border": null,
            "bottom": null,
            "display": null,
            "flex": null,
            "flex_flow": null,
            "grid_area": null,
            "grid_auto_columns": null,
            "grid_auto_flow": null,
            "grid_auto_rows": null,
            "grid_column": null,
            "grid_gap": null,
            "grid_row": null,
            "grid_template_areas": null,
            "grid_template_columns": null,
            "grid_template_rows": null,
            "height": null,
            "justify_content": null,
            "justify_items": null,
            "left": null,
            "margin": null,
            "max_height": null,
            "max_width": null,
            "min_height": null,
            "min_width": null,
            "object_fit": null,
            "object_position": null,
            "order": null,
            "overflow": null,
            "overflow_x": null,
            "overflow_y": null,
            "padding": null,
            "right": null,
            "top": null,
            "visibility": null,
            "width": null
          }
        },
        "c9bf51a1b83047139f0f739ac974a247": {
          "model_module": "@jupyter-widgets/base",
          "model_name": "LayoutModel",
          "model_module_version": "1.2.0",
          "state": {
            "_model_module": "@jupyter-widgets/base",
            "_model_module_version": "1.2.0",
            "_model_name": "LayoutModel",
            "_view_count": null,
            "_view_module": "@jupyter-widgets/base",
            "_view_module_version": "1.2.0",
            "_view_name": "LayoutView",
            "align_content": null,
            "align_items": null,
            "align_self": null,
            "border": null,
            "bottom": null,
            "display": null,
            "flex": null,
            "flex_flow": null,
            "grid_area": null,
            "grid_auto_columns": null,
            "grid_auto_flow": null,
            "grid_auto_rows": null,
            "grid_column": null,
            "grid_gap": null,
            "grid_row": null,
            "grid_template_areas": null,
            "grid_template_columns": null,
            "grid_template_rows": null,
            "height": null,
            "justify_content": null,
            "justify_items": null,
            "left": null,
            "margin": null,
            "max_height": null,
            "max_width": null,
            "min_height": null,
            "min_width": null,
            "object_fit": null,
            "object_position": null,
            "order": null,
            "overflow": null,
            "overflow_x": null,
            "overflow_y": null,
            "padding": null,
            "right": null,
            "top": null,
            "visibility": null,
            "width": null
          }
        },
        "6d5f65484e04434baaaaf994e06e45b8": {
          "model_module": "@jupyter-widgets/controls",
          "model_name": "DescriptionStyleModel",
          "model_module_version": "1.5.0",
          "state": {
            "_model_module": "@jupyter-widgets/controls",
            "_model_module_version": "1.5.0",
            "_model_name": "DescriptionStyleModel",
            "_view_count": null,
            "_view_module": "@jupyter-widgets/base",
            "_view_module_version": "1.2.0",
            "_view_name": "StyleView",
            "description_width": ""
          }
        },
        "7df4e7d6d6e04dcc85f7fa6f6b750bdd": {
          "model_module": "@jupyter-widgets/base",
          "model_name": "LayoutModel",
          "model_module_version": "1.2.0",
          "state": {
            "_model_module": "@jupyter-widgets/base",
            "_model_module_version": "1.2.0",
            "_model_name": "LayoutModel",
            "_view_count": null,
            "_view_module": "@jupyter-widgets/base",
            "_view_module_version": "1.2.0",
            "_view_name": "LayoutView",
            "align_content": null,
            "align_items": null,
            "align_self": null,
            "border": null,
            "bottom": null,
            "display": null,
            "flex": null,
            "flex_flow": null,
            "grid_area": null,
            "grid_auto_columns": null,
            "grid_auto_flow": null,
            "grid_auto_rows": null,
            "grid_column": null,
            "grid_gap": null,
            "grid_row": null,
            "grid_template_areas": null,
            "grid_template_columns": null,
            "grid_template_rows": null,
            "height": null,
            "justify_content": null,
            "justify_items": null,
            "left": null,
            "margin": null,
            "max_height": null,
            "max_width": null,
            "min_height": null,
            "min_width": null,
            "object_fit": null,
            "object_position": null,
            "order": null,
            "overflow": null,
            "overflow_x": null,
            "overflow_y": null,
            "padding": null,
            "right": null,
            "top": null,
            "visibility": null,
            "width": null
          }
        },
        "31fab3f602c34cda9cee8f774b1e5aea": {
          "model_module": "@jupyter-widgets/controls",
          "model_name": "ProgressStyleModel",
          "model_module_version": "1.5.0",
          "state": {
            "_model_module": "@jupyter-widgets/controls",
            "_model_module_version": "1.5.0",
            "_model_name": "ProgressStyleModel",
            "_view_count": null,
            "_view_module": "@jupyter-widgets/base",
            "_view_module_version": "1.2.0",
            "_view_name": "StyleView",
            "bar_color": null,
            "description_width": ""
          }
        },
        "3f32a59e4e5c4a3eacc6a4bbd85a99b6": {
          "model_module": "@jupyter-widgets/base",
          "model_name": "LayoutModel",
          "model_module_version": "1.2.0",
          "state": {
            "_model_module": "@jupyter-widgets/base",
            "_model_module_version": "1.2.0",
            "_model_name": "LayoutModel",
            "_view_count": null,
            "_view_module": "@jupyter-widgets/base",
            "_view_module_version": "1.2.0",
            "_view_name": "LayoutView",
            "align_content": null,
            "align_items": null,
            "align_self": null,
            "border": null,
            "bottom": null,
            "display": null,
            "flex": null,
            "flex_flow": null,
            "grid_area": null,
            "grid_auto_columns": null,
            "grid_auto_flow": null,
            "grid_auto_rows": null,
            "grid_column": null,
            "grid_gap": null,
            "grid_row": null,
            "grid_template_areas": null,
            "grid_template_columns": null,
            "grid_template_rows": null,
            "height": null,
            "justify_content": null,
            "justify_items": null,
            "left": null,
            "margin": null,
            "max_height": null,
            "max_width": null,
            "min_height": null,
            "min_width": null,
            "object_fit": null,
            "object_position": null,
            "order": null,
            "overflow": null,
            "overflow_x": null,
            "overflow_y": null,
            "padding": null,
            "right": null,
            "top": null,
            "visibility": null,
            "width": null
          }
        },
        "98f0a9039df04d94b91538bdc3a6bc84": {
          "model_module": "@jupyter-widgets/controls",
          "model_name": "DescriptionStyleModel",
          "model_module_version": "1.5.0",
          "state": {
            "_model_module": "@jupyter-widgets/controls",
            "_model_module_version": "1.5.0",
            "_model_name": "DescriptionStyleModel",
            "_view_count": null,
            "_view_module": "@jupyter-widgets/base",
            "_view_module_version": "1.2.0",
            "_view_name": "StyleView",
            "description_width": ""
          }
        },
        "dd733504fac749c3b46c1c6d2c13d76c": {
          "model_module": "@jupyter-widgets/controls",
          "model_name": "HBoxModel",
          "model_module_version": "1.5.0",
          "state": {
            "_dom_classes": [],
            "_model_module": "@jupyter-widgets/controls",
            "_model_module_version": "1.5.0",
            "_model_name": "HBoxModel",
            "_view_count": null,
            "_view_module": "@jupyter-widgets/controls",
            "_view_module_version": "1.5.0",
            "_view_name": "HBoxView",
            "box_style": "",
            "children": [
              "IPY_MODEL_2bcf69798c1c4c5499321a27763a8233",
              "IPY_MODEL_bb4c80a12ca048548a726f261dcc7c65",
              "IPY_MODEL_694647dd5bfd43ce85eb8e9c190d9d36"
            ],
            "layout": "IPY_MODEL_f74bb267f6da4da59671a87e0a3cfbe2"
          }
        },
        "2bcf69798c1c4c5499321a27763a8233": {
          "model_module": "@jupyter-widgets/controls",
          "model_name": "HTMLModel",
          "model_module_version": "1.5.0",
          "state": {
            "_dom_classes": [],
            "_model_module": "@jupyter-widgets/controls",
            "_model_module_version": "1.5.0",
            "_model_name": "HTMLModel",
            "_view_count": null,
            "_view_module": "@jupyter-widgets/controls",
            "_view_module_version": "1.5.0",
            "_view_name": "HTMLView",
            "description": "",
            "description_tooltip": null,
            "layout": "IPY_MODEL_5423d3f4c42b4233bdea8ecf2a06dfe8",
            "placeholder": "​",
            "style": "IPY_MODEL_404506654c464d25a82ceb36784dd987",
            "value": "Downloading (…)olve/main/vocab.json: 100%"
          }
        },
        "bb4c80a12ca048548a726f261dcc7c65": {
          "model_module": "@jupyter-widgets/controls",
          "model_name": "FloatProgressModel",
          "model_module_version": "1.5.0",
          "state": {
            "_dom_classes": [],
            "_model_module": "@jupyter-widgets/controls",
            "_model_module_version": "1.5.0",
            "_model_name": "FloatProgressModel",
            "_view_count": null,
            "_view_module": "@jupyter-widgets/controls",
            "_view_module_version": "1.5.0",
            "_view_name": "ProgressView",
            "bar_style": "success",
            "description": "",
            "description_tooltip": null,
            "layout": "IPY_MODEL_c5f9c884c83d4bbc9816b6ed4dfe3525",
            "max": 898822,
            "min": 0,
            "orientation": "horizontal",
            "style": "IPY_MODEL_d849408a5ae1436e854821c68e091e7c",
            "value": 898822
          }
        },
        "694647dd5bfd43ce85eb8e9c190d9d36": {
          "model_module": "@jupyter-widgets/controls",
          "model_name": "HTMLModel",
          "model_module_version": "1.5.0",
          "state": {
            "_dom_classes": [],
            "_model_module": "@jupyter-widgets/controls",
            "_model_module_version": "1.5.0",
            "_model_name": "HTMLModel",
            "_view_count": null,
            "_view_module": "@jupyter-widgets/controls",
            "_view_module_version": "1.5.0",
            "_view_name": "HTMLView",
            "description": "",
            "description_tooltip": null,
            "layout": "IPY_MODEL_9309fbc5b4ef421dabaaae21dc838df9",
            "placeholder": "​",
            "style": "IPY_MODEL_1cce74e80eb144bb80a3ea2543a7f52a",
            "value": " 899k/899k [00:00&lt;00:00, 5.69MB/s]"
          }
        },
        "f74bb267f6da4da59671a87e0a3cfbe2": {
          "model_module": "@jupyter-widgets/base",
          "model_name": "LayoutModel",
          "model_module_version": "1.2.0",
          "state": {
            "_model_module": "@jupyter-widgets/base",
            "_model_module_version": "1.2.0",
            "_model_name": "LayoutModel",
            "_view_count": null,
            "_view_module": "@jupyter-widgets/base",
            "_view_module_version": "1.2.0",
            "_view_name": "LayoutView",
            "align_content": null,
            "align_items": null,
            "align_self": null,
            "border": null,
            "bottom": null,
            "display": null,
            "flex": null,
            "flex_flow": null,
            "grid_area": null,
            "grid_auto_columns": null,
            "grid_auto_flow": null,
            "grid_auto_rows": null,
            "grid_column": null,
            "grid_gap": null,
            "grid_row": null,
            "grid_template_areas": null,
            "grid_template_columns": null,
            "grid_template_rows": null,
            "height": null,
            "justify_content": null,
            "justify_items": null,
            "left": null,
            "margin": null,
            "max_height": null,
            "max_width": null,
            "min_height": null,
            "min_width": null,
            "object_fit": null,
            "object_position": null,
            "order": null,
            "overflow": null,
            "overflow_x": null,
            "overflow_y": null,
            "padding": null,
            "right": null,
            "top": null,
            "visibility": null,
            "width": null
          }
        },
        "5423d3f4c42b4233bdea8ecf2a06dfe8": {
          "model_module": "@jupyter-widgets/base",
          "model_name": "LayoutModel",
          "model_module_version": "1.2.0",
          "state": {
            "_model_module": "@jupyter-widgets/base",
            "_model_module_version": "1.2.0",
            "_model_name": "LayoutModel",
            "_view_count": null,
            "_view_module": "@jupyter-widgets/base",
            "_view_module_version": "1.2.0",
            "_view_name": "LayoutView",
            "align_content": null,
            "align_items": null,
            "align_self": null,
            "border": null,
            "bottom": null,
            "display": null,
            "flex": null,
            "flex_flow": null,
            "grid_area": null,
            "grid_auto_columns": null,
            "grid_auto_flow": null,
            "grid_auto_rows": null,
            "grid_column": null,
            "grid_gap": null,
            "grid_row": null,
            "grid_template_areas": null,
            "grid_template_columns": null,
            "grid_template_rows": null,
            "height": null,
            "justify_content": null,
            "justify_items": null,
            "left": null,
            "margin": null,
            "max_height": null,
            "max_width": null,
            "min_height": null,
            "min_width": null,
            "object_fit": null,
            "object_position": null,
            "order": null,
            "overflow": null,
            "overflow_x": null,
            "overflow_y": null,
            "padding": null,
            "right": null,
            "top": null,
            "visibility": null,
            "width": null
          }
        },
        "404506654c464d25a82ceb36784dd987": {
          "model_module": "@jupyter-widgets/controls",
          "model_name": "DescriptionStyleModel",
          "model_module_version": "1.5.0",
          "state": {
            "_model_module": "@jupyter-widgets/controls",
            "_model_module_version": "1.5.0",
            "_model_name": "DescriptionStyleModel",
            "_view_count": null,
            "_view_module": "@jupyter-widgets/base",
            "_view_module_version": "1.2.0",
            "_view_name": "StyleView",
            "description_width": ""
          }
        },
        "c5f9c884c83d4bbc9816b6ed4dfe3525": {
          "model_module": "@jupyter-widgets/base",
          "model_name": "LayoutModel",
          "model_module_version": "1.2.0",
          "state": {
            "_model_module": "@jupyter-widgets/base",
            "_model_module_version": "1.2.0",
            "_model_name": "LayoutModel",
            "_view_count": null,
            "_view_module": "@jupyter-widgets/base",
            "_view_module_version": "1.2.0",
            "_view_name": "LayoutView",
            "align_content": null,
            "align_items": null,
            "align_self": null,
            "border": null,
            "bottom": null,
            "display": null,
            "flex": null,
            "flex_flow": null,
            "grid_area": null,
            "grid_auto_columns": null,
            "grid_auto_flow": null,
            "grid_auto_rows": null,
            "grid_column": null,
            "grid_gap": null,
            "grid_row": null,
            "grid_template_areas": null,
            "grid_template_columns": null,
            "grid_template_rows": null,
            "height": null,
            "justify_content": null,
            "justify_items": null,
            "left": null,
            "margin": null,
            "max_height": null,
            "max_width": null,
            "min_height": null,
            "min_width": null,
            "object_fit": null,
            "object_position": null,
            "order": null,
            "overflow": null,
            "overflow_x": null,
            "overflow_y": null,
            "padding": null,
            "right": null,
            "top": null,
            "visibility": null,
            "width": null
          }
        },
        "d849408a5ae1436e854821c68e091e7c": {
          "model_module": "@jupyter-widgets/controls",
          "model_name": "ProgressStyleModel",
          "model_module_version": "1.5.0",
          "state": {
            "_model_module": "@jupyter-widgets/controls",
            "_model_module_version": "1.5.0",
            "_model_name": "ProgressStyleModel",
            "_view_count": null,
            "_view_module": "@jupyter-widgets/base",
            "_view_module_version": "1.2.0",
            "_view_name": "StyleView",
            "bar_color": null,
            "description_width": ""
          }
        },
        "9309fbc5b4ef421dabaaae21dc838df9": {
          "model_module": "@jupyter-widgets/base",
          "model_name": "LayoutModel",
          "model_module_version": "1.2.0",
          "state": {
            "_model_module": "@jupyter-widgets/base",
            "_model_module_version": "1.2.0",
            "_model_name": "LayoutModel",
            "_view_count": null,
            "_view_module": "@jupyter-widgets/base",
            "_view_module_version": "1.2.0",
            "_view_name": "LayoutView",
            "align_content": null,
            "align_items": null,
            "align_self": null,
            "border": null,
            "bottom": null,
            "display": null,
            "flex": null,
            "flex_flow": null,
            "grid_area": null,
            "grid_auto_columns": null,
            "grid_auto_flow": null,
            "grid_auto_rows": null,
            "grid_column": null,
            "grid_gap": null,
            "grid_row": null,
            "grid_template_areas": null,
            "grid_template_columns": null,
            "grid_template_rows": null,
            "height": null,
            "justify_content": null,
            "justify_items": null,
            "left": null,
            "margin": null,
            "max_height": null,
            "max_width": null,
            "min_height": null,
            "min_width": null,
            "object_fit": null,
            "object_position": null,
            "order": null,
            "overflow": null,
            "overflow_x": null,
            "overflow_y": null,
            "padding": null,
            "right": null,
            "top": null,
            "visibility": null,
            "width": null
          }
        },
        "1cce74e80eb144bb80a3ea2543a7f52a": {
          "model_module": "@jupyter-widgets/controls",
          "model_name": "DescriptionStyleModel",
          "model_module_version": "1.5.0",
          "state": {
            "_model_module": "@jupyter-widgets/controls",
            "_model_module_version": "1.5.0",
            "_model_name": "DescriptionStyleModel",
            "_view_count": null,
            "_view_module": "@jupyter-widgets/base",
            "_view_module_version": "1.2.0",
            "_view_name": "StyleView",
            "description_width": ""
          }
        },
        "b66b6905f3fd43238fcf3c7d4d0506c4": {
          "model_module": "@jupyter-widgets/controls",
          "model_name": "HBoxModel",
          "model_module_version": "1.5.0",
          "state": {
            "_dom_classes": [],
            "_model_module": "@jupyter-widgets/controls",
            "_model_module_version": "1.5.0",
            "_model_name": "HBoxModel",
            "_view_count": null,
            "_view_module": "@jupyter-widgets/controls",
            "_view_module_version": "1.5.0",
            "_view_name": "HBoxView",
            "box_style": "",
            "children": [
              "IPY_MODEL_4f18a95956444303931caf85f97d1334",
              "IPY_MODEL_8e81ce8369914a0ba430ee6434d30195",
              "IPY_MODEL_ca6c003c07704700ba5d4d05aeee39f2"
            ],
            "layout": "IPY_MODEL_37ce17c2033b4ceab40e453b779b6339"
          }
        },
        "4f18a95956444303931caf85f97d1334": {
          "model_module": "@jupyter-widgets/controls",
          "model_name": "HTMLModel",
          "model_module_version": "1.5.0",
          "state": {
            "_dom_classes": [],
            "_model_module": "@jupyter-widgets/controls",
            "_model_module_version": "1.5.0",
            "_model_name": "HTMLModel",
            "_view_count": null,
            "_view_module": "@jupyter-widgets/controls",
            "_view_module_version": "1.5.0",
            "_view_name": "HTMLView",
            "description": "",
            "description_tooltip": null,
            "layout": "IPY_MODEL_02ebbec9c8694619a45c9dfe93f4a2d7",
            "placeholder": "​",
            "style": "IPY_MODEL_0d05eb4ad43e4574a1cf45549df7988d",
            "value": "Downloading (…)olve/main/merges.txt: 100%"
          }
        },
        "8e81ce8369914a0ba430ee6434d30195": {
          "model_module": "@jupyter-widgets/controls",
          "model_name": "FloatProgressModel",
          "model_module_version": "1.5.0",
          "state": {
            "_dom_classes": [],
            "_model_module": "@jupyter-widgets/controls",
            "_model_module_version": "1.5.0",
            "_model_name": "FloatProgressModel",
            "_view_count": null,
            "_view_module": "@jupyter-widgets/controls",
            "_view_module_version": "1.5.0",
            "_view_name": "ProgressView",
            "bar_style": "success",
            "description": "",
            "description_tooltip": null,
            "layout": "IPY_MODEL_935259f711d5415b8bfd18339504da05",
            "max": 456318,
            "min": 0,
            "orientation": "horizontal",
            "style": "IPY_MODEL_c9eae403f9b342238957946d78cb43bc",
            "value": 456318
          }
        },
        "ca6c003c07704700ba5d4d05aeee39f2": {
          "model_module": "@jupyter-widgets/controls",
          "model_name": "HTMLModel",
          "model_module_version": "1.5.0",
          "state": {
            "_dom_classes": [],
            "_model_module": "@jupyter-widgets/controls",
            "_model_module_version": "1.5.0",
            "_model_name": "HTMLModel",
            "_view_count": null,
            "_view_module": "@jupyter-widgets/controls",
            "_view_module_version": "1.5.0",
            "_view_name": "HTMLView",
            "description": "",
            "description_tooltip": null,
            "layout": "IPY_MODEL_501370a5214b40089df7ca15c6705805",
            "placeholder": "​",
            "style": "IPY_MODEL_6d8f7d3c60174adaba7d852af4eab4d9",
            "value": " 456k/456k [00:00&lt;00:00, 4.26MB/s]"
          }
        },
        "37ce17c2033b4ceab40e453b779b6339": {
          "model_module": "@jupyter-widgets/base",
          "model_name": "LayoutModel",
          "model_module_version": "1.2.0",
          "state": {
            "_model_module": "@jupyter-widgets/base",
            "_model_module_version": "1.2.0",
            "_model_name": "LayoutModel",
            "_view_count": null,
            "_view_module": "@jupyter-widgets/base",
            "_view_module_version": "1.2.0",
            "_view_name": "LayoutView",
            "align_content": null,
            "align_items": null,
            "align_self": null,
            "border": null,
            "bottom": null,
            "display": null,
            "flex": null,
            "flex_flow": null,
            "grid_area": null,
            "grid_auto_columns": null,
            "grid_auto_flow": null,
            "grid_auto_rows": null,
            "grid_column": null,
            "grid_gap": null,
            "grid_row": null,
            "grid_template_areas": null,
            "grid_template_columns": null,
            "grid_template_rows": null,
            "height": null,
            "justify_content": null,
            "justify_items": null,
            "left": null,
            "margin": null,
            "max_height": null,
            "max_width": null,
            "min_height": null,
            "min_width": null,
            "object_fit": null,
            "object_position": null,
            "order": null,
            "overflow": null,
            "overflow_x": null,
            "overflow_y": null,
            "padding": null,
            "right": null,
            "top": null,
            "visibility": null,
            "width": null
          }
        },
        "02ebbec9c8694619a45c9dfe93f4a2d7": {
          "model_module": "@jupyter-widgets/base",
          "model_name": "LayoutModel",
          "model_module_version": "1.2.0",
          "state": {
            "_model_module": "@jupyter-widgets/base",
            "_model_module_version": "1.2.0",
            "_model_name": "LayoutModel",
            "_view_count": null,
            "_view_module": "@jupyter-widgets/base",
            "_view_module_version": "1.2.0",
            "_view_name": "LayoutView",
            "align_content": null,
            "align_items": null,
            "align_self": null,
            "border": null,
            "bottom": null,
            "display": null,
            "flex": null,
            "flex_flow": null,
            "grid_area": null,
            "grid_auto_columns": null,
            "grid_auto_flow": null,
            "grid_auto_rows": null,
            "grid_column": null,
            "grid_gap": null,
            "grid_row": null,
            "grid_template_areas": null,
            "grid_template_columns": null,
            "grid_template_rows": null,
            "height": null,
            "justify_content": null,
            "justify_items": null,
            "left": null,
            "margin": null,
            "max_height": null,
            "max_width": null,
            "min_height": null,
            "min_width": null,
            "object_fit": null,
            "object_position": null,
            "order": null,
            "overflow": null,
            "overflow_x": null,
            "overflow_y": null,
            "padding": null,
            "right": null,
            "top": null,
            "visibility": null,
            "width": null
          }
        },
        "0d05eb4ad43e4574a1cf45549df7988d": {
          "model_module": "@jupyter-widgets/controls",
          "model_name": "DescriptionStyleModel",
          "model_module_version": "1.5.0",
          "state": {
            "_model_module": "@jupyter-widgets/controls",
            "_model_module_version": "1.5.0",
            "_model_name": "DescriptionStyleModel",
            "_view_count": null,
            "_view_module": "@jupyter-widgets/base",
            "_view_module_version": "1.2.0",
            "_view_name": "StyleView",
            "description_width": ""
          }
        },
        "935259f711d5415b8bfd18339504da05": {
          "model_module": "@jupyter-widgets/base",
          "model_name": "LayoutModel",
          "model_module_version": "1.2.0",
          "state": {
            "_model_module": "@jupyter-widgets/base",
            "_model_module_version": "1.2.0",
            "_model_name": "LayoutModel",
            "_view_count": null,
            "_view_module": "@jupyter-widgets/base",
            "_view_module_version": "1.2.0",
            "_view_name": "LayoutView",
            "align_content": null,
            "align_items": null,
            "align_self": null,
            "border": null,
            "bottom": null,
            "display": null,
            "flex": null,
            "flex_flow": null,
            "grid_area": null,
            "grid_auto_columns": null,
            "grid_auto_flow": null,
            "grid_auto_rows": null,
            "grid_column": null,
            "grid_gap": null,
            "grid_row": null,
            "grid_template_areas": null,
            "grid_template_columns": null,
            "grid_template_rows": null,
            "height": null,
            "justify_content": null,
            "justify_items": null,
            "left": null,
            "margin": null,
            "max_height": null,
            "max_width": null,
            "min_height": null,
            "min_width": null,
            "object_fit": null,
            "object_position": null,
            "order": null,
            "overflow": null,
            "overflow_x": null,
            "overflow_y": null,
            "padding": null,
            "right": null,
            "top": null,
            "visibility": null,
            "width": null
          }
        },
        "c9eae403f9b342238957946d78cb43bc": {
          "model_module": "@jupyter-widgets/controls",
          "model_name": "ProgressStyleModel",
          "model_module_version": "1.5.0",
          "state": {
            "_model_module": "@jupyter-widgets/controls",
            "_model_module_version": "1.5.0",
            "_model_name": "ProgressStyleModel",
            "_view_count": null,
            "_view_module": "@jupyter-widgets/base",
            "_view_module_version": "1.2.0",
            "_view_name": "StyleView",
            "bar_color": null,
            "description_width": ""
          }
        },
        "501370a5214b40089df7ca15c6705805": {
          "model_module": "@jupyter-widgets/base",
          "model_name": "LayoutModel",
          "model_module_version": "1.2.0",
          "state": {
            "_model_module": "@jupyter-widgets/base",
            "_model_module_version": "1.2.0",
            "_model_name": "LayoutModel",
            "_view_count": null,
            "_view_module": "@jupyter-widgets/base",
            "_view_module_version": "1.2.0",
            "_view_name": "LayoutView",
            "align_content": null,
            "align_items": null,
            "align_self": null,
            "border": null,
            "bottom": null,
            "display": null,
            "flex": null,
            "flex_flow": null,
            "grid_area": null,
            "grid_auto_columns": null,
            "grid_auto_flow": null,
            "grid_auto_rows": null,
            "grid_column": null,
            "grid_gap": null,
            "grid_row": null,
            "grid_template_areas": null,
            "grid_template_columns": null,
            "grid_template_rows": null,
            "height": null,
            "justify_content": null,
            "justify_items": null,
            "left": null,
            "margin": null,
            "max_height": null,
            "max_width": null,
            "min_height": null,
            "min_width": null,
            "object_fit": null,
            "object_position": null,
            "order": null,
            "overflow": null,
            "overflow_x": null,
            "overflow_y": null,
            "padding": null,
            "right": null,
            "top": null,
            "visibility": null,
            "width": null
          }
        },
        "6d8f7d3c60174adaba7d852af4eab4d9": {
          "model_module": "@jupyter-widgets/controls",
          "model_name": "DescriptionStyleModel",
          "model_module_version": "1.5.0",
          "state": {
            "_model_module": "@jupyter-widgets/controls",
            "_model_module_version": "1.5.0",
            "_model_name": "DescriptionStyleModel",
            "_view_count": null,
            "_view_module": "@jupyter-widgets/base",
            "_view_module_version": "1.2.0",
            "_view_name": "StyleView",
            "description_width": ""
          }
        },
        "7c33471e90b449948da56ffdf5897f97": {
          "model_module": "@jupyter-widgets/controls",
          "model_name": "HBoxModel",
          "model_module_version": "1.5.0",
          "state": {
            "_dom_classes": [],
            "_model_module": "@jupyter-widgets/controls",
            "_model_module_version": "1.5.0",
            "_model_name": "HBoxModel",
            "_view_count": null,
            "_view_module": "@jupyter-widgets/controls",
            "_view_module_version": "1.5.0",
            "_view_name": "HBoxView",
            "box_style": "",
            "children": [
              "IPY_MODEL_a15eb663cadd4773977236f615725559",
              "IPY_MODEL_f40f6a703f5a4525b065c1c82dbe57a5",
              "IPY_MODEL_74e61de8479540509df808e42402d6b7"
            ],
            "layout": "IPY_MODEL_7ff5c3e09a614bf59651fae5c4eb25a1"
          }
        },
        "a15eb663cadd4773977236f615725559": {
          "model_module": "@jupyter-widgets/controls",
          "model_name": "HTMLModel",
          "model_module_version": "1.5.0",
          "state": {
            "_dom_classes": [],
            "_model_module": "@jupyter-widgets/controls",
            "_model_module_version": "1.5.0",
            "_model_name": "HTMLModel",
            "_view_count": null,
            "_view_module": "@jupyter-widgets/controls",
            "_view_module_version": "1.5.0",
            "_view_name": "HTMLView",
            "description": "",
            "description_tooltip": null,
            "layout": "IPY_MODEL_20819c28a5c744f582ff8559d7a298e8",
            "placeholder": "​",
            "style": "IPY_MODEL_28ca9c481333484f89200abc0f48c74a",
            "value": "Downloading (…)cial_tokens_map.json: 100%"
          }
        },
        "f40f6a703f5a4525b065c1c82dbe57a5": {
          "model_module": "@jupyter-widgets/controls",
          "model_name": "FloatProgressModel",
          "model_module_version": "1.5.0",
          "state": {
            "_dom_classes": [],
            "_model_module": "@jupyter-widgets/controls",
            "_model_module_version": "1.5.0",
            "_model_name": "FloatProgressModel",
            "_view_count": null,
            "_view_module": "@jupyter-widgets/controls",
            "_view_module_version": "1.5.0",
            "_view_name": "ProgressView",
            "bar_style": "success",
            "description": "",
            "description_tooltip": null,
            "layout": "IPY_MODEL_3b71441cfb9142f1a2ba5292ddaefc6c",
            "max": 239,
            "min": 0,
            "orientation": "horizontal",
            "style": "IPY_MODEL_4ba776d6677c4128808ce695fd5d1706",
            "value": 239
          }
        },
        "74e61de8479540509df808e42402d6b7": {
          "model_module": "@jupyter-widgets/controls",
          "model_name": "HTMLModel",
          "model_module_version": "1.5.0",
          "state": {
            "_dom_classes": [],
            "_model_module": "@jupyter-widgets/controls",
            "_model_module_version": "1.5.0",
            "_model_name": "HTMLModel",
            "_view_count": null,
            "_view_module": "@jupyter-widgets/controls",
            "_view_module_version": "1.5.0",
            "_view_name": "HTMLView",
            "description": "",
            "description_tooltip": null,
            "layout": "IPY_MODEL_24fb99f0a7d2473ca8d40159f299b6fd",
            "placeholder": "​",
            "style": "IPY_MODEL_bdca01c8d13a4d4098ebaad5b4830e0f",
            "value": " 239/239 [00:00&lt;00:00, 9.46kB/s]"
          }
        },
        "7ff5c3e09a614bf59651fae5c4eb25a1": {
          "model_module": "@jupyter-widgets/base",
          "model_name": "LayoutModel",
          "model_module_version": "1.2.0",
          "state": {
            "_model_module": "@jupyter-widgets/base",
            "_model_module_version": "1.2.0",
            "_model_name": "LayoutModel",
            "_view_count": null,
            "_view_module": "@jupyter-widgets/base",
            "_view_module_version": "1.2.0",
            "_view_name": "LayoutView",
            "align_content": null,
            "align_items": null,
            "align_self": null,
            "border": null,
            "bottom": null,
            "display": null,
            "flex": null,
            "flex_flow": null,
            "grid_area": null,
            "grid_auto_columns": null,
            "grid_auto_flow": null,
            "grid_auto_rows": null,
            "grid_column": null,
            "grid_gap": null,
            "grid_row": null,
            "grid_template_areas": null,
            "grid_template_columns": null,
            "grid_template_rows": null,
            "height": null,
            "justify_content": null,
            "justify_items": null,
            "left": null,
            "margin": null,
            "max_height": null,
            "max_width": null,
            "min_height": null,
            "min_width": null,
            "object_fit": null,
            "object_position": null,
            "order": null,
            "overflow": null,
            "overflow_x": null,
            "overflow_y": null,
            "padding": null,
            "right": null,
            "top": null,
            "visibility": null,
            "width": null
          }
        },
        "20819c28a5c744f582ff8559d7a298e8": {
          "model_module": "@jupyter-widgets/base",
          "model_name": "LayoutModel",
          "model_module_version": "1.2.0",
          "state": {
            "_model_module": "@jupyter-widgets/base",
            "_model_module_version": "1.2.0",
            "_model_name": "LayoutModel",
            "_view_count": null,
            "_view_module": "@jupyter-widgets/base",
            "_view_module_version": "1.2.0",
            "_view_name": "LayoutView",
            "align_content": null,
            "align_items": null,
            "align_self": null,
            "border": null,
            "bottom": null,
            "display": null,
            "flex": null,
            "flex_flow": null,
            "grid_area": null,
            "grid_auto_columns": null,
            "grid_auto_flow": null,
            "grid_auto_rows": null,
            "grid_column": null,
            "grid_gap": null,
            "grid_row": null,
            "grid_template_areas": null,
            "grid_template_columns": null,
            "grid_template_rows": null,
            "height": null,
            "justify_content": null,
            "justify_items": null,
            "left": null,
            "margin": null,
            "max_height": null,
            "max_width": null,
            "min_height": null,
            "min_width": null,
            "object_fit": null,
            "object_position": null,
            "order": null,
            "overflow": null,
            "overflow_x": null,
            "overflow_y": null,
            "padding": null,
            "right": null,
            "top": null,
            "visibility": null,
            "width": null
          }
        },
        "28ca9c481333484f89200abc0f48c74a": {
          "model_module": "@jupyter-widgets/controls",
          "model_name": "DescriptionStyleModel",
          "model_module_version": "1.5.0",
          "state": {
            "_model_module": "@jupyter-widgets/controls",
            "_model_module_version": "1.5.0",
            "_model_name": "DescriptionStyleModel",
            "_view_count": null,
            "_view_module": "@jupyter-widgets/base",
            "_view_module_version": "1.2.0",
            "_view_name": "StyleView",
            "description_width": ""
          }
        },
        "3b71441cfb9142f1a2ba5292ddaefc6c": {
          "model_module": "@jupyter-widgets/base",
          "model_name": "LayoutModel",
          "model_module_version": "1.2.0",
          "state": {
            "_model_module": "@jupyter-widgets/base",
            "_model_module_version": "1.2.0",
            "_model_name": "LayoutModel",
            "_view_count": null,
            "_view_module": "@jupyter-widgets/base",
            "_view_module_version": "1.2.0",
            "_view_name": "LayoutView",
            "align_content": null,
            "align_items": null,
            "align_self": null,
            "border": null,
            "bottom": null,
            "display": null,
            "flex": null,
            "flex_flow": null,
            "grid_area": null,
            "grid_auto_columns": null,
            "grid_auto_flow": null,
            "grid_auto_rows": null,
            "grid_column": null,
            "grid_gap": null,
            "grid_row": null,
            "grid_template_areas": null,
            "grid_template_columns": null,
            "grid_template_rows": null,
            "height": null,
            "justify_content": null,
            "justify_items": null,
            "left": null,
            "margin": null,
            "max_height": null,
            "max_width": null,
            "min_height": null,
            "min_width": null,
            "object_fit": null,
            "object_position": null,
            "order": null,
            "overflow": null,
            "overflow_x": null,
            "overflow_y": null,
            "padding": null,
            "right": null,
            "top": null,
            "visibility": null,
            "width": null
          }
        },
        "4ba776d6677c4128808ce695fd5d1706": {
          "model_module": "@jupyter-widgets/controls",
          "model_name": "ProgressStyleModel",
          "model_module_version": "1.5.0",
          "state": {
            "_model_module": "@jupyter-widgets/controls",
            "_model_module_version": "1.5.0",
            "_model_name": "ProgressStyleModel",
            "_view_count": null,
            "_view_module": "@jupyter-widgets/base",
            "_view_module_version": "1.2.0",
            "_view_name": "StyleView",
            "bar_color": null,
            "description_width": ""
          }
        },
        "24fb99f0a7d2473ca8d40159f299b6fd": {
          "model_module": "@jupyter-widgets/base",
          "model_name": "LayoutModel",
          "model_module_version": "1.2.0",
          "state": {
            "_model_module": "@jupyter-widgets/base",
            "_model_module_version": "1.2.0",
            "_model_name": "LayoutModel",
            "_view_count": null,
            "_view_module": "@jupyter-widgets/base",
            "_view_module_version": "1.2.0",
            "_view_name": "LayoutView",
            "align_content": null,
            "align_items": null,
            "align_self": null,
            "border": null,
            "bottom": null,
            "display": null,
            "flex": null,
            "flex_flow": null,
            "grid_area": null,
            "grid_auto_columns": null,
            "grid_auto_flow": null,
            "grid_auto_rows": null,
            "grid_column": null,
            "grid_gap": null,
            "grid_row": null,
            "grid_template_areas": null,
            "grid_template_columns": null,
            "grid_template_rows": null,
            "height": null,
            "justify_content": null,
            "justify_items": null,
            "left": null,
            "margin": null,
            "max_height": null,
            "max_width": null,
            "min_height": null,
            "min_width": null,
            "object_fit": null,
            "object_position": null,
            "order": null,
            "overflow": null,
            "overflow_x": null,
            "overflow_y": null,
            "padding": null,
            "right": null,
            "top": null,
            "visibility": null,
            "width": null
          }
        },
        "bdca01c8d13a4d4098ebaad5b4830e0f": {
          "model_module": "@jupyter-widgets/controls",
          "model_name": "DescriptionStyleModel",
          "model_module_version": "1.5.0",
          "state": {
            "_model_module": "@jupyter-widgets/controls",
            "_model_module_version": "1.5.0",
            "_model_name": "DescriptionStyleModel",
            "_view_count": null,
            "_view_module": "@jupyter-widgets/base",
            "_view_module_version": "1.2.0",
            "_view_name": "StyleView",
            "description_width": ""
          }
        },
        "ef4bde96ac1d4d49a0461243d0166061": {
          "model_module": "@jupyter-widgets/controls",
          "model_name": "HBoxModel",
          "model_module_version": "1.5.0",
          "state": {
            "_dom_classes": [],
            "_model_module": "@jupyter-widgets/controls",
            "_model_module_version": "1.5.0",
            "_model_name": "HBoxModel",
            "_view_count": null,
            "_view_module": "@jupyter-widgets/controls",
            "_view_module_version": "1.5.0",
            "_view_name": "HBoxView",
            "box_style": "",
            "children": [
              "IPY_MODEL_3d5b983b15124eb4b4590769a1195911",
              "IPY_MODEL_4a02c4b2a17e4fa59527b81e6df56e58",
              "IPY_MODEL_c9688c9fce474b27a8f6ffa4ce4c7fbb"
            ],
            "layout": "IPY_MODEL_21e521c9e1404b0f8f5a53cadb45ab43"
          }
        },
        "3d5b983b15124eb4b4590769a1195911": {
          "model_module": "@jupyter-widgets/controls",
          "model_name": "HTMLModel",
          "model_module_version": "1.5.0",
          "state": {
            "_dom_classes": [],
            "_model_module": "@jupyter-widgets/controls",
            "_model_module_version": "1.5.0",
            "_model_name": "HTMLModel",
            "_view_count": null,
            "_view_module": "@jupyter-widgets/controls",
            "_view_module_version": "1.5.0",
            "_view_name": "HTMLView",
            "description": "",
            "description_tooltip": null,
            "layout": "IPY_MODEL_5c032d9efdac4ce8a4b919e6acabf8d8",
            "placeholder": "​",
            "style": "IPY_MODEL_ecf305e1138f44fc9bbcfa58187e2d06",
            "value": "Downloading pytorch_model.bin: 100%"
          }
        },
        "4a02c4b2a17e4fa59527b81e6df56e58": {
          "model_module": "@jupyter-widgets/controls",
          "model_name": "FloatProgressModel",
          "model_module_version": "1.5.0",
          "state": {
            "_dom_classes": [],
            "_model_module": "@jupyter-widgets/controls",
            "_model_module_version": "1.5.0",
            "_model_name": "FloatProgressModel",
            "_view_count": null,
            "_view_module": "@jupyter-widgets/controls",
            "_view_module_version": "1.5.0",
            "_view_name": "ProgressView",
            "bar_style": "success",
            "description": "",
            "description_tooltip": null,
            "layout": "IPY_MODEL_6fb8945b3199424faddafea7d6328a44",
            "max": 501045531,
            "min": 0,
            "orientation": "horizontal",
            "style": "IPY_MODEL_07efab788cda49c2b2565f07fc253dde",
            "value": 501045531
          }
        },
        "c9688c9fce474b27a8f6ffa4ce4c7fbb": {
          "model_module": "@jupyter-widgets/controls",
          "model_name": "HTMLModel",
          "model_module_version": "1.5.0",
          "state": {
            "_dom_classes": [],
            "_model_module": "@jupyter-widgets/controls",
            "_model_module_version": "1.5.0",
            "_model_name": "HTMLModel",
            "_view_count": null,
            "_view_module": "@jupyter-widgets/controls",
            "_view_module_version": "1.5.0",
            "_view_name": "HTMLView",
            "description": "",
            "description_tooltip": null,
            "layout": "IPY_MODEL_0ee8f81b41f14f439e6dfe19a24f1d86",
            "placeholder": "​",
            "style": "IPY_MODEL_655a5bcc456649269cda0ac13aaec976",
            "value": " 501M/501M [00:04&lt;00:00, 102MB/s]"
          }
        },
        "21e521c9e1404b0f8f5a53cadb45ab43": {
          "model_module": "@jupyter-widgets/base",
          "model_name": "LayoutModel",
          "model_module_version": "1.2.0",
          "state": {
            "_model_module": "@jupyter-widgets/base",
            "_model_module_version": "1.2.0",
            "_model_name": "LayoutModel",
            "_view_count": null,
            "_view_module": "@jupyter-widgets/base",
            "_view_module_version": "1.2.0",
            "_view_name": "LayoutView",
            "align_content": null,
            "align_items": null,
            "align_self": null,
            "border": null,
            "bottom": null,
            "display": null,
            "flex": null,
            "flex_flow": null,
            "grid_area": null,
            "grid_auto_columns": null,
            "grid_auto_flow": null,
            "grid_auto_rows": null,
            "grid_column": null,
            "grid_gap": null,
            "grid_row": null,
            "grid_template_areas": null,
            "grid_template_columns": null,
            "grid_template_rows": null,
            "height": null,
            "justify_content": null,
            "justify_items": null,
            "left": null,
            "margin": null,
            "max_height": null,
            "max_width": null,
            "min_height": null,
            "min_width": null,
            "object_fit": null,
            "object_position": null,
            "order": null,
            "overflow": null,
            "overflow_x": null,
            "overflow_y": null,
            "padding": null,
            "right": null,
            "top": null,
            "visibility": null,
            "width": null
          }
        },
        "5c032d9efdac4ce8a4b919e6acabf8d8": {
          "model_module": "@jupyter-widgets/base",
          "model_name": "LayoutModel",
          "model_module_version": "1.2.0",
          "state": {
            "_model_module": "@jupyter-widgets/base",
            "_model_module_version": "1.2.0",
            "_model_name": "LayoutModel",
            "_view_count": null,
            "_view_module": "@jupyter-widgets/base",
            "_view_module_version": "1.2.0",
            "_view_name": "LayoutView",
            "align_content": null,
            "align_items": null,
            "align_self": null,
            "border": null,
            "bottom": null,
            "display": null,
            "flex": null,
            "flex_flow": null,
            "grid_area": null,
            "grid_auto_columns": null,
            "grid_auto_flow": null,
            "grid_auto_rows": null,
            "grid_column": null,
            "grid_gap": null,
            "grid_row": null,
            "grid_template_areas": null,
            "grid_template_columns": null,
            "grid_template_rows": null,
            "height": null,
            "justify_content": null,
            "justify_items": null,
            "left": null,
            "margin": null,
            "max_height": null,
            "max_width": null,
            "min_height": null,
            "min_width": null,
            "object_fit": null,
            "object_position": null,
            "order": null,
            "overflow": null,
            "overflow_x": null,
            "overflow_y": null,
            "padding": null,
            "right": null,
            "top": null,
            "visibility": null,
            "width": null
          }
        },
        "ecf305e1138f44fc9bbcfa58187e2d06": {
          "model_module": "@jupyter-widgets/controls",
          "model_name": "DescriptionStyleModel",
          "model_module_version": "1.5.0",
          "state": {
            "_model_module": "@jupyter-widgets/controls",
            "_model_module_version": "1.5.0",
            "_model_name": "DescriptionStyleModel",
            "_view_count": null,
            "_view_module": "@jupyter-widgets/base",
            "_view_module_version": "1.2.0",
            "_view_name": "StyleView",
            "description_width": ""
          }
        },
        "6fb8945b3199424faddafea7d6328a44": {
          "model_module": "@jupyter-widgets/base",
          "model_name": "LayoutModel",
          "model_module_version": "1.2.0",
          "state": {
            "_model_module": "@jupyter-widgets/base",
            "_model_module_version": "1.2.0",
            "_model_name": "LayoutModel",
            "_view_count": null,
            "_view_module": "@jupyter-widgets/base",
            "_view_module_version": "1.2.0",
            "_view_name": "LayoutView",
            "align_content": null,
            "align_items": null,
            "align_self": null,
            "border": null,
            "bottom": null,
            "display": null,
            "flex": null,
            "flex_flow": null,
            "grid_area": null,
            "grid_auto_columns": null,
            "grid_auto_flow": null,
            "grid_auto_rows": null,
            "grid_column": null,
            "grid_gap": null,
            "grid_row": null,
            "grid_template_areas": null,
            "grid_template_columns": null,
            "grid_template_rows": null,
            "height": null,
            "justify_content": null,
            "justify_items": null,
            "left": null,
            "margin": null,
            "max_height": null,
            "max_width": null,
            "min_height": null,
            "min_width": null,
            "object_fit": null,
            "object_position": null,
            "order": null,
            "overflow": null,
            "overflow_x": null,
            "overflow_y": null,
            "padding": null,
            "right": null,
            "top": null,
            "visibility": null,
            "width": null
          }
        },
        "07efab788cda49c2b2565f07fc253dde": {
          "model_module": "@jupyter-widgets/controls",
          "model_name": "ProgressStyleModel",
          "model_module_version": "1.5.0",
          "state": {
            "_model_module": "@jupyter-widgets/controls",
            "_model_module_version": "1.5.0",
            "_model_name": "ProgressStyleModel",
            "_view_count": null,
            "_view_module": "@jupyter-widgets/base",
            "_view_module_version": "1.2.0",
            "_view_name": "StyleView",
            "bar_color": null,
            "description_width": ""
          }
        },
        "0ee8f81b41f14f439e6dfe19a24f1d86": {
          "model_module": "@jupyter-widgets/base",
          "model_name": "LayoutModel",
          "model_module_version": "1.2.0",
          "state": {
            "_model_module": "@jupyter-widgets/base",
            "_model_module_version": "1.2.0",
            "_model_name": "LayoutModel",
            "_view_count": null,
            "_view_module": "@jupyter-widgets/base",
            "_view_module_version": "1.2.0",
            "_view_name": "LayoutView",
            "align_content": null,
            "align_items": null,
            "align_self": null,
            "border": null,
            "bottom": null,
            "display": null,
            "flex": null,
            "flex_flow": null,
            "grid_area": null,
            "grid_auto_columns": null,
            "grid_auto_flow": null,
            "grid_auto_rows": null,
            "grid_column": null,
            "grid_gap": null,
            "grid_row": null,
            "grid_template_areas": null,
            "grid_template_columns": null,
            "grid_template_rows": null,
            "height": null,
            "justify_content": null,
            "justify_items": null,
            "left": null,
            "margin": null,
            "max_height": null,
            "max_width": null,
            "min_height": null,
            "min_width": null,
            "object_fit": null,
            "object_position": null,
            "order": null,
            "overflow": null,
            "overflow_x": null,
            "overflow_y": null,
            "padding": null,
            "right": null,
            "top": null,
            "visibility": null,
            "width": null
          }
        },
        "655a5bcc456649269cda0ac13aaec976": {
          "model_module": "@jupyter-widgets/controls",
          "model_name": "DescriptionStyleModel",
          "model_module_version": "1.5.0",
          "state": {
            "_model_module": "@jupyter-widgets/controls",
            "_model_module_version": "1.5.0",
            "_model_name": "DescriptionStyleModel",
            "_view_count": null,
            "_view_module": "@jupyter-widgets/base",
            "_view_module_version": "1.2.0",
            "_view_name": "StyleView",
            "description_width": ""
          }
        },
        "887c20a24bcc46a0bbe024de681e5c2d": {
          "model_module": "@jupyter-widgets/controls",
          "model_name": "HBoxModel",
          "model_module_version": "1.5.0",
          "state": {
            "_dom_classes": [],
            "_model_module": "@jupyter-widgets/controls",
            "_model_module_version": "1.5.0",
            "_model_name": "HBoxModel",
            "_view_count": null,
            "_view_module": "@jupyter-widgets/controls",
            "_view_module_version": "1.5.0",
            "_view_name": "HBoxView",
            "box_style": "",
            "children": [
              "IPY_MODEL_b6e1f25fbe974a8bb9ee2ec93f1e59d5",
              "IPY_MODEL_e5de23bc37e34210ba4c77f4018eec29",
              "IPY_MODEL_14dd8356ca6e4d48bbd372c631a1ab76"
            ],
            "layout": "IPY_MODEL_321a385110854ce983e6747189167a1f"
          }
        },
        "b6e1f25fbe974a8bb9ee2ec93f1e59d5": {
          "model_module": "@jupyter-widgets/controls",
          "model_name": "HTMLModel",
          "model_module_version": "1.5.0",
          "state": {
            "_dom_classes": [],
            "_model_module": "@jupyter-widgets/controls",
            "_model_module_version": "1.5.0",
            "_model_name": "HTMLModel",
            "_view_count": null,
            "_view_module": "@jupyter-widgets/controls",
            "_view_module_version": "1.5.0",
            "_view_name": "HTMLView",
            "description": "",
            "description_tooltip": null,
            "layout": "IPY_MODEL_762630e1d46944d4a37f0c05ca4bf1ef",
            "placeholder": "​",
            "style": "IPY_MODEL_9420f720f6d64927906cb1d476a3de2e",
            "value": "Downloading (…)lve/main/config.json: 100%"
          }
        },
        "e5de23bc37e34210ba4c77f4018eec29": {
          "model_module": "@jupyter-widgets/controls",
          "model_name": "FloatProgressModel",
          "model_module_version": "1.5.0",
          "state": {
            "_dom_classes": [],
            "_model_module": "@jupyter-widgets/controls",
            "_model_module_version": "1.5.0",
            "_model_name": "FloatProgressModel",
            "_view_count": null,
            "_view_module": "@jupyter-widgets/controls",
            "_view_module_version": "1.5.0",
            "_view_name": "ProgressView",
            "bar_style": "success",
            "description": "",
            "description_tooltip": null,
            "layout": "IPY_MODEL_b3a1f9006ef94d61a3cb63d241b7868a",
            "max": 629,
            "min": 0,
            "orientation": "horizontal",
            "style": "IPY_MODEL_c3526ca86e024983a6f144f2b9eb423a",
            "value": 629
          }
        },
        "14dd8356ca6e4d48bbd372c631a1ab76": {
          "model_module": "@jupyter-widgets/controls",
          "model_name": "HTMLModel",
          "model_module_version": "1.5.0",
          "state": {
            "_dom_classes": [],
            "_model_module": "@jupyter-widgets/controls",
            "_model_module_version": "1.5.0",
            "_model_name": "HTMLModel",
            "_view_count": null,
            "_view_module": "@jupyter-widgets/controls",
            "_view_module_version": "1.5.0",
            "_view_name": "HTMLView",
            "description": "",
            "description_tooltip": null,
            "layout": "IPY_MODEL_f693fb56b87e4464985adb9597cc0c49",
            "placeholder": "​",
            "style": "IPY_MODEL_eaa076b73bbc4e929ba6f8148634a602",
            "value": " 629/629 [00:00&lt;00:00, 16.6kB/s]"
          }
        },
        "321a385110854ce983e6747189167a1f": {
          "model_module": "@jupyter-widgets/base",
          "model_name": "LayoutModel",
          "model_module_version": "1.2.0",
          "state": {
            "_model_module": "@jupyter-widgets/base",
            "_model_module_version": "1.2.0",
            "_model_name": "LayoutModel",
            "_view_count": null,
            "_view_module": "@jupyter-widgets/base",
            "_view_module_version": "1.2.0",
            "_view_name": "LayoutView",
            "align_content": null,
            "align_items": null,
            "align_self": null,
            "border": null,
            "bottom": null,
            "display": null,
            "flex": null,
            "flex_flow": null,
            "grid_area": null,
            "grid_auto_columns": null,
            "grid_auto_flow": null,
            "grid_auto_rows": null,
            "grid_column": null,
            "grid_gap": null,
            "grid_row": null,
            "grid_template_areas": null,
            "grid_template_columns": null,
            "grid_template_rows": null,
            "height": null,
            "justify_content": null,
            "justify_items": null,
            "left": null,
            "margin": null,
            "max_height": null,
            "max_width": null,
            "min_height": null,
            "min_width": null,
            "object_fit": null,
            "object_position": null,
            "order": null,
            "overflow": null,
            "overflow_x": null,
            "overflow_y": null,
            "padding": null,
            "right": null,
            "top": null,
            "visibility": null,
            "width": null
          }
        },
        "762630e1d46944d4a37f0c05ca4bf1ef": {
          "model_module": "@jupyter-widgets/base",
          "model_name": "LayoutModel",
          "model_module_version": "1.2.0",
          "state": {
            "_model_module": "@jupyter-widgets/base",
            "_model_module_version": "1.2.0",
            "_model_name": "LayoutModel",
            "_view_count": null,
            "_view_module": "@jupyter-widgets/base",
            "_view_module_version": "1.2.0",
            "_view_name": "LayoutView",
            "align_content": null,
            "align_items": null,
            "align_self": null,
            "border": null,
            "bottom": null,
            "display": null,
            "flex": null,
            "flex_flow": null,
            "grid_area": null,
            "grid_auto_columns": null,
            "grid_auto_flow": null,
            "grid_auto_rows": null,
            "grid_column": null,
            "grid_gap": null,
            "grid_row": null,
            "grid_template_areas": null,
            "grid_template_columns": null,
            "grid_template_rows": null,
            "height": null,
            "justify_content": null,
            "justify_items": null,
            "left": null,
            "margin": null,
            "max_height": null,
            "max_width": null,
            "min_height": null,
            "min_width": null,
            "object_fit": null,
            "object_position": null,
            "order": null,
            "overflow": null,
            "overflow_x": null,
            "overflow_y": null,
            "padding": null,
            "right": null,
            "top": null,
            "visibility": null,
            "width": null
          }
        },
        "9420f720f6d64927906cb1d476a3de2e": {
          "model_module": "@jupyter-widgets/controls",
          "model_name": "DescriptionStyleModel",
          "model_module_version": "1.5.0",
          "state": {
            "_model_module": "@jupyter-widgets/controls",
            "_model_module_version": "1.5.0",
            "_model_name": "DescriptionStyleModel",
            "_view_count": null,
            "_view_module": "@jupyter-widgets/base",
            "_view_module_version": "1.2.0",
            "_view_name": "StyleView",
            "description_width": ""
          }
        },
        "b3a1f9006ef94d61a3cb63d241b7868a": {
          "model_module": "@jupyter-widgets/base",
          "model_name": "LayoutModel",
          "model_module_version": "1.2.0",
          "state": {
            "_model_module": "@jupyter-widgets/base",
            "_model_module_version": "1.2.0",
            "_model_name": "LayoutModel",
            "_view_count": null,
            "_view_module": "@jupyter-widgets/base",
            "_view_module_version": "1.2.0",
            "_view_name": "LayoutView",
            "align_content": null,
            "align_items": null,
            "align_self": null,
            "border": null,
            "bottom": null,
            "display": null,
            "flex": null,
            "flex_flow": null,
            "grid_area": null,
            "grid_auto_columns": null,
            "grid_auto_flow": null,
            "grid_auto_rows": null,
            "grid_column": null,
            "grid_gap": null,
            "grid_row": null,
            "grid_template_areas": null,
            "grid_template_columns": null,
            "grid_template_rows": null,
            "height": null,
            "justify_content": null,
            "justify_items": null,
            "left": null,
            "margin": null,
            "max_height": null,
            "max_width": null,
            "min_height": null,
            "min_width": null,
            "object_fit": null,
            "object_position": null,
            "order": null,
            "overflow": null,
            "overflow_x": null,
            "overflow_y": null,
            "padding": null,
            "right": null,
            "top": null,
            "visibility": null,
            "width": null
          }
        },
        "c3526ca86e024983a6f144f2b9eb423a": {
          "model_module": "@jupyter-widgets/controls",
          "model_name": "ProgressStyleModel",
          "model_module_version": "1.5.0",
          "state": {
            "_model_module": "@jupyter-widgets/controls",
            "_model_module_version": "1.5.0",
            "_model_name": "ProgressStyleModel",
            "_view_count": null,
            "_view_module": "@jupyter-widgets/base",
            "_view_module_version": "1.2.0",
            "_view_name": "StyleView",
            "bar_color": null,
            "description_width": ""
          }
        },
        "f693fb56b87e4464985adb9597cc0c49": {
          "model_module": "@jupyter-widgets/base",
          "model_name": "LayoutModel",
          "model_module_version": "1.2.0",
          "state": {
            "_model_module": "@jupyter-widgets/base",
            "_model_module_version": "1.2.0",
            "_model_name": "LayoutModel",
            "_view_count": null,
            "_view_module": "@jupyter-widgets/base",
            "_view_module_version": "1.2.0",
            "_view_name": "LayoutView",
            "align_content": null,
            "align_items": null,
            "align_self": null,
            "border": null,
            "bottom": null,
            "display": null,
            "flex": null,
            "flex_flow": null,
            "grid_area": null,
            "grid_auto_columns": null,
            "grid_auto_flow": null,
            "grid_auto_rows": null,
            "grid_column": null,
            "grid_gap": null,
            "grid_row": null,
            "grid_template_areas": null,
            "grid_template_columns": null,
            "grid_template_rows": null,
            "height": null,
            "justify_content": null,
            "justify_items": null,
            "left": null,
            "margin": null,
            "max_height": null,
            "max_width": null,
            "min_height": null,
            "min_width": null,
            "object_fit": null,
            "object_position": null,
            "order": null,
            "overflow": null,
            "overflow_x": null,
            "overflow_y": null,
            "padding": null,
            "right": null,
            "top": null,
            "visibility": null,
            "width": null
          }
        },
        "eaa076b73bbc4e929ba6f8148634a602": {
          "model_module": "@jupyter-widgets/controls",
          "model_name": "DescriptionStyleModel",
          "model_module_version": "1.5.0",
          "state": {
            "_model_module": "@jupyter-widgets/controls",
            "_model_module_version": "1.5.0",
            "_model_name": "DescriptionStyleModel",
            "_view_count": null,
            "_view_module": "@jupyter-widgets/base",
            "_view_module_version": "1.2.0",
            "_view_name": "StyleView",
            "description_width": ""
          }
        },
        "c13c08d8d4724788a0a8e635d64421f3": {
          "model_module": "@jupyter-widgets/controls",
          "model_name": "HBoxModel",
          "model_module_version": "1.5.0",
          "state": {
            "_dom_classes": [],
            "_model_module": "@jupyter-widgets/controls",
            "_model_module_version": "1.5.0",
            "_model_name": "HBoxModel",
            "_view_count": null,
            "_view_module": "@jupyter-widgets/controls",
            "_view_module_version": "1.5.0",
            "_view_name": "HBoxView",
            "box_style": "",
            "children": [
              "IPY_MODEL_f93ab0ee5fad47c388d25d91c7e06e77",
              "IPY_MODEL_d608b4964b394b668e1753206d2f9234",
              "IPY_MODEL_148b3932b13348eca35b8d924cd44fb9"
            ],
            "layout": "IPY_MODEL_c7ba7c81237f4c6d866b584d1fa09fa6"
          }
        },
        "f93ab0ee5fad47c388d25d91c7e06e77": {
          "model_module": "@jupyter-widgets/controls",
          "model_name": "HTMLModel",
          "model_module_version": "1.5.0",
          "state": {
            "_dom_classes": [],
            "_model_module": "@jupyter-widgets/controls",
            "_model_module_version": "1.5.0",
            "_model_name": "HTMLModel",
            "_view_count": null,
            "_view_module": "@jupyter-widgets/controls",
            "_view_module_version": "1.5.0",
            "_view_name": "HTMLView",
            "description": "",
            "description_tooltip": null,
            "layout": "IPY_MODEL_46755514da5e48e4b19789d357bc7866",
            "placeholder": "​",
            "style": "IPY_MODEL_a875713501be45d1952b4ea81409ed30",
            "value": "Downloading pytorch_model.bin: 100%"
          }
        },
        "d608b4964b394b668e1753206d2f9234": {
          "model_module": "@jupyter-widgets/controls",
          "model_name": "FloatProgressModel",
          "model_module_version": "1.5.0",
          "state": {
            "_dom_classes": [],
            "_model_module": "@jupyter-widgets/controls",
            "_model_module_version": "1.5.0",
            "_model_name": "FloatProgressModel",
            "_view_count": null,
            "_view_module": "@jupyter-widgets/controls",
            "_view_module_version": "1.5.0",
            "_view_name": "ProgressView",
            "bar_style": "success",
            "description": "",
            "description_tooltip": null,
            "layout": "IPY_MODEL_a1497ac38906420a8d2d4b0329cfe9cd",
            "max": 267844284,
            "min": 0,
            "orientation": "horizontal",
            "style": "IPY_MODEL_60279cffd7394ca3be25695d7cafd709",
            "value": 267844284
          }
        },
        "148b3932b13348eca35b8d924cd44fb9": {
          "model_module": "@jupyter-widgets/controls",
          "model_name": "HTMLModel",
          "model_module_version": "1.5.0",
          "state": {
            "_dom_classes": [],
            "_model_module": "@jupyter-widgets/controls",
            "_model_module_version": "1.5.0",
            "_model_name": "HTMLModel",
            "_view_count": null,
            "_view_module": "@jupyter-widgets/controls",
            "_view_module_version": "1.5.0",
            "_view_name": "HTMLView",
            "description": "",
            "description_tooltip": null,
            "layout": "IPY_MODEL_81d83ea08b544f368382df0d1302e0b3",
            "placeholder": "​",
            "style": "IPY_MODEL_e2b129ead5b04eff9250ef479724990a",
            "value": " 268M/268M [00:02&lt;00:00, 107MB/s]"
          }
        },
        "c7ba7c81237f4c6d866b584d1fa09fa6": {
          "model_module": "@jupyter-widgets/base",
          "model_name": "LayoutModel",
          "model_module_version": "1.2.0",
          "state": {
            "_model_module": "@jupyter-widgets/base",
            "_model_module_version": "1.2.0",
            "_model_name": "LayoutModel",
            "_view_count": null,
            "_view_module": "@jupyter-widgets/base",
            "_view_module_version": "1.2.0",
            "_view_name": "LayoutView",
            "align_content": null,
            "align_items": null,
            "align_self": null,
            "border": null,
            "bottom": null,
            "display": null,
            "flex": null,
            "flex_flow": null,
            "grid_area": null,
            "grid_auto_columns": null,
            "grid_auto_flow": null,
            "grid_auto_rows": null,
            "grid_column": null,
            "grid_gap": null,
            "grid_row": null,
            "grid_template_areas": null,
            "grid_template_columns": null,
            "grid_template_rows": null,
            "height": null,
            "justify_content": null,
            "justify_items": null,
            "left": null,
            "margin": null,
            "max_height": null,
            "max_width": null,
            "min_height": null,
            "min_width": null,
            "object_fit": null,
            "object_position": null,
            "order": null,
            "overflow": null,
            "overflow_x": null,
            "overflow_y": null,
            "padding": null,
            "right": null,
            "top": null,
            "visibility": null,
            "width": null
          }
        },
        "46755514da5e48e4b19789d357bc7866": {
          "model_module": "@jupyter-widgets/base",
          "model_name": "LayoutModel",
          "model_module_version": "1.2.0",
          "state": {
            "_model_module": "@jupyter-widgets/base",
            "_model_module_version": "1.2.0",
            "_model_name": "LayoutModel",
            "_view_count": null,
            "_view_module": "@jupyter-widgets/base",
            "_view_module_version": "1.2.0",
            "_view_name": "LayoutView",
            "align_content": null,
            "align_items": null,
            "align_self": null,
            "border": null,
            "bottom": null,
            "display": null,
            "flex": null,
            "flex_flow": null,
            "grid_area": null,
            "grid_auto_columns": null,
            "grid_auto_flow": null,
            "grid_auto_rows": null,
            "grid_column": null,
            "grid_gap": null,
            "grid_row": null,
            "grid_template_areas": null,
            "grid_template_columns": null,
            "grid_template_rows": null,
            "height": null,
            "justify_content": null,
            "justify_items": null,
            "left": null,
            "margin": null,
            "max_height": null,
            "max_width": null,
            "min_height": null,
            "min_width": null,
            "object_fit": null,
            "object_position": null,
            "order": null,
            "overflow": null,
            "overflow_x": null,
            "overflow_y": null,
            "padding": null,
            "right": null,
            "top": null,
            "visibility": null,
            "width": null
          }
        },
        "a875713501be45d1952b4ea81409ed30": {
          "model_module": "@jupyter-widgets/controls",
          "model_name": "DescriptionStyleModel",
          "model_module_version": "1.5.0",
          "state": {
            "_model_module": "@jupyter-widgets/controls",
            "_model_module_version": "1.5.0",
            "_model_name": "DescriptionStyleModel",
            "_view_count": null,
            "_view_module": "@jupyter-widgets/base",
            "_view_module_version": "1.2.0",
            "_view_name": "StyleView",
            "description_width": ""
          }
        },
        "a1497ac38906420a8d2d4b0329cfe9cd": {
          "model_module": "@jupyter-widgets/base",
          "model_name": "LayoutModel",
          "model_module_version": "1.2.0",
          "state": {
            "_model_module": "@jupyter-widgets/base",
            "_model_module_version": "1.2.0",
            "_model_name": "LayoutModel",
            "_view_count": null,
            "_view_module": "@jupyter-widgets/base",
            "_view_module_version": "1.2.0",
            "_view_name": "LayoutView",
            "align_content": null,
            "align_items": null,
            "align_self": null,
            "border": null,
            "bottom": null,
            "display": null,
            "flex": null,
            "flex_flow": null,
            "grid_area": null,
            "grid_auto_columns": null,
            "grid_auto_flow": null,
            "grid_auto_rows": null,
            "grid_column": null,
            "grid_gap": null,
            "grid_row": null,
            "grid_template_areas": null,
            "grid_template_columns": null,
            "grid_template_rows": null,
            "height": null,
            "justify_content": null,
            "justify_items": null,
            "left": null,
            "margin": null,
            "max_height": null,
            "max_width": null,
            "min_height": null,
            "min_width": null,
            "object_fit": null,
            "object_position": null,
            "order": null,
            "overflow": null,
            "overflow_x": null,
            "overflow_y": null,
            "padding": null,
            "right": null,
            "top": null,
            "visibility": null,
            "width": null
          }
        },
        "60279cffd7394ca3be25695d7cafd709": {
          "model_module": "@jupyter-widgets/controls",
          "model_name": "ProgressStyleModel",
          "model_module_version": "1.5.0",
          "state": {
            "_model_module": "@jupyter-widgets/controls",
            "_model_module_version": "1.5.0",
            "_model_name": "ProgressStyleModel",
            "_view_count": null,
            "_view_module": "@jupyter-widgets/base",
            "_view_module_version": "1.2.0",
            "_view_name": "StyleView",
            "bar_color": null,
            "description_width": ""
          }
        },
        "81d83ea08b544f368382df0d1302e0b3": {
          "model_module": "@jupyter-widgets/base",
          "model_name": "LayoutModel",
          "model_module_version": "1.2.0",
          "state": {
            "_model_module": "@jupyter-widgets/base",
            "_model_module_version": "1.2.0",
            "_model_name": "LayoutModel",
            "_view_count": null,
            "_view_module": "@jupyter-widgets/base",
            "_view_module_version": "1.2.0",
            "_view_name": "LayoutView",
            "align_content": null,
            "align_items": null,
            "align_self": null,
            "border": null,
            "bottom": null,
            "display": null,
            "flex": null,
            "flex_flow": null,
            "grid_area": null,
            "grid_auto_columns": null,
            "grid_auto_flow": null,
            "grid_auto_rows": null,
            "grid_column": null,
            "grid_gap": null,
            "grid_row": null,
            "grid_template_areas": null,
            "grid_template_columns": null,
            "grid_template_rows": null,
            "height": null,
            "justify_content": null,
            "justify_items": null,
            "left": null,
            "margin": null,
            "max_height": null,
            "max_width": null,
            "min_height": null,
            "min_width": null,
            "object_fit": null,
            "object_position": null,
            "order": null,
            "overflow": null,
            "overflow_x": null,
            "overflow_y": null,
            "padding": null,
            "right": null,
            "top": null,
            "visibility": null,
            "width": null
          }
        },
        "e2b129ead5b04eff9250ef479724990a": {
          "model_module": "@jupyter-widgets/controls",
          "model_name": "DescriptionStyleModel",
          "model_module_version": "1.5.0",
          "state": {
            "_model_module": "@jupyter-widgets/controls",
            "_model_module_version": "1.5.0",
            "_model_name": "DescriptionStyleModel",
            "_view_count": null,
            "_view_module": "@jupyter-widgets/base",
            "_view_module_version": "1.2.0",
            "_view_name": "StyleView",
            "description_width": ""
          }
        },
        "270d73cb6ed9413bbc1a85dd03d76b23": {
          "model_module": "@jupyter-widgets/controls",
          "model_name": "HBoxModel",
          "model_module_version": "1.5.0",
          "state": {
            "_dom_classes": [],
            "_model_module": "@jupyter-widgets/controls",
            "_model_module_version": "1.5.0",
            "_model_name": "HBoxModel",
            "_view_count": null,
            "_view_module": "@jupyter-widgets/controls",
            "_view_module_version": "1.5.0",
            "_view_name": "HBoxView",
            "box_style": "",
            "children": [
              "IPY_MODEL_09abb6f478bb4e2298041faa19d0c97b",
              "IPY_MODEL_0d2bac982fb34bbb8bab1914d7cabef1",
              "IPY_MODEL_54a94e9537504360aa971a3eb876d73e"
            ],
            "layout": "IPY_MODEL_aa69cff493c14930b9215d4a83aed385"
          }
        },
        "09abb6f478bb4e2298041faa19d0c97b": {
          "model_module": "@jupyter-widgets/controls",
          "model_name": "HTMLModel",
          "model_module_version": "1.5.0",
          "state": {
            "_dom_classes": [],
            "_model_module": "@jupyter-widgets/controls",
            "_model_module_version": "1.5.0",
            "_model_name": "HTMLModel",
            "_view_count": null,
            "_view_module": "@jupyter-widgets/controls",
            "_view_module_version": "1.5.0",
            "_view_name": "HTMLView",
            "description": "",
            "description_tooltip": null,
            "layout": "IPY_MODEL_e01a1f01afd445ddb361ddd2709dd37e",
            "placeholder": "​",
            "style": "IPY_MODEL_e442d898ec68419193e6e8105b22dfdb",
            "value": "Downloading (…)okenizer_config.json: 100%"
          }
        },
        "0d2bac982fb34bbb8bab1914d7cabef1": {
          "model_module": "@jupyter-widgets/controls",
          "model_name": "FloatProgressModel",
          "model_module_version": "1.5.0",
          "state": {
            "_dom_classes": [],
            "_model_module": "@jupyter-widgets/controls",
            "_model_module_version": "1.5.0",
            "_model_name": "FloatProgressModel",
            "_view_count": null,
            "_view_module": "@jupyter-widgets/controls",
            "_view_module_version": "1.5.0",
            "_view_name": "ProgressView",
            "bar_style": "success",
            "description": "",
            "description_tooltip": null,
            "layout": "IPY_MODEL_ba7b88587a374d8f982f09c7467005d9",
            "max": 48,
            "min": 0,
            "orientation": "horizontal",
            "style": "IPY_MODEL_43de38aaeb0047dab097ff7f31d6e674",
            "value": 48
          }
        },
        "54a94e9537504360aa971a3eb876d73e": {
          "model_module": "@jupyter-widgets/controls",
          "model_name": "HTMLModel",
          "model_module_version": "1.5.0",
          "state": {
            "_dom_classes": [],
            "_model_module": "@jupyter-widgets/controls",
            "_model_module_version": "1.5.0",
            "_model_name": "HTMLModel",
            "_view_count": null,
            "_view_module": "@jupyter-widgets/controls",
            "_view_module_version": "1.5.0",
            "_view_name": "HTMLView",
            "description": "",
            "description_tooltip": null,
            "layout": "IPY_MODEL_1c854be087c9446e86e29f8bc3aacdee",
            "placeholder": "​",
            "style": "IPY_MODEL_bc4ddc539dfd44298f5ff24c6ee1af93",
            "value": " 48.0/48.0 [00:00&lt;00:00, 991B/s]"
          }
        },
        "aa69cff493c14930b9215d4a83aed385": {
          "model_module": "@jupyter-widgets/base",
          "model_name": "LayoutModel",
          "model_module_version": "1.2.0",
          "state": {
            "_model_module": "@jupyter-widgets/base",
            "_model_module_version": "1.2.0",
            "_model_name": "LayoutModel",
            "_view_count": null,
            "_view_module": "@jupyter-widgets/base",
            "_view_module_version": "1.2.0",
            "_view_name": "LayoutView",
            "align_content": null,
            "align_items": null,
            "align_self": null,
            "border": null,
            "bottom": null,
            "display": null,
            "flex": null,
            "flex_flow": null,
            "grid_area": null,
            "grid_auto_columns": null,
            "grid_auto_flow": null,
            "grid_auto_rows": null,
            "grid_column": null,
            "grid_gap": null,
            "grid_row": null,
            "grid_template_areas": null,
            "grid_template_columns": null,
            "grid_template_rows": null,
            "height": null,
            "justify_content": null,
            "justify_items": null,
            "left": null,
            "margin": null,
            "max_height": null,
            "max_width": null,
            "min_height": null,
            "min_width": null,
            "object_fit": null,
            "object_position": null,
            "order": null,
            "overflow": null,
            "overflow_x": null,
            "overflow_y": null,
            "padding": null,
            "right": null,
            "top": null,
            "visibility": null,
            "width": null
          }
        },
        "e01a1f01afd445ddb361ddd2709dd37e": {
          "model_module": "@jupyter-widgets/base",
          "model_name": "LayoutModel",
          "model_module_version": "1.2.0",
          "state": {
            "_model_module": "@jupyter-widgets/base",
            "_model_module_version": "1.2.0",
            "_model_name": "LayoutModel",
            "_view_count": null,
            "_view_module": "@jupyter-widgets/base",
            "_view_module_version": "1.2.0",
            "_view_name": "LayoutView",
            "align_content": null,
            "align_items": null,
            "align_self": null,
            "border": null,
            "bottom": null,
            "display": null,
            "flex": null,
            "flex_flow": null,
            "grid_area": null,
            "grid_auto_columns": null,
            "grid_auto_flow": null,
            "grid_auto_rows": null,
            "grid_column": null,
            "grid_gap": null,
            "grid_row": null,
            "grid_template_areas": null,
            "grid_template_columns": null,
            "grid_template_rows": null,
            "height": null,
            "justify_content": null,
            "justify_items": null,
            "left": null,
            "margin": null,
            "max_height": null,
            "max_width": null,
            "min_height": null,
            "min_width": null,
            "object_fit": null,
            "object_position": null,
            "order": null,
            "overflow": null,
            "overflow_x": null,
            "overflow_y": null,
            "padding": null,
            "right": null,
            "top": null,
            "visibility": null,
            "width": null
          }
        },
        "e442d898ec68419193e6e8105b22dfdb": {
          "model_module": "@jupyter-widgets/controls",
          "model_name": "DescriptionStyleModel",
          "model_module_version": "1.5.0",
          "state": {
            "_model_module": "@jupyter-widgets/controls",
            "_model_module_version": "1.5.0",
            "_model_name": "DescriptionStyleModel",
            "_view_count": null,
            "_view_module": "@jupyter-widgets/base",
            "_view_module_version": "1.2.0",
            "_view_name": "StyleView",
            "description_width": ""
          }
        },
        "ba7b88587a374d8f982f09c7467005d9": {
          "model_module": "@jupyter-widgets/base",
          "model_name": "LayoutModel",
          "model_module_version": "1.2.0",
          "state": {
            "_model_module": "@jupyter-widgets/base",
            "_model_module_version": "1.2.0",
            "_model_name": "LayoutModel",
            "_view_count": null,
            "_view_module": "@jupyter-widgets/base",
            "_view_module_version": "1.2.0",
            "_view_name": "LayoutView",
            "align_content": null,
            "align_items": null,
            "align_self": null,
            "border": null,
            "bottom": null,
            "display": null,
            "flex": null,
            "flex_flow": null,
            "grid_area": null,
            "grid_auto_columns": null,
            "grid_auto_flow": null,
            "grid_auto_rows": null,
            "grid_column": null,
            "grid_gap": null,
            "grid_row": null,
            "grid_template_areas": null,
            "grid_template_columns": null,
            "grid_template_rows": null,
            "height": null,
            "justify_content": null,
            "justify_items": null,
            "left": null,
            "margin": null,
            "max_height": null,
            "max_width": null,
            "min_height": null,
            "min_width": null,
            "object_fit": null,
            "object_position": null,
            "order": null,
            "overflow": null,
            "overflow_x": null,
            "overflow_y": null,
            "padding": null,
            "right": null,
            "top": null,
            "visibility": null,
            "width": null
          }
        },
        "43de38aaeb0047dab097ff7f31d6e674": {
          "model_module": "@jupyter-widgets/controls",
          "model_name": "ProgressStyleModel",
          "model_module_version": "1.5.0",
          "state": {
            "_model_module": "@jupyter-widgets/controls",
            "_model_module_version": "1.5.0",
            "_model_name": "ProgressStyleModel",
            "_view_count": null,
            "_view_module": "@jupyter-widgets/base",
            "_view_module_version": "1.2.0",
            "_view_name": "StyleView",
            "bar_color": null,
            "description_width": ""
          }
        },
        "1c854be087c9446e86e29f8bc3aacdee": {
          "model_module": "@jupyter-widgets/base",
          "model_name": "LayoutModel",
          "model_module_version": "1.2.0",
          "state": {
            "_model_module": "@jupyter-widgets/base",
            "_model_module_version": "1.2.0",
            "_model_name": "LayoutModel",
            "_view_count": null,
            "_view_module": "@jupyter-widgets/base",
            "_view_module_version": "1.2.0",
            "_view_name": "LayoutView",
            "align_content": null,
            "align_items": null,
            "align_self": null,
            "border": null,
            "bottom": null,
            "display": null,
            "flex": null,
            "flex_flow": null,
            "grid_area": null,
            "grid_auto_columns": null,
            "grid_auto_flow": null,
            "grid_auto_rows": null,
            "grid_column": null,
            "grid_gap": null,
            "grid_row": null,
            "grid_template_areas": null,
            "grid_template_columns": null,
            "grid_template_rows": null,
            "height": null,
            "justify_content": null,
            "justify_items": null,
            "left": null,
            "margin": null,
            "max_height": null,
            "max_width": null,
            "min_height": null,
            "min_width": null,
            "object_fit": null,
            "object_position": null,
            "order": null,
            "overflow": null,
            "overflow_x": null,
            "overflow_y": null,
            "padding": null,
            "right": null,
            "top": null,
            "visibility": null,
            "width": null
          }
        },
        "bc4ddc539dfd44298f5ff24c6ee1af93": {
          "model_module": "@jupyter-widgets/controls",
          "model_name": "DescriptionStyleModel",
          "model_module_version": "1.5.0",
          "state": {
            "_model_module": "@jupyter-widgets/controls",
            "_model_module_version": "1.5.0",
            "_model_name": "DescriptionStyleModel",
            "_view_count": null,
            "_view_module": "@jupyter-widgets/base",
            "_view_module_version": "1.2.0",
            "_view_name": "StyleView",
            "description_width": ""
          }
        },
        "1d44f1976c6e481690a5f7484b27fcc4": {
          "model_module": "@jupyter-widgets/controls",
          "model_name": "HBoxModel",
          "model_module_version": "1.5.0",
          "state": {
            "_dom_classes": [],
            "_model_module": "@jupyter-widgets/controls",
            "_model_module_version": "1.5.0",
            "_model_name": "HBoxModel",
            "_view_count": null,
            "_view_module": "@jupyter-widgets/controls",
            "_view_module_version": "1.5.0",
            "_view_name": "HBoxView",
            "box_style": "",
            "children": [
              "IPY_MODEL_8bb01bbba4d4484791a91586dd6e4a78",
              "IPY_MODEL_0dd879d9a5ed4a108660de9c628b029c",
              "IPY_MODEL_47c20dab40ec43e1aa7b93a11e4b1fbf"
            ],
            "layout": "IPY_MODEL_1304803682e842049a97471d90c610df"
          }
        },
        "8bb01bbba4d4484791a91586dd6e4a78": {
          "model_module": "@jupyter-widgets/controls",
          "model_name": "HTMLModel",
          "model_module_version": "1.5.0",
          "state": {
            "_dom_classes": [],
            "_model_module": "@jupyter-widgets/controls",
            "_model_module_version": "1.5.0",
            "_model_name": "HTMLModel",
            "_view_count": null,
            "_view_module": "@jupyter-widgets/controls",
            "_view_module_version": "1.5.0",
            "_view_name": "HTMLView",
            "description": "",
            "description_tooltip": null,
            "layout": "IPY_MODEL_37bfa59bf9404d74ae5b5a9c5afa9af8",
            "placeholder": "​",
            "style": "IPY_MODEL_75c30ea1555a44fea9396cbe1d2d4272",
            "value": "Downloading (…)solve/main/vocab.txt: 100%"
          }
        },
        "0dd879d9a5ed4a108660de9c628b029c": {
          "model_module": "@jupyter-widgets/controls",
          "model_name": "FloatProgressModel",
          "model_module_version": "1.5.0",
          "state": {
            "_dom_classes": [],
            "_model_module": "@jupyter-widgets/controls",
            "_model_module_version": "1.5.0",
            "_model_name": "FloatProgressModel",
            "_view_count": null,
            "_view_module": "@jupyter-widgets/controls",
            "_view_module_version": "1.5.0",
            "_view_name": "ProgressView",
            "bar_style": "success",
            "description": "",
            "description_tooltip": null,
            "layout": "IPY_MODEL_6e4f56a2e8584793a741c6e223df86b3",
            "max": 231508,
            "min": 0,
            "orientation": "horizontal",
            "style": "IPY_MODEL_5f5bba4e47b7436986ab0c12632fc75b",
            "value": 231508
          }
        },
        "47c20dab40ec43e1aa7b93a11e4b1fbf": {
          "model_module": "@jupyter-widgets/controls",
          "model_name": "HTMLModel",
          "model_module_version": "1.5.0",
          "state": {
            "_dom_classes": [],
            "_model_module": "@jupyter-widgets/controls",
            "_model_module_version": "1.5.0",
            "_model_name": "HTMLModel",
            "_view_count": null,
            "_view_module": "@jupyter-widgets/controls",
            "_view_module_version": "1.5.0",
            "_view_name": "HTMLView",
            "description": "",
            "description_tooltip": null,
            "layout": "IPY_MODEL_014c8b507b5249ec91c0d94a3df913e3",
            "placeholder": "​",
            "style": "IPY_MODEL_f44e58cad83c44628a1aec33b7b2fd4a",
            "value": " 232k/232k [00:00&lt;00:00, 2.30MB/s]"
          }
        },
        "1304803682e842049a97471d90c610df": {
          "model_module": "@jupyter-widgets/base",
          "model_name": "LayoutModel",
          "model_module_version": "1.2.0",
          "state": {
            "_model_module": "@jupyter-widgets/base",
            "_model_module_version": "1.2.0",
            "_model_name": "LayoutModel",
            "_view_count": null,
            "_view_module": "@jupyter-widgets/base",
            "_view_module_version": "1.2.0",
            "_view_name": "LayoutView",
            "align_content": null,
            "align_items": null,
            "align_self": null,
            "border": null,
            "bottom": null,
            "display": null,
            "flex": null,
            "flex_flow": null,
            "grid_area": null,
            "grid_auto_columns": null,
            "grid_auto_flow": null,
            "grid_auto_rows": null,
            "grid_column": null,
            "grid_gap": null,
            "grid_row": null,
            "grid_template_areas": null,
            "grid_template_columns": null,
            "grid_template_rows": null,
            "height": null,
            "justify_content": null,
            "justify_items": null,
            "left": null,
            "margin": null,
            "max_height": null,
            "max_width": null,
            "min_height": null,
            "min_width": null,
            "object_fit": null,
            "object_position": null,
            "order": null,
            "overflow": null,
            "overflow_x": null,
            "overflow_y": null,
            "padding": null,
            "right": null,
            "top": null,
            "visibility": null,
            "width": null
          }
        },
        "37bfa59bf9404d74ae5b5a9c5afa9af8": {
          "model_module": "@jupyter-widgets/base",
          "model_name": "LayoutModel",
          "model_module_version": "1.2.0",
          "state": {
            "_model_module": "@jupyter-widgets/base",
            "_model_module_version": "1.2.0",
            "_model_name": "LayoutModel",
            "_view_count": null,
            "_view_module": "@jupyter-widgets/base",
            "_view_module_version": "1.2.0",
            "_view_name": "LayoutView",
            "align_content": null,
            "align_items": null,
            "align_self": null,
            "border": null,
            "bottom": null,
            "display": null,
            "flex": null,
            "flex_flow": null,
            "grid_area": null,
            "grid_auto_columns": null,
            "grid_auto_flow": null,
            "grid_auto_rows": null,
            "grid_column": null,
            "grid_gap": null,
            "grid_row": null,
            "grid_template_areas": null,
            "grid_template_columns": null,
            "grid_template_rows": null,
            "height": null,
            "justify_content": null,
            "justify_items": null,
            "left": null,
            "margin": null,
            "max_height": null,
            "max_width": null,
            "min_height": null,
            "min_width": null,
            "object_fit": null,
            "object_position": null,
            "order": null,
            "overflow": null,
            "overflow_x": null,
            "overflow_y": null,
            "padding": null,
            "right": null,
            "top": null,
            "visibility": null,
            "width": null
          }
        },
        "75c30ea1555a44fea9396cbe1d2d4272": {
          "model_module": "@jupyter-widgets/controls",
          "model_name": "DescriptionStyleModel",
          "model_module_version": "1.5.0",
          "state": {
            "_model_module": "@jupyter-widgets/controls",
            "_model_module_version": "1.5.0",
            "_model_name": "DescriptionStyleModel",
            "_view_count": null,
            "_view_module": "@jupyter-widgets/base",
            "_view_module_version": "1.2.0",
            "_view_name": "StyleView",
            "description_width": ""
          }
        },
        "6e4f56a2e8584793a741c6e223df86b3": {
          "model_module": "@jupyter-widgets/base",
          "model_name": "LayoutModel",
          "model_module_version": "1.2.0",
          "state": {
            "_model_module": "@jupyter-widgets/base",
            "_model_module_version": "1.2.0",
            "_model_name": "LayoutModel",
            "_view_count": null,
            "_view_module": "@jupyter-widgets/base",
            "_view_module_version": "1.2.0",
            "_view_name": "LayoutView",
            "align_content": null,
            "align_items": null,
            "align_self": null,
            "border": null,
            "bottom": null,
            "display": null,
            "flex": null,
            "flex_flow": null,
            "grid_area": null,
            "grid_auto_columns": null,
            "grid_auto_flow": null,
            "grid_auto_rows": null,
            "grid_column": null,
            "grid_gap": null,
            "grid_row": null,
            "grid_template_areas": null,
            "grid_template_columns": null,
            "grid_template_rows": null,
            "height": null,
            "justify_content": null,
            "justify_items": null,
            "left": null,
            "margin": null,
            "max_height": null,
            "max_width": null,
            "min_height": null,
            "min_width": null,
            "object_fit": null,
            "object_position": null,
            "order": null,
            "overflow": null,
            "overflow_x": null,
            "overflow_y": null,
            "padding": null,
            "right": null,
            "top": null,
            "visibility": null,
            "width": null
          }
        },
        "5f5bba4e47b7436986ab0c12632fc75b": {
          "model_module": "@jupyter-widgets/controls",
          "model_name": "ProgressStyleModel",
          "model_module_version": "1.5.0",
          "state": {
            "_model_module": "@jupyter-widgets/controls",
            "_model_module_version": "1.5.0",
            "_model_name": "ProgressStyleModel",
            "_view_count": null,
            "_view_module": "@jupyter-widgets/base",
            "_view_module_version": "1.2.0",
            "_view_name": "StyleView",
            "bar_color": null,
            "description_width": ""
          }
        },
        "014c8b507b5249ec91c0d94a3df913e3": {
          "model_module": "@jupyter-widgets/base",
          "model_name": "LayoutModel",
          "model_module_version": "1.2.0",
          "state": {
            "_model_module": "@jupyter-widgets/base",
            "_model_module_version": "1.2.0",
            "_model_name": "LayoutModel",
            "_view_count": null,
            "_view_module": "@jupyter-widgets/base",
            "_view_module_version": "1.2.0",
            "_view_name": "LayoutView",
            "align_content": null,
            "align_items": null,
            "align_self": null,
            "border": null,
            "bottom": null,
            "display": null,
            "flex": null,
            "flex_flow": null,
            "grid_area": null,
            "grid_auto_columns": null,
            "grid_auto_flow": null,
            "grid_auto_rows": null,
            "grid_column": null,
            "grid_gap": null,
            "grid_row": null,
            "grid_template_areas": null,
            "grid_template_columns": null,
            "grid_template_rows": null,
            "height": null,
            "justify_content": null,
            "justify_items": null,
            "left": null,
            "margin": null,
            "max_height": null,
            "max_width": null,
            "min_height": null,
            "min_width": null,
            "object_fit": null,
            "object_position": null,
            "order": null,
            "overflow": null,
            "overflow_x": null,
            "overflow_y": null,
            "padding": null,
            "right": null,
            "top": null,
            "visibility": null,
            "width": null
          }
        },
        "f44e58cad83c44628a1aec33b7b2fd4a": {
          "model_module": "@jupyter-widgets/controls",
          "model_name": "DescriptionStyleModel",
          "model_module_version": "1.5.0",
          "state": {
            "_model_module": "@jupyter-widgets/controls",
            "_model_module_version": "1.5.0",
            "_model_name": "DescriptionStyleModel",
            "_view_count": null,
            "_view_module": "@jupyter-widgets/base",
            "_view_module_version": "1.2.0",
            "_view_name": "StyleView",
            "description_width": ""
          }
        }
      }
    }
  },
  "nbformat": 4,
  "nbformat_minor": 5
}