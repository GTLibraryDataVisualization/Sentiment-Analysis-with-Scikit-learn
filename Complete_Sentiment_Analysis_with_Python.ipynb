{
  "cells": [
    {
      "cell_type": "markdown",
      "metadata": {
        "id": "view-in-github",
        "colab_type": "text"
      },
      "source": [
        "<a href=\"https://colab.research.google.com/github/cynthialmy/Sentiment-Analysis-with-Scikit-learn/blob/main/Complete_Sentiment_Analysis_with_Python.ipynb\" target=\"_parent\"><img src=\"https://colab.research.google.com/assets/colab-badge.svg\" alt=\"Open In Colab\"/></a>"
      ]
    },
    {
      "cell_type": "markdown",
      "metadata": {
        "id": "9609ebdb-614f-414c-9ab6-33ee56e68e00"
      },
      "source": [
        "# Introduction"
      ],
      "id": "9609ebdb-614f-414c-9ab6-33ee56e68e00"
    },
    {
      "cell_type": "markdown",
      "metadata": {
        "id": "ea7c04b8-5ae0-4e6f-a84a-354985d4d975"
      },
      "source": [
        "## Sentiment Analysis\n",
        "\n",
        "Sentiment analysis is a technique used in natural language processing (NLP) to identify and extract subjective information from text, such as opinions, attitudes, emotions, and feelings. \n",
        "## Yelp Review Data\n",
        "Yelp is a platform where users can post reviews about businesses, products, and services. Therefore, analyzing Yelp data can provide valuable insights into customers' sentiments towards a particular business or product.\n",
        "\n"
      ],
      "id": "ea7c04b8-5ae0-4e6f-a84a-354985d4d975"
    },
    {
      "cell_type": "markdown",
      "metadata": {
        "id": "951db55c-ed5e-4d82-b4be-135f6a01671d"
      },
      "source": [
        "## Overview\n",
        "\n",
        "1. Introduction to sentiment analysis\n",
        "2. Data exploration and preprocessing of Yelp restaurant reviews\n",
        "3. Utilizing NLTK for feature extraction\n",
        "4. Training a machine learning model with scikit-learn to predict restaurant review stars\n",
        "5. Bonus: out-of-box techniques:\n",
        "  - VADER (Valence Aware Dictionary and sEntiment Reasoner) - Bag of words approach\n",
        "  - Roberta Pretrained Model from HuggingFace🤗\n",
        "  - HuggingFace Pipeline"
      ],
      "id": "951db55c-ed5e-4d82-b4be-135f6a01671d"
    },
    {
      "cell_type": "markdown",
      "metadata": {
        "id": "4AFcrURiTfXV"
      },
      "source": [
        "\n",
        "Video about Sentiment Analysis: https://www.youtube.com/watch?v=i4D5DZ5ZG-0"
      ],
      "id": "4AFcrURiTfXV"
    },
    {
      "cell_type": "code",
      "execution_count": null,
      "metadata": {
        "colab": {
          "base_uri": "https://localhost:8080/",
          "height": 911,
          "referenced_widgets": [
            "cf90006ec79d464b8ad6168c82594835",
            "ca3c14cd95dd486ca9382d90a365e874",
            "eedfdde86f904230a9edcebf96ee7f78",
            "b158389073d34510ae2e8f9e6df50d53",
            "18adb005cfd94c6fab9ca31c8739ae03",
            "2b55e0046db7443fb3e62ee24a50213d",
            "46dfe9828cec4338a41d540e2aeee9f4",
            "870ae20680c843c3b1fb1e4fc280941a",
            "b2269ef30ebf4589845a0e33077f11ed",
            "21a970b599f84ef38aa30d8a7d2dd6c2",
            "7a11b74737a745ce918774b0418f42b2",
            "f8c1a3301cac497fa1aafffa1c680f72",
            "3b1b78abfbeb489a8c5a75f8065fa728",
            "752e829a8d2a4783a7ec9854a613f6e2",
            "1f9b9514ce3e4081b77d1e39aacf4316",
            "85db2ec5d1d9402886b0a0721d344159",
            "48a84a5ad7a1455ca9f8e784c5c63040",
            "5625945fead3443895c87ec15e79a855",
            "f3ac84a89d38470b91ab9e295a323da2",
            "394c8b66f4ad4b5c90cb0455a434caa7",
            "b329bf27398a4c17bb9e4fa55ad09cb9",
            "e79fe9da6750483696d72d88d1ee5c81",
            "7da66c7606e84331b502e6b4030dc474",
            "4e878fca9fac4da6847241fe45f4fd5d",
            "3a7380be998e41e1b595c96c7c1e76f0",
            "3f2cc9e464cd405a95684f1961e3cf13",
            "03a5e205c7df4108ba84096e6e4a8453",
            "43a4d759e5d34b86802413fc99544c72",
            "9f94970fa4df44c69938693e49e22fb1",
            "0cedb335a5e7449cb54a312fbed7e615",
            "d216a674e99d407e86f77299eba18836",
            "467797a903d545b68a7cd07c9b0ad769",
            "aece2fa22a7e47bb83ea410d841e196e",
            "05c88b32c21741a7a39f70890d93a0db",
            "873383c1ae2d408883947ec46929fe6a",
            "55562686555c4585ace47e68690c00a2",
            "36b92f31466e486bada28c10e98b4d93",
            "75779db332f64d7aadb9f8cf4bf6283b",
            "2d42ff749b5e454fb4d3f13457d6d3d1",
            "69657187923245d2a5f00523a436789c",
            "398a598e58cd49f8861a29f9d0e4b434",
            "4c94681a463f4c7fbc85a837e956a489",
            "9dcd07adc07248dba612496cfa985073",
            "327b43e4be1b4b7eba172fcd8b76233c",
            "dcd622b2d6024394a2c35c0c75eed9f7",
            "e2d625b5080b4b7794d9c82e50283d42",
            "ff26b45859e44e9da55bebcfe53ec8bb",
            "01debe1322ff4a84acb531a91237e9fb",
            "33d014f0aba7447180528b3f6a129824",
            "292dd63bab814eabaf61a08b34183846",
            "964ba6faf03c4ae286a18ac0d816aa02",
            "ee644852f2ad4ae28f3c58e38d855aba",
            "97f13b47a27d495797ac7452ab8a70f3",
            "f64f01b1fe614a08a18e410d69d79aa7",
            "604280b99b8b498d9d1733480a84577b"
          ]
        },
        "id": "84260af5-b0fa-4e26-b9b2-3cd43ae7a27e",
        "outputId": "b0e74683-adc1-4ade-e031-824e3e8ba5ff"
      },
      "outputs": [
        {
          "name": "stderr",
          "output_type": "stream",
          "text": [
            "[nltk_data] Downloading package stopwords to /root/nltk_data...\n",
            "[nltk_data]   Unzipping corpora/stopwords.zip.\n",
            "[nltk_data] Downloading package punkt to /root/nltk_data...\n",
            "[nltk_data]   Unzipping tokenizers/punkt.zip.\n",
            "[nltk_data] Downloading package averaged_perceptron_tagger to\n",
            "[nltk_data]     /root/nltk_data...\n",
            "[nltk_data]   Unzipping taggers/averaged_perceptron_tagger.zip.\n",
            "[nltk_data] Downloading package maxent_ne_chunker to\n",
            "[nltk_data]     /root/nltk_data...\n",
            "[nltk_data]   Unzipping chunkers/maxent_ne_chunker.zip.\n",
            "[nltk_data] Downloading package words to /root/nltk_data...\n",
            "[nltk_data]   Unzipping corpora/words.zip.\n",
            "[nltk_data] Downloading package vader_lexicon to /root/nltk_data...\n"
          ]
        },
        {
          "name": "stdout",
          "output_type": "stream",
          "text": [
            "Looking in indexes: https://pypi.org/simple, https://us-python.pkg.dev/colab-wheels/public/simple/\n",
            "Collecting transformers\n",
            "  Downloading transformers-4.27.4-py3-none-any.whl (6.8 MB)\n",
            "\u001b[2K     \u001b[90m━━━━━━━━━━━━━━━━━━━━━━━━━━━━━━━━━━━━━━━━\u001b[0m \u001b[32m6.8/6.8 MB\u001b[0m \u001b[31m12.8 MB/s\u001b[0m eta \u001b[36m0:00:00\u001b[0m\n",
            "\u001b[?25hCollecting tokenizers!=0.11.3,<0.14,>=0.11.1\n",
            "  Downloading tokenizers-0.13.2-cp39-cp39-manylinux_2_17_x86_64.manylinux2014_x86_64.whl (7.6 MB)\n",
            "\u001b[2K     \u001b[90m━━━━━━━━━━━━━━━━━━━━━━━━━━━━━━━━━━━━━━━━\u001b[0m \u001b[32m7.6/7.6 MB\u001b[0m \u001b[31m34.4 MB/s\u001b[0m eta \u001b[36m0:00:00\u001b[0m\n",
            "\u001b[?25hRequirement already satisfied: numpy>=1.17 in /usr/local/lib/python3.9/dist-packages (from transformers) (1.22.4)\n",
            "Requirement already satisfied: pyyaml>=5.1 in /usr/local/lib/python3.9/dist-packages (from transformers) (6.0)\n",
            "Collecting huggingface-hub<1.0,>=0.11.0\n",
            "  Downloading huggingface_hub-0.13.3-py3-none-any.whl (199 kB)\n",
            "\u001b[2K     \u001b[90m━━━━━━━━━━━━━━━━━━━━━━━━━━━━━━━━━━━━━━━\u001b[0m \u001b[32m199.8/199.8 KB\u001b[0m \u001b[31m6.1 MB/s\u001b[0m eta \u001b[36m0:00:00\u001b[0m\n",
            "\u001b[?25hRequirement already satisfied: regex!=2019.12.17 in /usr/local/lib/python3.9/dist-packages (from transformers) (2022.10.31)\n",
            "Requirement already satisfied: packaging>=20.0 in /usr/local/lib/python3.9/dist-packages (from transformers) (23.0)\n",
            "Requirement already satisfied: tqdm>=4.27 in /usr/local/lib/python3.9/dist-packages (from transformers) (4.65.0)\n",
            "Requirement already satisfied: requests in /usr/local/lib/python3.9/dist-packages (from transformers) (2.27.1)\n",
            "Requirement already satisfied: filelock in /usr/local/lib/python3.9/dist-packages (from transformers) (3.10.7)\n",
            "Requirement already satisfied: typing-extensions>=3.7.4.3 in /usr/local/lib/python3.9/dist-packages (from huggingface-hub<1.0,>=0.11.0->transformers) (4.5.0)\n",
            "Requirement already satisfied: idna<4,>=2.5 in /usr/local/lib/python3.9/dist-packages (from requests->transformers) (3.4)\n",
            "Requirement already satisfied: certifi>=2017.4.17 in /usr/local/lib/python3.9/dist-packages (from requests->transformers) (2022.12.7)\n",
            "Requirement already satisfied: charset-normalizer~=2.0.0 in /usr/local/lib/python3.9/dist-packages (from requests->transformers) (2.0.12)\n",
            "Requirement already satisfied: urllib3<1.27,>=1.21.1 in /usr/local/lib/python3.9/dist-packages (from requests->transformers) (1.26.15)\n",
            "Installing collected packages: tokenizers, huggingface-hub, transformers\n",
            "Successfully installed huggingface-hub-0.13.3 tokenizers-0.13.2 transformers-4.27.4\n"
          ]
        },
        {
          "data": {
            "application/vnd.jupyter.widget-view+json": {
              "model_id": "cf90006ec79d464b8ad6168c82594835",
              "version_major": 2,
              "version_minor": 0
            },
            "text/plain": [
              "Downloading (…)lve/main/config.json:   0%|          | 0.00/929 [00:00<?, ?B/s]"
            ]
          },
          "metadata": {},
          "output_type": "display_data"
        },
        {
          "data": {
            "application/vnd.jupyter.widget-view+json": {
              "model_id": "f8c1a3301cac497fa1aafffa1c680f72",
              "version_major": 2,
              "version_minor": 0
            },
            "text/plain": [
              "Downloading (…)olve/main/vocab.json:   0%|          | 0.00/899k [00:00<?, ?B/s]"
            ]
          },
          "metadata": {},
          "output_type": "display_data"
        },
        {
          "data": {
            "application/vnd.jupyter.widget-view+json": {
              "model_id": "7da66c7606e84331b502e6b4030dc474",
              "version_major": 2,
              "version_minor": 0
            },
            "text/plain": [
              "Downloading (…)olve/main/merges.txt:   0%|          | 0.00/456k [00:00<?, ?B/s]"
            ]
          },
          "metadata": {},
          "output_type": "display_data"
        },
        {
          "data": {
            "application/vnd.jupyter.widget-view+json": {
              "model_id": "05c88b32c21741a7a39f70890d93a0db",
              "version_major": 2,
              "version_minor": 0
            },
            "text/plain": [
              "Downloading (…)cial_tokens_map.json:   0%|          | 0.00/239 [00:00<?, ?B/s]"
            ]
          },
          "metadata": {},
          "output_type": "display_data"
        },
        {
          "data": {
            "application/vnd.jupyter.widget-view+json": {
              "model_id": "dcd622b2d6024394a2c35c0c75eed9f7",
              "version_major": 2,
              "version_minor": 0
            },
            "text/plain": [
              "Downloading pytorch_model.bin:   0%|          | 0.00/501M [00:00<?, ?B/s]"
            ]
          },
          "metadata": {},
          "output_type": "display_data"
        },
        {
          "name": "stderr",
          "output_type": "stream",
          "text": [
            "Some weights of the model checkpoint at cardiffnlp/twitter-roberta-base-sentiment-latest were not used when initializing RobertaForSequenceClassification: ['roberta.pooler.dense.weight', 'roberta.pooler.dense.bias']\n",
            "- This IS expected if you are initializing RobertaForSequenceClassification from the checkpoint of a model trained on another task or with another architecture (e.g. initializing a BertForSequenceClassification model from a BertForPreTraining model).\n",
            "- This IS NOT expected if you are initializing RobertaForSequenceClassification from the checkpoint of a model that you expect to be exactly identical (initializing a BertForSequenceClassification model from a BertForSequenceClassification model).\n"
          ]
        }
      ],
      "source": [
        "# imports all the necessary libraries and packages required for \n",
        "# performing sentiment analysis using machine learning techniques \n",
        "# and natural language processing. \n",
        "import pandas as pd # imports the pandas library, which provides data manipulation tools and data structures for Python.\n",
        "import numpy as np # imports the NumPy library, which provides support for large, multi-dimensional arrays and matrices.\n",
        "import matplotlib.pyplot as plt # imports the matplotlib library, which provides data visualization tools for Python.\n",
        "import seaborn as sns # imports the seaborn library, which provides additional data visualization tools and styles for Python.\n",
        "# imports the Natural Language Toolkit (NLTK), a popular library for natural language processing in Python.\n",
        "import nltk \n",
        "# imports a list of stop words from the NLTK corpus, which are common words that are often removed from text during text processing.\n",
        "from nltk.corpus import stopwords \n",
        "# downloads the stop words list from the NLTK corpus.\n",
        "nltk.download('stopwords') \n",
        "import string # imports a built-in module that provides a list of common punctuation characters.\n",
        "import math # imports a built-in math library that provides mathematical functions and constants.\n",
        "# imports the CountVectorizer class from the scikit-learn library, which is used for text feature extraction.\n",
        "from sklearn.feature_extraction.text import CountVectorizer \n",
        "# imports functions for splitting data into training and testing sets, and for cross-validation.\n",
        "from sklearn.model_selection import train_test_split, cross_val_score\n",
        "# imports the classification_report function from scikit-learn, which generates a report of precision, recall, F1 score, and support for each class.\n",
        "from sklearn.metrics import classification_report\n",
        "# imports functions for evaluating classification models, including confusion matrix, accuracy score, ROC AUC score, and ROC curve.\n",
        "from sklearn.metrics import confusion_matrix, accuracy_score, roc_auc_score, roc_curve\n",
        "# imports GridSearchCV class from scikit-learn for hyperparameter tuning.\n",
        "from sklearn.model_selection import GridSearchCV\n",
        "# sets the matplotlib backend to inline for displaying plots in the Jupyter notebook.\n",
        "%matplotlib inline\n",
        "\n",
        "\n",
        "# downloads the words package from the NLTK corpus, which provides a list of English words.\n",
        "nltk.download('words')\n",
        "# downloads the vader_lexicon package from the NLTK corpus, which provides a sentiment lexicon for sentiment analysis.\n",
        "nltk.download('vader_lexicon')\n",
        "\n",
        "# installs the transformers package for working with pre-trained models for natural language processing.\n",
        "!pip install transformers\n",
        "# imports the AutoTokenizer class from the transformers library, which is used for tokenizing text input.\n",
        "from transformers import AutoTokenizer\n",
        "# imports the AutoModelForSequenceClassification class from the transformers library, \n",
        "# which is used for performing sequence classification tasks such as sentiment analysis.\n",
        "from transformers import AutoModelForSequenceClassification\n",
        "# imports the softmax function from the scipy library, which is used for calculating probabilities in classification models.\n",
        "from scipy.special import softmax\n",
        "# sets the pre-trained sentiment analysis model to be used to the Cardiff University's RoBERTa model.\n",
        "MODEL = f\"cardiffnlp/twitter-roberta-base-sentiment-latest\"\n",
        "# initializes the tokenizer with the pre-trained model\n",
        "tokenizer = AutoTokenizer.from_pretrained(MODEL)\n",
        "model = AutoModelForSequenceClassification.from_pretrained(MODEL)"
      ],
      "id": "84260af5-b0fa-4e26-b9b2-3cd43ae7a27e"
    },
    {
      "cell_type": "markdown",
      "metadata": {
        "id": "f1b151c6-253e-4544-9fcc-cd9e5f637de7"
      },
      "source": [
        "## Sample of dataset\n",
        "\n",
        "All data set can be accessed and downloaded from Yelp Open Data Set [https://www.yelp.com/dataset/download]."
      ],
      "id": "f1b151c6-253e-4544-9fcc-cd9e5f637de7"
    },
    {
      "cell_type": "code",
      "execution_count": null,
      "metadata": {
        "id": "5051a45d-1867-44be-bb1e-7e46750b43ad"
      },
      "outputs": [],
      "source": [
        "# LOADING THE DATASET AND SEEING THE DETAILS\n",
        "data = pd.read_csv('https://raw.githubusercontent.com/cynthialmy/DataVizLab/main/yelp_dataset/yelp.csv')"
      ],
      "id": "5051a45d-1867-44be-bb1e-7e46750b43ad"
    },
    {
      "cell_type": "code",
      "execution_count": null,
      "metadata": {
        "colab": {
          "base_uri": "https://localhost:8080/"
        },
        "id": "38be147e-2425-439a-bd7b-fb5ff71f0c0d",
        "outputId": "b20e38df-500b-4db3-9a06-b433d803b159"
      },
      "outputs": [
        {
          "name": "stdout",
          "output_type": "stream",
          "text": [
            "Shape of the dataset:\n"
          ]
        },
        {
          "data": {
            "text/plain": [
              "(10000, 10)"
            ]
          },
          "execution_count": 3,
          "metadata": {},
          "output_type": "execute_result"
        }
      ],
      "source": [
        "# SHAPE OF THE DATASET\n",
        "print(\"Shape of the dataset:\")\n",
        "# Your code here\n",
        "data.shape"
      ],
      "id": "38be147e-2425-439a-bd7b-fb5ff71f0c0d"
    },
    {
      "cell_type": "code",
      "execution_count": null,
      "metadata": {
        "colab": {
          "base_uri": "https://localhost:8080/"
        },
        "id": "be3e740c-e0c9-4a98-b706-b3b704f15e7a",
        "outputId": "db0909e1-b939-42fe-db33-a6a287467f16"
      },
      "outputs": [
        {
          "name": "stdout",
          "output_type": "stream",
          "text": [
            "Column names:\n"
          ]
        },
        {
          "data": {
            "text/plain": [
              "Index(['business_id', 'date', 'review_id', 'stars', 'text', 'type', 'user_id',\n",
              "       'cool', 'useful', 'funny'],\n",
              "      dtype='object')"
            ]
          },
          "execution_count": 4,
          "metadata": {},
          "output_type": "execute_result"
        }
      ],
      "source": [
        "# COLUMN NAMES\n",
        "print(\"Column names:\")\n",
        "# Your code here\n",
        "data.columns"
      ],
      "id": "be3e740c-e0c9-4a98-b706-b3b704f15e7a"
    },
    {
      "cell_type": "code",
      "execution_count": null,
      "metadata": {
        "colab": {
          "base_uri": "https://localhost:8080/"
        },
        "id": "8a258bd8-aea9-4969-827d-f8271ba56d9f",
        "outputId": "0de1e39b-8a1e-4fa9-930d-20795067c5f6"
      },
      "outputs": [
        {
          "name": "stdout",
          "output_type": "stream",
          "text": [
            "Datatype of each column:\n"
          ]
        },
        {
          "data": {
            "text/plain": [
              "business_id    object\n",
              "date           object\n",
              "review_id      object\n",
              "stars           int64\n",
              "text           object\n",
              "type           object\n",
              "user_id        object\n",
              "cool            int64\n",
              "useful          int64\n",
              "funny           int64\n",
              "dtype: object"
            ]
          },
          "execution_count": 5,
          "metadata": {},
          "output_type": "execute_result"
        }
      ],
      "source": [
        "# DATATYPE OF EACH COLUMN\n",
        "print(\"Datatype of each column:\")\n",
        "# Your code here\n",
        "data.dtypes"
      ],
      "id": "8a258bd8-aea9-4969-827d-f8271ba56d9f"
    },
    {
      "cell_type": "code",
      "execution_count": null,
      "metadata": {
        "colab": {
          "base_uri": "https://localhost:8080/",
          "height": 355
        },
        "id": "f21d0064-2f57-4e7f-857c-82c636b27918",
        "outputId": "733f4e1e-628d-4e37-a676-d8da7603623d"
      },
      "outputs": [
        {
          "name": "stdout",
          "output_type": "stream",
          "text": [
            "Few dataset entries:\n"
          ]
        },
        {
          "data": {
            "text/html": [
              "\n",
              "  <div id=\"df-013338ab-15ed-48f5-8221-b826391262de\">\n",
              "    <div class=\"colab-df-container\">\n",
              "      <div>\n",
              "<style scoped>\n",
              "    .dataframe tbody tr th:only-of-type {\n",
              "        vertical-align: middle;\n",
              "    }\n",
              "\n",
              "    .dataframe tbody tr th {\n",
              "        vertical-align: top;\n",
              "    }\n",
              "\n",
              "    .dataframe thead th {\n",
              "        text-align: right;\n",
              "    }\n",
              "</style>\n",
              "<table border=\"1\" class=\"dataframe\">\n",
              "  <thead>\n",
              "    <tr style=\"text-align: right;\">\n",
              "      <th></th>\n",
              "      <th>business_id</th>\n",
              "      <th>date</th>\n",
              "      <th>review_id</th>\n",
              "      <th>stars</th>\n",
              "      <th>text</th>\n",
              "      <th>type</th>\n",
              "      <th>user_id</th>\n",
              "      <th>cool</th>\n",
              "      <th>useful</th>\n",
              "      <th>funny</th>\n",
              "    </tr>\n",
              "  </thead>\n",
              "  <tbody>\n",
              "    <tr>\n",
              "      <th>0</th>\n",
              "      <td>9yKzy9PApeiPPOUJEtnvkg</td>\n",
              "      <td>2011-01-26</td>\n",
              "      <td>fWKvX83p0-ka4JS3dc6E5A</td>\n",
              "      <td>5</td>\n",
              "      <td>My wife took me here on my birthday for breakf...</td>\n",
              "      <td>review</td>\n",
              "      <td>rLtl8ZkDX5vH5nAx9C3q5Q</td>\n",
              "      <td>2</td>\n",
              "      <td>5</td>\n",
              "      <td>0</td>\n",
              "    </tr>\n",
              "    <tr>\n",
              "      <th>1</th>\n",
              "      <td>ZRJwVLyzEJq1VAihDhYiow</td>\n",
              "      <td>2011-07-27</td>\n",
              "      <td>IjZ33sJrzXqU-0X6U8NwyA</td>\n",
              "      <td>5</td>\n",
              "      <td>I have no idea why some people give bad review...</td>\n",
              "      <td>review</td>\n",
              "      <td>0a2KyEL0d3Yb1V6aivbIuQ</td>\n",
              "      <td>0</td>\n",
              "      <td>0</td>\n",
              "      <td>0</td>\n",
              "    </tr>\n",
              "    <tr>\n",
              "      <th>2</th>\n",
              "      <td>6oRAC4uyJCsJl1X0WZpVSA</td>\n",
              "      <td>2012-06-14</td>\n",
              "      <td>IESLBzqUCLdSzSqm0eCSxQ</td>\n",
              "      <td>4</td>\n",
              "      <td>love the gyro plate. Rice is so good and I als...</td>\n",
              "      <td>review</td>\n",
              "      <td>0hT2KtfLiobPvh6cDC8JQg</td>\n",
              "      <td>0</td>\n",
              "      <td>1</td>\n",
              "      <td>0</td>\n",
              "    </tr>\n",
              "    <tr>\n",
              "      <th>3</th>\n",
              "      <td>_1QQZuf4zZOyFCvXc0o6Vg</td>\n",
              "      <td>2010-05-27</td>\n",
              "      <td>G-WvGaISbqqaMHlNnByodA</td>\n",
              "      <td>5</td>\n",
              "      <td>Rosie, Dakota, and I LOVE Chaparral Dog Park!!...</td>\n",
              "      <td>review</td>\n",
              "      <td>uZetl9T0NcROGOyFfughhg</td>\n",
              "      <td>1</td>\n",
              "      <td>2</td>\n",
              "      <td>0</td>\n",
              "    </tr>\n",
              "    <tr>\n",
              "      <th>4</th>\n",
              "      <td>6ozycU1RpktNG2-1BroVtw</td>\n",
              "      <td>2012-01-05</td>\n",
              "      <td>1uJFq2r5QfJG_6ExMRCaGw</td>\n",
              "      <td>5</td>\n",
              "      <td>General Manager Scott Petello is a good egg!!!...</td>\n",
              "      <td>review</td>\n",
              "      <td>vYmM4KTsC8ZfQBg-j5MWkw</td>\n",
              "      <td>0</td>\n",
              "      <td>0</td>\n",
              "      <td>0</td>\n",
              "    </tr>\n",
              "  </tbody>\n",
              "</table>\n",
              "</div>\n",
              "      <button class=\"colab-df-convert\" onclick=\"convertToInteractive('df-013338ab-15ed-48f5-8221-b826391262de')\"\n",
              "              title=\"Convert this dataframe to an interactive table.\"\n",
              "              style=\"display:none;\">\n",
              "        \n",
              "  <svg xmlns=\"http://www.w3.org/2000/svg\" height=\"24px\"viewBox=\"0 0 24 24\"\n",
              "       width=\"24px\">\n",
              "    <path d=\"M0 0h24v24H0V0z\" fill=\"none\"/>\n",
              "    <path d=\"M18.56 5.44l.94 2.06.94-2.06 2.06-.94-2.06-.94-.94-2.06-.94 2.06-2.06.94zm-11 1L8.5 8.5l.94-2.06 2.06-.94-2.06-.94L8.5 2.5l-.94 2.06-2.06.94zm10 10l.94 2.06.94-2.06 2.06-.94-2.06-.94-.94-2.06-.94 2.06-2.06.94z\"/><path d=\"M17.41 7.96l-1.37-1.37c-.4-.4-.92-.59-1.43-.59-.52 0-1.04.2-1.43.59L10.3 9.45l-7.72 7.72c-.78.78-.78 2.05 0 2.83L4 21.41c.39.39.9.59 1.41.59.51 0 1.02-.2 1.41-.59l7.78-7.78 2.81-2.81c.8-.78.8-2.07 0-2.86zM5.41 20L4 18.59l7.72-7.72 1.47 1.35L5.41 20z\"/>\n",
              "  </svg>\n",
              "      </button>\n",
              "      \n",
              "  <style>\n",
              "    .colab-df-container {\n",
              "      display:flex;\n",
              "      flex-wrap:wrap;\n",
              "      gap: 12px;\n",
              "    }\n",
              "\n",
              "    .colab-df-convert {\n",
              "      background-color: #E8F0FE;\n",
              "      border: none;\n",
              "      border-radius: 50%;\n",
              "      cursor: pointer;\n",
              "      display: none;\n",
              "      fill: #1967D2;\n",
              "      height: 32px;\n",
              "      padding: 0 0 0 0;\n",
              "      width: 32px;\n",
              "    }\n",
              "\n",
              "    .colab-df-convert:hover {\n",
              "      background-color: #E2EBFA;\n",
              "      box-shadow: 0px 1px 2px rgba(60, 64, 67, 0.3), 0px 1px 3px 1px rgba(60, 64, 67, 0.15);\n",
              "      fill: #174EA6;\n",
              "    }\n",
              "\n",
              "    [theme=dark] .colab-df-convert {\n",
              "      background-color: #3B4455;\n",
              "      fill: #D2E3FC;\n",
              "    }\n",
              "\n",
              "    [theme=dark] .colab-df-convert:hover {\n",
              "      background-color: #434B5C;\n",
              "      box-shadow: 0px 1px 3px 1px rgba(0, 0, 0, 0.15);\n",
              "      filter: drop-shadow(0px 1px 2px rgba(0, 0, 0, 0.3));\n",
              "      fill: #FFFFFF;\n",
              "    }\n",
              "  </style>\n",
              "\n",
              "      <script>\n",
              "        const buttonEl =\n",
              "          document.querySelector('#df-013338ab-15ed-48f5-8221-b826391262de button.colab-df-convert');\n",
              "        buttonEl.style.display =\n",
              "          google.colab.kernel.accessAllowed ? 'block' : 'none';\n",
              "\n",
              "        async function convertToInteractive(key) {\n",
              "          const element = document.querySelector('#df-013338ab-15ed-48f5-8221-b826391262de');\n",
              "          const dataTable =\n",
              "            await google.colab.kernel.invokeFunction('convertToInteractive',\n",
              "                                                     [key], {});\n",
              "          if (!dataTable) return;\n",
              "\n",
              "          const docLinkHtml = 'Like what you see? Visit the ' +\n",
              "            '<a target=\"_blank\" href=https://colab.research.google.com/notebooks/data_table.ipynb>data table notebook</a>'\n",
              "            + ' to learn more about interactive tables.';\n",
              "          element.innerHTML = '';\n",
              "          dataTable['output_type'] = 'display_data';\n",
              "          await google.colab.output.renderOutput(dataTable, element);\n",
              "          const docLink = document.createElement('div');\n",
              "          docLink.innerHTML = docLinkHtml;\n",
              "          element.appendChild(docLink);\n",
              "        }\n",
              "      </script>\n",
              "    </div>\n",
              "  </div>\n",
              "  "
            ],
            "text/plain": [
              "              business_id        date               review_id  stars  \\\n",
              "0  9yKzy9PApeiPPOUJEtnvkg  2011-01-26  fWKvX83p0-ka4JS3dc6E5A      5   \n",
              "1  ZRJwVLyzEJq1VAihDhYiow  2011-07-27  IjZ33sJrzXqU-0X6U8NwyA      5   \n",
              "2  6oRAC4uyJCsJl1X0WZpVSA  2012-06-14  IESLBzqUCLdSzSqm0eCSxQ      4   \n",
              "3  _1QQZuf4zZOyFCvXc0o6Vg  2010-05-27  G-WvGaISbqqaMHlNnByodA      5   \n",
              "4  6ozycU1RpktNG2-1BroVtw  2012-01-05  1uJFq2r5QfJG_6ExMRCaGw      5   \n",
              "\n",
              "                                                text    type  \\\n",
              "0  My wife took me here on my birthday for breakf...  review   \n",
              "1  I have no idea why some people give bad review...  review   \n",
              "2  love the gyro plate. Rice is so good and I als...  review   \n",
              "3  Rosie, Dakota, and I LOVE Chaparral Dog Park!!...  review   \n",
              "4  General Manager Scott Petello is a good egg!!!...  review   \n",
              "\n",
              "                  user_id  cool  useful  funny  \n",
              "0  rLtl8ZkDX5vH5nAx9C3q5Q     2       5      0  \n",
              "1  0a2KyEL0d3Yb1V6aivbIuQ     0       0      0  \n",
              "2  0hT2KtfLiobPvh6cDC8JQg     0       1      0  \n",
              "3  uZetl9T0NcROGOyFfughhg     1       2      0  \n",
              "4  vYmM4KTsC8ZfQBg-j5MWkw     0       0      0  "
            ]
          },
          "execution_count": 6,
          "metadata": {},
          "output_type": "execute_result"
        }
      ],
      "source": [
        "# Take a look at the first few entries\n",
        "print(\"Few dataset entries:\")\n",
        "# Your code here\n",
        "data.head()"
      ],
      "id": "f21d0064-2f57-4e7f-857c-82c636b27918"
    },
    {
      "cell_type": "code",
      "execution_count": null,
      "metadata": {
        "colab": {
          "base_uri": "https://localhost:8080/",
          "height": 474
        },
        "id": "9229f220-f897-4314-9bff-54667402739d",
        "outputId": "d512a03d-967f-49d4-ad9b-c54a2826ebc2"
      },
      "outputs": [
        {
          "name": "stdout",
          "output_type": "stream",
          "text": [
            "Summary of the dataset:\n"
          ]
        },
        {
          "data": {
            "text/html": [
              "\n",
              "  <div id=\"df-dce70188-31f7-446c-9fd2-e951a3deea3e\">\n",
              "    <div class=\"colab-df-container\">\n",
              "      <div>\n",
              "<style scoped>\n",
              "    .dataframe tbody tr th:only-of-type {\n",
              "        vertical-align: middle;\n",
              "    }\n",
              "\n",
              "    .dataframe tbody tr th {\n",
              "        vertical-align: top;\n",
              "    }\n",
              "\n",
              "    .dataframe thead th {\n",
              "        text-align: right;\n",
              "    }\n",
              "</style>\n",
              "<table border=\"1\" class=\"dataframe\">\n",
              "  <thead>\n",
              "    <tr style=\"text-align: right;\">\n",
              "      <th></th>\n",
              "      <th>business_id</th>\n",
              "      <th>date</th>\n",
              "      <th>review_id</th>\n",
              "      <th>stars</th>\n",
              "      <th>text</th>\n",
              "      <th>type</th>\n",
              "      <th>user_id</th>\n",
              "      <th>cool</th>\n",
              "      <th>useful</th>\n",
              "      <th>funny</th>\n",
              "    </tr>\n",
              "  </thead>\n",
              "  <tbody>\n",
              "    <tr>\n",
              "      <th>count</th>\n",
              "      <td>10000</td>\n",
              "      <td>10000</td>\n",
              "      <td>10000</td>\n",
              "      <td>10000.000000</td>\n",
              "      <td>10000</td>\n",
              "      <td>10000</td>\n",
              "      <td>10000</td>\n",
              "      <td>10000.000000</td>\n",
              "      <td>10000.000000</td>\n",
              "      <td>10000.000000</td>\n",
              "    </tr>\n",
              "    <tr>\n",
              "      <th>unique</th>\n",
              "      <td>4174</td>\n",
              "      <td>1995</td>\n",
              "      <td>10000</td>\n",
              "      <td>NaN</td>\n",
              "      <td>9998</td>\n",
              "      <td>1</td>\n",
              "      <td>6403</td>\n",
              "      <td>NaN</td>\n",
              "      <td>NaN</td>\n",
              "      <td>NaN</td>\n",
              "    </tr>\n",
              "    <tr>\n",
              "      <th>top</th>\n",
              "      <td>JokKtdXU7zXHcr20Lrk29A</td>\n",
              "      <td>2011-03-28</td>\n",
              "      <td>fWKvX83p0-ka4JS3dc6E5A</td>\n",
              "      <td>NaN</td>\n",
              "      <td>Great service</td>\n",
              "      <td>review</td>\n",
              "      <td>fczQCSmaWF78toLEmb0Zsw</td>\n",
              "      <td>NaN</td>\n",
              "      <td>NaN</td>\n",
              "      <td>NaN</td>\n",
              "    </tr>\n",
              "    <tr>\n",
              "      <th>freq</th>\n",
              "      <td>37</td>\n",
              "      <td>21</td>\n",
              "      <td>1</td>\n",
              "      <td>NaN</td>\n",
              "      <td>2</td>\n",
              "      <td>10000</td>\n",
              "      <td>38</td>\n",
              "      <td>NaN</td>\n",
              "      <td>NaN</td>\n",
              "      <td>NaN</td>\n",
              "    </tr>\n",
              "    <tr>\n",
              "      <th>mean</th>\n",
              "      <td>NaN</td>\n",
              "      <td>NaN</td>\n",
              "      <td>NaN</td>\n",
              "      <td>3.777500</td>\n",
              "      <td>NaN</td>\n",
              "      <td>NaN</td>\n",
              "      <td>NaN</td>\n",
              "      <td>0.876800</td>\n",
              "      <td>1.409300</td>\n",
              "      <td>0.701300</td>\n",
              "    </tr>\n",
              "    <tr>\n",
              "      <th>std</th>\n",
              "      <td>NaN</td>\n",
              "      <td>NaN</td>\n",
              "      <td>NaN</td>\n",
              "      <td>1.214636</td>\n",
              "      <td>NaN</td>\n",
              "      <td>NaN</td>\n",
              "      <td>NaN</td>\n",
              "      <td>2.067861</td>\n",
              "      <td>2.336647</td>\n",
              "      <td>1.907942</td>\n",
              "    </tr>\n",
              "    <tr>\n",
              "      <th>min</th>\n",
              "      <td>NaN</td>\n",
              "      <td>NaN</td>\n",
              "      <td>NaN</td>\n",
              "      <td>1.000000</td>\n",
              "      <td>NaN</td>\n",
              "      <td>NaN</td>\n",
              "      <td>NaN</td>\n",
              "      <td>0.000000</td>\n",
              "      <td>0.000000</td>\n",
              "      <td>0.000000</td>\n",
              "    </tr>\n",
              "    <tr>\n",
              "      <th>25%</th>\n",
              "      <td>NaN</td>\n",
              "      <td>NaN</td>\n",
              "      <td>NaN</td>\n",
              "      <td>3.000000</td>\n",
              "      <td>NaN</td>\n",
              "      <td>NaN</td>\n",
              "      <td>NaN</td>\n",
              "      <td>0.000000</td>\n",
              "      <td>0.000000</td>\n",
              "      <td>0.000000</td>\n",
              "    </tr>\n",
              "    <tr>\n",
              "      <th>50%</th>\n",
              "      <td>NaN</td>\n",
              "      <td>NaN</td>\n",
              "      <td>NaN</td>\n",
              "      <td>4.000000</td>\n",
              "      <td>NaN</td>\n",
              "      <td>NaN</td>\n",
              "      <td>NaN</td>\n",
              "      <td>0.000000</td>\n",
              "      <td>1.000000</td>\n",
              "      <td>0.000000</td>\n",
              "    </tr>\n",
              "    <tr>\n",
              "      <th>75%</th>\n",
              "      <td>NaN</td>\n",
              "      <td>NaN</td>\n",
              "      <td>NaN</td>\n",
              "      <td>5.000000</td>\n",
              "      <td>NaN</td>\n",
              "      <td>NaN</td>\n",
              "      <td>NaN</td>\n",
              "      <td>1.000000</td>\n",
              "      <td>2.000000</td>\n",
              "      <td>1.000000</td>\n",
              "    </tr>\n",
              "    <tr>\n",
              "      <th>max</th>\n",
              "      <td>NaN</td>\n",
              "      <td>NaN</td>\n",
              "      <td>NaN</td>\n",
              "      <td>5.000000</td>\n",
              "      <td>NaN</td>\n",
              "      <td>NaN</td>\n",
              "      <td>NaN</td>\n",
              "      <td>77.000000</td>\n",
              "      <td>76.000000</td>\n",
              "      <td>57.000000</td>\n",
              "    </tr>\n",
              "  </tbody>\n",
              "</table>\n",
              "</div>\n",
              "      <button class=\"colab-df-convert\" onclick=\"convertToInteractive('df-dce70188-31f7-446c-9fd2-e951a3deea3e')\"\n",
              "              title=\"Convert this dataframe to an interactive table.\"\n",
              "              style=\"display:none;\">\n",
              "        \n",
              "  <svg xmlns=\"http://www.w3.org/2000/svg\" height=\"24px\"viewBox=\"0 0 24 24\"\n",
              "       width=\"24px\">\n",
              "    <path d=\"M0 0h24v24H0V0z\" fill=\"none\"/>\n",
              "    <path d=\"M18.56 5.44l.94 2.06.94-2.06 2.06-.94-2.06-.94-.94-2.06-.94 2.06-2.06.94zm-11 1L8.5 8.5l.94-2.06 2.06-.94-2.06-.94L8.5 2.5l-.94 2.06-2.06.94zm10 10l.94 2.06.94-2.06 2.06-.94-2.06-.94-.94-2.06-.94 2.06-2.06.94z\"/><path d=\"M17.41 7.96l-1.37-1.37c-.4-.4-.92-.59-1.43-.59-.52 0-1.04.2-1.43.59L10.3 9.45l-7.72 7.72c-.78.78-.78 2.05 0 2.83L4 21.41c.39.39.9.59 1.41.59.51 0 1.02-.2 1.41-.59l7.78-7.78 2.81-2.81c.8-.78.8-2.07 0-2.86zM5.41 20L4 18.59l7.72-7.72 1.47 1.35L5.41 20z\"/>\n",
              "  </svg>\n",
              "      </button>\n",
              "      \n",
              "  <style>\n",
              "    .colab-df-container {\n",
              "      display:flex;\n",
              "      flex-wrap:wrap;\n",
              "      gap: 12px;\n",
              "    }\n",
              "\n",
              "    .colab-df-convert {\n",
              "      background-color: #E8F0FE;\n",
              "      border: none;\n",
              "      border-radius: 50%;\n",
              "      cursor: pointer;\n",
              "      display: none;\n",
              "      fill: #1967D2;\n",
              "      height: 32px;\n",
              "      padding: 0 0 0 0;\n",
              "      width: 32px;\n",
              "    }\n",
              "\n",
              "    .colab-df-convert:hover {\n",
              "      background-color: #E2EBFA;\n",
              "      box-shadow: 0px 1px 2px rgba(60, 64, 67, 0.3), 0px 1px 3px 1px rgba(60, 64, 67, 0.15);\n",
              "      fill: #174EA6;\n",
              "    }\n",
              "\n",
              "    [theme=dark] .colab-df-convert {\n",
              "      background-color: #3B4455;\n",
              "      fill: #D2E3FC;\n",
              "    }\n",
              "\n",
              "    [theme=dark] .colab-df-convert:hover {\n",
              "      background-color: #434B5C;\n",
              "      box-shadow: 0px 1px 3px 1px rgba(0, 0, 0, 0.15);\n",
              "      filter: drop-shadow(0px 1px 2px rgba(0, 0, 0, 0.3));\n",
              "      fill: #FFFFFF;\n",
              "    }\n",
              "  </style>\n",
              "\n",
              "      <script>\n",
              "        const buttonEl =\n",
              "          document.querySelector('#df-dce70188-31f7-446c-9fd2-e951a3deea3e button.colab-df-convert');\n",
              "        buttonEl.style.display =\n",
              "          google.colab.kernel.accessAllowed ? 'block' : 'none';\n",
              "\n",
              "        async function convertToInteractive(key) {\n",
              "          const element = document.querySelector('#df-dce70188-31f7-446c-9fd2-e951a3deea3e');\n",
              "          const dataTable =\n",
              "            await google.colab.kernel.invokeFunction('convertToInteractive',\n",
              "                                                     [key], {});\n",
              "          if (!dataTable) return;\n",
              "\n",
              "          const docLinkHtml = 'Like what you see? Visit the ' +\n",
              "            '<a target=\"_blank\" href=https://colab.research.google.com/notebooks/data_table.ipynb>data table notebook</a>'\n",
              "            + ' to learn more about interactive tables.';\n",
              "          element.innerHTML = '';\n",
              "          dataTable['output_type'] = 'display_data';\n",
              "          await google.colab.output.renderOutput(dataTable, element);\n",
              "          const docLink = document.createElement('div');\n",
              "          docLink.innerHTML = docLinkHtml;\n",
              "          element.appendChild(docLink);\n",
              "        }\n",
              "      </script>\n",
              "    </div>\n",
              "  </div>\n",
              "  "
            ],
            "text/plain": [
              "                   business_id        date               review_id  \\\n",
              "count                    10000       10000                   10000   \n",
              "unique                    4174        1995                   10000   \n",
              "top     JokKtdXU7zXHcr20Lrk29A  2011-03-28  fWKvX83p0-ka4JS3dc6E5A   \n",
              "freq                        37          21                       1   \n",
              "mean                       NaN         NaN                     NaN   \n",
              "std                        NaN         NaN                     NaN   \n",
              "min                        NaN         NaN                     NaN   \n",
              "25%                        NaN         NaN                     NaN   \n",
              "50%                        NaN         NaN                     NaN   \n",
              "75%                        NaN         NaN                     NaN   \n",
              "max                        NaN         NaN                     NaN   \n",
              "\n",
              "               stars           text    type                 user_id  \\\n",
              "count   10000.000000          10000   10000                   10000   \n",
              "unique           NaN           9998       1                    6403   \n",
              "top              NaN  Great service  review  fczQCSmaWF78toLEmb0Zsw   \n",
              "freq             NaN              2   10000                      38   \n",
              "mean        3.777500            NaN     NaN                     NaN   \n",
              "std         1.214636            NaN     NaN                     NaN   \n",
              "min         1.000000            NaN     NaN                     NaN   \n",
              "25%         3.000000            NaN     NaN                     NaN   \n",
              "50%         4.000000            NaN     NaN                     NaN   \n",
              "75%         5.000000            NaN     NaN                     NaN   \n",
              "max         5.000000            NaN     NaN                     NaN   \n",
              "\n",
              "                cool        useful         funny  \n",
              "count   10000.000000  10000.000000  10000.000000  \n",
              "unique           NaN           NaN           NaN  \n",
              "top              NaN           NaN           NaN  \n",
              "freq             NaN           NaN           NaN  \n",
              "mean        0.876800      1.409300      0.701300  \n",
              "std         2.067861      2.336647      1.907942  \n",
              "min         0.000000      0.000000      0.000000  \n",
              "25%         0.000000      0.000000      0.000000  \n",
              "50%         0.000000      1.000000      0.000000  \n",
              "75%         1.000000      2.000000      1.000000  \n",
              "max        77.000000     76.000000     57.000000  "
            ]
          },
          "execution_count": 7,
          "metadata": {},
          "output_type": "execute_result"
        }
      ],
      "source": [
        "# Summary of the dataset\n",
        "print(\"Summary of the dataset:\")\n",
        "# Your code here\n",
        "data.describe(include='all')"
      ],
      "id": "9229f220-f897-4314-9bff-54667402739d"
    },
    {
      "cell_type": "markdown",
      "metadata": {
        "id": "luGPM2EgT3qV"
      },
      "source": [
        "# Explore the Data - Visualization"
      ],
      "id": "luGPM2EgT3qV"
    },
    {
      "cell_type": "markdown",
      "metadata": {
        "id": "Q0fI_Mb3UBpw"
      },
      "source": [
        "Let's take a look at the distribution of the reviews in terms of stars"
      ],
      "id": "Q0fI_Mb3UBpw"
    },
    {
      "cell_type": "code",
      "execution_count": null,
      "metadata": {
        "colab": {
          "base_uri": "https://localhost:8080/",
          "height": 482
        },
        "id": "mSVdekSl28Ag",
        "outputId": "d23a6bbf-e499-43cc-d075-0d0db33e0a54"
      },
      "outputs": [
        {
          "data": {
            "image/png": "[encoded data removed]",
            "text/plain": [
              "<Figure size 1000x500 with 1 Axes>"
            ]
          },
          "metadata": {},
          "output_type": "display_data"
        }
      ],
      "source": [
        "ax = data['stars'].value_counts().sort_index().plot(kind='bar',\n",
        "          title='Count of Reviews by Stars',\n",
        "          figsize=(10, 5))\n",
        "ax.set_xlabel('Review Stars')\n",
        "plt.show()"
      ],
      "id": "mSVdekSl28Ag"
    },
    {
      "cell_type": "markdown",
      "metadata": {
        "id": "shlLwbVw7Jce"
      },
      "source": [
        "\n",
        "Let us now visualize the if there is any correlation between stars and the length of the review."
      ],
      "id": "shlLwbVw7Jce"
    },
    {
      "cell_type": "code",
      "execution_count": null,
      "metadata": {
        "colab": {
          "base_uri": "https://localhost:8080/",
          "height": 424
        },
        "id": "83c93ac6-ee52-48ba-a2a3-dfc7d3bbdd0a",
        "outputId": "b0f41936-7499-45bb-c151-befda3689655"
      },
      "outputs": [
        {
          "data": {
            "text/html": [
              "\n",
              "  <div id=\"df-ddbe55ea-7011-4b7d-aa5e-2c9c5a9dad41\">\n",
              "    <div class=\"colab-df-container\">\n",
              "      <div>\n",
              "<style scoped>\n",
              "    .dataframe tbody tr th:only-of-type {\n",
              "        vertical-align: middle;\n",
              "    }\n",
              "\n",
              "    .dataframe tbody tr th {\n",
              "        vertical-align: top;\n",
              "    }\n",
              "\n",
              "    .dataframe thead th {\n",
              "        text-align: right;\n",
              "    }\n",
              "</style>\n",
              "<table border=\"1\" class=\"dataframe\">\n",
              "  <thead>\n",
              "    <tr style=\"text-align: right;\">\n",
              "      <th></th>\n",
              "      <th>business_id</th>\n",
              "      <th>date</th>\n",
              "      <th>review_id</th>\n",
              "      <th>stars</th>\n",
              "      <th>text</th>\n",
              "      <th>type</th>\n",
              "      <th>user_id</th>\n",
              "      <th>cool</th>\n",
              "      <th>useful</th>\n",
              "      <th>funny</th>\n",
              "      <th>length</th>\n",
              "    </tr>\n",
              "  </thead>\n",
              "  <tbody>\n",
              "    <tr>\n",
              "      <th>0</th>\n",
              "      <td>9yKzy9PApeiPPOUJEtnvkg</td>\n",
              "      <td>2011-01-26</td>\n",
              "      <td>fWKvX83p0-ka4JS3dc6E5A</td>\n",
              "      <td>5</td>\n",
              "      <td>My wife took me here on my birthday for breakf...</td>\n",
              "      <td>review</td>\n",
              "      <td>rLtl8ZkDX5vH5nAx9C3q5Q</td>\n",
              "      <td>2</td>\n",
              "      <td>5</td>\n",
              "      <td>0</td>\n",
              "      <td>889</td>\n",
              "    </tr>\n",
              "    <tr>\n",
              "      <th>1</th>\n",
              "      <td>ZRJwVLyzEJq1VAihDhYiow</td>\n",
              "      <td>2011-07-27</td>\n",
              "      <td>IjZ33sJrzXqU-0X6U8NwyA</td>\n",
              "      <td>5</td>\n",
              "      <td>I have no idea why some people give bad review...</td>\n",
              "      <td>review</td>\n",
              "      <td>0a2KyEL0d3Yb1V6aivbIuQ</td>\n",
              "      <td>0</td>\n",
              "      <td>0</td>\n",
              "      <td>0</td>\n",
              "      <td>1345</td>\n",
              "    </tr>\n",
              "    <tr>\n",
              "      <th>2</th>\n",
              "      <td>6oRAC4uyJCsJl1X0WZpVSA</td>\n",
              "      <td>2012-06-14</td>\n",
              "      <td>IESLBzqUCLdSzSqm0eCSxQ</td>\n",
              "      <td>4</td>\n",
              "      <td>love the gyro plate. Rice is so good and I als...</td>\n",
              "      <td>review</td>\n",
              "      <td>0hT2KtfLiobPvh6cDC8JQg</td>\n",
              "      <td>0</td>\n",
              "      <td>1</td>\n",
              "      <td>0</td>\n",
              "      <td>76</td>\n",
              "    </tr>\n",
              "    <tr>\n",
              "      <th>3</th>\n",
              "      <td>_1QQZuf4zZOyFCvXc0o6Vg</td>\n",
              "      <td>2010-05-27</td>\n",
              "      <td>G-WvGaISbqqaMHlNnByodA</td>\n",
              "      <td>5</td>\n",
              "      <td>Rosie, Dakota, and I LOVE Chaparral Dog Park!!...</td>\n",
              "      <td>review</td>\n",
              "      <td>uZetl9T0NcROGOyFfughhg</td>\n",
              "      <td>1</td>\n",
              "      <td>2</td>\n",
              "      <td>0</td>\n",
              "      <td>419</td>\n",
              "    </tr>\n",
              "    <tr>\n",
              "      <th>4</th>\n",
              "      <td>6ozycU1RpktNG2-1BroVtw</td>\n",
              "      <td>2012-01-05</td>\n",
              "      <td>1uJFq2r5QfJG_6ExMRCaGw</td>\n",
              "      <td>5</td>\n",
              "      <td>General Manager Scott Petello is a good egg!!!...</td>\n",
              "      <td>review</td>\n",
              "      <td>vYmM4KTsC8ZfQBg-j5MWkw</td>\n",
              "      <td>0</td>\n",
              "      <td>0</td>\n",
              "      <td>0</td>\n",
              "      <td>469</td>\n",
              "    </tr>\n",
              "  </tbody>\n",
              "</table>\n",
              "</div>\n",
              "      <button class=\"colab-df-convert\" onclick=\"convertToInteractive('df-ddbe55ea-7011-4b7d-aa5e-2c9c5a9dad41')\"\n",
              "              title=\"Convert this dataframe to an interactive table.\"\n",
              "              style=\"display:none;\">\n",
              "        \n",
              "  <svg xmlns=\"http://www.w3.org/2000/svg\" height=\"24px\"viewBox=\"0 0 24 24\"\n",
              "       width=\"24px\">\n",
              "    <path d=\"M0 0h24v24H0V0z\" fill=\"none\"/>\n",
              "    <path d=\"M18.56 5.44l.94 2.06.94-2.06 2.06-.94-2.06-.94-.94-2.06-.94 2.06-2.06.94zm-11 1L8.5 8.5l.94-2.06 2.06-.94-2.06-.94L8.5 2.5l-.94 2.06-2.06.94zm10 10l.94 2.06.94-2.06 2.06-.94-2.06-.94-.94-2.06-.94 2.06-2.06.94z\"/><path d=\"M17.41 7.96l-1.37-1.37c-.4-.4-.92-.59-1.43-.59-.52 0-1.04.2-1.43.59L10.3 9.45l-7.72 7.72c-.78.78-.78 2.05 0 2.83L4 21.41c.39.39.9.59 1.41.59.51 0 1.02-.2 1.41-.59l7.78-7.78 2.81-2.81c.8-.78.8-2.07 0-2.86zM5.41 20L4 18.59l7.72-7.72 1.47 1.35L5.41 20z\"/>\n",
              "  </svg>\n",
              "      </button>\n",
              "      \n",
              "  <style>\n",
              "    .colab-df-container {\n",
              "      display:flex;\n",
              "      flex-wrap:wrap;\n",
              "      gap: 12px;\n",
              "    }\n",
              "\n",
              "    .colab-df-convert {\n",
              "      background-color: #E8F0FE;\n",
              "      border: none;\n",
              "      border-radius: 50%;\n",
              "      cursor: pointer;\n",
              "      display: none;\n",
              "      fill: #1967D2;\n",
              "      height: 32px;\n",
              "      padding: 0 0 0 0;\n",
              "      width: 32px;\n",
              "    }\n",
              "\n",
              "    .colab-df-convert:hover {\n",
              "      background-color: #E2EBFA;\n",
              "      box-shadow: 0px 1px 2px rgba(60, 64, 67, 0.3), 0px 1px 3px 1px rgba(60, 64, 67, 0.15);\n",
              "      fill: #174EA6;\n",
              "    }\n",
              "\n",
              "    [theme=dark] .colab-df-convert {\n",
              "      background-color: #3B4455;\n",
              "      fill: #D2E3FC;\n",
              "    }\n",
              "\n",
              "    [theme=dark] .colab-df-convert:hover {\n",
              "      background-color: #434B5C;\n",
              "      box-shadow: 0px 1px 3px 1px rgba(0, 0, 0, 0.15);\n",
              "      filter: drop-shadow(0px 1px 2px rgba(0, 0, 0, 0.3));\n",
              "      fill: #FFFFFF;\n",
              "    }\n",
              "  </style>\n",
              "\n",
              "      <script>\n",
              "        const buttonEl =\n",
              "          document.querySelector('#df-ddbe55ea-7011-4b7d-aa5e-2c9c5a9dad41 button.colab-df-convert');\n",
              "        buttonEl.style.display =\n",
              "          google.colab.kernel.accessAllowed ? 'block' : 'none';\n",
              "\n",
              "        async function convertToInteractive(key) {\n",
              "          const element = document.querySelector('#df-ddbe55ea-7011-4b7d-aa5e-2c9c5a9dad41');\n",
              "          const dataTable =\n",
              "            await google.colab.kernel.invokeFunction('convertToInteractive',\n",
              "                                                     [key], {});\n",
              "          if (!dataTable) return;\n",
              "\n",
              "          const docLinkHtml = 'Like what you see? Visit the ' +\n",
              "            '<a target=\"_blank\" href=https://colab.research.google.com/notebooks/data_table.ipynb>data table notebook</a>'\n",
              "            + ' to learn more about interactive tables.';\n",
              "          element.innerHTML = '';\n",
              "          dataTable['output_type'] = 'display_data';\n",
              "          await google.colab.output.renderOutput(dataTable, element);\n",
              "          const docLink = document.createElement('div');\n",
              "          docLink.innerHTML = docLinkHtml;\n",
              "          element.appendChild(docLink);\n",
              "        }\n",
              "      </script>\n",
              "    </div>\n",
              "  </div>\n",
              "  "
            ],
            "text/plain": [
              "              business_id        date               review_id  stars  \\\n",
              "0  9yKzy9PApeiPPOUJEtnvkg  2011-01-26  fWKvX83p0-ka4JS3dc6E5A      5   \n",
              "1  ZRJwVLyzEJq1VAihDhYiow  2011-07-27  IjZ33sJrzXqU-0X6U8NwyA      5   \n",
              "2  6oRAC4uyJCsJl1X0WZpVSA  2012-06-14  IESLBzqUCLdSzSqm0eCSxQ      4   \n",
              "3  _1QQZuf4zZOyFCvXc0o6Vg  2010-05-27  G-WvGaISbqqaMHlNnByodA      5   \n",
              "4  6ozycU1RpktNG2-1BroVtw  2012-01-05  1uJFq2r5QfJG_6ExMRCaGw      5   \n",
              "\n",
              "                                                text    type  \\\n",
              "0  My wife took me here on my birthday for breakf...  review   \n",
              "1  I have no idea why some people give bad review...  review   \n",
              "2  love the gyro plate. Rice is so good and I als...  review   \n",
              "3  Rosie, Dakota, and I LOVE Chaparral Dog Park!!...  review   \n",
              "4  General Manager Scott Petello is a good egg!!!...  review   \n",
              "\n",
              "                  user_id  cool  useful  funny  length  \n",
              "0  rLtl8ZkDX5vH5nAx9C3q5Q     2       5      0     889  \n",
              "1  0a2KyEL0d3Yb1V6aivbIuQ     0       0      0    1345  \n",
              "2  0hT2KtfLiobPvh6cDC8JQg     0       1      0      76  \n",
              "3  uZetl9T0NcROGOyFfughhg     1       2      0     419  \n",
              "4  vYmM4KTsC8ZfQBg-j5MWkw     0       0      0     469  "
            ]
          },
          "execution_count": 9,
          "metadata": {},
          "output_type": "execute_result"
        }
      ],
      "source": [
        "# CREATING A NEW COLUMN IN THE DATASET FOR THE NUMBER OF WORDS IN THE REVIEW\n",
        "data['length'] = data['text'].apply(len)\n",
        "data.head()"
      ],
      "id": "83c93ac6-ee52-48ba-a2a3-dfc7d3bbdd0a"
    },
    {
      "cell_type": "markdown",
      "metadata": {
        "id": "UulP6MQ87SxL"
      },
      "source": [
        "## Mean Value of the Vote columns\n",
        "\n",
        "There are 3 voting columns for the reviews - funny, cool and useful. Let us now find the mean values with respect to the stars given to the review.\n",
        "\n",
        "\n",
        "> Yelp site https://www.yelp.com/biz/wagaya-westside-atlanta"
      ],
      "id": "UulP6MQ87SxL"
    },
    {
      "cell_type": "code",
      "execution_count": null,
      "metadata": {
        "colab": {
          "base_uri": "https://localhost:8080/",
          "height": 238
        },
        "id": "8d093d17-0414-404d-9d5e-b6d8685fffcb",
        "outputId": "579b4c85-3221-48bc-eb13-9ba55d517bc1"
      },
      "outputs": [
        {
          "data": {
            "text/html": [
              "\n",
              "  <div id=\"df-01427623-616f-4441-ae3d-18c9eb2e2bb6\">\n",
              "    <div class=\"colab-df-container\">\n",
              "      <div>\n",
              "<style scoped>\n",
              "    .dataframe tbody tr th:only-of-type {\n",
              "        vertical-align: middle;\n",
              "    }\n",
              "\n",
              "    .dataframe tbody tr th {\n",
              "        vertical-align: top;\n",
              "    }\n",
              "\n",
              "    .dataframe thead th {\n",
              "        text-align: right;\n",
              "    }\n",
              "</style>\n",
              "<table border=\"1\" class=\"dataframe\">\n",
              "  <thead>\n",
              "    <tr style=\"text-align: right;\">\n",
              "      <th></th>\n",
              "      <th>cool</th>\n",
              "      <th>useful</th>\n",
              "      <th>funny</th>\n",
              "      <th>length</th>\n",
              "    </tr>\n",
              "    <tr>\n",
              "      <th>stars</th>\n",
              "      <th></th>\n",
              "      <th></th>\n",
              "      <th></th>\n",
              "      <th></th>\n",
              "    </tr>\n",
              "  </thead>\n",
              "  <tbody>\n",
              "    <tr>\n",
              "      <th>1</th>\n",
              "      <td>0.576769</td>\n",
              "      <td>1.604806</td>\n",
              "      <td>1.056075</td>\n",
              "      <td>826.515354</td>\n",
              "    </tr>\n",
              "    <tr>\n",
              "      <th>2</th>\n",
              "      <td>0.719525</td>\n",
              "      <td>1.563107</td>\n",
              "      <td>0.875944</td>\n",
              "      <td>842.256742</td>\n",
              "    </tr>\n",
              "    <tr>\n",
              "      <th>3</th>\n",
              "      <td>0.788501</td>\n",
              "      <td>1.306639</td>\n",
              "      <td>0.694730</td>\n",
              "      <td>758.498289</td>\n",
              "    </tr>\n",
              "    <tr>\n",
              "      <th>4</th>\n",
              "      <td>0.954623</td>\n",
              "      <td>1.395916</td>\n",
              "      <td>0.670448</td>\n",
              "      <td>712.923142</td>\n",
              "    </tr>\n",
              "    <tr>\n",
              "      <th>5</th>\n",
              "      <td>0.944261</td>\n",
              "      <td>1.381780</td>\n",
              "      <td>0.608631</td>\n",
              "      <td>624.999101</td>\n",
              "    </tr>\n",
              "  </tbody>\n",
              "</table>\n",
              "</div>\n",
              "      <button class=\"colab-df-convert\" onclick=\"convertToInteractive('df-01427623-616f-4441-ae3d-18c9eb2e2bb6')\"\n",
              "              title=\"Convert this dataframe to an interactive table.\"\n",
              "              style=\"display:none;\">\n",
              "        \n",
              "  <svg xmlns=\"http://www.w3.org/2000/svg\" height=\"24px\"viewBox=\"0 0 24 24\"\n",
              "       width=\"24px\">\n",
              "    <path d=\"M0 0h24v24H0V0z\" fill=\"none\"/>\n",
              "    <path d=\"M18.56 5.44l.94 2.06.94-2.06 2.06-.94-2.06-.94-.94-2.06-.94 2.06-2.06.94zm-11 1L8.5 8.5l.94-2.06 2.06-.94-2.06-.94L8.5 2.5l-.94 2.06-2.06.94zm10 10l.94 2.06.94-2.06 2.06-.94-2.06-.94-.94-2.06-.94 2.06-2.06.94z\"/><path d=\"M17.41 7.96l-1.37-1.37c-.4-.4-.92-.59-1.43-.59-.52 0-1.04.2-1.43.59L10.3 9.45l-7.72 7.72c-.78.78-.78 2.05 0 2.83L4 21.41c.39.39.9.59 1.41.59.51 0 1.02-.2 1.41-.59l7.78-7.78 2.81-2.81c.8-.78.8-2.07 0-2.86zM5.41 20L4 18.59l7.72-7.72 1.47 1.35L5.41 20z\"/>\n",
              "  </svg>\n",
              "      </button>\n",
              "      \n",
              "  <style>\n",
              "    .colab-df-container {\n",
              "      display:flex;\n",
              "      flex-wrap:wrap;\n",
              "      gap: 12px;\n",
              "    }\n",
              "\n",
              "    .colab-df-convert {\n",
              "      background-color: #E8F0FE;\n",
              "      border: none;\n",
              "      border-radius: 50%;\n",
              "      cursor: pointer;\n",
              "      display: none;\n",
              "      fill: #1967D2;\n",
              "      height: 32px;\n",
              "      padding: 0 0 0 0;\n",
              "      width: 32px;\n",
              "    }\n",
              "\n",
              "    .colab-df-convert:hover {\n",
              "      background-color: #E2EBFA;\n",
              "      box-shadow: 0px 1px 2px rgba(60, 64, 67, 0.3), 0px 1px 3px 1px rgba(60, 64, 67, 0.15);\n",
              "      fill: #174EA6;\n",
              "    }\n",
              "\n",
              "    [theme=dark] .colab-df-convert {\n",
              "      background-color: #3B4455;\n",
              "      fill: #D2E3FC;\n",
              "    }\n",
              "\n",
              "    [theme=dark] .colab-df-convert:hover {\n",
              "      background-color: #434B5C;\n",
              "      box-shadow: 0px 1px 3px 1px rgba(0, 0, 0, 0.15);\n",
              "      filter: drop-shadow(0px 1px 2px rgba(0, 0, 0, 0.3));\n",
              "      fill: #FFFFFF;\n",
              "    }\n",
              "  </style>\n",
              "\n",
              "      <script>\n",
              "        const buttonEl =\n",
              "          document.querySelector('#df-01427623-616f-4441-ae3d-18c9eb2e2bb6 button.colab-df-convert');\n",
              "        buttonEl.style.display =\n",
              "          google.colab.kernel.accessAllowed ? 'block' : 'none';\n",
              "\n",
              "        async function convertToInteractive(key) {\n",
              "          const element = document.querySelector('#df-01427623-616f-4441-ae3d-18c9eb2e2bb6');\n",
              "          const dataTable =\n",
              "            await google.colab.kernel.invokeFunction('convertToInteractive',\n",
              "                                                     [key], {});\n",
              "          if (!dataTable) return;\n",
              "\n",
              "          const docLinkHtml = 'Like what you see? Visit the ' +\n",
              "            '<a target=\"_blank\" href=https://colab.research.google.com/notebooks/data_table.ipynb>data table notebook</a>'\n",
              "            + ' to learn more about interactive tables.';\n",
              "          element.innerHTML = '';\n",
              "          dataTable['output_type'] = 'display_data';\n",
              "          await google.colab.output.renderOutput(dataTable, element);\n",
              "          const docLink = document.createElement('div');\n",
              "          docLink.innerHTML = docLinkHtml;\n",
              "          element.appendChild(docLink);\n",
              "        }\n",
              "      </script>\n",
              "    </div>\n",
              "  </div>\n",
              "  "
            ],
            "text/plain": [
              "           cool    useful     funny      length\n",
              "stars                                          \n",
              "1      0.576769  1.604806  1.056075  826.515354\n",
              "2      0.719525  1.563107  0.875944  842.256742\n",
              "3      0.788501  1.306639  0.694730  758.498289\n",
              "4      0.954623  1.395916  0.670448  712.923142\n",
              "5      0.944261  1.381780  0.608631  624.999101"
            ]
          },
          "execution_count": 10,
          "metadata": {},
          "output_type": "execute_result"
        }
      ],
      "source": [
        "# GETTING THE MEAN VALUES OF THE VOTE COLUMNS WRT THE STARS ON THE REVIEW\n",
        "# Your code here\n",
        "stval = data.groupby('stars').mean()\n",
        "stval"
      ],
      "id": "8d093d17-0414-404d-9d5e-b6d8685fffcb"
    },
    {
      "cell_type": "markdown",
      "metadata": {
        "id": "M8waYvw-7mdr"
      },
      "source": [
        "## Correlation between the voting columns\n",
        "Let us now see what the correlation is between the three voting columns."
      ],
      "id": "M8waYvw-7mdr"
    },
    {
      "cell_type": "code",
      "execution_count": null,
      "metadata": {
        "colab": {
          "base_uri": "https://localhost:8080/",
          "height": 175
        },
        "id": "23889d62-16b0-4f1d-bf34-a88937fc3354",
        "outputId": "4c9695ed-90fb-4ebc-e07b-cb65f99c403e"
      },
      "outputs": [
        {
          "data": {
            "text/html": [
              "\n",
              "  <div id=\"df-38114862-f9df-4f9a-80ce-cf1e574cf5fb\">\n",
              "    <div class=\"colab-df-container\">\n",
              "      <div>\n",
              "<style scoped>\n",
              "    .dataframe tbody tr th:only-of-type {\n",
              "        vertical-align: middle;\n",
              "    }\n",
              "\n",
              "    .dataframe tbody tr th {\n",
              "        vertical-align: top;\n",
              "    }\n",
              "\n",
              "    .dataframe thead th {\n",
              "        text-align: right;\n",
              "    }\n",
              "</style>\n",
              "<table border=\"1\" class=\"dataframe\">\n",
              "  <thead>\n",
              "    <tr style=\"text-align: right;\">\n",
              "      <th></th>\n",
              "      <th>cool</th>\n",
              "      <th>useful</th>\n",
              "      <th>funny</th>\n",
              "      <th>length</th>\n",
              "    </tr>\n",
              "  </thead>\n",
              "  <tbody>\n",
              "    <tr>\n",
              "      <th>cool</th>\n",
              "      <td>1.000000</td>\n",
              "      <td>-0.743329</td>\n",
              "      <td>-0.944939</td>\n",
              "      <td>-0.857664</td>\n",
              "    </tr>\n",
              "    <tr>\n",
              "      <th>useful</th>\n",
              "      <td>-0.743329</td>\n",
              "      <td>1.000000</td>\n",
              "      <td>0.894506</td>\n",
              "      <td>0.699881</td>\n",
              "    </tr>\n",
              "    <tr>\n",
              "      <th>funny</th>\n",
              "      <td>-0.944939</td>\n",
              "      <td>0.894506</td>\n",
              "      <td>1.000000</td>\n",
              "      <td>0.843461</td>\n",
              "    </tr>\n",
              "    <tr>\n",
              "      <th>length</th>\n",
              "      <td>-0.857664</td>\n",
              "      <td>0.699881</td>\n",
              "      <td>0.843461</td>\n",
              "      <td>1.000000</td>\n",
              "    </tr>\n",
              "  </tbody>\n",
              "</table>\n",
              "</div>\n",
              "      <button class=\"colab-df-convert\" onclick=\"convertToInteractive('df-38114862-f9df-4f9a-80ce-cf1e574cf5fb')\"\n",
              "              title=\"Convert this dataframe to an interactive table.\"\n",
              "              style=\"display:none;\">\n",
              "        \n",
              "  <svg xmlns=\"http://www.w3.org/2000/svg\" height=\"24px\"viewBox=\"0 0 24 24\"\n",
              "       width=\"24px\">\n",
              "    <path d=\"M0 0h24v24H0V0z\" fill=\"none\"/>\n",
              "    <path d=\"M18.56 5.44l.94 2.06.94-2.06 2.06-.94-2.06-.94-.94-2.06-.94 2.06-2.06.94zm-11 1L8.5 8.5l.94-2.06 2.06-.94-2.06-.94L8.5 2.5l-.94 2.06-2.06.94zm10 10l.94 2.06.94-2.06 2.06-.94-2.06-.94-.94-2.06-.94 2.06-2.06.94z\"/><path d=\"M17.41 7.96l-1.37-1.37c-.4-.4-.92-.59-1.43-.59-.52 0-1.04.2-1.43.59L10.3 9.45l-7.72 7.72c-.78.78-.78 2.05 0 2.83L4 21.41c.39.39.9.59 1.41.59.51 0 1.02-.2 1.41-.59l7.78-7.78 2.81-2.81c.8-.78.8-2.07 0-2.86zM5.41 20L4 18.59l7.72-7.72 1.47 1.35L5.41 20z\"/>\n",
              "  </svg>\n",
              "      </button>\n",
              "      \n",
              "  <style>\n",
              "    .colab-df-container {\n",
              "      display:flex;\n",
              "      flex-wrap:wrap;\n",
              "      gap: 12px;\n",
              "    }\n",
              "\n",
              "    .colab-df-convert {\n",
              "      background-color: #E8F0FE;\n",
              "      border: none;\n",
              "      border-radius: 50%;\n",
              "      cursor: pointer;\n",
              "      display: none;\n",
              "      fill: #1967D2;\n",
              "      height: 32px;\n",
              "      padding: 0 0 0 0;\n",
              "      width: 32px;\n",
              "    }\n",
              "\n",
              "    .colab-df-convert:hover {\n",
              "      background-color: #E2EBFA;\n",
              "      box-shadow: 0px 1px 2px rgba(60, 64, 67, 0.3), 0px 1px 3px 1px rgba(60, 64, 67, 0.15);\n",
              "      fill: #174EA6;\n",
              "    }\n",
              "\n",
              "    [theme=dark] .colab-df-convert {\n",
              "      background-color: #3B4455;\n",
              "      fill: #D2E3FC;\n",
              "    }\n",
              "\n",
              "    [theme=dark] .colab-df-convert:hover {\n",
              "      background-color: #434B5C;\n",
              "      box-shadow: 0px 1px 3px 1px rgba(0, 0, 0, 0.15);\n",
              "      filter: drop-shadow(0px 1px 2px rgba(0, 0, 0, 0.3));\n",
              "      fill: #FFFFFF;\n",
              "    }\n",
              "  </style>\n",
              "\n",
              "      <script>\n",
              "        const buttonEl =\n",
              "          document.querySelector('#df-38114862-f9df-4f9a-80ce-cf1e574cf5fb button.colab-df-convert');\n",
              "        buttonEl.style.display =\n",
              "          google.colab.kernel.accessAllowed ? 'block' : 'none';\n",
              "\n",
              "        async function convertToInteractive(key) {\n",
              "          const element = document.querySelector('#df-38114862-f9df-4f9a-80ce-cf1e574cf5fb');\n",
              "          const dataTable =\n",
              "            await google.colab.kernel.invokeFunction('convertToInteractive',\n",
              "                                                     [key], {});\n",
              "          if (!dataTable) return;\n",
              "\n",
              "          const docLinkHtml = 'Like what you see? Visit the ' +\n",
              "            '<a target=\"_blank\" href=https://colab.research.google.com/notebooks/data_table.ipynb>data table notebook</a>'\n",
              "            + ' to learn more about interactive tables.';\n",
              "          element.innerHTML = '';\n",
              "          dataTable['output_type'] = 'display_data';\n",
              "          await google.colab.output.renderOutput(dataTable, element);\n",
              "          const docLink = document.createElement('div');\n",
              "          docLink.innerHTML = docLinkHtml;\n",
              "          element.appendChild(docLink);\n",
              "        }\n",
              "      </script>\n",
              "    </div>\n",
              "  </div>\n",
              "  "
            ],
            "text/plain": [
              "            cool    useful     funny    length\n",
              "cool    1.000000 -0.743329 -0.944939 -0.857664\n",
              "useful -0.743329  1.000000  0.894506  0.699881\n",
              "funny  -0.944939  0.894506  1.000000  0.843461\n",
              "length -0.857664  0.699881  0.843461  1.000000"
            ]
          },
          "execution_count": 11,
          "metadata": {},
          "output_type": "execute_result"
        }
      ],
      "source": [
        "# FINDING THE CORRELATION BETWEEN THE VOTE COLUMNS\n",
        "# Your code here\n",
        "stval.corr()"
      ],
      "id": "23889d62-16b0-4f1d-bf34-a88937fc3354"
    },
    {
      "cell_type": "markdown",
      "metadata": {
        "id": "5033b632-d6cb-4fac-a047-c777fa40b287"
      },
      "source": [
        "We can see that there is negative correlation between:\n",
        "\n",
        "* Cool and Useful\n",
        "* Cool and Funny\n",
        "* Cool and Length  \n",
        "\n",
        "We can say that the reviews marked cool tend to be short, not very useful to others and short."
      ],
      "id": "5033b632-d6cb-4fac-a047-c777fa40b287"
    },
    {
      "cell_type": "markdown",
      "metadata": {
        "id": "62b58cb1-b4ed-4b6d-b511-78977a27fbb6"
      },
      "source": [
        "Also, there is a positive correlation between:\n",
        "\n",
        "* Funny and Useful    \n",
        "* Funny and Length\n",
        "* Useful and Length    \n",
        "\n",
        "Thus, we can say that longer reviews tend to be funny and useful."
      ],
      "id": "62b58cb1-b4ed-4b6d-b511-78977a27fbb6"
    },
    {
      "cell_type": "markdown",
      "metadata": {
        "id": "TtVqrCP97t1K"
      },
      "source": [
        "Classifying the dataset and splitting it into the reviews and stars:"
      ],
      "id": "TtVqrCP97t1K"
    },
    {
      "cell_type": "code",
      "execution_count": null,
      "metadata": {
        "colab": {
          "base_uri": "https://localhost:8080/"
        },
        "id": "8faa2152-8ce2-4c11-ad41-aa918ea71a89",
        "outputId": "a2f33cfd-9c85-4d00-fa97-37d1365565b4"
      },
      "outputs": [
        {
          "name": "stdout",
          "output_type": "stream",
          "text": [
            "(5547, 11)\n"
          ]
        }
      ],
      "source": [
        "# Classification in terms of negative (1 star), neutral (3 star), positive (5 star)\n",
        "# Your code here\n",
        "data_classes = data[(data['stars']==1)|(data['stars']==3)|(data['stars']==5)]\n",
        "data_classes.head()\n",
        "print(data_classes.shape)"
      ],
      "id": "8faa2152-8ce2-4c11-ad41-aa918ea71a89"
    },
    {
      "cell_type": "code",
      "execution_count": null,
      "metadata": {
        "colab": {
          "base_uri": "https://localhost:8080/"
        },
        "id": "sq_KGmd5KSnj",
        "outputId": "31902cbf-8a48-4776-ff96-9f45400adf18"
      },
      "outputs": [
        {
          "name": "stdout",
          "output_type": "stream",
          "text": [
            "0    My wife took me here on my birthday for breakf...\n",
            "1    I have no idea why some people give bad review...\n",
            "3    Rosie, Dakota, and I LOVE Chaparral Dog Park!!...\n",
            "4    General Manager Scott Petello is a good egg!!!...\n",
            "6    Drop what you're doing and drive here. After I...\n",
            "Name: text, dtype: object\n",
            "0    5\n",
            "1    5\n",
            "3    5\n",
            "4    5\n",
            "6    5\n",
            "Name: stars, dtype: int64\n"
          ]
        }
      ],
      "source": [
        "# Seperate the dataset into X and Y for prediction\n",
        "# Your code here\n",
        "x = data_classes['text']\n",
        "y = data_classes['stars']\n",
        "print(x.head())\n",
        "print(y.head())"
      ],
      "id": "sq_KGmd5KSnj"
    },
    {
      "cell_type": "markdown",
      "metadata": {
        "id": "287b2e66-ec3d-44fb-8a13-0057ce74f92f"
      },
      "source": [
        "# Preprocessing Yelp Data\n",
        "\n",
        "Yelp data comes in unstructured format, so the first step is to preprocess the data. This includes cleaning the text, removing stop words, and tokenizing the words."
      ],
      "id": "287b2e66-ec3d-44fb-8a13-0057ce74f92f"
    },
    {
      "cell_type": "markdown",
      "metadata": {
        "id": "FRUEtR3o8hbm"
      },
      "source": [
        "## Vectorization\n",
        "Vectorization is the process of converting raw text data into a numerical format that can be used as input for machine learning algorithms.\n",
        "\n",
        "Vectorization involves three key steps:\n",
        "\n",
        "1. Tokenization: The text is first split into individual words or tokens. This step is important to break down the text into smaller, manageable pieces.\n",
        "\n",
        "2. Encoding: The tokens are then converted into numerical representations. There are different methods of encoding, but a common one is to represent each token as a unique integer. This is called integer encoding.\n",
        "\n",
        "3. Vectorization: The integer encoded tokens are then transformed into a vector representation that can be used as input for machine learning algorithms. \n",
        "\n",
        "Countvectorizer is a method to convert text to numerical data. \n",
        "We will now vectorize a single review and see the results:"
      ],
      "id": "FRUEtR3o8hbm"
    },
    {
      "cell_type": "code",
      "execution_count": null,
      "metadata": {
        "colab": {
          "base_uri": "https://localhost:8080/"
        },
        "id": "SjHhX3DAOjDQ",
        "outputId": "d418ecca-3484-49bb-ab59-73ad8aa07920"
      },
      "outputs": [
        {
          "name": "stdout",
          "output_type": "stream",
          "text": [
            "Cliff notes\n",
            "- Cheap: $1-2/plate\n",
            "- Fast: It's ready-to-go and on a conveyor\n",
            "- Acceptable quality: I'm here weekly and haven't gotten sick lol\n",
            "\n",
            "This place is definitely good for what it is, \"it\" being a budget-friendly sushi place that's great for a quick bite.  In a response to the lower-rating reviews stating how the food is just okay at best or authentic or blah blah blah, well think of it like wal-mart vs. *inserthighendretailerhere*.  This place has a business model based on selling in large volumes (hence the low prices like wal-mart) so they're gonna have to \"reduce costs\" somehow (so-so quality food, not-so-attentive staff, and slightly smaller than average portions), but it's still a solid bang-for-your-buck kinda place.\n",
            "\n",
            "On top of this, I can be in and out quickly since everything is already prepared, perfect for those quick 30 min lunch breaks.  All that's required is for you to grab it off the conveyor (depending on whether or not all the items you want are on the conveyor at the time). \n",
            "\n",
            "I've never had issues with seating, but do not make a point to go during peak hours and usually go with a small party (2-4 people).\n",
            "\n",
            "For those claiming to be \"left to fend for themselves\" due to an inattentive staff, most of your sushi-related inquiries can be answered by this thing called \"the menu\" that sits on the counters.  See, this miraculous piece of technology contains things referred to as \"descriptions\" on them that help to inform you about the sushi going round-and-round before you.  Furthermore, there's even a pricing guide based on the color code of the plates to assist you further! WOW! Lol wtf do people expect for $1-2 plates of sushi?  Someone to hold your hand? LOLOLOLOLOLOLOL DIAF\n",
            "\n",
            "And the cherry on top? $4 large japanese beers and $5 sake bombs! HELL YEAH!\n"
          ]
        }
      ],
      "source": [
        "# print out an example of the review\n",
        "example = data['text'][50]\n",
        "print(example)"
      ],
      "id": "SjHhX3DAOjDQ"
    },
    {
      "cell_type": "code",
      "source": [
        "from sklearn.feature_extraction.text import CountVectorizer\n",
        "vectorizer = CountVectorizer()\n",
        "X = vectorizer.fit_transform([example])\n",
        "vectorizer.get_feature_names_out()"
      ],
      "metadata": {
        "colab": {
          "base_uri": "https://localhost:8080/"
        },
        "id": "oyxKGffjT2UN",
        "outputId": "d9a89b17-2881-406b-eaee-4aca46727025"
      },
      "id": "oyxKGffjT2UN",
      "execution_count": 65,
      "outputs": [
        {
          "output_type": "execute_result",
          "data": {
            "text/plain": [
              "array(['30', 'about', 'acceptable', 'all', 'already', 'an', 'and',\n",
              "       'answered', 'are', 'as', 'assist', 'at', 'attentive', 'authentic',\n",
              "       'average', 'bang', 'based', 'be', 'beers', 'before', 'being',\n",
              "       'best', 'bite', 'blah', 'bombs', 'breaks', 'buck', 'budget',\n",
              "       'business', 'but', 'by', 'called', 'can', 'cheap', 'cherry',\n",
              "       'claiming', 'cliff', 'code', 'color', 'contains', 'conveyor',\n",
              "       'costs', 'counters', 'definitely', 'depending', 'descriptions',\n",
              "       'diaf', 'do', 'due', 'during', 'even', 'everything', 'expect',\n",
              "       'fast', 'fend', 'food', 'for', 'friendly', 'further',\n",
              "       'furthermore', 'go', 'going', 'gonna', 'good', 'gotten', 'grab',\n",
              "       'great', 'guide', 'had', 'hand', 'has', 'have', 'haven', 'hell',\n",
              "       'help', 'hence', 'here', 'hold', 'hours', 'how', 'in',\n",
              "       'inattentive', 'inform', 'inquiries', 'inserthighendretailerhere',\n",
              "       'is', 'issues', 'it', 'items', 'japanese', 'just', 'kinda',\n",
              "       'large', 'left', 'like', 'lol', 'lololololololol', 'low', 'lower',\n",
              "       'lunch', 'make', 'mart', 'menu', 'min', 'miraculous', 'model',\n",
              "       'most', 'never', 'not', 'notes', 'of', 'off', 'okay', 'on', 'or',\n",
              "       'out', 'party', 'peak', 'people', 'perfect', 'piece', 'place',\n",
              "       'plate', 'plates', 'point', 'portions', 'prepared', 'prices',\n",
              "       'pricing', 'quality', 'quick', 'quickly', 'rating', 're', 'ready',\n",
              "       'reduce', 'referred', 'related', 'required', 'response', 'reviews',\n",
              "       'round', 'sake', 'seating', 'see', 'selling', 'sick', 'since',\n",
              "       'sits', 'slightly', 'small', 'smaller', 'so', 'solid', 'somehow',\n",
              "       'someone', 'staff', 'stating', 'still', 'sushi', 'technology',\n",
              "       'than', 'that', 'the', 'them', 'themselves', 'there', 'they',\n",
              "       'thing', 'things', 'think', 'this', 'those', 'time', 'to', 'top',\n",
              "       'usually', 've', 'volumes', 'vs', 'wal', 'want', 'weekly', 'well',\n",
              "       'what', 'whether', 'with', 'wow', 'wtf', 'yeah', 'you', 'your'],\n",
              "      dtype=object)"
            ]
          },
          "metadata": {},
          "execution_count": 65
        }
      ]
    },
    {
      "cell_type": "code",
      "source": [
        "print(X.toarray())"
      ],
      "metadata": {
        "colab": {
          "base_uri": "https://localhost:8080/"
        },
        "id": "08G2nDfKUqpm",
        "outputId": "a45caff3-5d58-4ca7-85be-25b85189035d"
      },
      "id": "08G2nDfKUqpm",
      "execution_count": 66,
      "outputs": [
        {
          "output_type": "stream",
          "name": "stdout",
          "text": [
            "[[ 1  1  1  2  1  1  8  1  1  1  1  2  1  1  1  1  2  3  1  1  1  1  1  3\n",
            "   1  1  1  1  1  2  1  1  2  1  1  1  1  1  1  1  3  1  1  1  1  1  1  2\n",
            "   1  1  1  1  1  1  1  2  8  1  1  1  3  1  1  1  1  1  1  1  1  1  1  1\n",
            "   1  1  1  1  1  1  1  1  3  1  1  1  1  5  1  6  1  1  1  1  2  1  2  2\n",
            "   1  1  1  1  1  2  1  1  1  1  1  1  3  1  6  1  1  9  3  1  1  1  2  1\n",
            "   1  4  1  2  1  1  1  1  1  2  2  1  1  1  1  1  1  1  1  1  1  2  1  1\n",
            "   1  1  1  1  1  1  1  1  4  1  1  1  2  1  1  4  1  1  4 13  1  1  1  1\n",
            "   1  1  1  5  2  1 12  2  1  1  1  1  2  1  1  1  1  1  2  1  1  1  5  3]]\n"
          ]
        }
      ]
    },
    {
      "cell_type": "markdown",
      "metadata": {
        "id": "e6S9Ekqq9MxW"
      },
      "source": [
        "## Data Cleaning\n",
        "We will now, define a function which will clean the dataset by removing stopwords and punctuations."
      ],
      "id": "e6S9Ekqq9MxW"
    },
    {
      "cell_type": "code",
      "execution_count": null,
      "metadata": {
        "colab": {
          "base_uri": "https://localhost:8080/"
        },
        "id": "77db8d7e-330b-46da-8d32-821a8cc74164",
        "outputId": "8a98ea03-afb1-4f97-fd6f-1a4ee124b9ec"
      },
      "outputs": [
        {
          "name": "stderr",
          "output_type": "stream",
          "text": [
            "[nltk_data] Downloading package stopwords to /root/nltk_data...\n",
            "[nltk_data]   Package stopwords is already up-to-date!\n"
          ]
        },
        {
          "data": {
            "text/plain": [
              "True"
            ]
          },
          "execution_count": 17,
          "metadata": {},
          "output_type": "execute_result"
        }
      ],
      "source": [
        "# # imports the Natural Language Toolkit (NLTK), a popular library for natural language processing in Python.\n",
        "# import nltk \n",
        "# # imports a list of stop words from the NLTK corpus, which are common words that are often removed from text during text processing.\n",
        "# from nltk.corpus import stopwords \n",
        "# # downloads the words package from the NLTK corpus, which provides a list of English words.\n",
        "# nltk.download('words')"
      ],
      "id": "77db8d7e-330b-46da-8d32-821a8cc74164"
    },
    {
      "cell_type": "code",
      "execution_count": null,
      "metadata": {
        "id": "07c30d82-27e6-47f3-b6cf-9147a0f43ef2"
      },
      "outputs": [],
      "source": [
        "# CLEANING THE REVIEWS - REMOVAL OF STOPWORDS AND PUNCTUATION\n",
        "def text_process(text):\n",
        "  nopunc = [char for char in text if char not in string.punctuation]\n",
        "  nopunc = ''.join(nopunc)\n",
        "  return [word for word in nopunc.split() if word.lower() not in stopwords.words('english')]"
      ],
      "id": "07c30d82-27e6-47f3-b6cf-9147a0f43ef2"
    },
    {
      "cell_type": "code",
      "execution_count": null,
      "metadata": {
        "colab": {
          "background_save": true
        },
        "id": "f3f47066-39ed-420f-99fb-815f056d03b5",
        "outputId": "aac06906-3287-4e51-ab5c-077ab1457a83"
      },
      "outputs": [
        {
          "name": "stdout",
          "output_type": "stream",
          "text": [
            "length of the vocab is 31336\n"
          ]
        }
      ],
      "source": [
        "# CONVERTING THE WORDS INTO A VECTOR\n",
        "# Your code here\n",
        "vocab = CountVectorizer(analyzer=text_process).fit(x)\n",
        "print('length of the vocab is', len(vocab.vocabulary_))"
      ],
      "id": "f3f47066-39ed-420f-99fb-815f056d03b5"
    },
    {
      "cell_type": "code",
      "execution_count": null,
      "metadata": {
        "colab": {
          "background_save": true
        },
        "id": "ba62cd63-bbc3-4720-b5c7-ce2de874cade",
        "outputId": "1d758edf-07c4-481f-8f70-4a7ed485f65b"
      },
      "outputs": [
        {
          "name": "stdout",
          "output_type": "stream",
          "text": [
            "['Adult' 'Adults' 'Advisor' 'Advocate' 'Aegean' 'Aerobics' 'Aesthetically'\n",
            " 'Affordable' 'Africa' 'Afterall' 'Afterdark' 'Afterward' 'Afterwards'\n",
            " 'Agaves' 'Aged' 'Agent' 'Aggressive' 'Agree' 'Agua' 'Aguila' 'Agwa' 'Ah'\n",
            " 'Ahab' 'Ahh' 'Ahha' 'Ahhh' 'Ahhhhh' 'Ahhhhhh' 'Ahi' 'Ahmazing'\n",
            " 'Ahwahtukee' 'Ahwatukee' 'Ai' 'Aid' 'Aiellos' 'Aiko' 'Air' 'Airlines'\n",
            " 'Airpark' 'Airport' 'Airwarys' 'Airways' 'Airwaysnever' 'Aisha' 'Aji'\n",
            " 'Ajo' 'Akor' 'Al' 'Alabama' 'Aladdins' 'Alain' 'Alameda' 'Alan' 'Alas'\n",
            " 'AlasIve' 'Alaska' 'Alaskan' 'Alaus' 'Albacore' 'Albeit' 'Alber'\n",
            " 'Albertos' 'Albertsons' 'Alcatraz' 'Alcohol' 'Ale' 'Alemmmm' 'Alessias'\n",
            " 'Alex' 'Alexa' 'Alexs' 'Alfalfa' 'Alfonso' 'Alfred' 'Alfredo' 'Ali'\n",
            " 'Alice' 'Alicia' 'Alison' 'AllAmerican' 'AllStar' 'Allah' 'Allegiant'\n",
            " 'Allen' 'Allende' 'Allergic' 'Allesias' 'Allison' 'Allow' 'Allstars'\n",
            " 'Almond' 'Almost' 'Aloe' 'Aloft' 'Aloha' 'Along' 'Alongside' 'Alp'\n",
            " 'Alphagraphics' 'Alpine']\n"
          ]
        }
      ],
      "source": [
        "#     The data that we can see is the transformed words.\n",
        "#     If we now get the feature's name - we can get the word back\n",
        "print(vocab.get_feature_names_out()[1000:1100])"
      ],
      "id": "ba62cd63-bbc3-4720-b5c7-ce2de874cade"
    },
    {
      "cell_type": "markdown",
      "metadata": {
        "id": "EsG_RI5EFv-6"
      },
      "source": [
        "Vectorization of the whole review set and and checking the sparse matrix:"
      ],
      "id": "EsG_RI5EFv-6"
    },
    {
      "cell_type": "code",
      "execution_count": 21,
      "metadata": {
        "id": "7a8b61db-9271-4cee-bba8-bf6999087fab",
        "colab": {
          "base_uri": "https://localhost:8080/"
        },
        "outputId": "e4b1d692-1300-4bb6-eb07-b845eaef03c6"
      },
      "outputs": [
        {
          "metadata": {
            "tags": null
          },
          "name": "stdout",
          "output_type": "stream",
          "text": [
            "Shape of the sparse matrix:  (5547, 31336)\n",
            "Non-Zero occurences:  312457\n",
            "Density of the matrix =  0.17975812697942373\n"
          ]
        }
      ],
      "source": [
        "# Your code here\n",
        "x = vocab.transform(x)\n",
        "\n",
        "#Shape of the matrix:\n",
        "print(\"Shape of the sparse matrix: \", x.shape)\n",
        "#Non-zero occurences:\n",
        "print(\"Non-Zero occurences: \",x.nnz)\n",
        "\n",
        "# DENSITY OF THE MATRIX\n",
        "density = (x.nnz/(x.shape[0]*x.shape[1]))*100\n",
        "print(\"Density of the matrix = \",density)"
      ],
      "id": "7a8b61db-9271-4cee-bba8-bf6999087fab"
    },
    {
      "cell_type": "markdown",
      "source": [
        "In the above code block, 'vocab' is a CountVectorizer object that has already been fitted to some training data. The transform() method of the CountVectorizer object is being used to transform a new set of input data x into a sparse matrix representation.\n",
        "\n",
        "A sparse matrix is a matrix where most of the elements are zero, and only a small number of elements are non-zero. In the context of NLP, a sparse matrix is used to represent a collection of text documents where each row corresponds to a document, and each column corresponds to a unique word in the vocabulary.\n"
      ],
      "metadata": {
        "id": "qbIEObicV90p"
      },
      "id": "qbIEObicV90p"
    },
    {
      "cell_type": "markdown",
      "metadata": {
        "id": "7b37d1f8-c755-4d3d-90a9-9c09b7c94e65"
      },
      "source": [
        "# Building a Sentiment Classifier\n",
        "\n",
        "One important benefit of vectorization is that it allows for the application of machine learning algorithms to NLP tasks. For example, once text has been vectorized, it can be used as input for classification models such as logistic regression, decision trees, or neural networks, allowing the machine learning model to learn patterns in the text and make predictions based on those patterns.\n",
        "\n",
        "In this step, you will train a machine learning model to classify Yelp reviews into positive, negative, or neutral sentiments. You can use a variety of models."
      ],
      "id": "7b37d1f8-c755-4d3d-90a9-9c09b7c94e65"
    },
    {
      "cell_type": "markdown",
      "metadata": {
        "id": "eyv2Ff7mF5L9"
      },
      "source": [
        "Splitting the dataset X into training and testing set:"
      ],
      "id": "eyv2Ff7mF5L9"
    },
    {
      "cell_type": "code",
      "execution_count": 22,
      "metadata": {
        "id": "6a642625-3578-4f57-a580-e5663f0e79ae"
      },
      "outputs": [],
      "source": [
        "# SPLITTING THE DATASET INTO TRAINING SET AND TESTING SET\n",
        "# Your code here\n",
        "x_train,x_test,y_train,y_test = train_test_split(x,y,test_size=0.2,random_state=101)"
      ],
      "id": "6a642625-3578-4f57-a580-e5663f0e79ae"
    },
    {
      "cell_type": "markdown",
      "metadata": {
        "id": "CVk6MGZcGKnn"
      },
      "source": [
        "## Modeling\n",
        "We will now use multiple Machine Algorithms to see which gives the best performance.\n",
        "To learn more about the models: https://towardsdatascience.com/all-machine-learning-models-explained-in-6-minutes-9fe30ff6776a"
      ],
      "id": "CVk6MGZcGKnn"
    },
    {
      "cell_type": "markdown",
      "metadata": {
        "id": "eT1zFdyUGKcM"
      },
      "source": [
        "1. Multinomial Naive Bayes (MNB): A simple probabilistic model that is often used for text classification tasks. MNB assumes that the features (words) are conditionally independent given the class label, and it estimates the probability of each class given a set of features using Bayes' rule. It works well for text classification tasks where the features are categorical (e.g., word counts)."
      ],
      "id": "eT1zFdyUGKcM"
    },
    {
      "cell_type": "code",
      "execution_count": 23,
      "metadata": {
        "id": "aebe996c-2f82-4a17-9094-44166603b69e",
        "colab": {
          "base_uri": "https://localhost:8080/"
        },
        "outputId": "4e66822c-7f72-4fea-e564-f51bad7cfbe4"
      },
      "outputs": [
        {
          "metadata": {
            "tags": null
          },
          "name": "stdout",
          "output_type": "stream",
          "text": [
            "Confusion Matrix for Multinomial Naive Bayes:\n",
            "[[ 75  49  38]\n",
            " [  7 180 105]\n",
            " [ 12  45 599]]\n",
            "Score: 76.94\n",
            "Classification Report:\n",
            "              precision    recall  f1-score   support\n",
            "\n",
            "           1       0.80      0.46      0.59       162\n",
            "           3       0.66      0.62      0.64       292\n",
            "           5       0.81      0.91      0.86       656\n",
            "\n",
            "    accuracy                           0.77      1110\n",
            "   macro avg       0.75      0.66      0.69      1110\n",
            "weighted avg       0.77      0.77      0.76      1110\n",
            "\n"
          ]
        }
      ],
      "source": [
        "# Multinomial Naive Bayes\n",
        "from sklearn.naive_bayes import MultinomialNB\n",
        "mnb = MultinomialNB()\n",
        "mnb.fit(x_train,y_train)\n",
        "predmnb = mnb.predict(x_test)\n",
        "score_mnb = round(accuracy_score(y_test,predmnb)*100,2)\n",
        "print(\"Confusion Matrix for Multinomial Naive Bayes:\")\n",
        "print(confusion_matrix(y_test,predmnb))\n",
        "print(\"Score:\",score_mnb)\n",
        "print(\"Classification Report:\")\n",
        "print(classification_report(y_test,predmnb))"
      ],
      "id": "aebe996c-2f82-4a17-9094-44166603b69e"
    },
    {
      "cell_type": "markdown",
      "metadata": {
        "id": "GWcT4M7DGSvG"
      },
      "source": [
        "2. Random Forest Classifier (RFC): A popular ensemble method that combines multiple decision trees to improve performance and reduce overfitting. RFC works by building a set of decision trees on different subsets of the training data, using random feature subsets and bootstrap sampling. During prediction, the model aggregates the predictions of each decision tree to obtain a final prediction."
      ],
      "id": "GWcT4M7DGSvG"
    },
    {
      "cell_type": "code",
      "execution_count": 24,
      "metadata": {
        "id": "e2e5f487-175d-4eb3-a78b-381db6dfe2ca",
        "colab": {
          "base_uri": "https://localhost:8080/"
        },
        "outputId": "045c7ce6-4612-48ca-ac90-bd2b0360f5b4"
      },
      "outputs": [
        {
          "output_type": "stream",
          "name": "stdout",
          "text": [
            "Confusion Matrix for Random Forest Classifier:\n",
            "[[ 32  29 101]\n",
            " [  2  94 196]\n",
            " [  1  16 639]]\n",
            "Score: 68.92\n",
            "Classification Report:\n",
            "              precision    recall  f1-score   support\n",
            "\n",
            "           1       0.91      0.20      0.32       162\n",
            "           3       0.68      0.32      0.44       292\n",
            "           5       0.68      0.97      0.80       656\n",
            "\n",
            "    accuracy                           0.69      1110\n",
            "   macro avg       0.76      0.50      0.52      1110\n",
            "weighted avg       0.71      0.69      0.64      1110\n",
            "\n"
          ]
        }
      ],
      "source": [
        "# Random Forest\n",
        "from sklearn.ensemble import RandomForestClassifier\n",
        "# Your code here\n",
        "rmfr = RandomForestClassifier()\n",
        "rmfr.fit(x_train,y_train)\n",
        "predrmfr = rmfr.predict(x_test)\n",
        "score_rmfr = round(accuracy_score(y_test,predrmfr)*100,2)\n",
        "\n",
        "print(\"Confusion Matrix for Random Forest Classifier:\")\n",
        "print(confusion_matrix(y_test,predrmfr))\n",
        "print(\"Score:\",score_rmfr)\n",
        "print(\"Classification Report:\")\n",
        "print(classification_report(y_test,predrmfr))"
      ],
      "id": "e2e5f487-175d-4eb3-a78b-381db6dfe2ca"
    },
    {
      "cell_type": "markdown",
      "metadata": {
        "id": "su8ZiWZoGWSS"
      },
      "source": [
        "3. Decision Tree (DT): A simple model that uses a tree-like structure to make decisions based on a set of input features. DT works by recursively splitting the input data into smaller subsets based on the most informative features, until a stopping criterion is reached. DT can be prone to overfitting on noisy data, but can be effective for simple classification tasks with few features."
      ],
      "id": "su8ZiWZoGWSS"
    },
    {
      "cell_type": "code",
      "execution_count": 25,
      "metadata": {
        "id": "4b50a9cb-e805-4aad-8c37-84f3530a36a7",
        "colab": {
          "base_uri": "https://localhost:8080/"
        },
        "outputId": "be8fd76b-2b07-4903-ebf3-7c6c6fa6ffbe"
      },
      "outputs": [
        {
          "output_type": "stream",
          "name": "stdout",
          "text": [
            "Confusion Matrix for Decision Tree:\n",
            "[[ 63  49  50]\n",
            " [ 27 147 118]\n",
            " [ 35  99 522]]\n",
            "Score: 65.95\n",
            "Classification Report:\n",
            "              precision    recall  f1-score   support\n",
            "\n",
            "           1       0.50      0.39      0.44       162\n",
            "           3       0.50      0.50      0.50       292\n",
            "           5       0.76      0.80      0.78       656\n",
            "\n",
            "    accuracy                           0.66      1110\n",
            "   macro avg       0.59      0.56      0.57      1110\n",
            "weighted avg       0.65      0.66      0.65      1110\n",
            "\n"
          ]
        }
      ],
      "source": [
        "# Decision Tree\n",
        "from sklearn.tree import DecisionTreeClassifier\n",
        "# Your code here\n",
        "from sklearn.tree import DecisionTreeClassifier\n",
        "dt = DecisionTreeClassifier()\n",
        "dt.fit(x_train,y_train)\n",
        "preddt = dt.predict(x_test)\n",
        "score_dt = round(accuracy_score(y_test,preddt)*100,2)\n",
        "\n",
        "print(\"Confusion Matrix for Decision Tree:\")\n",
        "print(confusion_matrix(y_test,preddt))\n",
        "print(\"Score:\",score_dt)\n",
        "print(\"Classification Report:\")\n",
        "print(classification_report(y_test,preddt))"
      ],
      "id": "4b50a9cb-e805-4aad-8c37-84f3530a36a7"
    },
    {
      "cell_type": "markdown",
      "metadata": {
        "id": "JPYUVI8wGZR0"
      },
      "source": [
        "4. Support Vector Machines (SVM): A powerful model that works by finding the hyperplane that maximally separates the training data into different classes. SVM can be used for both linear and nonlinear classification tasks, and can be effective for high-dimensional datasets with complex decision boundaries."
      ],
      "id": "JPYUVI8wGZR0"
    },
    {
      "cell_type": "code",
      "execution_count": null,
      "metadata": {
        "id": "c18b0713-22de-4119-b7fd-48223dc76b8e"
      },
      "outputs": [],
      "source": [
        "# Support Vector Machine\n",
        "from sklearn.svm import SVC\n",
        "# Your code here\n",
        "svm = SVC(random_state=101)\n",
        "svm.fit(x_train,y_train)\n",
        "predsvm = svm.predict(x_test)\n",
        "score_svm = round(accuracy_score(y_test,predsvm)*100,2)\n",
        "\n",
        "print(\"Confusion Matrix for Support Vector Machines:\")\n",
        "print(confusion_matrix(y_test,predsvm))\n",
        "print(\"Score:\",score_svm)\n",
        "print(\"Classification Report:\")\n",
        "print(classification_report(y_test,predsvm))"
      ],
      "id": "c18b0713-22de-4119-b7fd-48223dc76b8e"
    },
    {
      "cell_type": "markdown",
      "metadata": {
        "id": "j2bV_m9yGcqP"
      },
      "source": [
        "5. K-Nearest Neighbor Classifier (KNN): A simple non-parametric model that works by finding the k-nearest neighbors of a new data point in the training set, and assigning the most common class label among its neighbors as the predicted label. KNN can be effective for small datasets with simple decision boundaries, but can be sensitive to the choice of k and the distance metric used."
      ],
      "id": "j2bV_m9yGcqP"
    },
    {
      "cell_type": "code",
      "execution_count": null,
      "metadata": {
        "id": "1dc4a5b7-a69b-40b4-98c9-497921c71d24"
      },
      "outputs": [],
      "source": [
        "# K Nearest Neighbour Algorithm\n",
        "from sklearn.neighbors import KNeighborsClassifier\n",
        "# Your code here\n",
        "knn = KNeighborsClassifier(n_neighbors=10)\n",
        "knn.fit(x_train,y_train)\n",
        "predknn = knn.predict(x_test)\n",
        "score_knn = round(accuracy_score(y_test,predknn)*100,2)\n",
        "\n",
        "print(\"Confusion Matrix for K Neighbors Classifier:\")\n",
        "print(confusion_matrix(y_test,predknn))\n",
        "print(\"Score: \",score_knn)\n",
        "print(\"Classification Report:\")\n",
        "print(classification_report(y_test,predknn))"
      ],
      "id": "1dc4a5b7-a69b-40b4-98c9-497921c71d24"
    },
    {
      "cell_type": "markdown",
      "metadata": {
        "id": "JvcMsrcNGfV2"
      },
      "source": [
        "From the above algorithm modelling, we can list the accuracy for each model:"
      ],
      "id": "JvcMsrcNGfV2"
    },
    {
      "cell_type": "code",
      "execution_count": 28,
      "metadata": {
        "id": "d08ebafb-ec60-4f1e-87ff-1db556de632e",
        "colab": {
          "base_uri": "https://localhost:8080/"
        },
        "outputId": "31982e77-5e27-4d45-bc90-95c4552ac625"
      },
      "outputs": [
        {
          "output_type": "stream",
          "name": "stdout",
          "text": [
            "Multinomial Naive Bayes =  76.94 %\n",
            "Support Vector Machine =  71.08 %\n",
            "Random Forest Classifier =  68.92 %\n",
            "Decision Tree =  65.95 %\n",
            "K Neighbor Classifier =  61.35 %\n"
          ]
        }
      ],
      "source": [
        "print('Multinomial Naive Bayes = ',score_mnb,'%') \n",
        "print('Support Vector Machine = ',score_svm,'%') \n",
        "print('Random Forest Classifier = ',score_rmfr,'%') \n",
        "print('Decision Tree = ',score_dt,'%') \n",
        "print('K Neighbor Classifier = ',score_knn,'%') "
      ],
      "id": "d08ebafb-ec60-4f1e-87ff-1db556de632e"
    },
    {
      "cell_type": "markdown",
      "metadata": {
        "id": "CDxTIciMGiCm"
      },
      "source": [
        "In summary, MNB, RFC, DT, SVM, and KNN are all popular models for classification tasks. MNB is simple and efficient, RFC and DT are effective at handling noisy data, SVM is powerful and effective for high-dimensional data, and KNN is simple and effective for small datasets. The choice of model depends on the specific task at hand, the size and complexity of the data, and the desired trade-off between accuracy and computational efficiency.\n",
        "\n",
        "Since Multinomial Naive Bayes has the best score, let us use it to predict a random positive review, a random average review and a random negative review!"
      ],
      "id": "CDxTIciMGiCm"
    },
    {
      "cell_type": "code",
      "execution_count": null,
      "metadata": {
        "id": "ef743206-ec71-402e-b37d-67ddf14001c7"
      },
      "outputs": [],
      "source": [
        "# POSITIVE REVIEW\n",
        "pr = data['text'][0]\n",
        "print(pr)\n",
        "print(\"Actual Rating:\")\n",
        "print(data['stars'][0])\n",
        "pr_t = vocab.transform([pr])\n",
        "print(\"Predicted Rating:\")\n",
        "mnb.predict(pr_t)[0]"
      ],
      "id": "ef743206-ec71-402e-b37d-67ddf14001c7"
    },
    {
      "cell_type": "code",
      "execution_count": null,
      "metadata": {
        "id": "9af66624-e6e4-4a58-a90c-b6f937452151"
      },
      "outputs": [],
      "source": [
        "# AVERAGE REVIEW\n",
        "ar = data['text'][16]\n",
        "print(ar)\n",
        "print(\"Actual Rating:\")\n",
        "print(data['stars'][16])\n",
        "# Your code here\n",
        "ar_t = vocab.transform([ar])\n",
        "print(\"Predicted Rating:\")\n",
        "# Your code here\n",
        "mnb.predict(ar_t)[0]"
      ],
      "id": "9af66624-e6e4-4a58-a90c-b6f937452151"
    },
    {
      "cell_type": "code",
      "execution_count": null,
      "metadata": {
        "id": "df003763-6db4-420c-9bc9-bcfb5fb2343f"
      },
      "outputs": [],
      "source": [
        "# NEGATIVE REVIEW\n",
        "nr = data['text'][23]\n",
        "print(nr)\n",
        "print(\"Actual Rating:\")\n",
        "print(data['stars'][23])\n",
        "# Your code here\n",
        "nr_t = vocab.transform([nr])\n",
        "print(\"Predicted Rating:\")\n",
        "# Your code here\n",
        "mnb.predict(nr_t)[0]"
      ],
      "id": "df003763-6db4-420c-9bc9-bcfb5fb2343f"
    },
    {
      "cell_type": "markdown",
      "source": [
        "## Bias in dataset"
      ],
      "metadata": {
        "id": "_F3EwrYxXKcA"
      },
      "id": "_F3EwrYxXKcA"
    },
    {
      "cell_type": "code",
      "execution_count": 32,
      "metadata": {
        "id": "079e5dc5-b898-4fad-815d-4850d2feb4dd",
        "colab": {
          "base_uri": "https://localhost:8080/"
        },
        "outputId": "a2367b43-c5d5-45c0-9476-0bf418d8bf38"
      },
      "outputs": [
        {
          "output_type": "stream",
          "name": "stdout",
          "text": [
            "4    3526\n",
            "5    3337\n",
            "3    1461\n",
            "2     927\n",
            "1     749\n",
            "Name: stars, dtype: int64\n"
          ]
        }
      ],
      "source": [
        "count = data['stars'].value_counts()\n",
        "print(count)"
      ],
      "id": "079e5dc5-b898-4fad-815d-4850d2feb4dd"
    },
    {
      "cell_type": "markdown",
      "metadata": {
        "id": "d133de57-46f9-427f-b68d-d3f9784a2a13"
      },
      "source": [
        "\n",
        "\n",
        "It is probable that the dataset contains a higher proportion of positive reviews in comparison to negative reviews. To address this issue, normalization of the dataset by equalizing the number of reviews could be a potential solution to mitigate bias."
      ],
      "id": "d133de57-46f9-427f-b68d-d3f9784a2a13"
    },
    {
      "cell_type": "markdown",
      "metadata": {
        "id": "P37f4TZK-QdB"
      },
      "source": [
        "# Bonus - Out-of-box Tools:\n",
        "1. VADER (Valence Aware Dictionary and sEntiment Reasoner) - Bag of words approach\n",
        "2. Roberta Pretrained Model from 🤗\n",
        "3. Huggingface Pipeline"
      ],
      "id": "P37f4TZK-QdB"
    },
    {
      "cell_type": "code",
      "execution_count": 33,
      "metadata": {
        "id": "P5euQhZ7-cN8"
      },
      "outputs": [],
      "source": [
        "# nltk.download('all')\n",
        "# nltk.download('vader_lexicon')"
      ],
      "id": "P5euQhZ7-cN8"
    },
    {
      "cell_type": "markdown",
      "metadata": {
        "id": "hi3zr6W8_TVs"
      },
      "source": [
        "# Step 1. VADER Scoring \n",
        "\n",
        "VADER (Valence Aware Dictionary and sEntiment Reasoner) is a lexicon and rule-based sentiment analysis tool that uses a Bag of Words approach to identify sentiment in text.\n",
        "\n",
        "It uses a lexicon that maps words to their corresponding sentiment scores (positive, negative, or neutral) and applies a set of heuristics to handle negations, intensifiers, and other modifiers that can affect the sentiment of a sentence. \n",
        "\n",
        "VADER is known for its speed, simplicity, and effectiveness in handling informal text like social media posts, but it may not perform well on longer or more formal texts.\n",
        "\n",
        "We will use NLTK's `SentimentIntensityAnalyzer` to get the neg/neu/pos scores of the text.\n",
        "\n",
        "- This uses a \"bag of words\" approach:\n",
        "    1. Stop words are removed\n",
        "    2. each word is scored and combined to a total score."
      ],
      "id": "hi3zr6W8_TVs"
    },
    {
      "cell_type": "code",
      "execution_count": 34,
      "metadata": {
        "id": "VSGoecwZ_W1Z"
      },
      "outputs": [],
      "source": [
        "from nltk.sentiment import SentimentIntensityAnalyzer\n",
        "from tqdm.notebook import tqdm\n",
        "\n",
        "# Your code here\n",
        "sia = SentimentIntensityAnalyzer()"
      ],
      "id": "VSGoecwZ_W1Z"
    },
    {
      "cell_type": "code",
      "execution_count": 35,
      "metadata": {
        "id": "HXGrlzoQ_Yr1",
        "colab": {
          "base_uri": "https://localhost:8080/"
        },
        "outputId": "468cbda0-545c-4f61-e601-d534a711671b"
      },
      "outputs": [
        {
          "output_type": "execute_result",
          "data": {
            "text/plain": [
              "{'neg': 0.0, 'neu': 0.318, 'pos': 0.682, 'compound': 0.6468}"
            ]
          },
          "metadata": {},
          "execution_count": 35
        }
      ],
      "source": [
        "# something positive\n",
        "sia.polarity_scores('I am so happy!')"
      ],
      "id": "HXGrlzoQ_Yr1"
    },
    {
      "cell_type": "code",
      "execution_count": 36,
      "metadata": {
        "id": "VTlqHebk_cNU",
        "colab": {
          "base_uri": "https://localhost:8080/"
        },
        "outputId": "332a5dd3-7f3e-4132-a898-00cb9d80f0fe"
      },
      "outputs": [
        {
          "data": {
            "text/plain": [
              "{'neg': 0.614, 'neu': 0.386, 'pos': 0.0, 'compound': -0.4914}"
            ]
          },
          "execution_count": 36,
          "metadata": {},
          "output_type": "execute_result"
        }
      ],
      "source": [
        "# something negative\n",
        "# Your code here\n",
        "sia.polarity_scores('I am really upset!')"
      ],
      "id": "VTlqHebk_cNU"
    },
    {
      "cell_type": "code",
      "execution_count": 37,
      "metadata": {
        "id": "9vngGlJJr702",
        "colab": {
          "base_uri": "https://localhost:8080/"
        },
        "outputId": "6221bf08-e2a5-4ef6-c6ef-5fdc709e086d"
      },
      "outputs": [
        {
          "output_type": "stream",
          "name": "stdout",
          "text": [
            "Cliff notes\n",
            "- Cheap: $1-2/plate\n",
            "- Fast: It's ready-to-go and on a conveyor\n",
            "- Acceptable quality: I'm here weekly and haven't gotten sick lol\n",
            "\n",
            "This place is definitely good for what it is, \"it\" being a budget-friendly sushi place that's great for a quick bite.  In a response to the lower-rating reviews stating how the food is just okay at best or authentic or blah blah blah, well think of it like wal-mart vs. *inserthighendretailerhere*.  This place has a business model based on selling in large volumes (hence the low prices like wal-mart) so they're gonna have to \"reduce costs\" somehow (so-so quality food, not-so-attentive staff, and slightly smaller than average portions), but it's still a solid bang-for-your-buck kinda place.\n",
            "\n",
            "On top of this, I can be in and out quickly since everything is already prepared, perfect for those quick 30 min lunch breaks.  All that's required is for you to grab it off the conveyor (depending on whether or not all the items you want are on the conveyor at the time). \n",
            "\n",
            "I've never had issues with seating, but do not make a point to go during peak hours and usually go with a small party (2-4 people).\n",
            "\n",
            "For those claiming to be \"left to fend for themselves\" due to an inattentive staff, most of your sushi-related inquiries can be answered by this thing called \"the menu\" that sits on the counters.  See, this miraculous piece of technology contains things referred to as \"descriptions\" on them that help to inform you about the sushi going round-and-round before you.  Furthermore, there's even a pricing guide based on the color code of the plates to assist you further! WOW! Lol wtf do people expect for $1-2 plates of sushi?  Someone to hold your hand? LOLOLOLOLOLOLOL DIAF\n",
            "\n",
            "And the cherry on top? $4 large japanese beers and $5 sake bombs! HELL YEAH!\n"
          ]
        }
      ],
      "source": [
        "print(example)"
      ],
      "id": "9vngGlJJr702"
    },
    {
      "cell_type": "code",
      "execution_count": 38,
      "metadata": {
        "id": "UeKdd4WK_enl",
        "colab": {
          "base_uri": "https://localhost:8080/"
        },
        "outputId": "7f4ea352-f418-4e7b-b299-652171cdfe70"
      },
      "outputs": [
        {
          "output_type": "execute_result",
          "data": {
            "text/plain": [
              "{'neg': 0.056, 'neu': 0.77, 'pos': 0.173, 'compound': 0.9889}"
            ]
          },
          "metadata": {},
          "execution_count": 38
        }
      ],
      "source": [
        "# example\n",
        "# Your code here\n",
        "sia.polarity_scores(example)"
      ],
      "id": "UeKdd4WK_enl"
    },
    {
      "cell_type": "code",
      "execution_count": 39,
      "metadata": {
        "id": "ldVqhjZxHT3q"
      },
      "outputs": [],
      "source": [
        "data = data.head(300)"
      ],
      "id": "ldVqhjZxHT3q"
    },
    {
      "cell_type": "code",
      "execution_count": 40,
      "metadata": {
        "id": "z4LKwBF8_gqg",
        "colab": {
          "base_uri": "https://localhost:8080/",
          "height": 49,
          "referenced_widgets": [
            "c84d8954b6dd4845a1ea15db589fd799",
            "051c5e85ea1e42b286181e4550613aaf",
            "846e5a89586743d596ea08d1a2816d93",
            "b70d7c0dfdd644468a0c12c468874d91",
            "49415412d4f043a6a61a14812180cc6e",
            "f0db2cf143bb46989f684845cf3cfb20",
            "b7da7ffbb4e84dac811b868698283696",
            "6f4bb5e6151e4f519f8b95e5aad80401",
            "32a0ce7a793e428fbc540a0d5e539ea8",
            "70df896b4a824c5db51dde84ea7a77ee",
            "36a54bcc8c2c4f6e99105084c64720bb"
          ]
        },
        "outputId": "f16a4d44-b5e5-413e-b7e2-ae86f1b99c92"
      },
      "outputs": [
        {
          "output_type": "display_data",
          "data": {
            "text/plain": [
              "  0%|          | 0/300 [00:00<?, ?it/s]"
            ],
            "application/vnd.jupyter.widget-view+json": {
              "version_major": 2,
              "version_minor": 0,
              "model_id": "c84d8954b6dd4845a1ea15db589fd799"
            }
          },
          "metadata": {}
        }
      ],
      "source": [
        "# The code is computing the sentiment scores for the entire dataset\n",
        "\n",
        "# An empty dictionary res is created to store \n",
        "#the sentiment analysis results for each business ID\n",
        "res = {}\n",
        "\n",
        "# Your code here\n",
        "# The for loop iterates over each row in the data DataFrame using the iterrows() method\n",
        "# The i variable is the current index of the iteration, \n",
        "#   and row is the current row of the DataFrame\n",
        "# The total argument of tqdm is set to the length of \n",
        "#   the data DataFrame to display a progress bar\n",
        "for i, row in tqdm(data.iterrows(), total=len(data)):\n",
        "  # Extract the text and business ID from the current row of the DataFrame\n",
        "    text = row['text']\n",
        "    myid = row['business_id']\n",
        "    # Apply the VADER sentiment analyzer to the text and \n",
        "    #   obtain the resulting sentiment scores as a dictionary\n",
        "    # Add the resulting dictionary to the `res` dictionary, \n",
        "    #   using the business ID as the key\n",
        "    res[myid] = sia.polarity_scores(text)"
      ],
      "id": "z4LKwBF8_gqg"
    },
    {
      "cell_type": "code",
      "execution_count": 41,
      "metadata": {
        "id": "HNii8wUK_uRV"
      },
      "outputs": [],
      "source": [
        "vaders = pd.DataFrame(res).T\n",
        "vaders = vaders.reset_index().rename(columns={'index': 'business_id'})\n",
        "vaders = vaders.merge(data, how='left')"
      ],
      "id": "HNii8wUK_uRV"
    },
    {
      "cell_type": "code",
      "execution_count": 42,
      "metadata": {
        "id": "1FpUPWte_39E",
        "colab": {
          "base_uri": "https://localhost:8080/",
          "height": 739
        },
        "outputId": "e76c26ba-f2a2-4093-d625-eb9a6afc6823"
      },
      "outputs": [
        {
          "output_type": "execute_result",
          "data": {
            "text/plain": [
              "              business_id    neg    neu    pos  compound        date  \\\n",
              "0  9yKzy9PApeiPPOUJEtnvkg  0.015  0.687  0.298    0.9950  2011-01-26   \n",
              "1  ZRJwVLyzEJq1VAihDhYiow  0.049  0.741  0.210    0.9943  2011-07-27   \n",
              "2  6oRAC4uyJCsJl1X0WZpVSA  0.000  0.523  0.477    0.8988  2012-06-14   \n",
              "3  _1QQZuf4zZOyFCvXc0o6Vg  0.000  0.793  0.207    0.9531  2010-05-27   \n",
              "4  6ozycU1RpktNG2-1BroVtw  0.029  0.636  0.334    0.9883  2012-01-05   \n",
              "\n",
              "                review_id  stars  \\\n",
              "0  fWKvX83p0-ka4JS3dc6E5A      5   \n",
              "1  IjZ33sJrzXqU-0X6U8NwyA      5   \n",
              "2  IESLBzqUCLdSzSqm0eCSxQ      4   \n",
              "3  G-WvGaISbqqaMHlNnByodA      5   \n",
              "4  1uJFq2r5QfJG_6ExMRCaGw      5   \n",
              "\n",
              "                                                text    type  \\\n",
              "0  My wife took me here on my birthday for breakf...  review   \n",
              "1  I have no idea why some people give bad review...  review   \n",
              "2  love the gyro plate. Rice is so good and I als...  review   \n",
              "3  Rosie, Dakota, and I LOVE Chaparral Dog Park!!...  review   \n",
              "4  General Manager Scott Petello is a good egg!!!...  review   \n",
              "\n",
              "                  user_id  cool  useful  funny  length  \n",
              "0  rLtl8ZkDX5vH5nAx9C3q5Q     2       5      0     889  \n",
              "1  0a2KyEL0d3Yb1V6aivbIuQ     0       0      0    1345  \n",
              "2  0hT2KtfLiobPvh6cDC8JQg     0       1      0      76  \n",
              "3  uZetl9T0NcROGOyFfughhg     1       2      0     419  \n",
              "4  vYmM4KTsC8ZfQBg-j5MWkw     0       0      0     469  "
            ],
            "text/html": [
              "\n",
              "  <div id=\"df-1b1359eb-393b-4274-8ba5-b4954c6a8c5e\">\n",
              "    <div class=\"colab-df-container\">\n",
              "      <div>\n",
              "<style scoped>\n",
              "    .dataframe tbody tr th:only-of-type {\n",
              "        vertical-align: middle;\n",
              "    }\n",
              "\n",
              "    .dataframe tbody tr th {\n",
              "        vertical-align: top;\n",
              "    }\n",
              "\n",
              "    .dataframe thead th {\n",
              "        text-align: right;\n",
              "    }\n",
              "</style>\n",
              "<table border=\"1\" class=\"dataframe\">\n",
              "  <thead>\n",
              "    <tr style=\"text-align: right;\">\n",
              "      <th></th>\n",
              "      <th>business_id</th>\n",
              "      <th>neg</th>\n",
              "      <th>neu</th>\n",
              "      <th>pos</th>\n",
              "      <th>compound</th>\n",
              "      <th>date</th>\n",
              "      <th>review_id</th>\n",
              "      <th>stars</th>\n",
              "      <th>text</th>\n",
              "      <th>type</th>\n",
              "      <th>user_id</th>\n",
              "      <th>cool</th>\n",
              "      <th>useful</th>\n",
              "      <th>funny</th>\n",
              "      <th>length</th>\n",
              "    </tr>\n",
              "  </thead>\n",
              "  <tbody>\n",
              "    <tr>\n",
              "      <th>0</th>\n",
              "      <td>9yKzy9PApeiPPOUJEtnvkg</td>\n",
              "      <td>0.015</td>\n",
              "      <td>0.687</td>\n",
              "      <td>0.298</td>\n",
              "      <td>0.9950</td>\n",
              "      <td>2011-01-26</td>\n",
              "      <td>fWKvX83p0-ka4JS3dc6E5A</td>\n",
              "      <td>5</td>\n",
              "      <td>My wife took me here on my birthday for breakf...</td>\n",
              "      <td>review</td>\n",
              "      <td>rLtl8ZkDX5vH5nAx9C3q5Q</td>\n",
              "      <td>2</td>\n",
              "      <td>5</td>\n",
              "      <td>0</td>\n",
              "      <td>889</td>\n",
              "    </tr>\n",
              "    <tr>\n",
              "      <th>1</th>\n",
              "      <td>ZRJwVLyzEJq1VAihDhYiow</td>\n",
              "      <td>0.049</td>\n",
              "      <td>0.741</td>\n",
              "      <td>0.210</td>\n",
              "      <td>0.9943</td>\n",
              "      <td>2011-07-27</td>\n",
              "      <td>IjZ33sJrzXqU-0X6U8NwyA</td>\n",
              "      <td>5</td>\n",
              "      <td>I have no idea why some people give bad review...</td>\n",
              "      <td>review</td>\n",
              "      <td>0a2KyEL0d3Yb1V6aivbIuQ</td>\n",
              "      <td>0</td>\n",
              "      <td>0</td>\n",
              "      <td>0</td>\n",
              "      <td>1345</td>\n",
              "    </tr>\n",
              "    <tr>\n",
              "      <th>2</th>\n",
              "      <td>6oRAC4uyJCsJl1X0WZpVSA</td>\n",
              "      <td>0.000</td>\n",
              "      <td>0.523</td>\n",
              "      <td>0.477</td>\n",
              "      <td>0.8988</td>\n",
              "      <td>2012-06-14</td>\n",
              "      <td>IESLBzqUCLdSzSqm0eCSxQ</td>\n",
              "      <td>4</td>\n",
              "      <td>love the gyro plate. Rice is so good and I als...</td>\n",
              "      <td>review</td>\n",
              "      <td>0hT2KtfLiobPvh6cDC8JQg</td>\n",
              "      <td>0</td>\n",
              "      <td>1</td>\n",
              "      <td>0</td>\n",
              "      <td>76</td>\n",
              "    </tr>\n",
              "    <tr>\n",
              "      <th>3</th>\n",
              "      <td>_1QQZuf4zZOyFCvXc0o6Vg</td>\n",
              "      <td>0.000</td>\n",
              "      <td>0.793</td>\n",
              "      <td>0.207</td>\n",
              "      <td>0.9531</td>\n",
              "      <td>2010-05-27</td>\n",
              "      <td>G-WvGaISbqqaMHlNnByodA</td>\n",
              "      <td>5</td>\n",
              "      <td>Rosie, Dakota, and I LOVE Chaparral Dog Park!!...</td>\n",
              "      <td>review</td>\n",
              "      <td>uZetl9T0NcROGOyFfughhg</td>\n",
              "      <td>1</td>\n",
              "      <td>2</td>\n",
              "      <td>0</td>\n",
              "      <td>419</td>\n",
              "    </tr>\n",
              "    <tr>\n",
              "      <th>4</th>\n",
              "      <td>6ozycU1RpktNG2-1BroVtw</td>\n",
              "      <td>0.029</td>\n",
              "      <td>0.636</td>\n",
              "      <td>0.334</td>\n",
              "      <td>0.9883</td>\n",
              "      <td>2012-01-05</td>\n",
              "      <td>1uJFq2r5QfJG_6ExMRCaGw</td>\n",
              "      <td>5</td>\n",
              "      <td>General Manager Scott Petello is a good egg!!!...</td>\n",
              "      <td>review</td>\n",
              "      <td>vYmM4KTsC8ZfQBg-j5MWkw</td>\n",
              "      <td>0</td>\n",
              "      <td>0</td>\n",
              "      <td>0</td>\n",
              "      <td>469</td>\n",
              "    </tr>\n",
              "  </tbody>\n",
              "</table>\n",
              "</div>\n",
              "      <button class=\"colab-df-convert\" onclick=\"convertToInteractive('df-1b1359eb-393b-4274-8ba5-b4954c6a8c5e')\"\n",
              "              title=\"Convert this dataframe to an interactive table.\"\n",
              "              style=\"display:none;\">\n",
              "        \n",
              "  <svg xmlns=\"http://www.w3.org/2000/svg\" height=\"24px\"viewBox=\"0 0 24 24\"\n",
              "       width=\"24px\">\n",
              "    <path d=\"M0 0h24v24H0V0z\" fill=\"none\"/>\n",
              "    <path d=\"M18.56 5.44l.94 2.06.94-2.06 2.06-.94-2.06-.94-.94-2.06-.94 2.06-2.06.94zm-11 1L8.5 8.5l.94-2.06 2.06-.94-2.06-.94L8.5 2.5l-.94 2.06-2.06.94zm10 10l.94 2.06.94-2.06 2.06-.94-2.06-.94-.94-2.06-.94 2.06-2.06.94z\"/><path d=\"M17.41 7.96l-1.37-1.37c-.4-.4-.92-.59-1.43-.59-.52 0-1.04.2-1.43.59L10.3 9.45l-7.72 7.72c-.78.78-.78 2.05 0 2.83L4 21.41c.39.39.9.59 1.41.59.51 0 1.02-.2 1.41-.59l7.78-7.78 2.81-2.81c.8-.78.8-2.07 0-2.86zM5.41 20L4 18.59l7.72-7.72 1.47 1.35L5.41 20z\"/>\n",
              "  </svg>\n",
              "      </button>\n",
              "      \n",
              "  <style>\n",
              "    .colab-df-container {\n",
              "      display:flex;\n",
              "      flex-wrap:wrap;\n",
              "      gap: 12px;\n",
              "    }\n",
              "\n",
              "    .colab-df-convert {\n",
              "      background-color: #E8F0FE;\n",
              "      border: none;\n",
              "      border-radius: 50%;\n",
              "      cursor: pointer;\n",
              "      display: none;\n",
              "      fill: #1967D2;\n",
              "      height: 32px;\n",
              "      padding: 0 0 0 0;\n",
              "      width: 32px;\n",
              "    }\n",
              "\n",
              "    .colab-df-convert:hover {\n",
              "      background-color: #E2EBFA;\n",
              "      box-shadow: 0px 1px 2px rgba(60, 64, 67, 0.3), 0px 1px 3px 1px rgba(60, 64, 67, 0.15);\n",
              "      fill: #174EA6;\n",
              "    }\n",
              "\n",
              "    [theme=dark] .colab-df-convert {\n",
              "      background-color: #3B4455;\n",
              "      fill: #D2E3FC;\n",
              "    }\n",
              "\n",
              "    [theme=dark] .colab-df-convert:hover {\n",
              "      background-color: #434B5C;\n",
              "      box-shadow: 0px 1px 3px 1px rgba(0, 0, 0, 0.15);\n",
              "      filter: drop-shadow(0px 1px 2px rgba(0, 0, 0, 0.3));\n",
              "      fill: #FFFFFF;\n",
              "    }\n",
              "  </style>\n",
              "\n",
              "      <script>\n",
              "        const buttonEl =\n",
              "          document.querySelector('#df-1b1359eb-393b-4274-8ba5-b4954c6a8c5e button.colab-df-convert');\n",
              "        buttonEl.style.display =\n",
              "          google.colab.kernel.accessAllowed ? 'block' : 'none';\n",
              "\n",
              "        async function convertToInteractive(key) {\n",
              "          const element = document.querySelector('#df-1b1359eb-393b-4274-8ba5-b4954c6a8c5e');\n",
              "          const dataTable =\n",
              "            await google.colab.kernel.invokeFunction('convertToInteractive',\n",
              "                                                     [key], {});\n",
              "          if (!dataTable) return;\n",
              "\n",
              "          const docLinkHtml = 'Like what you see? Visit the ' +\n",
              "            '<a target=\"_blank\" href=https://colab.research.google.com/notebooks/data_table.ipynb>data table notebook</a>'\n",
              "            + ' to learn more about interactive tables.';\n",
              "          element.innerHTML = '';\n",
              "          dataTable['output_type'] = 'display_data';\n",
              "          await google.colab.output.renderOutput(dataTable, element);\n",
              "          const docLink = document.createElement('div');\n",
              "          docLink.innerHTML = docLinkHtml;\n",
              "          element.appendChild(docLink);\n",
              "        }\n",
              "      </script>\n",
              "    </div>\n",
              "  </div>\n",
              "  "
            ]
          },
          "metadata": {},
          "execution_count": 42
        }
      ],
      "source": [
        "# Now we have sentiment score and metadata\n",
        "vaders.head()"
      ],
      "id": "1FpUPWte_39E"
    },
    {
      "cell_type": "markdown",
      "metadata": {
        "id": "x2gDQU6l_-jh"
      },
      "source": [
        "## Plot VADER results"
      ],
      "id": "x2gDQU6l_-jh"
    },
    {
      "cell_type": "code",
      "execution_count": 43,
      "metadata": {
        "id": "53Yx12aZAAPk",
        "colab": {
          "base_uri": "https://localhost:8080/",
          "height": 472
        },
        "outputId": "ea264360-71cd-4d94-e86b-aedbddf23131"
      },
      "outputs": [
        {
          "output_type": "display_data",
          "data": {
            "text/plain": [
              "<Figure size 640x480 with 1 Axes>"
            ],
            "image/png": "[encoded data removed]"
          },
          "metadata": {}
        }
      ],
      "source": [
        "ax = sns.barplot(data=vaders, x='stars', y='compound')\n",
        "ax.set_title('Compund Score by Yelp Star Review')\n",
        "plt.show()"
      ],
      "id": "53Yx12aZAAPk"
    },
    {
      "cell_type": "code",
      "execution_count": 44,
      "metadata": {
        "id": "6EXe7KBxAc1R",
        "colab": {
          "base_uri": "https://localhost:8080/",
          "height": 230
        },
        "outputId": "75a40d12-b0d7-4a69-8a33-0666ad9b1f79"
      },
      "outputs": [
        {
          "output_type": "display_data",
          "data": {
            "text/plain": [
              "<Figure size 1200x300 with 3 Axes>"
            ],
            "image/png": "[encoded data removed]"
          },
          "metadata": {}
        }
      ],
      "source": [
        "fig, axs = plt.subplots(1, 3, figsize=(12, 3))\n",
        "sns.barplot(data=vaders, x='stars', y='pos', ax=axs[0])\n",
        "sns.barplot(data=vaders, x='stars', y='neu', ax=axs[1])\n",
        "sns.barplot(data=vaders, x='stars', y='neg', ax=axs[2])\n",
        "axs[0].set_title('Positive')\n",
        "axs[1].set_title('Neutral')\n",
        "axs[2].set_title('Negative')\n",
        "plt.tight_layout()\n",
        "plt.show()"
      ],
      "id": "6EXe7KBxAc1R"
    },
    {
      "cell_type": "markdown",
      "metadata": {
        "id": "AWBF71SOAl8y"
      },
      "source": [
        "# Step 3. Roberta Pretrained Model - self-supervised learning approach\n",
        "\n",
        "RoBERTa is a state-of-the-art pre-trained deep learning model for natural language processing developed by Facebook AI Research. \n",
        "\n",
        "RoBERTa is based on the Transformer architecture and is pre-trained on a large corpus of text data using a self-supervised learning approach. \n",
        "\n",
        "RoBERTa has shown impressive performance on a range of NLP tasks, including sentiment analysis, and can be fine-tuned for specific tasks with relatively small amounts of labeled data. \n",
        "\n",
        "However, RoBERTa requires substantial computational resources for training and inference, and may not be suitable for small-scale or real-time applications.\n",
        "\n",
        "- Use a model trained of a large corpus of data.\n",
        "- Transformer model accounts for the words but also the context related to other words."
      ],
      "id": "AWBF71SOAl8y"
    },
    {
      "cell_type": "code",
      "execution_count": 45,
      "metadata": {
        "id": "HUjSNqDfAqcd"
      },
      "outputs": [],
      "source": [
        "# !pip install transformers\n",
        "# from transformers import AutoTokenizer\n",
        "# from transformers import AutoModelForSequenceClassification\n",
        "# from scipy.special import softmax\n",
        "# MODEL = f\"cardiffnlp/twitter-roberta-base-sentiment-latest\"\n",
        "# tokenizer = AutoTokenizer.from_pretrained(MODEL)\n",
        "# model = AutoModelForSequenceClassification.from_pretrained(MODEL)"
      ],
      "id": "HUjSNqDfAqcd"
    },
    {
      "cell_type": "code",
      "execution_count": 46,
      "metadata": {
        "id": "qD32PnQTAzzw",
        "colab": {
          "base_uri": "https://localhost:8080/"
        },
        "outputId": "16a3b7f7-ebe3-4c67-d49b-96f2f976e2d6"
      },
      "outputs": [
        {
          "output_type": "stream",
          "name": "stdout",
          "text": [
            "{'roberta_neg': 0.024074964, 'roberta_neu': 0.30235398, 'roberta_pos': 0.67357105}\n"
          ]
        }
      ],
      "source": [
        "# Run for Roberta Model\n",
        "# The code uses a pre-trained RoBERTa model and tokenizer \n",
        "# to classify the sentiment of a given input text\n",
        "\n",
        "# Tokenize the input text using the pre-trained tokenizer object\n",
        "# The return_tensors argument specifies that the tokenized text \n",
        "# should be returned in PyTorch tensor format.\n",
        "encoded_text = tokenizer(example, return_tensors='pt')\n",
        "\n",
        "# Pass the encoded text as input to the pre-trained RoBERTa model and obtain its output\n",
        "# The ** syntax is used to unpack the tensor as named arguments for the model\n",
        "output = model(**encoded_text) \n",
        "\n",
        "# Extract the predicted class scores from the model output tensor \n",
        "# and convert them to a numpy array\n",
        "scores = output[0][0].detach().numpy()\n",
        "# Apply the softmax function to convert the class scores into probabilities that sum to 1\n",
        "scores = softmax(scores)\n",
        "# Create a dictionary that maps the class names to their corresponding probabilities\n",
        "# The keys are roberta_neg for the negative class, \n",
        "# roberta_neu for the neutral class, and roberta_pos for the positive class\n",
        "scores_dict = {\n",
        "    'roberta_neg' : scores[0],\n",
        "    'roberta_neu' : scores[1],\n",
        "    'roberta_pos' : scores[2]\n",
        "}\n",
        "# Print the dictionary of class probabilities to the console\n",
        "print(scores_dict)"
      ],
      "id": "qD32PnQTAzzw"
    },
    {
      "cell_type": "code",
      "execution_count": 47,
      "metadata": {
        "id": "dP0Dy74HBsU2"
      },
      "outputs": [],
      "source": [
        "# This is a Python function called polarity_scores_roberta that takes\n",
        "# a string of text as input and returns a dictionary of sentiment scores for that text\n",
        "\n",
        "def polarity_scores_roberta(example):\n",
        "    encoded_text = tokenizer(example, return_tensors='pt')\n",
        "    output = model(**encoded_text)\n",
        "    scores = output[0][0].detach().numpy()\n",
        "    scores = softmax(scores)\n",
        "    scores_dict = {\n",
        "        'roberta_neg' : scores[0],\n",
        "        'roberta_neu' : scores[1],\n",
        "        'roberta_pos' : scores[2]\n",
        "    }\n",
        "    return scores_dict"
      ],
      "id": "dP0Dy74HBsU2"
    },
    {
      "cell_type": "code",
      "execution_count": 48,
      "metadata": {
        "id": "s5R32ShJBuyj",
        "colab": {
          "base_uri": "https://localhost:8080/",
          "height": 156,
          "referenced_widgets": [
            "6f76e87e66334b6988932b5f3c71774c",
            "98522b76e6d94e05b2af83c8d3ea9862",
            "50eac1a0d7c7440e8a558f8129a89867",
            "3e7deca000b742d98f133880b806fe30",
            "a02b1421d8964789a5e190a3ac0ee330",
            "0e84cee7cf1241719c776d624278caab",
            "66e1be064a054b05a873c7a30fbebcf5",
            "f517c891d99d4c5595f1f62c2b5acbbf",
            "785b0ec8b493407b91f5d9f6e4b93195",
            "0f673b4ade754844ae7d80d6b77b86d4",
            "ddb72c4580d540a2bec10c6d2e0c2bf8"
          ]
        },
        "outputId": "e25e1251-2535-468b-bb16-7f86aa390793"
      },
      "outputs": [
        {
          "output_type": "display_data",
          "data": {
            "text/plain": [
              "  0%|          | 0/300 [00:00<?, ?it/s]"
            ],
            "application/vnd.jupyter.widget-view+json": {
              "version_major": 2,
              "version_minor": 0,
              "model_id": "6f76e87e66334b6988932b5f3c71774c"
            }
          },
          "metadata": {}
        },
        {
          "output_type": "stream",
          "name": "stdout",
          "text": [
            "Broke for id 7SO_rX1F6rQEl-5s3wZxgQ\n",
            "Broke for id FCcFT610nQBVcRdY-devQA\n",
            "Broke for id d7_jkx0VPx3uHsUl18iHMQ\n",
            "Broke for id LzpR_jE6VIutJ08s2cdRrw\n",
            "Broke for id 1621ir5mjVgbHwxCbMAEjg\n",
            "Broke for id l3yL2rQ6PoFBQ06RLczn9w\n"
          ]
        }
      ],
      "source": [
        "# The code iterates over a pandas DataFrame called data, \n",
        "# which is assumed to have columns for text and business IDs\n",
        "\n",
        "# An empty dictionary res is created to store \n",
        "# the sentiment analysis results for each business ID\n",
        "res = {}\n",
        "# Your code here\n",
        "\n",
        "# The for loop iterates over each row in the data DataFrame using the iterrows() method\n",
        "# The i variable is the current index of the iteration, \n",
        "# and row is the current row of the DataFrame\n",
        "# The total argument of tqdm is set to the length of \n",
        "# the data DataFrame to display a progress bar\n",
        "for i, row in tqdm(data.iterrows(), total=len(data)):\n",
        "    try:\n",
        "      # Extract the text and business ID from the current row of the DataFrame\n",
        "        text = row['text']\n",
        "        myid = row['business_id']\n",
        "\n",
        "        # Apply the VADER sentiment analyzer to the text and \n",
        "        # obtain the resulting sentiment scores as a dictionary\n",
        "        vader_result = sia.polarity_scores(text)\n",
        "\n",
        "        # Rename the keys of the VADER sentiment score dictionary to start with \"vader_\"\n",
        "        vader_result_rename = {}\n",
        "        for key, value in vader_result.items():\n",
        "            vader_result_rename[f\"vader_{key}\"] = value\n",
        "\n",
        "        # Apply the pre-trained RoBERTa model to the text and \n",
        "        # obtain the resulting sentiment scores as a dictionary\n",
        "        roberta_result = polarity_scores_roberta(text)\n",
        "\n",
        "        # Combine the VADER and RoBERTa sentiment score dictionaries into a single dictionary\n",
        "        both = {**vader_result_rename, **roberta_result}\n",
        "\n",
        "        # Add the resulting dictionary to the `res` dictionary, \n",
        "        # using the business ID as the key\n",
        "        res[myid] = both\n",
        "    \n",
        "    # If a `RuntimeError` occurs during the sentiment analysis, \n",
        "    # print a warning message indicating the business ID that caused the error\n",
        "    except RuntimeError:\n",
        "        print(f'Broke for id {myid}')\n"
      ],
      "id": "s5R32ShJBuyj"
    },
    {
      "cell_type": "code",
      "execution_count": null,
      "metadata": {
        "id": "5lVImPH3CoQw"
      },
      "outputs": [],
      "source": [
        "results_df = pd.DataFrame(res).T\n",
        "results_df = results_df.reset_index().rename(columns={'index': 'business_id'})\n",
        "results_df = results_df.merge(data, how='left')"
      ],
      "id": "5lVImPH3CoQw"
    },
    {
      "cell_type": "markdown",
      "metadata": {
        "id": "bqa5k9wBC8pt"
      },
      "source": [
        "# Step 3. Compare Scores between models"
      ],
      "id": "bqa5k9wBC8pt"
    },
    {
      "cell_type": "code",
      "execution_count": null,
      "metadata": {
        "id": "S7yan8NPC13s"
      },
      "outputs": [],
      "source": [
        "# take a look at the column of the df\n",
        "results_df.columns"
      ],
      "id": "S7yan8NPC13s"
    },
    {
      "cell_type": "code",
      "execution_count": null,
      "metadata": {
        "id": "TIECcreiDBti"
      },
      "outputs": [],
      "source": [
        "# The pair plot is a matrix of scatter plots and histograms, where each variable \n",
        "# in the DataFrame is plotted against every other variable. \n",
        "# The purpose of the plot is to visualize the relationship \n",
        "# between different sentiment scores generated by Vader and RoBERTa models.\n",
        "sns.pairplot(data=results_df,\n",
        "             vars=['vader_neg', 'vader_neu', 'vader_pos',\n",
        "                  'roberta_neg', 'roberta_neu', 'roberta_pos'],\n",
        "            hue='stars',\n",
        "            palette='tab10')\n",
        "plt.show()"
      ],
      "id": "TIECcreiDBti"
    },
    {
      "cell_type": "markdown",
      "metadata": {
        "id": "C8eJQNb5DKai"
      },
      "source": [
        "# Step 4: Review Examples\n",
        "\n",
        "## Positive sentiment 1-Star Reviews\n",
        "\n",
        "Lets look at some examples where the model scoring and review score differ the most."
      ],
      "id": "C8eJQNb5DKai"
    },
    {
      "cell_type": "code",
      "execution_count": null,
      "metadata": {
        "id": "0cXKoPz1DQGY"
      },
      "outputs": [],
      "source": [
        "# retrieves the text of the row with the highest positive sentiment score \n",
        "# using the Vader model among the rows that have a star rating of 1.\n",
        "# Your code here\n",
        "results_df.query('stars == 1') \\\n",
        "    .sort_values('vader_pos', ascending=False)['text'].values[0]\n",
        "\n",
        "# sia.polarity_scores()"
      ],
      "id": "0cXKoPz1DQGY"
    },
    {
      "cell_type": "code",
      "execution_count": null,
      "metadata": {
        "id": "MQT07w9nDOil"
      },
      "outputs": [],
      "source": [
        "# retrieves the text of the row with the highest positive sentiment score \n",
        "# using the RoBERTa model among the rows that have a star rating of 1.\n",
        "results_df.query('stars == 1') \\\n",
        "    .sort_values('roberta_pos', ascending=False)['text'].values[0]\n",
        "\n",
        "# polarity_scores_roberta()"
      ],
      "id": "MQT07w9nDOil"
    },
    {
      "cell_type": "markdown",
      "metadata": {
        "id": "bhOtoLLkDRrl"
      },
      "source": [
        "## Negative sentiment 5-Star Reviews"
      ],
      "id": "bhOtoLLkDRrl"
    },
    {
      "cell_type": "code",
      "execution_count": null,
      "metadata": {
        "id": "VXw0Lka1DaSC"
      },
      "outputs": [],
      "source": [
        "# retrieves the text of the row with the highest negative sentiment score \n",
        "# using the Vader model among the rows that have a star rating of 5.\n",
        "# Your code here\n",
        "results_df.query('stars == 5') \\\n",
        "    .sort_values('vader_neg', ascending=False)['text'].values[0]\n",
        "\n",
        "# sia.polarity_scores()"
      ],
      "id": "VXw0Lka1DaSC"
    },
    {
      "cell_type": "code",
      "execution_count": null,
      "metadata": {
        "id": "csdx96GFDYuG"
      },
      "outputs": [],
      "source": [
        "# retrieves the text of the row with the highest negative sentiment score \n",
        "# using the RoBERTa model among the rows that have a star rating of 5.\n",
        "results_df.query('stars == 5') \\\n",
        "    .sort_values('roberta_neg', ascending=False)['text'].values[0]\n",
        "\n",
        "# polarity_scores_roberta() "
      ],
      "id": "csdx96GFDYuG"
    },
    {
      "cell_type": "markdown",
      "metadata": {
        "id": "jJIaH98-DcIe"
      },
      "source": [
        "# Extra: The Transformers Pipeline\n",
        "\n",
        "Huggingface Pipeline is a high-level API provided by the Hugging Face library, which simplifies the process of running pre-trained models for various NLP tasks, including sentiment analysis. \n",
        "\n",
        "The Pipeline interface allows users to quickly and easily apply pre-trained models to text input, without the need for extensive coding or training. \n",
        "\n",
        "Quick & easy way to run sentiment predictions"
      ],
      "id": "jJIaH98-DcIe"
    },
    {
      "cell_type": "code",
      "execution_count": null,
      "metadata": {
        "id": "LeUyJutiDfbv"
      },
      "outputs": [],
      "source": [
        "from transformers import pipeline\n",
        "# creates a sentiment analysis pipeline using the Hugging Face Transformers library. \n",
        "# The pipeline() function is used to create a pre-trained sentiment analysis model \n",
        "# that can be used to classify the sentiment of input text.\n",
        "sent_pipeline = pipeline(\"sentiment-analysis\")"
      ],
      "id": "LeUyJutiDfbv"
    },
    {
      "cell_type": "code",
      "execution_count": null,
      "metadata": {
        "id": "OnVgftYXDg_T"
      },
      "outputs": [],
      "source": [
        "# something positive\n",
        "# Your code here\n",
        "sent_pipeline(\"this workship is awesome!\")"
      ],
      "id": "OnVgftYXDg_T"
    },
    {
      "cell_type": "code",
      "execution_count": 58,
      "metadata": {
        "id": "nUDbHqRFDjzO",
        "colab": {
          "base_uri": "https://localhost:8080/"
        },
        "outputId": "95aadfcf-e2d2-406a-8757-309b181fa604"
      },
      "outputs": [
        {
          "data": {
            "text/plain": [
              "[{'label': 'NEGATIVE', 'score': 0.9998040795326233}]"
            ]
          },
          "execution_count": 58,
          "metadata": {},
          "output_type": "execute_result"
        },
        {
          "output_type": "execute_result",
          "data": {
            "text/plain": [
              "[{'label': 'NEGATIVE', 'score': 0.9998040795326233}]"
            ]
          },
          "metadata": {},
          "execution_count": 58
        }
      ],
      "source": [
        "# something negative\n",
        "# Your code here\n",
        "sent_pipeline(\"this workship is bad!\")"
      ],
      "id": "nUDbHqRFDjzO"
    },
    {
      "cell_type": "markdown",
      "metadata": {
        "id": "jXY7unKKDlyt"
      },
      "source": [
        "# The End"
      ],
      "id": "jXY7unKKDlyt"
    }
  ],
  "metadata": {
    "colab": {
      "provenance": [],
      "include_colab_link": true
    },
    "kernelspec": {
      "display_name": "Python 3 (ipykernel)",
      "language": "python",
      "name": "python3"
    },
    "language_info": {
      "codemirror_mode": {
        "name": "ipython",
        "version": 3
      },
      "file_extension": ".py",
      "mimetype": "text/x-python",
      "name": "python",
      "nbconvert_exporter": "python",
      "pygments_lexer": "ipython3",
      "version": "3.9.12"
    },
    "widgets": {
      "application/vnd.jupyter.widget-state+json": {
        "01debe1322ff4a84acb531a91237e9fb": {
          "model_module": "@jupyter-widgets/controls",
          "model_module_version": "1.5.0",
          "model_name": "HTMLModel",
          "state": {
            "_dom_classes": [],
            "_model_module": "@jupyter-widgets/controls",
            "_model_module_version": "1.5.0",
            "_model_name": "HTMLModel",
            "_view_count": null,
            "_view_module": "@jupyter-widgets/controls",
            "_view_module_version": "1.5.0",
            "_view_name": "HTMLView",
            "description": "",
            "description_tooltip": null,
            "layout": "IPY_MODEL_f64f01b1fe614a08a18e410d69d79aa7",
            "placeholder": "​",
            "style": "IPY_MODEL_604280b99b8b498d9d1733480a84577b",
            "value": " 501M/501M [00:23&lt;00:00, 24.2MB/s]"
          }
        },
        "03a5e205c7df4108ba84096e6e4a8453": {
          "model_module": "@jupyter-widgets/base",
          "model_module_version": "1.2.0",
          "model_name": "LayoutModel",
          "state": {
            "_model_module": "@jupyter-widgets/base",
            "_model_module_version": "1.2.0",
            "_model_name": "LayoutModel",
            "_view_count": null,
            "_view_module": "@jupyter-widgets/base",
            "_view_module_version": "1.2.0",
            "_view_name": "LayoutView",
            "align_content": null,
            "align_items": null,
            "align_self": null,
            "border": null,
            "bottom": null,
            "display": null,
            "flex": null,
            "flex_flow": null,
            "grid_area": null,
            "grid_auto_columns": null,
            "grid_auto_flow": null,
            "grid_auto_rows": null,
            "grid_column": null,
            "grid_gap": null,
            "grid_row": null,
            "grid_template_areas": null,
            "grid_template_columns": null,
            "grid_template_rows": null,
            "height": null,
            "justify_content": null,
            "justify_items": null,
            "left": null,
            "margin": null,
            "max_height": null,
            "max_width": null,
            "min_height": null,
            "min_width": null,
            "object_fit": null,
            "object_position": null,
            "order": null,
            "overflow": null,
            "overflow_x": null,
            "overflow_y": null,
            "padding": null,
            "right": null,
            "top": null,
            "visibility": null,
            "width": null
          }
        },
        "05c88b32c21741a7a39f70890d93a0db": {
          "model_module": "@jupyter-widgets/controls",
          "model_module_version": "1.5.0",
          "model_name": "HBoxModel",
          "state": {
            "_dom_classes": [],
            "_model_module": "@jupyter-widgets/controls",
            "_model_module_version": "1.5.0",
            "_model_name": "HBoxModel",
            "_view_count": null,
            "_view_module": "@jupyter-widgets/controls",
            "_view_module_version": "1.5.0",
            "_view_name": "HBoxView",
            "box_style": "",
            "children": [
              "IPY_MODEL_873383c1ae2d408883947ec46929fe6a",
              "IPY_MODEL_55562686555c4585ace47e68690c00a2",
              "IPY_MODEL_36b92f31466e486bada28c10e98b4d93"
            ],
            "layout": "IPY_MODEL_75779db332f64d7aadb9f8cf4bf6283b"
          }
        },
        "0cedb335a5e7449cb54a312fbed7e615": {
          "model_module": "@jupyter-widgets/base",
          "model_module_version": "1.2.0",
          "model_name": "LayoutModel",
          "state": {
            "_model_module": "@jupyter-widgets/base",
            "_model_module_version": "1.2.0",
            "_model_name": "LayoutModel",
            "_view_count": null,
            "_view_module": "@jupyter-widgets/base",
            "_view_module_version": "1.2.0",
            "_view_name": "LayoutView",
            "align_content": null,
            "align_items": null,
            "align_self": null,
            "border": null,
            "bottom": null,
            "display": null,
            "flex": null,
            "flex_flow": null,
            "grid_area": null,
            "grid_auto_columns": null,
            "grid_auto_flow": null,
            "grid_auto_rows": null,
            "grid_column": null,
            "grid_gap": null,
            "grid_row": null,
            "grid_template_areas": null,
            "grid_template_columns": null,
            "grid_template_rows": null,
            "height": null,
            "justify_content": null,
            "justify_items": null,
            "left": null,
            "margin": null,
            "max_height": null,
            "max_width": null,
            "min_height": null,
            "min_width": null,
            "object_fit": null,
            "object_position": null,
            "order": null,
            "overflow": null,
            "overflow_x": null,
            "overflow_y": null,
            "padding": null,
            "right": null,
            "top": null,
            "visibility": null,
            "width": null
          }
        },
        "18adb005cfd94c6fab9ca31c8739ae03": {
          "model_module": "@jupyter-widgets/base",
          "model_module_version": "1.2.0",
          "model_name": "LayoutModel",
          "state": {
            "_model_module": "@jupyter-widgets/base",
            "_model_module_version": "1.2.0",
            "_model_name": "LayoutModel",
            "_view_count": null,
            "_view_module": "@jupyter-widgets/base",
            "_view_module_version": "1.2.0",
            "_view_name": "LayoutView",
            "align_content": null,
            "align_items": null,
            "align_self": null,
            "border": null,
            "bottom": null,
            "display": null,
            "flex": null,
            "flex_flow": null,
            "grid_area": null,
            "grid_auto_columns": null,
            "grid_auto_flow": null,
            "grid_auto_rows": null,
            "grid_column": null,
            "grid_gap": null,
            "grid_row": null,
            "grid_template_areas": null,
            "grid_template_columns": null,
            "grid_template_rows": null,
            "height": null,
            "justify_content": null,
            "justify_items": null,
            "left": null,
            "margin": null,
            "max_height": null,
            "max_width": null,
            "min_height": null,
            "min_width": null,
            "object_fit": null,
            "object_position": null,
            "order": null,
            "overflow": null,
            "overflow_x": null,
            "overflow_y": null,
            "padding": null,
            "right": null,
            "top": null,
            "visibility": null,
            "width": null
          }
        },
        "1f9b9514ce3e4081b77d1e39aacf4316": {
          "model_module": "@jupyter-widgets/controls",
          "model_module_version": "1.5.0",
          "model_name": "HTMLModel",
          "state": {
            "_dom_classes": [],
            "_model_module": "@jupyter-widgets/controls",
            "_model_module_version": "1.5.0",
            "_model_name": "HTMLModel",
            "_view_count": null,
            "_view_module": "@jupyter-widgets/controls",
            "_view_module_version": "1.5.0",
            "_view_name": "HTMLView",
            "description": "",
            "description_tooltip": null,
            "layout": "IPY_MODEL_b329bf27398a4c17bb9e4fa55ad09cb9",
            "placeholder": "​",
            "style": "IPY_MODEL_e79fe9da6750483696d72d88d1ee5c81",
            "value": " 899k/899k [00:00&lt;00:00, 976kB/s]"
          }
        },
        "21a970b599f84ef38aa30d8a7d2dd6c2": {
          "model_module": "@jupyter-widgets/base",
          "model_module_version": "1.2.0",
          "model_name": "LayoutModel",
          "state": {
            "_model_module": "@jupyter-widgets/base",
            "_model_module_version": "1.2.0",
            "_model_name": "LayoutModel",
            "_view_count": null,
            "_view_module": "@jupyter-widgets/base",
            "_view_module_version": "1.2.0",
            "_view_name": "LayoutView",
            "align_content": null,
            "align_items": null,
            "align_self": null,
            "border": null,
            "bottom": null,
            "display": null,
            "flex": null,
            "flex_flow": null,
            "grid_area": null,
            "grid_auto_columns": null,
            "grid_auto_flow": null,
            "grid_auto_rows": null,
            "grid_column": null,
            "grid_gap": null,
            "grid_row": null,
            "grid_template_areas": null,
            "grid_template_columns": null,
            "grid_template_rows": null,
            "height": null,
            "justify_content": null,
            "justify_items": null,
            "left": null,
            "margin": null,
            "max_height": null,
            "max_width": null,
            "min_height": null,
            "min_width": null,
            "object_fit": null,
            "object_position": null,
            "order": null,
            "overflow": null,
            "overflow_x": null,
            "overflow_y": null,
            "padding": null,
            "right": null,
            "top": null,
            "visibility": null,
            "width": null
          }
        },
        "292dd63bab814eabaf61a08b34183846": {
          "model_module": "@jupyter-widgets/base",
          "model_module_version": "1.2.0",
          "model_name": "LayoutModel",
          "state": {
            "_model_module": "@jupyter-widgets/base",
            "_model_module_version": "1.2.0",
            "_model_name": "LayoutModel",
            "_view_count": null,
            "_view_module": "@jupyter-widgets/base",
            "_view_module_version": "1.2.0",
            "_view_name": "LayoutView",
            "align_content": null,
            "align_items": null,
            "align_self": null,
            "border": null,
            "bottom": null,
            "display": null,
            "flex": null,
            "flex_flow": null,
            "grid_area": null,
            "grid_auto_columns": null,
            "grid_auto_flow": null,
            "grid_auto_rows": null,
            "grid_column": null,
            "grid_gap": null,
            "grid_row": null,
            "grid_template_areas": null,
            "grid_template_columns": null,
            "grid_template_rows": null,
            "height": null,
            "justify_content": null,
            "justify_items": null,
            "left": null,
            "margin": null,
            "max_height": null,
            "max_width": null,
            "min_height": null,
            "min_width": null,
            "object_fit": null,
            "object_position": null,
            "order": null,
            "overflow": null,
            "overflow_x": null,
            "overflow_y": null,
            "padding": null,
            "right": null,
            "top": null,
            "visibility": null,
            "width": null
          }
        },
        "2b55e0046db7443fb3e62ee24a50213d": {
          "model_module": "@jupyter-widgets/base",
          "model_module_version": "1.2.0",
          "model_name": "LayoutModel",
          "state": {
            "_model_module": "@jupyter-widgets/base",
            "_model_module_version": "1.2.0",
            "_model_name": "LayoutModel",
            "_view_count": null,
            "_view_module": "@jupyter-widgets/base",
            "_view_module_version": "1.2.0",
            "_view_name": "LayoutView",
            "align_content": null,
            "align_items": null,
            "align_self": null,
            "border": null,
            "bottom": null,
            "display": null,
            "flex": null,
            "flex_flow": null,
            "grid_area": null,
            "grid_auto_columns": null,
            "grid_auto_flow": null,
            "grid_auto_rows": null,
            "grid_column": null,
            "grid_gap": null,
            "grid_row": null,
            "grid_template_areas": null,
            "grid_template_columns": null,
            "grid_template_rows": null,
            "height": null,
            "justify_content": null,
            "justify_items": null,
            "left": null,
            "margin": null,
            "max_height": null,
            "max_width": null,
            "min_height": null,
            "min_width": null,
            "object_fit": null,
            "object_position": null,
            "order": null,
            "overflow": null,
            "overflow_x": null,
            "overflow_y": null,
            "padding": null,
            "right": null,
            "top": null,
            "visibility": null,
            "width": null
          }
        },
        "2d42ff749b5e454fb4d3f13457d6d3d1": {
          "model_module": "@jupyter-widgets/base",
          "model_module_version": "1.2.0",
          "model_name": "LayoutModel",
          "state": {
            "_model_module": "@jupyter-widgets/base",
            "_model_module_version": "1.2.0",
            "_model_name": "LayoutModel",
            "_view_count": null,
            "_view_module": "@jupyter-widgets/base",
            "_view_module_version": "1.2.0",
            "_view_name": "LayoutView",
            "align_content": null,
            "align_items": null,
            "align_self": null,
            "border": null,
            "bottom": null,
            "display": null,
            "flex": null,
            "flex_flow": null,
            "grid_area": null,
            "grid_auto_columns": null,
            "grid_auto_flow": null,
            "grid_auto_rows": null,
            "grid_column": null,
            "grid_gap": null,
            "grid_row": null,
            "grid_template_areas": null,
            "grid_template_columns": null,
            "grid_template_rows": null,
            "height": null,
            "justify_content": null,
            "justify_items": null,
            "left": null,
            "margin": null,
            "max_height": null,
            "max_width": null,
            "min_height": null,
            "min_width": null,
            "object_fit": null,
            "object_position": null,
            "order": null,
            "overflow": null,
            "overflow_x": null,
            "overflow_y": null,
            "padding": null,
            "right": null,
            "top": null,
            "visibility": null,
            "width": null
          }
        },
        "327b43e4be1b4b7eba172fcd8b76233c": {
          "model_module": "@jupyter-widgets/controls",
          "model_module_version": "1.5.0",
          "model_name": "DescriptionStyleModel",
          "state": {
            "_model_module": "@jupyter-widgets/controls",
            "_model_module_version": "1.5.0",
            "_model_name": "DescriptionStyleModel",
            "_view_count": null,
            "_view_module": "@jupyter-widgets/base",
            "_view_module_version": "1.2.0",
            "_view_name": "StyleView",
            "description_width": ""
          }
        },
        "33d014f0aba7447180528b3f6a129824": {
          "model_module": "@jupyter-widgets/base",
          "model_module_version": "1.2.0",
          "model_name": "LayoutModel",
          "state": {
            "_model_module": "@jupyter-widgets/base",
            "_model_module_version": "1.2.0",
            "_model_name": "LayoutModel",
            "_view_count": null,
            "_view_module": "@jupyter-widgets/base",
            "_view_module_version": "1.2.0",
            "_view_name": "LayoutView",
            "align_content": null,
            "align_items": null,
            "align_self": null,
            "border": null,
            "bottom": null,
            "display": null,
            "flex": null,
            "flex_flow": null,
            "grid_area": null,
            "grid_auto_columns": null,
            "grid_auto_flow": null,
            "grid_auto_rows": null,
            "grid_column": null,
            "grid_gap": null,
            "grid_row": null,
            "grid_template_areas": null,
            "grid_template_columns": null,
            "grid_template_rows": null,
            "height": null,
            "justify_content": null,
            "justify_items": null,
            "left": null,
            "margin": null,
            "max_height": null,
            "max_width": null,
            "min_height": null,
            "min_width": null,
            "object_fit": null,
            "object_position": null,
            "order": null,
            "overflow": null,
            "overflow_x": null,
            "overflow_y": null,
            "padding": null,
            "right": null,
            "top": null,
            "visibility": null,
            "width": null
          }
        },
        "36b92f31466e486bada28c10e98b4d93": {
          "model_module": "@jupyter-widgets/controls",
          "model_module_version": "1.5.0",
          "model_name": "HTMLModel",
          "state": {
            "_dom_classes": [],
            "_model_module": "@jupyter-widgets/controls",
            "_model_module_version": "1.5.0",
            "_model_name": "HTMLModel",
            "_view_count": null,
            "_view_module": "@jupyter-widgets/controls",
            "_view_module_version": "1.5.0",
            "_view_name": "HTMLView",
            "description": "",
            "description_tooltip": null,
            "layout": "IPY_MODEL_9dcd07adc07248dba612496cfa985073",
            "placeholder": "​",
            "style": "IPY_MODEL_327b43e4be1b4b7eba172fcd8b76233c",
            "value": " 239/239 [00:00&lt;00:00, 6.64kB/s]"
          }
        },
        "394c8b66f4ad4b5c90cb0455a434caa7": {
          "model_module": "@jupyter-widgets/controls",
          "model_module_version": "1.5.0",
          "model_name": "ProgressStyleModel",
          "state": {
            "_model_module": "@jupyter-widgets/controls",
            "_model_module_version": "1.5.0",
            "_model_name": "ProgressStyleModel",
            "_view_count": null,
            "_view_module": "@jupyter-widgets/base",
            "_view_module_version": "1.2.0",
            "_view_name": "StyleView",
            "bar_color": null,
            "description_width": ""
          }
        },
        "398a598e58cd49f8861a29f9d0e4b434": {
          "model_module": "@jupyter-widgets/base",
          "model_module_version": "1.2.0",
          "model_name": "LayoutModel",
          "state": {
            "_model_module": "@jupyter-widgets/base",
            "_model_module_version": "1.2.0",
            "_model_name": "LayoutModel",
            "_view_count": null,
            "_view_module": "@jupyter-widgets/base",
            "_view_module_version": "1.2.0",
            "_view_name": "LayoutView",
            "align_content": null,
            "align_items": null,
            "align_self": null,
            "border": null,
            "bottom": null,
            "display": null,
            "flex": null,
            "flex_flow": null,
            "grid_area": null,
            "grid_auto_columns": null,
            "grid_auto_flow": null,
            "grid_auto_rows": null,
            "grid_column": null,
            "grid_gap": null,
            "grid_row": null,
            "grid_template_areas": null,
            "grid_template_columns": null,
            "grid_template_rows": null,
            "height": null,
            "justify_content": null,
            "justify_items": null,
            "left": null,
            "margin": null,
            "max_height": null,
            "max_width": null,
            "min_height": null,
            "min_width": null,
            "object_fit": null,
            "object_position": null,
            "order": null,
            "overflow": null,
            "overflow_x": null,
            "overflow_y": null,
            "padding": null,
            "right": null,
            "top": null,
            "visibility": null,
            "width": null
          }
        },
        "3a7380be998e41e1b595c96c7c1e76f0": {
          "model_module": "@jupyter-widgets/controls",
          "model_module_version": "1.5.0",
          "model_name": "FloatProgressModel",
          "state": {
            "_dom_classes": [],
            "_model_module": "@jupyter-widgets/controls",
            "_model_module_version": "1.5.0",
            "_model_name": "FloatProgressModel",
            "_view_count": null,
            "_view_module": "@jupyter-widgets/controls",
            "_view_module_version": "1.5.0",
            "_view_name": "ProgressView",
            "bar_style": "success",
            "description": "",
            "description_tooltip": null,
            "layout": "IPY_MODEL_0cedb335a5e7449cb54a312fbed7e615",
            "max": 456318,
            "min": 0,
            "orientation": "horizontal",
            "style": "IPY_MODEL_d216a674e99d407e86f77299eba18836",
            "value": 456318
          }
        },
        "3b1b78abfbeb489a8c5a75f8065fa728": {
          "model_module": "@jupyter-widgets/controls",
          "model_module_version": "1.5.0",
          "model_name": "HTMLModel",
          "state": {
            "_dom_classes": [],
            "_model_module": "@jupyter-widgets/controls",
            "_model_module_version": "1.5.0",
            "_model_name": "HTMLModel",
            "_view_count": null,
            "_view_module": "@jupyter-widgets/controls",
            "_view_module_version": "1.5.0",
            "_view_name": "HTMLView",
            "description": "",
            "description_tooltip": null,
            "layout": "IPY_MODEL_48a84a5ad7a1455ca9f8e784c5c63040",
            "placeholder": "​",
            "style": "IPY_MODEL_5625945fead3443895c87ec15e79a855",
            "value": "Downloading (…)olve/main/vocab.json: 100%"
          }
        },
        "3f2cc9e464cd405a95684f1961e3cf13": {
          "model_module": "@jupyter-widgets/controls",
          "model_module_version": "1.5.0",
          "model_name": "HTMLModel",
          "state": {
            "_dom_classes": [],
            "_model_module": "@jupyter-widgets/controls",
            "_model_module_version": "1.5.0",
            "_model_name": "HTMLModel",
            "_view_count": null,
            "_view_module": "@jupyter-widgets/controls",
            "_view_module_version": "1.5.0",
            "_view_name": "HTMLView",
            "description": "",
            "description_tooltip": null,
            "layout": "IPY_MODEL_467797a903d545b68a7cd07c9b0ad769",
            "placeholder": "​",
            "style": "IPY_MODEL_aece2fa22a7e47bb83ea410d841e196e",
            "value": " 456k/456k [00:00&lt;00:00, 619kB/s]"
          }
        },
        "43a4d759e5d34b86802413fc99544c72": {
          "model_module": "@jupyter-widgets/base",
          "model_module_version": "1.2.0",
          "model_name": "LayoutModel",
          "state": {
            "_model_module": "@jupyter-widgets/base",
            "_model_module_version": "1.2.0",
            "_model_name": "LayoutModel",
            "_view_count": null,
            "_view_module": "@jupyter-widgets/base",
            "_view_module_version": "1.2.0",
            "_view_name": "LayoutView",
            "align_content": null,
            "align_items": null,
            "align_self": null,
            "border": null,
            "bottom": null,
            "display": null,
            "flex": null,
            "flex_flow": null,
            "grid_area": null,
            "grid_auto_columns": null,
            "grid_auto_flow": null,
            "grid_auto_rows": null,
            "grid_column": null,
            "grid_gap": null,
            "grid_row": null,
            "grid_template_areas": null,
            "grid_template_columns": null,
            "grid_template_rows": null,
            "height": null,
            "justify_content": null,
            "justify_items": null,
            "left": null,
            "margin": null,
            "max_height": null,
            "max_width": null,
            "min_height": null,
            "min_width": null,
            "object_fit": null,
            "object_position": null,
            "order": null,
            "overflow": null,
            "overflow_x": null,
            "overflow_y": null,
            "padding": null,
            "right": null,
            "top": null,
            "visibility": null,
            "width": null
          }
        },
        "467797a903d545b68a7cd07c9b0ad769": {
          "model_module": "@jupyter-widgets/base",
          "model_module_version": "1.2.0",
          "model_name": "LayoutModel",
          "state": {
            "_model_module": "@jupyter-widgets/base",
            "_model_module_version": "1.2.0",
            "_model_name": "LayoutModel",
            "_view_count": null,
            "_view_module": "@jupyter-widgets/base",
            "_view_module_version": "1.2.0",
            "_view_name": "LayoutView",
            "align_content": null,
            "align_items": null,
            "align_self": null,
            "border": null,
            "bottom": null,
            "display": null,
            "flex": null,
            "flex_flow": null,
            "grid_area": null,
            "grid_auto_columns": null,
            "grid_auto_flow": null,
            "grid_auto_rows": null,
            "grid_column": null,
            "grid_gap": null,
            "grid_row": null,
            "grid_template_areas": null,
            "grid_template_columns": null,
            "grid_template_rows": null,
            "height": null,
            "justify_content": null,
            "justify_items": null,
            "left": null,
            "margin": null,
            "max_height": null,
            "max_width": null,
            "min_height": null,
            "min_width": null,
            "object_fit": null,
            "object_position": null,
            "order": null,
            "overflow": null,
            "overflow_x": null,
            "overflow_y": null,
            "padding": null,
            "right": null,
            "top": null,
            "visibility": null,
            "width": null
          }
        },
        "46dfe9828cec4338a41d540e2aeee9f4": {
          "model_module": "@jupyter-widgets/controls",
          "model_module_version": "1.5.0",
          "model_name": "DescriptionStyleModel",
          "state": {
            "_model_module": "@jupyter-widgets/controls",
            "_model_module_version": "1.5.0",
            "_model_name": "DescriptionStyleModel",
            "_view_count": null,
            "_view_module": "@jupyter-widgets/base",
            "_view_module_version": "1.2.0",
            "_view_name": "StyleView",
            "description_width": ""
          }
        },
        "48a84a5ad7a1455ca9f8e784c5c63040": {
          "model_module": "@jupyter-widgets/base",
          "model_module_version": "1.2.0",
          "model_name": "LayoutModel",
          "state": {
            "_model_module": "@jupyter-widgets/base",
            "_model_module_version": "1.2.0",
            "_model_name": "LayoutModel",
            "_view_count": null,
            "_view_module": "@jupyter-widgets/base",
            "_view_module_version": "1.2.0",
            "_view_name": "LayoutView",
            "align_content": null,
            "align_items": null,
            "align_self": null,
            "border": null,
            "bottom": null,
            "display": null,
            "flex": null,
            "flex_flow": null,
            "grid_area": null,
            "grid_auto_columns": null,
            "grid_auto_flow": null,
            "grid_auto_rows": null,
            "grid_column": null,
            "grid_gap": null,
            "grid_row": null,
            "grid_template_areas": null,
            "grid_template_columns": null,
            "grid_template_rows": null,
            "height": null,
            "justify_content": null,
            "justify_items": null,
            "left": null,
            "margin": null,
            "max_height": null,
            "max_width": null,
            "min_height": null,
            "min_width": null,
            "object_fit": null,
            "object_position": null,
            "order": null,
            "overflow": null,
            "overflow_x": null,
            "overflow_y": null,
            "padding": null,
            "right": null,
            "top": null,
            "visibility": null,
            "width": null
          }
        },
        "4c94681a463f4c7fbc85a837e956a489": {
          "model_module": "@jupyter-widgets/controls",
          "model_module_version": "1.5.0",
          "model_name": "ProgressStyleModel",
          "state": {
            "_model_module": "@jupyter-widgets/controls",
            "_model_module_version": "1.5.0",
            "_model_name": "ProgressStyleModel",
            "_view_count": null,
            "_view_module": "@jupyter-widgets/base",
            "_view_module_version": "1.2.0",
            "_view_name": "StyleView",
            "bar_color": null,
            "description_width": ""
          }
        },
        "4e878fca9fac4da6847241fe45f4fd5d": {
          "model_module": "@jupyter-widgets/controls",
          "model_module_version": "1.5.0",
          "model_name": "HTMLModel",
          "state": {
            "_dom_classes": [],
            "_model_module": "@jupyter-widgets/controls",
            "_model_module_version": "1.5.0",
            "_model_name": "HTMLModel",
            "_view_count": null,
            "_view_module": "@jupyter-widgets/controls",
            "_view_module_version": "1.5.0",
            "_view_name": "HTMLView",
            "description": "",
            "description_tooltip": null,
            "layout": "IPY_MODEL_43a4d759e5d34b86802413fc99544c72",
            "placeholder": "​",
            "style": "IPY_MODEL_9f94970fa4df44c69938693e49e22fb1",
            "value": "Downloading (…)olve/main/merges.txt: 100%"
          }
        },
        "55562686555c4585ace47e68690c00a2": {
          "model_module": "@jupyter-widgets/controls",
          "model_module_version": "1.5.0",
          "model_name": "FloatProgressModel",
          "state": {
            "_dom_classes": [],
            "_model_module": "@jupyter-widgets/controls",
            "_model_module_version": "1.5.0",
            "_model_name": "FloatProgressModel",
            "_view_count": null,
            "_view_module": "@jupyter-widgets/controls",
            "_view_module_version": "1.5.0",
            "_view_name": "ProgressView",
            "bar_style": "success",
            "description": "",
            "description_tooltip": null,
            "layout": "IPY_MODEL_398a598e58cd49f8861a29f9d0e4b434",
            "max": 239,
            "min": 0,
            "orientation": "horizontal",
            "style": "IPY_MODEL_4c94681a463f4c7fbc85a837e956a489",
            "value": 239
          }
        },
        "5625945fead3443895c87ec15e79a855": {
          "model_module": "@jupyter-widgets/controls",
          "model_module_version": "1.5.0",
          "model_name": "DescriptionStyleModel",
          "state": {
            "_model_module": "@jupyter-widgets/controls",
            "_model_module_version": "1.5.0",
            "_model_name": "DescriptionStyleModel",
            "_view_count": null,
            "_view_module": "@jupyter-widgets/base",
            "_view_module_version": "1.2.0",
            "_view_name": "StyleView",
            "description_width": ""
          }
        },
        "604280b99b8b498d9d1733480a84577b": {
          "model_module": "@jupyter-widgets/controls",
          "model_module_version": "1.5.0",
          "model_name": "DescriptionStyleModel",
          "state": {
            "_model_module": "@jupyter-widgets/controls",
            "_model_module_version": "1.5.0",
            "_model_name": "DescriptionStyleModel",
            "_view_count": null,
            "_view_module": "@jupyter-widgets/base",
            "_view_module_version": "1.2.0",
            "_view_name": "StyleView",
            "description_width": ""
          }
        },
        "69657187923245d2a5f00523a436789c": {
          "model_module": "@jupyter-widgets/controls",
          "model_module_version": "1.5.0",
          "model_name": "DescriptionStyleModel",
          "state": {
            "_model_module": "@jupyter-widgets/controls",
            "_model_module_version": "1.5.0",
            "_model_name": "DescriptionStyleModel",
            "_view_count": null,
            "_view_module": "@jupyter-widgets/base",
            "_view_module_version": "1.2.0",
            "_view_name": "StyleView",
            "description_width": ""
          }
        },
        "752e829a8d2a4783a7ec9854a613f6e2": {
          "model_module": "@jupyter-widgets/controls",
          "model_module_version": "1.5.0",
          "model_name": "FloatProgressModel",
          "state": {
            "_dom_classes": [],
            "_model_module": "@jupyter-widgets/controls",
            "_model_module_version": "1.5.0",
            "_model_name": "FloatProgressModel",
            "_view_count": null,
            "_view_module": "@jupyter-widgets/controls",
            "_view_module_version": "1.5.0",
            "_view_name": "ProgressView",
            "bar_style": "success",
            "description": "",
            "description_tooltip": null,
            "layout": "IPY_MODEL_f3ac84a89d38470b91ab9e295a323da2",
            "max": 898822,
            "min": 0,
            "orientation": "horizontal",
            "style": "IPY_MODEL_394c8b66f4ad4b5c90cb0455a434caa7",
            "value": 898822
          }
        },
        "75779db332f64d7aadb9f8cf4bf6283b": {
          "model_module": "@jupyter-widgets/base",
          "model_module_version": "1.2.0",
          "model_name": "LayoutModel",
          "state": {
            "_model_module": "@jupyter-widgets/base",
            "_model_module_version": "1.2.0",
            "_model_name": "LayoutModel",
            "_view_count": null,
            "_view_module": "@jupyter-widgets/base",
            "_view_module_version": "1.2.0",
            "_view_name": "LayoutView",
            "align_content": null,
            "align_items": null,
            "align_self": null,
            "border": null,
            "bottom": null,
            "display": null,
            "flex": null,
            "flex_flow": null,
            "grid_area": null,
            "grid_auto_columns": null,
            "grid_auto_flow": null,
            "grid_auto_rows": null,
            "grid_column": null,
            "grid_gap": null,
            "grid_row": null,
            "grid_template_areas": null,
            "grid_template_columns": null,
            "grid_template_rows": null,
            "height": null,
            "justify_content": null,
            "justify_items": null,
            "left": null,
            "margin": null,
            "max_height": null,
            "max_width": null,
            "min_height": null,
            "min_width": null,
            "object_fit": null,
            "object_position": null,
            "order": null,
            "overflow": null,
            "overflow_x": null,
            "overflow_y": null,
            "padding": null,
            "right": null,
            "top": null,
            "visibility": null,
            "width": null
          }
        },
        "7a11b74737a745ce918774b0418f42b2": {
          "model_module": "@jupyter-widgets/controls",
          "model_module_version": "1.5.0",
          "model_name": "DescriptionStyleModel",
          "state": {
            "_model_module": "@jupyter-widgets/controls",
            "_model_module_version": "1.5.0",
            "_model_name": "DescriptionStyleModel",
            "_view_count": null,
            "_view_module": "@jupyter-widgets/base",
            "_view_module_version": "1.2.0",
            "_view_name": "StyleView",
            "description_width": ""
          }
        },
        "7da66c7606e84331b502e6b4030dc474": {
          "model_module": "@jupyter-widgets/controls",
          "model_module_version": "1.5.0",
          "model_name": "HBoxModel",
          "state": {
            "_dom_classes": [],
            "_model_module": "@jupyter-widgets/controls",
            "_model_module_version": "1.5.0",
            "_model_name": "HBoxModel",
            "_view_count": null,
            "_view_module": "@jupyter-widgets/controls",
            "_view_module_version": "1.5.0",
            "_view_name": "HBoxView",
            "box_style": "",
            "children": [
              "IPY_MODEL_4e878fca9fac4da6847241fe45f4fd5d",
              "IPY_MODEL_3a7380be998e41e1b595c96c7c1e76f0",
              "IPY_MODEL_3f2cc9e464cd405a95684f1961e3cf13"
            ],
            "layout": "IPY_MODEL_03a5e205c7df4108ba84096e6e4a8453"
          }
        },
        "85db2ec5d1d9402886b0a0721d344159": {
          "model_module": "@jupyter-widgets/base",
          "model_module_version": "1.2.0",
          "model_name": "LayoutModel",
          "state": {
            "_model_module": "@jupyter-widgets/base",
            "_model_module_version": "1.2.0",
            "_model_name": "LayoutModel",
            "_view_count": null,
            "_view_module": "@jupyter-widgets/base",
            "_view_module_version": "1.2.0",
            "_view_name": "LayoutView",
            "align_content": null,
            "align_items": null,
            "align_self": null,
            "border": null,
            "bottom": null,
            "display": null,
            "flex": null,
            "flex_flow": null,
            "grid_area": null,
            "grid_auto_columns": null,
            "grid_auto_flow": null,
            "grid_auto_rows": null,
            "grid_column": null,
            "grid_gap": null,
            "grid_row": null,
            "grid_template_areas": null,
            "grid_template_columns": null,
            "grid_template_rows": null,
            "height": null,
            "justify_content": null,
            "justify_items": null,
            "left": null,
            "margin": null,
            "max_height": null,
            "max_width": null,
            "min_height": null,
            "min_width": null,
            "object_fit": null,
            "object_position": null,
            "order": null,
            "overflow": null,
            "overflow_x": null,
            "overflow_y": null,
            "padding": null,
            "right": null,
            "top": null,
            "visibility": null,
            "width": null
          }
        },
        "870ae20680c843c3b1fb1e4fc280941a": {
          "model_module": "@jupyter-widgets/base",
          "model_module_version": "1.2.0",
          "model_name": "LayoutModel",
          "state": {
            "_model_module": "@jupyter-widgets/base",
            "_model_module_version": "1.2.0",
            "_model_name": "LayoutModel",
            "_view_count": null,
            "_view_module": "@jupyter-widgets/base",
            "_view_module_version": "1.2.0",
            "_view_name": "LayoutView",
            "align_content": null,
            "align_items": null,
            "align_self": null,
            "border": null,
            "bottom": null,
            "display": null,
            "flex": null,
            "flex_flow": null,
            "grid_area": null,
            "grid_auto_columns": null,
            "grid_auto_flow": null,
            "grid_auto_rows": null,
            "grid_column": null,
            "grid_gap": null,
            "grid_row": null,
            "grid_template_areas": null,
            "grid_template_columns": null,
            "grid_template_rows": null,
            "height": null,
            "justify_content": null,
            "justify_items": null,
            "left": null,
            "margin": null,
            "max_height": null,
            "max_width": null,
            "min_height": null,
            "min_width": null,
            "object_fit": null,
            "object_position": null,
            "order": null,
            "overflow": null,
            "overflow_x": null,
            "overflow_y": null,
            "padding": null,
            "right": null,
            "top": null,
            "visibility": null,
            "width": null
          }
        },
        "873383c1ae2d408883947ec46929fe6a": {
          "model_module": "@jupyter-widgets/controls",
          "model_module_version": "1.5.0",
          "model_name": "HTMLModel",
          "state": {
            "_dom_classes": [],
            "_model_module": "@jupyter-widgets/controls",
            "_model_module_version": "1.5.0",
            "_model_name": "HTMLModel",
            "_view_count": null,
            "_view_module": "@jupyter-widgets/controls",
            "_view_module_version": "1.5.0",
            "_view_name": "HTMLView",
            "description": "",
            "description_tooltip": null,
            "layout": "IPY_MODEL_2d42ff749b5e454fb4d3f13457d6d3d1",
            "placeholder": "​",
            "style": "IPY_MODEL_69657187923245d2a5f00523a436789c",
            "value": "Downloading (…)cial_tokens_map.json: 100%"
          }
        },
        "964ba6faf03c4ae286a18ac0d816aa02": {
          "model_module": "@jupyter-widgets/controls",
          "model_module_version": "1.5.0",
          "model_name": "DescriptionStyleModel",
          "state": {
            "_model_module": "@jupyter-widgets/controls",
            "_model_module_version": "1.5.0",
            "_model_name": "DescriptionStyleModel",
            "_view_count": null,
            "_view_module": "@jupyter-widgets/base",
            "_view_module_version": "1.2.0",
            "_view_name": "StyleView",
            "description_width": ""
          }
        },
        "97f13b47a27d495797ac7452ab8a70f3": {
          "model_module": "@jupyter-widgets/controls",
          "model_module_version": "1.5.0",
          "model_name": "ProgressStyleModel",
          "state": {
            "_model_module": "@jupyter-widgets/controls",
            "_model_module_version": "1.5.0",
            "_model_name": "ProgressStyleModel",
            "_view_count": null,
            "_view_module": "@jupyter-widgets/base",
            "_view_module_version": "1.2.0",
            "_view_name": "StyleView",
            "bar_color": null,
            "description_width": ""
          }
        },
        "9dcd07adc07248dba612496cfa985073": {
          "model_module": "@jupyter-widgets/base",
          "model_module_version": "1.2.0",
          "model_name": "LayoutModel",
          "state": {
            "_model_module": "@jupyter-widgets/base",
            "_model_module_version": "1.2.0",
            "_model_name": "LayoutModel",
            "_view_count": null,
            "_view_module": "@jupyter-widgets/base",
            "_view_module_version": "1.2.0",
            "_view_name": "LayoutView",
            "align_content": null,
            "align_items": null,
            "align_self": null,
            "border": null,
            "bottom": null,
            "display": null,
            "flex": null,
            "flex_flow": null,
            "grid_area": null,
            "grid_auto_columns": null,
            "grid_auto_flow": null,
            "grid_auto_rows": null,
            "grid_column": null,
            "grid_gap": null,
            "grid_row": null,
            "grid_template_areas": null,
            "grid_template_columns": null,
            "grid_template_rows": null,
            "height": null,
            "justify_content": null,
            "justify_items": null,
            "left": null,
            "margin": null,
            "max_height": null,
            "max_width": null,
            "min_height": null,
            "min_width": null,
            "object_fit": null,
            "object_position": null,
            "order": null,
            "overflow": null,
            "overflow_x": null,
            "overflow_y": null,
            "padding": null,
            "right": null,
            "top": null,
            "visibility": null,
            "width": null
          }
        },
        "9f94970fa4df44c69938693e49e22fb1": {
          "model_module": "@jupyter-widgets/controls",
          "model_module_version": "1.5.0",
          "model_name": "DescriptionStyleModel",
          "state": {
            "_model_module": "@jupyter-widgets/controls",
            "_model_module_version": "1.5.0",
            "_model_name": "DescriptionStyleModel",
            "_view_count": null,
            "_view_module": "@jupyter-widgets/base",
            "_view_module_version": "1.2.0",
            "_view_name": "StyleView",
            "description_width": ""
          }
        },
        "aece2fa22a7e47bb83ea410d841e196e": {
          "model_module": "@jupyter-widgets/controls",
          "model_module_version": "1.5.0",
          "model_name": "DescriptionStyleModel",
          "state": {
            "_model_module": "@jupyter-widgets/controls",
            "_model_module_version": "1.5.0",
            "_model_name": "DescriptionStyleModel",
            "_view_count": null,
            "_view_module": "@jupyter-widgets/base",
            "_view_module_version": "1.2.0",
            "_view_name": "StyleView",
            "description_width": ""
          }
        },
        "b158389073d34510ae2e8f9e6df50d53": {
          "model_module": "@jupyter-widgets/controls",
          "model_module_version": "1.5.0",
          "model_name": "HTMLModel",
          "state": {
            "_dom_classes": [],
            "_model_module": "@jupyter-widgets/controls",
            "_model_module_version": "1.5.0",
            "_model_name": "HTMLModel",
            "_view_count": null,
            "_view_module": "@jupyter-widgets/controls",
            "_view_module_version": "1.5.0",
            "_view_name": "HTMLView",
            "description": "",
            "description_tooltip": null,
            "layout": "IPY_MODEL_21a970b599f84ef38aa30d8a7d2dd6c2",
            "placeholder": "​",
            "style": "IPY_MODEL_7a11b74737a745ce918774b0418f42b2",
            "value": " 929/929 [00:00&lt;00:00, 12.0kB/s]"
          }
        },
        "b2269ef30ebf4589845a0e33077f11ed": {
          "model_module": "@jupyter-widgets/controls",
          "model_module_version": "1.5.0",
          "model_name": "ProgressStyleModel",
          "state": {
            "_model_module": "@jupyter-widgets/controls",
            "_model_module_version": "1.5.0",
            "_model_name": "ProgressStyleModel",
            "_view_count": null,
            "_view_module": "@jupyter-widgets/base",
            "_view_module_version": "1.2.0",
            "_view_name": "StyleView",
            "bar_color": null,
            "description_width": ""
          }
        },
        "b329bf27398a4c17bb9e4fa55ad09cb9": {
          "model_module": "@jupyter-widgets/base",
          "model_module_version": "1.2.0",
          "model_name": "LayoutModel",
          "state": {
            "_model_module": "@jupyter-widgets/base",
            "_model_module_version": "1.2.0",
            "_model_name": "LayoutModel",
            "_view_count": null,
            "_view_module": "@jupyter-widgets/base",
            "_view_module_version": "1.2.0",
            "_view_name": "LayoutView",
            "align_content": null,
            "align_items": null,
            "align_self": null,
            "border": null,
            "bottom": null,
            "display": null,
            "flex": null,
            "flex_flow": null,
            "grid_area": null,
            "grid_auto_columns": null,
            "grid_auto_flow": null,
            "grid_auto_rows": null,
            "grid_column": null,
            "grid_gap": null,
            "grid_row": null,
            "grid_template_areas": null,
            "grid_template_columns": null,
            "grid_template_rows": null,
            "height": null,
            "justify_content": null,
            "justify_items": null,
            "left": null,
            "margin": null,
            "max_height": null,
            "max_width": null,
            "min_height": null,
            "min_width": null,
            "object_fit": null,
            "object_position": null,
            "order": null,
            "overflow": null,
            "overflow_x": null,
            "overflow_y": null,
            "padding": null,
            "right": null,
            "top": null,
            "visibility": null,
            "width": null
          }
        },
        "ca3c14cd95dd486ca9382d90a365e874": {
          "model_module": "@jupyter-widgets/controls",
          "model_module_version": "1.5.0",
          "model_name": "HTMLModel",
          "state": {
            "_dom_classes": [],
            "_model_module": "@jupyter-widgets/controls",
            "_model_module_version": "1.5.0",
            "_model_name": "HTMLModel",
            "_view_count": null,
            "_view_module": "@jupyter-widgets/controls",
            "_view_module_version": "1.5.0",
            "_view_name": "HTMLView",
            "description": "",
            "description_tooltip": null,
            "layout": "IPY_MODEL_2b55e0046db7443fb3e62ee24a50213d",
            "placeholder": "​",
            "style": "IPY_MODEL_46dfe9828cec4338a41d540e2aeee9f4",
            "value": "Downloading (…)lve/main/config.json: 100%"
          }
        },
        "cf90006ec79d464b8ad6168c82594835": {
          "model_module": "@jupyter-widgets/controls",
          "model_module_version": "1.5.0",
          "model_name": "HBoxModel",
          "state": {
            "_dom_classes": [],
            "_model_module": "@jupyter-widgets/controls",
            "_model_module_version": "1.5.0",
            "_model_name": "HBoxModel",
            "_view_count": null,
            "_view_module": "@jupyter-widgets/controls",
            "_view_module_version": "1.5.0",
            "_view_name": "HBoxView",
            "box_style": "",
            "children": [
              "IPY_MODEL_ca3c14cd95dd486ca9382d90a365e874",
              "IPY_MODEL_eedfdde86f904230a9edcebf96ee7f78",
              "IPY_MODEL_b158389073d34510ae2e8f9e6df50d53"
            ],
            "layout": "IPY_MODEL_18adb005cfd94c6fab9ca31c8739ae03"
          }
        },
        "d216a674e99d407e86f77299eba18836": {
          "model_module": "@jupyter-widgets/controls",
          "model_module_version": "1.5.0",
          "model_name": "ProgressStyleModel",
          "state": {
            "_model_module": "@jupyter-widgets/controls",
            "_model_module_version": "1.5.0",
            "_model_name": "ProgressStyleModel",
            "_view_count": null,
            "_view_module": "@jupyter-widgets/base",
            "_view_module_version": "1.2.0",
            "_view_name": "StyleView",
            "bar_color": null,
            "description_width": ""
          }
        },
        "dcd622b2d6024394a2c35c0c75eed9f7": {
          "model_module": "@jupyter-widgets/controls",
          "model_module_version": "1.5.0",
          "model_name": "HBoxModel",
          "state": {
            "_dom_classes": [],
            "_model_module": "@jupyter-widgets/controls",
            "_model_module_version": "1.5.0",
            "_model_name": "HBoxModel",
            "_view_count": null,
            "_view_module": "@jupyter-widgets/controls",
            "_view_module_version": "1.5.0",
            "_view_name": "HBoxView",
            "box_style": "",
            "children": [
              "IPY_MODEL_e2d625b5080b4b7794d9c82e50283d42",
              "IPY_MODEL_ff26b45859e44e9da55bebcfe53ec8bb",
              "IPY_MODEL_01debe1322ff4a84acb531a91237e9fb"
            ],
            "layout": "IPY_MODEL_33d014f0aba7447180528b3f6a129824"
          }
        },
        "e2d625b5080b4b7794d9c82e50283d42": {
          "model_module": "@jupyter-widgets/controls",
          "model_module_version": "1.5.0",
          "model_name": "HTMLModel",
          "state": {
            "_dom_classes": [],
            "_model_module": "@jupyter-widgets/controls",
            "_model_module_version": "1.5.0",
            "_model_name": "HTMLModel",
            "_view_count": null,
            "_view_module": "@jupyter-widgets/controls",
            "_view_module_version": "1.5.0",
            "_view_name": "HTMLView",
            "description": "",
            "description_tooltip": null,
            "layout": "IPY_MODEL_292dd63bab814eabaf61a08b34183846",
            "placeholder": "​",
            "style": "IPY_MODEL_964ba6faf03c4ae286a18ac0d816aa02",
            "value": "Downloading pytorch_model.bin: 100%"
          }
        },
        "e79fe9da6750483696d72d88d1ee5c81": {
          "model_module": "@jupyter-widgets/controls",
          "model_module_version": "1.5.0",
          "model_name": "DescriptionStyleModel",
          "state": {
            "_model_module": "@jupyter-widgets/controls",
            "_model_module_version": "1.5.0",
            "_model_name": "DescriptionStyleModel",
            "_view_count": null,
            "_view_module": "@jupyter-widgets/base",
            "_view_module_version": "1.2.0",
            "_view_name": "StyleView",
            "description_width": ""
          }
        },
        "ee644852f2ad4ae28f3c58e38d855aba": {
          "model_module": "@jupyter-widgets/base",
          "model_module_version": "1.2.0",
          "model_name": "LayoutModel",
          "state": {
            "_model_module": "@jupyter-widgets/base",
            "_model_module_version": "1.2.0",
            "_model_name": "LayoutModel",
            "_view_count": null,
            "_view_module": "@jupyter-widgets/base",
            "_view_module_version": "1.2.0",
            "_view_name": "LayoutView",
            "align_content": null,
            "align_items": null,
            "align_self": null,
            "border": null,
            "bottom": null,
            "display": null,
            "flex": null,
            "flex_flow": null,
            "grid_area": null,
            "grid_auto_columns": null,
            "grid_auto_flow": null,
            "grid_auto_rows": null,
            "grid_column": null,
            "grid_gap": null,
            "grid_row": null,
            "grid_template_areas": null,
            "grid_template_columns": null,
            "grid_template_rows": null,
            "height": null,
            "justify_content": null,
            "justify_items": null,
            "left": null,
            "margin": null,
            "max_height": null,
            "max_width": null,
            "min_height": null,
            "min_width": null,
            "object_fit": null,
            "object_position": null,
            "order": null,
            "overflow": null,
            "overflow_x": null,
            "overflow_y": null,
            "padding": null,
            "right": null,
            "top": null,
            "visibility": null,
            "width": null
          }
        },
        "eedfdde86f904230a9edcebf96ee7f78": {
          "model_module": "@jupyter-widgets/controls",
          "model_module_version": "1.5.0",
          "model_name": "FloatProgressModel",
          "state": {
            "_dom_classes": [],
            "_model_module": "@jupyter-widgets/controls",
            "_model_module_version": "1.5.0",
            "_model_name": "FloatProgressModel",
            "_view_count": null,
            "_view_module": "@jupyter-widgets/controls",
            "_view_module_version": "1.5.0",
            "_view_name": "ProgressView",
            "bar_style": "success",
            "description": "",
            "description_tooltip": null,
            "layout": "IPY_MODEL_870ae20680c843c3b1fb1e4fc280941a",
            "max": 929,
            "min": 0,
            "orientation": "horizontal",
            "style": "IPY_MODEL_b2269ef30ebf4589845a0e33077f11ed",
            "value": 929
          }
        },
        "f3ac84a89d38470b91ab9e295a323da2": {
          "model_module": "@jupyter-widgets/base",
          "model_module_version": "1.2.0",
          "model_name": "LayoutModel",
          "state": {
            "_model_module": "@jupyter-widgets/base",
            "_model_module_version": "1.2.0",
            "_model_name": "LayoutModel",
            "_view_count": null,
            "_view_module": "@jupyter-widgets/base",
            "_view_module_version": "1.2.0",
            "_view_name": "LayoutView",
            "align_content": null,
            "align_items": null,
            "align_self": null,
            "border": null,
            "bottom": null,
            "display": null,
            "flex": null,
            "flex_flow": null,
            "grid_area": null,
            "grid_auto_columns": null,
            "grid_auto_flow": null,
            "grid_auto_rows": null,
            "grid_column": null,
            "grid_gap": null,
            "grid_row": null,
            "grid_template_areas": null,
            "grid_template_columns": null,
            "grid_template_rows": null,
            "height": null,
            "justify_content": null,
            "justify_items": null,
            "left": null,
            "margin": null,
            "max_height": null,
            "max_width": null,
            "min_height": null,
            "min_width": null,
            "object_fit": null,
            "object_position": null,
            "order": null,
            "overflow": null,
            "overflow_x": null,
            "overflow_y": null,
            "padding": null,
            "right": null,
            "top": null,
            "visibility": null,
            "width": null
          }
        },
        "f64f01b1fe614a08a18e410d69d79aa7": {
          "model_module": "@jupyter-widgets/base",
          "model_module_version": "1.2.0",
          "model_name": "LayoutModel",
          "state": {
            "_model_module": "@jupyter-widgets/base",
            "_model_module_version": "1.2.0",
            "_model_name": "LayoutModel",
            "_view_count": null,
            "_view_module": "@jupyter-widgets/base",
            "_view_module_version": "1.2.0",
            "_view_name": "LayoutView",
            "align_content": null,
            "align_items": null,
            "align_self": null,
            "border": null,
            "bottom": null,
            "display": null,
            "flex": null,
            "flex_flow": null,
            "grid_area": null,
            "grid_auto_columns": null,
            "grid_auto_flow": null,
            "grid_auto_rows": null,
            "grid_column": null,
            "grid_gap": null,
            "grid_row": null,
            "grid_template_areas": null,
            "grid_template_columns": null,
            "grid_template_rows": null,
            "height": null,
            "justify_content": null,
            "justify_items": null,
            "left": null,
            "margin": null,
            "max_height": null,
            "max_width": null,
            "min_height": null,
            "min_width": null,
            "object_fit": null,
            "object_position": null,
            "order": null,
            "overflow": null,
            "overflow_x": null,
            "overflow_y": null,
            "padding": null,
            "right": null,
            "top": null,
            "visibility": null,
            "width": null
          }
        },
        "f8c1a3301cac497fa1aafffa1c680f72": {
          "model_module": "@jupyter-widgets/controls",
          "model_module_version": "1.5.0",
          "model_name": "HBoxModel",
          "state": {
            "_dom_classes": [],
            "_model_module": "@jupyter-widgets/controls",
            "_model_module_version": "1.5.0",
            "_model_name": "HBoxModel",
            "_view_count": null,
            "_view_module": "@jupyter-widgets/controls",
            "_view_module_version": "1.5.0",
            "_view_name": "HBoxView",
            "box_style": "",
            "children": [
              "IPY_MODEL_3b1b78abfbeb489a8c5a75f8065fa728",
              "IPY_MODEL_752e829a8d2a4783a7ec9854a613f6e2",
              "IPY_MODEL_1f9b9514ce3e4081b77d1e39aacf4316"
            ],
            "layout": "IPY_MODEL_85db2ec5d1d9402886b0a0721d344159"
          }
        },
        "ff26b45859e44e9da55bebcfe53ec8bb": {
          "model_module": "@jupyter-widgets/controls",
          "model_module_version": "1.5.0",
          "model_name": "FloatProgressModel",
          "state": {
            "_dom_classes": [],
            "_model_module": "@jupyter-widgets/controls",
            "_model_module_version": "1.5.0",
            "_model_name": "FloatProgressModel",
            "_view_count": null,
            "_view_module": "@jupyter-widgets/controls",
            "_view_module_version": "1.5.0",
            "_view_name": "ProgressView",
            "bar_style": "success",
            "description": "",
            "description_tooltip": null,
            "layout": "IPY_MODEL_ee644852f2ad4ae28f3c58e38d855aba",
            "max": 501045531,
            "min": 0,
            "orientation": "horizontal",
            "style": "IPY_MODEL_97f13b47a27d495797ac7452ab8a70f3",
            "value": 501045531
          }
        },
        "c84d8954b6dd4845a1ea15db589fd799": {
          "model_module": "@jupyter-widgets/controls",
          "model_name": "HBoxModel",
          "model_module_version": "1.5.0",
          "state": {
            "_dom_classes": [],
            "_model_module": "@jupyter-widgets/controls",
            "_model_module_version": "1.5.0",
            "_model_name": "HBoxModel",
            "_view_count": null,
            "_view_module": "@jupyter-widgets/controls",
            "_view_module_version": "1.5.0",
            "_view_name": "HBoxView",
            "box_style": "",
            "children": [
              "IPY_MODEL_051c5e85ea1e42b286181e4550613aaf",
              "IPY_MODEL_846e5a89586743d596ea08d1a2816d93",
              "IPY_MODEL_b70d7c0dfdd644468a0c12c468874d91"
            ],
            "layout": "IPY_MODEL_49415412d4f043a6a61a14812180cc6e"
          }
        },
        "051c5e85ea1e42b286181e4550613aaf": {
          "model_module": "@jupyter-widgets/controls",
          "model_name": "HTMLModel",
          "model_module_version": "1.5.0",
          "state": {
            "_dom_classes": [],
            "_model_module": "@jupyter-widgets/controls",
            "_model_module_version": "1.5.0",
            "_model_name": "HTMLModel",
            "_view_count": null,
            "_view_module": "@jupyter-widgets/controls",
            "_view_module_version": "1.5.0",
            "_view_name": "HTMLView",
            "description": "",
            "description_tooltip": null,
            "layout": "IPY_MODEL_f0db2cf143bb46989f684845cf3cfb20",
            "placeholder": "​",
            "style": "IPY_MODEL_b7da7ffbb4e84dac811b868698283696",
            "value": "100%"
          }
        },
        "846e5a89586743d596ea08d1a2816d93": {
          "model_module": "@jupyter-widgets/controls",
          "model_name": "FloatProgressModel",
          "model_module_version": "1.5.0",
          "state": {
            "_dom_classes": [],
            "_model_module": "@jupyter-widgets/controls",
            "_model_module_version": "1.5.0",
            "_model_name": "FloatProgressModel",
            "_view_count": null,
            "_view_module": "@jupyter-widgets/controls",
            "_view_module_version": "1.5.0",
            "_view_name": "ProgressView",
            "bar_style": "success",
            "description": "",
            "description_tooltip": null,
            "layout": "IPY_MODEL_6f4bb5e6151e4f519f8b95e5aad80401",
            "max": 300,
            "min": 0,
            "orientation": "horizontal",
            "style": "IPY_MODEL_32a0ce7a793e428fbc540a0d5e539ea8",
            "value": 300
          }
        },
        "b70d7c0dfdd644468a0c12c468874d91": {
          "model_module": "@jupyter-widgets/controls",
          "model_name": "HTMLModel",
          "model_module_version": "1.5.0",
          "state": {
            "_dom_classes": [],
            "_model_module": "@jupyter-widgets/controls",
            "_model_module_version": "1.5.0",
            "_model_name": "HTMLModel",
            "_view_count": null,
            "_view_module": "@jupyter-widgets/controls",
            "_view_module_version": "1.5.0",
            "_view_name": "HTMLView",
            "description": "",
            "description_tooltip": null,
            "layout": "IPY_MODEL_70df896b4a824c5db51dde84ea7a77ee",
            "placeholder": "​",
            "style": "IPY_MODEL_36a54bcc8c2c4f6e99105084c64720bb",
            "value": " 300/300 [00:00&lt;00:00, 393.36it/s]"
          }
        },
        "49415412d4f043a6a61a14812180cc6e": {
          "model_module": "@jupyter-widgets/base",
          "model_name": "LayoutModel",
          "model_module_version": "1.2.0",
          "state": {
            "_model_module": "@jupyter-widgets/base",
            "_model_module_version": "1.2.0",
            "_model_name": "LayoutModel",
            "_view_count": null,
            "_view_module": "@jupyter-widgets/base",
            "_view_module_version": "1.2.0",
            "_view_name": "LayoutView",
            "align_content": null,
            "align_items": null,
            "align_self": null,
            "border": null,
            "bottom": null,
            "display": null,
            "flex": null,
            "flex_flow": null,
            "grid_area": null,
            "grid_auto_columns": null,
            "grid_auto_flow": null,
            "grid_auto_rows": null,
            "grid_column": null,
            "grid_gap": null,
            "grid_row": null,
            "grid_template_areas": null,
            "grid_template_columns": null,
            "grid_template_rows": null,
            "height": null,
            "justify_content": null,
            "justify_items": null,
            "left": null,
            "margin": null,
            "max_height": null,
            "max_width": null,
            "min_height": null,
            "min_width": null,
            "object_fit": null,
            "object_position": null,
            "order": null,
            "overflow": null,
            "overflow_x": null,
            "overflow_y": null,
            "padding": null,
            "right": null,
            "top": null,
            "visibility": null,
            "width": null
          }
        },
        "f0db2cf143bb46989f684845cf3cfb20": {
          "model_module": "@jupyter-widgets/base",
          "model_name": "LayoutModel",
          "model_module_version": "1.2.0",
          "state": {
            "_model_module": "@jupyter-widgets/base",
            "_model_module_version": "1.2.0",
            "_model_name": "LayoutModel",
            "_view_count": null,
            "_view_module": "@jupyter-widgets/base",
            "_view_module_version": "1.2.0",
            "_view_name": "LayoutView",
            "align_content": null,
            "align_items": null,
            "align_self": null,
            "border": null,
            "bottom": null,
            "display": null,
            "flex": null,
            "flex_flow": null,
            "grid_area": null,
            "grid_auto_columns": null,
            "grid_auto_flow": null,
            "grid_auto_rows": null,
            "grid_column": null,
            "grid_gap": null,
            "grid_row": null,
            "grid_template_areas": null,
            "grid_template_columns": null,
            "grid_template_rows": null,
            "height": null,
            "justify_content": null,
            "justify_items": null,
            "left": null,
            "margin": null,
            "max_height": null,
            "max_width": null,
            "min_height": null,
            "min_width": null,
            "object_fit": null,
            "object_position": null,
            "order": null,
            "overflow": null,
            "overflow_x": null,
            "overflow_y": null,
            "padding": null,
            "right": null,
            "top": null,
            "visibility": null,
            "width": null
          }
        },
        "b7da7ffbb4e84dac811b868698283696": {
          "model_module": "@jupyter-widgets/controls",
          "model_name": "DescriptionStyleModel",
          "model_module_version": "1.5.0",
          "state": {
            "_model_module": "@jupyter-widgets/controls",
            "_model_module_version": "1.5.0",
            "_model_name": "DescriptionStyleModel",
            "_view_count": null,
            "_view_module": "@jupyter-widgets/base",
            "_view_module_version": "1.2.0",
            "_view_name": "StyleView",
            "description_width": ""
          }
        },
        "6f4bb5e6151e4f519f8b95e5aad80401": {
          "model_module": "@jupyter-widgets/base",
          "model_name": "LayoutModel",
          "model_module_version": "1.2.0",
          "state": {
            "_model_module": "@jupyter-widgets/base",
            "_model_module_version": "1.2.0",
            "_model_name": "LayoutModel",
            "_view_count": null,
            "_view_module": "@jupyter-widgets/base",
            "_view_module_version": "1.2.0",
            "_view_name": "LayoutView",
            "align_content": null,
            "align_items": null,
            "align_self": null,
            "border": null,
            "bottom": null,
            "display": null,
            "flex": null,
            "flex_flow": null,
            "grid_area": null,
            "grid_auto_columns": null,
            "grid_auto_flow": null,
            "grid_auto_rows": null,
            "grid_column": null,
            "grid_gap": null,
            "grid_row": null,
            "grid_template_areas": null,
            "grid_template_columns": null,
            "grid_template_rows": null,
            "height": null,
            "justify_content": null,
            "justify_items": null,
            "left": null,
            "margin": null,
            "max_height": null,
            "max_width": null,
            "min_height": null,
            "min_width": null,
            "object_fit": null,
            "object_position": null,
            "order": null,
            "overflow": null,
            "overflow_x": null,
            "overflow_y": null,
            "padding": null,
            "right": null,
            "top": null,
            "visibility": null,
            "width": null
          }
        },
        "32a0ce7a793e428fbc540a0d5e539ea8": {
          "model_module": "@jupyter-widgets/controls",
          "model_name": "ProgressStyleModel",
          "model_module_version": "1.5.0",
          "state": {
            "_model_module": "@jupyter-widgets/controls",
            "_model_module_version": "1.5.0",
            "_model_name": "ProgressStyleModel",
            "_view_count": null,
            "_view_module": "@jupyter-widgets/base",
            "_view_module_version": "1.2.0",
            "_view_name": "StyleView",
            "bar_color": null,
            "description_width": ""
          }
        },
        "70df896b4a824c5db51dde84ea7a77ee": {
          "model_module": "@jupyter-widgets/base",
          "model_name": "LayoutModel",
          "model_module_version": "1.2.0",
          "state": {
            "_model_module": "@jupyter-widgets/base",
            "_model_module_version": "1.2.0",
            "_model_name": "LayoutModel",
            "_view_count": null,
            "_view_module": "@jupyter-widgets/base",
            "_view_module_version": "1.2.0",
            "_view_name": "LayoutView",
            "align_content": null,
            "align_items": null,
            "align_self": null,
            "border": null,
            "bottom": null,
            "display": null,
            "flex": null,
            "flex_flow": null,
            "grid_area": null,
            "grid_auto_columns": null,
            "grid_auto_flow": null,
            "grid_auto_rows": null,
            "grid_column": null,
            "grid_gap": null,
            "grid_row": null,
            "grid_template_areas": null,
            "grid_template_columns": null,
            "grid_template_rows": null,
            "height": null,
            "justify_content": null,
            "justify_items": null,
            "left": null,
            "margin": null,
            "max_height": null,
            "max_width": null,
            "min_height": null,
            "min_width": null,
            "object_fit": null,
            "object_position": null,
            "order": null,
            "overflow": null,
            "overflow_x": null,
            "overflow_y": null,
            "padding": null,
            "right": null,
            "top": null,
            "visibility": null,
            "width": null
          }
        },
        "36a54bcc8c2c4f6e99105084c64720bb": {
          "model_module": "@jupyter-widgets/controls",
          "model_name": "DescriptionStyleModel",
          "model_module_version": "1.5.0",
          "state": {
            "_model_module": "@jupyter-widgets/controls",
            "_model_module_version": "1.5.0",
            "_model_name": "DescriptionStyleModel",
            "_view_count": null,
            "_view_module": "@jupyter-widgets/base",
            "_view_module_version": "1.2.0",
            "_view_name": "StyleView",
            "description_width": ""
          }
        },
        "6f76e87e66334b6988932b5f3c71774c": {
          "model_module": "@jupyter-widgets/controls",
          "model_name": "HBoxModel",
          "model_module_version": "1.5.0",
          "state": {
            "_dom_classes": [],
            "_model_module": "@jupyter-widgets/controls",
            "_model_module_version": "1.5.0",
            "_model_name": "HBoxModel",
            "_view_count": null,
            "_view_module": "@jupyter-widgets/controls",
            "_view_module_version": "1.5.0",
            "_view_name": "HBoxView",
            "box_style": "",
            "children": [
              "IPY_MODEL_98522b76e6d94e05b2af83c8d3ea9862",
              "IPY_MODEL_50eac1a0d7c7440e8a558f8129a89867",
              "IPY_MODEL_3e7deca000b742d98f133880b806fe30"
            ],
            "layout": "IPY_MODEL_a02b1421d8964789a5e190a3ac0ee330"
          }
        },
        "98522b76e6d94e05b2af83c8d3ea9862": {
          "model_module": "@jupyter-widgets/controls",
          "model_name": "HTMLModel",
          "model_module_version": "1.5.0",
          "state": {
            "_dom_classes": [],
            "_model_module": "@jupyter-widgets/controls",
            "_model_module_version": "1.5.0",
            "_model_name": "HTMLModel",
            "_view_count": null,
            "_view_module": "@jupyter-widgets/controls",
            "_view_module_version": "1.5.0",
            "_view_name": "HTMLView",
            "description": "",
            "description_tooltip": null,
            "layout": "IPY_MODEL_0e84cee7cf1241719c776d624278caab",
            "placeholder": "​",
            "style": "IPY_MODEL_66e1be064a054b05a873c7a30fbebcf5",
            "value": "100%"
          }
        },
        "50eac1a0d7c7440e8a558f8129a89867": {
          "model_module": "@jupyter-widgets/controls",
          "model_name": "FloatProgressModel",
          "model_module_version": "1.5.0",
          "state": {
            "_dom_classes": [],
            "_model_module": "@jupyter-widgets/controls",
            "_model_module_version": "1.5.0",
            "_model_name": "FloatProgressModel",
            "_view_count": null,
            "_view_module": "@jupyter-widgets/controls",
            "_view_module_version": "1.5.0",
            "_view_name": "ProgressView",
            "bar_style": "success",
            "description": "",
            "description_tooltip": null,
            "layout": "IPY_MODEL_f517c891d99d4c5595f1f62c2b5acbbf",
            "max": 300,
            "min": 0,
            "orientation": "horizontal",
            "style": "IPY_MODEL_785b0ec8b493407b91f5d9f6e4b93195",
            "value": 300
          }
        },
        "3e7deca000b742d98f133880b806fe30": {
          "model_module": "@jupyter-widgets/controls",
          "model_name": "HTMLModel",
          "model_module_version": "1.5.0",
          "state": {
            "_dom_classes": [],
            "_model_module": "@jupyter-widgets/controls",
            "_model_module_version": "1.5.0",
            "_model_name": "HTMLModel",
            "_view_count": null,
            "_view_module": "@jupyter-widgets/controls",
            "_view_module_version": "1.5.0",
            "_view_name": "HTMLView",
            "description": "",
            "description_tooltip": null,
            "layout": "IPY_MODEL_0f673b4ade754844ae7d80d6b77b86d4",
            "placeholder": "​",
            "style": "IPY_MODEL_ddb72c4580d540a2bec10c6d2e0c2bf8",
            "value": " 300/300 [02:55&lt;00:00,  1.71it/s]"
          }
        },
        "a02b1421d8964789a5e190a3ac0ee330": {
          "model_module": "@jupyter-widgets/base",
          "model_name": "LayoutModel",
          "model_module_version": "1.2.0",
          "state": {
            "_model_module": "@jupyter-widgets/base",
            "_model_module_version": "1.2.0",
            "_model_name": "LayoutModel",
            "_view_count": null,
            "_view_module": "@jupyter-widgets/base",
            "_view_module_version": "1.2.0",
            "_view_name": "LayoutView",
            "align_content": null,
            "align_items": null,
            "align_self": null,
            "border": null,
            "bottom": null,
            "display": null,
            "flex": null,
            "flex_flow": null,
            "grid_area": null,
            "grid_auto_columns": null,
            "grid_auto_flow": null,
            "grid_auto_rows": null,
            "grid_column": null,
            "grid_gap": null,
            "grid_row": null,
            "grid_template_areas": null,
            "grid_template_columns": null,
            "grid_template_rows": null,
            "height": null,
            "justify_content": null,
            "justify_items": null,
            "left": null,
            "margin": null,
            "max_height": null,
            "max_width": null,
            "min_height": null,
            "min_width": null,
            "object_fit": null,
            "object_position": null,
            "order": null,
            "overflow": null,
            "overflow_x": null,
            "overflow_y": null,
            "padding": null,
            "right": null,
            "top": null,
            "visibility": null,
            "width": null
          }
        },
        "0e84cee7cf1241719c776d624278caab": {
          "model_module": "@jupyter-widgets/base",
          "model_name": "LayoutModel",
          "model_module_version": "1.2.0",
          "state": {
            "_model_module": "@jupyter-widgets/base",
            "_model_module_version": "1.2.0",
            "_model_name": "LayoutModel",
            "_view_count": null,
            "_view_module": "@jupyter-widgets/base",
            "_view_module_version": "1.2.0",
            "_view_name": "LayoutView",
            "align_content": null,
            "align_items": null,
            "align_self": null,
            "border": null,
            "bottom": null,
            "display": null,
            "flex": null,
            "flex_flow": null,
            "grid_area": null,
            "grid_auto_columns": null,
            "grid_auto_flow": null,
            "grid_auto_rows": null,
            "grid_column": null,
            "grid_gap": null,
            "grid_row": null,
            "grid_template_areas": null,
            "grid_template_columns": null,
            "grid_template_rows": null,
            "height": null,
            "justify_content": null,
            "justify_items": null,
            "left": null,
            "margin": null,
            "max_height": null,
            "max_width": null,
            "min_height": null,
            "min_width": null,
            "object_fit": null,
            "object_position": null,
            "order": null,
            "overflow": null,
            "overflow_x": null,
            "overflow_y": null,
            "padding": null,
            "right": null,
            "top": null,
            "visibility": null,
            "width": null
          }
        },
        "66e1be064a054b05a873c7a30fbebcf5": {
          "model_module": "@jupyter-widgets/controls",
          "model_name": "DescriptionStyleModel",
          "model_module_version": "1.5.0",
          "state": {
            "_model_module": "@jupyter-widgets/controls",
            "_model_module_version": "1.5.0",
            "_model_name": "DescriptionStyleModel",
            "_view_count": null,
            "_view_module": "@jupyter-widgets/base",
            "_view_module_version": "1.2.0",
            "_view_name": "StyleView",
            "description_width": ""
          }
        },
        "f517c891d99d4c5595f1f62c2b5acbbf": {
          "model_module": "@jupyter-widgets/base",
          "model_name": "LayoutModel",
          "model_module_version": "1.2.0",
          "state": {
            "_model_module": "@jupyter-widgets/base",
            "_model_module_version": "1.2.0",
            "_model_name": "LayoutModel",
            "_view_count": null,
            "_view_module": "@jupyter-widgets/base",
            "_view_module_version": "1.2.0",
            "_view_name": "LayoutView",
            "align_content": null,
            "align_items": null,
            "align_self": null,
            "border": null,
            "bottom": null,
            "display": null,
            "flex": null,
            "flex_flow": null,
            "grid_area": null,
            "grid_auto_columns": null,
            "grid_auto_flow": null,
            "grid_auto_rows": null,
            "grid_column": null,
            "grid_gap": null,
            "grid_row": null,
            "grid_template_areas": null,
            "grid_template_columns": null,
            "grid_template_rows": null,
            "height": null,
            "justify_content": null,
            "justify_items": null,
            "left": null,
            "margin": null,
            "max_height": null,
            "max_width": null,
            "min_height": null,
            "min_width": null,
            "object_fit": null,
            "object_position": null,
            "order": null,
            "overflow": null,
            "overflow_x": null,
            "overflow_y": null,
            "padding": null,
            "right": null,
            "top": null,
            "visibility": null,
            "width": null
          }
        },
        "785b0ec8b493407b91f5d9f6e4b93195": {
          "model_module": "@jupyter-widgets/controls",
          "model_name": "ProgressStyleModel",
          "model_module_version": "1.5.0",
          "state": {
            "_model_module": "@jupyter-widgets/controls",
            "_model_module_version": "1.5.0",
            "_model_name": "ProgressStyleModel",
            "_view_count": null,
            "_view_module": "@jupyter-widgets/base",
            "_view_module_version": "1.2.0",
            "_view_name": "StyleView",
            "bar_color": null,
            "description_width": ""
          }
        },
        "0f673b4ade754844ae7d80d6b77b86d4": {
          "model_module": "@jupyter-widgets/base",
          "model_name": "LayoutModel",
          "model_module_version": "1.2.0",
          "state": {
            "_model_module": "@jupyter-widgets/base",
            "_model_module_version": "1.2.0",
            "_model_name": "LayoutModel",
            "_view_count": null,
            "_view_module": "@jupyter-widgets/base",
            "_view_module_version": "1.2.0",
            "_view_name": "LayoutView",
            "align_content": null,
            "align_items": null,
            "align_self": null,
            "border": null,
            "bottom": null,
            "display": null,
            "flex": null,
            "flex_flow": null,
            "grid_area": null,
            "grid_auto_columns": null,
            "grid_auto_flow": null,
            "grid_auto_rows": null,
            "grid_column": null,
            "grid_gap": null,
            "grid_row": null,
            "grid_template_areas": null,
            "grid_template_columns": null,
            "grid_template_rows": null,
            "height": null,
            "justify_content": null,
            "justify_items": null,
            "left": null,
            "margin": null,
            "max_height": null,
            "max_width": null,
            "min_height": null,
            "min_width": null,
            "object_fit": null,
            "object_position": null,
            "order": null,
            "overflow": null,
            "overflow_x": null,
            "overflow_y": null,
            "padding": null,
            "right": null,
            "top": null,
            "visibility": null,
            "width": null
          }
        },
        "ddb72c4580d540a2bec10c6d2e0c2bf8": {
          "model_module": "@jupyter-widgets/controls",
          "model_name": "DescriptionStyleModel",
          "model_module_version": "1.5.0",
          "state": {
            "_model_module": "@jupyter-widgets/controls",
            "_model_module_version": "1.5.0",
            "_model_name": "DescriptionStyleModel",
            "_view_count": null,
            "_view_module": "@jupyter-widgets/base",
            "_view_module_version": "1.2.0",
            "_view_name": "StyleView",
            "description_width": ""
          }
        }
      }
    }
  },
  "nbformat": 4,
  "nbformat_minor": 5
}