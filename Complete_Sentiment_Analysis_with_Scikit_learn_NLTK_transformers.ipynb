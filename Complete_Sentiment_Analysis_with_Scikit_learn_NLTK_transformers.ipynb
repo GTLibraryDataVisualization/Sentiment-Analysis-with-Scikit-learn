{
  "cells": [
    {
      "cell_type": "markdown",
      "metadata": {
        "id": "view-in-github",
        "colab_type": "text"
      },
      "source": [
        "<a href=\"https://colab.research.google.com/github/cynthialmy/Sentiment-Analysis-with-Scikit-learn/blob/main/Complete_Sentiment_Analysis_with_Scikit_learn_NLTK_transformers.ipynb\" target=\"_parent\"><img src=\"https://colab.research.google.com/assets/colab-badge.svg\" alt=\"Open In Colab\"/></a>"
      ]
    },
    {
      "cell_type": "markdown",
      "id": "9609ebdb-614f-414c-9ab6-33ee56e68e00",
      "metadata": {
        "id": "9609ebdb-614f-414c-9ab6-33ee56e68e00"
      },
      "source": [
        "# Introduction"
      ]
    },
    {
      "cell_type": "markdown",
      "id": "ea7c04b8-5ae0-4e6f-a84a-354985d4d975",
      "metadata": {
        "id": "ea7c04b8-5ae0-4e6f-a84a-354985d4d975"
      },
      "source": [
        "## Sentiment Analysis\n",
        "\n",
        "Sentiment analysis is a technique used in natural language processing (NLP) to identify and extract subjective information from text, such as opinions, attitudes, emotions, and feelings. Yelp is a platform where users can post reviews about businesses, products, and services. Therefore, analyzing Yelp data can provide valuable insights into customers' sentiments towards a particular business or product.\n"
      ]
    },
    {
      "cell_type": "markdown",
      "id": "951db55c-ed5e-4d82-b4be-135f6a01671d",
      "metadata": {
        "id": "951db55c-ed5e-4d82-b4be-135f6a01671d"
      },
      "source": [
        "## Objectives\n",
        "\n",
        "1. Introduction to sentiment analysis\n",
        "2. Collect and pre-process data from Yelp reviews of restaurants\n",
        "3. Feature extraction\n",
        "4. Train a machine learning model using scikit-learn to predict the review stars of restaurants\n",
        "5. Identify the strengths and weaknesses of the machine learning model and suggest areas for improvement\n",
        "6. Bonus: out-of-box techniques:\n",
        "  - VADER (Valence Aware Dictionary and sEntiment Reasoner) - Bag of words approach\n",
        "  - Roberta Pretrained Model from HuggingFace🤗\n",
        "  - HuggingFace Pipeline"
      ]
    },
    {
      "cell_type": "code",
      "execution_count": null,
      "id": "84260af5-b0fa-4e26-b9b2-3cd43ae7a27e",
      "metadata": {
        "id": "84260af5-b0fa-4e26-b9b2-3cd43ae7a27e",
        "colab": {
          "base_uri": "https://localhost:8080/"
        },
        "outputId": "db760c75-db12-4450-d873-5268197a2aba"
      },
      "outputs": [
        {
          "output_type": "stream",
          "name": "stderr",
          "text": [
            "[nltk_data] Downloading package stopwords to /root/nltk_data...\n",
            "[nltk_data]   Package stopwords is already up-to-date!\n",
            "[nltk_data] Downloading package punkt to /root/nltk_data...\n",
            "[nltk_data]   Package punkt is already up-to-date!\n",
            "[nltk_data] Downloading package averaged_perceptron_tagger to\n",
            "[nltk_data]     /root/nltk_data...\n",
            "[nltk_data]   Package averaged_perceptron_tagger is already up-to-\n",
            "[nltk_data]       date!\n",
            "[nltk_data] Downloading package maxent_ne_chunker to\n",
            "[nltk_data]     /root/nltk_data...\n",
            "[nltk_data]   Package maxent_ne_chunker is already up-to-date!\n",
            "[nltk_data] Downloading package words to /root/nltk_data...\n",
            "[nltk_data]   Package words is already up-to-date!\n"
          ]
        },
        {
          "output_type": "stream",
          "name": "stdout",
          "text": [
            "Looking in indexes: https://pypi.org/simple, https://us-python.pkg.dev/colab-wheels/public/simple/\n",
            "Requirement already satisfied: transformers in /usr/local/lib/python3.9/dist-packages (4.27.3)\n",
            "Requirement already satisfied: huggingface-hub<1.0,>=0.11.0 in /usr/local/lib/python3.9/dist-packages (from transformers) (0.13.3)\n",
            "Requirement already satisfied: tokenizers!=0.11.3,<0.14,>=0.11.1 in /usr/local/lib/python3.9/dist-packages (from transformers) (0.13.2)\n",
            "Requirement already satisfied: pyyaml>=5.1 in /usr/local/lib/python3.9/dist-packages (from transformers) (6.0)\n",
            "Requirement already satisfied: requests in /usr/local/lib/python3.9/dist-packages (from transformers) (2.27.1)\n",
            "Requirement already satisfied: tqdm>=4.27 in /usr/local/lib/python3.9/dist-packages (from transformers) (4.65.0)\n",
            "Requirement already satisfied: regex!=2019.12.17 in /usr/local/lib/python3.9/dist-packages (from transformers) (2022.10.31)\n",
            "Requirement already satisfied: packaging>=20.0 in /usr/local/lib/python3.9/dist-packages (from transformers) (23.0)\n",
            "Requirement already satisfied: filelock in /usr/local/lib/python3.9/dist-packages (from transformers) (3.10.0)\n",
            "Requirement already satisfied: numpy>=1.17 in /usr/local/lib/python3.9/dist-packages (from transformers) (1.22.4)\n",
            "Requirement already satisfied: typing-extensions>=3.7.4.3 in /usr/local/lib/python3.9/dist-packages (from huggingface-hub<1.0,>=0.11.0->transformers) (4.5.0)\n",
            "Requirement already satisfied: idna<4,>=2.5 in /usr/local/lib/python3.9/dist-packages (from requests->transformers) (3.4)\n",
            "Requirement already satisfied: charset-normalizer~=2.0.0 in /usr/local/lib/python3.9/dist-packages (from requests->transformers) (2.0.12)\n",
            "Requirement already satisfied: urllib3<1.27,>=1.21.1 in /usr/local/lib/python3.9/dist-packages (from requests->transformers) (1.26.15)\n",
            "Requirement already satisfied: certifi>=2017.4.17 in /usr/local/lib/python3.9/dist-packages (from requests->transformers) (2022.12.7)\n"
          ]
        },
        {
          "output_type": "stream",
          "name": "stderr",
          "text": [
            "Some weights of the model checkpoint at cardiffnlp/twitter-roberta-base-sentiment-latest were not used when initializing RobertaForSequenceClassification: ['roberta.pooler.dense.weight', 'roberta.pooler.dense.bias']\n",
            "- This IS expected if you are initializing RobertaForSequenceClassification from the checkpoint of a model trained on another task or with another architecture (e.g. initializing a BertForSequenceClassification model from a BertForPreTraining model).\n",
            "- This IS NOT expected if you are initializing RobertaForSequenceClassification from the checkpoint of a model that you expect to be exactly identical (initializing a BertForSequenceClassification model from a BertForSequenceClassification model).\n"
          ]
        }
      ],
      "source": [
        "# IMPORTING ALL THE NECESSARY LIBRARIES AND PACKAGES\n",
        "# Using the Natural Language Processing (NLP) library, nltk\n",
        "import pandas as pd\n",
        "import numpy as np\n",
        "import matplotlib.pyplot as plt\n",
        "import seaborn as sns\n",
        "import nltk\n",
        "from nltk.corpus import stopwords\n",
        "nltk.download('stopwords')\n",
        "import string\n",
        "import math\n",
        "from sklearn.feature_extraction.text import CountVectorizer\n",
        "from sklearn.model_selection import train_test_split, cross_val_score\n",
        "from sklearn.metrics import classification_report\n",
        "from sklearn.metrics import confusion_matrix, accuracy_score, roc_auc_score, roc_curve\n",
        "from sklearn.model_selection import GridSearchCV\n",
        "%matplotlib inline\n",
        "\n",
        "nltk.download('punkt')\n",
        "nltk.download('averaged_perceptron_tagger')\n",
        "nltk.download('maxent_ne_chunker')\n",
        "nltk.download('words')\n",
        "nltk.download('vader_lexicon')\n",
        "\n",
        "!pip install transformers\n",
        "from transformers import AutoTokenizer\n",
        "from transformers import AutoModelForSequenceClassification\n",
        "from scipy.special import softmax\n",
        "MODEL = f\"cardiffnlp/twitter-roberta-base-sentiment-latest\"\n",
        "tokenizer = AutoTokenizer.from_pretrained(MODEL)\n",
        "model = AutoModelForSequenceClassification.from_pretrained(MODEL)"
      ]
    },
    {
      "cell_type": "markdown",
      "id": "f1b151c6-253e-4544-9fcc-cd9e5f637de7",
      "metadata": {
        "id": "f1b151c6-253e-4544-9fcc-cd9e5f637de7"
      },
      "source": [
        "## Sample of dataset\n",
        "\n",
        "The data for this project will be collected from the Yelp API. The data will be pre-processed to remove any irrelevant information and to ensure that only the relevant information is used in the analysis.\n",
        "\n",
        "All data set can be accessed and downloaded from Yelp Open Data Set [https://www.yelp.com/dataset/download]."
      ]
    },
    {
      "cell_type": "code",
      "execution_count": null,
      "id": "5051a45d-1867-44be-bb1e-7e46750b43ad",
      "metadata": {
        "id": "5051a45d-1867-44be-bb1e-7e46750b43ad"
      },
      "outputs": [],
      "source": [
        "# LOADING THE DATASET AND SEEING THE DETAILS\n",
        "data = pd.read_csv('https://raw.githubusercontent.com/cynthialmy/DataVizLab/main/yelp_dataset/yelp.csv')"
      ]
    },
    {
      "cell_type": "code",
      "execution_count": null,
      "id": "38be147e-2425-439a-bd7b-fb5ff71f0c0d",
      "metadata": {
        "id": "38be147e-2425-439a-bd7b-fb5ff71f0c0d",
        "colab": {
          "base_uri": "https://localhost:8080/"
        },
        "outputId": "ce07bd99-46f0-45eb-b768-39b13041d95b"
      },
      "outputs": [
        {
          "output_type": "stream",
          "name": "stdout",
          "text": [
            "Shape of the dataset:\n",
            "(10000, 10)\n"
          ]
        }
      ],
      "source": [
        "# SHAPE OF THE DATASET\n",
        "print(\"Shape of the dataset:\")\n",
        "print(data.shape)"
      ]
    },
    {
      "cell_type": "code",
      "execution_count": null,
      "id": "be3e740c-e0c9-4a98-b706-b3b704f15e7a",
      "metadata": {
        "id": "be3e740c-e0c9-4a98-b706-b3b704f15e7a",
        "colab": {
          "base_uri": "https://localhost:8080/"
        },
        "outputId": "3a386cbc-8851-4cbe-f183-3eddc0d34a6e"
      },
      "outputs": [
        {
          "output_type": "stream",
          "name": "stdout",
          "text": [
            "Column names:\n",
            "Index(['business_id', 'date', 'review_id', 'stars', 'text', 'type', 'user_id',\n",
            "       'cool', 'useful', 'funny'],\n",
            "      dtype='object')\n"
          ]
        }
      ],
      "source": [
        "# COLUMN NAMES\n",
        "print(\"Column names:\")\n",
        "print(data.columns)"
      ]
    },
    {
      "cell_type": "code",
      "execution_count": null,
      "id": "8a258bd8-aea9-4969-827d-f8271ba56d9f",
      "metadata": {
        "id": "8a258bd8-aea9-4969-827d-f8271ba56d9f",
        "colab": {
          "base_uri": "https://localhost:8080/"
        },
        "outputId": "2c440683-fa70-48f7-eb42-210f8dcef9a6"
      },
      "outputs": [
        {
          "output_type": "stream",
          "name": "stdout",
          "text": [
            "Datatype of each column:\n",
            "business_id    object\n",
            "date           object\n",
            "review_id      object\n",
            "stars           int64\n",
            "text           object\n",
            "type           object\n",
            "user_id        object\n",
            "cool            int64\n",
            "useful          int64\n",
            "funny           int64\n",
            "dtype: object\n"
          ]
        }
      ],
      "source": [
        "# DATATYPE OF EACH COLUMN\n",
        "print(\"Datatype of each column:\")\n",
        "print(data.dtypes)"
      ]
    },
    {
      "cell_type": "code",
      "execution_count": null,
      "id": "f21d0064-2f57-4e7f-857c-82c636b27918",
      "metadata": {
        "id": "f21d0064-2f57-4e7f-857c-82c636b27918",
        "colab": {
          "base_uri": "https://localhost:8080/",
          "height": 372
        },
        "outputId": "739dabf5-576f-46e9-c28e-e3dbd95723a1"
      },
      "outputs": [
        {
          "output_type": "stream",
          "name": "stdout",
          "text": [
            "Few dataset entries:\n"
          ]
        },
        {
          "output_type": "execute_result",
          "data": {
            "text/plain": [
              "              business_id        date               review_id  stars  \\\n",
              "0  9yKzy9PApeiPPOUJEtnvkg  2011-01-26  fWKvX83p0-ka4JS3dc6E5A      5   \n",
              "1  ZRJwVLyzEJq1VAihDhYiow  2011-07-27  IjZ33sJrzXqU-0X6U8NwyA      5   \n",
              "2  6oRAC4uyJCsJl1X0WZpVSA  2012-06-14  IESLBzqUCLdSzSqm0eCSxQ      4   \n",
              "3  _1QQZuf4zZOyFCvXc0o6Vg  2010-05-27  G-WvGaISbqqaMHlNnByodA      5   \n",
              "4  6ozycU1RpktNG2-1BroVtw  2012-01-05  1uJFq2r5QfJG_6ExMRCaGw      5   \n",
              "\n",
              "                                                text    type  \\\n",
              "0  My wife took me here on my birthday for breakf...  review   \n",
              "1  I have no idea why some people give bad review...  review   \n",
              "2  love the gyro plate. Rice is so good and I als...  review   \n",
              "3  Rosie, Dakota, and I LOVE Chaparral Dog Park!!...  review   \n",
              "4  General Manager Scott Petello is a good egg!!!...  review   \n",
              "\n",
              "                  user_id  cool  useful  funny  \n",
              "0  rLtl8ZkDX5vH5nAx9C3q5Q     2       5      0  \n",
              "1  0a2KyEL0d3Yb1V6aivbIuQ     0       0      0  \n",
              "2  0hT2KtfLiobPvh6cDC8JQg     0       1      0  \n",
              "3  uZetl9T0NcROGOyFfughhg     1       2      0  \n",
              "4  vYmM4KTsC8ZfQBg-j5MWkw     0       0      0  "
            ],
            "text/html": [
              "\n",
              "  <div id=\"df-4e2b80f3-8e14-42ca-89b3-ae1342cbff4a\">\n",
              "    <div class=\"colab-df-container\">\n",
              "      <div>\n",
              "<style scoped>\n",
              "    .dataframe tbody tr th:only-of-type {\n",
              "        vertical-align: middle;\n",
              "    }\n",
              "\n",
              "    .dataframe tbody tr th {\n",
              "        vertical-align: top;\n",
              "    }\n",
              "\n",
              "    .dataframe thead th {\n",
              "        text-align: right;\n",
              "    }\n",
              "</style>\n",
              "<table border=\"1\" class=\"dataframe\">\n",
              "  <thead>\n",
              "    <tr style=\"text-align: right;\">\n",
              "      <th></th>\n",
              "      <th>business_id</th>\n",
              "      <th>date</th>\n",
              "      <th>review_id</th>\n",
              "      <th>stars</th>\n",
              "      <th>text</th>\n",
              "      <th>type</th>\n",
              "      <th>user_id</th>\n",
              "      <th>cool</th>\n",
              "      <th>useful</th>\n",
              "      <th>funny</th>\n",
              "    </tr>\n",
              "  </thead>\n",
              "  <tbody>\n",
              "    <tr>\n",
              "      <th>0</th>\n",
              "      <td>9yKzy9PApeiPPOUJEtnvkg</td>\n",
              "      <td>2011-01-26</td>\n",
              "      <td>fWKvX83p0-ka4JS3dc6E5A</td>\n",
              "      <td>5</td>\n",
              "      <td>My wife took me here on my birthday for breakf...</td>\n",
              "      <td>review</td>\n",
              "      <td>rLtl8ZkDX5vH5nAx9C3q5Q</td>\n",
              "      <td>2</td>\n",
              "      <td>5</td>\n",
              "      <td>0</td>\n",
              "    </tr>\n",
              "    <tr>\n",
              "      <th>1</th>\n",
              "      <td>ZRJwVLyzEJq1VAihDhYiow</td>\n",
              "      <td>2011-07-27</td>\n",
              "      <td>IjZ33sJrzXqU-0X6U8NwyA</td>\n",
              "      <td>5</td>\n",
              "      <td>I have no idea why some people give bad review...</td>\n",
              "      <td>review</td>\n",
              "      <td>0a2KyEL0d3Yb1V6aivbIuQ</td>\n",
              "      <td>0</td>\n",
              "      <td>0</td>\n",
              "      <td>0</td>\n",
              "    </tr>\n",
              "    <tr>\n",
              "      <th>2</th>\n",
              "      <td>6oRAC4uyJCsJl1X0WZpVSA</td>\n",
              "      <td>2012-06-14</td>\n",
              "      <td>IESLBzqUCLdSzSqm0eCSxQ</td>\n",
              "      <td>4</td>\n",
              "      <td>love the gyro plate. Rice is so good and I als...</td>\n",
              "      <td>review</td>\n",
              "      <td>0hT2KtfLiobPvh6cDC8JQg</td>\n",
              "      <td>0</td>\n",
              "      <td>1</td>\n",
              "      <td>0</td>\n",
              "    </tr>\n",
              "    <tr>\n",
              "      <th>3</th>\n",
              "      <td>_1QQZuf4zZOyFCvXc0o6Vg</td>\n",
              "      <td>2010-05-27</td>\n",
              "      <td>G-WvGaISbqqaMHlNnByodA</td>\n",
              "      <td>5</td>\n",
              "      <td>Rosie, Dakota, and I LOVE Chaparral Dog Park!!...</td>\n",
              "      <td>review</td>\n",
              "      <td>uZetl9T0NcROGOyFfughhg</td>\n",
              "      <td>1</td>\n",
              "      <td>2</td>\n",
              "      <td>0</td>\n",
              "    </tr>\n",
              "    <tr>\n",
              "      <th>4</th>\n",
              "      <td>6ozycU1RpktNG2-1BroVtw</td>\n",
              "      <td>2012-01-05</td>\n",
              "      <td>1uJFq2r5QfJG_6ExMRCaGw</td>\n",
              "      <td>5</td>\n",
              "      <td>General Manager Scott Petello is a good egg!!!...</td>\n",
              "      <td>review</td>\n",
              "      <td>vYmM4KTsC8ZfQBg-j5MWkw</td>\n",
              "      <td>0</td>\n",
              "      <td>0</td>\n",
              "      <td>0</td>\n",
              "    </tr>\n",
              "  </tbody>\n",
              "</table>\n",
              "</div>\n",
              "      <button class=\"colab-df-convert\" onclick=\"convertToInteractive('df-4e2b80f3-8e14-42ca-89b3-ae1342cbff4a')\"\n",
              "              title=\"Convert this dataframe to an interactive table.\"\n",
              "              style=\"display:none;\">\n",
              "        \n",
              "  <svg xmlns=\"http://www.w3.org/2000/svg\" height=\"24px\"viewBox=\"0 0 24 24\"\n",
              "       width=\"24px\">\n",
              "    <path d=\"M0 0h24v24H0V0z\" fill=\"none\"/>\n",
              "    <path d=\"M18.56 5.44l.94 2.06.94-2.06 2.06-.94-2.06-.94-.94-2.06-.94 2.06-2.06.94zm-11 1L8.5 8.5l.94-2.06 2.06-.94-2.06-.94L8.5 2.5l-.94 2.06-2.06.94zm10 10l.94 2.06.94-2.06 2.06-.94-2.06-.94-.94-2.06-.94 2.06-2.06.94z\"/><path d=\"M17.41 7.96l-1.37-1.37c-.4-.4-.92-.59-1.43-.59-.52 0-1.04.2-1.43.59L10.3 9.45l-7.72 7.72c-.78.78-.78 2.05 0 2.83L4 21.41c.39.39.9.59 1.41.59.51 0 1.02-.2 1.41-.59l7.78-7.78 2.81-2.81c.8-.78.8-2.07 0-2.86zM5.41 20L4 18.59l7.72-7.72 1.47 1.35L5.41 20z\"/>\n",
              "  </svg>\n",
              "      </button>\n",
              "      \n",
              "  <style>\n",
              "    .colab-df-container {\n",
              "      display:flex;\n",
              "      flex-wrap:wrap;\n",
              "      gap: 12px;\n",
              "    }\n",
              "\n",
              "    .colab-df-convert {\n",
              "      background-color: #E8F0FE;\n",
              "      border: none;\n",
              "      border-radius: 50%;\n",
              "      cursor: pointer;\n",
              "      display: none;\n",
              "      fill: #1967D2;\n",
              "      height: 32px;\n",
              "      padding: 0 0 0 0;\n",
              "      width: 32px;\n",
              "    }\n",
              "\n",
              "    .colab-df-convert:hover {\n",
              "      background-color: #E2EBFA;\n",
              "      box-shadow: 0px 1px 2px rgba(60, 64, 67, 0.3), 0px 1px 3px 1px rgba(60, 64, 67, 0.15);\n",
              "      fill: #174EA6;\n",
              "    }\n",
              "\n",
              "    [theme=dark] .colab-df-convert {\n",
              "      background-color: #3B4455;\n",
              "      fill: #D2E3FC;\n",
              "    }\n",
              "\n",
              "    [theme=dark] .colab-df-convert:hover {\n",
              "      background-color: #434B5C;\n",
              "      box-shadow: 0px 1px 3px 1px rgba(0, 0, 0, 0.15);\n",
              "      filter: drop-shadow(0px 1px 2px rgba(0, 0, 0, 0.3));\n",
              "      fill: #FFFFFF;\n",
              "    }\n",
              "  </style>\n",
              "\n",
              "      <script>\n",
              "        const buttonEl =\n",
              "          document.querySelector('#df-4e2b80f3-8e14-42ca-89b3-ae1342cbff4a button.colab-df-convert');\n",
              "        buttonEl.style.display =\n",
              "          google.colab.kernel.accessAllowed ? 'block' : 'none';\n",
              "\n",
              "        async function convertToInteractive(key) {\n",
              "          const element = document.querySelector('#df-4e2b80f3-8e14-42ca-89b3-ae1342cbff4a');\n",
              "          const dataTable =\n",
              "            await google.colab.kernel.invokeFunction('convertToInteractive',\n",
              "                                                     [key], {});\n",
              "          if (!dataTable) return;\n",
              "\n",
              "          const docLinkHtml = 'Like what you see? Visit the ' +\n",
              "            '<a target=\"_blank\" href=https://colab.research.google.com/notebooks/data_table.ipynb>data table notebook</a>'\n",
              "            + ' to learn more about interactive tables.';\n",
              "          element.innerHTML = '';\n",
              "          dataTable['output_type'] = 'display_data';\n",
              "          await google.colab.output.renderOutput(dataTable, element);\n",
              "          const docLink = document.createElement('div');\n",
              "          docLink.innerHTML = docLinkHtml;\n",
              "          element.appendChild(docLink);\n",
              "        }\n",
              "      </script>\n",
              "    </div>\n",
              "  </div>\n",
              "  "
            ]
          },
          "metadata": {},
          "execution_count": 59
        }
      ],
      "source": [
        "# Take a look at the first few entries\n",
        "print(\"Few dataset entries:\")\n",
        "data.head()"
      ]
    },
    {
      "cell_type": "code",
      "execution_count": null,
      "id": "9229f220-f897-4314-9bff-54667402739d",
      "metadata": {
        "id": "9229f220-f897-4314-9bff-54667402739d",
        "colab": {
          "base_uri": "https://localhost:8080/",
          "height": 474
        },
        "outputId": "ba89f058-88cc-4fc9-cafa-b134fbf01aef"
      },
      "outputs": [
        {
          "output_type": "stream",
          "name": "stdout",
          "text": [
            "Summary of the dataset:\n"
          ]
        },
        {
          "output_type": "execute_result",
          "data": {
            "text/plain": [
              "                   business_id        date               review_id  \\\n",
              "count                    10000       10000                   10000   \n",
              "unique                    4174        1995                   10000   \n",
              "top     JokKtdXU7zXHcr20Lrk29A  2011-03-28  fWKvX83p0-ka4JS3dc6E5A   \n",
              "freq                        37          21                       1   \n",
              "mean                       NaN         NaN                     NaN   \n",
              "std                        NaN         NaN                     NaN   \n",
              "min                        NaN         NaN                     NaN   \n",
              "25%                        NaN         NaN                     NaN   \n",
              "50%                        NaN         NaN                     NaN   \n",
              "75%                        NaN         NaN                     NaN   \n",
              "max                        NaN         NaN                     NaN   \n",
              "\n",
              "               stars           text    type                 user_id  \\\n",
              "count   10000.000000          10000   10000                   10000   \n",
              "unique           NaN           9998       1                    6403   \n",
              "top              NaN  Great service  review  fczQCSmaWF78toLEmb0Zsw   \n",
              "freq             NaN              2   10000                      38   \n",
              "mean        3.777500            NaN     NaN                     NaN   \n",
              "std         1.214636            NaN     NaN                     NaN   \n",
              "min         1.000000            NaN     NaN                     NaN   \n",
              "25%         3.000000            NaN     NaN                     NaN   \n",
              "50%         4.000000            NaN     NaN                     NaN   \n",
              "75%         5.000000            NaN     NaN                     NaN   \n",
              "max         5.000000            NaN     NaN                     NaN   \n",
              "\n",
              "                cool        useful         funny  \n",
              "count   10000.000000  10000.000000  10000.000000  \n",
              "unique           NaN           NaN           NaN  \n",
              "top              NaN           NaN           NaN  \n",
              "freq             NaN           NaN           NaN  \n",
              "mean        0.876800      1.409300      0.701300  \n",
              "std         2.067861      2.336647      1.907942  \n",
              "min         0.000000      0.000000      0.000000  \n",
              "25%         0.000000      0.000000      0.000000  \n",
              "50%         0.000000      1.000000      0.000000  \n",
              "75%         1.000000      2.000000      1.000000  \n",
              "max        77.000000     76.000000     57.000000  "
            ],
            "text/html": [
              "\n",
              "  <div id=\"df-32abb3cf-af3a-4a64-b736-334e97ad9b04\">\n",
              "    <div class=\"colab-df-container\">\n",
              "      <div>\n",
              "<style scoped>\n",
              "    .dataframe tbody tr th:only-of-type {\n",
              "        vertical-align: middle;\n",
              "    }\n",
              "\n",
              "    .dataframe tbody tr th {\n",
              "        vertical-align: top;\n",
              "    }\n",
              "\n",
              "    .dataframe thead th {\n",
              "        text-align: right;\n",
              "    }\n",
              "</style>\n",
              "<table border=\"1\" class=\"dataframe\">\n",
              "  <thead>\n",
              "    <tr style=\"text-align: right;\">\n",
              "      <th></th>\n",
              "      <th>business_id</th>\n",
              "      <th>date</th>\n",
              "      <th>review_id</th>\n",
              "      <th>stars</th>\n",
              "      <th>text</th>\n",
              "      <th>type</th>\n",
              "      <th>user_id</th>\n",
              "      <th>cool</th>\n",
              "      <th>useful</th>\n",
              "      <th>funny</th>\n",
              "    </tr>\n",
              "  </thead>\n",
              "  <tbody>\n",
              "    <tr>\n",
              "      <th>count</th>\n",
              "      <td>10000</td>\n",
              "      <td>10000</td>\n",
              "      <td>10000</td>\n",
              "      <td>10000.000000</td>\n",
              "      <td>10000</td>\n",
              "      <td>10000</td>\n",
              "      <td>10000</td>\n",
              "      <td>10000.000000</td>\n",
              "      <td>10000.000000</td>\n",
              "      <td>10000.000000</td>\n",
              "    </tr>\n",
              "    <tr>\n",
              "      <th>unique</th>\n",
              "      <td>4174</td>\n",
              "      <td>1995</td>\n",
              "      <td>10000</td>\n",
              "      <td>NaN</td>\n",
              "      <td>9998</td>\n",
              "      <td>1</td>\n",
              "      <td>6403</td>\n",
              "      <td>NaN</td>\n",
              "      <td>NaN</td>\n",
              "      <td>NaN</td>\n",
              "    </tr>\n",
              "    <tr>\n",
              "      <th>top</th>\n",
              "      <td>JokKtdXU7zXHcr20Lrk29A</td>\n",
              "      <td>2011-03-28</td>\n",
              "      <td>fWKvX83p0-ka4JS3dc6E5A</td>\n",
              "      <td>NaN</td>\n",
              "      <td>Great service</td>\n",
              "      <td>review</td>\n",
              "      <td>fczQCSmaWF78toLEmb0Zsw</td>\n",
              "      <td>NaN</td>\n",
              "      <td>NaN</td>\n",
              "      <td>NaN</td>\n",
              "    </tr>\n",
              "    <tr>\n",
              "      <th>freq</th>\n",
              "      <td>37</td>\n",
              "      <td>21</td>\n",
              "      <td>1</td>\n",
              "      <td>NaN</td>\n",
              "      <td>2</td>\n",
              "      <td>10000</td>\n",
              "      <td>38</td>\n",
              "      <td>NaN</td>\n",
              "      <td>NaN</td>\n",
              "      <td>NaN</td>\n",
              "    </tr>\n",
              "    <tr>\n",
              "      <th>mean</th>\n",
              "      <td>NaN</td>\n",
              "      <td>NaN</td>\n",
              "      <td>NaN</td>\n",
              "      <td>3.777500</td>\n",
              "      <td>NaN</td>\n",
              "      <td>NaN</td>\n",
              "      <td>NaN</td>\n",
              "      <td>0.876800</td>\n",
              "      <td>1.409300</td>\n",
              "      <td>0.701300</td>\n",
              "    </tr>\n",
              "    <tr>\n",
              "      <th>std</th>\n",
              "      <td>NaN</td>\n",
              "      <td>NaN</td>\n",
              "      <td>NaN</td>\n",
              "      <td>1.214636</td>\n",
              "      <td>NaN</td>\n",
              "      <td>NaN</td>\n",
              "      <td>NaN</td>\n",
              "      <td>2.067861</td>\n",
              "      <td>2.336647</td>\n",
              "      <td>1.907942</td>\n",
              "    </tr>\n",
              "    <tr>\n",
              "      <th>min</th>\n",
              "      <td>NaN</td>\n",
              "      <td>NaN</td>\n",
              "      <td>NaN</td>\n",
              "      <td>1.000000</td>\n",
              "      <td>NaN</td>\n",
              "      <td>NaN</td>\n",
              "      <td>NaN</td>\n",
              "      <td>0.000000</td>\n",
              "      <td>0.000000</td>\n",
              "      <td>0.000000</td>\n",
              "    </tr>\n",
              "    <tr>\n",
              "      <th>25%</th>\n",
              "      <td>NaN</td>\n",
              "      <td>NaN</td>\n",
              "      <td>NaN</td>\n",
              "      <td>3.000000</td>\n",
              "      <td>NaN</td>\n",
              "      <td>NaN</td>\n",
              "      <td>NaN</td>\n",
              "      <td>0.000000</td>\n",
              "      <td>0.000000</td>\n",
              "      <td>0.000000</td>\n",
              "    </tr>\n",
              "    <tr>\n",
              "      <th>50%</th>\n",
              "      <td>NaN</td>\n",
              "      <td>NaN</td>\n",
              "      <td>NaN</td>\n",
              "      <td>4.000000</td>\n",
              "      <td>NaN</td>\n",
              "      <td>NaN</td>\n",
              "      <td>NaN</td>\n",
              "      <td>0.000000</td>\n",
              "      <td>1.000000</td>\n",
              "      <td>0.000000</td>\n",
              "    </tr>\n",
              "    <tr>\n",
              "      <th>75%</th>\n",
              "      <td>NaN</td>\n",
              "      <td>NaN</td>\n",
              "      <td>NaN</td>\n",
              "      <td>5.000000</td>\n",
              "      <td>NaN</td>\n",
              "      <td>NaN</td>\n",
              "      <td>NaN</td>\n",
              "      <td>1.000000</td>\n",
              "      <td>2.000000</td>\n",
              "      <td>1.000000</td>\n",
              "    </tr>\n",
              "    <tr>\n",
              "      <th>max</th>\n",
              "      <td>NaN</td>\n",
              "      <td>NaN</td>\n",
              "      <td>NaN</td>\n",
              "      <td>5.000000</td>\n",
              "      <td>NaN</td>\n",
              "      <td>NaN</td>\n",
              "      <td>NaN</td>\n",
              "      <td>77.000000</td>\n",
              "      <td>76.000000</td>\n",
              "      <td>57.000000</td>\n",
              "    </tr>\n",
              "  </tbody>\n",
              "</table>\n",
              "</div>\n",
              "      <button class=\"colab-df-convert\" onclick=\"convertToInteractive('df-32abb3cf-af3a-4a64-b736-334e97ad9b04')\"\n",
              "              title=\"Convert this dataframe to an interactive table.\"\n",
              "              style=\"display:none;\">\n",
              "        \n",
              "  <svg xmlns=\"http://www.w3.org/2000/svg\" height=\"24px\"viewBox=\"0 0 24 24\"\n",
              "       width=\"24px\">\n",
              "    <path d=\"M0 0h24v24H0V0z\" fill=\"none\"/>\n",
              "    <path d=\"M18.56 5.44l.94 2.06.94-2.06 2.06-.94-2.06-.94-.94-2.06-.94 2.06-2.06.94zm-11 1L8.5 8.5l.94-2.06 2.06-.94-2.06-.94L8.5 2.5l-.94 2.06-2.06.94zm10 10l.94 2.06.94-2.06 2.06-.94-2.06-.94-.94-2.06-.94 2.06-2.06.94z\"/><path d=\"M17.41 7.96l-1.37-1.37c-.4-.4-.92-.59-1.43-.59-.52 0-1.04.2-1.43.59L10.3 9.45l-7.72 7.72c-.78.78-.78 2.05 0 2.83L4 21.41c.39.39.9.59 1.41.59.51 0 1.02-.2 1.41-.59l7.78-7.78 2.81-2.81c.8-.78.8-2.07 0-2.86zM5.41 20L4 18.59l7.72-7.72 1.47 1.35L5.41 20z\"/>\n",
              "  </svg>\n",
              "      </button>\n",
              "      \n",
              "  <style>\n",
              "    .colab-df-container {\n",
              "      display:flex;\n",
              "      flex-wrap:wrap;\n",
              "      gap: 12px;\n",
              "    }\n",
              "\n",
              "    .colab-df-convert {\n",
              "      background-color: #E8F0FE;\n",
              "      border: none;\n",
              "      border-radius: 50%;\n",
              "      cursor: pointer;\n",
              "      display: none;\n",
              "      fill: #1967D2;\n",
              "      height: 32px;\n",
              "      padding: 0 0 0 0;\n",
              "      width: 32px;\n",
              "    }\n",
              "\n",
              "    .colab-df-convert:hover {\n",
              "      background-color: #E2EBFA;\n",
              "      box-shadow: 0px 1px 2px rgba(60, 64, 67, 0.3), 0px 1px 3px 1px rgba(60, 64, 67, 0.15);\n",
              "      fill: #174EA6;\n",
              "    }\n",
              "\n",
              "    [theme=dark] .colab-df-convert {\n",
              "      background-color: #3B4455;\n",
              "      fill: #D2E3FC;\n",
              "    }\n",
              "\n",
              "    [theme=dark] .colab-df-convert:hover {\n",
              "      background-color: #434B5C;\n",
              "      box-shadow: 0px 1px 3px 1px rgba(0, 0, 0, 0.15);\n",
              "      filter: drop-shadow(0px 1px 2px rgba(0, 0, 0, 0.3));\n",
              "      fill: #FFFFFF;\n",
              "    }\n",
              "  </style>\n",
              "\n",
              "      <script>\n",
              "        const buttonEl =\n",
              "          document.querySelector('#df-32abb3cf-af3a-4a64-b736-334e97ad9b04 button.colab-df-convert');\n",
              "        buttonEl.style.display =\n",
              "          google.colab.kernel.accessAllowed ? 'block' : 'none';\n",
              "\n",
              "        async function convertToInteractive(key) {\n",
              "          const element = document.querySelector('#df-32abb3cf-af3a-4a64-b736-334e97ad9b04');\n",
              "          const dataTable =\n",
              "            await google.colab.kernel.invokeFunction('convertToInteractive',\n",
              "                                                     [key], {});\n",
              "          if (!dataTable) return;\n",
              "\n",
              "          const docLinkHtml = 'Like what you see? Visit the ' +\n",
              "            '<a target=\"_blank\" href=https://colab.research.google.com/notebooks/data_table.ipynb>data table notebook</a>'\n",
              "            + ' to learn more about interactive tables.';\n",
              "          element.innerHTML = '';\n",
              "          dataTable['output_type'] = 'display_data';\n",
              "          await google.colab.output.renderOutput(dataTable, element);\n",
              "          const docLink = document.createElement('div');\n",
              "          docLink.innerHTML = docLinkHtml;\n",
              "          element.appendChild(docLink);\n",
              "        }\n",
              "      </script>\n",
              "    </div>\n",
              "  </div>\n",
              "  "
            ]
          },
          "metadata": {},
          "execution_count": 60
        }
      ],
      "source": [
        "# Summary of the dataset\n",
        "print(\"Summary of the dataset:\")\n",
        "data.describe(include='all')"
      ]
    },
    {
      "cell_type": "markdown",
      "id": "287b2e66-ec3d-44fb-8a13-0057ce74f92f",
      "metadata": {
        "id": "287b2e66-ec3d-44fb-8a13-0057ce74f92f"
      },
      "source": [
        "# Preprocessing Yelp Data\n",
        "\n",
        "Yelp data comes in unstructured format, so the first step is to preprocess the data. This includes cleaning the text, removing stop words, and tokenizing the words."
      ]
    },
    {
      "cell_type": "markdown",
      "source": [
        "## Visualisation\n",
        "Let us now visualize the if there is any correlation between stars and the length of the review."
      ],
      "metadata": {
        "id": "shlLwbVw7Jce"
      },
      "id": "shlLwbVw7Jce"
    },
    {
      "cell_type": "code",
      "source": [
        "ax = data['stars'].value_counts().sort_index().plot(kind='bar',\n",
        "          title='Count of Reviews by Stars',\n",
        "          figsize=(10, 5))\n",
        "ax.set_xlabel('Review Stars')\n",
        "plt.show()"
      ],
      "metadata": {
        "colab": {
          "base_uri": "https://localhost:8080/",
          "height": 346
        },
        "id": "mSVdekSl28Ag",
        "outputId": "06cb4910-b6a1-4dfd-ef6d-71914b5bd843"
      },
      "id": "mSVdekSl28Ag",
      "execution_count": null,
      "outputs": [
        {
          "output_type": "display_data",
          "data": {
            "text/plain": [
              "<Figure size 720x360 with 1 Axes>"
            ],
            "image/png": "[encoded data removed]"
          },
          "metadata": {
            "needs_background": "light"
          }
        }
      ]
    },
    {
      "cell_type": "code",
      "execution_count": null,
      "id": "83c93ac6-ee52-48ba-a2a3-dfc7d3bbdd0a",
      "metadata": {
        "id": "83c93ac6-ee52-48ba-a2a3-dfc7d3bbdd0a",
        "colab": {
          "base_uri": "https://localhost:8080/",
          "height": 458
        },
        "outputId": "738a4575-171a-4a0a-9f0b-18e317a39b8c"
      },
      "outputs": [
        {
          "output_type": "execute_result",
          "data": {
            "text/plain": [
              "              business_id        date               review_id  stars  \\\n",
              "0  9yKzy9PApeiPPOUJEtnvkg  2011-01-26  fWKvX83p0-ka4JS3dc6E5A      5   \n",
              "1  ZRJwVLyzEJq1VAihDhYiow  2011-07-27  IjZ33sJrzXqU-0X6U8NwyA      5   \n",
              "2  6oRAC4uyJCsJl1X0WZpVSA  2012-06-14  IESLBzqUCLdSzSqm0eCSxQ      4   \n",
              "3  _1QQZuf4zZOyFCvXc0o6Vg  2010-05-27  G-WvGaISbqqaMHlNnByodA      5   \n",
              "4  6ozycU1RpktNG2-1BroVtw  2012-01-05  1uJFq2r5QfJG_6ExMRCaGw      5   \n",
              "\n",
              "                                                text    type  \\\n",
              "0  My wife took me here on my birthday for breakf...  review   \n",
              "1  I have no idea why some people give bad review...  review   \n",
              "2  love the gyro plate. Rice is so good and I als...  review   \n",
              "3  Rosie, Dakota, and I LOVE Chaparral Dog Park!!...  review   \n",
              "4  General Manager Scott Petello is a good egg!!!...  review   \n",
              "\n",
              "                  user_id  cool  useful  funny  length  \n",
              "0  rLtl8ZkDX5vH5nAx9C3q5Q     2       5      0     889  \n",
              "1  0a2KyEL0d3Yb1V6aivbIuQ     0       0      0    1345  \n",
              "2  0hT2KtfLiobPvh6cDC8JQg     0       1      0      76  \n",
              "3  uZetl9T0NcROGOyFfughhg     1       2      0     419  \n",
              "4  vYmM4KTsC8ZfQBg-j5MWkw     0       0      0     469  "
            ],
            "text/html": [
              "\n",
              "  <div id=\"df-ec06a392-4f88-4197-87ea-a71422bb3c11\">\n",
              "    <div class=\"colab-df-container\">\n",
              "      <div>\n",
              "<style scoped>\n",
              "    .dataframe tbody tr th:only-of-type {\n",
              "        vertical-align: middle;\n",
              "    }\n",
              "\n",
              "    .dataframe tbody tr th {\n",
              "        vertical-align: top;\n",
              "    }\n",
              "\n",
              "    .dataframe thead th {\n",
              "        text-align: right;\n",
              "    }\n",
              "</style>\n",
              "<table border=\"1\" class=\"dataframe\">\n",
              "  <thead>\n",
              "    <tr style=\"text-align: right;\">\n",
              "      <th></th>\n",
              "      <th>business_id</th>\n",
              "      <th>date</th>\n",
              "      <th>review_id</th>\n",
              "      <th>stars</th>\n",
              "      <th>text</th>\n",
              "      <th>type</th>\n",
              "      <th>user_id</th>\n",
              "      <th>cool</th>\n",
              "      <th>useful</th>\n",
              "      <th>funny</th>\n",
              "      <th>length</th>\n",
              "    </tr>\n",
              "  </thead>\n",
              "  <tbody>\n",
              "    <tr>\n",
              "      <th>0</th>\n",
              "      <td>9yKzy9PApeiPPOUJEtnvkg</td>\n",
              "      <td>2011-01-26</td>\n",
              "      <td>fWKvX83p0-ka4JS3dc6E5A</td>\n",
              "      <td>5</td>\n",
              "      <td>My wife took me here on my birthday for breakf...</td>\n",
              "      <td>review</td>\n",
              "      <td>rLtl8ZkDX5vH5nAx9C3q5Q</td>\n",
              "      <td>2</td>\n",
              "      <td>5</td>\n",
              "      <td>0</td>\n",
              "      <td>889</td>\n",
              "    </tr>\n",
              "    <tr>\n",
              "      <th>1</th>\n",
              "      <td>ZRJwVLyzEJq1VAihDhYiow</td>\n",
              "      <td>2011-07-27</td>\n",
              "      <td>IjZ33sJrzXqU-0X6U8NwyA</td>\n",
              "      <td>5</td>\n",
              "      <td>I have no idea why some people give bad review...</td>\n",
              "      <td>review</td>\n",
              "      <td>0a2KyEL0d3Yb1V6aivbIuQ</td>\n",
              "      <td>0</td>\n",
              "      <td>0</td>\n",
              "      <td>0</td>\n",
              "      <td>1345</td>\n",
              "    </tr>\n",
              "    <tr>\n",
              "      <th>2</th>\n",
              "      <td>6oRAC4uyJCsJl1X0WZpVSA</td>\n",
              "      <td>2012-06-14</td>\n",
              "      <td>IESLBzqUCLdSzSqm0eCSxQ</td>\n",
              "      <td>4</td>\n",
              "      <td>love the gyro plate. Rice is so good and I als...</td>\n",
              "      <td>review</td>\n",
              "      <td>0hT2KtfLiobPvh6cDC8JQg</td>\n",
              "      <td>0</td>\n",
              "      <td>1</td>\n",
              "      <td>0</td>\n",
              "      <td>76</td>\n",
              "    </tr>\n",
              "    <tr>\n",
              "      <th>3</th>\n",
              "      <td>_1QQZuf4zZOyFCvXc0o6Vg</td>\n",
              "      <td>2010-05-27</td>\n",
              "      <td>G-WvGaISbqqaMHlNnByodA</td>\n",
              "      <td>5</td>\n",
              "      <td>Rosie, Dakota, and I LOVE Chaparral Dog Park!!...</td>\n",
              "      <td>review</td>\n",
              "      <td>uZetl9T0NcROGOyFfughhg</td>\n",
              "      <td>1</td>\n",
              "      <td>2</td>\n",
              "      <td>0</td>\n",
              "      <td>419</td>\n",
              "    </tr>\n",
              "    <tr>\n",
              "      <th>4</th>\n",
              "      <td>6ozycU1RpktNG2-1BroVtw</td>\n",
              "      <td>2012-01-05</td>\n",
              "      <td>1uJFq2r5QfJG_6ExMRCaGw</td>\n",
              "      <td>5</td>\n",
              "      <td>General Manager Scott Petello is a good egg!!!...</td>\n",
              "      <td>review</td>\n",
              "      <td>vYmM4KTsC8ZfQBg-j5MWkw</td>\n",
              "      <td>0</td>\n",
              "      <td>0</td>\n",
              "      <td>0</td>\n",
              "      <td>469</td>\n",
              "    </tr>\n",
              "  </tbody>\n",
              "</table>\n",
              "</div>\n",
              "      <button class=\"colab-df-convert\" onclick=\"convertToInteractive('df-ec06a392-4f88-4197-87ea-a71422bb3c11')\"\n",
              "              title=\"Convert this dataframe to an interactive table.\"\n",
              "              style=\"display:none;\">\n",
              "        \n",
              "  <svg xmlns=\"http://www.w3.org/2000/svg\" height=\"24px\"viewBox=\"0 0 24 24\"\n",
              "       width=\"24px\">\n",
              "    <path d=\"M0 0h24v24H0V0z\" fill=\"none\"/>\n",
              "    <path d=\"M18.56 5.44l.94 2.06.94-2.06 2.06-.94-2.06-.94-.94-2.06-.94 2.06-2.06.94zm-11 1L8.5 8.5l.94-2.06 2.06-.94-2.06-.94L8.5 2.5l-.94 2.06-2.06.94zm10 10l.94 2.06.94-2.06 2.06-.94-2.06-.94-.94-2.06-.94 2.06-2.06.94z\"/><path d=\"M17.41 7.96l-1.37-1.37c-.4-.4-.92-.59-1.43-.59-.52 0-1.04.2-1.43.59L10.3 9.45l-7.72 7.72c-.78.78-.78 2.05 0 2.83L4 21.41c.39.39.9.59 1.41.59.51 0 1.02-.2 1.41-.59l7.78-7.78 2.81-2.81c.8-.78.8-2.07 0-2.86zM5.41 20L4 18.59l7.72-7.72 1.47 1.35L5.41 20z\"/>\n",
              "  </svg>\n",
              "      </button>\n",
              "      \n",
              "  <style>\n",
              "    .colab-df-container {\n",
              "      display:flex;\n",
              "      flex-wrap:wrap;\n",
              "      gap: 12px;\n",
              "    }\n",
              "\n",
              "    .colab-df-convert {\n",
              "      background-color: #E8F0FE;\n",
              "      border: none;\n",
              "      border-radius: 50%;\n",
              "      cursor: pointer;\n",
              "      display: none;\n",
              "      fill: #1967D2;\n",
              "      height: 32px;\n",
              "      padding: 0 0 0 0;\n",
              "      width: 32px;\n",
              "    }\n",
              "\n",
              "    .colab-df-convert:hover {\n",
              "      background-color: #E2EBFA;\n",
              "      box-shadow: 0px 1px 2px rgba(60, 64, 67, 0.3), 0px 1px 3px 1px rgba(60, 64, 67, 0.15);\n",
              "      fill: #174EA6;\n",
              "    }\n",
              "\n",
              "    [theme=dark] .colab-df-convert {\n",
              "      background-color: #3B4455;\n",
              "      fill: #D2E3FC;\n",
              "    }\n",
              "\n",
              "    [theme=dark] .colab-df-convert:hover {\n",
              "      background-color: #434B5C;\n",
              "      box-shadow: 0px 1px 3px 1px rgba(0, 0, 0, 0.15);\n",
              "      filter: drop-shadow(0px 1px 2px rgba(0, 0, 0, 0.3));\n",
              "      fill: #FFFFFF;\n",
              "    }\n",
              "  </style>\n",
              "\n",
              "      <script>\n",
              "        const buttonEl =\n",
              "          document.querySelector('#df-ec06a392-4f88-4197-87ea-a71422bb3c11 button.colab-df-convert');\n",
              "        buttonEl.style.display =\n",
              "          google.colab.kernel.accessAllowed ? 'block' : 'none';\n",
              "\n",
              "        async function convertToInteractive(key) {\n",
              "          const element = document.querySelector('#df-ec06a392-4f88-4197-87ea-a71422bb3c11');\n",
              "          const dataTable =\n",
              "            await google.colab.kernel.invokeFunction('convertToInteractive',\n",
              "                                                     [key], {});\n",
              "          if (!dataTable) return;\n",
              "\n",
              "          const docLinkHtml = 'Like what you see? Visit the ' +\n",
              "            '<a target=\"_blank\" href=https://colab.research.google.com/notebooks/data_table.ipynb>data table notebook</a>'\n",
              "            + ' to learn more about interactive tables.';\n",
              "          element.innerHTML = '';\n",
              "          dataTable['output_type'] = 'display_data';\n",
              "          await google.colab.output.renderOutput(dataTable, element);\n",
              "          const docLink = document.createElement('div');\n",
              "          docLink.innerHTML = docLinkHtml;\n",
              "          element.appendChild(docLink);\n",
              "        }\n",
              "      </script>\n",
              "    </div>\n",
              "  </div>\n",
              "  "
            ]
          },
          "metadata": {},
          "execution_count": 62
        }
      ],
      "source": [
        "# CREATING A NEW COLUMN IN THE DATASET FOR THE NUMBER OF WORDS IN THE REVIEW\n",
        "data['length'] = data['text'].apply(len)\n",
        "data.head()"
      ]
    },
    {
      "cell_type": "code",
      "execution_count": null,
      "id": "74079c28-e39b-47a6-b440-6995b3e3ec98",
      "metadata": {
        "id": "74079c28-e39b-47a6-b440-6995b3e3ec98",
        "colab": {
          "base_uri": "https://localhost:8080/",
          "height": 243
        },
        "outputId": "7ae8713b-59f7-44a3-f29b-d3a362f5624e"
      },
      "outputs": [
        {
          "output_type": "execute_result",
          "data": {
            "text/plain": [
              "<seaborn.axisgrid.FacetGrid at 0x7f317fd9ddc0>"
            ]
          },
          "metadata": {},
          "execution_count": 63
        },
        {
          "output_type": "display_data",
          "data": {
            "text/plain": [
              "<Figure size 1080x216 with 5 Axes>"
            ],
            "image/png": "[encoded data removed]"
          },
          "metadata": {
            "needs_background": "light"
          }
        }
      ],
      "source": [
        "# COMPARING TEXT LENGTH TO STARS\n",
        "graph = sns.FacetGrid(data=data,col='stars')\n",
        "graph.map(plt.hist,'length',bins=50)"
      ]
    },
    {
      "cell_type": "markdown",
      "source": [
        "## Mean Value of the Vote columns\n",
        "\n",
        "> There are 3 voting columns for the reviews - funny, cool and useful. Let us now find the mean values with respect to the stars given to the review."
      ],
      "metadata": {
        "id": "UulP6MQ87SxL"
      },
      "id": "UulP6MQ87SxL"
    },
    {
      "cell_type": "code",
      "execution_count": null,
      "id": "8d093d17-0414-404d-9d5e-b6d8685fffcb",
      "metadata": {
        "id": "8d093d17-0414-404d-9d5e-b6d8685fffcb",
        "colab": {
          "base_uri": "https://localhost:8080/",
          "height": 238
        },
        "outputId": "42859e2c-65d9-40be-c61c-f47dbaefe36d"
      },
      "outputs": [
        {
          "output_type": "execute_result",
          "data": {
            "text/plain": [
              "           cool    useful     funny      length\n",
              "stars                                          \n",
              "1      0.576769  1.604806  1.056075  826.515354\n",
              "2      0.719525  1.563107  0.875944  842.256742\n",
              "3      0.788501  1.306639  0.694730  758.498289\n",
              "4      0.954623  1.395916  0.670448  712.923142\n",
              "5      0.944261  1.381780  0.608631  624.999101"
            ],
            "text/html": [
              "\n",
              "  <div id=\"df-e89b6b74-a438-4752-b703-093ed3114768\">\n",
              "    <div class=\"colab-df-container\">\n",
              "      <div>\n",
              "<style scoped>\n",
              "    .dataframe tbody tr th:only-of-type {\n",
              "        vertical-align: middle;\n",
              "    }\n",
              "\n",
              "    .dataframe tbody tr th {\n",
              "        vertical-align: top;\n",
              "    }\n",
              "\n",
              "    .dataframe thead th {\n",
              "        text-align: right;\n",
              "    }\n",
              "</style>\n",
              "<table border=\"1\" class=\"dataframe\">\n",
              "  <thead>\n",
              "    <tr style=\"text-align: right;\">\n",
              "      <th></th>\n",
              "      <th>cool</th>\n",
              "      <th>useful</th>\n",
              "      <th>funny</th>\n",
              "      <th>length</th>\n",
              "    </tr>\n",
              "    <tr>\n",
              "      <th>stars</th>\n",
              "      <th></th>\n",
              "      <th></th>\n",
              "      <th></th>\n",
              "      <th></th>\n",
              "    </tr>\n",
              "  </thead>\n",
              "  <tbody>\n",
              "    <tr>\n",
              "      <th>1</th>\n",
              "      <td>0.576769</td>\n",
              "      <td>1.604806</td>\n",
              "      <td>1.056075</td>\n",
              "      <td>826.515354</td>\n",
              "    </tr>\n",
              "    <tr>\n",
              "      <th>2</th>\n",
              "      <td>0.719525</td>\n",
              "      <td>1.563107</td>\n",
              "      <td>0.875944</td>\n",
              "      <td>842.256742</td>\n",
              "    </tr>\n",
              "    <tr>\n",
              "      <th>3</th>\n",
              "      <td>0.788501</td>\n",
              "      <td>1.306639</td>\n",
              "      <td>0.694730</td>\n",
              "      <td>758.498289</td>\n",
              "    </tr>\n",
              "    <tr>\n",
              "      <th>4</th>\n",
              "      <td>0.954623</td>\n",
              "      <td>1.395916</td>\n",
              "      <td>0.670448</td>\n",
              "      <td>712.923142</td>\n",
              "    </tr>\n",
              "    <tr>\n",
              "      <th>5</th>\n",
              "      <td>0.944261</td>\n",
              "      <td>1.381780</td>\n",
              "      <td>0.608631</td>\n",
              "      <td>624.999101</td>\n",
              "    </tr>\n",
              "  </tbody>\n",
              "</table>\n",
              "</div>\n",
              "      <button class=\"colab-df-convert\" onclick=\"convertToInteractive('df-e89b6b74-a438-4752-b703-093ed3114768')\"\n",
              "              title=\"Convert this dataframe to an interactive table.\"\n",
              "              style=\"display:none;\">\n",
              "        \n",
              "  <svg xmlns=\"http://www.w3.org/2000/svg\" height=\"24px\"viewBox=\"0 0 24 24\"\n",
              "       width=\"24px\">\n",
              "    <path d=\"M0 0h24v24H0V0z\" fill=\"none\"/>\n",
              "    <path d=\"M18.56 5.44l.94 2.06.94-2.06 2.06-.94-2.06-.94-.94-2.06-.94 2.06-2.06.94zm-11 1L8.5 8.5l.94-2.06 2.06-.94-2.06-.94L8.5 2.5l-.94 2.06-2.06.94zm10 10l.94 2.06.94-2.06 2.06-.94-2.06-.94-.94-2.06-.94 2.06-2.06.94z\"/><path d=\"M17.41 7.96l-1.37-1.37c-.4-.4-.92-.59-1.43-.59-.52 0-1.04.2-1.43.59L10.3 9.45l-7.72 7.72c-.78.78-.78 2.05 0 2.83L4 21.41c.39.39.9.59 1.41.59.51 0 1.02-.2 1.41-.59l7.78-7.78 2.81-2.81c.8-.78.8-2.07 0-2.86zM5.41 20L4 18.59l7.72-7.72 1.47 1.35L5.41 20z\"/>\n",
              "  </svg>\n",
              "      </button>\n",
              "      \n",
              "  <style>\n",
              "    .colab-df-container {\n",
              "      display:flex;\n",
              "      flex-wrap:wrap;\n",
              "      gap: 12px;\n",
              "    }\n",
              "\n",
              "    .colab-df-convert {\n",
              "      background-color: #E8F0FE;\n",
              "      border: none;\n",
              "      border-radius: 50%;\n",
              "      cursor: pointer;\n",
              "      display: none;\n",
              "      fill: #1967D2;\n",
              "      height: 32px;\n",
              "      padding: 0 0 0 0;\n",
              "      width: 32px;\n",
              "    }\n",
              "\n",
              "    .colab-df-convert:hover {\n",
              "      background-color: #E2EBFA;\n",
              "      box-shadow: 0px 1px 2px rgba(60, 64, 67, 0.3), 0px 1px 3px 1px rgba(60, 64, 67, 0.15);\n",
              "      fill: #174EA6;\n",
              "    }\n",
              "\n",
              "    [theme=dark] .colab-df-convert {\n",
              "      background-color: #3B4455;\n",
              "      fill: #D2E3FC;\n",
              "    }\n",
              "\n",
              "    [theme=dark] .colab-df-convert:hover {\n",
              "      background-color: #434B5C;\n",
              "      box-shadow: 0px 1px 3px 1px rgba(0, 0, 0, 0.15);\n",
              "      filter: drop-shadow(0px 1px 2px rgba(0, 0, 0, 0.3));\n",
              "      fill: #FFFFFF;\n",
              "    }\n",
              "  </style>\n",
              "\n",
              "      <script>\n",
              "        const buttonEl =\n",
              "          document.querySelector('#df-e89b6b74-a438-4752-b703-093ed3114768 button.colab-df-convert');\n",
              "        buttonEl.style.display =\n",
              "          google.colab.kernel.accessAllowed ? 'block' : 'none';\n",
              "\n",
              "        async function convertToInteractive(key) {\n",
              "          const element = document.querySelector('#df-e89b6b74-a438-4752-b703-093ed3114768');\n",
              "          const dataTable =\n",
              "            await google.colab.kernel.invokeFunction('convertToInteractive',\n",
              "                                                     [key], {});\n",
              "          if (!dataTable) return;\n",
              "\n",
              "          const docLinkHtml = 'Like what you see? Visit the ' +\n",
              "            '<a target=\"_blank\" href=https://colab.research.google.com/notebooks/data_table.ipynb>data table notebook</a>'\n",
              "            + ' to learn more about interactive tables.';\n",
              "          element.innerHTML = '';\n",
              "          dataTable['output_type'] = 'display_data';\n",
              "          await google.colab.output.renderOutput(dataTable, element);\n",
              "          const docLink = document.createElement('div');\n",
              "          docLink.innerHTML = docLinkHtml;\n",
              "          element.appendChild(docLink);\n",
              "        }\n",
              "      </script>\n",
              "    </div>\n",
              "  </div>\n",
              "  "
            ]
          },
          "metadata": {},
          "execution_count": 64
        }
      ],
      "source": [
        "# GETTING THE MEAN VALUES OF THE VOTE COLUMNS WRT THE STARS ON THE REVIEW\n",
        "stval = data.groupby('stars').mean()\n",
        "stval"
      ]
    },
    {
      "cell_type": "markdown",
      "source": [
        "## Correlation between the voting columns\n",
        "Let us now see what the correlation is between the three voting columns."
      ],
      "metadata": {
        "id": "M8waYvw-7mdr"
      },
      "id": "M8waYvw-7mdr"
    },
    {
      "cell_type": "code",
      "execution_count": null,
      "id": "23889d62-16b0-4f1d-bf34-a88937fc3354",
      "metadata": {
        "id": "23889d62-16b0-4f1d-bf34-a88937fc3354",
        "colab": {
          "base_uri": "https://localhost:8080/",
          "height": 175
        },
        "outputId": "9c567f38-8149-456c-d1f3-e24d32d75dbf"
      },
      "outputs": [
        {
          "output_type": "execute_result",
          "data": {
            "text/plain": [
              "            cool    useful     funny    length\n",
              "cool    1.000000 -0.743329 -0.944939 -0.857664\n",
              "useful -0.743329  1.000000  0.894506  0.699881\n",
              "funny  -0.944939  0.894506  1.000000  0.843461\n",
              "length -0.857664  0.699881  0.843461  1.000000"
            ],
            "text/html": [
              "\n",
              "  <div id=\"df-e32f3ddf-85bb-45c6-b7da-d8e62fb83b99\">\n",
              "    <div class=\"colab-df-container\">\n",
              "      <div>\n",
              "<style scoped>\n",
              "    .dataframe tbody tr th:only-of-type {\n",
              "        vertical-align: middle;\n",
              "    }\n",
              "\n",
              "    .dataframe tbody tr th {\n",
              "        vertical-align: top;\n",
              "    }\n",
              "\n",
              "    .dataframe thead th {\n",
              "        text-align: right;\n",
              "    }\n",
              "</style>\n",
              "<table border=\"1\" class=\"dataframe\">\n",
              "  <thead>\n",
              "    <tr style=\"text-align: right;\">\n",
              "      <th></th>\n",
              "      <th>cool</th>\n",
              "      <th>useful</th>\n",
              "      <th>funny</th>\n",
              "      <th>length</th>\n",
              "    </tr>\n",
              "  </thead>\n",
              "  <tbody>\n",
              "    <tr>\n",
              "      <th>cool</th>\n",
              "      <td>1.000000</td>\n",
              "      <td>-0.743329</td>\n",
              "      <td>-0.944939</td>\n",
              "      <td>-0.857664</td>\n",
              "    </tr>\n",
              "    <tr>\n",
              "      <th>useful</th>\n",
              "      <td>-0.743329</td>\n",
              "      <td>1.000000</td>\n",
              "      <td>0.894506</td>\n",
              "      <td>0.699881</td>\n",
              "    </tr>\n",
              "    <tr>\n",
              "      <th>funny</th>\n",
              "      <td>-0.944939</td>\n",
              "      <td>0.894506</td>\n",
              "      <td>1.000000</td>\n",
              "      <td>0.843461</td>\n",
              "    </tr>\n",
              "    <tr>\n",
              "      <th>length</th>\n",
              "      <td>-0.857664</td>\n",
              "      <td>0.699881</td>\n",
              "      <td>0.843461</td>\n",
              "      <td>1.000000</td>\n",
              "    </tr>\n",
              "  </tbody>\n",
              "</table>\n",
              "</div>\n",
              "      <button class=\"colab-df-convert\" onclick=\"convertToInteractive('df-e32f3ddf-85bb-45c6-b7da-d8e62fb83b99')\"\n",
              "              title=\"Convert this dataframe to an interactive table.\"\n",
              "              style=\"display:none;\">\n",
              "        \n",
              "  <svg xmlns=\"http://www.w3.org/2000/svg\" height=\"24px\"viewBox=\"0 0 24 24\"\n",
              "       width=\"24px\">\n",
              "    <path d=\"M0 0h24v24H0V0z\" fill=\"none\"/>\n",
              "    <path d=\"M18.56 5.44l.94 2.06.94-2.06 2.06-.94-2.06-.94-.94-2.06-.94 2.06-2.06.94zm-11 1L8.5 8.5l.94-2.06 2.06-.94-2.06-.94L8.5 2.5l-.94 2.06-2.06.94zm10 10l.94 2.06.94-2.06 2.06-.94-2.06-.94-.94-2.06-.94 2.06-2.06.94z\"/><path d=\"M17.41 7.96l-1.37-1.37c-.4-.4-.92-.59-1.43-.59-.52 0-1.04.2-1.43.59L10.3 9.45l-7.72 7.72c-.78.78-.78 2.05 0 2.83L4 21.41c.39.39.9.59 1.41.59.51 0 1.02-.2 1.41-.59l7.78-7.78 2.81-2.81c.8-.78.8-2.07 0-2.86zM5.41 20L4 18.59l7.72-7.72 1.47 1.35L5.41 20z\"/>\n",
              "  </svg>\n",
              "      </button>\n",
              "      \n",
              "  <style>\n",
              "    .colab-df-container {\n",
              "      display:flex;\n",
              "      flex-wrap:wrap;\n",
              "      gap: 12px;\n",
              "    }\n",
              "\n",
              "    .colab-df-convert {\n",
              "      background-color: #E8F0FE;\n",
              "      border: none;\n",
              "      border-radius: 50%;\n",
              "      cursor: pointer;\n",
              "      display: none;\n",
              "      fill: #1967D2;\n",
              "      height: 32px;\n",
              "      padding: 0 0 0 0;\n",
              "      width: 32px;\n",
              "    }\n",
              "\n",
              "    .colab-df-convert:hover {\n",
              "      background-color: #E2EBFA;\n",
              "      box-shadow: 0px 1px 2px rgba(60, 64, 67, 0.3), 0px 1px 3px 1px rgba(60, 64, 67, 0.15);\n",
              "      fill: #174EA6;\n",
              "    }\n",
              "\n",
              "    [theme=dark] .colab-df-convert {\n",
              "      background-color: #3B4455;\n",
              "      fill: #D2E3FC;\n",
              "    }\n",
              "\n",
              "    [theme=dark] .colab-df-convert:hover {\n",
              "      background-color: #434B5C;\n",
              "      box-shadow: 0px 1px 3px 1px rgba(0, 0, 0, 0.15);\n",
              "      filter: drop-shadow(0px 1px 2px rgba(0, 0, 0, 0.3));\n",
              "      fill: #FFFFFF;\n",
              "    }\n",
              "  </style>\n",
              "\n",
              "      <script>\n",
              "        const buttonEl =\n",
              "          document.querySelector('#df-e32f3ddf-85bb-45c6-b7da-d8e62fb83b99 button.colab-df-convert');\n",
              "        buttonEl.style.display =\n",
              "          google.colab.kernel.accessAllowed ? 'block' : 'none';\n",
              "\n",
              "        async function convertToInteractive(key) {\n",
              "          const element = document.querySelector('#df-e32f3ddf-85bb-45c6-b7da-d8e62fb83b99');\n",
              "          const dataTable =\n",
              "            await google.colab.kernel.invokeFunction('convertToInteractive',\n",
              "                                                     [key], {});\n",
              "          if (!dataTable) return;\n",
              "\n",
              "          const docLinkHtml = 'Like what you see? Visit the ' +\n",
              "            '<a target=\"_blank\" href=https://colab.research.google.com/notebooks/data_table.ipynb>data table notebook</a>'\n",
              "            + ' to learn more about interactive tables.';\n",
              "          element.innerHTML = '';\n",
              "          dataTable['output_type'] = 'display_data';\n",
              "          await google.colab.output.renderOutput(dataTable, element);\n",
              "          const docLink = document.createElement('div');\n",
              "          docLink.innerHTML = docLinkHtml;\n",
              "          element.appendChild(docLink);\n",
              "        }\n",
              "      </script>\n",
              "    </div>\n",
              "  </div>\n",
              "  "
            ]
          },
          "metadata": {},
          "execution_count": 65
        }
      ],
      "source": [
        "# FINDING THE CORRELATION BETWEEN THE VOTE COLUMNS\n",
        "stval.corr()"
      ]
    },
    {
      "cell_type": "markdown",
      "id": "5033b632-d6cb-4fac-a047-c777fa40b287",
      "metadata": {
        "id": "5033b632-d6cb-4fac-a047-c777fa40b287"
      },
      "source": [
        "We can see that there is negative correlation between:\n",
        "\n",
        "* Cool and Useful\n",
        "* Cool and Funny\n",
        "* Cool and Length  \n",
        "\n",
        "We can say that the reviews marked cool tend to be short, not very useful to others and short."
      ]
    },
    {
      "cell_type": "markdown",
      "id": "62b58cb1-b4ed-4b6d-b511-78977a27fbb6",
      "metadata": {
        "id": "62b58cb1-b4ed-4b6d-b511-78977a27fbb6"
      },
      "source": [
        "Also, there is a positive correlation between:\n",
        "\n",
        "* Funny and Useful    \n",
        "* Funny and Length\n",
        "* Useful and Length    \n",
        "\n",
        "Thus, we can say that longer reviews tend to be funny and useful."
      ]
    },
    {
      "cell_type": "markdown",
      "source": [
        "Classifying the dataset and splitting it into the reviews and stars:"
      ],
      "metadata": {
        "id": "TtVqrCP97t1K"
      },
      "id": "TtVqrCP97t1K"
    },
    {
      "cell_type": "code",
      "execution_count": null,
      "id": "8faa2152-8ce2-4c11-ad41-aa918ea71a89",
      "metadata": {
        "id": "8faa2152-8ce2-4c11-ad41-aa918ea71a89",
        "colab": {
          "base_uri": "https://localhost:8080/"
        },
        "outputId": "9ff1d824-d2ec-45c6-e674-6efa778dbd25"
      },
      "outputs": [
        {
          "output_type": "stream",
          "name": "stdout",
          "text": [
            "(5547, 11)\n",
            "0    My wife took me here on my birthday for breakf...\n",
            "1    I have no idea why some people give bad review...\n",
            "3    Rosie, Dakota, and I LOVE Chaparral Dog Park!!...\n",
            "4    General Manager Scott Petello is a good egg!!!...\n",
            "6    Drop what you're doing and drive here. After I...\n",
            "Name: text, dtype: object\n",
            "0    5\n",
            "1    5\n",
            "3    5\n",
            "4    5\n",
            "6    5\n",
            "Name: stars, dtype: int64\n"
          ]
        }
      ],
      "source": [
        "# Classification in terms of negative (1 star), neutral (3 star), positive (5 star)\n",
        "data_classes = data[(data['stars']==1) | (data['stars']==3) | (data['stars']==5)]\n",
        "data_classes.head()\n",
        "print(data_classes.shape)\n",
        "\n",
        "# Seperate the dataset into X and Y for prediction\n",
        "x = data_classes['text']\n",
        "y = data_classes['stars']\n",
        "print(x.head())\n",
        "print(y.head())\n"
      ]
    },
    {
      "cell_type": "markdown",
      "source": [
        "# Basic NLTK"
      ],
      "metadata": {
        "id": "m-ZfQLxm4coM"
      },
      "id": "m-ZfQLxm4coM"
    },
    {
      "cell_type": "markdown",
      "source": [
        "## Vectorization\n",
        "Machines cannot understand characters and words. So when dealing with text data we need to represent it in numbers to be understood by the machine. \n",
        "Countvectorizer is a method to convert text to numerical data. \n",
        "We will now vectorize a single review and see the results:"
      ],
      "metadata": {
        "id": "FRUEtR3o8hbm"
      },
      "id": "FRUEtR3o8hbm"
    },
    {
      "cell_type": "code",
      "source": [
        "# print out an example of the review\n",
        "example = data['text'][50]\n",
        "print(example)"
      ],
      "metadata": {
        "colab": {
          "base_uri": "https://localhost:8080/"
        },
        "id": "SjHhX3DAOjDQ",
        "outputId": "53594816-57de-42d1-a2dd-820e2614962e"
      },
      "id": "SjHhX3DAOjDQ",
      "execution_count": null,
      "outputs": [
        {
          "output_type": "stream",
          "name": "stdout",
          "text": [
            "Cliff notes\n",
            "- Cheap: $1-2/plate\n",
            "- Fast: It's ready-to-go and on a conveyor\n",
            "- Acceptable quality: I'm here weekly and haven't gotten sick lol\n",
            "\n",
            "This place is definitely good for what it is, \"it\" being a budget-friendly sushi place that's great for a quick bite.  In a response to the lower-rating reviews stating how the food is just okay at best or authentic or blah blah blah, well think of it like wal-mart vs. *inserthighendretailerhere*.  This place has a business model based on selling in large volumes (hence the low prices like wal-mart) so they're gonna have to \"reduce costs\" somehow (so-so quality food, not-so-attentive staff, and slightly smaller than average portions), but it's still a solid bang-for-your-buck kinda place.\n",
            "\n",
            "On top of this, I can be in and out quickly since everything is already prepared, perfect for those quick 30 min lunch breaks.  All that's required is for you to grab it off the conveyor (depending on whether or not all the items you want are on the conveyor at the time). \n",
            "\n",
            "I've never had issues with seating, but do not make a point to go during peak hours and usually go with a small party (2-4 people).\n",
            "\n",
            "For those claiming to be \"left to fend for themselves\" due to an inattentive staff, most of your sushi-related inquiries can be answered by this thing called \"the menu\" that sits on the counters.  See, this miraculous piece of technology contains things referred to as \"descriptions\" on them that help to inform you about the sushi going round-and-round before you.  Furthermore, there's even a pricing guide based on the color code of the plates to assist you further! WOW! Lol wtf do people expect for $1-2 plates of sushi?  Someone to hold your hand? LOLOLOLOLOLOLOL DIAF\n",
            "\n",
            "And the cherry on top? $4 large japanese beers and $5 sake bombs! HELL YEAH!\n"
          ]
        }
      ]
    },
    {
      "cell_type": "code",
      "source": [
        "# nltk.download('punkt')\n",
        "# nltk.download('averaged_perceptron_tagger')\n",
        "# nltk.download('maxent_ne_chunker')\n",
        "# nltk.download('words')"
      ],
      "metadata": {
        "id": "HV-e5wvv8udo"
      },
      "id": "HV-e5wvv8udo",
      "execution_count": null,
      "outputs": []
    },
    {
      "cell_type": "code",
      "source": [
        "# Tokenization is the process of breaking up a text into smaller units called tokens, \n",
        "# which could be words, punctuation marks, or any other meaningful unit.\n",
        "tokens = nltk.word_tokenize(example)\n",
        "tokens[:10]"
      ],
      "metadata": {
        "id": "ZmH61f6OOj11",
        "colab": {
          "base_uri": "https://localhost:8080/"
        },
        "outputId": "d069fff6-a812-47d4-db13-92d8126fb093"
      },
      "id": "ZmH61f6OOj11",
      "execution_count": null,
      "outputs": [
        {
          "output_type": "execute_result",
          "data": {
            "text/plain": [
              "['Cliff', 'notes', '-', 'Cheap', ':', '$', '1-2/plate', '-', 'Fast', ':']"
            ]
          },
          "metadata": {},
          "execution_count": 69
        }
      ]
    },
    {
      "cell_type": "code",
      "source": [
        "# Part Of Speech tagging\n",
        "# The function returns a new list of tuples\n",
        "tagged = nltk.pos_tag(tokens)\n",
        "tagged[:10]"
      ],
      "metadata": {
        "id": "3lqEMF-HOkJy",
        "colab": {
          "base_uri": "https://localhost:8080/"
        },
        "outputId": "926ab8f7-aff1-4507-d62d-bedb4c9c2d5e"
      },
      "id": "3lqEMF-HOkJy",
      "execution_count": null,
      "outputs": [
        {
          "output_type": "execute_result",
          "data": {
            "text/plain": [
              "[('Cliff', 'NNP'),\n",
              " ('notes', 'NNS'),\n",
              " ('-', ':'),\n",
              " ('Cheap', 'NN'),\n",
              " (':', ':'),\n",
              " ('$', '$'),\n",
              " ('1-2/plate', 'JJ'),\n",
              " ('-', ':'),\n",
              " ('Fast', 'NN'),\n",
              " (':', ':')]"
            ]
          },
          "metadata": {},
          "execution_count": 70
        }
      ]
    },
    {
      "cell_type": "code",
      "source": [
        "# Perform the named entity recognition. \n",
        "# The function returns a new tree-like object where named entities are represented as subtrees.\n",
        "entities = nltk.chunk.ne_chunk(tagged)\n",
        "entities.pprint()"
      ],
      "metadata": {
        "id": "xBpi5xlZOkSI",
        "colab": {
          "base_uri": "https://localhost:8080/"
        },
        "outputId": "5859a304-8041-41e6-bf48-3b2e39cbfb71"
      },
      "id": "xBpi5xlZOkSI",
      "execution_count": null,
      "outputs": [
        {
          "output_type": "stream",
          "name": "stdout",
          "text": [
            "(S\n",
            "  (GPE Cliff/NNP)\n",
            "  notes/NNS\n",
            "  -/:\n",
            "  (GPE Cheap/NN)\n",
            "  :/:\n",
            "  $/$\n",
            "  1-2/plate/JJ\n",
            "  -/:\n",
            "  (GPE Fast/NN)\n",
            "  :/:\n",
            "  It/PRP\n",
            "  's/VBZ\n",
            "  ready-to-go/JJ\n",
            "  and/CC\n",
            "  on/IN\n",
            "  a/DT\n",
            "  conveyor/NN\n",
            "  -/:\n",
            "  (ORGANIZATION Acceptable/JJ)\n",
            "  quality/NN\n",
            "  :/:\n",
            "  I/PRP\n",
            "  'm/VBP\n",
            "  here/RB\n",
            "  weekly/RB\n",
            "  and/CC\n",
            "  have/VBP\n",
            "  n't/RB\n",
            "  gotten/VBN\n",
            "  sick/JJ\n",
            "  lol/NN\n",
            "  This/DT\n",
            "  place/NN\n",
            "  is/VBZ\n",
            "  definitely/RB\n",
            "  good/JJ\n",
            "  for/IN\n",
            "  what/WP\n",
            "  it/PRP\n",
            "  is/VBZ\n",
            "  ,/,\n",
            "  ``/``\n",
            "  it/PRP\n",
            "  ''/''\n",
            "  being/VBG\n",
            "  a/DT\n",
            "  budget-friendly/JJ\n",
            "  sushi/NN\n",
            "  place/NN\n",
            "  that/WDT\n",
            "  's/VBZ\n",
            "  great/JJ\n",
            "  for/IN\n",
            "  a/DT\n",
            "  quick/JJ\n",
            "  bite/NN\n",
            "  ./.\n",
            "  In/IN\n",
            "  a/DT\n",
            "  response/NN\n",
            "  to/TO\n",
            "  the/DT\n",
            "  lower-rating/JJ\n",
            "  reviews/NNS\n",
            "  stating/VBG\n",
            "  how/WRB\n",
            "  the/DT\n",
            "  food/NN\n",
            "  is/VBZ\n",
            "  just/RB\n",
            "  okay/VBN\n",
            "  at/IN\n",
            "  best/JJS\n",
            "  or/CC\n",
            "  authentic/JJ\n",
            "  or/CC\n",
            "  blah/JJ\n",
            "  blah/NN\n",
            "  blah/NN\n",
            "  ,/,\n",
            "  well/RB\n",
            "  think/IN\n",
            "  of/IN\n",
            "  it/PRP\n",
            "  like/IN\n",
            "  wal-mart/JJ\n",
            "  vs./FW\n",
            "  */NN\n",
            "  inserthighendretailerhere/RB\n",
            "  */NNP\n",
            "  ./.\n",
            "  This/DT\n",
            "  place/NN\n",
            "  has/VBZ\n",
            "  a/DT\n",
            "  business/NN\n",
            "  model/NN\n",
            "  based/VBN\n",
            "  on/IN\n",
            "  selling/VBG\n",
            "  in/IN\n",
            "  large/JJ\n",
            "  volumes/NNS\n",
            "  (/(\n",
            "  hence/VB\n",
            "  the/DT\n",
            "  low/JJ\n",
            "  prices/NNS\n",
            "  like/IN\n",
            "  wal-mart/NN\n",
            "  )/)\n",
            "  so/IN\n",
            "  they/PRP\n",
            "  're/VBP\n",
            "  gon/VBG\n",
            "  na/NNS\n",
            "  have/VBP\n",
            "  to/TO\n",
            "  ``/``\n",
            "  reduce/VB\n",
            "  costs/NNS\n",
            "  ''/''\n",
            "  somehow/RB\n",
            "  (/(\n",
            "  so-so/JJ\n",
            "  quality/NN\n",
            "  food/NN\n",
            "  ,/,\n",
            "  not-so-attentive/JJ\n",
            "  staff/NN\n",
            "  ,/,\n",
            "  and/CC\n",
            "  slightly/RB\n",
            "  smaller/JJR\n",
            "  than/IN\n",
            "  average/JJ\n",
            "  portions/NNS\n",
            "  )/)\n",
            "  ,/,\n",
            "  but/CC\n",
            "  it/PRP\n",
            "  's/VBZ\n",
            "  still/RB\n",
            "  a/DT\n",
            "  solid/JJ\n",
            "  bang-for-your-buck/NN\n",
            "  kinda/NN\n",
            "  place/NN\n",
            "  ./.\n",
            "  On/IN\n",
            "  top/NN\n",
            "  of/IN\n",
            "  this/DT\n",
            "  ,/,\n",
            "  I/PRP\n",
            "  can/MD\n",
            "  be/VB\n",
            "  in/IN\n",
            "  and/CC\n",
            "  out/IN\n",
            "  quickly/RB\n",
            "  since/IN\n",
            "  everything/NN\n",
            "  is/VBZ\n",
            "  already/RB\n",
            "  prepared/JJ\n",
            "  ,/,\n",
            "  perfect/JJ\n",
            "  for/IN\n",
            "  those/DT\n",
            "  quick/JJ\n",
            "  30/CD\n",
            "  min/NN\n",
            "  lunch/NN\n",
            "  breaks/NNS\n",
            "  ./.\n",
            "  All/PDT\n",
            "  that/DT\n",
            "  's/VBZ\n",
            "  required/VBN\n",
            "  is/VBZ\n",
            "  for/IN\n",
            "  you/PRP\n",
            "  to/TO\n",
            "  grab/VB\n",
            "  it/PRP\n",
            "  off/RP\n",
            "  the/DT\n",
            "  conveyor/NN\n",
            "  (/(\n",
            "  depending/VBG\n",
            "  on/IN\n",
            "  whether/IN\n",
            "  or/CC\n",
            "  not/RB\n",
            "  all/PDT\n",
            "  the/DT\n",
            "  items/NNS\n",
            "  you/PRP\n",
            "  want/VBP\n",
            "  are/VBP\n",
            "  on/IN\n",
            "  the/DT\n",
            "  conveyor/NN\n",
            "  at/IN\n",
            "  the/DT\n",
            "  time/NN\n",
            "  )/)\n",
            "  ./.\n",
            "  I/PRP\n",
            "  've/VBP\n",
            "  never/RB\n",
            "  had/VBD\n",
            "  issues/NNS\n",
            "  with/IN\n",
            "  seating/NN\n",
            "  ,/,\n",
            "  but/CC\n",
            "  do/VBP\n",
            "  not/RB\n",
            "  make/VB\n",
            "  a/DT\n",
            "  point/NN\n",
            "  to/TO\n",
            "  go/VB\n",
            "  during/IN\n",
            "  peak/NN\n",
            "  hours/NNS\n",
            "  and/CC\n",
            "  usually/RB\n",
            "  go/VBP\n",
            "  with/IN\n",
            "  a/DT\n",
            "  small/JJ\n",
            "  party/NN\n",
            "  (/(\n",
            "  2-4/JJ\n",
            "  people/NNS\n",
            "  )/)\n",
            "  ./.\n",
            "  For/IN\n",
            "  those/DT\n",
            "  claiming/VBG\n",
            "  to/TO\n",
            "  be/VB\n",
            "  ``/``\n",
            "  left/VBN\n",
            "  to/TO\n",
            "  fend/VB\n",
            "  for/IN\n",
            "  themselves/PRP\n",
            "  ''/''\n",
            "  due/JJ\n",
            "  to/TO\n",
            "  an/DT\n",
            "  inattentive/JJ\n",
            "  staff/NN\n",
            "  ,/,\n",
            "  most/JJS\n",
            "  of/IN\n",
            "  your/PRP$\n",
            "  sushi-related/JJ\n",
            "  inquiries/NNS\n",
            "  can/MD\n",
            "  be/VB\n",
            "  answered/VBN\n",
            "  by/IN\n",
            "  this/DT\n",
            "  thing/NN\n",
            "  called/VBN\n",
            "  ``/``\n",
            "  the/DT\n",
            "  menu/NN\n",
            "  ''/''\n",
            "  that/WDT\n",
            "  sits/VBZ\n",
            "  on/IN\n",
            "  the/DT\n",
            "  counters/NNS\n",
            "  ./.\n",
            "  See/VB\n",
            "  ,/,\n",
            "  this/DT\n",
            "  miraculous/JJ\n",
            "  piece/NN\n",
            "  of/IN\n",
            "  technology/NN\n",
            "  contains/NNS\n",
            "  things/NNS\n",
            "  referred/VBD\n",
            "  to/TO\n",
            "  as/IN\n",
            "  ``/``\n",
            "  descriptions/NNS\n",
            "  ''/''\n",
            "  on/IN\n",
            "  them/PRP\n",
            "  that/WDT\n",
            "  help/VBP\n",
            "  to/TO\n",
            "  inform/VB\n",
            "  you/PRP\n",
            "  about/IN\n",
            "  the/DT\n",
            "  sushi/NN\n",
            "  going/VBG\n",
            "  round-and-round/NN\n",
            "  before/IN\n",
            "  you/PRP\n",
            "  ./.\n",
            "  Furthermore/RB\n",
            "  ,/,\n",
            "  there/EX\n",
            "  's/VBZ\n",
            "  even/RB\n",
            "  a/DT\n",
            "  pricing/NN\n",
            "  guide/NN\n",
            "  based/VBN\n",
            "  on/IN\n",
            "  the/DT\n",
            "  color/NN\n",
            "  code/NN\n",
            "  of/IN\n",
            "  the/DT\n",
            "  plates/NNS\n",
            "  to/TO\n",
            "  assist/VB\n",
            "  you/PRP\n",
            "  further/RB\n",
            "  !/.\n",
            "  WOW/UH\n",
            "  !/.\n",
            "  Lol/NNP\n",
            "  wtf/JJ\n",
            "  do/VBP\n",
            "  people/NNS\n",
            "  expect/VB\n",
            "  for/IN\n",
            "  $/$\n",
            "  1-2/JJ\n",
            "  plates/NNS\n",
            "  of/IN\n",
            "  sushi/NN\n",
            "  ?/.\n",
            "  Someone/NN\n",
            "  to/TO\n",
            "  hold/VB\n",
            "  your/PRP$\n",
            "  hand/NN\n",
            "  ?/.\n",
            "  (ORGANIZATION LOLOLOLOLOLOLOL/NNP)\n",
            "  DIAF/NNP\n",
            "  And/CC\n",
            "  the/DT\n",
            "  cherry/NN\n",
            "  on/IN\n",
            "  top/NN\n",
            "  ?/.\n",
            "  $/$\n",
            "  4/CD\n",
            "  large/JJ\n",
            "  japanese/JJ\n",
            "  beers/NNS\n",
            "  and/CC\n",
            "  $/$\n",
            "  5/CD\n",
            "  sake/NN\n",
            "  bombs/NN\n",
            "  !/.\n",
            "  (ORGANIZATION HELL/NNP)\n",
            "  YEAH/UH\n",
            "  !/.)\n"
          ]
        }
      ]
    },
    {
      "cell_type": "markdown",
      "source": [
        "## Data Cleaning\n",
        "We will now, define a function which will clean the dataset by removing stopwords and punctuations."
      ],
      "metadata": {
        "id": "e6S9Ekqq9MxW"
      },
      "id": "e6S9Ekqq9MxW"
    },
    {
      "cell_type": "code",
      "execution_count": null,
      "id": "77db8d7e-330b-46da-8d32-821a8cc74164",
      "metadata": {
        "id": "77db8d7e-330b-46da-8d32-821a8cc74164"
      },
      "outputs": [],
      "source": [
        "# import nltk\n",
        "# nltk.download('stopwords')"
      ]
    },
    {
      "cell_type": "code",
      "execution_count": null,
      "id": "07c30d82-27e6-47f3-b6cf-9147a0f43ef2",
      "metadata": {
        "id": "07c30d82-27e6-47f3-b6cf-9147a0f43ef2"
      },
      "outputs": [],
      "source": [
        "# CLEANING THE REVIEWS - REMOVAL OF STOPWORDS AND PUNCTUATION\n",
        "def text_process(text):\n",
        "  nopunc = [char for char in text if char not in string.punctuation]\n",
        "  nopunc = ''.join(nopunc)\n",
        "  return [word for word in nopunc.split() if word.lower() not in stopwords.words('english')]"
      ]
    },
    {
      "cell_type": "code",
      "execution_count": null,
      "id": "f3f47066-39ed-420f-99fb-815f056d03b5",
      "metadata": {
        "id": "f3f47066-39ed-420f-99fb-815f056d03b5",
        "colab": {
          "base_uri": "https://localhost:8080/"
        },
        "outputId": "7e5a7ada-23ed-40b3-aec0-9802e5b58a97"
      },
      "outputs": [
        {
          "output_type": "stream",
          "name": "stdout",
          "text": [
            "length of the vocab is 31336\n"
          ]
        }
      ],
      "source": [
        "# CONVERTING THE WORDS INTO A VECTOR\n",
        "vocab = CountVectorizer(analyzer=text_process).fit(x)\n",
        "print('length of the vocab is', len(vocab.vocabulary_))"
      ]
    },
    {
      "cell_type": "code",
      "execution_count": null,
      "id": "ba62cd63-bbc3-4720-b5c7-ce2de874cade",
      "metadata": {
        "id": "ba62cd63-bbc3-4720-b5c7-ce2de874cade",
        "colab": {
          "base_uri": "https://localhost:8080/"
        },
        "outputId": "a5020aec-5860-45d9-bc00-b92c58d51dec"
      },
      "outputs": [
        {
          "output_type": "stream",
          "name": "stdout",
          "text": [
            "['Adult' 'Adults' 'Advisor' 'Advocate' 'Aegean' 'Aerobics' 'Aesthetically'\n",
            " 'Affordable' 'Africa' 'Afterall' 'Afterdark' 'Afterward' 'Afterwards'\n",
            " 'Agaves' 'Aged' 'Agent' 'Aggressive' 'Agree' 'Agua' 'Aguila' 'Agwa' 'Ah'\n",
            " 'Ahab' 'Ahh' 'Ahha' 'Ahhh' 'Ahhhhh' 'Ahhhhhh' 'Ahi' 'Ahmazing'\n",
            " 'Ahwahtukee' 'Ahwatukee' 'Ai' 'Aid' 'Aiellos' 'Aiko' 'Air' 'Airlines'\n",
            " 'Airpark' 'Airport' 'Airwarys' 'Airways' 'Airwaysnever' 'Aisha' 'Aji'\n",
            " 'Ajo' 'Akor' 'Al' 'Alabama' 'Aladdins' 'Alain' 'Alameda' 'Alan' 'Alas'\n",
            " 'AlasIve' 'Alaska' 'Alaskan' 'Alaus' 'Albacore' 'Albeit' 'Alber'\n",
            " 'Albertos' 'Albertsons' 'Alcatraz' 'Alcohol' 'Ale' 'Alemmmm' 'Alessias'\n",
            " 'Alex' 'Alexa' 'Alexs' 'Alfalfa' 'Alfonso' 'Alfred' 'Alfredo' 'Ali'\n",
            " 'Alice' 'Alicia' 'Alison' 'AllAmerican' 'AllStar' 'Allah' 'Allegiant'\n",
            " 'Allen' 'Allende' 'Allergic' 'Allesias' 'Allison' 'Allow' 'Allstars'\n",
            " 'Almond' 'Almost' 'Aloe' 'Aloft' 'Aloha' 'Along' 'Alongside' 'Alp'\n",
            " 'Alphagraphics' 'Alpine']\n"
          ]
        }
      ],
      "source": [
        "#     The data that we can see is the transformed words.\n",
        "#     If we now get the feature's name - we can get the word back\n",
        "print(vocab.get_feature_names_out()[1000:1100])"
      ]
    },
    {
      "cell_type": "markdown",
      "source": [
        "Vectorization of the whole review set and and checking the sparse matrix:"
      ],
      "metadata": {
        "id": "EsG_RI5EFv-6"
      },
      "id": "EsG_RI5EFv-6"
    },
    {
      "cell_type": "code",
      "execution_count": null,
      "id": "7a8b61db-9271-4cee-bba8-bf6999087fab",
      "metadata": {
        "colab": {
          "base_uri": "https://localhost:8080/"
        },
        "id": "7a8b61db-9271-4cee-bba8-bf6999087fab",
        "outputId": "207aa98f-7c56-443e-c454-21c5235fcf48"
      },
      "outputs": [
        {
          "output_type": "stream",
          "name": "stdout",
          "text": [
            "Shape of the sparse matrix:  (5547, 31336)\n",
            "Non-Zero occurences:  312457\n",
            "Density of the matrix =  0.17975812697942373\n"
          ]
        }
      ],
      "source": [
        "x = vocab.transform(x)\n",
        "#Shape of the matrix:\n",
        "print(\"Shape of the sparse matrix: \", x.shape)\n",
        "#Non-zero occurences:\n",
        "print(\"Non-Zero occurences: \",x.nnz)\n",
        "\n",
        "# DENSITY OF THE MATRIX\n",
        "density = (x.nnz/(x.shape[0]*x.shape[1]))*100\n",
        "print(\"Density of the matrix = \",density)"
      ]
    },
    {
      "cell_type": "markdown",
      "source": [
        "Splitting the dataset X into training and testing set:"
      ],
      "metadata": {
        "id": "eyv2Ff7mF5L9"
      },
      "id": "eyv2Ff7mF5L9"
    },
    {
      "cell_type": "code",
      "execution_count": null,
      "id": "6a642625-3578-4f57-a580-e5663f0e79ae",
      "metadata": {
        "id": "6a642625-3578-4f57-a580-e5663f0e79ae"
      },
      "outputs": [],
      "source": [
        "# SPLITTING THE DATASET INTO TRAINING SET AND TESTING SET\n",
        "x_train,x_test,y_train,y_test = train_test_split(x,y,test_size=0.2,random_state=101)"
      ]
    },
    {
      "cell_type": "markdown",
      "id": "7b37d1f8-c755-4d3d-90a9-9c09b7c94e65",
      "metadata": {
        "id": "7b37d1f8-c755-4d3d-90a9-9c09b7c94e65"
      },
      "source": [
        "# Building a Sentiment Classifier\n",
        "\n",
        "In this step, you will train a machine learning model to classify Yelp reviews into positive, negative, or neutral sentiments. You can use a variety of models, such as Naive Bayes, Support Vector Machines (SVMs), or Recurrent Neural Networks (RNNs)."
      ]
    },
    {
      "cell_type": "markdown",
      "source": [
        "## Modeling\n",
        "We will now use multiple Machine Algorithms to see which gives the best performance."
      ],
      "metadata": {
        "id": "CVk6MGZcGKnn"
      },
      "id": "CVk6MGZcGKnn"
    },
    {
      "cell_type": "markdown",
      "source": [
        "1 - Multinomial Naive Bayes - We are using Multinomial Naive Bayes over Gaussian because with sparse data, Gaussian Naive Bayes assumptions aren't met and a simple gaussian fit over the data will not give us a good fit or prediction!"
      ],
      "metadata": {
        "id": "eT1zFdyUGKcM"
      },
      "id": "eT1zFdyUGKcM"
    },
    {
      "cell_type": "code",
      "execution_count": null,
      "id": "aebe996c-2f82-4a17-9094-44166603b69e",
      "metadata": {
        "id": "aebe996c-2f82-4a17-9094-44166603b69e",
        "colab": {
          "base_uri": "https://localhost:8080/"
        },
        "outputId": "8e66f53b-6086-4db0-e379-9598639a7458"
      },
      "outputs": [
        {
          "output_type": "stream",
          "name": "stdout",
          "text": [
            "Confusion Matrix for Multinomial Naive Bayes:\n",
            "[[ 75  49  38]\n",
            " [  7 180 105]\n",
            " [ 12  45 599]]\n",
            "Score: 76.94\n",
            "Classification Report:\n",
            "              precision    recall  f1-score   support\n",
            "\n",
            "           1       0.80      0.46      0.59       162\n",
            "           3       0.66      0.62      0.64       292\n",
            "           5       0.81      0.91      0.86       656\n",
            "\n",
            "    accuracy                           0.77      1110\n",
            "   macro avg       0.75      0.66      0.69      1110\n",
            "weighted avg       0.77      0.77      0.76      1110\n",
            "\n"
          ]
        }
      ],
      "source": [
        "# Multinomial Naive Bayes\n",
        "from sklearn.naive_bayes import MultinomialNB\n",
        "mnb = MultinomialNB()\n",
        "mnb.fit(x_train,y_train)\n",
        "predmnb = mnb.predict(x_test)\n",
        "score_mnb = round(accuracy_score(y_test,predmnb)*100,2)\n",
        "print(\"Confusion Matrix for Multinomial Naive Bayes:\")\n",
        "print(confusion_matrix(y_test,predmnb))\n",
        "print(\"Score:\",score_mnb)\n",
        "print(\"Classification Report:\")\n",
        "print(classification_report(y_test,predmnb))"
      ]
    },
    {
      "cell_type": "markdown",
      "source": [
        "2 - Random Forest Classifier"
      ],
      "metadata": {
        "id": "GWcT4M7DGSvG"
      },
      "id": "GWcT4M7DGSvG"
    },
    {
      "cell_type": "code",
      "execution_count": null,
      "id": "e2e5f487-175d-4eb3-a78b-381db6dfe2ca",
      "metadata": {
        "id": "e2e5f487-175d-4eb3-a78b-381db6dfe2ca",
        "colab": {
          "base_uri": "https://localhost:8080/"
        },
        "outputId": "35095427-4924-4c19-f148-75821aba5fff"
      },
      "outputs": [
        {
          "output_type": "stream",
          "name": "stdout",
          "text": [
            "Confusion Matrix for Random Forest Classifier:\n",
            "[[ 31  32  99]\n",
            " [  1  99 192]\n",
            " [  1  21 634]]\n",
            "Score: 68.83\n",
            "Classification Report:\n",
            "              precision    recall  f1-score   support\n",
            "\n",
            "           1       0.94      0.19      0.32       162\n",
            "           3       0.65      0.34      0.45       292\n",
            "           5       0.69      0.97      0.80       656\n",
            "\n",
            "    accuracy                           0.69      1110\n",
            "   macro avg       0.76      0.50      0.52      1110\n",
            "weighted avg       0.71      0.69      0.64      1110\n",
            "\n"
          ]
        }
      ],
      "source": [
        "# Random Forest\n",
        "from sklearn.ensemble import RandomForestClassifier\n",
        "rmfr = RandomForestClassifier()\n",
        "rmfr.fit(x_train,y_train)\n",
        "predrmfr = rmfr.predict(x_test)\n",
        "score_rmfr = round(accuracy_score(y_test,predrmfr)*100,2)\n",
        "print(\"Confusion Matrix for Random Forest Classifier:\")\n",
        "print(confusion_matrix(y_test,predrmfr))\n",
        "print(\"Score:\",score_rmfr)\n",
        "print(\"Classification Report:\")\n",
        "print(classification_report(y_test,predrmfr))"
      ]
    },
    {
      "cell_type": "markdown",
      "source": [
        "3 - Decision Tree"
      ],
      "metadata": {
        "id": "su8ZiWZoGWSS"
      },
      "id": "su8ZiWZoGWSS"
    },
    {
      "cell_type": "code",
      "execution_count": null,
      "id": "4b50a9cb-e805-4aad-8c37-84f3530a36a7",
      "metadata": {
        "id": "4b50a9cb-e805-4aad-8c37-84f3530a36a7",
        "colab": {
          "base_uri": "https://localhost:8080/"
        },
        "outputId": "15c0a7fa-cf68-47e3-ed55-3466686ffe20"
      },
      "outputs": [
        {
          "output_type": "stream",
          "name": "stdout",
          "text": [
            "Confusion Matrix for Decision Tree:\n",
            "[[ 65  47  50]\n",
            " [ 35 138 119]\n",
            " [ 35  98 523]]\n",
            "Score: 65.41\n",
            "Classification Report:\n",
            "              precision    recall  f1-score   support\n",
            "\n",
            "           1       0.48      0.40      0.44       162\n",
            "           3       0.49      0.47      0.48       292\n",
            "           5       0.76      0.80      0.78       656\n",
            "\n",
            "    accuracy                           0.65      1110\n",
            "   macro avg       0.57      0.56      0.56      1110\n",
            "weighted avg       0.65      0.65      0.65      1110\n",
            "\n"
          ]
        }
      ],
      "source": [
        "# Decision Tree\n",
        "from sklearn.tree import DecisionTreeClassifier\n",
        "dt = DecisionTreeClassifier()\n",
        "dt.fit(x_train,y_train)\n",
        "preddt = dt.predict(x_test)\n",
        "score_dt = round(accuracy_score(y_test,preddt)*100,2)\n",
        "print(\"Confusion Matrix for Decision Tree:\")\n",
        "print(confusion_matrix(y_test,preddt))\n",
        "print(\"Score:\",score_dt)\n",
        "print(\"Classification Report:\")\n",
        "print(classification_report(y_test,preddt))"
      ]
    },
    {
      "cell_type": "markdown",
      "source": [
        "4 - Support Vector Machines"
      ],
      "metadata": {
        "id": "JPYUVI8wGZR0"
      },
      "id": "JPYUVI8wGZR0"
    },
    {
      "cell_type": "code",
      "execution_count": null,
      "id": "c18b0713-22de-4119-b7fd-48223dc76b8e",
      "metadata": {
        "id": "c18b0713-22de-4119-b7fd-48223dc76b8e",
        "colab": {
          "base_uri": "https://localhost:8080/"
        },
        "outputId": "496ea448-f21e-4df0-fecd-29097eb1bd24"
      },
      "outputs": [
        {
          "output_type": "stream",
          "name": "stdout",
          "text": [
            "Confusion Matrix for Support Vector Machines:\n",
            "[[ 31  23 108]\n",
            " [  5 122 165]\n",
            " [  1  19 636]]\n",
            "Score: 71.08\n",
            "Classification Report:\n",
            "              precision    recall  f1-score   support\n",
            "\n",
            "           1       0.84      0.19      0.31       162\n",
            "           3       0.74      0.42      0.54       292\n",
            "           5       0.70      0.97      0.81       656\n",
            "\n",
            "    accuracy                           0.71      1110\n",
            "   macro avg       0.76      0.53      0.55      1110\n",
            "weighted avg       0.73      0.71      0.67      1110\n",
            "\n"
          ]
        }
      ],
      "source": [
        "# Support Vector Machine\n",
        "from sklearn.svm import SVC\n",
        "svm = SVC(random_state=101)\n",
        "svm.fit(x_train,y_train)\n",
        "predsvm = svm.predict(x_test)\n",
        "score_svm = round(accuracy_score(y_test,predsvm)*100,2)\n",
        "print(\"Confusion Matrix for Support Vector Machines:\")\n",
        "print(confusion_matrix(y_test,predsvm))\n",
        "print(\"Score:\",score_svm)\n",
        "print(\"Classification Report:\")\n",
        "print(classification_report(y_test,predsvm))"
      ]
    },
    {
      "cell_type": "markdown",
      "source": [
        "5 - K - Nearest Neighbor Classifier"
      ],
      "metadata": {
        "id": "j2bV_m9yGcqP"
      },
      "id": "j2bV_m9yGcqP"
    },
    {
      "cell_type": "code",
      "execution_count": null,
      "id": "1dc4a5b7-a69b-40b4-98c9-497921c71d24",
      "metadata": {
        "id": "1dc4a5b7-a69b-40b4-98c9-497921c71d24",
        "colab": {
          "base_uri": "https://localhost:8080/"
        },
        "outputId": "be112444-2e55-4d25-97df-4ee1a165c52d"
      },
      "outputs": [
        {
          "output_type": "stream",
          "name": "stdout",
          "text": [
            "Confusion Matrix for K Neighbors Classifier:\n",
            "[[ 12  10 140]\n",
            " [  3  33 256]\n",
            " [  8  12 636]]\n",
            "Score:  61.35\n",
            "Classification Report:\n",
            "              precision    recall  f1-score   support\n",
            "\n",
            "           1       0.52      0.07      0.13       162\n",
            "           3       0.60      0.11      0.19       292\n",
            "           5       0.62      0.97      0.75       656\n",
            "\n",
            "    accuracy                           0.61      1110\n",
            "   macro avg       0.58      0.39      0.36      1110\n",
            "weighted avg       0.60      0.61      0.51      1110\n",
            "\n"
          ]
        }
      ],
      "source": [
        "# K Nearest Neighbour Algorithm\n",
        "from sklearn.neighbors import KNeighborsClassifier\n",
        "knn = KNeighborsClassifier(n_neighbors=10)\n",
        "knn.fit(x_train,y_train)\n",
        "predknn = knn.predict(x_test)\n",
        "score_knn = round(accuracy_score(y_test,predknn)*100,2)\n",
        "print(\"Confusion Matrix for K Neighbors Classifier:\")\n",
        "print(confusion_matrix(y_test,predknn))\n",
        "print(\"Score: \",score_knn)\n",
        "print(\"Classification Report:\")\n",
        "print(classification_report(y_test,predknn))"
      ]
    },
    {
      "cell_type": "markdown",
      "source": [
        "From the above algorithm modelling, we can list the accuracy for each model:"
      ],
      "metadata": {
        "id": "JvcMsrcNGfV2"
      },
      "id": "JvcMsrcNGfV2"
    },
    {
      "cell_type": "code",
      "execution_count": null,
      "id": "d08ebafb-ec60-4f1e-87ff-1db556de632e",
      "metadata": {
        "id": "d08ebafb-ec60-4f1e-87ff-1db556de632e",
        "colab": {
          "base_uri": "https://localhost:8080/"
        },
        "outputId": "97e72727-0427-4990-88df-5d1ce650c49f"
      },
      "outputs": [
        {
          "output_type": "stream",
          "name": "stdout",
          "text": [
            "Multinomial Naive Bayes =  76.94 %\n",
            "Support Vector Machine =  71.08 %\n",
            "Random Forest Classifier =  68.83 %\n",
            "Decision Tree =  65.41 %\n",
            "K Neighbor Classifier =  61.35 %\n"
          ]
        }
      ],
      "source": [
        "print('Multinomial Naive Bayes = ',score_mnb,'%') \n",
        "print('Support Vector Machine = ',score_svm,'%') \n",
        "print('Random Forest Classifier = ',score_rmfr,'%') \n",
        "print('Decision Tree = ',score_dt,'%') \n",
        "print('K Neighbor Classifier = ',score_knn,'%') "
      ]
    },
    {
      "cell_type": "markdown",
      "source": [
        "Since Multinomial Naive Bayes has the best score, let us use it to predict a random positive review, a random average review and a random negative review!"
      ],
      "metadata": {
        "id": "CDxTIciMGiCm"
      },
      "id": "CDxTIciMGiCm"
    },
    {
      "cell_type": "code",
      "execution_count": null,
      "id": "ef743206-ec71-402e-b37d-67ddf14001c7",
      "metadata": {
        "id": "ef743206-ec71-402e-b37d-67ddf14001c7",
        "colab": {
          "base_uri": "https://localhost:8080/"
        },
        "outputId": "2bf098ae-0573-442a-cfbe-cac1b4aae5f5"
      },
      "outputs": [
        {
          "output_type": "stream",
          "name": "stdout",
          "text": [
            "My wife took me here on my birthday for breakfast and it was excellent.  The weather was perfect which made sitting outside overlooking their grounds an absolute pleasure.  Our waitress was excellent and our food arrived quickly on the semi-busy Saturday morning.  It looked like the place fills up pretty quickly so the earlier you get here the better.\n",
            "\n",
            "Do yourself a favor and get their Bloody Mary.  It was phenomenal and simply the best I've ever had.  I'm pretty sure they only use ingredients from their garden and blend them fresh when you order it.  It was amazing.\n",
            "\n",
            "While EVERYTHING on the menu looks excellent, I had the white truffle scrambled eggs vegetable skillet and it was tasty and delicious.  It came with 2 pieces of their griddled bread with was amazing and it absolutely made the meal complete.  It was the best \"toast\" I've ever had.\n",
            "\n",
            "Anyway, I can't wait to go back!\n",
            "Actual Rating:\n",
            "5\n",
            "Predicted Rating:\n"
          ]
        },
        {
          "output_type": "execute_result",
          "data": {
            "text/plain": [
              "5"
            ]
          },
          "metadata": {},
          "execution_count": 84
        }
      ],
      "source": [
        "# POSITIVE REVIEW\n",
        "pr = data['text'][0]\n",
        "print(pr)\n",
        "print(\"Actual Rating:\")\n",
        "print(data['stars'][0])\n",
        "pr_t = vocab.transform([pr])\n",
        "print(\"Predicted Rating:\")\n",
        "mnb.predict(pr_t)[0]"
      ]
    },
    {
      "cell_type": "code",
      "execution_count": null,
      "id": "9af66624-e6e4-4a58-a90c-b6f937452151",
      "metadata": {
        "id": "9af66624-e6e4-4a58-a90c-b6f937452151",
        "colab": {
          "base_uri": "https://localhost:8080/"
        },
        "outputId": "44d25a20-ba73-4f34-85f0-1ad21eba92ed"
      },
      "outputs": [
        {
          "output_type": "stream",
          "name": "stdout",
          "text": [
            "We went here on a Saturday afternoon and this place was incredibly empty.  They had brunch specials going on, including $2 bloody mary's and mimosas, but we were more in the mood for lunch.  Except for the bloody mary, I had to try one.  It came out in a high-ball-sized glass.  Boo!  But it was really tasty. Yay!  The hubby remembered a sign outside the restaurant a few weeks back that said they had Arrogant Bastard, and he got a 22 oz bottle for $4.75.  Hey, that's not fair!!\n",
            "\n",
            "Next up: the wings.  We were a bit hesitant to order them when the waitress informed us that they are \"seasoned\" but not sauced, so they can't be ordered hot.  We did ask for them crispy though, and the waitress even asked the cooks to throw them back in for a few minutes when they came out not visibly crispy.  These non-traditional wings were actually pretty damn good.  The seasoning was a little spicy and salty with just a hint of sweet.  If I were in the mood for the tang and kick of Frank's Hot Sauce, these wouldn't cut it, but otherwise they were good enough to go back again for.\n",
            "\n",
            "My entree was the Tilapia salad, and I was a bit disappointed.  The fish was a bit dry and uninspired. And the greens underneath were overdressed and wilted.  I ate the greens around the fish and picked out the almonds and Mandarin oranges, but I had to leave the mush hiding underneath the fish.\n",
            "\n",
            "It wasn't bad enough to say I wouldn't go back, but I won't be anxiously awaiting my next trip.\n",
            "Actual Rating:\n",
            "3\n",
            "Predicted Rating:\n"
          ]
        },
        {
          "output_type": "execute_result",
          "data": {
            "text/plain": [
              "3"
            ]
          },
          "metadata": {},
          "execution_count": 85
        }
      ],
      "source": [
        "# AVERAGE REVIEW\n",
        "ar = data['text'][16]\n",
        "print(ar)\n",
        "print(\"Actual Rating:\")\n",
        "print(data['stars'][16])\n",
        "ar_t = vocab.transform([ar])\n",
        "print(\"Predicted Rating:\")\n",
        "mnb.predict(ar_t)[0]"
      ]
    },
    {
      "cell_type": "code",
      "execution_count": null,
      "id": "df003763-6db4-420c-9bc9-bcfb5fb2343f",
      "metadata": {
        "id": "df003763-6db4-420c-9bc9-bcfb5fb2343f",
        "colab": {
          "base_uri": "https://localhost:8080/"
        },
        "outputId": "3b8aba50-b62e-41e3-f0fa-55dcb0137c87"
      },
      "outputs": [
        {
          "output_type": "stream",
          "name": "stdout",
          "text": [
            "U can go there n check the car out. If u wanna buy 1 there? That's wrong move! If u even want a car service from there? U made a biggest mistake of ur life!! I had 1 time asked my girlfriend to take my car there for an oil service, guess what? They ripped my girlfriend off by lying how bad my car is now. If without fixing the problem. Might bring some serious accident. Then she did what they said. 4 brand new tires, timing belt, 4 new brake pads. U know why's the worst? All of those above I had just changed 2 months before!!! What a trashy dealer is that? People, better off go somewhere!\n",
            "Actual Rating:\n",
            "1\n",
            "Predicted Rating:\n"
          ]
        },
        {
          "output_type": "execute_result",
          "data": {
            "text/plain": [
              "1"
            ]
          },
          "metadata": {},
          "execution_count": 86
        }
      ],
      "source": [
        "# NEGATIVE REVIEW\n",
        "nr = data['text'][23]\n",
        "print(nr)\n",
        "print(\"Actual Rating:\")\n",
        "print(data['stars'][23])\n",
        "nr_t = vocab.transform([nr])\n",
        "print(\"Predicted Rating:\")\n",
        "mnb.predict(nr_t)[0]"
      ]
    },
    {
      "cell_type": "markdown",
      "id": "d133de57-46f9-427f-b68d-d3f9784a2a13",
      "metadata": {
        "id": "d133de57-46f9-427f-b68d-d3f9784a2a13"
      },
      "source": [
        "## Bias in dataset\n",
        "In the data count below, we can see that predictions are biased towards positive reviews. It is possible that the dataset has more positive reviews as compared to negative reviews.\n",
        "This can likely be fixed by normalizing the dataset to have equal number of reviews - thereby removing the bias."
      ]
    },
    {
      "cell_type": "code",
      "execution_count": null,
      "id": "079e5dc5-b898-4fad-815d-4850d2feb4dd",
      "metadata": {
        "id": "079e5dc5-b898-4fad-815d-4850d2feb4dd",
        "colab": {
          "base_uri": "https://localhost:8080/"
        },
        "outputId": "86365f08-8fa5-469d-9093-358ab827745f"
      },
      "outputs": [
        {
          "output_type": "stream",
          "name": "stdout",
          "text": [
            "4    3526\n",
            "5    3337\n",
            "3    1461\n",
            "2     927\n",
            "1     749\n",
            "Name: stars, dtype: int64\n"
          ]
        }
      ],
      "source": [
        "count = data['stars'].value_counts()\n",
        "print(count)"
      ]
    },
    {
      "cell_type": "markdown",
      "source": [
        "# Bonus - using out-of-box techniques:\n",
        "1. VADER (Valence Aware Dictionary and sEntiment Reasoner) - Bag of words approach\n",
        "2. Roberta Pretrained Model from 🤗\n",
        "3. Huggingface Pipeline"
      ],
      "metadata": {
        "id": "P37f4TZK-QdB"
      },
      "id": "P37f4TZK-QdB"
    },
    {
      "cell_type": "code",
      "source": [
        "# nltk.download('all')\n",
        "# nltk.download('vader_lexicon')"
      ],
      "metadata": {
        "id": "P5euQhZ7-cN8",
        "colab": {
          "base_uri": "https://localhost:8080/"
        },
        "outputId": "7541ec91-abe0-4ae3-ad06-b34df0c18193"
      },
      "id": "P5euQhZ7-cN8",
      "execution_count": null,
      "outputs": [
        {
          "output_type": "stream",
          "name": "stderr",
          "text": [
            "[nltk_data] Downloading package vader_lexicon to /root/nltk_data...\n",
            "[nltk_data]   Package vader_lexicon is already up-to-date!\n"
          ]
        },
        {
          "output_type": "execute_result",
          "data": {
            "text/plain": [
              "True"
            ]
          },
          "metadata": {},
          "execution_count": 88
        }
      ]
    },
    {
      "cell_type": "markdown",
      "source": [
        "# Step 1. VADER Seniment Scoring\n",
        "\n",
        "We will use NLTK's `SentimentIntensityAnalyzer` to get the neg/neu/pos scores of the text.\n",
        "\n",
        "- This uses a \"bag of words\" approach:\n",
        "    1. Stop words are removed\n",
        "    2. each word is scored and combined to a total score."
      ],
      "metadata": {
        "id": "hi3zr6W8_TVs"
      },
      "id": "hi3zr6W8_TVs"
    },
    {
      "cell_type": "code",
      "source": [
        "from nltk.sentiment import SentimentIntensityAnalyzer\n",
        "from tqdm.notebook import tqdm\n",
        "\n",
        "sia = SentimentIntensityAnalyzer()"
      ],
      "metadata": {
        "id": "VSGoecwZ_W1Z"
      },
      "id": "VSGoecwZ_W1Z",
      "execution_count": null,
      "outputs": []
    },
    {
      "cell_type": "code",
      "source": [
        "# something positive\n",
        "sia.polarity_scores('I am so happy!')"
      ],
      "metadata": {
        "id": "HXGrlzoQ_Yr1",
        "colab": {
          "base_uri": "https://localhost:8080/"
        },
        "outputId": "d8d65aae-0cde-4e52-e38c-d291e0e0dbdc"
      },
      "id": "HXGrlzoQ_Yr1",
      "execution_count": null,
      "outputs": [
        {
          "output_type": "execute_result",
          "data": {
            "text/plain": [
              "{'neg': 0.0, 'neu': 0.318, 'pos': 0.682, 'compound': 0.6468}"
            ]
          },
          "metadata": {},
          "execution_count": 90
        }
      ]
    },
    {
      "cell_type": "code",
      "source": [
        "# something negative\n",
        "sia.polarity_scores('This is the worst thing ever.')"
      ],
      "metadata": {
        "id": "VTlqHebk_cNU",
        "colab": {
          "base_uri": "https://localhost:8080/"
        },
        "outputId": "1af88472-a831-4c46-b3d7-12f5e6837f0e"
      },
      "id": "VTlqHebk_cNU",
      "execution_count": null,
      "outputs": [
        {
          "output_type": "execute_result",
          "data": {
            "text/plain": [
              "{'neg': 0.451, 'neu': 0.549, 'pos': 0.0, 'compound': -0.6249}"
            ]
          },
          "metadata": {},
          "execution_count": 91
        }
      ]
    },
    {
      "cell_type": "code",
      "source": [
        "# example\n",
        "sia.polarity_scores(example)"
      ],
      "metadata": {
        "id": "UeKdd4WK_enl",
        "colab": {
          "base_uri": "https://localhost:8080/"
        },
        "outputId": "1fa20679-9224-4d01-eeda-b5a7098accfe"
      },
      "id": "UeKdd4WK_enl",
      "execution_count": null,
      "outputs": [
        {
          "output_type": "execute_result",
          "data": {
            "text/plain": [
              "{'neg': 0.056, 'neu': 0.77, 'pos': 0.173, 'compound': 0.9889}"
            ]
          },
          "metadata": {},
          "execution_count": 92
        }
      ]
    },
    {
      "cell_type": "code",
      "source": [
        "data = data.head(300)"
      ],
      "metadata": {
        "id": "ldVqhjZxHT3q"
      },
      "id": "ldVqhjZxHT3q",
      "execution_count": null,
      "outputs": []
    },
    {
      "cell_type": "code",
      "source": [
        "# Run the polarity score on the entire dataset\n",
        "res = {}\n",
        "for i, row in tqdm(data.iterrows(), total=len(data)):\n",
        "    text = row['text']\n",
        "    myid = row['business_id']\n",
        "    res[myid] = sia.polarity_scores(text)"
      ],
      "metadata": {
        "id": "z4LKwBF8_gqg",
        "colab": {
          "base_uri": "https://localhost:8080/",
          "height": 49,
          "referenced_widgets": [
            "2b4253ddfd7f4d858a1ba4639457887c",
            "dab3a251557b47ddbb89e59b2f3def33",
            "7cbb098fc70c4e8489ae8ba3b5557808",
            "02e798a0544f4f858459177641297ad4",
            "90353c5ab2ad473cb18e16d2671cb1ce",
            "ccd50e7fd45a457d9832d7cc7a9c32b8",
            "2b86e4b516cb4835ae41db89d027960f",
            "e2881215e9244f7391ada310f22c6243",
            "366abbde5d124bfb86b6456b787e2885",
            "888900164a864faca49f74f8de536260",
            "f6020dd9920b4fe99864bf5476f15da4"
          ]
        },
        "outputId": "467ae965-49b5-4618-9466-ccb560f6eefb"
      },
      "id": "z4LKwBF8_gqg",
      "execution_count": null,
      "outputs": [
        {
          "output_type": "display_data",
          "data": {
            "text/plain": [
              "  0%|          | 0/500 [00:00<?, ?it/s]"
            ],
            "application/vnd.jupyter.widget-view+json": {
              "version_major": 2,
              "version_minor": 0,
              "model_id": "2b4253ddfd7f4d858a1ba4639457887c"
            }
          },
          "metadata": {}
        }
      ]
    },
    {
      "cell_type": "code",
      "source": [
        "vaders = pd.DataFrame(res).T\n",
        "vaders = vaders.reset_index().rename(columns={'index': 'business_id'})\n",
        "vaders = vaders.merge(data, how='left')"
      ],
      "metadata": {
        "id": "HNii8wUK_uRV"
      },
      "id": "HNii8wUK_uRV",
      "execution_count": null,
      "outputs": []
    },
    {
      "cell_type": "code",
      "source": [
        "# Now we have sentiment score and metadata\n",
        "vaders.head()"
      ],
      "metadata": {
        "id": "1FpUPWte_39E",
        "colab": {
          "base_uri": "https://localhost:8080/",
          "height": 739
        },
        "outputId": "8fc2128e-87c3-4379-bee0-73983997b8db"
      },
      "id": "1FpUPWte_39E",
      "execution_count": null,
      "outputs": [
        {
          "output_type": "execute_result",
          "data": {
            "text/plain": [
              "              business_id    neg    neu    pos  compound        date  \\\n",
              "0  9yKzy9PApeiPPOUJEtnvkg  0.015  0.687  0.298    0.9950  2011-01-26   \n",
              "1  ZRJwVLyzEJq1VAihDhYiow  0.049  0.741  0.210    0.9943  2011-07-27   \n",
              "2  6oRAC4uyJCsJl1X0WZpVSA  0.000  0.523  0.477    0.8988  2012-06-14   \n",
              "3  _1QQZuf4zZOyFCvXc0o6Vg  0.000  0.793  0.207    0.9531  2010-05-27   \n",
              "4  6ozycU1RpktNG2-1BroVtw  0.029  0.636  0.334    0.9883  2012-01-05   \n",
              "\n",
              "                review_id  stars  \\\n",
              "0  fWKvX83p0-ka4JS3dc6E5A      5   \n",
              "1  IjZ33sJrzXqU-0X6U8NwyA      5   \n",
              "2  IESLBzqUCLdSzSqm0eCSxQ      4   \n",
              "3  G-WvGaISbqqaMHlNnByodA      5   \n",
              "4  1uJFq2r5QfJG_6ExMRCaGw      5   \n",
              "\n",
              "                                                text    type  \\\n",
              "0  My wife took me here on my birthday for breakf...  review   \n",
              "1  I have no idea why some people give bad review...  review   \n",
              "2  love the gyro plate. Rice is so good and I als...  review   \n",
              "3  Rosie, Dakota, and I LOVE Chaparral Dog Park!!...  review   \n",
              "4  General Manager Scott Petello is a good egg!!!...  review   \n",
              "\n",
              "                  user_id  cool  useful  funny  length  \n",
              "0  rLtl8ZkDX5vH5nAx9C3q5Q     2       5      0     889  \n",
              "1  0a2KyEL0d3Yb1V6aivbIuQ     0       0      0    1345  \n",
              "2  0hT2KtfLiobPvh6cDC8JQg     0       1      0      76  \n",
              "3  uZetl9T0NcROGOyFfughhg     1       2      0     419  \n",
              "4  vYmM4KTsC8ZfQBg-j5MWkw     0       0      0     469  "
            ],
            "text/html": [
              "\n",
              "  <div id=\"df-8698f986-4acd-4736-b786-61624f99276f\">\n",
              "    <div class=\"colab-df-container\">\n",
              "      <div>\n",
              "<style scoped>\n",
              "    .dataframe tbody tr th:only-of-type {\n",
              "        vertical-align: middle;\n",
              "    }\n",
              "\n",
              "    .dataframe tbody tr th {\n",
              "        vertical-align: top;\n",
              "    }\n",
              "\n",
              "    .dataframe thead th {\n",
              "        text-align: right;\n",
              "    }\n",
              "</style>\n",
              "<table border=\"1\" class=\"dataframe\">\n",
              "  <thead>\n",
              "    <tr style=\"text-align: right;\">\n",
              "      <th></th>\n",
              "      <th>business_id</th>\n",
              "      <th>neg</th>\n",
              "      <th>neu</th>\n",
              "      <th>pos</th>\n",
              "      <th>compound</th>\n",
              "      <th>date</th>\n",
              "      <th>review_id</th>\n",
              "      <th>stars</th>\n",
              "      <th>text</th>\n",
              "      <th>type</th>\n",
              "      <th>user_id</th>\n",
              "      <th>cool</th>\n",
              "      <th>useful</th>\n",
              "      <th>funny</th>\n",
              "      <th>length</th>\n",
              "    </tr>\n",
              "  </thead>\n",
              "  <tbody>\n",
              "    <tr>\n",
              "      <th>0</th>\n",
              "      <td>9yKzy9PApeiPPOUJEtnvkg</td>\n",
              "      <td>0.015</td>\n",
              "      <td>0.687</td>\n",
              "      <td>0.298</td>\n",
              "      <td>0.9950</td>\n",
              "      <td>2011-01-26</td>\n",
              "      <td>fWKvX83p0-ka4JS3dc6E5A</td>\n",
              "      <td>5</td>\n",
              "      <td>My wife took me here on my birthday for breakf...</td>\n",
              "      <td>review</td>\n",
              "      <td>rLtl8ZkDX5vH5nAx9C3q5Q</td>\n",
              "      <td>2</td>\n",
              "      <td>5</td>\n",
              "      <td>0</td>\n",
              "      <td>889</td>\n",
              "    </tr>\n",
              "    <tr>\n",
              "      <th>1</th>\n",
              "      <td>ZRJwVLyzEJq1VAihDhYiow</td>\n",
              "      <td>0.049</td>\n",
              "      <td>0.741</td>\n",
              "      <td>0.210</td>\n",
              "      <td>0.9943</td>\n",
              "      <td>2011-07-27</td>\n",
              "      <td>IjZ33sJrzXqU-0X6U8NwyA</td>\n",
              "      <td>5</td>\n",
              "      <td>I have no idea why some people give bad review...</td>\n",
              "      <td>review</td>\n",
              "      <td>0a2KyEL0d3Yb1V6aivbIuQ</td>\n",
              "      <td>0</td>\n",
              "      <td>0</td>\n",
              "      <td>0</td>\n",
              "      <td>1345</td>\n",
              "    </tr>\n",
              "    <tr>\n",
              "      <th>2</th>\n",
              "      <td>6oRAC4uyJCsJl1X0WZpVSA</td>\n",
              "      <td>0.000</td>\n",
              "      <td>0.523</td>\n",
              "      <td>0.477</td>\n",
              "      <td>0.8988</td>\n",
              "      <td>2012-06-14</td>\n",
              "      <td>IESLBzqUCLdSzSqm0eCSxQ</td>\n",
              "      <td>4</td>\n",
              "      <td>love the gyro plate. Rice is so good and I als...</td>\n",
              "      <td>review</td>\n",
              "      <td>0hT2KtfLiobPvh6cDC8JQg</td>\n",
              "      <td>0</td>\n",
              "      <td>1</td>\n",
              "      <td>0</td>\n",
              "      <td>76</td>\n",
              "    </tr>\n",
              "    <tr>\n",
              "      <th>3</th>\n",
              "      <td>_1QQZuf4zZOyFCvXc0o6Vg</td>\n",
              "      <td>0.000</td>\n",
              "      <td>0.793</td>\n",
              "      <td>0.207</td>\n",
              "      <td>0.9531</td>\n",
              "      <td>2010-05-27</td>\n",
              "      <td>G-WvGaISbqqaMHlNnByodA</td>\n",
              "      <td>5</td>\n",
              "      <td>Rosie, Dakota, and I LOVE Chaparral Dog Park!!...</td>\n",
              "      <td>review</td>\n",
              "      <td>uZetl9T0NcROGOyFfughhg</td>\n",
              "      <td>1</td>\n",
              "      <td>2</td>\n",
              "      <td>0</td>\n",
              "      <td>419</td>\n",
              "    </tr>\n",
              "    <tr>\n",
              "      <th>4</th>\n",
              "      <td>6ozycU1RpktNG2-1BroVtw</td>\n",
              "      <td>0.029</td>\n",
              "      <td>0.636</td>\n",
              "      <td>0.334</td>\n",
              "      <td>0.9883</td>\n",
              "      <td>2012-01-05</td>\n",
              "      <td>1uJFq2r5QfJG_6ExMRCaGw</td>\n",
              "      <td>5</td>\n",
              "      <td>General Manager Scott Petello is a good egg!!!...</td>\n",
              "      <td>review</td>\n",
              "      <td>vYmM4KTsC8ZfQBg-j5MWkw</td>\n",
              "      <td>0</td>\n",
              "      <td>0</td>\n",
              "      <td>0</td>\n",
              "      <td>469</td>\n",
              "    </tr>\n",
              "  </tbody>\n",
              "</table>\n",
              "</div>\n",
              "      <button class=\"colab-df-convert\" onclick=\"convertToInteractive('df-8698f986-4acd-4736-b786-61624f99276f')\"\n",
              "              title=\"Convert this dataframe to an interactive table.\"\n",
              "              style=\"display:none;\">\n",
              "        \n",
              "  <svg xmlns=\"http://www.w3.org/2000/svg\" height=\"24px\"viewBox=\"0 0 24 24\"\n",
              "       width=\"24px\">\n",
              "    <path d=\"M0 0h24v24H0V0z\" fill=\"none\"/>\n",
              "    <path d=\"M18.56 5.44l.94 2.06.94-2.06 2.06-.94-2.06-.94-.94-2.06-.94 2.06-2.06.94zm-11 1L8.5 8.5l.94-2.06 2.06-.94-2.06-.94L8.5 2.5l-.94 2.06-2.06.94zm10 10l.94 2.06.94-2.06 2.06-.94-2.06-.94-.94-2.06-.94 2.06-2.06.94z\"/><path d=\"M17.41 7.96l-1.37-1.37c-.4-.4-.92-.59-1.43-.59-.52 0-1.04.2-1.43.59L10.3 9.45l-7.72 7.72c-.78.78-.78 2.05 0 2.83L4 21.41c.39.39.9.59 1.41.59.51 0 1.02-.2 1.41-.59l7.78-7.78 2.81-2.81c.8-.78.8-2.07 0-2.86zM5.41 20L4 18.59l7.72-7.72 1.47 1.35L5.41 20z\"/>\n",
              "  </svg>\n",
              "      </button>\n",
              "      \n",
              "  <style>\n",
              "    .colab-df-container {\n",
              "      display:flex;\n",
              "      flex-wrap:wrap;\n",
              "      gap: 12px;\n",
              "    }\n",
              "\n",
              "    .colab-df-convert {\n",
              "      background-color: #E8F0FE;\n",
              "      border: none;\n",
              "      border-radius: 50%;\n",
              "      cursor: pointer;\n",
              "      display: none;\n",
              "      fill: #1967D2;\n",
              "      height: 32px;\n",
              "      padding: 0 0 0 0;\n",
              "      width: 32px;\n",
              "    }\n",
              "\n",
              "    .colab-df-convert:hover {\n",
              "      background-color: #E2EBFA;\n",
              "      box-shadow: 0px 1px 2px rgba(60, 64, 67, 0.3), 0px 1px 3px 1px rgba(60, 64, 67, 0.15);\n",
              "      fill: #174EA6;\n",
              "    }\n",
              "\n",
              "    [theme=dark] .colab-df-convert {\n",
              "      background-color: #3B4455;\n",
              "      fill: #D2E3FC;\n",
              "    }\n",
              "\n",
              "    [theme=dark] .colab-df-convert:hover {\n",
              "      background-color: #434B5C;\n",
              "      box-shadow: 0px 1px 3px 1px rgba(0, 0, 0, 0.15);\n",
              "      filter: drop-shadow(0px 1px 2px rgba(0, 0, 0, 0.3));\n",
              "      fill: #FFFFFF;\n",
              "    }\n",
              "  </style>\n",
              "\n",
              "      <script>\n",
              "        const buttonEl =\n",
              "          document.querySelector('#df-8698f986-4acd-4736-b786-61624f99276f button.colab-df-convert');\n",
              "        buttonEl.style.display =\n",
              "          google.colab.kernel.accessAllowed ? 'block' : 'none';\n",
              "\n",
              "        async function convertToInteractive(key) {\n",
              "          const element = document.querySelector('#df-8698f986-4acd-4736-b786-61624f99276f');\n",
              "          const dataTable =\n",
              "            await google.colab.kernel.invokeFunction('convertToInteractive',\n",
              "                                                     [key], {});\n",
              "          if (!dataTable) return;\n",
              "\n",
              "          const docLinkHtml = 'Like what you see? Visit the ' +\n",
              "            '<a target=\"_blank\" href=https://colab.research.google.com/notebooks/data_table.ipynb>data table notebook</a>'\n",
              "            + ' to learn more about interactive tables.';\n",
              "          element.innerHTML = '';\n",
              "          dataTable['output_type'] = 'display_data';\n",
              "          await google.colab.output.renderOutput(dataTable, element);\n",
              "          const docLink = document.createElement('div');\n",
              "          docLink.innerHTML = docLinkHtml;\n",
              "          element.appendChild(docLink);\n",
              "        }\n",
              "      </script>\n",
              "    </div>\n",
              "  </div>\n",
              "  "
            ]
          },
          "metadata": {},
          "execution_count": 96
        }
      ]
    },
    {
      "cell_type": "markdown",
      "source": [
        "## Plot VADER results"
      ],
      "metadata": {
        "id": "x2gDQU6l_-jh"
      },
      "id": "x2gDQU6l_-jh"
    },
    {
      "cell_type": "code",
      "source": [
        "ax = sns.barplot(data=vaders, x='stars', y='compound')\n",
        "ax.set_title('Compund Score by Yelp Star Review')\n",
        "plt.show()"
      ],
      "metadata": {
        "id": "53Yx12aZAAPk",
        "colab": {
          "base_uri": "https://localhost:8080/",
          "height": 295
        },
        "outputId": "55988728-2eb7-4b63-94c7-3205705d9986"
      },
      "id": "53Yx12aZAAPk",
      "execution_count": null,
      "outputs": [
        {
          "output_type": "display_data",
          "data": {
            "text/plain": [
              "<Figure size 432x288 with 1 Axes>"
            ],
            "image/png": "[encoded data removed]"
          },
          "metadata": {
            "needs_background": "light"
          }
        }
      ]
    },
    {
      "cell_type": "code",
      "source": [
        "fig, axs = plt.subplots(1, 3, figsize=(12, 3))\n",
        "sns.barplot(data=vaders, x='stars', y='pos', ax=axs[0])\n",
        "sns.barplot(data=vaders, x='stars', y='neu', ax=axs[1])\n",
        "sns.barplot(data=vaders, x='stars', y='neg', ax=axs[2])\n",
        "axs[0].set_title('Positive')\n",
        "axs[1].set_title('Neutral')\n",
        "axs[2].set_title('Negative')\n",
        "plt.tight_layout()\n",
        "plt.show()"
      ],
      "metadata": {
        "id": "6EXe7KBxAc1R",
        "colab": {
          "base_uri": "https://localhost:8080/",
          "height": 225
        },
        "outputId": "38fbd65d-c626-4084-9fe0-79cd6bb40f4a"
      },
      "id": "6EXe7KBxAc1R",
      "execution_count": null,
      "outputs": [
        {
          "output_type": "display_data",
          "data": {
            "text/plain": [
              "<Figure size 864x216 with 3 Axes>"
            ],
            "image/png": "[encoded data removed]"
          },
          "metadata": {
            "needs_background": "light"
          }
        }
      ]
    },
    {
      "cell_type": "markdown",
      "source": [
        "# Step 3. Roberta Pretrained Model\n",
        "\n",
        "- Use a model trained of a large corpus of data.\n",
        "- Transformer model accounts for the words but also the context related to other words."
      ],
      "metadata": {
        "id": "AWBF71SOAl8y"
      },
      "id": "AWBF71SOAl8y"
    },
    {
      "cell_type": "code",
      "source": [
        "# !pip install transformers\n",
        "# from transformers import AutoTokenizer\n",
        "# from transformers import AutoModelForSequenceClassification\n",
        "# from scipy.special import softmax\n",
        "# MODEL = f\"cardiffnlp/twitter-roberta-base-sentiment-latest\"\n",
        "# tokenizer = AutoTokenizer.from_pretrained(MODEL)\n",
        "# model = AutoModelForSequenceClassification.from_pretrained(MODEL)"
      ],
      "metadata": {
        "id": "HUjSNqDfAqcd"
      },
      "id": "HUjSNqDfAqcd",
      "execution_count": null,
      "outputs": []
    },
    {
      "cell_type": "code",
      "source": [
        "# VADER results on example\n",
        "print(example)\n",
        "sia.polarity_scores(example)"
      ],
      "metadata": {
        "id": "ndgGLZNOAwu-",
        "colab": {
          "base_uri": "https://localhost:8080/"
        },
        "outputId": "320c6033-de97-4032-9bd8-d26014944460"
      },
      "id": "ndgGLZNOAwu-",
      "execution_count": null,
      "outputs": [
        {
          "output_type": "stream",
          "name": "stdout",
          "text": [
            "Cliff notes\n",
            "- Cheap: $1-2/plate\n",
            "- Fast: It's ready-to-go and on a conveyor\n",
            "- Acceptable quality: I'm here weekly and haven't gotten sick lol\n",
            "\n",
            "This place is definitely good for what it is, \"it\" being a budget-friendly sushi place that's great for a quick bite.  In a response to the lower-rating reviews stating how the food is just okay at best or authentic or blah blah blah, well think of it like wal-mart vs. *inserthighendretailerhere*.  This place has a business model based on selling in large volumes (hence the low prices like wal-mart) so they're gonna have to \"reduce costs\" somehow (so-so quality food, not-so-attentive staff, and slightly smaller than average portions), but it's still a solid bang-for-your-buck kinda place.\n",
            "\n",
            "On top of this, I can be in and out quickly since everything is already prepared, perfect for those quick 30 min lunch breaks.  All that's required is for you to grab it off the conveyor (depending on whether or not all the items you want are on the conveyor at the time). \n",
            "\n",
            "I've never had issues with seating, but do not make a point to go during peak hours and usually go with a small party (2-4 people).\n",
            "\n",
            "For those claiming to be \"left to fend for themselves\" due to an inattentive staff, most of your sushi-related inquiries can be answered by this thing called \"the menu\" that sits on the counters.  See, this miraculous piece of technology contains things referred to as \"descriptions\" on them that help to inform you about the sushi going round-and-round before you.  Furthermore, there's even a pricing guide based on the color code of the plates to assist you further! WOW! Lol wtf do people expect for $1-2 plates of sushi?  Someone to hold your hand? LOLOLOLOLOLOLOL DIAF\n",
            "\n",
            "And the cherry on top? $4 large japanese beers and $5 sake bombs! HELL YEAH!\n"
          ]
        },
        {
          "output_type": "execute_result",
          "data": {
            "text/plain": [
              "{'neg': 0.056, 'neu': 0.77, 'pos': 0.173, 'compound': 0.9889}"
            ]
          },
          "metadata": {},
          "execution_count": 100
        }
      ]
    },
    {
      "cell_type": "code",
      "source": [
        "# Run for Roberta Model\n",
        "# using a pre-trained RoBERTa model to classify the sentiment of a text\n",
        "encoded_text = tokenizer(example, return_tensors='pt')\n",
        "output = model(**encoded_text)\n",
        "scores = output[0][0].detach().numpy()\n",
        "scores = softmax(scores)\n",
        "scores_dict = {\n",
        "    'roberta_neg' : scores[0],\n",
        "    'roberta_neu' : scores[1],\n",
        "    'roberta_pos' : scores[2]\n",
        "}\n",
        "print(scores_dict)"
      ],
      "metadata": {
        "id": "qD32PnQTAzzw",
        "colab": {
          "base_uri": "https://localhost:8080/"
        },
        "outputId": "1f99f20e-cc3f-4494-a131-7bad571eee43"
      },
      "id": "qD32PnQTAzzw",
      "execution_count": null,
      "outputs": [
        {
          "output_type": "stream",
          "name": "stdout",
          "text": [
            "{'roberta_neg': 0.024074974, 'roberta_neu': 0.30235413, 'roberta_pos': 0.67357093}\n"
          ]
        }
      ]
    },
    {
      "cell_type": "code",
      "source": [
        "# This is a Python function called polarity_scores_roberta that takes\n",
        "# a string of text as input and returns a dictionary of sentiment scores for that text\n",
        "def polarity_scores_roberta(example):\n",
        "    encoded_text = tokenizer(example, return_tensors='pt')\n",
        "    output = model(**encoded_text)\n",
        "    scores = output[0][0].detach().numpy()\n",
        "    scores = softmax(scores)\n",
        "    scores_dict = {\n",
        "        'roberta_neg' : scores[0],\n",
        "        'roberta_neu' : scores[1],\n",
        "        'roberta_pos' : scores[2]\n",
        "    }\n",
        "    return scores_dict"
      ],
      "metadata": {
        "id": "dP0Dy74HBsU2"
      },
      "id": "dP0Dy74HBsU2",
      "execution_count": null,
      "outputs": []
    },
    {
      "cell_type": "code",
      "source": [
        "# iterates over a pandas DataFrame called data, \n",
        "# which presumably contains columns for text and business IDs.\n",
        "res = {}\n",
        "for i, row in tqdm(data.iterrows(), total=len(data)):\n",
        "    try:\n",
        "        text = row['text']\n",
        "        myid = row['business_id']\n",
        "        vader_result = sia.polarity_scores(text)\n",
        "        vader_result_rename = {}\n",
        "        for key, value in vader_result.items():\n",
        "            vader_result_rename[f\"vader_{key}\"] = value\n",
        "        roberta_result = polarity_scores_roberta(text)\n",
        "        both = {**vader_result_rename, **roberta_result}\n",
        "        res[myid] = both\n",
        "    except RuntimeError:\n",
        "        print(f'Broke for id {myid}')"
      ],
      "metadata": {
        "id": "s5R32ShJBuyj",
        "colab": {
          "base_uri": "https://localhost:8080/",
          "height": 317,
          "referenced_widgets": [
            "cbbfbcea56464e02b966949810ecd75e",
            "7dd24aa87d0c4e5d98df54078827d42f",
            "ee8810c69d6e4f92a3947a148bf3263f",
            "92cf982cf6074fcd9757db353c15e235",
            "f02cd7ae40904a3ea394da1ea0ce6517",
            "784c1c2ea64d49f081a6222f898d31b4",
            "2947d76bb91b4e42bac56d620c12504b",
            "a2ce5558252743fea4d584002d6991ff",
            "30121ffbf30d45c89f5a633c734f6e71",
            "4984ad4595ba477ebe2ad076fa0f6208",
            "37ddd5ae82764476b8158f32fa310c2b"
          ]
        },
        "outputId": "d23c8dd6-e657-4484-e704-7237c4c8b815"
      },
      "id": "s5R32ShJBuyj",
      "execution_count": null,
      "outputs": [
        {
          "output_type": "display_data",
          "data": {
            "text/plain": [
              "  0%|          | 0/500 [00:00<?, ?it/s]"
            ],
            "application/vnd.jupyter.widget-view+json": {
              "version_major": 2,
              "version_minor": 0,
              "model_id": "cbbfbcea56464e02b966949810ecd75e"
            }
          },
          "metadata": {}
        },
        {
          "output_type": "stream",
          "name": "stdout",
          "text": [
            "Broke for id 7SO_rX1F6rQEl-5s3wZxgQ\n",
            "Broke for id FCcFT610nQBVcRdY-devQA\n",
            "Broke for id d7_jkx0VPx3uHsUl18iHMQ\n",
            "Broke for id LzpR_jE6VIutJ08s2cdRrw\n",
            "Broke for id 1621ir5mjVgbHwxCbMAEjg\n",
            "Broke for id l3yL2rQ6PoFBQ06RLczn9w\n",
            "Broke for id EGiGWZp_zSqdeftiFQ7MbA\n",
            "Broke for id vxPPpj5jJKO8DtapF5S-NQ\n",
            "Broke for id qjmCVYkwP-HDa35jwYucbQ\n",
            "Broke for id bO2rQLEntQLcg675LjEqaA\n",
            "Broke for id 3GAPcBG8SowgrpS6UHlDeQ\n",
            "Broke for id Xq9tkiHhyN_aBFswFeGLvA\n",
            "Broke for id c1yGkETheht_1vjda7G5sA\n",
            "Broke for id RtApx92iFX4n-e1VlQlkmQ\n",
            "Broke for id XTIIAZspxssIF7WenlXmrA\n"
          ]
        }
      ]
    },
    {
      "cell_type": "code",
      "source": [
        "results_df = pd.DataFrame(res).T\n",
        "results_df = results_df.reset_index().rename(columns={'index': 'business_id'})\n",
        "results_df = results_df.merge(data, how='left')"
      ],
      "metadata": {
        "id": "5lVImPH3CoQw"
      },
      "id": "5lVImPH3CoQw",
      "execution_count": null,
      "outputs": []
    },
    {
      "cell_type": "markdown",
      "source": [
        "# Step 3. Compare Scores between models"
      ],
      "metadata": {
        "id": "bqa5k9wBC8pt"
      },
      "id": "bqa5k9wBC8pt"
    },
    {
      "cell_type": "code",
      "source": [
        "# take a look at the column of the df\n",
        "results_df.columns"
      ],
      "metadata": {
        "id": "S7yan8NPC13s",
        "colab": {
          "base_uri": "https://localhost:8080/"
        },
        "outputId": "6df22b40-bbc9-4535-d6c7-1cc5d93d6f3d"
      },
      "id": "S7yan8NPC13s",
      "execution_count": null,
      "outputs": [
        {
          "output_type": "execute_result",
          "data": {
            "text/plain": [
              "Index(['business_id', 'vader_neg', 'vader_neu', 'vader_pos', 'vader_compound',\n",
              "       'roberta_neg', 'roberta_neu', 'roberta_pos', 'date', 'review_id',\n",
              "       'stars', 'text', 'type', 'user_id', 'cool', 'useful', 'funny',\n",
              "       'length'],\n",
              "      dtype='object')"
            ]
          },
          "metadata": {},
          "execution_count": 106
        }
      ]
    },
    {
      "cell_type": "code",
      "source": [
        "# The pair plot is a matrix of scatter plots and histograms, where each variable \n",
        "# in the DataFrame is plotted against every other variable. \n",
        "# The purpose of the plot is to visualize the relationship \n",
        "# between different sentiment scores generated by Vader and RoBERTa models.\n",
        "sns.pairplot(data=results_df,\n",
        "             vars=['vader_neg', 'vader_neu', 'vader_pos',\n",
        "                  'roberta_neg', 'roberta_neu', 'roberta_pos'],\n",
        "            hue='stars',\n",
        "            palette='tab10')\n",
        "plt.show()"
      ],
      "metadata": {
        "id": "TIECcreiDBti",
        "colab": {
          "base_uri": "https://localhost:8080/",
          "height": 1000
        },
        "outputId": "bd2bb0bd-1d69-4778-df8f-52bf5cf8d6d1"
      },
      "id": "TIECcreiDBti",
      "execution_count": null,
      "outputs": [
        {
          "output_type": "display_data",
          "data": {
            "text/plain": [
              "<Figure size 1122.38x1080 with 42 Axes>"
            ],
            "image/png": "[encoded data removed]"
          },
          "metadata": {
            "needs_background": "light"
          }
        }
      ]
    },
    {
      "cell_type": "markdown",
      "source": [
        "# Step 4: Review Examples\n",
        "\n",
        "## Positive sentiment 1-Star Reviews\n",
        "\n",
        "Lets look at some examples where the model scoring and review score differ the most."
      ],
      "metadata": {
        "id": "C8eJQNb5DKai"
      },
      "id": "C8eJQNb5DKai"
    },
    {
      "cell_type": "code",
      "source": [
        "# retrieves the text of the row with the highest positive sentiment score \n",
        "# using the RoBERTa model among the rows that have a star rating of 1.\n",
        "results_df.query('stars == 1') \\\n",
        "    .sort_values('roberta_pos', ascending=False)['text'].values[0]"
      ],
      "metadata": {
        "id": "MQT07w9nDOil",
        "colab": {
          "base_uri": "https://localhost:8080/",
          "height": 143
        },
        "outputId": "2801ce90-fff1-419e-ca0e-2646397920a7"
      },
      "id": "MQT07w9nDOil",
      "execution_count": null,
      "outputs": [
        {
          "output_type": "execute_result",
          "data": {
            "text/plain": [
              "\"Yikes, reading other reviews I realize my bad experience wasn't unique. As a server I make a very laid back customer. I like pretty much everything I eat and don't require a lot of attention from the waiter. \\n\\nLa Piccola Cucina would benefit from just one extra person in the front of the house. Our guy, though adorable and friendly, was too busy to refill our drinks and to remember to bring our appetizer (though charged us for it). The ahi tuna (highly recommended over the other fish options he said) was so overcooked it was the color and consistency of chicken. Like other reviewers mentioned, he was frantic and made that clear to every customer. At one point I even saw him in the kitchen cooking - they need another person! \\n\\nI left super stressed out from the experience, which is very, very unusual for me. You can either have bad service or bad food, but not both.\""
            ],
            "application/vnd.google.colaboratory.intrinsic+json": {
              "type": "string"
            }
          },
          "metadata": {},
          "execution_count": 108
        }
      ]
    },
    {
      "cell_type": "code",
      "source": [
        "# retrieves the text of the row with the highest positive sentiment score \n",
        "# using the Vader model among the rows that have a star rating of 1.\n",
        "results_df.query('stars == 1') \\\n",
        "    .sort_values('vader_pos', ascending=False)['text'].values[0]"
      ],
      "metadata": {
        "id": "0cXKoPz1DQGY",
        "colab": {
          "base_uri": "https://localhost:8080/",
          "height": 143
        },
        "outputId": "501e03e9-fc6f-4dc8-b615-1eb14b7f0d7e"
      },
      "id": "0cXKoPz1DQGY",
      "execution_count": null,
      "outputs": [
        {
          "output_type": "execute_result",
          "data": {
            "text/plain": [
              "\"Yikes, reading other reviews I realize my bad experience wasn't unique. As a server I make a very laid back customer. I like pretty much everything I eat and don't require a lot of attention from the waiter. \\n\\nLa Piccola Cucina would benefit from just one extra person in the front of the house. Our guy, though adorable and friendly, was too busy to refill our drinks and to remember to bring our appetizer (though charged us for it). The ahi tuna (highly recommended over the other fish options he said) was so overcooked it was the color and consistency of chicken. Like other reviewers mentioned, he was frantic and made that clear to every customer. At one point I even saw him in the kitchen cooking - they need another person! \\n\\nI left super stressed out from the experience, which is very, very unusual for me. You can either have bad service or bad food, but not both.\""
            ],
            "application/vnd.google.colaboratory.intrinsic+json": {
              "type": "string"
            }
          },
          "metadata": {},
          "execution_count": 109
        }
      ]
    },
    {
      "cell_type": "markdown",
      "source": [
        "## Negative sentiment 5-Star Reviews"
      ],
      "metadata": {
        "id": "bhOtoLLkDRrl"
      },
      "id": "bhOtoLLkDRrl"
    },
    {
      "cell_type": "code",
      "source": [
        "# retrieves the text of the row with the highest negative sentiment score \n",
        "# using the RoBERTa model among the rows that have a star rating of 5.\n",
        "results_df.query('stars == 5') \\\n",
        "    .sort_values('roberta_neg', ascending=False)['text'].values[0]"
      ],
      "metadata": {
        "id": "csdx96GFDYuG",
        "colab": {
          "base_uri": "https://localhost:8080/",
          "height": 143
        },
        "outputId": "13e5e91f-d804-4e86-ac3a-f044e09128c8"
      },
      "id": "csdx96GFDYuG",
      "execution_count": null,
      "outputs": [
        {
          "output_type": "execute_result",
          "data": {
            "text/plain": [
              "\"I honestly have only positive things to say about Postino's since every one of my visits here has been very pleasant. From the valet who is running his ass off to the food and everything in between, this place does it all right! If you go here hungry, you should know that your options are basically a panini, a salad or some bruschetta. I've had a little bit of everything and for the value and quality you can't go wrong the the bruschetta. I recently determined my favorite to be the ricotta, dates and pistachio but a close second is the salami and pesto.\\n\\nWine by the glass can be a bit steep so if you're planning to stay for a bit and can agree on a style with your company, you might be better off getting a bottle. A bottle is pretty much 3x the price of a glass so you end up getting 1 1/2 glasses extra. Bonus!\\n\\nSomeday, I'll actually take advantage of their $20 deal for wine and bruschetta!\""
            ],
            "application/vnd.google.colaboratory.intrinsic+json": {
              "type": "string"
            }
          },
          "metadata": {},
          "execution_count": 110
        }
      ]
    },
    {
      "cell_type": "code",
      "source": [
        "# retrieves the text of the row with the highest negative sentiment score \n",
        "# using the Vader model among the rows that have a star rating of 5.\n",
        "results_df.query('stars == 5') \\\n",
        "    .sort_values('vader_neg', ascending=False)['text'].values[0]"
      ],
      "metadata": {
        "id": "VXw0Lka1DaSC",
        "colab": {
          "base_uri": "https://localhost:8080/",
          "height": 143
        },
        "outputId": "c0027096-dcdf-427d-913d-86848d762a93"
      },
      "id": "VXw0Lka1DaSC",
      "execution_count": null,
      "outputs": [
        {
          "output_type": "execute_result",
          "data": {
            "text/plain": [
              "\"I honestly have only positive things to say about Postino's since every one of my visits here has been very pleasant. From the valet who is running his ass off to the food and everything in between, this place does it all right! If you go here hungry, you should know that your options are basically a panini, a salad or some bruschetta. I've had a little bit of everything and for the value and quality you can't go wrong the the bruschetta. I recently determined my favorite to be the ricotta, dates and pistachio but a close second is the salami and pesto.\\n\\nWine by the glass can be a bit steep so if you're planning to stay for a bit and can agree on a style with your company, you might be better off getting a bottle. A bottle is pretty much 3x the price of a glass so you end up getting 1 1/2 glasses extra. Bonus!\\n\\nSomeday, I'll actually take advantage of their $20 deal for wine and bruschetta!\""
            ],
            "application/vnd.google.colaboratory.intrinsic+json": {
              "type": "string"
            }
          },
          "metadata": {},
          "execution_count": 111
        }
      ]
    },
    {
      "cell_type": "markdown",
      "source": [
        "# Extra: The Transformers Pipeline\n",
        "Quick & easy way to run sentiment predictions"
      ],
      "metadata": {
        "id": "jJIaH98-DcIe"
      },
      "id": "jJIaH98-DcIe"
    },
    {
      "cell_type": "code",
      "source": [
        "from transformers import pipeline\n",
        "# creates a sentiment analysis pipeline using the Hugging Face Transformers library. \n",
        "# The pipeline() function is used to create a pre-trained sentiment analysis model \n",
        "# that can be used to classify the sentiment of input text.\n",
        "sent_pipeline = pipeline(\"sentiment-analysis\")"
      ],
      "metadata": {
        "id": "LeUyJutiDfbv",
        "colab": {
          "base_uri": "https://localhost:8080/",
          "height": 201,
          "referenced_widgets": [
            "3b0503592f794c2a92900994511b9fa9",
            "f9d0a415b8de4bc9a3f93888b4566a4a",
            "4cd6ec9a8d2a406395ee1e3c7ec083e9",
            "87458993528c4e8e9fa5ca0886a7718c",
            "f6af3c46fcc34b509578b8ba2bffce59",
            "ab70bfb59a5343f4aecf2ec9ebda199a",
            "02311ff6bde94bbbb10ff0eb78ee7a0a",
            "57ac8b9599dc4eb5bf9c1d8efc40a881",
            "c33a6ea1e7be4b37bccdce28d619b731",
            "a6c32bdbcfe0425ebad3c595445d9b8a",
            "2617de104d9940a8a0fbacfaac251385",
            "2a2f9cb6deab4c428efb31008308e068",
            "46513054476342bdaf88e989ed5caf71",
            "7ab59080c3b5426581cf76c3734a367c",
            "0e8d3d02eb5645159319df486eb8e5be",
            "e4cb8154c3c64732bc0401ae06b2fa3e",
            "a34060492fa04ba29d909799e94552e7",
            "6d873ce261b74f9caace61af7093d81f",
            "2d431625d817449988ce2cc52f49f228",
            "b11a0bb81dba4754817d72a8b34a5f00",
            "fad288f861704002ba7297e84c869b8d",
            "3309d7fc4eff4267bbee7b67f74e48b1",
            "a012447ac81c4f49ab4ec90521f880ac",
            "a9a686af9d5f4924a0667b9d5d8dc385",
            "011f95900c094718a13a1fa9ccfd4c58",
            "688b65def9314ac7bd292079480e5d7a",
            "e37249176c3b4f0eb4e7819a6c6dc3e2",
            "b08672fae80645beb639c1a845569f13",
            "4b1ea1ec123b4462aba9b8547605cdcc",
            "97519898b7454a7a8793d1b4d7dfe24e",
            "4cf1f5bcd9cf439db5150ce4b3542316",
            "3b2671f03a044335a79dc84e91a8169f",
            "3f384ca09c5b4c90be98d4552de85838",
            "6e007999743d4b83b7720a3f37790ed0",
            "d43d7208c7874bfd8eb5ab989aebaf99",
            "3be3287e02cf4dd09e3f5eaff226b043",
            "53ebdede44bc4ae79c61d9ea4f620feb",
            "b66be7d7c06e4606aef13d7489dba760",
            "2a90e823ab9f4f4cb62cefb845a67c05",
            "cf287ce050ac471783b67915ecc1270b",
            "3f828c4086644d6dae73b5d921568123",
            "fdf9060b68674003a45d40ae9f8a4370",
            "e82a18acbf514c5c902234c4f5744b67",
            "5c444f1296b94aa197869046c35abfa6"
          ]
        },
        "outputId": "5746ae1e-1b23-4562-a0aa-8ff0682f4ad9"
      },
      "id": "LeUyJutiDfbv",
      "execution_count": null,
      "outputs": [
        {
          "output_type": "stream",
          "name": "stderr",
          "text": [
            "No model was supplied, defaulted to distilbert-base-uncased-finetuned-sst-2-english and revision af0f99b (https://huggingface.co/distilbert-base-uncased-finetuned-sst-2-english).\n",
            "Using a pipeline without specifying a model name and revision in production is not recommended.\n"
          ]
        },
        {
          "output_type": "display_data",
          "data": {
            "text/plain": [
              "Downloading (…)lve/main/config.json:   0%|          | 0.00/629 [00:00<?, ?B/s]"
            ],
            "application/vnd.jupyter.widget-view+json": {
              "version_major": 2,
              "version_minor": 0,
              "model_id": "3b0503592f794c2a92900994511b9fa9"
            }
          },
          "metadata": {}
        },
        {
          "output_type": "display_data",
          "data": {
            "text/plain": [
              "Downloading pytorch_model.bin:   0%|          | 0.00/268M [00:00<?, ?B/s]"
            ],
            "application/vnd.jupyter.widget-view+json": {
              "version_major": 2,
              "version_minor": 0,
              "model_id": "2a2f9cb6deab4c428efb31008308e068"
            }
          },
          "metadata": {}
        },
        {
          "output_type": "display_data",
          "data": {
            "text/plain": [
              "Downloading (…)okenizer_config.json:   0%|          | 0.00/48.0 [00:00<?, ?B/s]"
            ],
            "application/vnd.jupyter.widget-view+json": {
              "version_major": 2,
              "version_minor": 0,
              "model_id": "a012447ac81c4f49ab4ec90521f880ac"
            }
          },
          "metadata": {}
        },
        {
          "output_type": "display_data",
          "data": {
            "text/plain": [
              "Downloading (…)solve/main/vocab.txt:   0%|          | 0.00/232k [00:00<?, ?B/s]"
            ],
            "application/vnd.jupyter.widget-view+json": {
              "version_major": 2,
              "version_minor": 0,
              "model_id": "6e007999743d4b83b7720a3f37790ed0"
            }
          },
          "metadata": {}
        }
      ]
    },
    {
      "cell_type": "code",
      "source": [
        "# something positive\n",
        "sent_pipeline('I love sentiment analysis!')"
      ],
      "metadata": {
        "id": "OnVgftYXDg_T",
        "colab": {
          "base_uri": "https://localhost:8080/"
        },
        "outputId": "a536b6d0-72fa-4916-bed7-feb97faee324"
      },
      "id": "OnVgftYXDg_T",
      "execution_count": null,
      "outputs": [
        {
          "output_type": "execute_result",
          "data": {
            "text/plain": [
              "[{'label': 'POSITIVE', 'score': 0.9997853636741638}]"
            ]
          },
          "metadata": {},
          "execution_count": 113
        }
      ]
    },
    {
      "cell_type": "code",
      "source": [
        "# something negative\n",
        "sent_pipeline('booo')"
      ],
      "metadata": {
        "id": "nUDbHqRFDjzO",
        "colab": {
          "base_uri": "https://localhost:8080/"
        },
        "outputId": "ddca9af2-2366-4376-a556-facefe9b2908"
      },
      "id": "nUDbHqRFDjzO",
      "execution_count": null,
      "outputs": [
        {
          "output_type": "execute_result",
          "data": {
            "text/plain": [
              "[{'label': 'NEGATIVE', 'score': 0.9936267137527466}]"
            ]
          },
          "metadata": {},
          "execution_count": 114
        }
      ]
    },
    {
      "cell_type": "markdown",
      "source": [
        "# The End"
      ],
      "metadata": {
        "id": "jXY7unKKDlyt"
      },
      "id": "jXY7unKKDlyt"
    }
  ],
  "metadata": {
    "kernelspec": {
      "display_name": "Python 3 (ipykernel)",
      "language": "python",
      "name": "python3"
    },
    "language_info": {
      "codemirror_mode": {
        "name": "ipython",
        "version": 3
      },
      "file_extension": ".py",
      "mimetype": "text/x-python",
      "name": "python",
      "nbconvert_exporter": "python",
      "pygments_lexer": "ipython3",
      "version": "3.9.12"
    },
    "colab": {
      "provenance": [],
      "include_colab_link": true
    },
    "widgets": {
      "application/vnd.jupyter.widget-state+json": {
        "2b4253ddfd7f4d858a1ba4639457887c": {
          "model_module": "@jupyter-widgets/controls",
          "model_name": "HBoxModel",
          "model_module_version": "1.5.0",
          "state": {
            "_dom_classes": [],
            "_model_module": "@jupyter-widgets/controls",
            "_model_module_version": "1.5.0",
            "_model_name": "HBoxModel",
            "_view_count": null,
            "_view_module": "@jupyter-widgets/controls",
            "_view_module_version": "1.5.0",
            "_view_name": "HBoxView",
            "box_style": "",
            "children": [
              "IPY_MODEL_dab3a251557b47ddbb89e59b2f3def33",
              "IPY_MODEL_7cbb098fc70c4e8489ae8ba3b5557808",
              "IPY_MODEL_02e798a0544f4f858459177641297ad4"
            ],
            "layout": "IPY_MODEL_90353c5ab2ad473cb18e16d2671cb1ce"
          }
        },
        "dab3a251557b47ddbb89e59b2f3def33": {
          "model_module": "@jupyter-widgets/controls",
          "model_name": "HTMLModel",
          "model_module_version": "1.5.0",
          "state": {
            "_dom_classes": [],
            "_model_module": "@jupyter-widgets/controls",
            "_model_module_version": "1.5.0",
            "_model_name": "HTMLModel",
            "_view_count": null,
            "_view_module": "@jupyter-widgets/controls",
            "_view_module_version": "1.5.0",
            "_view_name": "HTMLView",
            "description": "",
            "description_tooltip": null,
            "layout": "IPY_MODEL_ccd50e7fd45a457d9832d7cc7a9c32b8",
            "placeholder": "​",
            "style": "IPY_MODEL_2b86e4b516cb4835ae41db89d027960f",
            "value": "100%"
          }
        },
        "7cbb098fc70c4e8489ae8ba3b5557808": {
          "model_module": "@jupyter-widgets/controls",
          "model_name": "FloatProgressModel",
          "model_module_version": "1.5.0",
          "state": {
            "_dom_classes": [],
            "_model_module": "@jupyter-widgets/controls",
            "_model_module_version": "1.5.0",
            "_model_name": "FloatProgressModel",
            "_view_count": null,
            "_view_module": "@jupyter-widgets/controls",
            "_view_module_version": "1.5.0",
            "_view_name": "ProgressView",
            "bar_style": "success",
            "description": "",
            "description_tooltip": null,
            "layout": "IPY_MODEL_e2881215e9244f7391ada310f22c6243",
            "max": 500,
            "min": 0,
            "orientation": "horizontal",
            "style": "IPY_MODEL_366abbde5d124bfb86b6456b787e2885",
            "value": 500
          }
        },
        "02e798a0544f4f858459177641297ad4": {
          "model_module": "@jupyter-widgets/controls",
          "model_name": "HTMLModel",
          "model_module_version": "1.5.0",
          "state": {
            "_dom_classes": [],
            "_model_module": "@jupyter-widgets/controls",
            "_model_module_version": "1.5.0",
            "_model_name": "HTMLModel",
            "_view_count": null,
            "_view_module": "@jupyter-widgets/controls",
            "_view_module_version": "1.5.0",
            "_view_name": "HTMLView",
            "description": "",
            "description_tooltip": null,
            "layout": "IPY_MODEL_888900164a864faca49f74f8de536260",
            "placeholder": "​",
            "style": "IPY_MODEL_f6020dd9920b4fe99864bf5476f15da4",
            "value": " 500/500 [00:03&lt;00:00, 103.36it/s]"
          }
        },
        "90353c5ab2ad473cb18e16d2671cb1ce": {
          "model_module": "@jupyter-widgets/base",
          "model_name": "LayoutModel",
          "model_module_version": "1.2.0",
          "state": {
            "_model_module": "@jupyter-widgets/base",
            "_model_module_version": "1.2.0",
            "_model_name": "LayoutModel",
            "_view_count": null,
            "_view_module": "@jupyter-widgets/base",
            "_view_module_version": "1.2.0",
            "_view_name": "LayoutView",
            "align_content": null,
            "align_items": null,
            "align_self": null,
            "border": null,
            "bottom": null,
            "display": null,
            "flex": null,
            "flex_flow": null,
            "grid_area": null,
            "grid_auto_columns": null,
            "grid_auto_flow": null,
            "grid_auto_rows": null,
            "grid_column": null,
            "grid_gap": null,
            "grid_row": null,
            "grid_template_areas": null,
            "grid_template_columns": null,
            "grid_template_rows": null,
            "height": null,
            "justify_content": null,
            "justify_items": null,
            "left": null,
            "margin": null,
            "max_height": null,
            "max_width": null,
            "min_height": null,
            "min_width": null,
            "object_fit": null,
            "object_position": null,
            "order": null,
            "overflow": null,
            "overflow_x": null,
            "overflow_y": null,
            "padding": null,
            "right": null,
            "top": null,
            "visibility": null,
            "width": null
          }
        },
        "ccd50e7fd45a457d9832d7cc7a9c32b8": {
          "model_module": "@jupyter-widgets/base",
          "model_name": "LayoutModel",
          "model_module_version": "1.2.0",
          "state": {
            "_model_module": "@jupyter-widgets/base",
            "_model_module_version": "1.2.0",
            "_model_name": "LayoutModel",
            "_view_count": null,
            "_view_module": "@jupyter-widgets/base",
            "_view_module_version": "1.2.0",
            "_view_name": "LayoutView",
            "align_content": null,
            "align_items": null,
            "align_self": null,
            "border": null,
            "bottom": null,
            "display": null,
            "flex": null,
            "flex_flow": null,
            "grid_area": null,
            "grid_auto_columns": null,
            "grid_auto_flow": null,
            "grid_auto_rows": null,
            "grid_column": null,
            "grid_gap": null,
            "grid_row": null,
            "grid_template_areas": null,
            "grid_template_columns": null,
            "grid_template_rows": null,
            "height": null,
            "justify_content": null,
            "justify_items": null,
            "left": null,
            "margin": null,
            "max_height": null,
            "max_width": null,
            "min_height": null,
            "min_width": null,
            "object_fit": null,
            "object_position": null,
            "order": null,
            "overflow": null,
            "overflow_x": null,
            "overflow_y": null,
            "padding": null,
            "right": null,
            "top": null,
            "visibility": null,
            "width": null
          }
        },
        "2b86e4b516cb4835ae41db89d027960f": {
          "model_module": "@jupyter-widgets/controls",
          "model_name": "DescriptionStyleModel",
          "model_module_version": "1.5.0",
          "state": {
            "_model_module": "@jupyter-widgets/controls",
            "_model_module_version": "1.5.0",
            "_model_name": "DescriptionStyleModel",
            "_view_count": null,
            "_view_module": "@jupyter-widgets/base",
            "_view_module_version": "1.2.0",
            "_view_name": "StyleView",
            "description_width": ""
          }
        },
        "e2881215e9244f7391ada310f22c6243": {
          "model_module": "@jupyter-widgets/base",
          "model_name": "LayoutModel",
          "model_module_version": "1.2.0",
          "state": {
            "_model_module": "@jupyter-widgets/base",
            "_model_module_version": "1.2.0",
            "_model_name": "LayoutModel",
            "_view_count": null,
            "_view_module": "@jupyter-widgets/base",
            "_view_module_version": "1.2.0",
            "_view_name": "LayoutView",
            "align_content": null,
            "align_items": null,
            "align_self": null,
            "border": null,
            "bottom": null,
            "display": null,
            "flex": null,
            "flex_flow": null,
            "grid_area": null,
            "grid_auto_columns": null,
            "grid_auto_flow": null,
            "grid_auto_rows": null,
            "grid_column": null,
            "grid_gap": null,
            "grid_row": null,
            "grid_template_areas": null,
            "grid_template_columns": null,
            "grid_template_rows": null,
            "height": null,
            "justify_content": null,
            "justify_items": null,
            "left": null,
            "margin": null,
            "max_height": null,
            "max_width": null,
            "min_height": null,
            "min_width": null,
            "object_fit": null,
            "object_position": null,
            "order": null,
            "overflow": null,
            "overflow_x": null,
            "overflow_y": null,
            "padding": null,
            "right": null,
            "top": null,
            "visibility": null,
            "width": null
          }
        },
        "366abbde5d124bfb86b6456b787e2885": {
          "model_module": "@jupyter-widgets/controls",
          "model_name": "ProgressStyleModel",
          "model_module_version": "1.5.0",
          "state": {
            "_model_module": "@jupyter-widgets/controls",
            "_model_module_version": "1.5.0",
            "_model_name": "ProgressStyleModel",
            "_view_count": null,
            "_view_module": "@jupyter-widgets/base",
            "_view_module_version": "1.2.0",
            "_view_name": "StyleView",
            "bar_color": null,
            "description_width": ""
          }
        },
        "888900164a864faca49f74f8de536260": {
          "model_module": "@jupyter-widgets/base",
          "model_name": "LayoutModel",
          "model_module_version": "1.2.0",
          "state": {
            "_model_module": "@jupyter-widgets/base",
            "_model_module_version": "1.2.0",
            "_model_name": "LayoutModel",
            "_view_count": null,
            "_view_module": "@jupyter-widgets/base",
            "_view_module_version": "1.2.0",
            "_view_name": "LayoutView",
            "align_content": null,
            "align_items": null,
            "align_self": null,
            "border": null,
            "bottom": null,
            "display": null,
            "flex": null,
            "flex_flow": null,
            "grid_area": null,
            "grid_auto_columns": null,
            "grid_auto_flow": null,
            "grid_auto_rows": null,
            "grid_column": null,
            "grid_gap": null,
            "grid_row": null,
            "grid_template_areas": null,
            "grid_template_columns": null,
            "grid_template_rows": null,
            "height": null,
            "justify_content": null,
            "justify_items": null,
            "left": null,
            "margin": null,
            "max_height": null,
            "max_width": null,
            "min_height": null,
            "min_width": null,
            "object_fit": null,
            "object_position": null,
            "order": null,
            "overflow": null,
            "overflow_x": null,
            "overflow_y": null,
            "padding": null,
            "right": null,
            "top": null,
            "visibility": null,
            "width": null
          }
        },
        "f6020dd9920b4fe99864bf5476f15da4": {
          "model_module": "@jupyter-widgets/controls",
          "model_name": "DescriptionStyleModel",
          "model_module_version": "1.5.0",
          "state": {
            "_model_module": "@jupyter-widgets/controls",
            "_model_module_version": "1.5.0",
            "_model_name": "DescriptionStyleModel",
            "_view_count": null,
            "_view_module": "@jupyter-widgets/base",
            "_view_module_version": "1.2.0",
            "_view_name": "StyleView",
            "description_width": ""
          }
        },
        "cbbfbcea56464e02b966949810ecd75e": {
          "model_module": "@jupyter-widgets/controls",
          "model_name": "HBoxModel",
          "model_module_version": "1.5.0",
          "state": {
            "_dom_classes": [],
            "_model_module": "@jupyter-widgets/controls",
            "_model_module_version": "1.5.0",
            "_model_name": "HBoxModel",
            "_view_count": null,
            "_view_module": "@jupyter-widgets/controls",
            "_view_module_version": "1.5.0",
            "_view_name": "HBoxView",
            "box_style": "",
            "children": [
              "IPY_MODEL_7dd24aa87d0c4e5d98df54078827d42f",
              "IPY_MODEL_ee8810c69d6e4f92a3947a148bf3263f",
              "IPY_MODEL_92cf982cf6074fcd9757db353c15e235"
            ],
            "layout": "IPY_MODEL_f02cd7ae40904a3ea394da1ea0ce6517"
          }
        },
        "7dd24aa87d0c4e5d98df54078827d42f": {
          "model_module": "@jupyter-widgets/controls",
          "model_name": "HTMLModel",
          "model_module_version": "1.5.0",
          "state": {
            "_dom_classes": [],
            "_model_module": "@jupyter-widgets/controls",
            "_model_module_version": "1.5.0",
            "_model_name": "HTMLModel",
            "_view_count": null,
            "_view_module": "@jupyter-widgets/controls",
            "_view_module_version": "1.5.0",
            "_view_name": "HTMLView",
            "description": "",
            "description_tooltip": null,
            "layout": "IPY_MODEL_784c1c2ea64d49f081a6222f898d31b4",
            "placeholder": "​",
            "style": "IPY_MODEL_2947d76bb91b4e42bac56d620c12504b",
            "value": "100%"
          }
        },
        "ee8810c69d6e4f92a3947a148bf3263f": {
          "model_module": "@jupyter-widgets/controls",
          "model_name": "FloatProgressModel",
          "model_module_version": "1.5.0",
          "state": {
            "_dom_classes": [],
            "_model_module": "@jupyter-widgets/controls",
            "_model_module_version": "1.5.0",
            "_model_name": "FloatProgressModel",
            "_view_count": null,
            "_view_module": "@jupyter-widgets/controls",
            "_view_module_version": "1.5.0",
            "_view_name": "ProgressView",
            "bar_style": "success",
            "description": "",
            "description_tooltip": null,
            "layout": "IPY_MODEL_a2ce5558252743fea4d584002d6991ff",
            "max": 500,
            "min": 0,
            "orientation": "horizontal",
            "style": "IPY_MODEL_30121ffbf30d45c89f5a633c734f6e71",
            "value": 500
          }
        },
        "92cf982cf6074fcd9757db353c15e235": {
          "model_module": "@jupyter-widgets/controls",
          "model_name": "HTMLModel",
          "model_module_version": "1.5.0",
          "state": {
            "_dom_classes": [],
            "_model_module": "@jupyter-widgets/controls",
            "_model_module_version": "1.5.0",
            "_model_name": "HTMLModel",
            "_view_count": null,
            "_view_module": "@jupyter-widgets/controls",
            "_view_module_version": "1.5.0",
            "_view_name": "HTMLView",
            "description": "",
            "description_tooltip": null,
            "layout": "IPY_MODEL_4984ad4595ba477ebe2ad076fa0f6208",
            "placeholder": "​",
            "style": "IPY_MODEL_37ddd5ae82764476b8158f32fa310c2b",
            "value": " 500/500 [11:08&lt;00:00,  1.26s/it]"
          }
        },
        "f02cd7ae40904a3ea394da1ea0ce6517": {
          "model_module": "@jupyter-widgets/base",
          "model_name": "LayoutModel",
          "model_module_version": "1.2.0",
          "state": {
            "_model_module": "@jupyter-widgets/base",
            "_model_module_version": "1.2.0",
            "_model_name": "LayoutModel",
            "_view_count": null,
            "_view_module": "@jupyter-widgets/base",
            "_view_module_version": "1.2.0",
            "_view_name": "LayoutView",
            "align_content": null,
            "align_items": null,
            "align_self": null,
            "border": null,
            "bottom": null,
            "display": null,
            "flex": null,
            "flex_flow": null,
            "grid_area": null,
            "grid_auto_columns": null,
            "grid_auto_flow": null,
            "grid_auto_rows": null,
            "grid_column": null,
            "grid_gap": null,
            "grid_row": null,
            "grid_template_areas": null,
            "grid_template_columns": null,
            "grid_template_rows": null,
            "height": null,
            "justify_content": null,
            "justify_items": null,
            "left": null,
            "margin": null,
            "max_height": null,
            "max_width": null,
            "min_height": null,
            "min_width": null,
            "object_fit": null,
            "object_position": null,
            "order": null,
            "overflow": null,
            "overflow_x": null,
            "overflow_y": null,
            "padding": null,
            "right": null,
            "top": null,
            "visibility": null,
            "width": null
          }
        },
        "784c1c2ea64d49f081a6222f898d31b4": {
          "model_module": "@jupyter-widgets/base",
          "model_name": "LayoutModel",
          "model_module_version": "1.2.0",
          "state": {
            "_model_module": "@jupyter-widgets/base",
            "_model_module_version": "1.2.0",
            "_model_name": "LayoutModel",
            "_view_count": null,
            "_view_module": "@jupyter-widgets/base",
            "_view_module_version": "1.2.0",
            "_view_name": "LayoutView",
            "align_content": null,
            "align_items": null,
            "align_self": null,
            "border": null,
            "bottom": null,
            "display": null,
            "flex": null,
            "flex_flow": null,
            "grid_area": null,
            "grid_auto_columns": null,
            "grid_auto_flow": null,
            "grid_auto_rows": null,
            "grid_column": null,
            "grid_gap": null,
            "grid_row": null,
            "grid_template_areas": null,
            "grid_template_columns": null,
            "grid_template_rows": null,
            "height": null,
            "justify_content": null,
            "justify_items": null,
            "left": null,
            "margin": null,
            "max_height": null,
            "max_width": null,
            "min_height": null,
            "min_width": null,
            "object_fit": null,
            "object_position": null,
            "order": null,
            "overflow": null,
            "overflow_x": null,
            "overflow_y": null,
            "padding": null,
            "right": null,
            "top": null,
            "visibility": null,
            "width": null
          }
        },
        "2947d76bb91b4e42bac56d620c12504b": {
          "model_module": "@jupyter-widgets/controls",
          "model_name": "DescriptionStyleModel",
          "model_module_version": "1.5.0",
          "state": {
            "_model_module": "@jupyter-widgets/controls",
            "_model_module_version": "1.5.0",
            "_model_name": "DescriptionStyleModel",
            "_view_count": null,
            "_view_module": "@jupyter-widgets/base",
            "_view_module_version": "1.2.0",
            "_view_name": "StyleView",
            "description_width": ""
          }
        },
        "a2ce5558252743fea4d584002d6991ff": {
          "model_module": "@jupyter-widgets/base",
          "model_name": "LayoutModel",
          "model_module_version": "1.2.0",
          "state": {
            "_model_module": "@jupyter-widgets/base",
            "_model_module_version": "1.2.0",
            "_model_name": "LayoutModel",
            "_view_count": null,
            "_view_module": "@jupyter-widgets/base",
            "_view_module_version": "1.2.0",
            "_view_name": "LayoutView",
            "align_content": null,
            "align_items": null,
            "align_self": null,
            "border": null,
            "bottom": null,
            "display": null,
            "flex": null,
            "flex_flow": null,
            "grid_area": null,
            "grid_auto_columns": null,
            "grid_auto_flow": null,
            "grid_auto_rows": null,
            "grid_column": null,
            "grid_gap": null,
            "grid_row": null,
            "grid_template_areas": null,
            "grid_template_columns": null,
            "grid_template_rows": null,
            "height": null,
            "justify_content": null,
            "justify_items": null,
            "left": null,
            "margin": null,
            "max_height": null,
            "max_width": null,
            "min_height": null,
            "min_width": null,
            "object_fit": null,
            "object_position": null,
            "order": null,
            "overflow": null,
            "overflow_x": null,
            "overflow_y": null,
            "padding": null,
            "right": null,
            "top": null,
            "visibility": null,
            "width": null
          }
        },
        "30121ffbf30d45c89f5a633c734f6e71": {
          "model_module": "@jupyter-widgets/controls",
          "model_name": "ProgressStyleModel",
          "model_module_version": "1.5.0",
          "state": {
            "_model_module": "@jupyter-widgets/controls",
            "_model_module_version": "1.5.0",
            "_model_name": "ProgressStyleModel",
            "_view_count": null,
            "_view_module": "@jupyter-widgets/base",
            "_view_module_version": "1.2.0",
            "_view_name": "StyleView",
            "bar_color": null,
            "description_width": ""
          }
        },
        "4984ad4595ba477ebe2ad076fa0f6208": {
          "model_module": "@jupyter-widgets/base",
          "model_name": "LayoutModel",
          "model_module_version": "1.2.0",
          "state": {
            "_model_module": "@jupyter-widgets/base",
            "_model_module_version": "1.2.0",
            "_model_name": "LayoutModel",
            "_view_count": null,
            "_view_module": "@jupyter-widgets/base",
            "_view_module_version": "1.2.0",
            "_view_name": "LayoutView",
            "align_content": null,
            "align_items": null,
            "align_self": null,
            "border": null,
            "bottom": null,
            "display": null,
            "flex": null,
            "flex_flow": null,
            "grid_area": null,
            "grid_auto_columns": null,
            "grid_auto_flow": null,
            "grid_auto_rows": null,
            "grid_column": null,
            "grid_gap": null,
            "grid_row": null,
            "grid_template_areas": null,
            "grid_template_columns": null,
            "grid_template_rows": null,
            "height": null,
            "justify_content": null,
            "justify_items": null,
            "left": null,
            "margin": null,
            "max_height": null,
            "max_width": null,
            "min_height": null,
            "min_width": null,
            "object_fit": null,
            "object_position": null,
            "order": null,
            "overflow": null,
            "overflow_x": null,
            "overflow_y": null,
            "padding": null,
            "right": null,
            "top": null,
            "visibility": null,
            "width": null
          }
        },
        "37ddd5ae82764476b8158f32fa310c2b": {
          "model_module": "@jupyter-widgets/controls",
          "model_name": "DescriptionStyleModel",
          "model_module_version": "1.5.0",
          "state": {
            "_model_module": "@jupyter-widgets/controls",
            "_model_module_version": "1.5.0",
            "_model_name": "DescriptionStyleModel",
            "_view_count": null,
            "_view_module": "@jupyter-widgets/base",
            "_view_module_version": "1.2.0",
            "_view_name": "StyleView",
            "description_width": ""
          }
        },
        "3b0503592f794c2a92900994511b9fa9": {
          "model_module": "@jupyter-widgets/controls",
          "model_name": "HBoxModel",
          "model_module_version": "1.5.0",
          "state": {
            "_dom_classes": [],
            "_model_module": "@jupyter-widgets/controls",
            "_model_module_version": "1.5.0",
            "_model_name": "HBoxModel",
            "_view_count": null,
            "_view_module": "@jupyter-widgets/controls",
            "_view_module_version": "1.5.0",
            "_view_name": "HBoxView",
            "box_style": "",
            "children": [
              "IPY_MODEL_f9d0a415b8de4bc9a3f93888b4566a4a",
              "IPY_MODEL_4cd6ec9a8d2a406395ee1e3c7ec083e9",
              "IPY_MODEL_87458993528c4e8e9fa5ca0886a7718c"
            ],
            "layout": "IPY_MODEL_f6af3c46fcc34b509578b8ba2bffce59"
          }
        },
        "f9d0a415b8de4bc9a3f93888b4566a4a": {
          "model_module": "@jupyter-widgets/controls",
          "model_name": "HTMLModel",
          "model_module_version": "1.5.0",
          "state": {
            "_dom_classes": [],
            "_model_module": "@jupyter-widgets/controls",
            "_model_module_version": "1.5.0",
            "_model_name": "HTMLModel",
            "_view_count": null,
            "_view_module": "@jupyter-widgets/controls",
            "_view_module_version": "1.5.0",
            "_view_name": "HTMLView",
            "description": "",
            "description_tooltip": null,
            "layout": "IPY_MODEL_ab70bfb59a5343f4aecf2ec9ebda199a",
            "placeholder": "​",
            "style": "IPY_MODEL_02311ff6bde94bbbb10ff0eb78ee7a0a",
            "value": "Downloading (…)lve/main/config.json: 100%"
          }
        },
        "4cd6ec9a8d2a406395ee1e3c7ec083e9": {
          "model_module": "@jupyter-widgets/controls",
          "model_name": "FloatProgressModel",
          "model_module_version": "1.5.0",
          "state": {
            "_dom_classes": [],
            "_model_module": "@jupyter-widgets/controls",
            "_model_module_version": "1.5.0",
            "_model_name": "FloatProgressModel",
            "_view_count": null,
            "_view_module": "@jupyter-widgets/controls",
            "_view_module_version": "1.5.0",
            "_view_name": "ProgressView",
            "bar_style": "success",
            "description": "",
            "description_tooltip": null,
            "layout": "IPY_MODEL_57ac8b9599dc4eb5bf9c1d8efc40a881",
            "max": 629,
            "min": 0,
            "orientation": "horizontal",
            "style": "IPY_MODEL_c33a6ea1e7be4b37bccdce28d619b731",
            "value": 629
          }
        },
        "87458993528c4e8e9fa5ca0886a7718c": {
          "model_module": "@jupyter-widgets/controls",
          "model_name": "HTMLModel",
          "model_module_version": "1.5.0",
          "state": {
            "_dom_classes": [],
            "_model_module": "@jupyter-widgets/controls",
            "_model_module_version": "1.5.0",
            "_model_name": "HTMLModel",
            "_view_count": null,
            "_view_module": "@jupyter-widgets/controls",
            "_view_module_version": "1.5.0",
            "_view_name": "HTMLView",
            "description": "",
            "description_tooltip": null,
            "layout": "IPY_MODEL_a6c32bdbcfe0425ebad3c595445d9b8a",
            "placeholder": "​",
            "style": "IPY_MODEL_2617de104d9940a8a0fbacfaac251385",
            "value": " 629/629 [00:00&lt;00:00, 29.9kB/s]"
          }
        },
        "f6af3c46fcc34b509578b8ba2bffce59": {
          "model_module": "@jupyter-widgets/base",
          "model_name": "LayoutModel",
          "model_module_version": "1.2.0",
          "state": {
            "_model_module": "@jupyter-widgets/base",
            "_model_module_version": "1.2.0",
            "_model_name": "LayoutModel",
            "_view_count": null,
            "_view_module": "@jupyter-widgets/base",
            "_view_module_version": "1.2.0",
            "_view_name": "LayoutView",
            "align_content": null,
            "align_items": null,
            "align_self": null,
            "border": null,
            "bottom": null,
            "display": null,
            "flex": null,
            "flex_flow": null,
            "grid_area": null,
            "grid_auto_columns": null,
            "grid_auto_flow": null,
            "grid_auto_rows": null,
            "grid_column": null,
            "grid_gap": null,
            "grid_row": null,
            "grid_template_areas": null,
            "grid_template_columns": null,
            "grid_template_rows": null,
            "height": null,
            "justify_content": null,
            "justify_items": null,
            "left": null,
            "margin": null,
            "max_height": null,
            "max_width": null,
            "min_height": null,
            "min_width": null,
            "object_fit": null,
            "object_position": null,
            "order": null,
            "overflow": null,
            "overflow_x": null,
            "overflow_y": null,
            "padding": null,
            "right": null,
            "top": null,
            "visibility": null,
            "width": null
          }
        },
        "ab70bfb59a5343f4aecf2ec9ebda199a": {
          "model_module": "@jupyter-widgets/base",
          "model_name": "LayoutModel",
          "model_module_version": "1.2.0",
          "state": {
            "_model_module": "@jupyter-widgets/base",
            "_model_module_version": "1.2.0",
            "_model_name": "LayoutModel",
            "_view_count": null,
            "_view_module": "@jupyter-widgets/base",
            "_view_module_version": "1.2.0",
            "_view_name": "LayoutView",
            "align_content": null,
            "align_items": null,
            "align_self": null,
            "border": null,
            "bottom": null,
            "display": null,
            "flex": null,
            "flex_flow": null,
            "grid_area": null,
            "grid_auto_columns": null,
            "grid_auto_flow": null,
            "grid_auto_rows": null,
            "grid_column": null,
            "grid_gap": null,
            "grid_row": null,
            "grid_template_areas": null,
            "grid_template_columns": null,
            "grid_template_rows": null,
            "height": null,
            "justify_content": null,
            "justify_items": null,
            "left": null,
            "margin": null,
            "max_height": null,
            "max_width": null,
            "min_height": null,
            "min_width": null,
            "object_fit": null,
            "object_position": null,
            "order": null,
            "overflow": null,
            "overflow_x": null,
            "overflow_y": null,
            "padding": null,
            "right": null,
            "top": null,
            "visibility": null,
            "width": null
          }
        },
        "02311ff6bde94bbbb10ff0eb78ee7a0a": {
          "model_module": "@jupyter-widgets/controls",
          "model_name": "DescriptionStyleModel",
          "model_module_version": "1.5.0",
          "state": {
            "_model_module": "@jupyter-widgets/controls",
            "_model_module_version": "1.5.0",
            "_model_name": "DescriptionStyleModel",
            "_view_count": null,
            "_view_module": "@jupyter-widgets/base",
            "_view_module_version": "1.2.0",
            "_view_name": "StyleView",
            "description_width": ""
          }
        },
        "57ac8b9599dc4eb5bf9c1d8efc40a881": {
          "model_module": "@jupyter-widgets/base",
          "model_name": "LayoutModel",
          "model_module_version": "1.2.0",
          "state": {
            "_model_module": "@jupyter-widgets/base",
            "_model_module_version": "1.2.0",
            "_model_name": "LayoutModel",
            "_view_count": null,
            "_view_module": "@jupyter-widgets/base",
            "_view_module_version": "1.2.0",
            "_view_name": "LayoutView",
            "align_content": null,
            "align_items": null,
            "align_self": null,
            "border": null,
            "bottom": null,
            "display": null,
            "flex": null,
            "flex_flow": null,
            "grid_area": null,
            "grid_auto_columns": null,
            "grid_auto_flow": null,
            "grid_auto_rows": null,
            "grid_column": null,
            "grid_gap": null,
            "grid_row": null,
            "grid_template_areas": null,
            "grid_template_columns": null,
            "grid_template_rows": null,
            "height": null,
            "justify_content": null,
            "justify_items": null,
            "left": null,
            "margin": null,
            "max_height": null,
            "max_width": null,
            "min_height": null,
            "min_width": null,
            "object_fit": null,
            "object_position": null,
            "order": null,
            "overflow": null,
            "overflow_x": null,
            "overflow_y": null,
            "padding": null,
            "right": null,
            "top": null,
            "visibility": null,
            "width": null
          }
        },
        "c33a6ea1e7be4b37bccdce28d619b731": {
          "model_module": "@jupyter-widgets/controls",
          "model_name": "ProgressStyleModel",
          "model_module_version": "1.5.0",
          "state": {
            "_model_module": "@jupyter-widgets/controls",
            "_model_module_version": "1.5.0",
            "_model_name": "ProgressStyleModel",
            "_view_count": null,
            "_view_module": "@jupyter-widgets/base",
            "_view_module_version": "1.2.0",
            "_view_name": "StyleView",
            "bar_color": null,
            "description_width": ""
          }
        },
        "a6c32bdbcfe0425ebad3c595445d9b8a": {
          "model_module": "@jupyter-widgets/base",
          "model_name": "LayoutModel",
          "model_module_version": "1.2.0",
          "state": {
            "_model_module": "@jupyter-widgets/base",
            "_model_module_version": "1.2.0",
            "_model_name": "LayoutModel",
            "_view_count": null,
            "_view_module": "@jupyter-widgets/base",
            "_view_module_version": "1.2.0",
            "_view_name": "LayoutView",
            "align_content": null,
            "align_items": null,
            "align_self": null,
            "border": null,
            "bottom": null,
            "display": null,
            "flex": null,
            "flex_flow": null,
            "grid_area": null,
            "grid_auto_columns": null,
            "grid_auto_flow": null,
            "grid_auto_rows": null,
            "grid_column": null,
            "grid_gap": null,
            "grid_row": null,
            "grid_template_areas": null,
            "grid_template_columns": null,
            "grid_template_rows": null,
            "height": null,
            "justify_content": null,
            "justify_items": null,
            "left": null,
            "margin": null,
            "max_height": null,
            "max_width": null,
            "min_height": null,
            "min_width": null,
            "object_fit": null,
            "object_position": null,
            "order": null,
            "overflow": null,
            "overflow_x": null,
            "overflow_y": null,
            "padding": null,
            "right": null,
            "top": null,
            "visibility": null,
            "width": null
          }
        },
        "2617de104d9940a8a0fbacfaac251385": {
          "model_module": "@jupyter-widgets/controls",
          "model_name": "DescriptionStyleModel",
          "model_module_version": "1.5.0",
          "state": {
            "_model_module": "@jupyter-widgets/controls",
            "_model_module_version": "1.5.0",
            "_model_name": "DescriptionStyleModel",
            "_view_count": null,
            "_view_module": "@jupyter-widgets/base",
            "_view_module_version": "1.2.0",
            "_view_name": "StyleView",
            "description_width": ""
          }
        },
        "2a2f9cb6deab4c428efb31008308e068": {
          "model_module": "@jupyter-widgets/controls",
          "model_name": "HBoxModel",
          "model_module_version": "1.5.0",
          "state": {
            "_dom_classes": [],
            "_model_module": "@jupyter-widgets/controls",
            "_model_module_version": "1.5.0",
            "_model_name": "HBoxModel",
            "_view_count": null,
            "_view_module": "@jupyter-widgets/controls",
            "_view_module_version": "1.5.0",
            "_view_name": "HBoxView",
            "box_style": "",
            "children": [
              "IPY_MODEL_46513054476342bdaf88e989ed5caf71",
              "IPY_MODEL_7ab59080c3b5426581cf76c3734a367c",
              "IPY_MODEL_0e8d3d02eb5645159319df486eb8e5be"
            ],
            "layout": "IPY_MODEL_e4cb8154c3c64732bc0401ae06b2fa3e"
          }
        },
        "46513054476342bdaf88e989ed5caf71": {
          "model_module": "@jupyter-widgets/controls",
          "model_name": "HTMLModel",
          "model_module_version": "1.5.0",
          "state": {
            "_dom_classes": [],
            "_model_module": "@jupyter-widgets/controls",
            "_model_module_version": "1.5.0",
            "_model_name": "HTMLModel",
            "_view_count": null,
            "_view_module": "@jupyter-widgets/controls",
            "_view_module_version": "1.5.0",
            "_view_name": "HTMLView",
            "description": "",
            "description_tooltip": null,
            "layout": "IPY_MODEL_a34060492fa04ba29d909799e94552e7",
            "placeholder": "​",
            "style": "IPY_MODEL_6d873ce261b74f9caace61af7093d81f",
            "value": "Downloading pytorch_model.bin: 100%"
          }
        },
        "7ab59080c3b5426581cf76c3734a367c": {
          "model_module": "@jupyter-widgets/controls",
          "model_name": "FloatProgressModel",
          "model_module_version": "1.5.0",
          "state": {
            "_dom_classes": [],
            "_model_module": "@jupyter-widgets/controls",
            "_model_module_version": "1.5.0",
            "_model_name": "FloatProgressModel",
            "_view_count": null,
            "_view_module": "@jupyter-widgets/controls",
            "_view_module_version": "1.5.0",
            "_view_name": "ProgressView",
            "bar_style": "success",
            "description": "",
            "description_tooltip": null,
            "layout": "IPY_MODEL_2d431625d817449988ce2cc52f49f228",
            "max": 267844284,
            "min": 0,
            "orientation": "horizontal",
            "style": "IPY_MODEL_b11a0bb81dba4754817d72a8b34a5f00",
            "value": 267844284
          }
        },
        "0e8d3d02eb5645159319df486eb8e5be": {
          "model_module": "@jupyter-widgets/controls",
          "model_name": "HTMLModel",
          "model_module_version": "1.5.0",
          "state": {
            "_dom_classes": [],
            "_model_module": "@jupyter-widgets/controls",
            "_model_module_version": "1.5.0",
            "_model_name": "HTMLModel",
            "_view_count": null,
            "_view_module": "@jupyter-widgets/controls",
            "_view_module_version": "1.5.0",
            "_view_name": "HTMLView",
            "description": "",
            "description_tooltip": null,
            "layout": "IPY_MODEL_fad288f861704002ba7297e84c869b8d",
            "placeholder": "​",
            "style": "IPY_MODEL_3309d7fc4eff4267bbee7b67f74e48b1",
            "value": " 268M/268M [00:01&lt;00:00, 183MB/s]"
          }
        },
        "e4cb8154c3c64732bc0401ae06b2fa3e": {
          "model_module": "@jupyter-widgets/base",
          "model_name": "LayoutModel",
          "model_module_version": "1.2.0",
          "state": {
            "_model_module": "@jupyter-widgets/base",
            "_model_module_version": "1.2.0",
            "_model_name": "LayoutModel",
            "_view_count": null,
            "_view_module": "@jupyter-widgets/base",
            "_view_module_version": "1.2.0",
            "_view_name": "LayoutView",
            "align_content": null,
            "align_items": null,
            "align_self": null,
            "border": null,
            "bottom": null,
            "display": null,
            "flex": null,
            "flex_flow": null,
            "grid_area": null,
            "grid_auto_columns": null,
            "grid_auto_flow": null,
            "grid_auto_rows": null,
            "grid_column": null,
            "grid_gap": null,
            "grid_row": null,
            "grid_template_areas": null,
            "grid_template_columns": null,
            "grid_template_rows": null,
            "height": null,
            "justify_content": null,
            "justify_items": null,
            "left": null,
            "margin": null,
            "max_height": null,
            "max_width": null,
            "min_height": null,
            "min_width": null,
            "object_fit": null,
            "object_position": null,
            "order": null,
            "overflow": null,
            "overflow_x": null,
            "overflow_y": null,
            "padding": null,
            "right": null,
            "top": null,
            "visibility": null,
            "width": null
          }
        },
        "a34060492fa04ba29d909799e94552e7": {
          "model_module": "@jupyter-widgets/base",
          "model_name": "LayoutModel",
          "model_module_version": "1.2.0",
          "state": {
            "_model_module": "@jupyter-widgets/base",
            "_model_module_version": "1.2.0",
            "_model_name": "LayoutModel",
            "_view_count": null,
            "_view_module": "@jupyter-widgets/base",
            "_view_module_version": "1.2.0",
            "_view_name": "LayoutView",
            "align_content": null,
            "align_items": null,
            "align_self": null,
            "border": null,
            "bottom": null,
            "display": null,
            "flex": null,
            "flex_flow": null,
            "grid_area": null,
            "grid_auto_columns": null,
            "grid_auto_flow": null,
            "grid_auto_rows": null,
            "grid_column": null,
            "grid_gap": null,
            "grid_row": null,
            "grid_template_areas": null,
            "grid_template_columns": null,
            "grid_template_rows": null,
            "height": null,
            "justify_content": null,
            "justify_items": null,
            "left": null,
            "margin": null,
            "max_height": null,
            "max_width": null,
            "min_height": null,
            "min_width": null,
            "object_fit": null,
            "object_position": null,
            "order": null,
            "overflow": null,
            "overflow_x": null,
            "overflow_y": null,
            "padding": null,
            "right": null,
            "top": null,
            "visibility": null,
            "width": null
          }
        },
        "6d873ce261b74f9caace61af7093d81f": {
          "model_module": "@jupyter-widgets/controls",
          "model_name": "DescriptionStyleModel",
          "model_module_version": "1.5.0",
          "state": {
            "_model_module": "@jupyter-widgets/controls",
            "_model_module_version": "1.5.0",
            "_model_name": "DescriptionStyleModel",
            "_view_count": null,
            "_view_module": "@jupyter-widgets/base",
            "_view_module_version": "1.2.0",
            "_view_name": "StyleView",
            "description_width": ""
          }
        },
        "2d431625d817449988ce2cc52f49f228": {
          "model_module": "@jupyter-widgets/base",
          "model_name": "LayoutModel",
          "model_module_version": "1.2.0",
          "state": {
            "_model_module": "@jupyter-widgets/base",
            "_model_module_version": "1.2.0",
            "_model_name": "LayoutModel",
            "_view_count": null,
            "_view_module": "@jupyter-widgets/base",
            "_view_module_version": "1.2.0",
            "_view_name": "LayoutView",
            "align_content": null,
            "align_items": null,
            "align_self": null,
            "border": null,
            "bottom": null,
            "display": null,
            "flex": null,
            "flex_flow": null,
            "grid_area": null,
            "grid_auto_columns": null,
            "grid_auto_flow": null,
            "grid_auto_rows": null,
            "grid_column": null,
            "grid_gap": null,
            "grid_row": null,
            "grid_template_areas": null,
            "grid_template_columns": null,
            "grid_template_rows": null,
            "height": null,
            "justify_content": null,
            "justify_items": null,
            "left": null,
            "margin": null,
            "max_height": null,
            "max_width": null,
            "min_height": null,
            "min_width": null,
            "object_fit": null,
            "object_position": null,
            "order": null,
            "overflow": null,
            "overflow_x": null,
            "overflow_y": null,
            "padding": null,
            "right": null,
            "top": null,
            "visibility": null,
            "width": null
          }
        },
        "b11a0bb81dba4754817d72a8b34a5f00": {
          "model_module": "@jupyter-widgets/controls",
          "model_name": "ProgressStyleModel",
          "model_module_version": "1.5.0",
          "state": {
            "_model_module": "@jupyter-widgets/controls",
            "_model_module_version": "1.5.0",
            "_model_name": "ProgressStyleModel",
            "_view_count": null,
            "_view_module": "@jupyter-widgets/base",
            "_view_module_version": "1.2.0",
            "_view_name": "StyleView",
            "bar_color": null,
            "description_width": ""
          }
        },
        "fad288f861704002ba7297e84c869b8d": {
          "model_module": "@jupyter-widgets/base",
          "model_name": "LayoutModel",
          "model_module_version": "1.2.0",
          "state": {
            "_model_module": "@jupyter-widgets/base",
            "_model_module_version": "1.2.0",
            "_model_name": "LayoutModel",
            "_view_count": null,
            "_view_module": "@jupyter-widgets/base",
            "_view_module_version": "1.2.0",
            "_view_name": "LayoutView",
            "align_content": null,
            "align_items": null,
            "align_self": null,
            "border": null,
            "bottom": null,
            "display": null,
            "flex": null,
            "flex_flow": null,
            "grid_area": null,
            "grid_auto_columns": null,
            "grid_auto_flow": null,
            "grid_auto_rows": null,
            "grid_column": null,
            "grid_gap": null,
            "grid_row": null,
            "grid_template_areas": null,
            "grid_template_columns": null,
            "grid_template_rows": null,
            "height": null,
            "justify_content": null,
            "justify_items": null,
            "left": null,
            "margin": null,
            "max_height": null,
            "max_width": null,
            "min_height": null,
            "min_width": null,
            "object_fit": null,
            "object_position": null,
            "order": null,
            "overflow": null,
            "overflow_x": null,
            "overflow_y": null,
            "padding": null,
            "right": null,
            "top": null,
            "visibility": null,
            "width": null
          }
        },
        "3309d7fc4eff4267bbee7b67f74e48b1": {
          "model_module": "@jupyter-widgets/controls",
          "model_name": "DescriptionStyleModel",
          "model_module_version": "1.5.0",
          "state": {
            "_model_module": "@jupyter-widgets/controls",
            "_model_module_version": "1.5.0",
            "_model_name": "DescriptionStyleModel",
            "_view_count": null,
            "_view_module": "@jupyter-widgets/base",
            "_view_module_version": "1.2.0",
            "_view_name": "StyleView",
            "description_width": ""
          }
        },
        "a012447ac81c4f49ab4ec90521f880ac": {
          "model_module": "@jupyter-widgets/controls",
          "model_name": "HBoxModel",
          "model_module_version": "1.5.0",
          "state": {
            "_dom_classes": [],
            "_model_module": "@jupyter-widgets/controls",
            "_model_module_version": "1.5.0",
            "_model_name": "HBoxModel",
            "_view_count": null,
            "_view_module": "@jupyter-widgets/controls",
            "_view_module_version": "1.5.0",
            "_view_name": "HBoxView",
            "box_style": "",
            "children": [
              "IPY_MODEL_a9a686af9d5f4924a0667b9d5d8dc385",
              "IPY_MODEL_011f95900c094718a13a1fa9ccfd4c58",
              "IPY_MODEL_688b65def9314ac7bd292079480e5d7a"
            ],
            "layout": "IPY_MODEL_e37249176c3b4f0eb4e7819a6c6dc3e2"
          }
        },
        "a9a686af9d5f4924a0667b9d5d8dc385": {
          "model_module": "@jupyter-widgets/controls",
          "model_name": "HTMLModel",
          "model_module_version": "1.5.0",
          "state": {
            "_dom_classes": [],
            "_model_module": "@jupyter-widgets/controls",
            "_model_module_version": "1.5.0",
            "_model_name": "HTMLModel",
            "_view_count": null,
            "_view_module": "@jupyter-widgets/controls",
            "_view_module_version": "1.5.0",
            "_view_name": "HTMLView",
            "description": "",
            "description_tooltip": null,
            "layout": "IPY_MODEL_b08672fae80645beb639c1a845569f13",
            "placeholder": "​",
            "style": "IPY_MODEL_4b1ea1ec123b4462aba9b8547605cdcc",
            "value": "Downloading (…)okenizer_config.json: 100%"
          }
        },
        "011f95900c094718a13a1fa9ccfd4c58": {
          "model_module": "@jupyter-widgets/controls",
          "model_name": "FloatProgressModel",
          "model_module_version": "1.5.0",
          "state": {
            "_dom_classes": [],
            "_model_module": "@jupyter-widgets/controls",
            "_model_module_version": "1.5.0",
            "_model_name": "FloatProgressModel",
            "_view_count": null,
            "_view_module": "@jupyter-widgets/controls",
            "_view_module_version": "1.5.0",
            "_view_name": "ProgressView",
            "bar_style": "success",
            "description": "",
            "description_tooltip": null,
            "layout": "IPY_MODEL_97519898b7454a7a8793d1b4d7dfe24e",
            "max": 48,
            "min": 0,
            "orientation": "horizontal",
            "style": "IPY_MODEL_4cf1f5bcd9cf439db5150ce4b3542316",
            "value": 48
          }
        },
        "688b65def9314ac7bd292079480e5d7a": {
          "model_module": "@jupyter-widgets/controls",
          "model_name": "HTMLModel",
          "model_module_version": "1.5.0",
          "state": {
            "_dom_classes": [],
            "_model_module": "@jupyter-widgets/controls",
            "_model_module_version": "1.5.0",
            "_model_name": "HTMLModel",
            "_view_count": null,
            "_view_module": "@jupyter-widgets/controls",
            "_view_module_version": "1.5.0",
            "_view_name": "HTMLView",
            "description": "",
            "description_tooltip": null,
            "layout": "IPY_MODEL_3b2671f03a044335a79dc84e91a8169f",
            "placeholder": "​",
            "style": "IPY_MODEL_3f384ca09c5b4c90be98d4552de85838",
            "value": " 48.0/48.0 [00:00&lt;00:00, 2.31kB/s]"
          }
        },
        "e37249176c3b4f0eb4e7819a6c6dc3e2": {
          "model_module": "@jupyter-widgets/base",
          "model_name": "LayoutModel",
          "model_module_version": "1.2.0",
          "state": {
            "_model_module": "@jupyter-widgets/base",
            "_model_module_version": "1.2.0",
            "_model_name": "LayoutModel",
            "_view_count": null,
            "_view_module": "@jupyter-widgets/base",
            "_view_module_version": "1.2.0",
            "_view_name": "LayoutView",
            "align_content": null,
            "align_items": null,
            "align_self": null,
            "border": null,
            "bottom": null,
            "display": null,
            "flex": null,
            "flex_flow": null,
            "grid_area": null,
            "grid_auto_columns": null,
            "grid_auto_flow": null,
            "grid_auto_rows": null,
            "grid_column": null,
            "grid_gap": null,
            "grid_row": null,
            "grid_template_areas": null,
            "grid_template_columns": null,
            "grid_template_rows": null,
            "height": null,
            "justify_content": null,
            "justify_items": null,
            "left": null,
            "margin": null,
            "max_height": null,
            "max_width": null,
            "min_height": null,
            "min_width": null,
            "object_fit": null,
            "object_position": null,
            "order": null,
            "overflow": null,
            "overflow_x": null,
            "overflow_y": null,
            "padding": null,
            "right": null,
            "top": null,
            "visibility": null,
            "width": null
          }
        },
        "b08672fae80645beb639c1a845569f13": {
          "model_module": "@jupyter-widgets/base",
          "model_name": "LayoutModel",
          "model_module_version": "1.2.0",
          "state": {
            "_model_module": "@jupyter-widgets/base",
            "_model_module_version": "1.2.0",
            "_model_name": "LayoutModel",
            "_view_count": null,
            "_view_module": "@jupyter-widgets/base",
            "_view_module_version": "1.2.0",
            "_view_name": "LayoutView",
            "align_content": null,
            "align_items": null,
            "align_self": null,
            "border": null,
            "bottom": null,
            "display": null,
            "flex": null,
            "flex_flow": null,
            "grid_area": null,
            "grid_auto_columns": null,
            "grid_auto_flow": null,
            "grid_auto_rows": null,
            "grid_column": null,
            "grid_gap": null,
            "grid_row": null,
            "grid_template_areas": null,
            "grid_template_columns": null,
            "grid_template_rows": null,
            "height": null,
            "justify_content": null,
            "justify_items": null,
            "left": null,
            "margin": null,
            "max_height": null,
            "max_width": null,
            "min_height": null,
            "min_width": null,
            "object_fit": null,
            "object_position": null,
            "order": null,
            "overflow": null,
            "overflow_x": null,
            "overflow_y": null,
            "padding": null,
            "right": null,
            "top": null,
            "visibility": null,
            "width": null
          }
        },
        "4b1ea1ec123b4462aba9b8547605cdcc": {
          "model_module": "@jupyter-widgets/controls",
          "model_name": "DescriptionStyleModel",
          "model_module_version": "1.5.0",
          "state": {
            "_model_module": "@jupyter-widgets/controls",
            "_model_module_version": "1.5.0",
            "_model_name": "DescriptionStyleModel",
            "_view_count": null,
            "_view_module": "@jupyter-widgets/base",
            "_view_module_version": "1.2.0",
            "_view_name": "StyleView",
            "description_width": ""
          }
        },
        "97519898b7454a7a8793d1b4d7dfe24e": {
          "model_module": "@jupyter-widgets/base",
          "model_name": "LayoutModel",
          "model_module_version": "1.2.0",
          "state": {
            "_model_module": "@jupyter-widgets/base",
            "_model_module_version": "1.2.0",
            "_model_name": "LayoutModel",
            "_view_count": null,
            "_view_module": "@jupyter-widgets/base",
            "_view_module_version": "1.2.0",
            "_view_name": "LayoutView",
            "align_content": null,
            "align_items": null,
            "align_self": null,
            "border": null,
            "bottom": null,
            "display": null,
            "flex": null,
            "flex_flow": null,
            "grid_area": null,
            "grid_auto_columns": null,
            "grid_auto_flow": null,
            "grid_auto_rows": null,
            "grid_column": null,
            "grid_gap": null,
            "grid_row": null,
            "grid_template_areas": null,
            "grid_template_columns": null,
            "grid_template_rows": null,
            "height": null,
            "justify_content": null,
            "justify_items": null,
            "left": null,
            "margin": null,
            "max_height": null,
            "max_width": null,
            "min_height": null,
            "min_width": null,
            "object_fit": null,
            "object_position": null,
            "order": null,
            "overflow": null,
            "overflow_x": null,
            "overflow_y": null,
            "padding": null,
            "right": null,
            "top": null,
            "visibility": null,
            "width": null
          }
        },
        "4cf1f5bcd9cf439db5150ce4b3542316": {
          "model_module": "@jupyter-widgets/controls",
          "model_name": "ProgressStyleModel",
          "model_module_version": "1.5.0",
          "state": {
            "_model_module": "@jupyter-widgets/controls",
            "_model_module_version": "1.5.0",
            "_model_name": "ProgressStyleModel",
            "_view_count": null,
            "_view_module": "@jupyter-widgets/base",
            "_view_module_version": "1.2.0",
            "_view_name": "StyleView",
            "bar_color": null,
            "description_width": ""
          }
        },
        "3b2671f03a044335a79dc84e91a8169f": {
          "model_module": "@jupyter-widgets/base",
          "model_name": "LayoutModel",
          "model_module_version": "1.2.0",
          "state": {
            "_model_module": "@jupyter-widgets/base",
            "_model_module_version": "1.2.0",
            "_model_name": "LayoutModel",
            "_view_count": null,
            "_view_module": "@jupyter-widgets/base",
            "_view_module_version": "1.2.0",
            "_view_name": "LayoutView",
            "align_content": null,
            "align_items": null,
            "align_self": null,
            "border": null,
            "bottom": null,
            "display": null,
            "flex": null,
            "flex_flow": null,
            "grid_area": null,
            "grid_auto_columns": null,
            "grid_auto_flow": null,
            "grid_auto_rows": null,
            "grid_column": null,
            "grid_gap": null,
            "grid_row": null,
            "grid_template_areas": null,
            "grid_template_columns": null,
            "grid_template_rows": null,
            "height": null,
            "justify_content": null,
            "justify_items": null,
            "left": null,
            "margin": null,
            "max_height": null,
            "max_width": null,
            "min_height": null,
            "min_width": null,
            "object_fit": null,
            "object_position": null,
            "order": null,
            "overflow": null,
            "overflow_x": null,
            "overflow_y": null,
            "padding": null,
            "right": null,
            "top": null,
            "visibility": null,
            "width": null
          }
        },
        "3f384ca09c5b4c90be98d4552de85838": {
          "model_module": "@jupyter-widgets/controls",
          "model_name": "DescriptionStyleModel",
          "model_module_version": "1.5.0",
          "state": {
            "_model_module": "@jupyter-widgets/controls",
            "_model_module_version": "1.5.0",
            "_model_name": "DescriptionStyleModel",
            "_view_count": null,
            "_view_module": "@jupyter-widgets/base",
            "_view_module_version": "1.2.0",
            "_view_name": "StyleView",
            "description_width": ""
          }
        },
        "6e007999743d4b83b7720a3f37790ed0": {
          "model_module": "@jupyter-widgets/controls",
          "model_name": "HBoxModel",
          "model_module_version": "1.5.0",
          "state": {
            "_dom_classes": [],
            "_model_module": "@jupyter-widgets/controls",
            "_model_module_version": "1.5.0",
            "_model_name": "HBoxModel",
            "_view_count": null,
            "_view_module": "@jupyter-widgets/controls",
            "_view_module_version": "1.5.0",
            "_view_name": "HBoxView",
            "box_style": "",
            "children": [
              "IPY_MODEL_d43d7208c7874bfd8eb5ab989aebaf99",
              "IPY_MODEL_3be3287e02cf4dd09e3f5eaff226b043",
              "IPY_MODEL_53ebdede44bc4ae79c61d9ea4f620feb"
            ],
            "layout": "IPY_MODEL_b66be7d7c06e4606aef13d7489dba760"
          }
        },
        "d43d7208c7874bfd8eb5ab989aebaf99": {
          "model_module": "@jupyter-widgets/controls",
          "model_name": "HTMLModel",
          "model_module_version": "1.5.0",
          "state": {
            "_dom_classes": [],
            "_model_module": "@jupyter-widgets/controls",
            "_model_module_version": "1.5.0",
            "_model_name": "HTMLModel",
            "_view_count": null,
            "_view_module": "@jupyter-widgets/controls",
            "_view_module_version": "1.5.0",
            "_view_name": "HTMLView",
            "description": "",
            "description_tooltip": null,
            "layout": "IPY_MODEL_2a90e823ab9f4f4cb62cefb845a67c05",
            "placeholder": "​",
            "style": "IPY_MODEL_cf287ce050ac471783b67915ecc1270b",
            "value": "Downloading (…)solve/main/vocab.txt: 100%"
          }
        },
        "3be3287e02cf4dd09e3f5eaff226b043": {
          "model_module": "@jupyter-widgets/controls",
          "model_name": "FloatProgressModel",
          "model_module_version": "1.5.0",
          "state": {
            "_dom_classes": [],
            "_model_module": "@jupyter-widgets/controls",
            "_model_module_version": "1.5.0",
            "_model_name": "FloatProgressModel",
            "_view_count": null,
            "_view_module": "@jupyter-widgets/controls",
            "_view_module_version": "1.5.0",
            "_view_name": "ProgressView",
            "bar_style": "success",
            "description": "",
            "description_tooltip": null,
            "layout": "IPY_MODEL_3f828c4086644d6dae73b5d921568123",
            "max": 231508,
            "min": 0,
            "orientation": "horizontal",
            "style": "IPY_MODEL_fdf9060b68674003a45d40ae9f8a4370",
            "value": 231508
          }
        },
        "53ebdede44bc4ae79c61d9ea4f620feb": {
          "model_module": "@jupyter-widgets/controls",
          "model_name": "HTMLModel",
          "model_module_version": "1.5.0",
          "state": {
            "_dom_classes": [],
            "_model_module": "@jupyter-widgets/controls",
            "_model_module_version": "1.5.0",
            "_model_name": "HTMLModel",
            "_view_count": null,
            "_view_module": "@jupyter-widgets/controls",
            "_view_module_version": "1.5.0",
            "_view_name": "HTMLView",
            "description": "",
            "description_tooltip": null,
            "layout": "IPY_MODEL_e82a18acbf514c5c902234c4f5744b67",
            "placeholder": "​",
            "style": "IPY_MODEL_5c444f1296b94aa197869046c35abfa6",
            "value": " 232k/232k [00:00&lt;00:00, 7.46MB/s]"
          }
        },
        "b66be7d7c06e4606aef13d7489dba760": {
          "model_module": "@jupyter-widgets/base",
          "model_name": "LayoutModel",
          "model_module_version": "1.2.0",
          "state": {
            "_model_module": "@jupyter-widgets/base",
            "_model_module_version": "1.2.0",
            "_model_name": "LayoutModel",
            "_view_count": null,
            "_view_module": "@jupyter-widgets/base",
            "_view_module_version": "1.2.0",
            "_view_name": "LayoutView",
            "align_content": null,
            "align_items": null,
            "align_self": null,
            "border": null,
            "bottom": null,
            "display": null,
            "flex": null,
            "flex_flow": null,
            "grid_area": null,
            "grid_auto_columns": null,
            "grid_auto_flow": null,
            "grid_auto_rows": null,
            "grid_column": null,
            "grid_gap": null,
            "grid_row": null,
            "grid_template_areas": null,
            "grid_template_columns": null,
            "grid_template_rows": null,
            "height": null,
            "justify_content": null,
            "justify_items": null,
            "left": null,
            "margin": null,
            "max_height": null,
            "max_width": null,
            "min_height": null,
            "min_width": null,
            "object_fit": null,
            "object_position": null,
            "order": null,
            "overflow": null,
            "overflow_x": null,
            "overflow_y": null,
            "padding": null,
            "right": null,
            "top": null,
            "visibility": null,
            "width": null
          }
        },
        "2a90e823ab9f4f4cb62cefb845a67c05": {
          "model_module": "@jupyter-widgets/base",
          "model_name": "LayoutModel",
          "model_module_version": "1.2.0",
          "state": {
            "_model_module": "@jupyter-widgets/base",
            "_model_module_version": "1.2.0",
            "_model_name": "LayoutModel",
            "_view_count": null,
            "_view_module": "@jupyter-widgets/base",
            "_view_module_version": "1.2.0",
            "_view_name": "LayoutView",
            "align_content": null,
            "align_items": null,
            "align_self": null,
            "border": null,
            "bottom": null,
            "display": null,
            "flex": null,
            "flex_flow": null,
            "grid_area": null,
            "grid_auto_columns": null,
            "grid_auto_flow": null,
            "grid_auto_rows": null,
            "grid_column": null,
            "grid_gap": null,
            "grid_row": null,
            "grid_template_areas": null,
            "grid_template_columns": null,
            "grid_template_rows": null,
            "height": null,
            "justify_content": null,
            "justify_items": null,
            "left": null,
            "margin": null,
            "max_height": null,
            "max_width": null,
            "min_height": null,
            "min_width": null,
            "object_fit": null,
            "object_position": null,
            "order": null,
            "overflow": null,
            "overflow_x": null,
            "overflow_y": null,
            "padding": null,
            "right": null,
            "top": null,
            "visibility": null,
            "width": null
          }
        },
        "cf287ce050ac471783b67915ecc1270b": {
          "model_module": "@jupyter-widgets/controls",
          "model_name": "DescriptionStyleModel",
          "model_module_version": "1.5.0",
          "state": {
            "_model_module": "@jupyter-widgets/controls",
            "_model_module_version": "1.5.0",
            "_model_name": "DescriptionStyleModel",
            "_view_count": null,
            "_view_module": "@jupyter-widgets/base",
            "_view_module_version": "1.2.0",
            "_view_name": "StyleView",
            "description_width": ""
          }
        },
        "3f828c4086644d6dae73b5d921568123": {
          "model_module": "@jupyter-widgets/base",
          "model_name": "LayoutModel",
          "model_module_version": "1.2.0",
          "state": {
            "_model_module": "@jupyter-widgets/base",
            "_model_module_version": "1.2.0",
            "_model_name": "LayoutModel",
            "_view_count": null,
            "_view_module": "@jupyter-widgets/base",
            "_view_module_version": "1.2.0",
            "_view_name": "LayoutView",
            "align_content": null,
            "align_items": null,
            "align_self": null,
            "border": null,
            "bottom": null,
            "display": null,
            "flex": null,
            "flex_flow": null,
            "grid_area": null,
            "grid_auto_columns": null,
            "grid_auto_flow": null,
            "grid_auto_rows": null,
            "grid_column": null,
            "grid_gap": null,
            "grid_row": null,
            "grid_template_areas": null,
            "grid_template_columns": null,
            "grid_template_rows": null,
            "height": null,
            "justify_content": null,
            "justify_items": null,
            "left": null,
            "margin": null,
            "max_height": null,
            "max_width": null,
            "min_height": null,
            "min_width": null,
            "object_fit": null,
            "object_position": null,
            "order": null,
            "overflow": null,
            "overflow_x": null,
            "overflow_y": null,
            "padding": null,
            "right": null,
            "top": null,
            "visibility": null,
            "width": null
          }
        },
        "fdf9060b68674003a45d40ae9f8a4370": {
          "model_module": "@jupyter-widgets/controls",
          "model_name": "ProgressStyleModel",
          "model_module_version": "1.5.0",
          "state": {
            "_model_module": "@jupyter-widgets/controls",
            "_model_module_version": "1.5.0",
            "_model_name": "ProgressStyleModel",
            "_view_count": null,
            "_view_module": "@jupyter-widgets/base",
            "_view_module_version": "1.2.0",
            "_view_name": "StyleView",
            "bar_color": null,
            "description_width": ""
          }
        },
        "e82a18acbf514c5c902234c4f5744b67": {
          "model_module": "@jupyter-widgets/base",
          "model_name": "LayoutModel",
          "model_module_version": "1.2.0",
          "state": {
            "_model_module": "@jupyter-widgets/base",
            "_model_module_version": "1.2.0",
            "_model_name": "LayoutModel",
            "_view_count": null,
            "_view_module": "@jupyter-widgets/base",
            "_view_module_version": "1.2.0",
            "_view_name": "LayoutView",
            "align_content": null,
            "align_items": null,
            "align_self": null,
            "border": null,
            "bottom": null,
            "display": null,
            "flex": null,
            "flex_flow": null,
            "grid_area": null,
            "grid_auto_columns": null,
            "grid_auto_flow": null,
            "grid_auto_rows": null,
            "grid_column": null,
            "grid_gap": null,
            "grid_row": null,
            "grid_template_areas": null,
            "grid_template_columns": null,
            "grid_template_rows": null,
            "height": null,
            "justify_content": null,
            "justify_items": null,
            "left": null,
            "margin": null,
            "max_height": null,
            "max_width": null,
            "min_height": null,
            "min_width": null,
            "object_fit": null,
            "object_position": null,
            "order": null,
            "overflow": null,
            "overflow_x": null,
            "overflow_y": null,
            "padding": null,
            "right": null,
            "top": null,
            "visibility": null,
            "width": null
          }
        },
        "5c444f1296b94aa197869046c35abfa6": {
          "model_module": "@jupyter-widgets/controls",
          "model_name": "DescriptionStyleModel",
          "model_module_version": "1.5.0",
          "state": {
            "_model_module": "@jupyter-widgets/controls",
            "_model_module_version": "1.5.0",
            "_model_name": "DescriptionStyleModel",
            "_view_count": null,
            "_view_module": "@jupyter-widgets/base",
            "_view_module_version": "1.2.0",
            "_view_name": "StyleView",
            "description_width": ""
          }
        }
      }
    }
  },
  "nbformat": 4,
  "nbformat_minor": 5
}